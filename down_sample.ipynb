{
 "cells": [
  {
   "cell_type": "code",
   "execution_count": 1,
   "metadata": {},
   "outputs": [],
   "source": [
    "from obspy import read\n",
    "import matplotlib.pyplot as plt\n",
    "import obspy\n",
    "from obspy.clients.fdsn import Client\n",
    "from obspy import UTCDateTime\n",
    "from obspy.core import AttribDict\n",
    "from obspy.io.sac import SACTrace\n",
    "import numpy as np\n",
    "import matplotlib.pylab as plt\n",
    "import os\n",
    "import pandas as pd\n",
    "import shutil\n",
    "from tqdm import tqdm\n",
    "import warnings\n",
    "from obspy import read_inventory, UTCDateTime\n",
    "from obspy.core.inventory import Inventory, Network, Station, Channel, Site"
   ]
  },
  {
   "cell_type": "code",
   "execution_count": 3,
   "metadata": {},
   "outputs": [
    {
     "name": "stdout",
     "output_type": "stream",
     "text": [
      "1 Trace(s) in Stream:\n",
      "IU.PTCN.00.BHZ | 2001-12-01T00:00:00.036000Z - 2001-12-01T23:59:59.036000Z | 1.0 Hz, 86400 samples\n"
     ]
    }
   ],
   "source": [
    "# check the sample rate of a sac file and downsample\n",
    "sr_new = 1\n",
    "abnormal_sac_files = ['/gpfs/fs2/scratch/tolugboj_lab/Prj4c_OJP/2_Data/OJ/fetch_NOISE-master/island_networks/output_island/IU/IU/PTCN/PTCN.2002.043.00.00.00.BHZ.sac',\n",
    "                      '/scratch/tolugboj_lab/Prj4c_OJP/2_Data/OJ/fetch_NOISE-master/island_networks/output_island/IU/IU/AFI/AFI.2001.335.00.00.00.BHZ.sac',\n",
    "                     '/scratch/tolugboj_lab/Prj4c_OJP/2_Data/OJ/fetch_NOISE-master/island_networks/output_island/II/II/MSVF/MSVF.2018.106.00.00.00.BHZ.sac',\n",
    "                     '/gpfs/fs2/scratch/tolugboj_lab/Prj4c_OJP/2_Data/OJ/fetch_NOISE-master/removed_response_output/IU/PTCN_IU/PTCN_IU.2001.335.00.00.00.BHZ.sac']\n",
    "\n",
    "# See the date of the first file in abnormal_sac_files to enter 'time' below.\n",
    "st = read(abnormal_sac_files[3],format=\"SAC\")\n",
    "sr = st[0].stats.sampling_rate\n",
    "st = st.decimate(factor=int(sr/sr_new), no_filter=True) # downsample\n",
    "print(st)"
   ]
  },
  {
   "cell_type": "code",
   "execution_count": 2,
   "metadata": {},
   "outputs": [
    {
     "name": "stdout",
     "output_type": "stream",
     "text": [
      "3775\n"
     ]
    },
    {
     "name": "stderr",
     "output_type": "stream",
     "text": [
      "  0%|          | 3/3775 [00:10<2:58:00,  2.83s/it] "
     ]
    },
    {
     "name": "stdout",
     "output_type": "stream",
     "text": [
      "1 Trace(s) in Stream:\n",
      "Z4.CP08..BHZ | 2013-02-10T00:00:00.005400Z - 2013-02-10T23:59:59.005400Z | 1.0 Hz, 86400 samples\n",
      "1 Trace(s) in Stream:\n",
      "Z4.CP08..BH2 | 2013-03-06T00:00:00.018100Z - 2013-03-06T23:59:59.018100Z | 1.0 Hz, 86400 samples\n",
      "1 Trace(s) in Stream:\n",
      "Z4.CP08..BHZ | 2012-09-30T00:00:00.014500Z - 2012-09-30T23:59:59.014500Z | 1.0 Hz, 86400 samples\n",
      "1 Trace(s) in Stream:\n",
      "Z4.CP08..BHZ | 2012-08-16T00:00:00.003300Z - 2012-08-16T23:59:59.003300Z | 1.0 Hz, 86400 samples\n"
     ]
    },
    {
     "name": "stderr",
     "output_type": "stream",
     "text": [
      "  0%|          | 9/3775 [00:11<33:52,  1.85it/s]  "
     ]
    },
    {
     "name": "stdout",
     "output_type": "stream",
     "text": [
      "1 Trace(s) in Stream:\n",
      "Z4.CP08..BHZ | 2012-08-23T00:00:00.002900Z - 2012-08-23T23:59:59.002900Z | 1.0 Hz, 86400 samples\n",
      "1 Trace(s) in Stream:\n",
      "Z4.CP08..BHZ | 2013-02-03T00:00:00.005900Z - 2013-02-03T23:59:59.005900Z | 1.0 Hz, 86400 samples\n",
      "1 Trace(s) in Stream:\n",
      "Z4.CP08..BH2 | 2012-10-28T00:00:00.012600Z - 2012-10-28T23:59:59.012600Z | 1.0 Hz, 86400 samples\n",
      "1 Trace(s) in Stream:\n",
      "Z4.CP08..BH2 | 2012-07-24T00:00:00.012000Z - 2012-07-24T23:59:59.012000Z | 1.0 Hz, 86400 samples\n",
      "1 Trace(s) in Stream:\n",
      "Z4.CP08..BH2 | 2012-05-17T00:00:00.009600Z - 2012-05-17T23:59:59.009600Z | 1.0 Hz, 86400 samples\n"
     ]
    },
    {
     "name": "stderr",
     "output_type": "stream",
     "text": [
      "  0%|          | 14/3775 [00:11<14:38,  4.28it/s]"
     ]
    },
    {
     "name": "stdout",
     "output_type": "stream",
     "text": [
      "1 Trace(s) in Stream:\n",
      "Z4.CP08..BH2 | 2012-12-12T00:00:00.023800Z - 2012-12-12T23:59:59.023800Z | 1.0 Hz, 86400 samples\n",
      "1 Trace(s) in Stream:\n",
      "Z4.CP08..BH2 | 2012-07-26T00:00:00.004800Z - 2012-07-26T23:59:59.004800Z | 1.0 Hz, 86400 samples\n",
      "1 Trace(s) in Stream:\n",
      "Z4.CP08..BH2 | 2013-01-26T00:00:00.010000Z - 2013-01-26T23:59:59.010000Z | 1.0 Hz, 86400 samples\n",
      "1 Trace(s) in Stream:\n",
      "Z4.CP08..BH2 | 2013-01-16T00:00:00.021400Z - 2013-01-16T23:59:59.021400Z | 1.0 Hz, 86400 samples\n",
      "1 Trace(s) in Stream:\n",
      "Z4.CP08..BH1 | 2012-12-14T00:00:00.016600Z - 2012-12-14T23:59:59.016600Z | 1.0 Hz, 86400 samples\n",
      "1 Trace(s) in Stream:\n",
      "Z4.CP08..BH2 | 2012-08-29T00:00:00.006000Z - 2012-08-29T23:59:59.006000Z | 1.0 Hz, 86400 samples\n"
     ]
    },
    {
     "name": "stderr",
     "output_type": "stream",
     "text": [
      "\r",
      "  0%|          | 17/3775 [00:11<10:15,  6.10it/s]"
     ]
    },
    {
     "name": "stdout",
     "output_type": "stream",
     "text": [
      "1 Trace(s) in Stream:\n",
      "Z4.CP08..BHZ | 2012-10-26T00:00:00.019900Z - 2012-10-26T23:59:59.019900Z | 1.0 Hz, 86400 samples\n",
      "1 Trace(s) in Stream:\n",
      "Z4.CP08..BH2 | 2013-02-18T00:00:00.001300Z - 2013-02-18T23:59:59.001300Z | 1.0 Hz, 86400 samples\n",
      "1 Trace(s) in Stream:\n",
      "Z4.CP08..BH1 | 2012-07-01T00:00:00.020800Z - 2012-07-01T23:59:59.020800Z | 1.0 Hz, 86400 samples\n"
     ]
    },
    {
     "name": "stderr",
     "output_type": "stream",
     "text": [
      "  1%|          | 22/3775 [00:11<06:43,  9.31it/s]"
     ]
    },
    {
     "name": "stdout",
     "output_type": "stream",
     "text": [
      "1 Trace(s) in Stream:\n",
      "Z4.CP08..BHZ | 2012-12-14T00:00:00.016600Z - 2012-12-14T23:59:59.016600Z | 1.0 Hz, 86400 samples\n",
      "1 Trace(s) in Stream:\n",
      "Z4.CP08..BHZ | 2012-08-01T00:00:00.007900Z - 2012-08-01T23:59:59.007900Z | 1.0 Hz, 86400 samples\n",
      "1 Trace(s) in Stream:\n",
      "Z4.CP08..BH2 | 2012-10-07T00:00:00.014100Z - 2012-10-07T23:59:59.014100Z | 1.0 Hz, 86400 samples\n",
      "1 Trace(s) in Stream:\n",
      "Z4.CP08..BH2 | 2012-07-20T00:00:00.001600Z - 2012-07-20T23:59:59.001600Z | 1.0 Hz, 86400 samples\n",
      "1 Trace(s) in Stream:\n",
      "Z4.CP08..BHZ | 2012-07-16T00:00:00.016200Z - 2012-07-16T23:59:59.016200Z | 1.0 Hz, 86400 samples\n"
     ]
    },
    {
     "name": "stderr",
     "output_type": "stream",
     "text": [
      "  1%|          | 26/3775 [00:12<05:06, 12.25it/s]"
     ]
    },
    {
     "name": "stdout",
     "output_type": "stream",
     "text": [
      "1 Trace(s) in Stream:\n",
      "Z4.CP08..BHZ | 2012-10-14T00:00:00.013600Z - 2012-10-14T23:59:59.013600Z | 1.0 Hz, 86400 samples\n",
      "1 Trace(s) in Stream:\n",
      "Z4.CP08..BH2 | 2013-01-05T00:00:00.011500Z - 2013-01-05T23:59:59.011500Z | 1.0 Hz, 86400 samples\n",
      "1 Trace(s) in Stream:\n",
      "Z4.CP08..BH2 | 2012-06-11T00:00:00.018600Z - 2012-06-11T23:59:59.018600Z | 1.0 Hz, 86400 samples\n",
      "1 Trace(s) in Stream:\n",
      "Z4.CP08..BH2 | 2012-09-15T00:00:00.019100Z - 2012-09-15T23:59:59.019100Z | 1.0 Hz, 86400 samples\n"
     ]
    },
    {
     "name": "stderr",
     "output_type": "stream",
     "text": [
      "  1%|          | 30/3775 [00:12<04:10, 14.98it/s]"
     ]
    },
    {
     "name": "stdout",
     "output_type": "stream",
     "text": [
      "1 Trace(s) in Stream:\n",
      "Z4.CP08..BH2 | 2012-09-09T00:00:00.016000Z - 2012-09-09T23:59:59.016000Z | 1.0 Hz, 86400 samples\n",
      "1 Trace(s) in Stream:\n",
      "Z4.CP08..BHZ | 2012-07-15T00:00:00.019800Z - 2012-07-15T23:59:59.019800Z | 1.0 Hz, 86400 samples\n",
      "1 Trace(s) in Stream:\n",
      "Z4.CP08..BH2 | 2012-07-18T00:00:00.008900Z - 2012-07-18T23:59:59.008900Z | 1.0 Hz, 86400 samples\n",
      "1 Trace(s) in Stream:\n",
      "Z4.CP08..BH2 | 2012-12-14T00:00:00.016600Z - 2012-12-14T23:59:59.016600Z | 1.0 Hz, 86400 samples\n",
      "1 Trace(s) in Stream:\n",
      "Z4.CP08..BH1 | 2012-08-02T00:00:00.004300Z - 2012-08-02T23:59:59.004300Z | 1.0 Hz, 86400 samples\n",
      "1 Trace(s) in Stream:\n",
      "Z4.CP08..BH2 | 2013-02-10T00:00:00.005400Z - 2013-02-10T23:59:59.005400Z | 1.0 Hz, 86400 samples\n"
     ]
    },
    {
     "name": "stderr",
     "output_type": "stream",
     "text": [
      "  1%|          | 37/3775 [00:12<03:41, 16.86it/s]"
     ]
    },
    {
     "name": "stdout",
     "output_type": "stream",
     "text": [
      "1 Trace(s) in Stream:\n",
      "Z4.CP08..BH2 | 2012-05-27T00:00:00.023200Z - 2012-05-27T23:59:59.023200Z | 1.0 Hz, 86400 samples\n",
      "1 Trace(s) in Stream:\n",
      "Z4.CP08..BH1 | 2012-12-15T00:00:00.012900Z - 2012-12-15T23:59:59.012900Z | 1.0 Hz, 86400 samples\n",
      "1 Trace(s) in Stream:\n",
      "Z4.CP08..BH2 | 2012-06-30T00:00:00.024400Z - 2012-06-30T23:59:59.024400Z | 1.0 Hz, 86400 samples\n",
      "1 Trace(s) in Stream:\n",
      "Z4.CP08..BH1 | 2012-12-05T00:00:00.024300Z - 2012-12-05T23:59:59.024300Z | 1.0 Hz, 86400 samples\n"
     ]
    },
    {
     "name": "stderr",
     "output_type": "stream",
     "text": [
      "  1%|          | 41/3775 [00:12<03:28, 17.95it/s]"
     ]
    },
    {
     "name": "stdout",
     "output_type": "stream",
     "text": [
      "1 Trace(s) in Stream:\n",
      "Z4.CP08..BH1 | 2012-09-18T00:00:00.008200Z - 2012-09-18T23:59:59.008200Z | 1.0 Hz, 86400 samples\n",
      "1 Trace(s) in Stream:\n",
      "Z4.CP08..BH1 | 2012-08-14T00:00:00.010600Z - 2012-08-14T23:59:59.010600Z | 1.0 Hz, 86400 samples\n",
      "1 Trace(s) in Stream:\n",
      "Z4.CP08..BH2 | 2013-02-12T00:00:00.023200Z - 2013-02-12T23:59:59.023200Z | 1.0 Hz, 86400 samples\n",
      "1 Trace(s) in Stream:\n",
      "Z4.CP08..BH1 | 2013-01-14T00:00:00.003700Z - 2013-01-14T23:59:59.003700Z | 1.0 Hz, 86400 samples\n"
     ]
    },
    {
     "name": "stderr",
     "output_type": "stream",
     "text": [
      "  1%|          | 45/3775 [00:13<03:41, 16.82it/s]"
     ]
    },
    {
     "name": "stdout",
     "output_type": "stream",
     "text": [
      "1 Trace(s) in Stream:\n",
      "Z4.CP08..BH2 | 2012-11-03T00:00:00.015800Z - 2012-11-03T23:59:59.015800Z | 1.0 Hz, 86400 samples\n",
      "1 Trace(s) in Stream:\n",
      "Z4.CP08..BH1 | 2013-03-09T00:00:00.007200Z - 2013-03-09T23:59:59.007200Z | 1.0 Hz, 86400 samples\n",
      "1 Trace(s) in Stream:\n",
      "Z4.CP08..BH2 | 2013-02-16T00:00:00.008600Z - 2013-02-16T23:59:59.008600Z | 1.0 Hz, 86400 samples\n",
      "1 Trace(s) in Stream:\n",
      "Z4.CP08..BH2 | 2012-09-16T00:00:00.015500Z - 2012-09-16T23:59:59.015500Z | 1.0 Hz, 86400 samples\n",
      "1 Trace(s) in Stream:\n",
      "Z4.CP08..BH1 | 2012-11-14T00:00:00.000800Z - 2012-11-14T23:59:59.000800Z | 1.0 Hz, 86400 samples\n"
     ]
    },
    {
     "name": "stderr",
     "output_type": "stream",
     "text": [
      "  1%|▏         | 50/3775 [00:13<03:24, 18.18it/s]"
     ]
    },
    {
     "name": "stdout",
     "output_type": "stream",
     "text": [
      "1 Trace(s) in Stream:\n",
      "Z4.CP08..BH1 | 2012-11-20T00:00:00.003900Z - 2012-11-20T23:59:59.003900Z | 1.0 Hz, 86400 samples\n",
      "1 Trace(s) in Stream:\n",
      "Z4.CP08..BH2 | 2012-10-02T00:00:00.007300Z - 2012-10-02T23:59:59.007300Z | 1.0 Hz, 86400 samples\n",
      "1 Trace(s) in Stream:\n",
      "Z4.CP08..BHZ | 2012-10-07T00:00:00.014100Z - 2012-10-07T23:59:59.014100Z | 1.0 Hz, 86400 samples\n",
      "1 Trace(s) in Stream:\n",
      "Z4.CP08..BH1 | 2012-11-02T00:00:00.019400Z - 2012-11-02T23:59:59.019400Z | 1.0 Hz, 86400 samples\n"
     ]
    },
    {
     "name": "stderr",
     "output_type": "stream",
     "text": [
      "  1%|▏         | 54/3775 [00:13<03:20, 18.54it/s]"
     ]
    },
    {
     "name": "stdout",
     "output_type": "stream",
     "text": [
      "1 Trace(s) in Stream:\n",
      "Z4.CP08..BH2 | 2013-02-05T00:00:00.023600Z - 2013-02-05T23:59:59.023600Z | 1.0 Hz, 86400 samples\n",
      "1 Trace(s) in Stream:\n",
      "Z4.CP08..BH1 | 2012-11-06T00:00:00.004900Z - 2012-11-06T23:59:59.004900Z | 1.0 Hz, 86400 samples\n",
      "1 Trace(s) in Stream:\n",
      "Z4.CP08..BH1 | 2012-08-13T00:00:00.014300Z - 2012-08-13T23:59:59.014300Z | 1.0 Hz, 86400 samples\n",
      "1 Trace(s) in Stream:\n",
      "Z4.CP08..BH1 | 2012-11-13T00:00:00.004400Z - 2012-11-13T23:59:59.004400Z | 1.0 Hz, 86400 samples\n"
     ]
    },
    {
     "name": "stderr",
     "output_type": "stream",
     "text": [
      "\r",
      "  1%|▏         | 56/3775 [00:13<03:28, 17.87it/s]"
     ]
    },
    {
     "name": "stdout",
     "output_type": "stream",
     "text": [
      "1 Trace(s) in Stream:\n",
      "Z4.CP08..BH2 | 2012-07-05T00:00:00.006200Z - 2012-07-05T23:59:59.006200Z | 1.0 Hz, 86400 samples\n",
      "1 Trace(s) in Stream:\n",
      "Z4.CP08..BH1 | 2012-10-08T00:00:00.010400Z - 2012-10-08T23:59:59.010400Z | 1.0 Hz, 86400 samples\n",
      "1 Trace(s) in Stream:\n",
      "Z4.CP08..BH1 | 2013-02-06T00:00:00.020000Z - 2013-02-06T23:59:59.020000Z | 1.0 Hz, 86400 samples\n"
     ]
    },
    {
     "name": "stderr",
     "output_type": "stream",
     "text": [
      "  2%|▏         | 61/3775 [00:14<03:30, 17.61it/s]"
     ]
    },
    {
     "name": "stdout",
     "output_type": "stream",
     "text": [
      "1 Trace(s) in Stream:\n",
      "Z4.CP08..BH2 | 2012-10-27T00:00:00.016300Z - 2012-10-27T23:59:59.016300Z | 1.0 Hz, 86400 samples\n",
      "1 Trace(s) in Stream:\n",
      "Z4.CP08..BH1 | 2013-03-10T00:00:00.003000Z - 2013-03-10T23:59:59.003000Z | 1.0 Hz, 86400 samples\n",
      "1 Trace(s) in Stream:\n",
      "Z4.CP08..BH2 | 2012-12-27T00:00:00.019200Z - 2012-12-27T23:59:59.019200Z | 1.0 Hz, 86400 samples\n",
      "1 Trace(s) in Stream:\n",
      "Z4.CP08..BH2 | 2012-08-22T00:00:00.006500Z - 2012-08-22T23:59:59.006500Z | 1.0 Hz, 86400 samples\n"
     ]
    },
    {
     "name": "stderr",
     "output_type": "stream",
     "text": [
      "  2%|▏         | 65/3775 [00:14<03:22, 18.29it/s]"
     ]
    },
    {
     "name": "stdout",
     "output_type": "stream",
     "text": [
      "1 Trace(s) in Stream:\n",
      "Z4.CP08..BH2 | 2012-07-02T00:00:00.017100Z - 2012-07-02T23:59:59.017100Z | 1.0 Hz, 86400 samples\n",
      "1 Trace(s) in Stream:\n",
      "Z4.CP08..BH2 | 2013-02-01T00:00:00.013200Z - 2013-02-01T23:59:59.013200Z | 1.0 Hz, 86400 samples\n",
      "1 Trace(s) in Stream:\n",
      "Z4.CP08..BHZ | 2012-11-08T00:00:00.022600Z - 2012-11-08T23:59:59.022600Z | 1.0 Hz, 86400 samples\n",
      "1 Trace(s) in Stream:\n",
      "Z4.CP08..BH1 | 2013-02-07T00:00:00.016400Z - 2013-02-07T23:59:59.016400Z | 1.0 Hz, 86400 samples\n",
      "1 Trace(s) in Stream:\n",
      "Z4.CP08..BH1 | 2012-08-25T00:00:00.020600Z - 2012-08-25T23:59:59.020600Z | 1.0 Hz, 86400 samples\n"
     ]
    },
    {
     "name": "stderr",
     "output_type": "stream",
     "text": [
      "  2%|▏         | 69/3775 [00:14<03:24, 18.13it/s]"
     ]
    },
    {
     "name": "stdout",
     "output_type": "stream",
     "text": [
      "1 Trace(s) in Stream:\n",
      "Z4.CP08..BHZ | 2013-02-26T00:00:00.022200Z - 2013-02-26T23:59:59.022200Z | 1.0 Hz, 86400 samples\n",
      "1 Trace(s) in Stream:\n",
      "Z4.CP08..BH2 | 2013-01-27T00:00:00.006400Z - 2013-01-27T23:59:59.006400Z | 1.0 Hz, 86400 samples\n",
      "1 Trace(s) in Stream:\n",
      "Z4.CP08..BH2 | 2012-05-29T00:00:00.015900Z - 2012-05-29T23:59:59.015900Z | 1.0 Hz, 86400 samples\n",
      "1 Trace(s) in Stream:\n",
      "Z4.CP08..BH1 | 2012-06-28T00:00:00.006700Z - 2012-06-28T23:59:59.006700Z | 1.0 Hz, 86400 samples\n",
      "1 Trace(s) in Stream:\n",
      "Z4.CP08..BH1 | 2012-10-16T00:00:00.006300Z - 2012-10-16T23:59:59.006300Z | 1.0 Hz, 86400 samples\n"
     ]
    },
    {
     "name": "stderr",
     "output_type": "stream",
     "text": [
      "  2%|▏         | 76/3775 [00:14<03:18, 18.59it/s]"
     ]
    },
    {
     "name": "stdout",
     "output_type": "stream",
     "text": [
      "1 Trace(s) in Stream:\n",
      "Z4.CP08..BH1 | 2012-12-21T00:00:00.016100Z - 2012-12-21T23:59:59.016100Z | 1.0 Hz, 86400 samples\n",
      "1 Trace(s) in Stream:\n",
      "Z4.CP08..BHZ | 2013-02-04T00:00:00.002300Z - 2013-02-04T23:59:59.002300Z | 1.0 Hz, 86400 samples\n",
      "1 Trace(s) in Stream:\n",
      "Z4.CP08..BH2 | 2012-05-22T00:00:00.016400Z - 2012-05-22T23:59:59.016400Z | 1.0 Hz, 86400 samples\n",
      "1 Trace(s) in Stream:\n",
      "Z4.CP08..BH2 | 2012-06-26T00:00:00.014000Z - 2012-06-26T23:59:59.014000Z | 1.0 Hz, 86400 samples\n",
      "1 Trace(s) in Stream:\n",
      "Z4.CP08..BH2 | 2012-07-22T00:00:00.019300Z - 2012-07-22T23:59:59.019300Z | 1.0 Hz, 86400 samples\n"
     ]
    },
    {
     "name": "stderr",
     "output_type": "stream",
     "text": [
      "  2%|▏         | 80/3775 [00:15<03:15, 18.93it/s]"
     ]
    },
    {
     "name": "stdout",
     "output_type": "stream",
     "text": [
      "1 Trace(s) in Stream:\n",
      "Z4.CP08..BHZ | 2012-07-10T00:00:00.013000Z - 2012-07-10T23:59:59.013000Z | 1.0 Hz, 86400 samples\n",
      "1 Trace(s) in Stream:\n",
      "Z4.CP08..BH1 | 2012-05-21T00:00:00.020000Z - 2012-05-21T23:59:59.020000Z | 1.0 Hz, 86400 samples\n",
      "1 Trace(s) in Stream:\n",
      "Z4.CP08..BHZ | 2013-01-02T00:00:00.021300Z - 2013-01-02T23:59:59.021300Z | 1.0 Hz, 86400 samples\n",
      "1 Trace(s) in Stream:\n",
      "Z4.CP08..BHZ | 2013-03-14T00:00:00.014000Z - 2013-03-14T23:59:59.014000Z | 1.0 Hz, 86400 samples\n"
     ]
    },
    {
     "name": "stderr",
     "output_type": "stream",
     "text": [
      "  2%|▏         | 84/3775 [00:15<03:31, 17.47it/s]"
     ]
    },
    {
     "name": "stdout",
     "output_type": "stream",
     "text": [
      "1 Trace(s) in Stream:\n",
      "Z4.CP08..BH2 | 2012-09-14T00:00:00.022800Z - 2012-09-14T23:59:59.022800Z | 1.0 Hz, 86400 samples\n",
      "1 Trace(s) in Stream:\n",
      "Z4.CP08..BH2 | 2013-02-26T00:00:00.022200Z - 2013-02-26T23:59:59.022200Z | 1.0 Hz, 86400 samples\n",
      "1 Trace(s) in Stream:\n",
      "Z4.CP08..BH2 | 2012-07-25T00:00:00.008400Z - 2012-07-25T23:59:59.008400Z | 1.0 Hz, 86400 samples\n",
      "1 Trace(s) in Stream:\n",
      "Z4.CP08..BHZ | 2012-06-28T00:00:00.006700Z - 2012-06-28T23:59:59.006700Z | 1.0 Hz, 86400 samples\n",
      "1 Trace(s) in Stream:\n",
      "Z4.CP08..BH1 | 2012-06-02T00:00:00.001300Z - 2012-06-02T23:59:59.001300Z | 1.0 Hz, 86400 samples\n"
     ]
    },
    {
     "name": "stderr",
     "output_type": "stream",
     "text": [
      "  2%|▏         | 89/3775 [00:15<03:25, 17.94it/s]"
     ]
    },
    {
     "name": "stdout",
     "output_type": "stream",
     "text": [
      "1 Trace(s) in Stream:\n",
      "Z4.CP08..BHZ | 2012-06-02T00:00:00.001300Z - 2012-06-02T23:59:59.001300Z | 1.0 Hz, 86400 samples\n",
      "1 Trace(s) in Stream:\n",
      "Z4.CP08..BH1 | 2012-08-31T00:00:00.023700Z - 2012-08-31T23:59:59.023700Z | 1.0 Hz, 86400 samples\n",
      "1 Trace(s) in Stream:\n",
      "Z4.CP08..BHZ | 2012-06-14T00:00:00.007600Z - 2012-06-14T23:59:59.007600Z | 1.0 Hz, 86400 samples\n",
      "1 Trace(s) in Stream:\n",
      "Z4.CP08..BH2 | 2012-06-08T00:00:00.004500Z - 2012-06-08T23:59:59.004500Z | 1.0 Hz, 86400 samples\n"
     ]
    },
    {
     "name": "stderr",
     "output_type": "stream",
     "text": [
      "  2%|▏         | 93/3775 [00:15<03:24, 18.03it/s]"
     ]
    },
    {
     "name": "stdout",
     "output_type": "stream",
     "text": [
      "1 Trace(s) in Stream:\n",
      "Z4.CP08..BHZ | 2012-08-18T00:00:00.021100Z - 2012-08-18T23:59:59.021100Z | 1.0 Hz, 86400 samples\n",
      "1 Trace(s) in Stream:\n",
      "Z4.CP08..BH1 | 2013-01-12T00:00:00.011000Z - 2013-01-12T23:59:59.011000Z | 1.0 Hz, 86400 samples\n",
      "1 Trace(s) in Stream:\n",
      "Z4.CP08..BH1 | 2012-09-06T00:00:00.001900Z - 2012-09-06T23:59:59.001900Z | 1.0 Hz, 86400 samples\n",
      "1 Trace(s) in Stream:\n",
      "Z4.CP08..BHZ | 2013-01-06T00:00:00.007800Z - 2013-01-06T23:59:59.007800Z | 1.0 Hz, 86400 samples\n"
     ]
    },
    {
     "name": "stderr",
     "output_type": "stream",
     "text": [
      "\r",
      "  3%|▎         | 95/3775 [00:15<03:21, 18.25it/s]"
     ]
    },
    {
     "name": "stdout",
     "output_type": "stream",
     "text": [
      "1 Trace(s) in Stream:\n",
      "Z4.CP08..BHZ | 2012-05-18T00:00:00.005900Z - 2012-05-18T23:59:59.005900Z | 1.0 Hz, 86400 samples\n",
      "1 Trace(s) in Stream:\n",
      "Z4.CP08..BHZ | 2012-07-23T00:00:00.015700Z - 2012-07-23T23:59:59.015700Z | 1.0 Hz, 86400 samples\n",
      "1 Trace(s) in Stream:\n",
      "Z4.CP08..BH2 | 2012-06-13T00:00:00.011300Z - 2012-06-13T23:59:59.011300Z | 1.0 Hz, 86400 samples\n",
      "1 Trace(s) in Stream:\n",
      "Z4.CP08..BHZ | 2013-01-25T00:00:00.013700Z - 2013-01-25T23:59:59.013700Z | 1.0 Hz, 86400 samples\n",
      "1 Trace(s) in Stream:\n",
      "Z4.CP08..BHZ | 2013-01-13T00:00:00.007400Z - 2013-01-13T23:59:59.007400Z | 1.0 Hz, 86400 samples\n"
     ]
    },
    {
     "name": "stderr",
     "output_type": "stream",
     "text": [
      "  3%|▎         | 102/3775 [00:16<03:17, 18.55it/s]"
     ]
    },
    {
     "name": "stdout",
     "output_type": "stream",
     "text": [
      "1 Trace(s) in Stream:\n",
      "Z4.CP08..BH1 | 2012-11-08T00:00:00.022600Z - 2012-11-08T23:59:59.022600Z | 1.0 Hz, 86400 samples\n",
      "1 Trace(s) in Stream:\n",
      "Z4.CP08..BH2 | 2012-10-30T00:00:00.005300Z - 2012-10-30T23:59:59.005300Z | 1.0 Hz, 86400 samples\n",
      "1 Trace(s) in Stream:\n",
      "Z4.CP08..BH2 | 2012-12-04T00:00:00.003000Z - 2012-12-04T23:59:59.003000Z | 1.0 Hz, 86400 samples\n",
      "1 Trace(s) in Stream:\n",
      "Z4.CP08..BHZ | 2012-07-26T00:00:00.004800Z - 2012-07-26T23:59:59.004800Z | 1.0 Hz, 86400 samples\n"
     ]
    },
    {
     "name": "stderr",
     "output_type": "stream",
     "text": [
      "  3%|▎         | 107/3775 [00:16<03:11, 19.18it/s]"
     ]
    },
    {
     "name": "stdout",
     "output_type": "stream",
     "text": [
      "1 Trace(s) in Stream:\n",
      "Z4.CP08..BHZ | 2012-06-25T00:00:00.017600Z - 2012-06-25T23:59:59.017600Z | 1.0 Hz, 86400 samples\n",
      "1 Trace(s) in Stream:\n",
      "Z4.CP08..BH1 | 2012-11-01T00:00:00.023100Z - 2012-11-01T23:59:59.023100Z | 1.0 Hz, 86400 samples\n",
      "1 Trace(s) in Stream:\n",
      "Z4.CP08..BH2 | 2012-12-03T00:00:00.006600Z - 2012-12-03T23:59:59.006600Z | 1.0 Hz, 86400 samples\n",
      "1 Trace(s) in Stream:\n",
      "Z4.CP08..BHZ | 2012-12-08T00:00:00.013400Z - 2012-12-08T23:59:59.013400Z | 1.0 Hz, 86400 samples\n",
      "1 Trace(s) in Stream:\n",
      "Z4.CP08..BHZ | 2012-07-02T00:00:00.017100Z - 2012-07-02T23:59:59.017100Z | 1.0 Hz, 86400 samples\n",
      "1 Trace(s) in Stream:\n",
      "Z4.CP08..BHZ | 2012-06-20T00:00:00.010800Z - 2012-06-20T23:59:59.010800Z | 1.0 Hz, 86400 samples\n"
     ]
    },
    {
     "name": "stderr",
     "output_type": "stream",
     "text": [
      "\r",
      "  3%|▎         | 110/3775 [00:16<03:00, 20.34it/s]"
     ]
    },
    {
     "name": "stdout",
     "output_type": "stream",
     "text": [
      "1 Trace(s) in Stream:\n",
      "Z4.CP08..BHZ | 2012-07-09T00:00:00.016600Z - 2012-07-09T23:59:59.016600Z | 1.0 Hz, 86400 samples\n",
      "1 Trace(s) in Stream:\n",
      "Z4.CP08..BHZ | 2012-12-25T00:00:00.001500Z - 2012-12-25T23:59:59.001500Z | 1.0 Hz, 86400 samples\n",
      "1 Trace(s) in Stream:\n",
      "Z4.CP08..BHZ | 2012-11-20T00:00:00.003900Z - 2012-11-20T23:59:59.003900Z | 1.0 Hz, 86400 samples\n",
      "1 Trace(s) in Stream:\n",
      "Z4.CP08..BH2 | 2012-12-31T00:00:00.004700Z - 2012-12-31T23:59:59.004700Z | 1.0 Hz, 86400 samples\n"
     ]
    },
    {
     "name": "stderr",
     "output_type": "stream",
     "text": [
      "  3%|▎         | 115/3775 [00:16<03:12, 19.02it/s]"
     ]
    },
    {
     "name": "stdout",
     "output_type": "stream",
     "text": [
      "1 Trace(s) in Stream:\n",
      "Z4.CP08..BHZ | 2013-03-04T00:00:00.000400Z - 2013-03-04T23:59:59.000400Z | 1.0 Hz, 86400 samples\n",
      "1 Trace(s) in Stream:\n",
      "Z4.CP08..BH2 | 2012-09-24T00:00:00.011400Z - 2012-09-24T23:59:59.011400Z | 1.0 Hz, 86400 samples\n",
      "1 Trace(s) in Stream:\n",
      "Z4.CP08..BH1 | 2012-05-31T00:00:00.008600Z - 2012-05-31T23:59:59.008600Z | 1.0 Hz, 86400 samples\n",
      "1 Trace(s) in Stream:\n",
      "Z4.CP08..BH2 | 2012-10-17T00:00:00.002700Z - 2012-10-17T23:59:59.002700Z | 1.0 Hz, 86400 samples\n"
     ]
    },
    {
     "name": "stderr",
     "output_type": "stream",
     "text": [
      "  3%|▎         | 120/3775 [00:17<03:05, 19.72it/s]"
     ]
    },
    {
     "name": "stdout",
     "output_type": "stream",
     "text": [
      "1 Trace(s) in Stream:\n",
      "Z4.CP08..BHZ | 2012-12-27T00:00:00.019200Z - 2012-12-27T23:59:59.019200Z | 1.0 Hz, 86400 samples\n",
      "1 Trace(s) in Stream:\n",
      "Z4.CP08..BH1 | 2012-06-19T00:00:00.014400Z - 2012-06-19T23:59:59.014400Z | 1.0 Hz, 86400 samples\n",
      "1 Trace(s) in Stream:\n",
      "Z4.CP08..BH1 | 2012-10-18T00:00:00.024000Z - 2012-10-18T23:59:59.024000Z | 1.0 Hz, 86400 samples\n",
      "1 Trace(s) in Stream:\n",
      "Z4.CP08..BH1 | 2012-08-29T00:00:00.006000Z - 2012-08-29T23:59:59.006000Z | 1.0 Hz, 86400 samples\n",
      "1 Trace(s) in Stream:\n",
      "Z4.CP08..BH1 | 2012-09-10T00:00:00.012300Z - 2012-09-10T23:59:59.012300Z | 1.0 Hz, 86400 samples\n",
      "1 Trace(s) in Stream:\n",
      "Z4.CP08..BH2 | 2013-01-13T00:00:00.007400Z - 2013-01-13T23:59:59.007400Z | 1.0 Hz, 86400 samples\n"
     ]
    },
    {
     "name": "stderr",
     "output_type": "stream",
     "text": [
      "  3%|▎         | 126/3775 [00:17<03:02, 19.98it/s]"
     ]
    },
    {
     "name": "stdout",
     "output_type": "stream",
     "text": [
      "1 Trace(s) in Stream:\n",
      "Z4.CP08..BH1 | 2012-09-05T00:00:00.005500Z - 2012-09-05T23:59:59.005500Z | 1.0 Hz, 86400 samples\n",
      "1 Trace(s) in Stream:\n",
      "Z4.CP08..BH1 | 2012-06-10T00:00:00.022200Z - 2012-06-10T23:59:59.022200Z | 1.0 Hz, 86400 samples\n",
      "1 Trace(s) in Stream:\n",
      "Z4.CP08..BH1 | 2013-02-26T00:00:00.022200Z - 2013-02-26T23:59:59.022200Z | 1.0 Hz, 86400 samples\n",
      "1 Trace(s) in Stream:\n",
      "Z4.CP08..BHZ | 2012-09-17T00:00:00.011900Z - 2012-09-17T23:59:59.011900Z | 1.0 Hz, 86400 samples\n",
      "1 Trace(s) in Stream:\n",
      "Z4.CP08..BH2 | 2012-07-14T00:00:00.023400Z - 2012-07-14T23:59:59.023400Z | 1.0 Hz, 86400 samples\n"
     ]
    },
    {
     "name": "stderr",
     "output_type": "stream",
     "text": [
      "\r",
      "  3%|▎         | 129/3775 [00:17<03:00, 20.18it/s]"
     ]
    },
    {
     "name": "stdout",
     "output_type": "stream",
     "text": [
      "1 Trace(s) in Stream:\n",
      "Z4.CP08..BH2 | 2013-01-11T00:00:00.014600Z - 2013-01-11T23:59:59.014600Z | 1.0 Hz, 86400 samples\n",
      "1 Trace(s) in Stream:\n",
      "Z4.CP08..BH2 | 2012-09-22T00:00:00.018700Z - 2012-09-22T23:59:59.018700Z | 1.0 Hz, 86400 samples\n",
      "1 Trace(s) in Stream:\n",
      "Z4.CP08..BH2 | 2013-01-15T00:00:00.000100Z - 2013-01-15T23:59:59.000100Z | 1.0 Hz, 86400 samples\n",
      "1 Trace(s) in Stream:\n",
      "Z4.CP08..BHZ | 2012-10-04T00:00:00.000000Z - 2012-10-05T00:00:00.000000Z | 1.0 Hz, 86401 samples\n",
      "1 Trace(s) in Stream:\n",
      "Z4.CP08..BH2 | 2013-02-24T00:00:00.004500Z - 2013-02-24T23:59:59.004500Z | 1.0 Hz, 86400 samples\n"
     ]
    },
    {
     "name": "stderr",
     "output_type": "stream",
     "text": [
      "  4%|▎         | 135/3775 [00:17<03:02, 19.98it/s]"
     ]
    },
    {
     "name": "stdout",
     "output_type": "stream",
     "text": [
      "1 Trace(s) in Stream:\n",
      "Z4.CP08..BH1 | 2012-12-27T00:00:00.019200Z - 2012-12-27T23:59:59.019200Z | 1.0 Hz, 86400 samples\n",
      "1 Trace(s) in Stream:\n",
      "Z4.CP08..BHZ | 2013-01-31T00:00:00.016800Z - 2013-01-31T23:59:59.016800Z | 1.0 Hz, 86400 samples\n",
      "1 Trace(s) in Stream:\n",
      "Z4.CP08..BH2 | 2012-08-19T00:00:00.017400Z - 2012-08-19T23:59:59.017400Z | 1.0 Hz, 86400 samples\n",
      "1 Trace(s) in Stream:\n",
      "Z4.CP08..BH2 | 2012-12-13T00:00:00.020200Z - 2012-12-13T23:59:59.020200Z | 1.0 Hz, 86400 samples\n",
      "1 Trace(s) in Stream:\n",
      "Z4.CP08..BHZ | 2013-03-02T00:00:00.007700Z - 2013-03-02T23:59:59.007700Z | 1.0 Hz, 86400 samples\n"
     ]
    },
    {
     "name": "stderr",
     "output_type": "stream",
     "text": [
      "  4%|▎         | 141/3775 [00:18<02:52, 21.07it/s]"
     ]
    },
    {
     "name": "stdout",
     "output_type": "stream",
     "text": [
      "1 Trace(s) in Stream:\n",
      "Z4.CP08..BH2 | 2013-02-20T00:00:00.019000Z - 2013-02-20T23:59:59.019000Z | 1.0 Hz, 86400 samples\n",
      "1 Trace(s) in Stream:\n",
      "Z4.CP08..BHZ | 2013-01-09T00:00:00.021900Z - 2013-01-09T23:59:59.021900Z | 1.0 Hz, 86400 samples\n",
      "1 Trace(s) in Stream:\n",
      "Z4.CP08..BHZ | 2012-10-09T00:00:00.006800Z - 2012-10-09T23:59:59.006800Z | 1.0 Hz, 86400 samples\n",
      "1 Trace(s) in Stream:\n",
      "Z4.CP08..BHZ | 2012-12-10T00:00:00.006100Z - 2012-12-10T23:59:59.006100Z | 1.0 Hz, 86400 samples\n",
      "1 Trace(s) in Stream:\n",
      "Z4.CP08..BHZ | 2012-06-15T00:00:00.004000Z - 2012-06-15T23:59:59.004000Z | 1.0 Hz, 86400 samples\n"
     ]
    },
    {
     "name": "stderr",
     "output_type": "stream",
     "text": [
      "\r",
      "  4%|▍         | 144/3775 [00:18<02:59, 20.25it/s]"
     ]
    },
    {
     "name": "stdout",
     "output_type": "stream",
     "text": [
      "1 Trace(s) in Stream:\n",
      "Z4.CP08..BHZ | 2012-09-01T00:00:00.020100Z - 2012-09-01T23:59:59.020100Z | 1.0 Hz, 86400 samples\n",
      "1 Trace(s) in Stream:\n",
      "Z4.CP08..BH2 | 2012-05-21T00:00:00.020000Z - 2012-05-21T23:59:59.020000Z | 1.0 Hz, 86400 samples\n",
      "1 Trace(s) in Stream:\n",
      "Z4.CP08..BH1 | 2012-09-16T00:00:00.015500Z - 2012-09-16T23:59:59.015500Z | 1.0 Hz, 86400 samples\n"
     ]
    },
    {
     "name": "stderr",
     "output_type": "stream",
     "text": [
      "\r",
      "  4%|▍         | 147/3775 [00:18<03:33, 16.99it/s]"
     ]
    },
    {
     "name": "stdout",
     "output_type": "stream",
     "text": [
      "1 Trace(s) in Stream:\n",
      "Z4.CP08..BH1 | 2013-01-30T00:00:00.020500Z - 2013-01-30T23:59:59.020500Z | 1.0 Hz, 86400 samples\n",
      "1 Trace(s) in Stream:\n",
      "Z4.CP08..BH2 | 2013-01-14T00:00:00.003700Z - 2013-01-14T23:59:59.003700Z | 1.0 Hz, 86400 samples\n",
      "1 Trace(s) in Stream:\n",
      "Z4.CP08..BH2 | 2012-11-06T00:00:00.004900Z - 2012-11-06T23:59:59.004900Z | 1.0 Hz, 86400 samples\n",
      "1 Trace(s) in Stream:\n",
      "Z4.CP08..BHZ | 2012-07-05T00:00:00.006200Z - 2012-07-05T23:59:59.006200Z | 1.0 Hz, 86400 samples\n"
     ]
    },
    {
     "name": "stderr",
     "output_type": "stream",
     "text": [
      "  4%|▍         | 152/3775 [00:18<03:11, 18.92it/s]"
     ]
    },
    {
     "name": "stdout",
     "output_type": "stream",
     "text": [
      "1 Trace(s) in Stream:\n",
      "Z4.CP08..BHZ | 2013-01-29T00:00:00.024100Z - 2013-01-29T23:59:59.024100Z | 1.0 Hz, 86400 samples\n",
      "1 Trace(s) in Stream:\n",
      "Z4.CP08..BH2 | 2012-05-20T00:00:00.023600Z - 2012-05-20T23:59:59.023600Z | 1.0 Hz, 86400 samples\n",
      "1 Trace(s) in Stream:\n",
      "Z4.CP08..BHZ | 2012-11-29T00:00:00.021100Z - 2012-11-29T23:59:59.021100Z | 1.0 Hz, 86400 samples\n",
      "1 Trace(s) in Stream:\n",
      "Z4.CP08..BHZ | 2012-06-07T00:00:00.008100Z - 2012-06-07T23:59:59.008100Z | 1.0 Hz, 86400 samples\n"
     ]
    },
    {
     "name": "stderr",
     "output_type": "stream",
     "text": [
      "  4%|▍         | 156/3775 [00:19<03:15, 18.52it/s]"
     ]
    },
    {
     "name": "stdout",
     "output_type": "stream",
     "text": [
      "1 Trace(s) in Stream:\n",
      "Z4.CP08..BHZ | 2012-11-05T00:00:00.008500Z - 2012-11-05T23:59:59.008500Z | 1.0 Hz, 86400 samples\n",
      "1 Trace(s) in Stream:\n",
      "Z4.CP08..BH1 | 2012-08-09T00:00:00.003800Z - 2012-08-09T23:59:59.003800Z | 1.0 Hz, 86400 samples\n",
      "1 Trace(s) in Stream:\n",
      "Z4.CP08..BHZ | 2013-02-06T00:00:00.020000Z - 2013-02-06T23:59:59.020000Z | 1.0 Hz, 86400 samples\n",
      "1 Trace(s) in Stream:\n",
      "Z4.CP08..BHZ | 2013-01-17T00:00:00.017800Z - 2013-01-17T23:59:59.017800Z | 1.0 Hz, 86400 samples\n"
     ]
    },
    {
     "name": "stderr",
     "output_type": "stream",
     "text": [
      "  4%|▍         | 161/3775 [00:19<03:12, 18.76it/s]"
     ]
    },
    {
     "name": "stdout",
     "output_type": "stream",
     "text": [
      "1 Trace(s) in Stream:\n",
      "Z4.CP08..BHZ | 2012-05-25T00:00:00.005400Z - 2012-05-25T23:59:59.005400Z | 1.0 Hz, 86400 samples\n",
      "1 Trace(s) in Stream:\n",
      "Z4.CP08..BH1 | 2012-12-01T00:00:00.013900Z - 2012-12-01T23:59:59.013900Z | 1.0 Hz, 86400 samples\n",
      "1 Trace(s) in Stream:\n",
      "Z4.CP08..BH1 | 2013-02-17T00:00:00.005000Z - 2013-02-17T23:59:59.005000Z | 1.0 Hz, 86400 samples\n",
      "1 Trace(s) in Stream:\n",
      "Z4.CP08..BHZ | 2012-09-26T00:00:00.004100Z - 2012-09-26T23:59:59.004100Z | 1.0 Hz, 86400 samples\n"
     ]
    },
    {
     "name": "stderr",
     "output_type": "stream",
     "text": [
      "  4%|▍         | 165/3775 [00:19<03:14, 18.61it/s]"
     ]
    },
    {
     "name": "stdout",
     "output_type": "stream",
     "text": [
      "1 Trace(s) in Stream:\n",
      "Z4.CP08..BHZ | 2012-09-11T00:00:00.008700Z - 2012-09-11T23:59:59.008700Z | 1.0 Hz, 86400 samples\n",
      "1 Trace(s) in Stream:\n",
      "Z4.CP08..BH1 | 2013-02-11T00:00:00.001800Z - 2013-02-11T23:59:59.001800Z | 1.0 Hz, 86400 samples\n",
      "1 Trace(s) in Stream:\n",
      "Z4.CP08..BH2 | 2012-11-12T00:00:00.008000Z - 2012-11-12T23:59:59.008000Z | 1.0 Hz, 86400 samples\n",
      "1 Trace(s) in Stream:\n",
      "Z4.CP08..BHZ | 2012-11-26T00:00:00.007100Z - 2012-11-26T23:59:59.007100Z | 1.0 Hz, 86400 samples\n",
      "1 Trace(s) in Stream:\n",
      "Z4.CP08..BHZ | 2012-12-16T00:00:00.009300Z - 2012-12-16T23:59:59.009300Z | 1.0 Hz, 86400 samples\n"
     ]
    },
    {
     "name": "stderr",
     "output_type": "stream",
     "text": [
      "  4%|▍         | 169/3775 [00:19<03:21, 17.93it/s]"
     ]
    },
    {
     "name": "stdout",
     "output_type": "stream",
     "text": [
      "1 Trace(s) in Stream:\n",
      "Z4.CP08..BH1 | 2012-09-17T00:00:00.011900Z - 2012-09-17T23:59:59.011900Z | 1.0 Hz, 86400 samples\n",
      "1 Trace(s) in Stream:\n",
      "Z4.CP08..BHZ | 2012-06-26T00:00:00.014000Z - 2012-06-26T23:59:59.014000Z | 1.0 Hz, 86400 samples\n",
      "1 Trace(s) in Stream:\n",
      "Z4.CP08..BH1 | 2012-11-22T00:00:00.021600Z - 2012-11-22T23:59:59.021600Z | 1.0 Hz, 86400 samples\n",
      "1 Trace(s) in Stream:\n",
      "Z4.CP08..BHZ | 2013-02-12T00:00:00.023200Z - 2013-02-12T23:59:59.023200Z | 1.0 Hz, 86400 samples\n"
     ]
    },
    {
     "name": "stderr",
     "output_type": "stream",
     "text": [
      "  5%|▍         | 173/3775 [00:20<03:20, 17.94it/s]"
     ]
    },
    {
     "name": "stdout",
     "output_type": "stream",
     "text": [
      "1 Trace(s) in Stream:\n",
      "Z4.CP08..BH1 | 2012-07-24T00:00:00.012000Z - 2012-07-24T23:59:59.012000Z | 1.0 Hz, 86400 samples\n",
      "1 Trace(s) in Stream:\n",
      "Z4.CP08..BH2 | 2013-02-23T00:00:00.008100Z - 2013-02-23T23:59:59.008100Z | 1.0 Hz, 86400 samples\n",
      "1 Trace(s) in Stream:\n",
      "Z4.CP08..BH2 | 2012-06-12T00:00:00.014900Z - 2012-06-12T23:59:59.014900Z | 1.0 Hz, 86400 samples\n",
      "1 Trace(s) in Stream:\n",
      "Z4.CP08..BHZ | 2012-09-28T00:00:00.021800Z - 2012-09-28T23:59:59.021800Z | 1.0 Hz, 86400 samples\n"
     ]
    },
    {
     "name": "stderr",
     "output_type": "stream",
     "text": [
      "  5%|▍         | 177/3775 [00:20<03:23, 17.72it/s]"
     ]
    },
    {
     "name": "stdout",
     "output_type": "stream",
     "text": [
      "1 Trace(s) in Stream:\n",
      "Z4.CP08..BHZ | 2012-12-23T00:00:00.008800Z - 2012-12-23T23:59:59.008800Z | 1.0 Hz, 86400 samples\n",
      "1 Trace(s) in Stream:\n",
      "Z4.CP08..BHZ | 2012-09-06T00:00:00.001900Z - 2012-09-06T23:59:59.001900Z | 1.0 Hz, 86400 samples\n",
      "1 Trace(s) in Stream:\n",
      "Z4.CP08..BHZ | 2013-01-19T00:00:00.010500Z - 2013-01-19T23:59:59.010500Z | 1.0 Hz, 86400 samples\n",
      "1 Trace(s) in Stream:\n",
      "Z4.CP08..BH1 | 2012-11-28T00:00:00.024800Z - 2012-11-28T23:59:59.024800Z | 1.0 Hz, 86400 samples\n"
     ]
    },
    {
     "name": "stderr",
     "output_type": "stream",
     "text": [
      "  5%|▍         | 181/3775 [00:20<03:20, 17.97it/s]"
     ]
    },
    {
     "name": "stdout",
     "output_type": "stream",
     "text": [
      "1 Trace(s) in Stream:\n",
      "Z4.CP08..BH1 | 2012-08-17T00:00:00.024700Z - 2012-08-17T23:59:59.024700Z | 1.0 Hz, 86400 samples\n",
      "1 Trace(s) in Stream:\n",
      "Z4.CP08..BH1 | 2012-08-16T00:00:00.003300Z - 2012-08-16T23:59:59.003300Z | 1.0 Hz, 86400 samples\n",
      "1 Trace(s) in Stream:\n",
      "Z4.CP08..BHZ | 2012-10-31T00:00:00.001700Z - 2012-10-31T23:59:59.001700Z | 1.0 Hz, 86400 samples\n",
      "1 Trace(s) in Stream:\n",
      "Z4.CP08..BHZ | 2012-12-07T00:00:00.017000Z - 2012-12-07T23:59:59.017000Z | 1.0 Hz, 86400 samples\n"
     ]
    },
    {
     "name": "stderr",
     "output_type": "stream",
     "text": [
      "  5%|▍         | 185/3775 [00:20<03:23, 17.67it/s]"
     ]
    },
    {
     "name": "stdout",
     "output_type": "stream",
     "text": [
      "1 Trace(s) in Stream:\n",
      "Z4.CP08..BH2 | 2013-03-12T00:00:00.021200Z - 2013-03-12T23:59:59.021200Z | 1.0 Hz, 86400 samples\n",
      "1 Trace(s) in Stream:\n",
      "Z4.CP08..BHZ | 2012-10-15T00:00:00.009900Z - 2012-10-15T23:59:59.009900Z | 1.0 Hz, 86400 samples\n",
      "1 Trace(s) in Stream:\n",
      "Z4.CP08..BH1 | 2013-02-20T00:00:00.019000Z - 2013-02-20T23:59:59.019000Z | 1.0 Hz, 86400 samples\n",
      "1 Trace(s) in Stream:\n",
      "Z4.CP08..BH2 | 2012-08-16T00:00:00.003300Z - 2012-08-16T23:59:59.003300Z | 1.0 Hz, 86400 samples\n",
      "1 Trace(s) in Stream:\n",
      "Z4.CP08..BHZ | 2012-09-08T00:00:00.019600Z - 2012-09-08T23:59:59.019600Z | 1.0 Hz, 86400 samples\n"
     ]
    },
    {
     "name": "stderr",
     "output_type": "stream",
     "text": [
      "  5%|▌         | 191/3775 [00:21<03:27, 17.27it/s]"
     ]
    },
    {
     "name": "stdout",
     "output_type": "stream",
     "text": [
      "1 Trace(s) in Stream:\n",
      "Z4.CP08..BHZ | 2013-02-07T00:00:00.016400Z - 2013-02-07T23:59:59.016400Z | 1.0 Hz, 86400 samples\n",
      "1 Trace(s) in Stream:\n",
      "Z4.CP08..BH1 | 2012-07-14T00:00:00.023400Z - 2012-07-14T23:59:59.023400Z | 1.0 Hz, 86400 samples\n",
      "1 Trace(s) in Stream:\n",
      "Z4.CP08..BH2 | 2012-12-29T00:00:00.012000Z - 2012-12-29T23:59:59.012000Z | 1.0 Hz, 86400 samples\n",
      "1 Trace(s) in Stream:\n",
      "Z4.CP08..BH2 | 2013-03-07T00:00:00.014400Z - 2013-03-07T23:59:59.014400Z | 1.0 Hz, 86400 samples\n"
     ]
    },
    {
     "name": "stderr",
     "output_type": "stream",
     "text": [
      "  5%|▌         | 195/3775 [00:21<03:17, 18.14it/s]"
     ]
    },
    {
     "name": "stdout",
     "output_type": "stream",
     "text": [
      "1 Trace(s) in Stream:\n",
      "Z4.CP08..BHZ | 2012-12-31T00:00:00.004700Z - 2012-12-31T23:59:59.004700Z | 1.0 Hz, 86400 samples\n",
      "1 Trace(s) in Stream:\n",
      "Z4.CP08..BHZ | 2012-05-12T00:00:00.002800Z - 2012-05-12T23:59:59.002800Z | 1.0 Hz, 86400 samples\n",
      "1 Trace(s) in Stream:\n",
      "Z4.CP08..BHZ | 2012-10-20T00:00:00.016700Z - 2012-10-20T23:59:59.016700Z | 1.0 Hz, 86400 samples\n",
      "1 Trace(s) in Stream:\n",
      "Z4.CP08..BHZ | 2012-07-11T00:00:00.009400Z - 2012-07-11T23:59:59.009400Z | 1.0 Hz, 86400 samples\n",
      "1 Trace(s) in Stream:\n",
      "Z4.CP08..BH1 | 2013-03-06T00:00:00.018100Z - 2013-03-06T23:59:59.018100Z | 1.0 Hz, 86400 samples\n"
     ]
    },
    {
     "name": "stderr",
     "output_type": "stream",
     "text": [
      "  5%|▌         | 200/3775 [00:21<03:10, 18.74it/s]"
     ]
    },
    {
     "name": "stdout",
     "output_type": "stream",
     "text": [
      "1 Trace(s) in Stream:\n",
      "Z4.CP08..BHZ | 2012-11-17T00:00:00.014800Z - 2012-11-17T23:59:59.014800Z | 1.0 Hz, 86400 samples\n",
      "1 Trace(s) in Stream:\n",
      "Z4.CP08..BHZ | 2012-10-10T00:00:00.003100Z - 2012-10-10T23:59:59.003100Z | 1.0 Hz, 86400 samples\n",
      "1 Trace(s) in Stream:\n",
      "Z4.CP08..BH1 | 2012-08-22T00:00:00.006500Z - 2012-08-22T23:59:59.006500Z | 1.0 Hz, 86400 samples\n",
      "1 Trace(s) in Stream:\n",
      "Z4.CP08..BHZ | 2013-03-08T00:00:00.010800Z - 2013-03-08T23:59:59.010800Z | 1.0 Hz, 86400 samples\n"
     ]
    },
    {
     "name": "stderr",
     "output_type": "stream",
     "text": [
      "  5%|▌         | 204/3775 [00:21<03:06, 19.14it/s]"
     ]
    },
    {
     "name": "stdout",
     "output_type": "stream",
     "text": [
      "1 Trace(s) in Stream:\n",
      "Z4.CP08..BH1 | 2012-06-15T00:00:00.004000Z - 2012-06-15T23:59:59.004000Z | 1.0 Hz, 86400 samples\n",
      "1 Trace(s) in Stream:\n",
      "Z4.CP08..BH2 | 2012-11-28T00:00:00.024800Z - 2012-11-28T23:59:59.024800Z | 1.0 Hz, 86400 samples\n",
      "1 Trace(s) in Stream:\n",
      "Z4.CP08..BH1 | 2013-02-28T00:00:00.014900Z - 2013-02-28T23:59:59.014900Z | 1.0 Hz, 86400 samples\n",
      "1 Trace(s) in Stream:\n",
      "Z4.CP08..BH2 | 2012-05-23T00:00:00.012700Z - 2012-05-23T23:59:59.012700Z | 1.0 Hz, 86400 samples\n"
     ]
    },
    {
     "name": "stderr",
     "output_type": "stream",
     "text": [
      "  6%|▌         | 208/3775 [00:21<03:14, 18.31it/s]"
     ]
    },
    {
     "name": "stdout",
     "output_type": "stream",
     "text": [
      "1 Trace(s) in Stream:\n",
      "Z4.CP08..BH1 | 2012-08-15T00:00:00.007000Z - 2012-08-15T23:59:59.007000Z | 1.0 Hz, 86400 samples\n",
      "1 Trace(s) in Stream:\n",
      "Z4.CP08..BH1 | 2012-10-04T00:00:00.000000Z - 2012-10-05T00:00:00.000000Z | 1.0 Hz, 86401 samples\n",
      "1 Trace(s) in Stream:\n",
      "Z4.CP08..BHZ | 2012-10-12T00:00:00.020900Z - 2012-10-12T23:59:59.020900Z | 1.0 Hz, 86400 samples\n",
      "1 Trace(s) in Stream:\n",
      "Z4.CP08..BH1 | 2012-06-07T00:00:00.008100Z - 2012-06-07T23:59:59.008100Z | 1.0 Hz, 86400 samples\n",
      "1 Trace(s) in Stream:\n",
      "Z4.CP08..BH1 | 2013-02-01T00:00:00.013200Z - 2013-02-01T23:59:59.013200Z | 1.0 Hz, 86400 samples\n"
     ]
    },
    {
     "name": "stderr",
     "output_type": "stream",
     "text": [
      "  6%|▌         | 212/3775 [00:22<03:34, 16.59it/s]"
     ]
    },
    {
     "name": "stdout",
     "output_type": "stream",
     "text": [
      "1 Trace(s) in Stream:\n",
      "Z4.CP08..BH2 | 2012-07-21T00:00:00.023000Z - 2012-07-21T23:59:59.023000Z | 1.0 Hz, 86400 samples\n",
      "1 Trace(s) in Stream:\n",
      "Z4.CP08..BH2 | 2012-12-09T00:00:00.009800Z - 2012-12-09T23:59:59.009800Z | 1.0 Hz, 86400 samples\n",
      "1 Trace(s) in Stream:\n",
      "Z4.CP08..BHZ | 2012-09-14T00:00:00.022800Z - 2012-09-14T23:59:59.022800Z | 1.0 Hz, 86400 samples\n",
      "1 Trace(s) in Stream:\n",
      "Z4.CP08..BHZ | 2012-10-16T00:00:00.006300Z - 2012-10-16T23:59:59.006300Z | 1.0 Hz, 86400 samples\n"
     ]
    },
    {
     "name": "stderr",
     "output_type": "stream",
     "text": [
      "  6%|▌         | 217/3775 [00:22<03:15, 18.20it/s]"
     ]
    },
    {
     "name": "stdout",
     "output_type": "stream",
     "text": [
      "1 Trace(s) in Stream:\n",
      "Z4.CP08..BH1 | 2012-07-28T00:00:00.022500Z - 2012-07-28T23:59:59.022500Z | 1.0 Hz, 86400 samples\n",
      "1 Trace(s) in Stream:\n",
      "Z4.CP08..BHZ | 2012-10-13T00:00:00.017200Z - 2012-10-13T23:59:59.017200Z | 1.0 Hz, 86400 samples\n",
      "1 Trace(s) in Stream:\n",
      "Z4.CP08..BHZ | 2012-12-26T00:00:00.022900Z - 2012-12-26T23:59:59.022900Z | 1.0 Hz, 86400 samples\n",
      "1 Trace(s) in Stream:\n",
      "Z4.CP08..BH2 | 2012-10-10T00:00:00.003100Z - 2012-10-10T23:59:59.003100Z | 1.0 Hz, 86400 samples\n",
      "1 Trace(s) in Stream:\n",
      "Z4.CP08..BH1 | 2012-08-05T00:00:00.018400Z - 2012-08-05T23:59:59.018400Z | 1.0 Hz, 86400 samples\n"
     ]
    },
    {
     "name": "stderr",
     "output_type": "stream",
     "text": [
      "  6%|▌         | 221/3775 [00:22<03:24, 17.39it/s]"
     ]
    },
    {
     "name": "stdout",
     "output_type": "stream",
     "text": [
      "1 Trace(s) in Stream:\n",
      "Z4.CP08..BHZ | 2013-02-24T00:00:00.004500Z - 2013-02-24T23:59:59.004500Z | 1.0 Hz, 86400 samples\n",
      "1 Trace(s) in Stream:\n",
      "Z4.CP08..BH2 | 2012-09-05T00:00:00.005500Z - 2012-09-05T23:59:59.005500Z | 1.0 Hz, 86400 samples\n",
      "1 Trace(s) in Stream:\n",
      "Z4.CP08..BH2 | 2012-12-22T00:00:00.012400Z - 2012-12-22T23:59:59.012400Z | 1.0 Hz, 86400 samples\n",
      "1 Trace(s) in Stream:\n",
      "Z4.CP08..BH1 | 2012-08-23T00:00:00.002900Z - 2012-08-23T23:59:59.002900Z | 1.0 Hz, 86400 samples\n"
     ]
    },
    {
     "name": "stderr",
     "output_type": "stream",
     "text": [
      "  6%|▌         | 225/3775 [00:22<03:28, 17.03it/s]"
     ]
    },
    {
     "name": "stdout",
     "output_type": "stream",
     "text": [
      "1 Trace(s) in Stream:\n",
      "Z4.CP08..BH2 | 2013-01-20T00:00:00.006900Z - 2013-01-20T23:59:59.006900Z | 1.0 Hz, 86400 samples\n",
      "1 Trace(s) in Stream:\n",
      "Z4.CP08..BH2 | 2012-06-27T00:00:00.010300Z - 2012-06-27T23:59:59.010300Z | 1.0 Hz, 86400 samples\n",
      "1 Trace(s) in Stream:\n",
      "Z4.CP08..BH1 | 2013-01-09T00:00:00.021900Z - 2013-01-09T23:59:59.021900Z | 1.0 Hz, 86400 samples\n",
      "1 Trace(s) in Stream:\n",
      "Z4.CP08..BH2 | 2013-03-05T00:00:00.021700Z - 2013-03-05T23:59:59.021700Z | 1.0 Hz, 86400 samples\n"
     ]
    },
    {
     "name": "stderr",
     "output_type": "stream",
     "text": [
      "  6%|▌         | 230/3775 [00:23<03:19, 17.78it/s]"
     ]
    },
    {
     "name": "stdout",
     "output_type": "stream",
     "text": [
      "1 Trace(s) in Stream:\n",
      "Z4.CP08..BH2 | 2012-11-08T00:00:00.022600Z - 2012-11-08T23:59:59.022600Z | 1.0 Hz, 86400 samples\n",
      "1 Trace(s) in Stream:\n",
      "Z4.CP08..BH2 | 2012-07-12T00:00:00.005700Z - 2012-07-12T23:59:59.005700Z | 1.0 Hz, 86400 samples\n",
      "1 Trace(s) in Stream:\n",
      "Z4.CP08..BH1 | 2013-03-05T00:00:00.021700Z - 2013-03-05T23:59:59.021700Z | 1.0 Hz, 86400 samples\n",
      "1 Trace(s) in Stream:\n",
      "Z4.CP08..BH1 | 2012-06-04T00:00:00.019000Z - 2012-06-04T23:59:59.019000Z | 1.0 Hz, 86400 samples\n"
     ]
    },
    {
     "name": "stderr",
     "output_type": "stream",
     "text": [
      "  6%|▌         | 234/3775 [00:23<03:26, 17.16it/s]"
     ]
    },
    {
     "name": "stdout",
     "output_type": "stream",
     "text": [
      "1 Trace(s) in Stream:\n",
      "Z4.CP08..BHZ | 2013-03-05T00:00:00.021700Z - 2013-03-05T23:59:59.021700Z | 1.0 Hz, 86400 samples\n",
      "1 Trace(s) in Stream:\n",
      "Z4.CP08..BHZ | 2012-11-11T00:00:00.011700Z - 2012-11-11T23:59:59.011700Z | 1.0 Hz, 86400 samples\n",
      "1 Trace(s) in Stream:\n",
      "Z4.CP08..BHZ | 2012-12-12T00:00:00.023800Z - 2012-12-12T23:59:59.023800Z | 1.0 Hz, 86400 samples\n",
      "1 Trace(s) in Stream:\n",
      "Z4.CP08..BH2 | 2013-02-28T00:00:00.014900Z - 2013-02-28T23:59:59.014900Z | 1.0 Hz, 86400 samples\n",
      "1 Trace(s) in Stream:\n",
      "Z4.CP08..BHZ | 2012-06-27T00:00:00.010300Z - 2012-06-27T23:59:59.010300Z | 1.0 Hz, 86400 samples\n"
     ]
    },
    {
     "name": "stderr",
     "output_type": "stream",
     "text": [
      "\r",
      "  6%|▋         | 237/3775 [00:23<03:19, 17.72it/s]"
     ]
    },
    {
     "name": "stdout",
     "output_type": "stream",
     "text": [
      "1 Trace(s) in Stream:\n",
      "Z4.CP08..BH1 | 2012-09-19T00:00:00.004600Z - 2012-09-19T23:59:59.004600Z | 1.0 Hz, 86400 samples\n",
      "1 Trace(s) in Stream:\n",
      "Z4.CP08..BH2 | 2012-09-20T00:00:00.000900Z - 2012-09-20T23:59:59.000900Z | 1.0 Hz, 86400 samples\n",
      "1 Trace(s) in Stream:\n",
      "Z4.CP08..BHZ | 2013-01-18T00:00:00.014200Z - 2013-01-18T23:59:59.014200Z | 1.0 Hz, 86400 samples\n",
      "1 Trace(s) in Stream:\n",
      "Z4.CP08..BHZ | 2012-12-11T00:00:00.002500Z - 2012-12-11T23:59:59.002500Z | 1.0 Hz, 86400 samples\n"
     ]
    },
    {
     "name": "stderr",
     "output_type": "stream",
     "text": [
      "  6%|▋         | 243/3775 [00:23<03:14, 18.18it/s]"
     ]
    },
    {
     "name": "stdout",
     "output_type": "stream",
     "text": [
      "1 Trace(s) in Stream:\n",
      "Z4.CP08..BH1 | 2012-05-14T00:00:00.020500Z - 2012-05-14T23:59:59.020500Z | 1.0 Hz, 86400 samples\n",
      "1 Trace(s) in Stream:\n",
      "Z4.CP08..BHZ | 2012-12-18T00:00:00.002000Z - 2012-12-18T23:59:59.002000Z | 1.0 Hz, 86400 samples\n",
      "1 Trace(s) in Stream:\n",
      "Z4.CP08..BH1 | 2013-01-08T00:00:00.000600Z - 2013-01-08T23:59:59.000600Z | 1.0 Hz, 86400 samples\n",
      "1 Trace(s) in Stream:\n",
      "Z4.CP08..BH2 | 2013-03-04T00:00:00.000400Z - 2013-03-04T23:59:59.000400Z | 1.0 Hz, 86400 samples\n"
     ]
    },
    {
     "name": "stderr",
     "output_type": "stream",
     "text": [
      "  7%|▋         | 247/3775 [00:24<03:09, 18.64it/s]"
     ]
    },
    {
     "name": "stdout",
     "output_type": "stream",
     "text": [
      "1 Trace(s) in Stream:\n",
      "Z4.CP08..BHZ | 2012-06-18T00:00:00.018100Z - 2012-06-18T23:59:59.018100Z | 1.0 Hz, 86400 samples\n",
      "1 Trace(s) in Stream:\n",
      "Z4.CP08..BHZ | 2012-08-05T00:00:00.018400Z - 2012-08-05T23:59:59.018400Z | 1.0 Hz, 86400 samples\n",
      "1 Trace(s) in Stream:\n",
      "Z4.CP08..BH2 | 2013-03-03T00:00:00.004000Z - 2013-03-03T23:59:59.004000Z | 1.0 Hz, 86400 samples\n",
      "1 Trace(s) in Stream:\n",
      "Z4.CP08..BH1 | 2012-07-30T00:00:00.015200Z - 2012-07-30T23:59:59.015200Z | 1.0 Hz, 86400 samples\n",
      "1 Trace(s) in Stream:\n",
      "Z4.CP08..BH2 | 2012-08-15T00:00:00.007000Z - 2012-08-15T23:59:59.007000Z | 1.0 Hz, 86400 samples\n"
     ]
    },
    {
     "name": "stderr",
     "output_type": "stream",
     "text": [
      "  7%|▋         | 251/3775 [00:24<03:11, 18.41it/s]"
     ]
    },
    {
     "name": "stdout",
     "output_type": "stream",
     "text": [
      "1 Trace(s) in Stream:\n",
      "Z4.CP08..BHZ | 2012-09-02T00:00:00.016500Z - 2012-09-02T23:59:59.016500Z | 1.0 Hz, 86400 samples\n",
      "1 Trace(s) in Stream:\n",
      "Z4.CP08..BHZ | 2013-02-17T00:00:00.005000Z - 2013-02-17T23:59:59.005000Z | 1.0 Hz, 86400 samples\n",
      "1 Trace(s) in Stream:\n",
      "Z4.CP08..BH1 | 2012-05-10T00:00:00.010000Z - 2012-05-10T23:59:59.010000Z | 1.0 Hz, 86400 samples\n",
      "1 Trace(s) in Stream:\n",
      "Z4.CP08..BH1 | 2012-09-04T00:00:00.009200Z - 2012-09-04T23:59:59.009200Z | 1.0 Hz, 86400 samples\n",
      "1 Trace(s) in Stream:\n",
      "Z4.CP08..BH2 | 2012-05-16T00:00:00.013200Z - 2012-05-16T23:59:59.013200Z | 1.0 Hz, 86400 samples\n"
     ]
    },
    {
     "name": "stderr",
     "output_type": "stream",
     "text": [
      "  7%|▋         | 256/3775 [00:24<03:03, 19.17it/s]"
     ]
    },
    {
     "name": "stdout",
     "output_type": "stream",
     "text": [
      "1 Trace(s) in Stream:\n",
      "Z4.CP08..BH2 | 2012-09-28T00:00:00.021800Z - 2012-09-28T23:59:59.021800Z | 1.0 Hz, 86400 samples\n",
      "1 Trace(s) in Stream:\n",
      "Z4.CP08..BH2 | 2012-10-20T00:00:00.016700Z - 2012-10-20T23:59:59.016700Z | 1.0 Hz, 86400 samples\n",
      "1 Trace(s) in Stream:\n",
      "Z4.CP08..BHZ | 2012-10-28T00:00:00.012600Z - 2012-10-28T23:59:59.012600Z | 1.0 Hz, 86400 samples\n",
      "1 Trace(s) in Stream:\n",
      "Z4.CP08..BHZ | 2012-09-05T00:00:00.005500Z - 2012-09-05T23:59:59.005500Z | 1.0 Hz, 86400 samples\n"
     ]
    },
    {
     "name": "stderr",
     "output_type": "stream",
     "text": [
      "  7%|▋         | 262/3775 [00:24<03:09, 18.51it/s]"
     ]
    },
    {
     "name": "stdout",
     "output_type": "stream",
     "text": [
      "1 Trace(s) in Stream:\n",
      "Z4.CP08..BH2 | 2012-11-09T00:00:00.018900Z - 2012-11-09T23:59:59.018900Z | 1.0 Hz, 86400 samples\n",
      "1 Trace(s) in Stream:\n",
      "Z4.CP08..BH1 | 2012-09-03T00:00:00.012800Z - 2012-09-03T23:59:59.012800Z | 1.0 Hz, 86400 samples\n",
      "1 Trace(s) in Stream:\n",
      "Z4.CP08..BH1 | 2012-12-19T00:00:00.023400Z - 2012-12-19T23:59:59.023400Z | 1.0 Hz, 86400 samples\n",
      "1 Trace(s) in Stream:\n",
      "Z4.CP08..BH2 | 2012-10-01T00:00:00.010900Z - 2012-10-01T23:59:59.010900Z | 1.0 Hz, 86400 samples\n",
      "1 Trace(s) in Stream:\n",
      "Z4.CP08..BH1 | 2012-06-20T00:00:00.010800Z - 2012-06-20T23:59:59.010800Z | 1.0 Hz, 86400 samples\n"
     ]
    },
    {
     "name": "stderr",
     "output_type": "stream",
     "text": [
      "  7%|▋         | 266/3775 [00:25<03:09, 18.54it/s]"
     ]
    },
    {
     "name": "stdout",
     "output_type": "stream",
     "text": [
      "1 Trace(s) in Stream:\n",
      "Z4.CP08..BH2 | 2012-07-17T00:00:00.012500Z - 2012-07-17T23:59:59.012500Z | 1.0 Hz, 86400 samples\n",
      "1 Trace(s) in Stream:\n",
      "Z4.CP08..BH2 | 2012-05-12T00:00:00.002800Z - 2012-05-12T23:59:59.002800Z | 1.0 Hz, 86400 samples\n",
      "1 Trace(s) in Stream:\n",
      "Z4.CP08..BHZ | 2012-06-24T00:00:00.021200Z - 2012-06-24T23:59:59.021200Z | 1.0 Hz, 86400 samples\n",
      "1 Trace(s) in Stream:\n",
      "Z4.CP08..BH2 | 2012-05-14T00:00:00.020500Z - 2012-05-14T23:59:59.020500Z | 1.0 Hz, 86400 samples\n"
     ]
    },
    {
     "name": "stderr",
     "output_type": "stream",
     "text": [
      "  7%|▋         | 271/3775 [00:25<02:59, 19.55it/s]"
     ]
    },
    {
     "name": "stdout",
     "output_type": "stream",
     "text": [
      "1 Trace(s) in Stream:\n",
      "Z4.CP08..BH2 | 2012-08-02T00:00:00.004300Z - 2012-08-02T23:59:59.004300Z | 1.0 Hz, 86400 samples\n",
      "1 Trace(s) in Stream:\n",
      "Z4.CP08..BH1 | 2012-12-06T00:00:00.020700Z - 2012-12-06T23:59:59.020700Z | 1.0 Hz, 86400 samples\n",
      "1 Trace(s) in Stream:\n",
      "Z4.CP08..BHZ | 2012-07-25T00:00:00.008400Z - 2012-07-25T23:59:59.008400Z | 1.0 Hz, 86400 samples\n",
      "1 Trace(s) in Stream:\n",
      "Z4.CP08..BH1 | 2012-12-18T00:00:00.002000Z - 2012-12-18T23:59:59.002000Z | 1.0 Hz, 86400 samples\n",
      "1 Trace(s) in Stream:\n",
      "Z4.CP08..BHZ | 2012-11-10T00:00:00.015300Z - 2012-11-10T23:59:59.015300Z | 1.0 Hz, 86400 samples\n",
      "1 Trace(s) in Stream:\n",
      "Z4.CP08..BH2 | 2013-01-22T00:00:00.024600Z - 2013-01-22T23:59:59.024600Z | 1.0 Hz, 86400 samples\n"
     ]
    },
    {
     "name": "stderr",
     "output_type": "stream",
     "text": [
      "  7%|▋         | 276/3775 [00:25<02:56, 19.86it/s]"
     ]
    },
    {
     "name": "stdout",
     "output_type": "stream",
     "text": [
      "1 Trace(s) in Stream:\n",
      "Z4.CP08..BHZ | 2012-05-15T00:00:00.016800Z - 2012-05-15T23:59:59.016800Z | 1.0 Hz, 86400 samples\n",
      "1 Trace(s) in Stream:\n",
      "Z4.CP08..BH2 | 2012-08-01T00:00:00.007900Z - 2012-08-01T23:59:59.007900Z | 1.0 Hz, 86400 samples\n",
      "1 Trace(s) in Stream:\n",
      "Z4.CP08..BH1 | 2012-05-11T00:00:00.006400Z - 2012-05-11T23:59:59.006400Z | 1.0 Hz, 86400 samples\n",
      "1 Trace(s) in Stream:\n",
      "Z4.CP08..BH2 | 2013-01-07T00:00:00.004200Z - 2013-01-07T23:59:59.004200Z | 1.0 Hz, 86400 samples\n",
      "1 Trace(s) in Stream:\n",
      "Z4.CP08..BH1 | 2012-06-17T00:00:00.021700Z - 2012-06-17T23:59:59.021700Z | 1.0 Hz, 86400 samples\n"
     ]
    },
    {
     "name": "stderr",
     "output_type": "stream",
     "text": [
      "  7%|▋         | 280/3775 [00:25<02:59, 19.48it/s]"
     ]
    },
    {
     "name": "stdout",
     "output_type": "stream",
     "text": [
      "1 Trace(s) in Stream:\n",
      "Z4.CP08..BH1 | 2012-07-23T00:00:00.015700Z - 2012-07-23T23:59:59.015700Z | 1.0 Hz, 86400 samples\n",
      "1 Trace(s) in Stream:\n",
      "Z4.CP08..BHZ | 2012-12-13T00:00:00.020200Z - 2012-12-13T23:59:59.020200Z | 1.0 Hz, 86400 samples\n",
      "1 Trace(s) in Stream:\n",
      "Z4.CP08..BH2 | 2013-01-17T00:00:00.017800Z - 2013-01-17T23:59:59.017800Z | 1.0 Hz, 86400 samples\n",
      "1 Trace(s) in Stream:\n",
      "Z4.CP08..BHZ | 2013-02-02T00:00:00.009600Z - 2013-02-02T23:59:59.009600Z | 1.0 Hz, 86400 samples\n"
     ]
    },
    {
     "name": "stderr",
     "output_type": "stream",
     "text": [
      "  8%|▊         | 285/3775 [00:26<02:59, 19.49it/s]"
     ]
    },
    {
     "name": "stdout",
     "output_type": "stream",
     "text": [
      "1 Trace(s) in Stream:\n",
      "Z4.CP08..BHZ | 2013-01-15T00:00:00.000100Z - 2013-01-15T23:59:59.000100Z | 1.0 Hz, 86400 samples\n",
      "1 Trace(s) in Stream:\n",
      "Z4.CP08..BHZ | 2012-10-22T00:00:00.009500Z - 2012-10-22T23:59:59.009500Z | 1.0 Hz, 86400 samples\n",
      "1 Trace(s) in Stream:\n",
      "Z4.CP08..BHZ | 2012-11-25T00:00:00.010700Z - 2012-11-25T23:59:59.010700Z | 1.0 Hz, 86400 samples\n",
      "1 Trace(s) in Stream:\n",
      "Z4.CP08..BH1 | 2012-09-02T00:00:00.016500Z - 2012-09-02T23:59:59.016500Z | 1.0 Hz, 86400 samples\n",
      "1 Trace(s) in Stream:\n",
      "Z4.CP08..BHZ | 2013-03-11T00:00:00.024900Z - 2013-03-11T23:59:59.024900Z | 1.0 Hz, 86400 samples\n",
      "1 Trace(s) in Stream:\n",
      "Z4.CP08..BHZ | 2012-08-08T00:00:00.007500Z - 2012-08-08T23:59:59.007500Z | 1.0 Hz, 86400 samples\n"
     ]
    },
    {
     "name": "stderr",
     "output_type": "stream",
     "text": [
      "  8%|▊         | 291/3775 [00:26<02:53, 20.11it/s]"
     ]
    },
    {
     "name": "stdout",
     "output_type": "stream",
     "text": [
      "1 Trace(s) in Stream:\n",
      "Z4.CP08..BH2 | 2012-07-16T00:00:00.016200Z - 2012-07-16T23:59:59.016200Z | 1.0 Hz, 86400 samples\n",
      "1 Trace(s) in Stream:\n",
      "Z4.CP08..BHZ | 2012-05-30T00:00:00.012200Z - 2012-05-30T23:59:59.012200Z | 1.0 Hz, 86400 samples\n",
      "1 Trace(s) in Stream:\n",
      "Z4.CP08..BHZ | 2012-10-25T00:00:00.023500Z - 2012-10-25T23:59:59.023500Z | 1.0 Hz, 86400 samples\n",
      "1 Trace(s) in Stream:\n",
      "Z4.CP08..BH2 | 2012-11-01T00:00:00.023100Z - 2012-11-01T23:59:59.023100Z | 1.0 Hz, 86400 samples\n"
     ]
    },
    {
     "name": "stderr",
     "output_type": "stream",
     "text": [
      "\r",
      "  8%|▊         | 294/3775 [00:26<02:55, 19.79it/s]"
     ]
    },
    {
     "name": "stdout",
     "output_type": "stream",
     "text": [
      "1 Trace(s) in Stream:\n",
      "Z4.CP08..BH1 | 2013-01-01T00:00:00.001000Z - 2013-01-01T23:59:59.001000Z | 1.0 Hz, 86400 samples\n",
      "1 Trace(s) in Stream:\n",
      "Z4.CP08..BH2 | 2012-06-04T00:00:00.019000Z - 2012-06-04T23:59:59.019000Z | 1.0 Hz, 86400 samples\n",
      "1 Trace(s) in Stream:\n",
      "Z4.CP08..BH2 | 2012-12-05T00:00:00.024300Z - 2012-12-05T23:59:59.024300Z | 1.0 Hz, 86400 samples\n",
      "1 Trace(s) in Stream:\n",
      "Z4.CP08..BH2 | 2012-11-25T00:00:00.010700Z - 2012-11-25T23:59:59.010700Z | 1.0 Hz, 86400 samples\n"
     ]
    },
    {
     "name": "stderr",
     "output_type": "stream",
     "text": [
      "  8%|▊         | 299/3775 [00:26<02:55, 19.78it/s]"
     ]
    },
    {
     "name": "stdout",
     "output_type": "stream",
     "text": [
      "1 Trace(s) in Stream:\n",
      "Z4.CP08..BH2 | 2012-09-02T00:00:00.016500Z - 2012-09-02T23:59:59.016500Z | 1.0 Hz, 86400 samples\n",
      "1 Trace(s) in Stream:\n",
      "Z4.CP08..BHZ | 2012-08-12T00:00:00.017900Z - 2012-08-12T23:59:59.017900Z | 1.0 Hz, 86400 samples\n",
      "1 Trace(s) in Stream:\n",
      "Z4.CP08..BH2 | 2013-01-31T00:00:00.016800Z - 2013-01-31T23:59:59.016800Z | 1.0 Hz, 86400 samples\n",
      "1 Trace(s) in Stream:\n",
      "Z4.CP08..BH1 | 2012-09-14T00:00:00.022800Z - 2012-09-14T23:59:59.022800Z | 1.0 Hz, 86400 samples\n",
      "1 Trace(s) in Stream:\n",
      "Z4.CP08..BHZ | 2012-10-06T00:00:00.017700Z - 2012-10-06T23:59:59.017700Z | 1.0 Hz, 86400 samples\n"
     ]
    },
    {
     "name": "stderr",
     "output_type": "stream",
     "text": [
      "  8%|▊         | 303/3775 [00:27<03:08, 18.43it/s]"
     ]
    },
    {
     "name": "stdout",
     "output_type": "stream",
     "text": [
      "1 Trace(s) in Stream:\n",
      "Z4.CP08..BH1 | 2012-07-26T00:00:00.004800Z - 2012-07-26T23:59:59.004800Z | 1.0 Hz, 86400 samples\n",
      "1 Trace(s) in Stream:\n",
      "Z4.CP08..BH2 | 2012-07-27T00:00:00.001100Z - 2012-07-27T23:59:59.001100Z | 1.0 Hz, 86400 samples\n",
      "1 Trace(s) in Stream:\n",
      "Z4.CP08..BH2 | 2012-10-31T00:00:00.001700Z - 2012-10-31T23:59:59.001700Z | 1.0 Hz, 86400 samples\n",
      "1 Trace(s) in Stream:\n",
      "Z4.CP08..BH2 | 2013-03-13T00:00:00.017600Z - 2013-03-13T23:59:59.017600Z | 1.0 Hz, 86400 samples\n"
     ]
    },
    {
     "name": "stderr",
     "output_type": "stream",
     "text": [
      "  8%|▊         | 307/3775 [00:27<03:08, 18.37it/s]"
     ]
    },
    {
     "name": "stdout",
     "output_type": "stream",
     "text": [
      "1 Trace(s) in Stream:\n",
      "Z4.CP08..BH2 | 2012-06-03T00:00:00.022700Z - 2012-06-03T23:59:59.022700Z | 1.0 Hz, 86400 samples\n",
      "1 Trace(s) in Stream:\n",
      "Z4.CP08..BH1 | 2012-06-26T00:00:00.014000Z - 2012-06-26T23:59:59.014000Z | 1.0 Hz, 86400 samples\n",
      "1 Trace(s) in Stream:\n",
      "Z4.CP08..BH2 | 2012-11-30T00:00:00.017500Z - 2012-11-30T23:59:59.017500Z | 1.0 Hz, 86400 samples\n",
      "1 Trace(s) in Stream:\n",
      "Z4.CP08..BHZ | 2012-09-21T00:00:00.022300Z - 2012-09-21T23:59:59.022300Z | 1.0 Hz, 86400 samples\n"
     ]
    },
    {
     "name": "stderr",
     "output_type": "stream",
     "text": [
      "  8%|▊         | 312/3775 [00:27<03:12, 17.95it/s]"
     ]
    },
    {
     "name": "stdout",
     "output_type": "stream",
     "text": [
      "1 Trace(s) in Stream:\n",
      "Z4.CP08..BHZ | 2013-02-19T00:00:00.022700Z - 2013-02-19T23:59:59.022700Z | 1.0 Hz, 86400 samples\n",
      "1 Trace(s) in Stream:\n",
      "Z4.CP08..BHZ | 2012-10-05T00:00:00.021300Z - 2012-10-05T23:59:59.021300Z | 1.0 Hz, 86400 samples\n",
      "1 Trace(s) in Stream:\n",
      "Z4.CP08..BHZ | 2012-09-23T00:00:00.015000Z - 2012-09-23T23:59:59.015000Z | 1.0 Hz, 86400 samples\n",
      "1 Trace(s) in Stream:\n",
      "Z4.CP08..BHZ | 2012-12-09T00:00:00.009800Z - 2012-12-09T23:59:59.009800Z | 1.0 Hz, 86400 samples\n"
     ]
    },
    {
     "name": "stderr",
     "output_type": "stream",
     "text": [
      "  8%|▊         | 316/3775 [00:27<03:05, 18.65it/s]"
     ]
    },
    {
     "name": "stdout",
     "output_type": "stream",
     "text": [
      "1 Trace(s) in Stream:\n",
      "Z4.CP08..BH1 | 2012-12-30T00:00:00.008300Z - 2012-12-30T23:59:59.008300Z | 1.0 Hz, 86400 samples\n",
      "1 Trace(s) in Stream:\n",
      "Z4.CP08..BHZ | 2012-07-30T00:00:00.015200Z - 2012-07-30T23:59:59.015200Z | 1.0 Hz, 86400 samples\n",
      "1 Trace(s) in Stream:\n",
      "Z4.CP08..BH2 | 2012-06-02T00:00:00.001300Z - 2012-06-02T23:59:59.001300Z | 1.0 Hz, 86400 samples\n",
      "1 Trace(s) in Stream:\n",
      "Z4.CP08..BH1 | 2012-09-15T00:00:00.019100Z - 2012-09-15T23:59:59.019100Z | 1.0 Hz, 86400 samples\n",
      "1 Trace(s) in Stream:\n",
      "Z4.CP08..BHZ | 2012-09-29T00:00:00.018200Z - 2012-09-29T23:59:59.018200Z | 1.0 Hz, 86400 samples\n"
     ]
    },
    {
     "name": "stderr",
     "output_type": "stream",
     "text": [
      "  9%|▊         | 321/3775 [00:28<03:04, 18.72it/s]"
     ]
    },
    {
     "name": "stdout",
     "output_type": "stream",
     "text": [
      "1 Trace(s) in Stream:\n",
      "Z4.CP08..BHZ | 2012-12-15T00:00:00.012900Z - 2012-12-15T23:59:59.012900Z | 1.0 Hz, 86400 samples\n",
      "1 Trace(s) in Stream:\n",
      "Z4.CP08..BH1 | 2013-02-25T00:00:00.000800Z - 2013-02-25T23:59:59.000800Z | 1.0 Hz, 86400 samples\n",
      "1 Trace(s) in Stream:\n",
      "Z4.CP08..BHZ | 2012-11-14T00:00:00.000700Z - 2012-11-14T23:59:59.000700Z | 1.0 Hz, 86400 samples\n",
      "1 Trace(s) in Stream:\n",
      "Z4.CP08..BHZ | 2012-05-28T00:00:00.019500Z - 2012-05-28T23:59:59.019500Z | 1.0 Hz, 86400 samples\n"
     ]
    },
    {
     "name": "stderr",
     "output_type": "stream",
     "text": [
      "  9%|▊         | 325/3775 [00:28<03:02, 18.90it/s]"
     ]
    },
    {
     "name": "stdout",
     "output_type": "stream",
     "text": [
      "1 Trace(s) in Stream:\n",
      "Z4.CP08..BH1 | 2013-02-24T00:00:00.004500Z - 2013-02-24T23:59:59.004500Z | 1.0 Hz, 86400 samples\n",
      "1 Trace(s) in Stream:\n",
      "Z4.CP08..BH2 | 2012-08-13T00:00:00.014300Z - 2012-08-13T23:59:59.014300Z | 1.0 Hz, 86400 samples\n",
      "1 Trace(s) in Stream:\n",
      "Z4.CP08..BHZ | 2012-06-01T00:00:00.005000Z - 2012-06-01T23:59:59.005000Z | 1.0 Hz, 86400 samples\n",
      "1 Trace(s) in Stream:\n",
      "Z4.CP08..BH1 | 2012-11-05T00:00:00.008500Z - 2012-11-05T23:59:59.008500Z | 1.0 Hz, 86400 samples\n",
      "1 Trace(s) in Stream:\n",
      "Z4.CP08..BH1 | 2012-11-07T00:00:00.001200Z - 2012-11-07T23:59:59.001200Z | 1.0 Hz, 86400 samples\n"
     ]
    },
    {
     "name": "stderr",
     "output_type": "stream",
     "text": [
      "  9%|▊         | 330/3775 [00:28<03:09, 18.18it/s]"
     ]
    },
    {
     "name": "stdout",
     "output_type": "stream",
     "text": [
      "1 Trace(s) in Stream:\n",
      "Z4.CP08..BH1 | 2012-10-30T00:00:00.005300Z - 2012-10-30T23:59:59.005300Z | 1.0 Hz, 86400 samples\n",
      "1 Trace(s) in Stream:\n",
      "Z4.CP08..BH2 | 2012-12-26T00:00:00.022900Z - 2012-12-26T23:59:59.022900Z | 1.0 Hz, 86400 samples\n",
      "1 Trace(s) in Stream:\n",
      "Z4.CP08..BH2 | 2012-12-11T00:00:00.002500Z - 2012-12-11T23:59:59.002500Z | 1.0 Hz, 86400 samples\n",
      "1 Trace(s) in Stream:\n",
      "Z4.CP08..BH2 | 2012-08-12T00:00:00.017900Z - 2012-08-12T23:59:59.017900Z | 1.0 Hz, 86400 samples\n"
     ]
    },
    {
     "name": "stderr",
     "output_type": "stream",
     "text": [
      "\r",
      "  9%|▉         | 332/3775 [00:28<03:05, 18.61it/s]"
     ]
    },
    {
     "name": "stdout",
     "output_type": "stream",
     "text": [
      "1 Trace(s) in Stream:\n",
      "Z4.CP08..BHZ | 2012-06-05T00:00:00.015400Z - 2012-06-05T23:59:59.015400Z | 1.0 Hz, 86400 samples\n",
      "1 Trace(s) in Stream:\n",
      "Z4.CP08..BHZ | 2012-05-24T00:00:00.009100Z - 2012-05-24T23:59:59.009100Z | 1.0 Hz, 86400 samples\n",
      "1 Trace(s) in Stream:\n",
      "Z4.CP08..BH1 | 2012-09-29T00:00:00.018200Z - 2012-09-29T23:59:59.018200Z | 1.0 Hz, 86400 samples\n",
      "1 Trace(s) in Stream:\n",
      "Z4.CP08..BHZ | 2013-02-23T00:00:00.008100Z - 2013-02-23T23:59:59.008100Z | 1.0 Hz, 86400 samples\n"
     ]
    },
    {
     "name": "stderr",
     "output_type": "stream",
     "text": [
      "  9%|▉         | 338/3775 [00:28<02:57, 19.37it/s]"
     ]
    },
    {
     "name": "stdout",
     "output_type": "stream",
     "text": [
      "1 Trace(s) in Stream:\n",
      "Z4.CP08..BHZ | 2012-06-04T00:00:00.019000Z - 2012-06-04T23:59:59.019000Z | 1.0 Hz, 86400 samples\n",
      "1 Trace(s) in Stream:\n",
      "Z4.CP08..BH1 | 2012-07-11T00:00:00.009400Z - 2012-07-11T23:59:59.009400Z | 1.0 Hz, 86400 samples\n",
      "1 Trace(s) in Stream:\n",
      "Z4.CP08..BHZ | 2013-01-30T00:00:00.020500Z - 2013-01-30T23:59:59.020500Z | 1.0 Hz, 86400 samples\n",
      "1 Trace(s) in Stream:\n",
      "Z4.CP08..BHZ | 2012-06-22T00:00:00.003500Z - 2012-06-22T23:59:59.003500Z | 1.0 Hz, 86400 samples\n",
      "1 Trace(s) in Stream:\n",
      "Z4.CP08..BHZ | 2012-05-17T00:00:00.009600Z - 2012-05-17T23:59:59.009600Z | 1.0 Hz, 86400 samples\n"
     ]
    },
    {
     "name": "stderr",
     "output_type": "stream",
     "text": [
      "\r",
      "  9%|▉         | 341/3775 [00:29<03:00, 19.00it/s]"
     ]
    },
    {
     "name": "stdout",
     "output_type": "stream",
     "text": [
      "1 Trace(s) in Stream:\n",
      "Z4.CP08..BH2 | 2012-05-09T00:00:00.013700Z - 2012-05-09T23:59:59.013700Z | 1.0 Hz, 86400 samples\n",
      "1 Trace(s) in Stream:\n",
      "Z4.CP08..BH1 | 2012-06-23T00:00:00.024900Z - 2012-06-23T23:59:59.024900Z | 1.0 Hz, 86400 samples\n",
      "1 Trace(s) in Stream:\n",
      "Z4.CP08..BH1 | 2012-12-28T00:00:00.015600Z - 2012-12-28T23:59:59.015600Z | 1.0 Hz, 86400 samples\n",
      "1 Trace(s) in Stream:\n",
      "Z4.CP08..BH2 | 2012-07-13T00:00:00.002100Z - 2012-07-13T23:59:59.002100Z | 1.0 Hz, 86400 samples\n"
     ]
    },
    {
     "name": "stderr",
     "output_type": "stream",
     "text": [
      "  9%|▉         | 345/3775 [00:29<03:06, 18.41it/s]"
     ]
    },
    {
     "name": "stdout",
     "output_type": "stream",
     "text": [
      "1 Trace(s) in Stream:\n",
      "Z4.CP08..BHZ | 2012-12-06T00:00:00.020700Z - 2012-12-06T23:59:59.020700Z | 1.0 Hz, 86400 samples\n",
      "1 Trace(s) in Stream:\n",
      "Z4.CP08..BHZ | 2012-05-14T00:00:00.020500Z - 2012-05-14T23:59:59.020500Z | 1.0 Hz, 86400 samples\n",
      "1 Trace(s) in Stream:\n",
      "Z4.CP08..BH1 | 2013-02-23T00:00:00.008100Z - 2013-02-23T23:59:59.008100Z | 1.0 Hz, 86400 samples\n",
      "1 Trace(s) in Stream:\n",
      "Z4.CP08..BHZ | 2012-05-09T00:00:00.013700Z - 2012-05-09T23:59:59.013700Z | 1.0 Hz, 86400 samples\n"
     ]
    },
    {
     "name": "stderr",
     "output_type": "stream",
     "text": [
      "  9%|▉         | 350/3775 [00:29<03:00, 19.01it/s]"
     ]
    },
    {
     "name": "stdout",
     "output_type": "stream",
     "text": [
      "1 Trace(s) in Stream:\n",
      "Z4.CP08..BH1 | 2012-10-22T00:00:00.009500Z - 2012-10-22T23:59:59.009500Z | 1.0 Hz, 86400 samples\n",
      "1 Trace(s) in Stream:\n",
      "Z4.CP08..BH2 | 2013-02-14T00:00:00.015900Z - 2013-02-14T23:59:59.015900Z | 1.0 Hz, 86400 samples\n",
      "1 Trace(s) in Stream:\n",
      "Z4.CP08..BH2 | 2012-09-26T00:00:00.004100Z - 2012-09-26T23:59:59.004100Z | 1.0 Hz, 86400 samples\n",
      "1 Trace(s) in Stream:\n",
      "Z4.CP08..BH1 | 2012-07-17T00:00:00.012500Z - 2012-07-17T23:59:59.012500Z | 1.0 Hz, 86400 samples\n",
      "1 Trace(s) in Stream:\n",
      "Z4.CP08..BH1 | 2012-08-21T00:00:00.010100Z - 2012-08-21T23:59:59.010100Z | 1.0 Hz, 86400 samples\n",
      "1 Trace(s) in Stream:\n",
      "Z4.CP08..BH2 | 2012-06-07T00:00:00.008100Z - 2012-06-07T23:59:59.008100Z | 1.0 Hz, 86400 samples\n"
     ]
    },
    {
     "name": "stderr",
     "output_type": "stream",
     "text": [
      "  9%|▉         | 357/3775 [00:29<02:54, 19.63it/s]"
     ]
    },
    {
     "name": "stdout",
     "output_type": "stream",
     "text": [
      "1 Trace(s) in Stream:\n",
      "Z4.CP08..BHZ | 2012-08-07T00:00:00.011100Z - 2012-08-07T23:59:59.011100Z | 1.0 Hz, 86400 samples\n",
      "1 Trace(s) in Stream:\n",
      "Z4.CP08..BH1 | 2012-12-09T00:00:00.009800Z - 2012-12-09T23:59:59.009800Z | 1.0 Hz, 86400 samples\n",
      "1 Trace(s) in Stream:\n",
      "Z4.CP08..BH2 | 2013-01-12T00:00:00.011000Z - 2013-01-12T23:59:59.011000Z | 1.0 Hz, 86400 samples\n",
      "1 Trace(s) in Stream:\n",
      "Z4.CP08..BH2 | 2012-09-29T00:00:00.018200Z - 2012-09-29T23:59:59.018200Z | 1.0 Hz, 86400 samples\n",
      "1 Trace(s) in Stream:\n",
      "Z4.CP08..BH1 | 2012-08-01T00:00:00.007900Z - 2012-08-01T23:59:59.007900Z | 1.0 Hz, 86400 samples\n"
     ]
    },
    {
     "name": "stderr",
     "output_type": "stream",
     "text": [
      " 10%|▉         | 361/3775 [00:30<02:58, 19.17it/s]"
     ]
    },
    {
     "name": "stdout",
     "output_type": "stream",
     "text": [
      "1 Trace(s) in Stream:\n",
      "Z4.CP08..BH1 | 2012-10-14T00:00:00.013600Z - 2012-10-14T23:59:59.013600Z | 1.0 Hz, 86400 samples\n",
      "1 Trace(s) in Stream:\n",
      "Z4.CP08..BH1 | 2012-09-21T00:00:00.022300Z - 2012-09-21T23:59:59.022300Z | 1.0 Hz, 86400 samples\n",
      "1 Trace(s) in Stream:\n",
      "Z4.CP08..BHZ | 2013-01-04T00:00:00.015100Z - 2013-01-04T23:59:59.015100Z | 1.0 Hz, 86400 samples\n",
      "1 Trace(s) in Stream:\n",
      "Z4.CP08..BHZ | 2013-01-07T00:00:00.004200Z - 2013-01-07T23:59:59.004200Z | 1.0 Hz, 86400 samples\n"
     ]
    },
    {
     "name": "stderr",
     "output_type": "stream",
     "text": [
      " 10%|▉         | 367/3775 [00:30<03:11, 17.82it/s]"
     ]
    },
    {
     "name": "stdout",
     "output_type": "stream",
     "text": [
      "1 Trace(s) in Stream:\n",
      "Z4.CP08..BH1 | 2012-05-20T00:00:00.023600Z - 2012-05-20T23:59:59.023600Z | 1.0 Hz, 86400 samples\n",
      "1 Trace(s) in Stream:\n",
      "Z4.CP08..BH1 | 2012-11-19T00:00:00.007600Z - 2012-11-19T23:59:59.007600Z | 1.0 Hz, 86400 samples\n",
      "1 Trace(s) in Stream:\n",
      "Z4.CP08..BH1 | 2012-08-07T00:00:00.011100Z - 2012-08-07T23:59:59.011100Z | 1.0 Hz, 86400 samples\n",
      "1 Trace(s) in Stream:\n",
      "Z4.CP08..BH1 | 2012-09-20T00:00:00.000900Z - 2012-09-20T23:59:59.000900Z | 1.0 Hz, 86400 samples\n",
      "1 Trace(s) in Stream:\n",
      "Z4.CP08..BH1 | 2013-01-21T00:00:00.003200Z - 2013-01-21T23:59:59.003200Z | 1.0 Hz, 86400 samples\n"
     ]
    },
    {
     "name": "stderr",
     "output_type": "stream",
     "text": [
      "\r",
      " 10%|▉         | 369/3775 [00:30<03:10, 17.83it/s]"
     ]
    },
    {
     "name": "stdout",
     "output_type": "stream",
     "text": [
      "1 Trace(s) in Stream:\n",
      "Z4.CP08..BHZ | 2012-12-21T00:00:00.016100Z - 2012-12-21T23:59:59.016100Z | 1.0 Hz, 86400 samples\n",
      "1 Trace(s) in Stream:\n",
      "Z4.CP08..BHZ | 2012-08-04T00:00:00.022000Z - 2012-08-04T23:59:59.022000Z | 1.0 Hz, 86400 samples\n",
      "1 Trace(s) in Stream:\n",
      "Z4.CP08..BHZ | 2012-08-11T00:00:00.021500Z - 2012-08-11T23:59:59.021500Z | 1.0 Hz, 86400 samples\n",
      "1 Trace(s) in Stream:\n",
      "Z4.CP08..BHZ | 2012-09-18T00:00:00.008200Z - 2012-09-18T23:59:59.008200Z | 1.0 Hz, 86400 samples\n"
     ]
    },
    {
     "name": "stderr",
     "output_type": "stream",
     "text": [
      " 10%|▉         | 374/3775 [00:30<03:02, 18.62it/s]"
     ]
    },
    {
     "name": "stdout",
     "output_type": "stream",
     "text": [
      "1 Trace(s) in Stream:\n",
      "Z4.CP08..BH1 | 2012-10-05T00:00:00.021300Z - 2012-10-05T23:59:59.021300Z | 1.0 Hz, 86400 samples\n",
      "1 Trace(s) in Stream:\n",
      "Z4.CP08..BHZ | 2012-08-10T00:00:00.000200Z - 2012-08-10T23:59:59.000200Z | 1.0 Hz, 86400 samples\n",
      "1 Trace(s) in Stream:\n",
      "Z4.CP08..BH2 | 2012-11-14T00:00:00.000700Z - 2012-11-14T23:59:59.000700Z | 1.0 Hz, 86400 samples\n",
      "1 Trace(s) in Stream:\n",
      "Z4.CP08..BHZ | 2012-05-11T00:00:00.006400Z - 2012-05-11T23:59:59.006400Z | 1.0 Hz, 86400 samples\n"
     ]
    },
    {
     "name": "stderr",
     "output_type": "stream",
     "text": [
      " 10%|█         | 378/3775 [00:31<03:35, 15.77it/s]"
     ]
    },
    {
     "name": "stdout",
     "output_type": "stream",
     "text": [
      "1 Trace(s) in Stream:\n",
      "Z4.CP08..BH2 | 2012-12-08T00:00:00.013400Z - 2012-12-08T23:59:59.013400Z | 1.0 Hz, 86400 samples\n",
      "1 Trace(s) in Stream:\n",
      "Z4.CP08..BH1 | 2012-10-20T00:00:00.016700Z - 2012-10-20T23:59:59.016700Z | 1.0 Hz, 86400 samples\n",
      "1 Trace(s) in Stream:\n",
      "Z4.CP08..BH2 | 2012-10-22T00:00:00.009500Z - 2012-10-22T23:59:59.009500Z | 1.0 Hz, 86400 samples\n"
     ]
    },
    {
     "name": "stderr",
     "output_type": "stream",
     "text": [
      " 10%|█         | 382/3775 [00:31<03:23, 16.68it/s]"
     ]
    },
    {
     "name": "stdout",
     "output_type": "stream",
     "text": [
      "1 Trace(s) in Stream:\n",
      "Z4.CP08..BH2 | 2012-06-17T00:00:00.021700Z - 2012-06-17T23:59:59.021700Z | 1.0 Hz, 86400 samples\n",
      "1 Trace(s) in Stream:\n",
      "Z4.CP08..BH2 | 2013-03-14T00:00:00.014000Z - 2013-03-14T23:59:59.014000Z | 1.0 Hz, 86400 samples\n",
      "1 Trace(s) in Stream:\n",
      "Z4.CP08..BH1 | 2012-05-28T00:00:00.019500Z - 2012-05-28T23:59:59.019500Z | 1.0 Hz, 86400 samples\n",
      "1 Trace(s) in Stream:\n",
      "Z4.CP08..BH2 | 2012-10-21T00:00:00.013100Z - 2012-10-21T23:59:59.013100Z | 1.0 Hz, 86400 samples\n"
     ]
    },
    {
     "name": "stderr",
     "output_type": "stream",
     "text": [
      " 10%|█         | 386/3775 [00:31<03:13, 17.54it/s]"
     ]
    },
    {
     "name": "stdout",
     "output_type": "stream",
     "text": [
      "1 Trace(s) in Stream:\n",
      "Z4.CP08..BH2 | 2012-07-01T00:00:00.020800Z - 2012-07-01T23:59:59.020800Z | 1.0 Hz, 86400 samples\n",
      "1 Trace(s) in Stream:\n",
      "Z4.CP08..BH2 | 2012-06-06T00:00:00.011800Z - 2012-06-06T23:59:59.011800Z | 1.0 Hz, 86400 samples\n",
      "1 Trace(s) in Stream:\n",
      "Z4.CP08..BHZ | 2012-06-29T00:00:00.003000Z - 2012-06-29T23:59:59.003000Z | 1.0 Hz, 86400 samples\n",
      "1 Trace(s) in Stream:\n",
      "Z4.CP08..BH2 | 2012-07-10T00:00:00.013000Z - 2012-07-10T23:59:59.013000Z | 1.0 Hz, 86400 samples\n"
     ]
    },
    {
     "name": "stderr",
     "output_type": "stream",
     "text": [
      " 10%|█         | 391/3775 [00:31<03:02, 18.56it/s]"
     ]
    },
    {
     "name": "stdout",
     "output_type": "stream",
     "text": [
      "1 Trace(s) in Stream:\n",
      "Z4.CP08..BH1 | 2013-01-11T00:00:00.014600Z - 2013-01-11T23:59:59.014600Z | 1.0 Hz, 86400 samples\n",
      "1 Trace(s) in Stream:\n",
      "Z4.CP08..BH2 | 2012-08-28T00:00:00.009700Z - 2012-08-28T23:59:59.009700Z | 1.0 Hz, 86400 samples\n",
      "1 Trace(s) in Stream:\n",
      "Z4.CP08..BHZ | 2012-10-03T00:00:00.003600Z - 2012-10-03T23:59:59.003600Z | 1.0 Hz, 86400 samples\n",
      "1 Trace(s) in Stream:\n",
      "Z4.CP08..BHZ | 2012-12-04T00:00:00.003000Z - 2012-12-04T23:59:59.003000Z | 1.0 Hz, 86400 samples\n",
      "1 Trace(s) in Stream:\n",
      "Z4.CP08..BH2 | 2012-10-24T00:00:00.002200Z - 2012-10-24T23:59:59.002200Z | 1.0 Hz, 86400 samples\n"
     ]
    },
    {
     "name": "stderr",
     "output_type": "stream",
     "text": [
      " 10%|█         | 395/3775 [00:32<03:08, 17.90it/s]"
     ]
    },
    {
     "name": "stdout",
     "output_type": "stream",
     "text": [
      "1 Trace(s) in Stream:\n",
      "Z4.CP08..BH1 | 2012-05-08T00:00:00.017300Z - 2012-05-08T23:59:59.017300Z | 1.0 Hz, 86400 samples\n",
      "1 Trace(s) in Stream:\n",
      "Z4.CP08..BH1 | 2012-11-27T00:00:00.003400Z - 2012-11-27T23:59:59.003400Z | 1.0 Hz, 86400 samples\n",
      "1 Trace(s) in Stream:\n",
      "Z4.CP08..BH1 | 2012-05-13T00:00:00.024100Z - 2012-05-13T23:59:59.024100Z | 1.0 Hz, 86400 samples\n",
      "1 Trace(s) in Stream:\n",
      "Z4.CP08..BH1 | 2012-07-06T00:00:00.002600Z - 2012-07-06T23:59:59.002600Z | 1.0 Hz, 86400 samples\n",
      "1 Trace(s) in Stream:\n",
      "Z4.CP08..BHZ | 2013-02-09T00:00:00.009100Z - 2013-02-09T23:59:59.009100Z | 1.0 Hz, 86400 samples\n"
     ]
    },
    {
     "name": "stderr",
     "output_type": "stream",
     "text": [
      " 11%|█         | 399/3775 [00:32<03:11, 17.65it/s]"
     ]
    },
    {
     "name": "stdout",
     "output_type": "stream",
     "text": [
      "1 Trace(s) in Stream:\n",
      "Z4.CP08..BH2 | 2012-05-19T00:00:00.002300Z - 2012-05-19T23:59:59.002300Z | 1.0 Hz, 86400 samples\n",
      "1 Trace(s) in Stream:\n",
      "Z4.CP08..BH2 | 2012-12-19T00:00:00.023400Z - 2012-12-19T23:59:59.023400Z | 1.0 Hz, 86400 samples\n",
      "1 Trace(s) in Stream:\n",
      "Z4.CP08..BHZ | 2012-11-06T00:00:00.004900Z - 2012-11-06T23:59:59.004900Z | 1.0 Hz, 86400 samples\n",
      "1 Trace(s) in Stream:\n",
      "Z4.CP08..BH2 | 2012-05-31T00:00:00.008600Z - 2012-05-31T23:59:59.008600Z | 1.0 Hz, 86400 samples\n"
     ]
    },
    {
     "name": "stderr",
     "output_type": "stream",
     "text": [
      " 11%|█         | 403/3775 [00:32<03:21, 16.76it/s]"
     ]
    },
    {
     "name": "stdout",
     "output_type": "stream",
     "text": [
      "1 Trace(s) in Stream:\n",
      "Z4.CP08..BH2 | 2012-06-18T00:00:00.018100Z - 2012-06-18T23:59:59.018100Z | 1.0 Hz, 86400 samples\n",
      "1 Trace(s) in Stream:\n",
      "Z4.CP08..BH1 | 2012-10-29T00:00:00.009000Z - 2012-10-29T23:59:59.009000Z | 1.0 Hz, 86400 samples\n",
      "1 Trace(s) in Stream:\n",
      "Z4.CP08..BHZ | 2013-01-08T00:00:00.000600Z - 2013-01-08T23:59:59.000600Z | 1.0 Hz, 86400 samples\n",
      "1 Trace(s) in Stream:\n",
      "Z4.CP08..BHZ | 2012-11-23T00:00:00.018000Z - 2012-11-23T23:59:59.018000Z | 1.0 Hz, 86400 samples\n"
     ]
    },
    {
     "name": "stderr",
     "output_type": "stream",
     "text": [
      " 11%|█         | 407/3775 [00:32<03:22, 16.64it/s]"
     ]
    },
    {
     "name": "stdout",
     "output_type": "stream",
     "text": [
      "1 Trace(s) in Stream:\n",
      "Z4.CP08..BH1 | 2012-10-27T00:00:00.016300Z - 2012-10-27T23:59:59.016300Z | 1.0 Hz, 86400 samples\n",
      "1 Trace(s) in Stream:\n",
      "Z4.CP08..BHZ | 2012-10-01T00:00:00.010900Z - 2012-10-01T23:59:59.010900Z | 1.0 Hz, 86400 samples\n",
      "1 Trace(s) in Stream:\n",
      "Z4.CP08..BH1 | 2012-12-22T00:00:00.012400Z - 2012-12-22T23:59:59.012400Z | 1.0 Hz, 86400 samples\n",
      "1 Trace(s) in Stream:\n",
      "Z4.CP08..BH2 | 2012-10-12T00:00:00.020900Z - 2012-10-12T23:59:59.020900Z | 1.0 Hz, 86400 samples\n"
     ]
    },
    {
     "name": "stderr",
     "output_type": "stream",
     "text": [
      " 11%|█         | 412/3775 [00:33<03:04, 18.25it/s]"
     ]
    },
    {
     "name": "stdout",
     "output_type": "stream",
     "text": [
      "1 Trace(s) in Stream:\n",
      "Z4.CP08..BHZ | 2012-12-02T00:00:00.010200Z - 2012-12-02T23:59:59.010200Z | 1.0 Hz, 86400 samples\n",
      "1 Trace(s) in Stream:\n",
      "Z4.CP08..BH2 | 2013-02-21T00:00:00.013100Z - 2013-02-21T23:59:59.013100Z | 1.0 Hz, 86400 samples\n",
      "1 Trace(s) in Stream:\n",
      "Z4.CP08..BH2 | 2013-01-30T00:00:00.020500Z - 2013-01-30T23:59:59.020500Z | 1.0 Hz, 86400 samples\n",
      "1 Trace(s) in Stream:\n",
      "Z4.CP08..BHZ | 2012-09-16T00:00:00.015500Z - 2012-09-16T23:59:59.015500Z | 1.0 Hz, 86400 samples\n",
      "1 Trace(s) in Stream:\n",
      "Z4.CP08..BHZ | 2013-02-25T00:00:00.000800Z - 2013-02-25T23:59:59.000800Z | 1.0 Hz, 86400 samples\n"
     ]
    },
    {
     "name": "stderr",
     "output_type": "stream",
     "text": [
      " 11%|█         | 417/3775 [00:33<02:57, 18.90it/s]"
     ]
    },
    {
     "name": "stdout",
     "output_type": "stream",
     "text": [
      "1 Trace(s) in Stream:\n",
      "Z4.CP08..BH2 | 2012-11-27T00:00:00.003400Z - 2012-11-27T23:59:59.003400Z | 1.0 Hz, 86400 samples\n",
      "1 Trace(s) in Stream:\n",
      "Z4.CP08..BH1 | 2012-07-09T00:00:00.016600Z - 2012-07-09T23:59:59.016600Z | 1.0 Hz, 86400 samples\n",
      "1 Trace(s) in Stream:\n",
      "Z4.CP08..BH1 | 2012-09-13T00:00:00.001400Z - 2012-09-13T23:59:59.001400Z | 1.0 Hz, 86400 samples\n",
      "1 Trace(s) in Stream:\n",
      "Z4.CP08..BH2 | 2013-01-25T00:00:00.013700Z - 2013-01-25T23:59:59.013700Z | 1.0 Hz, 86400 samples\n"
     ]
    },
    {
     "name": "stderr",
     "output_type": "stream",
     "text": [
      "\r",
      " 11%|█         | 420/3775 [00:33<02:49, 19.78it/s]"
     ]
    },
    {
     "name": "stdout",
     "output_type": "stream",
     "text": [
      "1 Trace(s) in Stream:\n",
      "Z4.CP08..BHZ | 2012-07-04T00:00:00.009800Z - 2012-07-04T23:59:59.009800Z | 1.0 Hz, 86400 samples\n",
      "1 Trace(s) in Stream:\n",
      "Z4.CP08..BH1 | 2013-01-27T00:00:00.006400Z - 2013-01-27T23:59:59.006400Z | 1.0 Hz, 86400 samples\n",
      "1 Trace(s) in Stream:\n",
      "Z4.CP08..BH2 | 2012-06-24T00:00:00.021200Z - 2012-06-24T23:59:59.021200Z | 1.0 Hz, 86400 samples\n",
      "1 Trace(s) in Stream:\n",
      "Z4.CP08..BHZ | 2013-01-24T00:00:00.017300Z - 2013-01-24T23:59:59.017300Z | 1.0 Hz, 86400 samples\n",
      "1 Trace(s) in Stream:\n",
      "Z4.CP08..BHZ | 2012-11-03T00:00:00.015800Z - 2012-11-03T23:59:59.015800Z | 1.0 Hz, 86400 samples\n"
     ]
    },
    {
     "name": "stderr",
     "output_type": "stream",
     "text": [
      " 11%|█▏        | 425/3775 [00:33<02:50, 19.62it/s]"
     ]
    },
    {
     "name": "stdout",
     "output_type": "stream",
     "text": [
      "1 Trace(s) in Stream:\n",
      "Z4.CP08..BH2 | 2012-05-15T00:00:00.016800Z - 2012-05-15T23:59:59.016800Z | 1.0 Hz, 86400 samples\n",
      "1 Trace(s) in Stream:\n",
      "Z4.CP08..BHZ | 2012-09-10T00:00:00.012300Z - 2012-09-10T23:59:59.012300Z | 1.0 Hz, 86400 samples\n",
      "1 Trace(s) in Stream:\n",
      "Z4.CP08..BH2 | 2012-07-15T00:00:00.019800Z - 2012-07-15T23:59:59.019800Z | 1.0 Hz, 86400 samples\n",
      "1 Trace(s) in Stream:\n",
      "Z4.CP08..BH1 | 2013-01-04T00:00:00.015100Z - 2013-01-04T23:59:59.015100Z | 1.0 Hz, 86400 samples\n"
     ]
    },
    {
     "name": "stderr",
     "output_type": "stream",
     "text": [
      " 11%|█▏        | 431/3775 [00:33<02:44, 20.39it/s]"
     ]
    },
    {
     "name": "stdout",
     "output_type": "stream",
     "text": [
      "1 Trace(s) in Stream:\n",
      "Z4.CP08..BH2 | 2012-09-06T00:00:00.001900Z - 2012-09-06T23:59:59.001900Z | 1.0 Hz, 86400 samples\n",
      "1 Trace(s) in Stream:\n",
      "Z4.CP08..BH2 | 2012-06-29T00:00:00.003000Z - 2012-06-29T23:59:59.003000Z | 1.0 Hz, 86400 samples\n",
      "1 Trace(s) in Stream:\n",
      "Z4.CP08..BH1 | 2012-11-23T00:00:00.018000Z - 2012-11-23T23:59:59.018000Z | 1.0 Hz, 86400 samples\n",
      "1 Trace(s) in Stream:\n",
      "Z4.CP08..BHZ | 2012-06-03T00:00:00.022700Z - 2012-06-03T23:59:59.022700Z | 1.0 Hz, 86400 samples\n",
      "1 Trace(s) in Stream:\n",
      "Z4.CP08..BH2 | 2013-01-23T00:00:00.021000Z - 2013-01-23T23:59:59.021000Z | 1.0 Hz, 86400 samples\n",
      "1 Trace(s) in Stream:\n",
      "Z4.CP08..BHZ | 2012-11-09T00:00:00.018900Z - 2012-11-09T23:59:59.018900Z | 1.0 Hz, 86400 samples\n"
     ]
    },
    {
     "name": "stderr",
     "output_type": "stream",
     "text": [
      "\r",
      " 11%|█▏        | 434/3775 [00:34<02:41, 20.65it/s]"
     ]
    },
    {
     "name": "stdout",
     "output_type": "stream",
     "text": [
      "1 Trace(s) in Stream:\n",
      "Z4.CP08..BH1 | 2013-01-24T00:00:00.017300Z - 2013-01-24T23:59:59.017300Z | 1.0 Hz, 86400 samples\n",
      "1 Trace(s) in Stream:\n",
      "Z4.CP08..BH2 | 2012-06-09T00:00:00.000800Z - 2012-06-09T23:59:59.000800Z | 1.0 Hz, 86400 samples\n",
      "1 Trace(s) in Stream:\n",
      "Z4.CP08..BHZ | 2012-11-18T00:00:00.011200Z - 2012-11-18T23:59:59.011200Z | 1.0 Hz, 86400 samples\n",
      "1 Trace(s) in Stream:\n",
      "Z4.CP08..BH2 | 2013-01-18T00:00:00.014200Z - 2013-01-18T23:59:59.014200Z | 1.0 Hz, 86400 samples\n"
     ]
    },
    {
     "name": "stderr",
     "output_type": "stream",
     "text": [
      " 12%|█▏        | 439/3775 [00:34<02:50, 19.52it/s]"
     ]
    },
    {
     "name": "stdout",
     "output_type": "stream",
     "text": [
      "1 Trace(s) in Stream:\n",
      "Z4.CP08..BH1 | 2012-08-26T00:00:00.016900Z - 2012-08-26T23:59:59.016900Z | 1.0 Hz, 86400 samples\n",
      "1 Trace(s) in Stream:\n",
      "Z4.CP08..BHZ | 2012-07-07T00:00:00.023900Z - 2012-07-07T23:59:59.023900Z | 1.0 Hz, 86400 samples\n",
      "1 Trace(s) in Stream:\n",
      "Z4.CP08..BH1 | 2012-12-29T00:00:00.012000Z - 2012-12-29T23:59:59.012000Z | 1.0 Hz, 86400 samples\n",
      "1 Trace(s) in Stream:\n",
      "Z4.CP08..BH1 | 2013-01-26T00:00:00.010000Z - 2013-01-26T23:59:59.010000Z | 1.0 Hz, 86400 samples\n"
     ]
    },
    {
     "name": "stderr",
     "output_type": "stream",
     "text": [
      " 12%|█▏        | 444/3775 [00:34<02:54, 19.10it/s]"
     ]
    },
    {
     "name": "stdout",
     "output_type": "stream",
     "text": [
      "1 Trace(s) in Stream:\n",
      "Z4.CP08..BHZ | 2012-06-09T00:00:00.000800Z - 2012-06-09T23:59:59.000800Z | 1.0 Hz, 86400 samples\n",
      "1 Trace(s) in Stream:\n",
      "Z4.CP08..BH1 | 2012-08-18T00:00:00.021100Z - 2012-08-18T23:59:59.021100Z | 1.0 Hz, 86400 samples\n",
      "1 Trace(s) in Stream:\n",
      "Z4.CP08..BHZ | 2012-07-24T00:00:00.012000Z - 2012-07-24T23:59:59.012000Z | 1.0 Hz, 86400 samples\n",
      "1 Trace(s) in Stream:\n",
      "Z4.CP08..BH1 | 2012-12-07T00:00:00.017000Z - 2012-12-07T23:59:59.017000Z | 1.0 Hz, 86400 samples\n",
      "1 Trace(s) in Stream:\n",
      "Z4.CP08..BH2 | 2012-09-23T00:00:00.015000Z - 2012-09-23T23:59:59.015000Z | 1.0 Hz, 86400 samples\n"
     ]
    },
    {
     "name": "stderr",
     "output_type": "stream",
     "text": [
      " 12%|█▏        | 450/3775 [00:34<02:58, 18.59it/s]"
     ]
    },
    {
     "name": "stdout",
     "output_type": "stream",
     "text": [
      "1 Trace(s) in Stream:\n",
      "Z4.CP08..BH2 | 2013-02-03T00:00:00.005900Z - 2013-02-03T23:59:59.005900Z | 1.0 Hz, 86400 samples\n",
      "1 Trace(s) in Stream:\n",
      "Z4.CP08..BHZ | 2012-07-14T00:00:00.023400Z - 2012-07-14T23:59:59.023400Z | 1.0 Hz, 86400 samples\n",
      "1 Trace(s) in Stream:\n",
      "Z4.CP08..BH1 | 2012-07-08T00:00:00.020300Z - 2012-07-08T23:59:59.020300Z | 1.0 Hz, 86400 samples\n",
      "1 Trace(s) in Stream:\n",
      "Z4.CP08..BH1 | 2013-01-25T00:00:00.013700Z - 2013-01-25T23:59:59.013700Z | 1.0 Hz, 86400 samples\n",
      "1 Trace(s) in Stream:\n",
      "Z4.CP08..BH1 | 2012-09-01T00:00:00.020100Z - 2012-09-01T23:59:59.020100Z | 1.0 Hz, 86400 samples\n"
     ]
    },
    {
     "name": "stderr",
     "output_type": "stream",
     "text": [
      "\r",
      " 12%|█▏        | 452/3775 [00:35<03:22, 16.39it/s]"
     ]
    },
    {
     "name": "stdout",
     "output_type": "stream",
     "text": [
      "1 Trace(s) in Stream:\n",
      "Z4.CP08..BHZ | 2012-07-01T00:00:00.020800Z - 2012-07-01T23:59:59.020800Z | 1.0 Hz, 86400 samples\n",
      "1 Trace(s) in Stream:\n",
      "Z4.CP08..BH2 | 2012-11-17T00:00:00.014800Z - 2012-11-17T23:59:59.014800Z | 1.0 Hz, 86400 samples\n",
      "1 Trace(s) in Stream:\n",
      "Z4.CP08..BH2 | 2013-03-01T00:00:00.011300Z - 2013-03-01T23:59:59.011300Z | 1.0 Hz, 86400 samples\n",
      "1 Trace(s) in Stream:\n",
      "Z4.CP08..BH1 | 2012-07-15T00:00:00.019800Z - 2012-07-15T23:59:59.019800Z | 1.0 Hz, 86400 samples\n"
     ]
    },
    {
     "name": "stderr",
     "output_type": "stream",
     "text": [
      " 12%|█▏        | 457/3775 [00:35<02:58, 18.54it/s]"
     ]
    },
    {
     "name": "stdout",
     "output_type": "stream",
     "text": [
      "1 Trace(s) in Stream:\n",
      "Z4.CP08..BH1 | 2012-05-15T00:00:00.016800Z - 2012-05-15T23:59:59.016800Z | 1.0 Hz, 86400 samples\n",
      "1 Trace(s) in Stream:\n",
      "Z4.CP08..BH1 | 2012-05-26T00:00:00.001800Z - 2012-05-26T23:59:59.001800Z | 1.0 Hz, 86400 samples\n",
      "1 Trace(s) in Stream:\n",
      "Z4.CP08..BH2 | 2012-12-21T00:00:00.016100Z - 2012-12-21T23:59:59.016100Z | 1.0 Hz, 86400 samples\n",
      "1 Trace(s) in Stream:\n",
      "Z4.CP08..BH1 | 2012-09-11T00:00:00.008700Z - 2012-09-11T23:59:59.008700Z | 1.0 Hz, 86400 samples\n",
      "1 Trace(s) in Stream:\n",
      "Z4.CP08..BH2 | 2012-11-20T00:00:00.003900Z - 2012-11-20T23:59:59.003900Z | 1.0 Hz, 86400 samples\n",
      "1 Trace(s) in Stream:\n",
      "Z4.CP08..BHZ | 2012-07-28T00:00:00.022500Z - 2012-07-28T23:59:59.022500Z | 1.0 Hz, 86400 samples\n"
     ]
    },
    {
     "name": "stderr",
     "output_type": "stream",
     "text": [
      " 12%|█▏        | 464/3775 [00:35<03:05, 17.89it/s]"
     ]
    },
    {
     "name": "stdout",
     "output_type": "stream",
     "text": [
      "1 Trace(s) in Stream:\n",
      "Z4.CP08..BHZ | 2012-08-24T00:00:00.024200Z - 2012-08-24T23:59:59.024200Z | 1.0 Hz, 86400 samples\n",
      "1 Trace(s) in Stream:\n",
      "Z4.CP08..BH2 | 2012-07-03T00:00:00.013500Z - 2012-07-03T23:59:59.013500Z | 1.0 Hz, 86400 samples\n",
      "1 Trace(s) in Stream:\n",
      "Z4.CP08..BH2 | 2012-09-18T00:00:00.008200Z - 2012-09-18T23:59:59.008200Z | 1.0 Hz, 86400 samples\n",
      "1 Trace(s) in Stream:\n",
      "Z4.CP08..BH2 | 2012-11-19T00:00:00.007500Z - 2012-11-19T23:59:59.007500Z | 1.0 Hz, 86400 samples\n"
     ]
    },
    {
     "name": "stderr",
     "output_type": "stream",
     "text": [
      " 12%|█▏        | 468/3775 [00:35<02:58, 18.55it/s]"
     ]
    },
    {
     "name": "stdout",
     "output_type": "stream",
     "text": [
      "1 Trace(s) in Stream:\n",
      "Z4.CP08..BH2 | 2012-05-25T00:00:00.005400Z - 2012-05-25T23:59:59.005400Z | 1.0 Hz, 86400 samples\n",
      "1 Trace(s) in Stream:\n",
      "Z4.CP08..BH1 | 2012-11-15T00:00:00.022100Z - 2012-11-15T23:59:59.022100Z | 1.0 Hz, 86400 samples\n",
      "1 Trace(s) in Stream:\n",
      "Z4.CP08..BH2 | 2013-01-10T00:00:00.018300Z - 2013-01-10T23:59:59.018300Z | 1.0 Hz, 86400 samples\n",
      "1 Trace(s) in Stream:\n",
      "Z4.CP08..BH1 | 2012-08-28T00:00:00.009700Z - 2012-08-28T23:59:59.009700Z | 1.0 Hz, 86400 samples\n",
      "1 Trace(s) in Stream:\n",
      "Z4.CP08..BHZ | 2012-08-29T00:00:00.006000Z - 2012-08-29T23:59:59.006000Z | 1.0 Hz, 86400 samples\n"
     ]
    },
    {
     "name": "stderr",
     "output_type": "stream",
     "text": [
      " 13%|█▎        | 473/3775 [00:36<02:52, 19.15it/s]"
     ]
    },
    {
     "name": "stdout",
     "output_type": "stream",
     "text": [
      "1 Trace(s) in Stream:\n",
      "Z4.CP08..BHZ | 2013-03-15T00:00:00.010300Z - 2013-03-15T23:59:59.010300Z | 1.0 Hz, 86400 samples\n",
      "1 Trace(s) in Stream:\n",
      "Z4.CP08..BH2 | 2012-05-24T00:00:00.009100Z - 2012-05-24T23:59:59.009100Z | 1.0 Hz, 86400 samples\n",
      "1 Trace(s) in Stream:\n",
      "Z4.CP08..BHZ | 2012-09-15T00:00:00.019100Z - 2012-09-15T23:59:59.019100Z | 1.0 Hz, 86400 samples\n",
      "1 Trace(s) in Stream:\n",
      "Z4.CP08..BH1 | 2012-05-29T00:00:00.015900Z - 2012-05-29T23:59:59.015900Z | 1.0 Hz, 86400 samples\n",
      "1 Trace(s) in Stream:\n",
      "Z4.CP08..BH1 | 2012-06-16T00:00:00.000400Z - 2012-06-16T23:59:59.000400Z | 1.0 Hz, 86400 samples\n"
     ]
    },
    {
     "name": "stderr",
     "output_type": "stream",
     "text": [
      "\r",
      " 13%|█▎        | 476/3775 [00:36<02:47, 19.64it/s]"
     ]
    },
    {
     "name": "stdout",
     "output_type": "stream",
     "text": [
      "1 Trace(s) in Stream:\n",
      "Z4.CP08..BH2 | 2013-03-15T00:00:00.010300Z - 2013-03-15T23:59:59.010300Z | 1.0 Hz, 86400 samples\n",
      "1 Trace(s) in Stream:\n",
      "Z4.CP08..BH1 | 2013-02-14T00:00:00.015900Z - 2013-02-14T23:59:59.015900Z | 1.0 Hz, 86400 samples\n",
      "1 Trace(s) in Stream:\n",
      "Z4.CP08..BHZ | 2013-01-14T00:00:00.003700Z - 2013-01-14T23:59:59.003700Z | 1.0 Hz, 86400 samples\n",
      "1 Trace(s) in Stream:\n",
      "Z4.CP08..BH2 | 2012-07-31T00:00:00.011600Z - 2012-07-31T23:59:59.011600Z | 1.0 Hz, 86400 samples\n",
      "1 Trace(s) in Stream:\n",
      "Z4.CP08..BH1 | 2012-12-25T00:00:00.001500Z - 2012-12-25T23:59:59.001500Z | 1.0 Hz, 86400 samples\n"
     ]
    },
    {
     "name": "stderr",
     "output_type": "stream",
     "text": [
      " 13%|█▎        | 481/3775 [00:36<02:47, 19.63it/s]"
     ]
    },
    {
     "name": "stdout",
     "output_type": "stream",
     "text": [
      "1 Trace(s) in Stream:\n",
      "Z4.CP08..BH2 | 2012-10-04T00:00:00.000000Z - 2012-10-05T00:00:00.000000Z | 1.0 Hz, 86401 samples\n",
      "1 Trace(s) in Stream:\n",
      "Z4.CP08..BH1 | 2013-02-05T00:00:00.023600Z - 2013-02-05T23:59:59.023600Z | 1.0 Hz, 86400 samples\n",
      "1 Trace(s) in Stream:\n",
      "Z4.CP08..BH2 | 2013-01-02T00:00:00.021300Z - 2013-01-02T23:59:59.021300Z | 1.0 Hz, 86400 samples\n",
      "1 Trace(s) in Stream:\n",
      "Z4.CP08..BHZ | 2012-06-06T00:00:00.011800Z - 2012-06-06T23:59:59.011800Z | 1.0 Hz, 86400 samples\n",
      "1 Trace(s) in Stream:\n",
      "Z4.CP08..BH1 | 2012-11-12T00:00:00.008000Z - 2012-11-12T23:59:59.008000Z | 1.0 Hz, 86400 samples\n"
     ]
    },
    {
     "name": "stderr",
     "output_type": "stream",
     "text": [
      " 13%|█▎        | 487/3775 [00:36<02:45, 19.84it/s]"
     ]
    },
    {
     "name": "stdout",
     "output_type": "stream",
     "text": [
      "1 Trace(s) in Stream:\n",
      "Z4.CP08..BH2 | 2012-12-18T00:00:00.002000Z - 2012-12-18T23:59:59.002000Z | 1.0 Hz, 86400 samples\n",
      "1 Trace(s) in Stream:\n",
      "Z4.CP08..BH1 | 2012-11-18T00:00:00.011200Z - 2012-11-18T23:59:59.011200Z | 1.0 Hz, 86400 samples\n",
      "1 Trace(s) in Stream:\n",
      "Z4.CP08..BH1 | 2012-12-17T00:00:00.005600Z - 2012-12-17T23:59:59.005600Z | 1.0 Hz, 86400 samples\n",
      "1 Trace(s) in Stream:\n",
      "Z4.CP08..BHZ | 2012-07-13T00:00:00.002100Z - 2012-07-13T23:59:59.002100Z | 1.0 Hz, 86400 samples\n"
     ]
    },
    {
     "name": "stderr",
     "output_type": "stream",
     "text": [
      " 13%|█▎        | 492/3775 [00:37<02:51, 19.14it/s]"
     ]
    },
    {
     "name": "stdout",
     "output_type": "stream",
     "text": [
      "1 Trace(s) in Stream:\n",
      "Z4.CP08..BHZ | 2013-03-03T00:00:00.004000Z - 2013-03-03T23:59:59.004000Z | 1.0 Hz, 86400 samples\n",
      "1 Trace(s) in Stream:\n",
      "Z4.CP08..BHZ | 2012-06-23T00:00:00.024900Z - 2012-06-23T23:59:59.024900Z | 1.0 Hz, 86400 samples\n",
      "1 Trace(s) in Stream:\n",
      "Z4.CP08..BHZ | 2013-01-22T00:00:00.024600Z - 2013-01-22T23:59:59.024600Z | 1.0 Hz, 86400 samples\n",
      "1 Trace(s) in Stream:\n",
      "Z4.CP08..BH1 | 2012-10-17T00:00:00.002700Z - 2012-10-17T23:59:59.002700Z | 1.0 Hz, 86400 samples\n"
     ]
    },
    {
     "name": "stderr",
     "output_type": "stream",
     "text": [
      " 13%|█▎        | 496/3775 [00:37<03:12, 17.04it/s]"
     ]
    },
    {
     "name": "stdout",
     "output_type": "stream",
     "text": [
      "1 Trace(s) in Stream:\n",
      "Z4.CP08..BH2 | 2012-12-10T00:00:00.006100Z - 2012-12-10T23:59:59.006100Z | 1.0 Hz, 86400 samples\n",
      "1 Trace(s) in Stream:\n",
      "Z4.CP08..BHZ | 2012-07-18T00:00:00.008900Z - 2012-07-18T23:59:59.008900Z | 1.0 Hz, 86400 samples\n",
      "1 Trace(s) in Stream:\n",
      "Z4.CP08..BH1 | 2012-06-05T00:00:00.015400Z - 2012-06-05T23:59:59.015400Z | 1.0 Hz, 86400 samples\n",
      "1 Trace(s) in Stream:\n",
      "Z4.CP08..BHZ | 2012-10-17T00:00:00.002700Z - 2012-10-17T23:59:59.002700Z | 1.0 Hz, 86400 samples\n"
     ]
    },
    {
     "name": "stderr",
     "output_type": "stream",
     "text": [
      "\r",
      " 13%|█▎        | 498/3775 [00:37<03:24, 16.01it/s]"
     ]
    },
    {
     "name": "stdout",
     "output_type": "stream",
     "text": [
      "1 Trace(s) in Stream:\n",
      "Z4.CP08..BHZ | 2012-11-04T00:00:00.012100Z - 2012-11-04T23:59:59.012100Z | 1.0 Hz, 86400 samples\n",
      "1 Trace(s) in Stream:\n",
      "Z4.CP08..BH1 | 2012-10-01T00:00:00.010900Z - 2012-10-01T23:59:59.010900Z | 1.0 Hz, 86400 samples\n",
      "1 Trace(s) in Stream:\n",
      "Z4.CP08..BH1 | 2013-01-19T00:00:00.010500Z - 2013-01-19T23:59:59.010500Z | 1.0 Hz, 86400 samples\n"
     ]
    },
    {
     "name": "stderr",
     "output_type": "stream",
     "text": [
      " 13%|█▎        | 502/3775 [00:37<03:26, 15.87it/s]"
     ]
    },
    {
     "name": "stdout",
     "output_type": "stream",
     "text": [
      "1 Trace(s) in Stream:\n",
      "Z4.CP08..BHZ | 2013-01-11T00:00:00.014600Z - 2013-01-11T23:59:59.014600Z | 1.0 Hz, 86400 samples\n",
      "1 Trace(s) in Stream:\n",
      "Z4.CP08..BH1 | 2012-08-10T00:00:00.000200Z - 2012-08-10T23:59:59.000200Z | 1.0 Hz, 86400 samples\n",
      "1 Trace(s) in Stream:\n",
      "Z4.CP08..BH2 | 2012-07-08T00:00:00.020300Z - 2012-07-08T23:59:59.020300Z | 1.0 Hz, 86400 samples\n",
      "1 Trace(s) in Stream:\n",
      "Z4.CP08..BH2 | 2012-09-30T00:00:00.014500Z - 2012-09-30T23:59:59.014500Z | 1.0 Hz, 86400 samples\n"
     ]
    },
    {
     "name": "stderr",
     "output_type": "stream",
     "text": [
      " 13%|█▎        | 507/3775 [00:38<02:58, 18.29it/s]"
     ]
    },
    {
     "name": "stdout",
     "output_type": "stream",
     "text": [
      "1 Trace(s) in Stream:\n",
      "Z4.CP08..BHZ | 2013-03-07T00:00:00.014400Z - 2013-03-07T23:59:59.014400Z | 1.0 Hz, 86400 samples\n",
      "1 Trace(s) in Stream:\n",
      "Z4.CP08..BH1 | 2012-05-25T00:00:00.005400Z - 2012-05-25T23:59:59.005400Z | 1.0 Hz, 86400 samples\n",
      "1 Trace(s) in Stream:\n",
      "Z4.CP08..BH2 | 2012-07-28T00:00:00.022500Z - 2012-07-28T23:59:59.022500Z | 1.0 Hz, 86400 samples\n",
      "1 Trace(s) in Stream:\n",
      "Z4.CP08..BH1 | 2012-08-20T00:00:00.013800Z - 2012-08-20T23:59:59.013800Z | 1.0 Hz, 86400 samples\n",
      "1 Trace(s) in Stream:\n",
      "Z4.CP08..BHZ | 2013-02-08T00:00:00.012700Z - 2013-02-08T23:59:59.012700Z | 1.0 Hz, 86400 samples\n"
     ]
    },
    {
     "name": "stderr",
     "output_type": "stream",
     "text": [
      " 14%|█▎        | 512/3775 [00:38<02:49, 19.26it/s]"
     ]
    },
    {
     "name": "stdout",
     "output_type": "stream",
     "text": [
      "1 Trace(s) in Stream:\n",
      "Z4.CP08..BH2 | 2012-09-13T00:00:00.001400Z - 2012-09-13T23:59:59.001400Z | 1.0 Hz, 86400 samples\n",
      "1 Trace(s) in Stream:\n",
      "Z4.CP08..BH1 | 2013-01-13T00:00:00.007400Z - 2013-01-13T23:59:59.007400Z | 1.0 Hz, 86400 samples\n",
      "1 Trace(s) in Stream:\n",
      "Z4.CP08..BH2 | 2012-12-02T00:00:00.010200Z - 2012-12-02T23:59:59.010200Z | 1.0 Hz, 86400 samples\n",
      "1 Trace(s) in Stream:\n",
      "Z4.CP08..BHZ | 2012-06-12T00:00:00.014900Z - 2012-06-12T23:59:59.014900Z | 1.0 Hz, 86400 samples\n"
     ]
    },
    {
     "name": "stderr",
     "output_type": "stream",
     "text": [
      " 14%|█▎        | 516/3775 [00:38<02:49, 19.27it/s]"
     ]
    },
    {
     "name": "stdout",
     "output_type": "stream",
     "text": [
      "1 Trace(s) in Stream:\n",
      "Z4.CP08..BHZ | 2012-11-28T00:00:00.024800Z - 2012-11-28T23:59:59.024800Z | 1.0 Hz, 86400 samples\n",
      "1 Trace(s) in Stream:\n",
      "Z4.CP08..BHZ | 2013-01-27T00:00:00.006400Z - 2013-01-27T23:59:59.006400Z | 1.0 Hz, 86400 samples\n",
      "1 Trace(s) in Stream:\n",
      "Z4.CP08..BH2 | 2012-08-21T00:00:00.010100Z - 2012-08-21T23:59:59.010100Z | 1.0 Hz, 86400 samples\n",
      "1 Trace(s) in Stream:\n",
      "Z4.CP08..BHZ | 2013-01-16T00:00:00.021400Z - 2013-01-16T23:59:59.021400Z | 1.0 Hz, 86400 samples\n"
     ]
    },
    {
     "name": "stderr",
     "output_type": "stream",
     "text": [
      "\r",
      " 14%|█▎        | 518/3775 [00:38<03:10, 17.11it/s]"
     ]
    },
    {
     "name": "stdout",
     "output_type": "stream",
     "text": [
      "1 Trace(s) in Stream:\n",
      "Z4.CP08..BH1 | 2012-06-21T00:00:00.007200Z - 2012-06-21T23:59:59.007200Z | 1.0 Hz, 86400 samples\n",
      "1 Trace(s) in Stream:\n",
      "Z4.CP08..BH2 | 2013-02-11T00:00:00.001800Z - 2013-02-11T23:59:59.001800Z | 1.0 Hz, 86400 samples\n",
      "1 Trace(s) in Stream:\n",
      "Z4.CP08..BH2 | 2012-07-04T00:00:00.009800Z - 2012-07-04T23:59:59.009800Z | 1.0 Hz, 86400 samples\n",
      "1 Trace(s) in Stream:\n",
      "Z4.CP08..BH1 | 2012-08-11T00:00:00.021500Z - 2012-08-11T23:59:59.021500Z | 1.0 Hz, 86400 samples\n"
     ]
    },
    {
     "name": "stderr",
     "output_type": "stream",
     "text": [
      " 14%|█▍        | 522/3775 [00:38<03:20, 16.23it/s]"
     ]
    },
    {
     "name": "stdout",
     "output_type": "stream",
     "text": [
      "1 Trace(s) in Stream:\n",
      "Z4.CP08..BHZ | 2012-07-12T00:00:00.005700Z - 2012-07-12T23:59:59.005700Z | 1.0 Hz, 86400 samples\n",
      "1 Trace(s) in Stream:\n",
      "Z4.CP08..BH1 | 2012-10-15T00:00:00.009900Z - 2012-10-15T23:59:59.009900Z | 1.0 Hz, 86400 samples\n",
      "1 Trace(s) in Stream:\n",
      "Z4.CP08..BH1 | 2012-10-19T00:00:00.020400Z - 2012-10-19T23:59:59.020400Z | 1.0 Hz, 86400 samples\n"
     ]
    },
    {
     "name": "stderr",
     "output_type": "stream",
     "text": [
      " 14%|█▍        | 528/3775 [00:39<03:06, 17.43it/s]"
     ]
    },
    {
     "name": "stdout",
     "output_type": "stream",
     "text": [
      "1 Trace(s) in Stream:\n",
      "Z4.CP08..BH2 | 2013-01-08T00:00:00.000600Z - 2013-01-08T23:59:59.000600Z | 1.0 Hz, 86400 samples\n",
      "1 Trace(s) in Stream:\n",
      "Z4.CP08..BH1 | 2012-05-27T00:00:00.023200Z - 2012-05-27T23:59:59.023200Z | 1.0 Hz, 86400 samples\n",
      "1 Trace(s) in Stream:\n",
      "Z4.CP08..BHZ | 2012-08-27T00:00:00.013300Z - 2012-08-27T23:59:59.013300Z | 1.0 Hz, 86400 samples\n",
      "1 Trace(s) in Stream:\n",
      "Z4.CP08..BH2 | 2012-11-18T00:00:00.011200Z - 2012-11-18T23:59:59.011200Z | 1.0 Hz, 86400 samples\n",
      "1 Trace(s) in Stream:\n",
      "Z4.CP08..BH1 | 2012-07-07T00:00:00.023900Z - 2012-07-07T23:59:59.023900Z | 1.0 Hz, 86400 samples\n"
     ]
    },
    {
     "name": "stderr",
     "output_type": "stream",
     "text": [
      "\r",
      " 14%|█▍        | 530/3775 [00:39<03:02, 17.74it/s]"
     ]
    },
    {
     "name": "stdout",
     "output_type": "stream",
     "text": [
      "1 Trace(s) in Stream:\n",
      "Z4.CP08..BH1 | 2013-02-13T00:00:00.019500Z - 2013-02-13T23:59:59.019500Z | 1.0 Hz, 86400 samples\n",
      "1 Trace(s) in Stream:\n",
      "Z4.CP08..BH2 | 2012-08-09T00:00:00.003800Z - 2012-08-09T23:59:59.003800Z | 1.0 Hz, 86400 samples\n",
      "1 Trace(s) in Stream:\n",
      "Z4.CP08..BHZ | 2012-05-26T00:00:00.001800Z - 2012-05-26T23:59:59.001800Z | 1.0 Hz, 86400 samples\n",
      "1 Trace(s) in Stream:\n",
      "Z4.CP08..BH1 | 2012-07-13T00:00:00.002100Z - 2012-07-13T23:59:59.002100Z | 1.0 Hz, 86400 samples\n",
      "1 Trace(s) in Stream:\n",
      "Z4.CP08..BH2 | 2012-08-17T00:00:00.024700Z - 2012-08-17T23:59:59.024700Z | 1.0 Hz, 86400 samples\n"
     ]
    },
    {
     "name": "stderr",
     "output_type": "stream",
     "text": [
      " 14%|█▍        | 537/3775 [00:39<02:55, 18.43it/s]"
     ]
    },
    {
     "name": "stdout",
     "output_type": "stream",
     "text": [
      "1 Trace(s) in Stream:\n",
      "Z4.CP08..BH1 | 2013-02-27T00:00:00.018600Z - 2013-02-27T23:59:59.018600Z | 1.0 Hz, 86400 samples\n",
      "1 Trace(s) in Stream:\n",
      "Z4.CP08..BHZ | 2012-08-31T00:00:00.023700Z - 2012-08-31T23:59:59.023700Z | 1.0 Hz, 86400 samples\n",
      "1 Trace(s) in Stream:\n",
      "Z4.CP08..BH2 | 2012-06-20T00:00:00.010800Z - 2012-06-20T23:59:59.010800Z | 1.0 Hz, 86400 samples\n",
      "1 Trace(s) in Stream:\n",
      "Z4.CP08..BHZ | 2012-05-31T00:00:00.008600Z - 2012-05-31T23:59:59.008600Z | 1.0 Hz, 86400 samples\n"
     ]
    },
    {
     "name": "stderr",
     "output_type": "stream",
     "text": [
      "\r",
      " 14%|█▍        | 539/3775 [00:39<02:52, 18.78it/s]"
     ]
    },
    {
     "name": "stdout",
     "output_type": "stream",
     "text": [
      "1 Trace(s) in Stream:\n",
      "Z4.CP08..BH2 | 2012-09-17T00:00:00.011900Z - 2012-09-17T23:59:59.011900Z | 1.0 Hz, 86400 samples\n",
      "1 Trace(s) in Stream:\n",
      "Z4.CP08..BH2 | 2012-05-11T00:00:00.006400Z - 2012-05-11T23:59:59.006400Z | 1.0 Hz, 86400 samples\n",
      "1 Trace(s) in Stream:\n",
      "Z4.CP08..BH2 | 2013-03-10T00:00:00.003000Z - 2013-03-10T23:59:59.003000Z | 1.0 Hz, 86400 samples\n",
      "1 Trace(s) in Stream:\n",
      "Z4.CP08..BH1 | 2013-02-18T00:00:00.001300Z - 2013-02-18T23:59:59.001300Z | 1.0 Hz, 86400 samples\n",
      "1 Trace(s) in Stream:\n",
      "Z4.CP08..BH2 | 2012-07-30T00:00:00.015200Z - 2012-07-30T23:59:59.015200Z | 1.0 Hz, 86400 samples\n"
     ]
    },
    {
     "name": "stderr",
     "output_type": "stream",
     "text": [
      " 14%|█▍        | 546/3775 [00:40<02:49, 19.03it/s]"
     ]
    },
    {
     "name": "stdout",
     "output_type": "stream",
     "text": [
      "1 Trace(s) in Stream:\n",
      "Z4.CP08..BH1 | 2012-09-27T00:00:00.000500Z - 2012-09-27T23:59:59.000500Z | 1.0 Hz, 86400 samples\n",
      "1 Trace(s) in Stream:\n",
      "Z4.CP08..BHZ | 2012-06-16T00:00:00.000400Z - 2012-06-16T23:59:59.000400Z | 1.0 Hz, 86400 samples\n",
      "1 Trace(s) in Stream:\n",
      "Z4.CP08..BH1 | 2013-02-09T00:00:00.009100Z - 2013-02-09T23:59:59.009100Z | 1.0 Hz, 86400 samples\n",
      "1 Trace(s) in Stream:\n",
      "Z4.CP08..BH2 | 2013-02-09T00:00:00.009100Z - 2013-02-09T23:59:59.009100Z | 1.0 Hz, 86400 samples\n"
     ]
    },
    {
     "name": "stderr",
     "output_type": "stream",
     "text": [
      "\r",
      " 15%|█▍        | 549/3775 [00:40<02:47, 19.29it/s]"
     ]
    },
    {
     "name": "stdout",
     "output_type": "stream",
     "text": [
      "1 Trace(s) in Stream:\n",
      "Z4.CP08..BH2 | 2012-09-25T00:00:00.007700Z - 2012-09-25T23:59:59.007700Z | 1.0 Hz, 86400 samples\n",
      "1 Trace(s) in Stream:\n",
      "Z4.CP08..BH2 | 2012-08-25T00:00:00.020600Z - 2012-08-25T23:59:59.020600Z | 1.0 Hz, 86400 samples\n",
      "1 Trace(s) in Stream:\n",
      "Z4.CP08..BHZ | 2012-07-17T00:00:00.012500Z - 2012-07-17T23:59:59.012500Z | 1.0 Hz, 86400 samples\n",
      "1 Trace(s) in Stream:\n",
      "Z4.CP08..BH1 | 2013-01-20T00:00:00.006900Z - 2013-01-20T23:59:59.006900Z | 1.0 Hz, 86400 samples\n",
      "1 Trace(s) in Stream:\n",
      "Z4.CP08..BH2 | 2013-02-13T00:00:00.019500Z - 2013-02-13T23:59:59.019500Z | 1.0 Hz, 86400 samples\n"
     ]
    },
    {
     "name": "stderr",
     "output_type": "stream",
     "text": [
      " 15%|█▍        | 554/3775 [00:40<02:53, 18.57it/s]"
     ]
    },
    {
     "name": "stdout",
     "output_type": "stream",
     "text": [
      "1 Trace(s) in Stream:\n",
      "Z4.CP08..BH2 | 2012-06-10T00:00:00.022200Z - 2012-06-10T23:59:59.022200Z | 1.0 Hz, 86400 samples\n",
      "1 Trace(s) in Stream:\n",
      "Z4.CP08..BH2 | 2012-11-02T00:00:00.019400Z - 2012-11-02T23:59:59.019400Z | 1.0 Hz, 86400 samples\n",
      "1 Trace(s) in Stream:\n",
      "Z4.CP08..BH1 | 2012-12-23T00:00:00.008800Z - 2012-12-23T23:59:59.008800Z | 1.0 Hz, 86400 samples\n",
      "1 Trace(s) in Stream:\n",
      "Z4.CP08..BH1 | 2012-11-04T00:00:00.012100Z - 2012-11-04T23:59:59.012100Z | 1.0 Hz, 86400 samples\n"
     ]
    },
    {
     "name": "stderr",
     "output_type": "stream",
     "text": [
      " 15%|█▍        | 558/3775 [00:40<03:10, 16.89it/s]"
     ]
    },
    {
     "name": "stdout",
     "output_type": "stream",
     "text": [
      "1 Trace(s) in Stream:\n",
      "Z4.CP08..BH1 | 2012-10-10T00:00:00.003100Z - 2012-10-10T23:59:59.003100Z | 1.0 Hz, 86400 samples\n",
      "1 Trace(s) in Stream:\n",
      "Z4.CP08..BH1 | 2012-10-12T00:00:00.020900Z - 2012-10-12T23:59:59.020900Z | 1.0 Hz, 86400 samples\n",
      "1 Trace(s) in Stream:\n",
      "Z4.CP08..BHZ | 2012-10-18T00:00:00.024000Z - 2012-10-18T23:59:59.024000Z | 1.0 Hz, 86400 samples\n",
      "1 Trace(s) in Stream:\n",
      "Z4.CP08..BH2 | 2012-08-27T00:00:00.013300Z - 2012-08-27T23:59:59.013300Z | 1.0 Hz, 86400 samples\n"
     ]
    },
    {
     "name": "stderr",
     "output_type": "stream",
     "text": [
      " 15%|█▍        | 562/3775 [00:41<03:03, 17.53it/s]"
     ]
    },
    {
     "name": "stdout",
     "output_type": "stream",
     "text": [
      "1 Trace(s) in Stream:\n",
      "Z4.CP08..BHZ | 2013-02-11T00:00:00.001800Z - 2013-02-11T23:59:59.001800Z | 1.0 Hz, 86400 samples\n",
      "1 Trace(s) in Stream:\n",
      "Z4.CP08..BHZ | 2012-08-14T00:00:00.010600Z - 2012-08-14T23:59:59.010600Z | 1.0 Hz, 86400 samples\n",
      "1 Trace(s) in Stream:\n",
      "Z4.CP08..BH1 | 2012-11-24T00:00:00.014400Z - 2012-11-24T23:59:59.014400Z | 1.0 Hz, 86400 samples\n",
      "1 Trace(s) in Stream:\n",
      "Z4.CP08..BH2 | 2012-06-16T00:00:00.000400Z - 2012-06-16T23:59:59.000400Z | 1.0 Hz, 86400 samples\n"
     ]
    },
    {
     "name": "stderr",
     "output_type": "stream",
     "text": [
      " 15%|█▍        | 566/3775 [00:41<03:03, 17.53it/s]"
     ]
    },
    {
     "name": "stdout",
     "output_type": "stream",
     "text": [
      "1 Trace(s) in Stream:\n",
      "Z4.CP08..BH1 | 2012-10-26T00:00:00.019900Z - 2012-10-26T23:59:59.019900Z | 1.0 Hz, 86400 samples\n",
      "1 Trace(s) in Stream:\n",
      "Z4.CP08..BH1 | 2012-12-08T00:00:00.013400Z - 2012-12-08T23:59:59.013400Z | 1.0 Hz, 86400 samples\n",
      "1 Trace(s) in Stream:\n",
      "Z4.CP08..BH2 | 2013-03-09T00:00:00.007200Z - 2013-03-09T23:59:59.007200Z | 1.0 Hz, 86400 samples\n",
      "1 Trace(s) in Stream:\n",
      "Z4.CP08..BH1 | 2013-02-03T00:00:00.005900Z - 2013-02-03T23:59:59.005900Z | 1.0 Hz, 86400 samples\n"
     ]
    },
    {
     "name": "stderr",
     "output_type": "stream",
     "text": [
      " 15%|█▌        | 570/3775 [00:41<02:53, 18.42it/s]"
     ]
    },
    {
     "name": "stdout",
     "output_type": "stream",
     "text": [
      "1 Trace(s) in Stream:\n",
      "Z4.CP08..BHZ | 2013-01-01T00:00:00.001000Z - 2013-01-01T23:59:59.001000Z | 1.0 Hz, 86400 samples\n",
      "1 Trace(s) in Stream:\n",
      "Z4.CP08..BH2 | 2012-06-28T00:00:00.006700Z - 2012-06-28T23:59:59.006700Z | 1.0 Hz, 86400 samples\n",
      "1 Trace(s) in Stream:\n",
      "Z4.CP08..BH2 | 2013-03-02T00:00:00.007600Z - 2013-03-02T23:59:59.007600Z | 1.0 Hz, 86400 samples\n",
      "1 Trace(s) in Stream:\n",
      "Z4.CP08..BHZ | 2012-10-30T00:00:00.005300Z - 2012-10-30T23:59:59.005300Z | 1.0 Hz, 86400 samples\n"
     ]
    },
    {
     "name": "stderr",
     "output_type": "stream",
     "text": [
      " 15%|█▌        | 574/3775 [00:41<02:52, 18.55it/s]"
     ]
    },
    {
     "name": "stdout",
     "output_type": "stream",
     "text": [
      "1 Trace(s) in Stream:\n",
      "Z4.CP08..BHZ | 2012-10-24T00:00:00.002200Z - 2012-10-24T23:59:59.002200Z | 1.0 Hz, 86400 samples\n",
      "1 Trace(s) in Stream:\n",
      "Z4.CP08..BHZ | 2012-11-24T00:00:00.014400Z - 2012-11-24T23:59:59.014400Z | 1.0 Hz, 86400 samples\n",
      "1 Trace(s) in Stream:\n",
      "Z4.CP08..BHZ | 2013-02-22T00:00:00.011800Z - 2013-02-22T23:59:59.011800Z | 1.0 Hz, 86400 samples\n",
      "1 Trace(s) in Stream:\n",
      "Z4.CP08..BHZ | 2012-12-22T00:00:00.012400Z - 2012-12-22T23:59:59.012400Z | 1.0 Hz, 86400 samples\n",
      "1 Trace(s) in Stream:\n",
      "Z4.CP08..BHZ | 2012-08-20T00:00:00.013800Z - 2012-08-20T23:59:59.013800Z | 1.0 Hz, 86400 samples\n",
      "1 Trace(s) in Stream:\n",
      "Z4.CP08..BH2 | 2012-11-24T00:00:00.014300Z - 2012-11-24T23:59:59.014300Z | 1.0 Hz, 86400 samples\n"
     ]
    },
    {
     "name": "stderr",
     "output_type": "stream",
     "text": [
      " 15%|█▌        | 579/3775 [00:42<02:45, 19.33it/s]"
     ]
    },
    {
     "name": "stdout",
     "output_type": "stream",
     "text": [
      "1 Trace(s) in Stream:\n",
      "Z4.CP08..BHZ | 2013-02-21T00:00:00.013100Z - 2013-02-21T23:59:59.013100Z | 1.0 Hz, 86400 samples\n",
      "1 Trace(s) in Stream:\n",
      "Z4.CP08..BH1 | 2013-01-07T00:00:00.004200Z - 2013-01-07T23:59:59.004200Z | 1.0 Hz, 86400 samples\n",
      "1 Trace(s) in Stream:\n",
      "Z4.CP08..BH2 | 2013-02-17T00:00:00.005000Z - 2013-02-17T23:59:59.005000Z | 1.0 Hz, 86400 samples\n",
      "1 Trace(s) in Stream:\n",
      "Z4.CP08..BH1 | 2012-05-07T00:00:00.021000Z - 2012-05-07T23:59:59.021000Z | 1.0 Hz, 86400 samples\n",
      "1 Trace(s) in Stream:\n",
      "Z4.CP08..BH2 | 2012-05-08T00:00:00.017300Z - 2012-05-08T23:59:59.017300Z | 1.0 Hz, 86400 samples\n"
     ]
    },
    {
     "name": "stderr",
     "output_type": "stream",
     "text": [
      " 15%|█▌        | 585/3775 [00:42<02:36, 20.38it/s]"
     ]
    },
    {
     "name": "stdout",
     "output_type": "stream",
     "text": [
      "1 Trace(s) in Stream:\n",
      "Z4.CP08..BHZ | 2012-11-30T00:00:00.017500Z - 2012-11-30T23:59:59.017500Z | 1.0 Hz, 86400 samples\n",
      "1 Trace(s) in Stream:\n",
      "Z4.CP08..BHZ | 2013-02-05T00:00:00.023600Z - 2013-02-05T23:59:59.023600Z | 1.0 Hz, 86400 samples\n",
      "1 Trace(s) in Stream:\n",
      "Z4.CP08..BH2 | 2013-02-19T00:00:00.022700Z - 2013-02-19T23:59:59.022700Z | 1.0 Hz, 86400 samples\n",
      "1 Trace(s) in Stream:\n",
      "Z4.CP08..BH1 | 2012-10-13T00:00:00.017200Z - 2012-10-13T23:59:59.017200Z | 1.0 Hz, 86400 samples\n"
     ]
    },
    {
     "name": "stderr",
     "output_type": "stream",
     "text": [
      " 16%|█▌        | 590/3775 [00:42<03:05, 17.14it/s]"
     ]
    },
    {
     "name": "stdout",
     "output_type": "stream",
     "text": [
      "1 Trace(s) in Stream:\n",
      "Z4.CP08..BH1 | 2013-02-08T00:00:00.012700Z - 2013-02-08T23:59:59.012700Z | 1.0 Hz, 86400 samples\n",
      "1 Trace(s) in Stream:\n",
      "Z4.CP08..BH2 | 2012-10-26T00:00:00.019900Z - 2012-10-26T23:59:59.019900Z | 1.0 Hz, 86400 samples\n",
      "1 Trace(s) in Stream:\n",
      "Z4.CP08..BHZ | 2012-09-04T00:00:00.009200Z - 2012-09-04T23:59:59.009200Z | 1.0 Hz, 86400 samples\n",
      "1 Trace(s) in Stream:\n",
      "Z4.CP08..BH2 | 2012-08-18T00:00:00.021100Z - 2012-08-18T23:59:59.021100Z | 1.0 Hz, 86400 samples\n"
     ]
    },
    {
     "name": "stderr",
     "output_type": "stream",
     "text": [
      "\r",
      " 16%|█▌        | 592/3775 [00:42<03:03, 17.33it/s]"
     ]
    },
    {
     "name": "stdout",
     "output_type": "stream",
     "text": [
      "1 Trace(s) in Stream:\n",
      "Z4.CP08..BH1 | 2013-02-02T00:00:00.009600Z - 2013-02-02T23:59:59.009600Z | 1.0 Hz, 86400 samples\n",
      "1 Trace(s) in Stream:\n",
      "Z4.CP08..BH2 | 2012-06-23T00:00:00.024900Z - 2012-06-23T23:59:59.024900Z | 1.0 Hz, 86400 samples\n",
      "1 Trace(s) in Stream:\n",
      "Z4.CP08..BH1 | 2012-08-27T00:00:00.013300Z - 2012-08-27T23:59:59.013300Z | 1.0 Hz, 86400 samples\n",
      "1 Trace(s) in Stream:\n",
      "Z4.CP08..BH2 | 2012-09-08T00:00:00.019600Z - 2012-09-08T23:59:59.019600Z | 1.0 Hz, 86400 samples\n",
      "1 Trace(s) in Stream:\n",
      "Z4.CP08..BHZ | 2012-07-19T00:00:00.005200Z - 2012-07-19T23:59:59.005200Z | 1.0 Hz, 86400 samples\n"
     ]
    },
    {
     "name": "stderr",
     "output_type": "stream",
     "text": [
      " 16%|█▌        | 598/3775 [00:43<02:46, 19.10it/s]"
     ]
    },
    {
     "name": "stdout",
     "output_type": "stream",
     "text": [
      "1 Trace(s) in Stream:\n",
      "Z4.CP08..BH1 | 2012-12-12T00:00:00.023800Z - 2012-12-12T23:59:59.023800Z | 1.0 Hz, 86400 samples\n",
      "1 Trace(s) in Stream:\n",
      "Z4.CP08..BHZ | 2012-09-07T00:00:00.023300Z - 2012-09-07T23:59:59.023300Z | 1.0 Hz, 86400 samples\n",
      "1 Trace(s) in Stream:\n",
      "Z4.CP08..BHZ | 2012-10-27T00:00:00.016300Z - 2012-10-27T23:59:59.016300Z | 1.0 Hz, 86400 samples\n",
      "1 Trace(s) in Stream:\n",
      "Z4.CP08..BH2 | 2012-06-01T00:00:00.005000Z - 2012-06-01T23:59:59.005000Z | 1.0 Hz, 86400 samples\n"
     ]
    },
    {
     "name": "stderr",
     "output_type": "stream",
     "text": [
      " 16%|█▌        | 603/3775 [00:43<02:47, 18.96it/s]"
     ]
    },
    {
     "name": "stdout",
     "output_type": "stream",
     "text": [
      "1 Trace(s) in Stream:\n",
      "Z4.CP08..BHZ | 2012-09-09T00:00:00.016000Z - 2012-09-09T23:59:59.016000Z | 1.0 Hz, 86400 samples\n",
      "1 Trace(s) in Stream:\n",
      "Z4.CP08..BH1 | 2012-06-08T00:00:00.004500Z - 2012-06-08T23:59:59.004500Z | 1.0 Hz, 86400 samples\n",
      "1 Trace(s) in Stream:\n",
      "Z4.CP08..BH1 | 2012-09-07T00:00:00.023300Z - 2012-09-07T23:59:59.023300Z | 1.0 Hz, 86400 samples\n",
      "1 Trace(s) in Stream:\n",
      "Z4.CP08..BHZ | 2013-02-15T00:00:00.012200Z - 2013-02-15T23:59:59.012200Z | 1.0 Hz, 86400 samples\n"
     ]
    },
    {
     "name": "stderr",
     "output_type": "stream",
     "text": [
      " 16%|█▌        | 608/3775 [00:43<02:51, 18.51it/s]"
     ]
    },
    {
     "name": "stdout",
     "output_type": "stream",
     "text": [
      "1 Trace(s) in Stream:\n",
      "Z4.CP08..BHZ | 2012-09-12T00:00:00.005100Z - 2012-09-12T23:59:59.005100Z | 1.0 Hz, 86400 samples\n",
      "1 Trace(s) in Stream:\n",
      "Z4.CP08..BH1 | 2013-01-17T00:00:00.017800Z - 2013-01-17T23:59:59.017800Z | 1.0 Hz, 86400 samples\n",
      "1 Trace(s) in Stream:\n",
      "Z4.CP08..BHZ | 2012-11-07T00:00:00.001200Z - 2012-11-07T23:59:59.001200Z | 1.0 Hz, 86400 samples\n",
      "1 Trace(s) in Stream:\n",
      "Z4.CP08..BH1 | 2013-01-23T00:00:00.021000Z - 2013-01-23T23:59:59.021000Z | 1.0 Hz, 86400 samples\n",
      "1 Trace(s) in Stream:\n",
      "Z4.CP08..BH2 | 2012-10-08T00:00:00.010400Z - 2012-10-08T23:59:59.010400Z | 1.0 Hz, 86400 samples\n"
     ]
    },
    {
     "name": "stderr",
     "output_type": "stream",
     "text": [
      " 16%|█▌        | 612/3775 [00:43<02:52, 18.30it/s]"
     ]
    },
    {
     "name": "stdout",
     "output_type": "stream",
     "text": [
      "1 Trace(s) in Stream:\n",
      "Z4.CP08..BHZ | 2012-09-22T00:00:00.018700Z - 2012-09-22T23:59:59.018700Z | 1.0 Hz, 86400 samples\n",
      "1 Trace(s) in Stream:\n",
      "Z4.CP08..BHZ | 2012-06-19T00:00:00.014400Z - 2012-06-19T23:59:59.014400Z | 1.0 Hz, 86400 samples\n",
      "1 Trace(s) in Stream:\n",
      "Z4.CP08..BH1 | 2012-10-31T00:00:00.001700Z - 2012-10-31T23:59:59.001700Z | 1.0 Hz, 86400 samples\n",
      "1 Trace(s) in Stream:\n",
      "Z4.CP08..BH1 | 2013-03-15T00:00:00.010300Z - 2013-03-15T23:59:59.010300Z | 1.0 Hz, 86400 samples\n"
     ]
    },
    {
     "name": "stderr",
     "output_type": "stream",
     "text": [
      "\r",
      " 16%|█▋        | 615/3775 [00:43<02:48, 18.76it/s]"
     ]
    },
    {
     "name": "stdout",
     "output_type": "stream",
     "text": [
      "1 Trace(s) in Stream:\n",
      "Z4.CP08..BHZ | 2012-08-21T00:00:00.010100Z - 2012-08-21T23:59:59.010100Z | 1.0 Hz, 86400 samples\n",
      "1 Trace(s) in Stream:\n",
      "Z4.CP08..BH1 | 2012-12-13T00:00:00.020200Z - 2012-12-13T23:59:59.020200Z | 1.0 Hz, 86400 samples\n",
      "1 Trace(s) in Stream:\n",
      "Z4.CP08..BH2 | 2012-06-25T00:00:00.017600Z - 2012-06-25T23:59:59.017600Z | 1.0 Hz, 86400 samples\n",
      "1 Trace(s) in Stream:\n",
      "Z4.CP08..BH2 | 2013-03-11T00:00:00.024900Z - 2013-03-11T23:59:59.024900Z | 1.0 Hz, 86400 samples\n"
     ]
    },
    {
     "name": "stderr",
     "output_type": "stream",
     "text": [
      " 16%|█▋        | 619/3775 [00:44<02:51, 18.39it/s]"
     ]
    },
    {
     "name": "stdout",
     "output_type": "stream",
     "text": [
      "1 Trace(s) in Stream:\n",
      "Z4.CP08..BH1 | 2012-09-25T00:00:00.007700Z - 2012-09-25T23:59:59.007700Z | 1.0 Hz, 86400 samples\n",
      "1 Trace(s) in Stream:\n",
      "Z4.CP08..BH2 | 2012-06-14T00:00:00.007600Z - 2012-06-14T23:59:59.007600Z | 1.0 Hz, 86400 samples\n",
      "1 Trace(s) in Stream:\n",
      "Z4.CP08..BH2 | 2012-08-23T00:00:00.002900Z - 2012-08-23T23:59:59.002900Z | 1.0 Hz, 86400 samples\n",
      "1 Trace(s) in Stream:\n",
      "Z4.CP08..BH2 | 2012-10-06T00:00:00.017700Z - 2012-10-06T23:59:59.017700Z | 1.0 Hz, 86400 samples\n"
     ]
    },
    {
     "name": "stderr",
     "output_type": "stream",
     "text": [
      " 17%|█▋        | 623/3775 [00:44<02:57, 17.73it/s]"
     ]
    },
    {
     "name": "stdout",
     "output_type": "stream",
     "text": [
      "1 Trace(s) in Stream:\n",
      "Z4.CP08..BHZ | 2012-08-09T00:00:00.003800Z - 2012-08-09T23:59:59.003800Z | 1.0 Hz, 86400 samples\n",
      "1 Trace(s) in Stream:\n",
      "Z4.CP08..BH1 | 2012-09-24T00:00:00.011400Z - 2012-09-24T23:59:59.011400Z | 1.0 Hz, 86400 samples\n",
      "1 Trace(s) in Stream:\n",
      "Z4.CP08..BH2 | 2012-11-13T00:00:00.004400Z - 2012-11-13T23:59:59.004400Z | 1.0 Hz, 86400 samples\n",
      "1 Trace(s) in Stream:\n",
      "Z4.CP08..BH1 | 2013-01-22T00:00:00.024600Z - 2013-01-22T23:59:59.024600Z | 1.0 Hz, 86400 samples\n"
     ]
    },
    {
     "name": "stderr",
     "output_type": "stream",
     "text": [
      " 17%|█▋        | 627/3775 [00:44<02:59, 17.59it/s]"
     ]
    },
    {
     "name": "stdout",
     "output_type": "stream",
     "text": [
      "1 Trace(s) in Stream:\n",
      "Z4.CP08..BH1 | 2012-07-29T00:00:00.018900Z - 2012-07-29T23:59:59.018900Z | 1.0 Hz, 86400 samples\n",
      "1 Trace(s) in Stream:\n",
      "Z4.CP08..BHZ | 2013-02-27T00:00:00.018600Z - 2013-02-27T23:59:59.018600Z | 1.0 Hz, 86400 samples\n",
      "1 Trace(s) in Stream:\n",
      "Z4.CP08..BH2 | 2012-10-29T00:00:00.009000Z - 2012-10-29T23:59:59.009000Z | 1.0 Hz, 86400 samples\n",
      "1 Trace(s) in Stream:\n",
      "Z4.CP08..BH1 | 2012-06-06T00:00:00.011800Z - 2012-06-06T23:59:59.011800Z | 1.0 Hz, 86400 samples\n"
     ]
    },
    {
     "name": "stderr",
     "output_type": "stream",
     "text": [
      " 17%|█▋        | 632/3775 [00:44<02:47, 18.77it/s]"
     ]
    },
    {
     "name": "stdout",
     "output_type": "stream",
     "text": [
      "1 Trace(s) in Stream:\n",
      "Z4.CP08..BH1 | 2012-07-16T00:00:00.016200Z - 2012-07-16T23:59:59.016200Z | 1.0 Hz, 86400 samples\n",
      "1 Trace(s) in Stream:\n",
      "Z4.CP08..BH2 | 2012-06-22T00:00:00.003500Z - 2012-06-22T23:59:59.003500Z | 1.0 Hz, 86400 samples\n",
      "1 Trace(s) in Stream:\n",
      "Z4.CP08..BH1 | 2013-03-04T00:00:00.000400Z - 2013-03-04T23:59:59.000400Z | 1.0 Hz, 86400 samples\n",
      "1 Trace(s) in Stream:\n",
      "Z4.CP08..BH1 | 2012-07-22T00:00:00.019300Z - 2012-07-22T23:59:59.019300Z | 1.0 Hz, 86400 samples\n",
      "1 Trace(s) in Stream:\n",
      "Z4.CP08..BH1 | 2012-11-09T00:00:00.019000Z - 2012-11-09T23:59:59.019000Z | 1.0 Hz, 86400 samples\n"
     ]
    },
    {
     "name": "stderr",
     "output_type": "stream",
     "text": [
      " 17%|█▋        | 637/3775 [00:45<02:40, 19.51it/s]"
     ]
    },
    {
     "name": "stdout",
     "output_type": "stream",
     "text": [
      "1 Trace(s) in Stream:\n",
      "Z4.CP08..BHZ | 2012-09-25T00:00:00.007700Z - 2012-09-25T23:59:59.007700Z | 1.0 Hz, 86400 samples\n",
      "1 Trace(s) in Stream:\n",
      "Z4.CP08..BHZ | 2012-11-02T00:00:00.019400Z - 2012-11-02T23:59:59.019400Z | 1.0 Hz, 86400 samples\n",
      "1 Trace(s) in Stream:\n",
      "Z4.CP08..BH2 | 2012-11-11T00:00:00.011700Z - 2012-11-11T23:59:59.011700Z | 1.0 Hz, 86400 samples\n",
      "1 Trace(s) in Stream:\n",
      "Z4.CP08..BH2 | 2012-06-21T00:00:00.007200Z - 2012-06-21T23:59:59.007200Z | 1.0 Hz, 86400 samples\n",
      "1 Trace(s) in Stream:\n",
      "Z4.CP08..BH2 | 2012-05-07T00:00:00.021000Z - 2012-05-07T23:59:59.021000Z | 1.0 Hz, 86400 samples\n"
     ]
    },
    {
     "name": "stderr",
     "output_type": "stream",
     "text": [
      " 17%|█▋        | 641/3775 [00:45<02:40, 19.47it/s]"
     ]
    },
    {
     "name": "stdout",
     "output_type": "stream",
     "text": [
      "1 Trace(s) in Stream:\n",
      "Z4.CP08..BH2 | 2013-02-25T00:00:00.000800Z - 2013-02-25T23:59:59.000800Z | 1.0 Hz, 86400 samples\n",
      "1 Trace(s) in Stream:\n",
      "Z4.CP08..BH2 | 2012-11-22T00:00:00.021600Z - 2012-11-22T23:59:59.021600Z | 1.0 Hz, 86400 samples\n",
      "1 Trace(s) in Stream:\n",
      "Z4.CP08..BH1 | 2012-07-10T00:00:00.013000Z - 2012-07-10T23:59:59.013000Z | 1.0 Hz, 86400 samples\n",
      "1 Trace(s) in Stream:\n",
      "Z4.CP08..BH2 | 2012-12-15T00:00:00.012900Z - 2012-12-15T23:59:59.012900Z | 1.0 Hz, 86400 samples\n"
     ]
    },
    {
     "name": "stderr",
     "output_type": "stream",
     "text": [
      " 17%|█▋        | 646/3775 [00:45<02:40, 19.49it/s]"
     ]
    },
    {
     "name": "stdout",
     "output_type": "stream",
     "text": [
      "1 Trace(s) in Stream:\n",
      "Z4.CP08..BH2 | 2012-08-08T00:00:00.007500Z - 2012-08-08T23:59:59.007500Z | 1.0 Hz, 86400 samples\n",
      "1 Trace(s) in Stream:\n",
      "Z4.CP08..BHZ | 2012-05-10T00:00:00.010000Z - 2012-05-10T23:59:59.010000Z | 1.0 Hz, 86400 samples\n",
      "1 Trace(s) in Stream:\n",
      "Z4.CP08..BH1 | 2012-09-23T00:00:00.015000Z - 2012-09-23T23:59:59.015000Z | 1.0 Hz, 86400 samples\n",
      "1 Trace(s) in Stream:\n",
      "Z4.CP08..BHZ | 2013-01-26T00:00:00.010000Z - 2013-01-26T23:59:59.010000Z | 1.0 Hz, 86400 samples\n",
      "1 Trace(s) in Stream:\n",
      "Z4.CP08..BH2 | 2013-01-24T00:00:00.017300Z - 2013-01-24T23:59:59.017300Z | 1.0 Hz, 86400 samples\n"
     ]
    },
    {
     "name": "stderr",
     "output_type": "stream",
     "text": [
      " 17%|█▋        | 651/3775 [00:45<02:40, 19.50it/s]"
     ]
    },
    {
     "name": "stdout",
     "output_type": "stream",
     "text": [
      "1 Trace(s) in Stream:\n",
      "Z4.CP08..BH2 | 2012-10-14T00:00:00.013600Z - 2012-10-14T23:59:59.013600Z | 1.0 Hz, 86400 samples\n",
      "1 Trace(s) in Stream:\n",
      "Z4.CP08..BH2 | 2012-09-01T00:00:00.020100Z - 2012-09-01T23:59:59.020100Z | 1.0 Hz, 86400 samples\n",
      "1 Trace(s) in Stream:\n",
      "Z4.CP08..BHZ | 2013-01-05T00:00:00.011500Z - 2013-01-05T23:59:59.011500Z | 1.0 Hz, 86400 samples\n",
      "1 Trace(s) in Stream:\n",
      "Z4.CP08..BH1 | 2012-07-05T00:00:00.006200Z - 2012-07-05T23:59:59.006200Z | 1.0 Hz, 86400 samples\n",
      "1 Trace(s) in Stream:\n",
      "Z4.CP08..BHZ | 2013-02-16T00:00:00.008600Z - 2013-02-16T23:59:59.008600Z | 1.0 Hz, 86400 samples\n",
      "1 Trace(s) in Stream:\n",
      "Z4.CP08..BH2 | 2012-05-28T00:00:00.019500Z - 2012-05-28T23:59:59.019500Z | 1.0 Hz, 86400 samples\n"
     ]
    },
    {
     "name": "stderr",
     "output_type": "stream",
     "text": [
      " 17%|█▋        | 655/3775 [00:46<02:38, 19.69it/s]"
     ]
    },
    {
     "name": "stdout",
     "output_type": "stream",
     "text": [
      "1 Trace(s) in Stream:\n",
      "Z4.CP08..BH1 | 2012-07-18T00:00:00.008900Z - 2012-07-18T23:59:59.008900Z | 1.0 Hz, 86400 samples\n",
      "1 Trace(s) in Stream:\n",
      "Z4.CP08..BHZ | 2012-06-10T00:00:00.022200Z - 2012-06-10T23:59:59.022200Z | 1.0 Hz, 86400 samples\n",
      "1 Trace(s) in Stream:\n",
      "Z4.CP08..BH2 | 2012-11-05T00:00:00.008500Z - 2012-11-05T23:59:59.008500Z | 1.0 Hz, 86400 samples\n",
      "1 Trace(s) in Stream:\n",
      "Z4.CP08..BHZ | 2012-11-19T00:00:00.007600Z - 2012-11-19T23:59:59.007600Z | 1.0 Hz, 86400 samples\n",
      "1 Trace(s) in Stream:\n",
      "Z4.CP08..BH1 | 2012-06-11T00:00:00.018600Z - 2012-06-11T23:59:59.018600Z | 1.0 Hz, 86400 samples\n"
     ]
    },
    {
     "name": "stderr",
     "output_type": "stream",
     "text": [
      " 18%|█▊        | 661/3775 [00:46<02:31, 20.52it/s]"
     ]
    },
    {
     "name": "stdout",
     "output_type": "stream",
     "text": [
      "1 Trace(s) in Stream:\n",
      "Z4.CP08..BH1 | 2012-06-22T00:00:00.003500Z - 2012-06-22T23:59:59.003500Z | 1.0 Hz, 86400 samples\n",
      "1 Trace(s) in Stream:\n",
      "Z4.CP08..BH1 | 2012-05-12T00:00:00.002800Z - 2012-05-12T23:59:59.002800Z | 1.0 Hz, 86400 samples\n",
      "1 Trace(s) in Stream:\n",
      "Z4.CP08..BH1 | 2012-06-29T00:00:00.003000Z - 2012-06-29T23:59:59.003000Z | 1.0 Hz, 86400 samples\n",
      "1 Trace(s) in Stream:\n",
      "Z4.CP08..BHZ | 2012-11-12T00:00:00.008000Z - 2012-11-12T23:59:59.008000Z | 1.0 Hz, 86400 samples\n",
      "1 Trace(s) in Stream:\n",
      "Z4.CP08..BHZ | 2013-02-28T00:00:00.014900Z - 2013-02-28T23:59:59.014900Z | 1.0 Hz, 86400 samples"
     ]
    },
    {
     "name": "stderr",
     "output_type": "stream",
     "text": [
      "\r",
      " 18%|█▊        | 664/3775 [00:46<02:34, 20.11it/s]"
     ]
    },
    {
     "name": "stdout",
     "output_type": "stream",
     "text": [
      "\n",
      "1 Trace(s) in Stream:\n",
      "Z4.CP08..BH2 | 2012-08-24T00:00:00.024200Z - 2012-08-24T23:59:59.024200Z | 1.0 Hz, 86400 samples\n",
      "1 Trace(s) in Stream:\n",
      "Z4.CP08..BH2 | 2012-11-07T00:00:00.001200Z - 2012-11-07T23:59:59.001200Z | 1.0 Hz, 86400 samples\n",
      "1 Trace(s) in Stream:\n",
      "Z4.CP08..BH2 | 2012-07-06T00:00:00.002600Z - 2012-07-06T23:59:59.002600Z | 1.0 Hz, 86400 samples\n",
      "1 Trace(s) in Stream:\n",
      "Z4.CP08..BH1 | 2012-06-14T00:00:00.007600Z - 2012-06-14T23:59:59.007600Z | 1.0 Hz, 86400 samples\n"
     ]
    },
    {
     "name": "stderr",
     "output_type": "stream",
     "text": [
      " 18%|█▊        | 670/3775 [00:46<02:33, 20.27it/s]"
     ]
    },
    {
     "name": "stdout",
     "output_type": "stream",
     "text": [
      "1 Trace(s) in Stream:\n",
      "Z4.CP08..BHZ | 2012-10-29T00:00:00.009000Z - 2012-10-29T23:59:59.009000Z | 1.0 Hz, 86400 samples\n",
      "1 Trace(s) in Stream:\n",
      "Z4.CP08..BH1 | 2012-10-03T00:00:00.003600Z - 2012-10-03T23:59:59.003600Z | 1.0 Hz, 86400 samples\n",
      "1 Trace(s) in Stream:\n",
      "Z4.CP08..BH1 | 2013-01-18T00:00:00.014200Z - 2013-01-18T23:59:59.014200Z | 1.0 Hz, 86400 samples\n",
      "1 Trace(s) in Stream:\n",
      "Z4.CP08..BH1 | 2012-10-07T00:00:00.014100Z - 2012-10-07T23:59:59.014100Z | 1.0 Hz, 86400 samples\n",
      "1 Trace(s) in Stream:\n",
      "Z4.CP08..BH2 | 2012-05-18T00:00:00.005900Z - 2012-05-18T23:59:59.005900Z | 1.0 Hz, 86400 samples\n"
     ]
    },
    {
     "name": "stderr",
     "output_type": "stream",
     "text": [
      " 18%|█▊        | 676/3775 [00:47<02:34, 20.02it/s]"
     ]
    },
    {
     "name": "stdout",
     "output_type": "stream",
     "text": [
      "1 Trace(s) in Stream:\n",
      "Z4.CP08..BH1 | 2012-10-02T00:00:00.007300Z - 2012-10-02T23:59:59.007300Z | 1.0 Hz, 86400 samples\n",
      "1 Trace(s) in Stream:\n",
      "Z4.CP08..BH2 | 2012-05-30T00:00:00.012200Z - 2012-05-30T23:59:59.012200Z | 1.0 Hz, 86400 samples\n",
      "1 Trace(s) in Stream:\n",
      "Z4.CP08..BH2 | 2012-12-25T00:00:00.001500Z - 2012-12-25T23:59:59.001500Z | 1.0 Hz, 86400 samples\n",
      "1 Trace(s) in Stream:\n",
      "Z4.CP08..BHZ | 2012-12-05T00:00:00.024300Z - 2012-12-05T23:59:59.024300Z | 1.0 Hz, 86400 samples\n"
     ]
    },
    {
     "name": "stderr",
     "output_type": "stream",
     "text": [
      "\r",
      " 18%|█▊        | 679/3775 [00:47<02:31, 20.44it/s]"
     ]
    },
    {
     "name": "stdout",
     "output_type": "stream",
     "text": [
      "1 Trace(s) in Stream:\n",
      "Z4.CP08..BH2 | 2013-02-06T00:00:00.020000Z - 2013-02-06T23:59:59.020000Z | 1.0 Hz, 86400 samples\n",
      "1 Trace(s) in Stream:\n",
      "Z4.CP08..BH2 | 2012-10-11T00:00:00.024500Z - 2012-10-11T23:59:59.024500Z | 1.0 Hz, 86400 samples\n",
      "1 Trace(s) in Stream:\n",
      "Z4.CP08..BHZ | 2012-07-22T00:00:00.019300Z - 2012-07-22T23:59:59.019300Z | 1.0 Hz, 86400 samples\n",
      "1 Trace(s) in Stream:\n",
      "Z4.CP08..BHZ | 2012-07-29T00:00:00.018800Z - 2012-07-29T23:59:59.018800Z | 1.0 Hz, 86400 samples\n",
      "1 Trace(s) in Stream:\n",
      "Z4.CP08..BHZ | 2012-10-23T00:00:00.005800Z - 2012-10-23T23:59:59.005800Z | 1.0 Hz, 86400 samples\n"
     ]
    },
    {
     "name": "stderr",
     "output_type": "stream",
     "text": [
      "\r",
      " 18%|█▊        | 682/3775 [00:47<02:34, 20.05it/s]"
     ]
    },
    {
     "name": "stdout",
     "output_type": "stream",
     "text": [
      "1 Trace(s) in Stream:\n",
      "Z4.CP08..BH2 | 2012-11-04T00:00:00.012100Z - 2012-11-04T23:59:59.012100Z | 1.0 Hz, 86400 samples\n",
      "1 Trace(s) in Stream:\n",
      "Z4.CP08..BH2 | 2013-02-27T00:00:00.018600Z - 2013-02-27T23:59:59.018600Z | 1.0 Hz, 86400 samples\n",
      "1 Trace(s) in Stream:\n",
      "Z4.CP08..BH1 | 2012-11-11T00:00:00.011700Z - 2012-11-11T23:59:59.011700Z | 1.0 Hz, 86400 samples\n",
      "1 Trace(s) in Stream:\n",
      "Z4.CP08..BH1 | 2012-10-09T00:00:00.006800Z - 2012-10-09T23:59:59.006800Z | 1.0 Hz, 86400 samples\n"
     ]
    },
    {
     "name": "stderr",
     "output_type": "stream",
     "text": [
      " 18%|█▊        | 687/3775 [00:47<02:49, 18.17it/s]"
     ]
    },
    {
     "name": "stdout",
     "output_type": "stream",
     "text": [
      "1 Trace(s) in Stream:\n",
      "Z4.CP08..BH1 | 2012-10-21T00:00:00.013100Z - 2012-10-21T23:59:59.013100Z | 1.0 Hz, 86400 samples\n",
      "1 Trace(s) in Stream:\n",
      "Z4.CP08..BH2 | 2012-09-10T00:00:00.012300Z - 2012-09-10T23:59:59.012300Z | 1.0 Hz, 86400 samples\n",
      "1 Trace(s) in Stream:\n",
      "Z4.CP08..BH1 | 2013-02-12T00:00:00.023200Z - 2013-02-12T23:59:59.023200Z | 1.0 Hz, 86400 samples\n",
      "1 Trace(s) in Stream:\n",
      "Z4.CP08..BH1 | 2012-12-03T00:00:00.006600Z - 2012-12-03T23:59:59.006600Z | 1.0 Hz, 86400 samples\n"
     ]
    },
    {
     "name": "stderr",
     "output_type": "stream",
     "text": [
      " 18%|█▊        | 692/3775 [00:47<02:41, 19.07it/s]"
     ]
    },
    {
     "name": "stdout",
     "output_type": "stream",
     "text": [
      "1 Trace(s) in Stream:\n",
      "Z4.CP08..BHZ | 2012-12-17T00:00:00.005600Z - 2012-12-17T23:59:59.005600Z | 1.0 Hz, 86400 samples\n",
      "1 Trace(s) in Stream:\n",
      "Z4.CP08..BHZ | 2012-08-13T00:00:00.014300Z - 2012-08-13T23:59:59.014300Z | 1.0 Hz, 86400 samples\n",
      "1 Trace(s) in Stream:\n",
      "Z4.CP08..BH2 | 2012-10-18T00:00:00.024000Z - 2012-10-18T23:59:59.024000Z | 1.0 Hz, 86400 samples\n",
      "1 Trace(s) in Stream:\n",
      "Z4.CP08..BHZ | 2012-07-06T00:00:00.002600Z - 2012-07-06T23:59:59.002600Z | 1.0 Hz, 86400 samples\n"
     ]
    },
    {
     "name": "stderr",
     "output_type": "stream",
     "text": [
      " 18%|█▊        | 698/3775 [00:48<02:42, 18.90it/s]"
     ]
    },
    {
     "name": "stdout",
     "output_type": "stream",
     "text": [
      "1 Trace(s) in Stream:\n",
      "Z4.CP08..BH1 | 2012-11-25T00:00:00.010700Z - 2012-11-25T23:59:59.010700Z | 1.0 Hz, 86400 samples\n",
      "1 Trace(s) in Stream:\n",
      "Z4.CP08..BHZ | 2012-08-17T00:00:00.024700Z - 2012-08-17T23:59:59.024700Z | 1.0 Hz, 86400 samples\n",
      "1 Trace(s) in Stream:\n",
      "Z4.CP08..BH2 | 2012-12-16T00:00:00.009300Z - 2012-12-16T23:59:59.009300Z | 1.0 Hz, 86400 samples\n",
      "1 Trace(s) in Stream:\n",
      "Z4.CP08..BHZ | 2012-09-19T00:00:00.004600Z - 2012-09-19T23:59:59.004600Z | 1.0 Hz, 86400 samples\n",
      "1 Trace(s) in Stream:\n",
      "Z4.CP08..BH1 | 2012-06-24T00:00:00.021200Z - 2012-06-24T23:59:59.021200Z | 1.0 Hz, 86400 samples\n"
     ]
    },
    {
     "name": "stderr",
     "output_type": "stream",
     "text": [
      "\r",
      " 19%|█▊        | 700/3775 [00:48<02:42, 18.94it/s]"
     ]
    },
    {
     "name": "stdout",
     "output_type": "stream",
     "text": [
      "1 Trace(s) in Stream:\n",
      "Z4.CP08..BHZ | 2012-07-20T00:00:00.001600Z - 2012-07-20T23:59:59.001600Z | 1.0 Hz, 86400 samples\n",
      "1 Trace(s) in Stream:\n",
      "Z4.CP08..BHZ | 2012-08-19T00:00:00.017400Z - 2012-08-19T23:59:59.017400Z | 1.0 Hz, 86400 samples\n",
      "1 Trace(s) in Stream:\n",
      "Z4.CP08..BH1 | 2013-01-16T00:00:00.021400Z - 2013-01-16T23:59:59.021400Z | 1.0 Hz, 86400 samples\n",
      "1 Trace(s) in Stream:\n",
      "Z4.CP08..BHZ | 2012-12-20T00:00:00.019700Z - 2012-12-20T23:59:59.019700Z | 1.0 Hz, 86400 samples\n",
      "1 Trace(s) in Stream:\n",
      "Z4.CP08..BH1 | 2012-11-10T00:00:00.015300Z - 2012-11-10T23:59:59.015300Z | 1.0 Hz, 86400 samples\n"
     ]
    },
    {
     "name": "stderr",
     "output_type": "stream",
     "text": [
      " 19%|█▊        | 705/3775 [00:48<02:38, 19.34it/s]"
     ]
    },
    {
     "name": "stdout",
     "output_type": "stream",
     "text": [
      "1 Trace(s) in Stream:\n",
      "Z4.CP08..BH1 | 2013-03-11T00:00:00.024900Z - 2013-03-11T23:59:59.024900Z | 1.0 Hz, 86400 samples\n",
      "1 Trace(s) in Stream:\n",
      "Z4.CP08..BH1 | 2012-08-30T00:00:00.002400Z - 2012-08-30T23:59:59.002400Z | 1.0 Hz, 86400 samples\n",
      "1 Trace(s) in Stream:\n",
      "Z4.CP08..BH1 | 2012-09-09T00:00:00.016000Z - 2012-09-09T23:59:59.016000Z | 1.0 Hz, 86400 samples\n",
      "1 Trace(s) in Stream:\n",
      "Z4.CP08..BH2 | 2012-09-04T00:00:00.009200Z - 2012-09-04T23:59:59.009200Z | 1.0 Hz, 86400 samples\n",
      "1 Trace(s) in Stream:\n",
      "Z4.CP08..BH2 | 2012-09-12T00:00:00.005100Z - 2012-09-12T23:59:59.005100Z | 1.0 Hz, 86400 samples\n"
     ]
    },
    {
     "name": "stderr",
     "output_type": "stream",
     "text": [
      " 19%|█▉        | 712/3775 [00:49<02:42, 18.82it/s]"
     ]
    },
    {
     "name": "stdout",
     "output_type": "stream",
     "text": [
      "1 Trace(s) in Stream:\n",
      "Z4.CP08..BHZ | 2012-05-22T00:00:00.016400Z - 2012-05-22T23:59:59.016400Z | 1.0 Hz, 86400 samples\n",
      "1 Trace(s) in Stream:\n",
      "Z4.CP08..BH1 | 2012-09-08T00:00:00.019600Z - 2012-09-08T23:59:59.019600Z | 1.0 Hz, 86400 samples\n",
      "1 Trace(s) in Stream:\n",
      "Z4.CP08..BHZ | 2013-02-13T00:00:00.019500Z - 2013-02-13T23:59:59.019500Z | 1.0 Hz, 86400 samples\n",
      "1 Trace(s) in Stream:\n",
      "Z4.CP08..BHZ | 2013-03-16T00:00:00.006700Z - 2013-03-16T23:59:59.006700Z | 1.0 Hz, 86400 samples\n"
     ]
    },
    {
     "name": "stderr",
     "output_type": "stream",
     "text": [
      " 19%|█▉        | 716/3775 [00:49<03:03, 16.71it/s]"
     ]
    },
    {
     "name": "stdout",
     "output_type": "stream",
     "text": [
      "1 Trace(s) in Stream:\n",
      "Z4.CP08..BHZ | 2013-01-23T00:00:00.021000Z - 2013-01-23T23:59:59.021000Z | 1.0 Hz, 86400 samples\n",
      "1 Trace(s) in Stream:\n",
      "Z4.CP08..BHZ | 2012-05-20T00:00:00.023600Z - 2012-05-20T23:59:59.023600Z | 1.0 Hz, 86400 samples\n",
      "1 Trace(s) in Stream:\n",
      "Z4.CP08..BHZ | 2012-07-31T00:00:00.011600Z - 2012-07-31T23:59:59.011600Z | 1.0 Hz, 86400 samples\n",
      "1 Trace(s) in Stream:\n",
      "Z4.CP08..BH1 | 2012-09-28T00:00:00.021800Z - 2012-09-28T23:59:59.021800Z | 1.0 Hz, 86400 samples\n"
     ]
    },
    {
     "name": "stderr",
     "output_type": "stream",
     "text": [
      " 19%|█▉        | 720/3775 [00:49<02:54, 17.53it/s]"
     ]
    },
    {
     "name": "stdout",
     "output_type": "stream",
     "text": [
      "1 Trace(s) in Stream:\n",
      "Z4.CP08..BH2 | 2012-12-06T00:00:00.020700Z - 2012-12-06T23:59:59.020700Z | 1.0 Hz, 86400 samples\n",
      "1 Trace(s) in Stream:\n",
      "Z4.CP08..BH1 | 2012-07-19T00:00:00.005200Z - 2012-07-19T23:59:59.005200Z | 1.0 Hz, 86400 samples\n",
      "1 Trace(s) in Stream:\n",
      "Z4.CP08..BH1 | 2013-01-03T00:00:00.018800Z - 2013-01-03T23:59:59.018800Z | 1.0 Hz, 86400 samples\n",
      "1 Trace(s) in Stream:\n",
      "Z4.CP08..BH2 | 2013-02-04T00:00:00.002300Z - 2013-02-04T23:59:59.002300Z | 1.0 Hz, 86400 samples\n"
     ]
    },
    {
     "name": "stderr",
     "output_type": "stream",
     "text": [
      " 19%|█▉        | 724/3775 [00:49<02:47, 18.26it/s]"
     ]
    },
    {
     "name": "stdout",
     "output_type": "stream",
     "text": [
      "1 Trace(s) in Stream:\n",
      "Z4.CP08..BH2 | 2012-08-07T00:00:00.011100Z - 2012-08-07T23:59:59.011100Z | 1.0 Hz, 86400 samples\n",
      "1 Trace(s) in Stream:\n",
      "Z4.CP08..BHZ | 2012-11-22T00:00:00.021600Z - 2012-11-22T23:59:59.021600Z | 1.0 Hz, 86400 samples\n",
      "1 Trace(s) in Stream:\n",
      "Z4.CP08..BH2 | 2012-08-05T00:00:00.018400Z - 2012-08-05T23:59:59.018400Z | 1.0 Hz, 86400 samples\n",
      "1 Trace(s) in Stream:\n",
      "Z4.CP08..BH2 | 2012-10-23T00:00:00.005800Z - 2012-10-23T23:59:59.005800Z | 1.0 Hz, 86400 samples\n"
     ]
    },
    {
     "name": "stderr",
     "output_type": "stream",
     "text": [
      " 19%|█▉        | 728/3775 [00:49<02:49, 17.94it/s]"
     ]
    },
    {
     "name": "stdout",
     "output_type": "stream",
     "text": [
      "1 Trace(s) in Stream:\n",
      "Z4.CP08..BHZ | 2012-12-30T00:00:00.008300Z - 2012-12-30T23:59:59.008300Z | 1.0 Hz, 86400 samples\n",
      "1 Trace(s) in Stream:\n",
      "Z4.CP08..BHZ | 2012-08-30T00:00:00.002400Z - 2012-08-30T23:59:59.002400Z | 1.0 Hz, 86400 samples\n",
      "1 Trace(s) in Stream:\n",
      "Z4.CP08..BH1 | 2012-11-26T00:00:00.007100Z - 2012-11-26T23:59:59.007100Z | 1.0 Hz, 86400 samples\n",
      "1 Trace(s) in Stream:\n",
      "Z4.CP08..BH2 | 2013-02-08T00:00:00.012700Z - 2013-02-08T23:59:59.012700Z | 1.0 Hz, 86400 samples\n",
      "1 Trace(s) in Stream:\n",
      "Z4.CP08..BHZ | 2012-08-22T00:00:00.006500Z - 2012-08-22T23:59:59.006500Z | 1.0 Hz, 86400 samples\n",
      "1 Trace(s) in Stream:\n",
      "Z4.CP08..BH1 | 2012-06-12T00:00:00.014900Z - 2012-06-12T23:59:59.014900Z | 1.0 Hz, 86400 samples\n"
     ]
    },
    {
     "name": "stderr",
     "output_type": "stream",
     "text": [
      " 19%|█▉        | 733/3775 [00:50<02:39, 19.07it/s]"
     ]
    },
    {
     "name": "stdout",
     "output_type": "stream",
     "text": [
      "1 Trace(s) in Stream:\n",
      "Z4.CP08..BH1 | 2012-12-26T00:00:00.022900Z - 2012-12-26T23:59:59.022900Z | 1.0 Hz, 86400 samples\n",
      "1 Trace(s) in Stream:\n",
      "Z4.CP08..BH1 | 2012-12-16T00:00:00.009300Z - 2012-12-16T23:59:59.009300Z | 1.0 Hz, 86400 samples\n",
      "1 Trace(s) in Stream:\n",
      "Z4.CP08..BHZ | 2012-07-21T00:00:00.023000Z - 2012-07-21T23:59:59.023000Z | 1.0 Hz, 86400 samples\n",
      "1 Trace(s) in Stream:\n",
      "Z4.CP08..BH2 | 2012-10-19T00:00:00.020400Z - 2012-10-19T23:59:59.020400Z | 1.0 Hz, 86400 samples\n"
     ]
    },
    {
     "name": "stderr",
     "output_type": "stream",
     "text": [
      " 20%|█▉        | 737/3775 [00:50<02:49, 17.91it/s]"
     ]
    },
    {
     "name": "stdout",
     "output_type": "stream",
     "text": [
      "1 Trace(s) in Stream:\n",
      "Z4.CP08..BH2 | 2012-12-17T00:00:00.005600Z - 2012-12-17T23:59:59.005600Z | 1.0 Hz, 86400 samples\n",
      "1 Trace(s) in Stream:\n",
      "Z4.CP08..BHZ | 2012-06-13T00:00:00.011300Z - 2012-06-13T23:59:59.011300Z | 1.0 Hz, 86400 samples\n",
      "1 Trace(s) in Stream:\n",
      "Z4.CP08..BH1 | 2012-06-01T00:00:00.005000Z - 2012-06-01T23:59:59.005000Z | 1.0 Hz, 86400 samples\n",
      "1 Trace(s) in Stream:\n",
      "Z4.CP08..BHZ | 2013-01-12T00:00:00.011000Z - 2013-01-12T23:59:59.011000Z | 1.0 Hz, 86400 samples\n"
     ]
    },
    {
     "name": "stderr",
     "output_type": "stream",
     "text": [
      " 20%|█▉        | 742/3775 [00:50<02:46, 18.21it/s]"
     ]
    },
    {
     "name": "stdout",
     "output_type": "stream",
     "text": [
      "1 Trace(s) in Stream:\n",
      "Z4.CP08..BHZ | 2013-01-20T00:00:00.006900Z - 2013-01-20T23:59:59.006900Z | 1.0 Hz, 86400 samples\n",
      "1 Trace(s) in Stream:\n",
      "Z4.CP08..BH2 | 2012-06-15T00:00:00.004000Z - 2012-06-15T23:59:59.004000Z | 1.0 Hz, 86400 samples\n",
      "1 Trace(s) in Stream:\n",
      "Z4.CP08..BH2 | 2012-09-03T00:00:00.012800Z - 2012-09-03T23:59:59.012800Z | 1.0 Hz, 86400 samples\n",
      "1 Trace(s) in Stream:\n",
      "Z4.CP08..BH1 | 2012-10-23T00:00:00.005800Z - 2012-10-23T23:59:59.005800Z | 1.0 Hz, 86400 samples\n"
     ]
    },
    {
     "name": "stderr",
     "output_type": "stream",
     "text": [
      " 20%|█▉        | 746/3775 [00:50<02:43, 18.51it/s]"
     ]
    },
    {
     "name": "stdout",
     "output_type": "stream",
     "text": [
      "1 Trace(s) in Stream:\n",
      "Z4.CP08..BH1 | 2012-05-24T00:00:00.009100Z - 2012-05-24T23:59:59.009100Z | 1.0 Hz, 86400 samples\n",
      "1 Trace(s) in Stream:\n",
      "Z4.CP08..BH1 | 2012-12-10T00:00:00.006100Z - 2012-12-10T23:59:59.006100Z | 1.0 Hz, 86400 samples\n",
      "1 Trace(s) in Stream:\n",
      "Z4.CP08..BHZ | 2012-05-29T00:00:00.015900Z - 2012-05-29T23:59:59.015900Z | 1.0 Hz, 86400 samples\n",
      "1 Trace(s) in Stream:\n",
      "Z4.CP08..BH2 | 2012-09-27T00:00:00.000500Z - 2012-09-27T23:59:59.000500Z | 1.0 Hz, 86400 samples\n"
     ]
    },
    {
     "name": "stderr",
     "output_type": "stream",
     "text": [
      " 20%|█▉        | 751/3775 [00:51<02:38, 19.10it/s]"
     ]
    },
    {
     "name": "stdout",
     "output_type": "stream",
     "text": [
      "1 Trace(s) in Stream:\n",
      "Z4.CP08..BH1 | 2013-01-31T00:00:00.016800Z - 2013-01-31T23:59:59.016800Z | 1.0 Hz, 86400 samples\n",
      "1 Trace(s) in Stream:\n",
      "Z4.CP08..BH2 | 2012-10-09T00:00:00.006800Z - 2012-10-09T23:59:59.006800Z | 1.0 Hz, 86400 samples\n",
      "1 Trace(s) in Stream:\n",
      "Z4.CP08..BH2 | 2012-11-21T00:00:00.000300Z - 2012-11-21T23:59:59.000300Z | 1.0 Hz, 86400 samples\n",
      "1 Trace(s) in Stream:\n",
      "Z4.CP08..BH1 | 2012-06-13T00:00:00.011300Z - 2012-06-13T23:59:59.011300Z | 1.0 Hz, 86400 samples\n",
      "1 Trace(s) in Stream:\n",
      "Z4.CP08..BHZ | 2012-12-28T00:00:00.015600Z - 2012-12-28T23:59:59.015600Z | 1.0 Hz, 86400 samples\n"
     ]
    },
    {
     "name": "stderr",
     "output_type": "stream",
     "text": [
      "\r",
      " 20%|█▉        | 754/3775 [00:51<02:44, 18.40it/s]"
     ]
    },
    {
     "name": "stdout",
     "output_type": "stream",
     "text": [
      "1 Trace(s) in Stream:\n",
      "Z4.CP08..BHZ | 2012-11-16T00:00:00.018500Z - 2012-11-16T23:59:59.018500Z | 1.0 Hz, 86400 samples\n",
      "1 Trace(s) in Stream:\n",
      "Z4.CP08..BHZ | 2012-08-25T00:00:00.020600Z - 2012-08-25T23:59:59.020600Z | 1.0 Hz, 86400 samples\n",
      "1 Trace(s) in Stream:\n",
      "Z4.CP08..BH1 | 2012-06-09T00:00:00.000800Z - 2012-06-09T23:59:59.000800Z | 1.0 Hz, 86400 samples\n",
      "1 Trace(s) in Stream:\n",
      "Z4.CP08..BH1 | 2013-01-28T00:00:00.002800Z - 2013-01-28T23:59:59.002800Z | 1.0 Hz, 86400 samples\n",
      "1 Trace(s) in Stream:\n",
      "Z4.CP08..BH1 | 2012-07-12T00:00:00.005700Z - 2012-07-12T23:59:59.005700Z | 1.0 Hz, 86400 samples\n"
     ]
    },
    {
     "name": "stderr",
     "output_type": "stream",
     "text": [
      " 20%|██        | 761/3775 [00:51<02:38, 19.02it/s]"
     ]
    },
    {
     "name": "stdout",
     "output_type": "stream",
     "text": [
      "1 Trace(s) in Stream:\n",
      "Z4.CP08..BH1 | 2012-11-30T00:00:00.017500Z - 2012-11-30T23:59:59.017500Z | 1.0 Hz, 86400 samples\n",
      "1 Trace(s) in Stream:\n",
      "Z4.CP08..BH2 | 2012-08-20T00:00:00.013800Z - 2012-08-20T23:59:59.013800Z | 1.0 Hz, 86400 samples\n",
      "1 Trace(s) in Stream:\n",
      "Z4.CP08..BH1 | 2013-01-15T00:00:00.000100Z - 2013-01-15T23:59:59.000100Z | 1.0 Hz, 86400 samples\n",
      "1 Trace(s) in Stream:\n",
      "Z4.CP08..BH2 | 2012-06-05T00:00:00.015400Z - 2012-06-05T23:59:59.015400Z | 1.0 Hz, 86400 samples\n",
      "1 Trace(s) in Stream:\n",
      "Z4.CP08..BHZ | 2012-08-28T00:00:00.009700Z - 2012-08-28T23:59:59.009700Z | 1.0 Hz, 86400 samples\n"
     ]
    },
    {
     "name": "stderr",
     "output_type": "stream",
     "text": [
      " 20%|██        | 766/3775 [00:51<02:32, 19.73it/s]"
     ]
    },
    {
     "name": "stdout",
     "output_type": "stream",
     "text": [
      "1 Trace(s) in Stream:\n",
      "Z4.CP08..BHZ | 2013-03-01T00:00:00.011300Z - 2013-03-01T23:59:59.011300Z | 1.0 Hz, 86400 samples\n",
      "1 Trace(s) in Stream:\n",
      "Z4.CP08..BH1 | 2013-01-10T00:00:00.018300Z - 2013-01-10T23:59:59.018300Z | 1.0 Hz, 86400 samples\n",
      "1 Trace(s) in Stream:\n",
      "Z4.CP08..BH1 | 2013-03-16T00:00:00.006700Z - 2013-03-16T23:59:59.006700Z | 1.0 Hz, 86400 samples\n",
      "1 Trace(s) in Stream:\n",
      "Z4.CP08..BH1 | 2012-10-24T00:00:00.002200Z - 2012-10-24T23:59:59.002200Z | 1.0 Hz, 86400 samples\n",
      "1 Trace(s) in Stream:\n",
      "Z4.CP08..BH2 | 2012-08-03T00:00:00.000700Z - 2012-08-03T23:59:59.000700Z | 1.0 Hz, 86400 samples\n",
      "1 Trace(s) in Stream:\n",
      "Z4.CP08..BHZ | 2012-10-02T00:00:00.007300Z - 2012-10-02T23:59:59.007300Z | 1.0 Hz, 86400 samples\n"
     ]
    },
    {
     "name": "stderr",
     "output_type": "stream",
     "text": [
      " 20%|██        | 770/3775 [00:52<02:45, 18.10it/s]"
     ]
    },
    {
     "name": "stdout",
     "output_type": "stream",
     "text": [
      "1 Trace(s) in Stream:\n",
      "Z4.CP08..BH2 | 2012-07-29T00:00:00.018900Z - 2012-07-29T23:59:59.018900Z | 1.0 Hz, 86400 samples\n",
      "1 Trace(s) in Stream:\n",
      "Z4.CP08..BH2 | 2012-11-29T00:00:00.021200Z - 2012-11-29T23:59:59.021200Z | 1.0 Hz, 86400 samples\n",
      "1 Trace(s) in Stream:\n",
      "Z4.CP08..BH2 | 2013-01-04T00:00:00.015100Z - 2013-01-04T23:59:59.015100Z | 1.0 Hz, 86400 samples\n"
     ]
    },
    {
     "name": "stderr",
     "output_type": "stream",
     "text": [
      "\r",
      " 20%|██        | 772/3775 [00:52<02:48, 17.80it/s]"
     ]
    },
    {
     "name": "stdout",
     "output_type": "stream",
     "text": [
      "1 Trace(s) in Stream:\n",
      "Z4.CP08..BH2 | 2013-02-07T00:00:00.016400Z - 2013-02-07T23:59:59.016400Z | 1.0 Hz, 86400 samples\n",
      "1 Trace(s) in Stream:\n",
      "Z4.CP08..BHZ | 2012-08-15T00:00:00.007000Z - 2012-08-15T23:59:59.007000Z | 1.0 Hz, 86400 samples\n",
      "1 Trace(s) in Stream:\n",
      "Z4.CP08..BH1 | 2013-02-16T00:00:00.008600Z - 2013-02-16T23:59:59.008600Z | 1.0 Hz, 86400 samples\n",
      "1 Trace(s) in Stream:\n",
      "Z4.CP08..BH2 | 2013-01-21T00:00:00.003200Z - 2013-01-21T23:59:59.003200Z | 1.0 Hz, 86400 samples\n",
      "1 Trace(s) in Stream:\n",
      "Z4.CP08..BH2 | 2012-08-26T00:00:00.016900Z - 2012-08-26T23:59:59.016900Z | 1.0 Hz, 86400 samples\n"
     ]
    },
    {
     "name": "stderr",
     "output_type": "stream",
     "text": [
      " 21%|██        | 779/3775 [00:52<02:58, 16.79it/s]"
     ]
    },
    {
     "name": "stdout",
     "output_type": "stream",
     "text": [
      "1 Trace(s) in Stream:\n",
      "Z4.CP08..BHZ | 2013-03-10T00:00:00.003000Z - 2013-03-10T23:59:59.003000Z | 1.0 Hz, 86400 samples\n",
      "1 Trace(s) in Stream:\n",
      "Z4.CP08..BHZ | 2013-01-03T00:00:00.018800Z - 2013-01-03T23:59:59.018800Z | 1.0 Hz, 86400 samples\n",
      "1 Trace(s) in Stream:\n",
      "Z4.CP08..BHZ | 2012-05-13T00:00:00.024100Z - 2012-05-13T23:59:59.024100Z | 1.0 Hz, 86400 samples\n",
      "1 Trace(s) in Stream:\n",
      "Z4.CP08..BHZ | 2013-03-12T00:00:00.021300Z - 2013-03-12T23:59:59.021300Z | 1.0 Hz, 86400 samples\n"
     ]
    },
    {
     "name": "stderr",
     "output_type": "stream",
     "text": [
      "\r",
      " 21%|██        | 781/3775 [00:52<02:50, 17.51it/s]"
     ]
    },
    {
     "name": "stdout",
     "output_type": "stream",
     "text": [
      "1 Trace(s) in Stream:\n",
      "Z4.CP08..BH2 | 2012-08-10T00:00:00.000200Z - 2012-08-10T23:59:59.000200Z | 1.0 Hz, 86400 samples\n",
      "1 Trace(s) in Stream:\n",
      "Z4.CP08..BH1 | 2012-09-12T00:00:00.005100Z - 2012-09-12T23:59:59.005100Z | 1.0 Hz, 86400 samples\n",
      "1 Trace(s) in Stream:\n",
      "Z4.CP08..BH1 | 2012-07-25T00:00:00.008400Z - 2012-07-25T23:59:59.008400Z | 1.0 Hz, 86400 samples\n",
      "1 Trace(s) in Stream:\n",
      "Z4.CP08..BH1 | 2012-10-25T00:00:00.023500Z - 2012-10-25T23:59:59.023500Z | 1.0 Hz, 86400 samples\n",
      "1 Trace(s) in Stream:\n",
      "Z4.CP08..BHZ | 2012-05-08T00:00:00.017300Z - 2012-05-08T23:59:59.017300Z | 1.0 Hz, 86400 samples\n"
     ]
    },
    {
     "name": "stderr",
     "output_type": "stream",
     "text": [
      " 21%|██        | 786/3775 [00:53<02:45, 18.10it/s]"
     ]
    },
    {
     "name": "stdout",
     "output_type": "stream",
     "text": [
      "1 Trace(s) in Stream:\n",
      "Z4.CP08..BH2 | 2012-12-23T00:00:00.008800Z - 2012-12-23T23:59:59.008800Z | 1.0 Hz, 86400 samples\n",
      "1 Trace(s) in Stream:\n",
      "Z4.CP08..BHZ | 2013-02-01T00:00:00.013200Z - 2013-02-01T23:59:59.013200Z | 1.0 Hz, 86400 samples\n",
      "1 Trace(s) in Stream:\n",
      "Z4.CP08..BH2 | 2012-06-19T00:00:00.014400Z - 2012-06-19T23:59:59.014400Z | 1.0 Hz, 86400 samples\n",
      "1 Trace(s) in Stream:\n",
      "Z4.CP08..BH1 | 2012-11-29T00:00:00.021200Z - 2012-11-29T23:59:59.021200Z | 1.0 Hz, 86400 samples\n"
     ]
    },
    {
     "name": "stderr",
     "output_type": "stream",
     "text": [
      " 21%|██        | 792/3775 [00:53<02:43, 18.19it/s]"
     ]
    },
    {
     "name": "stdout",
     "output_type": "stream",
     "text": [
      "1 Trace(s) in Stream:\n",
      "Z4.CP08..BHZ | 2013-01-21T00:00:00.003200Z - 2013-01-21T23:59:59.003200Z | 1.0 Hz, 86400 samples\n",
      "1 Trace(s) in Stream:\n",
      "Z4.CP08..BH2 | 2012-09-19T00:00:00.004600Z - 2012-09-19T23:59:59.004600Z | 1.0 Hz, 86400 samples\n",
      "1 Trace(s) in Stream:\n",
      "Z4.CP08..BH2 | 2013-02-22T00:00:00.011800Z - 2013-02-22T23:59:59.011800Z | 1.0 Hz, 86400 samples\n",
      "1 Trace(s) in Stream:\n",
      "Z4.CP08..BHZ | 2012-07-27T00:00:00.001100Z - 2012-07-27T23:59:59.001100Z | 1.0 Hz, 86400 samples\n"
     ]
    },
    {
     "name": "stderr",
     "output_type": "stream",
     "text": [
      " 21%|██        | 797/3775 [00:53<02:40, 18.53it/s]"
     ]
    },
    {
     "name": "stdout",
     "output_type": "stream",
     "text": [
      "1 Trace(s) in Stream:\n",
      "Z4.CP08..BHZ | 2012-05-27T00:00:00.023200Z - 2012-05-27T23:59:59.023200Z | 1.0 Hz, 86400 samples\n",
      "1 Trace(s) in Stream:\n",
      "Z4.CP08..BH1 | 2012-06-30T00:00:00.024400Z - 2012-06-30T23:59:59.024400Z | 1.0 Hz, 86400 samples\n",
      "1 Trace(s) in Stream:\n",
      "Z4.CP08..BH2 | 2013-01-01T00:00:00.001000Z - 2013-01-01T23:59:59.001000Z | 1.0 Hz, 86400 samples\n",
      "1 Trace(s) in Stream:\n",
      "Z4.CP08..BH2 | 2012-12-07T00:00:00.017000Z - 2012-12-07T23:59:59.017000Z | 1.0 Hz, 86400 samples\n",
      "1 Trace(s) in Stream:\n",
      "Z4.CP08..BHZ | 2012-08-03T00:00:00.000600Z - 2012-08-03T23:59:59.000600Z | 1.0 Hz, 86400 samples\n"
     ]
    },
    {
     "name": "stderr",
     "output_type": "stream",
     "text": [
      " 21%|██        | 801/3775 [00:53<02:44, 18.07it/s]"
     ]
    },
    {
     "name": "stdout",
     "output_type": "stream",
     "text": [
      "1 Trace(s) in Stream:\n",
      "Z4.CP08..BH2 | 2012-08-06T00:00:00.014700Z - 2012-08-06T23:59:59.014700Z | 1.0 Hz, 86400 samples\n",
      "1 Trace(s) in Stream:\n",
      "Z4.CP08..BH1 | 2012-06-18T00:00:00.018100Z - 2012-06-18T23:59:59.018100Z | 1.0 Hz, 86400 samples\n",
      "1 Trace(s) in Stream:\n",
      "Z4.CP08..BH1 | 2012-11-16T00:00:00.018500Z - 2012-11-16T23:59:59.018500Z | 1.0 Hz, 86400 samples\n",
      "1 Trace(s) in Stream:\n",
      "Z4.CP08..BHZ | 2012-08-26T00:00:00.016900Z - 2012-08-26T23:59:59.016900Z | 1.0 Hz, 86400 samples\n"
     ]
    },
    {
     "name": "stderr",
     "output_type": "stream",
     "text": [
      " 21%|██▏       | 805/3775 [00:54<02:45, 17.91it/s]"
     ]
    },
    {
     "name": "stdout",
     "output_type": "stream",
     "text": [
      "1 Trace(s) in Stream:\n",
      "Z4.CP08..BHZ | 2012-08-02T00:00:00.004300Z - 2012-08-02T23:59:59.004300Z | 1.0 Hz, 86400 samples\n",
      "1 Trace(s) in Stream:\n",
      "Z4.CP08..BHZ | 2012-11-27T00:00:00.003400Z - 2012-11-27T23:59:59.003400Z | 1.0 Hz, 86400 samples\n",
      "1 Trace(s) in Stream:\n",
      "Z4.CP08..BH1 | 2012-11-21T00:00:00.000300Z - 2012-11-21T23:59:59.000300Z | 1.0 Hz, 86400 samples\n",
      "1 Trace(s) in Stream:\n",
      "Z4.CP08..BHZ | 2012-10-11T00:00:00.024500Z - 2012-10-11T23:59:59.024500Z | 1.0 Hz, 86400 samples\n"
     ]
    },
    {
     "name": "stderr",
     "output_type": "stream",
     "text": [
      " 21%|██▏       | 809/3775 [00:54<02:46, 17.77it/s]"
     ]
    },
    {
     "name": "stdout",
     "output_type": "stream",
     "text": [
      "1 Trace(s) in Stream:\n",
      "Z4.CP08..BH2 | 2012-07-09T00:00:00.016600Z - 2012-07-09T23:59:59.016600Z | 1.0 Hz, 86400 samples\n",
      "1 Trace(s) in Stream:\n",
      "Z4.CP08..BH1 | 2012-12-24T00:00:00.005200Z - 2012-12-24T23:59:59.005200Z | 1.0 Hz, 86400 samples\n",
      "1 Trace(s) in Stream:\n",
      "Z4.CP08..BHZ | 2013-02-20T00:00:00.019000Z - 2013-02-20T23:59:59.019000Z | 1.0 Hz, 86400 samples\n",
      "1 Trace(s) in Stream:\n",
      "Z4.CP08..BH1 | 2012-10-28T00:00:00.012600Z - 2012-10-28T23:59:59.012600Z | 1.0 Hz, 86400 samples\n"
     ]
    },
    {
     "name": "stderr",
     "output_type": "stream",
     "text": [
      "\r",
      " 21%|██▏       | 811/3775 [00:54<02:46, 17.79it/s]"
     ]
    },
    {
     "name": "stdout",
     "output_type": "stream",
     "text": [
      "1 Trace(s) in Stream:\n",
      "Z4.CP08..BHZ | 2012-10-08T00:00:00.010400Z - 2012-10-08T23:59:59.010400Z | 1.0 Hz, 86400 samples\n",
      "1 Trace(s) in Stream:\n",
      "Z4.CP08..BH1 | 2012-09-30T00:00:00.014500Z - 2012-09-30T23:59:59.014500Z | 1.0 Hz, 86400 samples\n",
      "1 Trace(s) in Stream:\n",
      "Z4.CP08..BH1 | 2012-08-12T00:00:00.017900Z - 2012-08-12T23:59:59.017900Z | 1.0 Hz, 86400 samples\n",
      "1 Trace(s) in Stream:\n",
      "Z4.CP08..BHZ | 2012-06-08T00:00:00.004500Z - 2012-06-08T23:59:59.004500Z | 1.0 Hz, 86400 samples\n",
      "1 Trace(s) in Stream:\n",
      "Z4.CP08..BHZ | 2012-12-01T00:00:00.013900Z - 2012-12-01T23:59:59.013900Z | 1.0 Hz, 86400 samples\n"
     ]
    },
    {
     "name": "stderr",
     "output_type": "stream",
     "text": [
      " 22%|██▏       | 817/3775 [00:54<02:30, 19.59it/s]"
     ]
    },
    {
     "name": "stdout",
     "output_type": "stream",
     "text": [
      "1 Trace(s) in Stream:\n",
      "Z4.CP08..BH2 | 2012-08-30T00:00:00.002400Z - 2012-08-30T23:59:59.002400Z | 1.0 Hz, 86400 samples\n",
      "1 Trace(s) in Stream:\n",
      "Z4.CP08..BH2 | 2013-01-19T00:00:00.010500Z - 2013-01-19T23:59:59.010500Z | 1.0 Hz, 86400 samples\n",
      "1 Trace(s) in Stream:\n",
      "Z4.CP08..BH1 | 2013-02-10T00:00:00.005400Z - 2013-02-10T23:59:59.005400Z | 1.0 Hz, 86400 samples\n",
      "1 Trace(s) in Stream:\n",
      "Z4.CP08..BHZ | 2013-03-13T00:00:00.017600Z - 2013-03-13T23:59:59.017600Z | 1.0 Hz, 86400 samples\n",
      "1 Trace(s) in Stream:\n",
      "Z4.CP08..BHZ | 2013-03-09T00:00:00.007200Z - 2013-03-09T23:59:59.007200Z | 1.0 Hz, 86400 samples\n"
     ]
    },
    {
     "name": "stderr",
     "output_type": "stream",
     "text": [
      " 22%|██▏       | 823/3775 [00:55<02:40, 18.42it/s]"
     ]
    },
    {
     "name": "stdout",
     "output_type": "stream",
     "text": [
      "1 Trace(s) in Stream:\n",
      "Z4.CP08..BH2 | 2012-05-10T00:00:00.010000Z - 2012-05-10T23:59:59.010000Z | 1.0 Hz, 86400 samples\n",
      "1 Trace(s) in Stream:\n",
      "Z4.CP08..BH2 | 2012-10-25T00:00:00.023500Z - 2012-10-25T23:59:59.023500Z | 1.0 Hz, 86400 samples\n",
      "1 Trace(s) in Stream:\n",
      "Z4.CP08..BH2 | 2012-10-03T00:00:00.003600Z - 2012-10-03T23:59:59.003600Z | 1.0 Hz, 86400 samples\n",
      "1 Trace(s) in Stream:\n",
      "Z4.CP08..BH2 | 2012-08-31T00:00:00.023700Z - 2012-08-31T23:59:59.023700Z | 1.0 Hz, 86400 samples\n"
     ]
    },
    {
     "name": "stderr",
     "output_type": "stream",
     "text": [
      "\r",
      " 22%|██▏       | 826/3775 [00:55<02:34, 19.07it/s]"
     ]
    },
    {
     "name": "stdout",
     "output_type": "stream",
     "text": [
      "1 Trace(s) in Stream:\n",
      "Z4.CP08..BH2 | 2012-07-19T00:00:00.005200Z - 2012-07-19T23:59:59.005200Z | 1.0 Hz, 86400 samples\n",
      "1 Trace(s) in Stream:\n",
      "Z4.CP08..BH2 | 2012-07-23T00:00:00.015700Z - 2012-07-23T23:59:59.015700Z | 1.0 Hz, 86400 samples\n",
      "1 Trace(s) in Stream:\n",
      "Z4.CP08..BH1 | 2013-02-15T00:00:00.012200Z - 2013-02-15T23:59:59.012200Z | 1.0 Hz, 86400 samples\n",
      "1 Trace(s) in Stream:\n",
      "Z4.CP08..BHZ | 2012-11-01T00:00:00.023100Z - 2012-11-01T23:59:59.023100Z | 1.0 Hz, 86400 samples\n"
     ]
    },
    {
     "name": "stderr",
     "output_type": "stream",
     "text": [
      " 22%|██▏       | 831/3775 [00:55<02:34, 19.09it/s]"
     ]
    },
    {
     "name": "stdout",
     "output_type": "stream",
     "text": [
      "1 Trace(s) in Stream:\n",
      "Z4.CP08..BH2 | 2012-10-16T00:00:00.006300Z - 2012-10-16T23:59:59.006300Z | 1.0 Hz, 86400 samples\n",
      "1 Trace(s) in Stream:\n",
      "Z4.CP08..BH1 | 2012-08-24T00:00:00.024200Z - 2012-08-24T23:59:59.024200Z | 1.0 Hz, 86400 samples\n",
      "1 Trace(s) in Stream:\n",
      "Z4.CP08..BH1 | 2012-08-19T00:00:00.017400Z - 2012-08-19T23:59:59.017400Z | 1.0 Hz, 86400 samples\n",
      "1 Trace(s) in Stream:\n",
      "Z4.CP08..BH2 | 2012-09-11T00:00:00.008700Z - 2012-09-11T23:59:59.008700Z | 1.0 Hz, 86400 samples\n",
      "1 Trace(s) in Stream:\n",
      "Z4.CP08..BH1 | 2013-02-21T00:00:00.013100Z - 2013-02-21T23:59:59.013100Z | 1.0 Hz, 86400 samples\n"
     ]
    },
    {
     "name": "stderr",
     "output_type": "stream",
     "text": [
      " 22%|██▏       | 836/3775 [00:55<02:37, 18.66it/s]"
     ]
    },
    {
     "name": "stdout",
     "output_type": "stream",
     "text": [
      "1 Trace(s) in Stream:\n",
      "Z4.CP08..BH1 | 2012-08-06T00:00:00.014700Z - 2012-08-06T23:59:59.014700Z | 1.0 Hz, 86400 samples\n",
      "1 Trace(s) in Stream:\n",
      "Z4.CP08..BH2 | 2012-12-28T00:00:00.015600Z - 2012-12-28T23:59:59.015600Z | 1.0 Hz, 86400 samples\n",
      "1 Trace(s) in Stream:\n",
      "Z4.CP08..BH2 | 2012-11-23T00:00:00.018000Z - 2012-11-23T23:59:59.018000Z | 1.0 Hz, 86400 samples\n",
      "1 Trace(s) in Stream:\n",
      "Z4.CP08..BH2 | 2012-05-26T00:00:00.001800Z - 2012-05-26T23:59:59.001800Z | 1.0 Hz, 86400 samples\n"
     ]
    },
    {
     "name": "stderr",
     "output_type": "stream",
     "text": [
      " 22%|██▏       | 840/3775 [00:55<02:37, 18.58it/s]"
     ]
    },
    {
     "name": "stdout",
     "output_type": "stream",
     "text": [
      "1 Trace(s) in Stream:\n",
      "Z4.CP08..BH1 | 2012-05-19T00:00:00.002300Z - 2012-05-19T23:59:59.002300Z | 1.0 Hz, 86400 samples\n",
      "1 Trace(s) in Stream:\n",
      "Z4.CP08..BH1 | 2012-07-03T00:00:00.013500Z - 2012-07-03T23:59:59.013500Z | 1.0 Hz, 86400 samples\n",
      "1 Trace(s) in Stream:\n",
      "Z4.CP08..BH1 | 2012-06-25T00:00:00.017600Z - 2012-06-25T23:59:59.017600Z | 1.0 Hz, 86400 samples\n",
      "1 Trace(s) in Stream:\n",
      "Z4.CP08..BH2 | 2012-08-11T00:00:00.021500Z - 2012-08-11T23:59:59.021500Z | 1.0 Hz, 86400 samples\n"
     ]
    },
    {
     "name": "stderr",
     "output_type": "stream",
     "text": [
      " 22%|██▏       | 844/3775 [00:56<02:36, 18.71it/s]"
     ]
    },
    {
     "name": "stdout",
     "output_type": "stream",
     "text": [
      "1 Trace(s) in Stream:\n",
      "Z4.CP08..BH2 | 2012-12-01T00:00:00.013900Z - 2012-12-01T23:59:59.013900Z | 1.0 Hz, 86400 samples\n",
      "1 Trace(s) in Stream:\n",
      "Z4.CP08..BH2 | 2012-12-30T00:00:00.008300Z - 2012-12-30T23:59:59.008300Z | 1.0 Hz, 86400 samples\n",
      "1 Trace(s) in Stream:\n",
      "Z4.CP08..BH2 | 2012-11-15T00:00:00.022100Z - 2012-11-15T23:59:59.022100Z | 1.0 Hz, 86400 samples\n",
      "1 Trace(s) in Stream:\n",
      "Z4.CP08..BHZ | 2012-10-21T00:00:00.013100Z - 2012-10-21T23:59:59.013100Z | 1.0 Hz, 86400 samples\n"
     ]
    },
    {
     "name": "stderr",
     "output_type": "stream",
     "text": [
      "\r",
      " 22%|██▏       | 846/3775 [00:56<02:46, 17.56it/s]"
     ]
    },
    {
     "name": "stdout",
     "output_type": "stream",
     "text": [
      "1 Trace(s) in Stream:\n",
      "Z4.CP08..BH2 | 2012-10-13T00:00:00.017200Z - 2012-10-13T23:59:59.017200Z | 1.0 Hz, 86400 samples\n",
      "1 Trace(s) in Stream:\n",
      "Z4.CP08..BH2 | 2013-03-08T00:00:00.010800Z - 2013-03-08T23:59:59.010800Z | 1.0 Hz, 86400 samples\n",
      "1 Trace(s) in Stream:\n",
      "Z4.CP08..BHZ | 2013-03-06T00:00:00.018100Z - 2013-03-06T23:59:59.018100Z | 1.0 Hz, 86400 samples\n",
      "1 Trace(s) in Stream:\n",
      "Z4.CP08..BH2 | 2012-08-14T00:00:00.010600Z - 2012-08-14T23:59:59.010600Z | 1.0 Hz, 86400 samples\n"
     ]
    },
    {
     "name": "stderr",
     "output_type": "stream",
     "text": [
      " 23%|██▎       | 851/3775 [00:56<02:43, 17.92it/s]"
     ]
    },
    {
     "name": "stdout",
     "output_type": "stream",
     "text": [
      "1 Trace(s) in Stream:\n",
      "Z4.CP08..BH1 | 2013-01-02T00:00:00.021300Z - 2013-01-02T23:59:59.021300Z | 1.0 Hz, 86400 samples\n",
      "1 Trace(s) in Stream:\n",
      "Z4.CP08..BH2 | 2012-11-26T00:00:00.007100Z - 2012-11-26T23:59:59.007100Z | 1.0 Hz, 86400 samples\n",
      "1 Trace(s) in Stream:\n",
      "Z4.CP08..BH1 | 2013-03-03T00:00:00.004000Z - 2013-03-03T23:59:59.004000Z | 1.0 Hz, 86400 samples\n",
      "1 Trace(s) in Stream:\n",
      "Z4.CP08..BHZ | 2012-11-21T00:00:00.000300Z - 2012-11-21T23:59:59.000300Z | 1.0 Hz, 86400 samples\n"
     ]
    },
    {
     "name": "stderr",
     "output_type": "stream",
     "text": [
      " 23%|██▎       | 856/3775 [00:56<02:33, 18.99it/s]"
     ]
    },
    {
     "name": "stdout",
     "output_type": "stream",
     "text": [
      "1 Trace(s) in Stream:\n",
      "Z4.CP08..BH1 | 2013-02-19T00:00:00.022700Z - 2013-02-19T23:59:59.022700Z | 1.0 Hz, 86400 samples\n",
      "1 Trace(s) in Stream:\n",
      "Z4.CP08..BHZ | 2012-12-29T00:00:00.012000Z - 2012-12-29T23:59:59.012000Z | 1.0 Hz, 86400 samples\n",
      "1 Trace(s) in Stream:\n",
      "Z4.CP08..BH1 | 2012-10-06T00:00:00.017700Z - 2012-10-06T23:59:59.017700Z | 1.0 Hz, 86400 samples\n",
      "1 Trace(s) in Stream:\n",
      "Z4.CP08..BH1 | 2012-12-20T00:00:00.019700Z - 2012-12-20T23:59:59.019700Z | 1.0 Hz, 86400 samples\n",
      "1 Trace(s) in Stream:\n",
      "Z4.CP08..BH2 | 2013-01-03T00:00:00.018800Z - 2013-01-03T23:59:59.018800Z | 1.0 Hz, 86400 samples\n"
     ]
    },
    {
     "name": "stderr",
     "output_type": "stream",
     "text": [
      " 23%|██▎       | 862/3775 [00:57<02:37, 18.46it/s]"
     ]
    },
    {
     "name": "stdout",
     "output_type": "stream",
     "text": [
      "1 Trace(s) in Stream:\n",
      "Z4.CP08..BH1 | 2012-05-17T00:00:00.009600Z - 2012-05-17T23:59:59.009600Z | 1.0 Hz, 86400 samples\n",
      "1 Trace(s) in Stream:\n",
      "Z4.CP08..BHZ | 2012-07-03T00:00:00.013500Z - 2012-07-03T23:59:59.013500Z | 1.0 Hz, 86400 samples\n",
      "1 Trace(s) in Stream:\n",
      "Z4.CP08..BH1 | 2012-05-22T00:00:00.016400Z - 2012-05-22T23:59:59.016400Z | 1.0 Hz, 86400 samples\n",
      "1 Trace(s) in Stream:\n",
      "Z4.CP08..BH2 | 2012-12-24T00:00:00.005200Z - 2012-12-24T23:59:59.005200Z | 1.0 Hz, 86400 samples\n",
      "1 Trace(s) in Stream:\n",
      "Z4.CP08..BH1 | 2012-08-03T00:00:00.000700Z - 2012-08-03T23:59:59.000700Z | 1.0 Hz, 86400 samples\n"
     ]
    },
    {
     "name": "stderr",
     "output_type": "stream",
     "text": [
      "\r",
      " 23%|██▎       | 864/3775 [00:57<02:34, 18.86it/s]"
     ]
    },
    {
     "name": "stdout",
     "output_type": "stream",
     "text": [
      "1 Trace(s) in Stream:\n",
      "Z4.CP08..BH1 | 2012-05-09T00:00:00.013700Z - 2012-05-09T23:59:59.013700Z | 1.0 Hz, 86400 samples\n",
      "1 Trace(s) in Stream:\n",
      "Z4.CP08..BHZ | 2012-06-11T00:00:00.018600Z - 2012-06-11T23:59:59.018600Z | 1.0 Hz, 86400 samples\n",
      "1 Trace(s) in Stream:\n",
      "Z4.CP08..BH1 | 2013-02-04T00:00:00.002300Z - 2013-02-04T23:59:59.002300Z | 1.0 Hz, 86400 samples\n",
      "1 Trace(s) in Stream:\n",
      "Z4.CP08..BH1 | 2012-12-02T00:00:00.010200Z - 2012-12-02T23:59:59.010200Z | 1.0 Hz, 86400 samples\n",
      "1 Trace(s) in Stream:\n",
      "Z4.CP08..BH1 | 2012-05-16T00:00:00.013200Z - 2012-05-16T23:59:59.013200Z | 1.0 Hz, 86400 samples\n"
     ]
    },
    {
     "name": "stderr",
     "output_type": "stream",
     "text": [
      " 23%|██▎       | 871/3775 [00:57<02:29, 19.46it/s]"
     ]
    },
    {
     "name": "stdout",
     "output_type": "stream",
     "text": [
      "1 Trace(s) in Stream:\n",
      "Z4.CP08..BH2 | 2013-02-15T00:00:00.012200Z - 2013-02-15T23:59:59.012200Z | 1.0 Hz, 86400 samples\n",
      "1 Trace(s) in Stream:\n",
      "Z4.CP08..BH1 | 2012-06-27T00:00:00.010300Z - 2012-06-27T23:59:59.010300Z | 1.0 Hz, 86400 samples\n",
      "1 Trace(s) in Stream:\n",
      "Z4.CP08..BH2 | 2012-12-20T00:00:00.019700Z - 2012-12-20T23:59:59.019700Z | 1.0 Hz, 86400 samples\n",
      "1 Trace(s) in Stream:\n",
      "Z4.CP08..BH1 | 2012-07-20T00:00:00.001600Z - 2012-07-20T23:59:59.001600Z | 1.0 Hz, 86400 samples\n"
     ]
    },
    {
     "name": "stderr",
     "output_type": "stream",
     "text": [
      " 23%|██▎       | 875/3775 [00:57<02:29, 19.34it/s]"
     ]
    },
    {
     "name": "stdout",
     "output_type": "stream",
     "text": [
      "1 Trace(s) in Stream:\n",
      "Z4.CP08..BHZ | 2012-05-21T00:00:00.020000Z - 2012-05-21T23:59:59.020000Z | 1.0 Hz, 86400 samples\n",
      "1 Trace(s) in Stream:\n",
      "Z4.CP08..BHZ | 2012-12-19T00:00:00.023400Z - 2012-12-19T23:59:59.023400Z | 1.0 Hz, 86400 samples\n",
      "1 Trace(s) in Stream:\n",
      "Z4.CP08..BH2 | 2013-01-09T00:00:00.021900Z - 2013-01-09T23:59:59.021900Z | 1.0 Hz, 86400 samples\n",
      "1 Trace(s) in Stream:\n",
      "Z4.CP08..BHZ | 2012-08-06T00:00:00.014700Z - 2012-08-06T23:59:59.014700Z | 1.0 Hz, 86400 samples\n"
     ]
    },
    {
     "name": "stderr",
     "output_type": "stream",
     "text": [
      " 23%|██▎       | 880/3775 [00:58<02:34, 18.75it/s]"
     ]
    },
    {
     "name": "stdout",
     "output_type": "stream",
     "text": [
      "1 Trace(s) in Stream:\n",
      "Z4.CP08..BHZ | 2012-07-08T00:00:00.020300Z - 2012-07-08T23:59:59.020300Z | 1.0 Hz, 86400 samples\n",
      "1 Trace(s) in Stream:\n",
      "Z4.CP08..BHZ | 2012-05-07T00:00:00.021000Z - 2012-05-07T23:59:59.021000Z | 1.0 Hz, 86400 samples\n",
      "1 Trace(s) in Stream:\n",
      "Z4.CP08..BH1 | 2012-05-23T00:00:00.012700Z - 2012-05-23T23:59:59.012700Z | 1.0 Hz, 86400 samples\n",
      "1 Trace(s) in Stream:\n",
      "Z4.CP08..BH1 | 2012-08-04T00:00:00.022000Z - 2012-08-04T23:59:59.022000Z | 1.0 Hz, 86400 samples\n",
      "1 Trace(s) in Stream:\n",
      "Z4.CP08..BH2 | 2013-02-02T00:00:00.009600Z - 2013-02-02T23:59:59.009600Z | 1.0 Hz, 86400 samples\n"
     ]
    },
    {
     "name": "stderr",
     "output_type": "stream",
     "text": [
      "\r",
      " 23%|██▎       | 883/3775 [00:58<02:33, 18.81it/s]"
     ]
    },
    {
     "name": "stdout",
     "output_type": "stream",
     "text": [
      "1 Trace(s) in Stream:\n",
      "Z4.CP08..BH1 | 2013-03-07T00:00:00.014400Z - 2013-03-07T23:59:59.014400Z | 1.0 Hz, 86400 samples\n",
      "1 Trace(s) in Stream:\n",
      "Z4.CP08..BH2 | 2012-07-07T00:00:00.023900Z - 2012-07-07T23:59:59.023900Z | 1.0 Hz, 86400 samples\n",
      "1 Trace(s) in Stream:\n",
      "Z4.CP08..BH2 | 2013-01-28T00:00:00.002800Z - 2013-01-28T23:59:59.002800Z | 1.0 Hz, 86400 samples\n",
      "1 Trace(s) in Stream:\n",
      "Z4.CP08..BH1 | 2012-12-11T00:00:00.002500Z - 2012-12-11T23:59:59.002500Z | 1.0 Hz, 86400 samples\n"
     ]
    },
    {
     "name": "stderr",
     "output_type": "stream",
     "text": [
      " 24%|██▎       | 888/3775 [00:58<02:25, 19.81it/s]"
     ]
    },
    {
     "name": "stdout",
     "output_type": "stream",
     "text": [
      "1 Trace(s) in Stream:\n",
      "Z4.CP08..BH1 | 2012-07-31T00:00:00.011600Z - 2012-07-31T23:59:59.011600Z | 1.0 Hz, 86400 samples\n",
      "1 Trace(s) in Stream:\n",
      "Z4.CP08..BH2 | 2012-05-13T00:00:00.024100Z - 2012-05-13T23:59:59.024100Z | 1.0 Hz, 86400 samples\n",
      "1 Trace(s) in Stream:\n",
      "Z4.CP08..BH1 | 2012-07-21T00:00:00.023000Z - 2012-07-21T23:59:59.023000Z | 1.0 Hz, 86400 samples\n",
      "1 Trace(s) in Stream:\n",
      "Z4.CP08..BHZ | 2012-11-15T00:00:00.022100Z - 2012-11-15T23:59:59.022100Z | 1.0 Hz, 86400 samples\n",
      "1 Trace(s) in Stream:\n",
      "Z4.CP08..BHZ | 2012-10-19T00:00:00.020400Z - 2012-10-19T23:59:59.020400Z | 1.0 Hz, 86400 samples\n"
     ]
    },
    {
     "name": "stderr",
     "output_type": "stream",
     "text": [
      " 24%|██▎       | 893/3775 [00:58<02:28, 19.47it/s]"
     ]
    },
    {
     "name": "stdout",
     "output_type": "stream",
     "text": [
      "1 Trace(s) in Stream:\n",
      "Z4.CP08..BHZ | 2012-09-03T00:00:00.012800Z - 2012-09-03T23:59:59.012800Z | 1.0 Hz, 86400 samples\n",
      "1 Trace(s) in Stream:\n",
      "Z4.CP08..BH2 | 2012-10-15T00:00:00.009900Z - 2012-10-15T23:59:59.009900Z | 1.0 Hz, 86400 samples\n",
      "1 Trace(s) in Stream:\n",
      "Z4.CP08..BHZ | 2012-12-03T00:00:00.006600Z - 2012-12-03T23:59:59.006600Z | 1.0 Hz, 86400 samples\n",
      "1 Trace(s) in Stream:\n",
      "Z4.CP08..BH2 | 2012-08-04T00:00:00.022000Z - 2012-08-04T23:59:59.022000Z | 1.0 Hz, 86400 samples\n"
     ]
    },
    {
     "name": "stderr",
     "output_type": "stream",
     "text": [
      "\r",
      " 24%|██▎       | 896/3775 [00:58<02:31, 18.97it/s]"
     ]
    },
    {
     "name": "stdout",
     "output_type": "stream",
     "text": [
      "1 Trace(s) in Stream:\n",
      "Z4.CP08..BH2 | 2013-03-16T00:00:00.006700Z - 2013-03-16T23:59:59.006700Z | 1.0 Hz, 86400 samples\n",
      "1 Trace(s) in Stream:\n",
      "Z4.CP08..BH2 | 2012-09-07T00:00:00.023300Z - 2012-09-07T23:59:59.023300Z | 1.0 Hz, 86400 samples\n",
      "1 Trace(s) in Stream:\n",
      "Z4.CP08..BH2 | 2012-11-16T00:00:00.018500Z - 2012-11-16T23:59:59.018500Z | 1.0 Hz, 86400 samples\n",
      "1 Trace(s) in Stream:\n",
      "Z4.CP08..BH1 | 2013-03-08T00:00:00.010800Z - 2013-03-08T23:59:59.010800Z | 1.0 Hz, 86400 samples\n"
     ]
    },
    {
     "name": "stderr",
     "output_type": "stream",
     "text": [
      " 24%|██▍       | 900/3775 [00:59<02:38, 18.10it/s]"
     ]
    },
    {
     "name": "stdout",
     "output_type": "stream",
     "text": [
      "1 Trace(s) in Stream:\n",
      "Z4.CP08..BHZ | 2013-02-18T00:00:00.001300Z - 2013-02-18T23:59:59.001300Z | 1.0 Hz, 86400 samples\n",
      "1 Trace(s) in Stream:\n",
      "Z4.CP08..BH1 | 2012-05-30T00:00:00.012200Z - 2012-05-30T23:59:59.012200Z | 1.0 Hz, 86400 samples\n",
      "1 Trace(s) in Stream:\n",
      "Z4.CP08..BH1 | 2013-03-12T00:00:00.021200Z - 2013-03-12T23:59:59.021200Z | 1.0 Hz, 86400 samples\n",
      "1 Trace(s) in Stream:\n",
      "Z4.CP08..BHZ | 2012-06-17T00:00:00.021700Z - 2012-06-17T23:59:59.021700Z | 1.0 Hz, 86400 samples\n"
     ]
    },
    {
     "name": "stderr",
     "output_type": "stream",
     "text": [
      " 24%|██▍       | 905/3775 [00:59<02:33, 18.69it/s]"
     ]
    },
    {
     "name": "stdout",
     "output_type": "stream",
     "text": [
      "1 Trace(s) in Stream:\n",
      "Z4.CP08..BHZ | 2012-11-13T00:00:00.004400Z - 2012-11-13T23:59:59.004400Z | 1.0 Hz, 86400 samples\n",
      "1 Trace(s) in Stream:\n",
      "Z4.CP08..BH1 | 2012-07-27T00:00:00.001100Z - 2012-07-27T23:59:59.001100Z | 1.0 Hz, 86400 samples\n",
      "1 Trace(s) in Stream:\n",
      "Z4.CP08..BHZ | 2012-06-30T00:00:00.024400Z - 2012-06-30T23:59:59.024400Z | 1.0 Hz, 86400 samples\n",
      "1 Trace(s) in Stream:\n",
      "Z4.CP08..BH1 | 2012-09-26T00:00:00.004100Z - 2012-09-26T23:59:59.004100Z | 1.0 Hz, 86400 samples\n",
      "1 Trace(s) in Stream:\n",
      "Z4.CP08..BH1 | 2012-08-08T00:00:00.007500Z - 2012-08-08T23:59:59.007500Z | 1.0 Hz, 86400 samples\n"
     ]
    },
    {
     "name": "stderr",
     "output_type": "stream",
     "text": [
      " 24%|██▍       | 909/3775 [00:59<02:30, 19.00it/s]"
     ]
    },
    {
     "name": "stdout",
     "output_type": "stream",
     "text": [
      "1 Trace(s) in Stream:\n",
      "Z4.CP08..BH2 | 2013-01-06T00:00:00.007800Z - 2013-01-06T23:59:59.007800Z | 1.0 Hz, 86400 samples\n",
      "1 Trace(s) in Stream:\n",
      "Z4.CP08..BHZ | 2012-09-27T00:00:00.000500Z - 2012-09-27T23:59:59.000500Z | 1.0 Hz, 86400 samples\n",
      "1 Trace(s) in Stream:\n",
      "Z4.CP08..BH1 | 2012-12-04T00:00:00.003000Z - 2012-12-04T23:59:59.003000Z | 1.0 Hz, 86400 samples\n",
      "1 Trace(s) in Stream:\n",
      "Z4.CP08..BH1 | 2012-05-18T00:00:00.005900Z - 2012-05-18T23:59:59.005900Z | 1.0 Hz, 86400 samples\n"
     ]
    },
    {
     "name": "stderr",
     "output_type": "stream",
     "text": [
      " 24%|██▍       | 915/3775 [00:59<02:30, 19.01it/s]"
     ]
    },
    {
     "name": "stdout",
     "output_type": "stream",
     "text": [
      "1 Trace(s) in Stream:\n",
      "Z4.CP08..BH1 | 2013-01-06T00:00:00.007800Z - 2013-01-06T23:59:59.007800Z | 1.0 Hz, 86400 samples\n",
      "1 Trace(s) in Stream:\n",
      "Z4.CP08..BH2 | 2012-10-05T00:00:00.021300Z - 2012-10-05T23:59:59.021300Z | 1.0 Hz, 86400 samples\n",
      "1 Trace(s) in Stream:\n",
      "Z4.CP08..BH1 | 2012-10-11T00:00:00.024500Z - 2012-10-11T23:59:59.024500Z | 1.0 Hz, 86400 samples\n",
      "1 Trace(s) in Stream:\n",
      "Z4.CP08..BHZ | 2012-05-16T00:00:00.013200Z - 2012-05-16T23:59:59.013200Z | 1.0 Hz, 86400 samples\n",
      "1 Trace(s) in Stream:\n",
      "Z4.CP08..BH1 | 2013-03-02T00:00:00.007700Z - 2013-03-02T23:59:59.007700Z | 1.0 Hz, 86400 samples\n"
     ]
    },
    {
     "name": "stderr",
     "output_type": "stream",
     "text": [
      " 24%|██▍       | 919/3775 [01:00<02:32, 18.71it/s]"
     ]
    },
    {
     "name": "stdout",
     "output_type": "stream",
     "text": [
      "1 Trace(s) in Stream:\n",
      "Z4.CP08..BHZ | 2012-12-24T00:00:00.005200Z - 2012-12-24T23:59:59.005200Z | 1.0 Hz, 86400 samples\n",
      "1 Trace(s) in Stream:\n",
      "Z4.CP08..BH1 | 2012-11-03T00:00:00.015800Z - 2012-11-03T23:59:59.015800Z | 1.0 Hz, 86400 samples\n",
      "1 Trace(s) in Stream:\n",
      "Z4.CP08..BH1 | 2013-03-01T00:00:00.011300Z - 2013-03-01T23:59:59.011300Z | 1.0 Hz, 86400 samples\n",
      "1 Trace(s) in Stream:\n",
      "Z4.CP08..BH1 | 2013-03-13T00:00:00.017600Z - 2013-03-13T23:59:59.017600Z | 1.0 Hz, 86400 samples\n"
     ]
    },
    {
     "name": "stderr",
     "output_type": "stream",
     "text": [
      " 24%|██▍       | 923/3775 [01:00<02:32, 18.67it/s]"
     ]
    },
    {
     "name": "stdout",
     "output_type": "stream",
     "text": [
      "1 Trace(s) in Stream:\n",
      "Z4.CP08..BHZ | 2013-01-28T00:00:00.002800Z - 2013-01-28T23:59:59.002800Z | 1.0 Hz, 86400 samples\n",
      "1 Trace(s) in Stream:\n",
      "Z4.CP08..BH2 | 2013-01-29T00:00:00.024100Z - 2013-01-29T23:59:59.024100Z | 1.0 Hz, 86400 samples\n",
      "1 Trace(s) in Stream:\n",
      "Z4.CP08..BHZ | 2012-05-19T00:00:00.002300Z - 2012-05-19T23:59:59.002300Z | 1.0 Hz, 86400 samples\n",
      "1 Trace(s) in Stream:\n",
      "Z4.CP08..BH1 | 2013-02-22T00:00:00.011800Z - 2013-02-22T23:59:59.011800Z | 1.0 Hz, 86400 samples\n",
      "1 Trace(s) in Stream:\n",
      "Z4.CP08..BH1 | 2012-12-31T00:00:00.004700Z - 2012-12-31T23:59:59.004700Z | 1.0 Hz, 86400 samples\n"
     ]
    },
    {
     "name": "stderr",
     "output_type": "stream",
     "text": [
      " 25%|██▍       | 928/3775 [01:00<02:28, 19.13it/s]"
     ]
    },
    {
     "name": "stdout",
     "output_type": "stream",
     "text": [
      "1 Trace(s) in Stream:\n",
      "Z4.CP08..BHZ | 2012-06-21T00:00:00.007200Z - 2012-06-21T23:59:59.007200Z | 1.0 Hz, 86400 samples\n",
      "1 Trace(s) in Stream:\n",
      "Z4.CP08..BH1 | 2012-06-03T00:00:00.022700Z - 2012-06-03T23:59:59.022700Z | 1.0 Hz, 86400 samples\n",
      "1 Trace(s) in Stream:\n",
      "Z4.CP08..BHZ | 2012-09-13T00:00:00.001400Z - 2012-09-13T23:59:59.001400Z | 1.0 Hz, 86400 samples\n",
      "1 Trace(s) in Stream:\n",
      "Z4.CP08..BH2 | 2012-07-11T00:00:00.009400Z - 2012-07-11T23:59:59.009400Z | 1.0 Hz, 86400 samples\n",
      "1 Trace(s) in Stream:\n",
      "Z4.CP08..BH1 | 2013-03-14T00:00:00.014000Z - 2013-03-14T23:59:59.014000Z | 1.0 Hz, 86400 samples\n"
     ]
    },
    {
     "name": "stderr",
     "output_type": "stream",
     "text": [
      " 25%|██▍       | 933/3775 [01:00<02:31, 18.78it/s]"
     ]
    },
    {
     "name": "stdout",
     "output_type": "stream",
     "text": [
      "1 Trace(s) in Stream:\n",
      "Z4.CP08..BHZ | 2013-01-10T00:00:00.018300Z - 2013-01-10T23:59:59.018300Z | 1.0 Hz, 86400 samples\n",
      "1 Trace(s) in Stream:\n",
      "Z4.CP08..BHZ | 2012-09-20T00:00:00.000900Z - 2012-09-20T23:59:59.000900Z | 1.0 Hz, 86400 samples\n",
      "1 Trace(s) in Stream:\n",
      "Z4.CP08..BH2 | 2012-11-10T00:00:00.015300Z - 2012-11-10T23:59:59.015300Z | 1.0 Hz, 86400 samples\n",
      "1 Trace(s) in Stream:\n",
      "Z4.CP08..BH1 | 2012-11-17T00:00:00.014800Z - 2012-11-17T23:59:59.014800Z | 1.0 Hz, 86400 samples\n",
      "1 Trace(s) in Stream:\n",
      "Z4.CP08..BH1 | 2013-01-29T00:00:00.024100Z - 2013-01-29T23:59:59.024100Z | 1.0 Hz, 86400 samples\n"
     ]
    },
    {
     "name": "stderr",
     "output_type": "stream",
     "text": [
      " 25%|██▍       | 937/3775 [01:01<02:32, 18.55it/s]"
     ]
    },
    {
     "name": "stdout",
     "output_type": "stream",
     "text": [
      "1 Trace(s) in Stream:\n",
      "Z4.CP08..BHZ | 2012-05-23T00:00:00.012700Z - 2012-05-23T23:59:59.012700Z | 1.0 Hz, 86400 samples\n",
      "1 Trace(s) in Stream:\n",
      "Z4.CP08..BH1 | 2012-09-22T00:00:00.018700Z - 2012-09-22T23:59:59.018700Z | 1.0 Hz, 86400 samples\n",
      "1 Trace(s) in Stream:\n",
      "Z4.CP08..BH1 | 2012-07-02T00:00:00.017100Z - 2012-07-02T23:59:59.017100Z | 1.0 Hz, 86400 samples\n",
      "1 Trace(s) in Stream:\n",
      "Z4.CP08..BH1 | 2012-07-04T00:00:00.009800Z - 2012-07-04T23:59:59.009800Z | 1.0 Hz, 86400 samples\n"
     ]
    },
    {
     "name": "stderr",
     "output_type": "stream",
     "text": [
      " 25%|██▍       | 941/3775 [01:01<02:38, 17.86it/s]"
     ]
    },
    {
     "name": "stdout",
     "output_type": "stream",
     "text": [
      "1 Trace(s) in Stream:\n",
      "Z4.CP08..BHZ | 2012-09-24T00:00:00.011400Z - 2012-09-24T23:59:59.011400Z | 1.0 Hz, 86400 samples\n",
      "1 Trace(s) in Stream:\n",
      "Z4.CP08..BH2 | 2012-09-21T00:00:00.022300Z - 2012-09-21T23:59:59.022300Z | 1.0 Hz, 86400 samples\n",
      "1 Trace(s) in Stream:\n",
      "Z4.CP08..BH1 | 2013-01-05T00:00:00.011500Z - 2013-01-05T23:59:59.011500Z | 1.0 Hz, 86400 samples\n",
      "1 Trace(s) in Stream:\n",
      "Z4.CP08..BHZ | 2013-02-14T00:00:00.015900Z - 2013-02-14T23:59:59.015900Z | 1.0 Hz, 86400 samples\n"
     ]
    },
    {
     "name": "stderr",
     "output_type": "stream",
     "text": [
      " 25%|██▌       | 947/3775 [01:01<02:40, 17.67it/s]"
     ]
    },
    {
     "name": "stdout",
     "output_type": "stream",
     "text": [
      "1 Trace(s) in Stream:\n",
      "Z4.CP07..BHZ | 2013-01-16T00:00:00.011700Z - 2013-01-16T23:59:59.011700Z | 1.0 Hz, 86400 samples\n",
      "1 Trace(s) in Stream:\n",
      "Z4.CP07..BHZ | 2012-10-31T00:00:00.019500Z - 2012-10-31T23:59:59.019500Z | 1.0 Hz, 86400 samples\n",
      "1 Trace(s) in Stream:\n",
      "Z4.CP07..BHZ | 2012-06-07T00:00:00.005700Z - 2012-06-07T23:59:59.005700Z | 1.0 Hz, 86400 samples\n",
      "1 Trace(s) in Stream:\n",
      "Z4.CP07..BHZ | 2012-07-26T00:00:00.000700Z - 2012-07-26T23:59:59.000700Z | 1.0 Hz, 86400 samples\n",
      "1 Trace(s) in Stream:\n",
      "Z4.CP07..BH2 | 2012-12-11T00:00:00.018900Z - 2012-12-11T23:59:59.018900Z | 1.0 Hz, 86400 samples\n"
     ]
    },
    {
     "name": "stderr",
     "output_type": "stream",
     "text": [
      "\r",
      " 25%|██▌       | 949/3775 [01:01<02:43, 17.27it/s]"
     ]
    },
    {
     "name": "stdout",
     "output_type": "stream",
     "text": [
      "1 Trace(s) in Stream:\n",
      "Z4.CP07..BHZ | 2012-07-09T00:00:00.013200Z - 2012-07-09T23:59:59.013200Z | 1.0 Hz, 86400 samples\n",
      "1 Trace(s) in Stream:\n",
      "Z4.CP07..BH1 | 2012-07-26T00:00:00.000700Z - 2012-07-26T23:59:59.000700Z | 1.0 Hz, 86400 samples\n",
      "1 Trace(s) in Stream:\n",
      "Z4.CP07..BH1 | 2012-10-14T00:00:00.006900Z - 2012-10-14T23:59:59.006900Z | 1.0 Hz, 86400 samples\n",
      "1 Trace(s) in Stream:\n",
      "Z4.CP07..BH2 | 2013-03-04T00:00:00.014100Z - 2013-03-04T23:59:59.014100Z | 1.0 Hz, 86400 samples\n"
     ]
    },
    {
     "name": "stderr",
     "output_type": "stream",
     "text": [
      " 25%|██▌       | 954/3775 [01:02<02:36, 18.04it/s]"
     ]
    },
    {
     "name": "stdout",
     "output_type": "stream",
     "text": [
      "1 Trace(s) in Stream:\n",
      "Z4.CP07..BH1 | 2012-05-30T00:00:00.010100Z - 2012-05-30T23:59:59.010100Z | 1.0 Hz, 86400 samples\n",
      "1 Trace(s) in Stream:\n",
      "Z4.CP07..BH1 | 2012-05-14T00:00:00.018900Z - 2012-05-14T23:59:59.018900Z | 1.0 Hz, 86400 samples\n",
      "1 Trace(s) in Stream:\n",
      "Z4.CP07..BHZ | 2013-02-09T00:00:00.023500Z - 2013-02-09T23:59:59.023500Z | 1.0 Hz, 86400 samples\n",
      "1 Trace(s) in Stream:\n",
      "Z4.CP07..BH1 | 2012-10-29T00:00:00.001800Z - 2012-10-29T23:59:59.001800Z | 1.0 Hz, 86400 samples\n",
      "1 Trace(s) in Stream:\n",
      "Z4.CP07..BH1 | 2012-12-29T00:00:00.002800Z - 2012-12-29T23:59:59.002800Z | 1.0 Hz, 86400 samples\n"
     ]
    },
    {
     "name": "stderr",
     "output_type": "stream",
     "text": [
      " 25%|██▌       | 960/3775 [01:02<02:41, 17.48it/s]"
     ]
    },
    {
     "name": "stdout",
     "output_type": "stream",
     "text": [
      "1 Trace(s) in Stream:\n",
      "Z4.CP07..BH2 | 2012-10-10T00:00:00.021600Z - 2012-10-10T23:59:59.021600Z | 1.0 Hz, 86400 samples\n",
      "1 Trace(s) in Stream:\n",
      "Z4.CP07..BHZ | 2013-01-18T00:00:00.004300Z - 2013-01-18T23:59:59.004300Z | 1.0 Hz, 86400 samples\n",
      "1 Trace(s) in Stream:\n",
      "Z4.CP07..BH1 | 2013-02-18T00:00:00.015500Z - 2013-02-18T23:59:59.015500Z | 1.0 Hz, 86400 samples\n",
      "1 Trace(s) in Stream:\n",
      "Z4.CP07..BH1 | 2012-05-25T00:00:00.003500Z - 2012-05-25T23:59:59.003500Z | 1.0 Hz, 86400 samples\n"
     ]
    },
    {
     "name": "stderr",
     "output_type": "stream",
     "text": [
      " 26%|██▌       | 964/3775 [01:02<02:39, 17.58it/s]"
     ]
    },
    {
     "name": "stdout",
     "output_type": "stream",
     "text": [
      "1 Trace(s) in Stream:\n",
      "Z4.CP07..BH1 | 2012-05-21T00:00:00.018100Z - 2012-05-21T23:59:59.018100Z | 1.0 Hz, 86400 samples\n",
      "1 Trace(s) in Stream:\n",
      "Z4.CP07..BH2 | 2012-06-25T00:00:00.014600Z - 2012-06-25T23:59:59.014600Z | 1.0 Hz, 86400 samples\n",
      "1 Trace(s) in Stream:\n",
      "Z4.CP07..BHZ | 2012-07-10T00:00:00.009500Z - 2012-07-10T23:59:59.009500Z | 1.0 Hz, 86400 samples\n",
      "1 Trace(s) in Stream:\n",
      "Z4.CP07..BHZ | 2013-01-23T00:00:00.011000Z - 2013-01-23T23:59:59.011000Z | 1.0 Hz, 86400 samples\n"
     ]
    },
    {
     "name": "stderr",
     "output_type": "stream",
     "text": [
      "\r",
      " 26%|██▌       | 966/3775 [01:02<02:37, 17.89it/s]"
     ]
    },
    {
     "name": "stdout",
     "output_type": "stream",
     "text": [
      "1 Trace(s) in Stream:\n",
      "Z4.CP07..BH1 | 2012-12-24T00:00:00.021200Z - 2012-12-24T23:59:59.021200Z | 1.0 Hz, 86400 samples\n",
      "1 Trace(s) in Stream:\n",
      "Z4.CP07..BHZ | 2013-02-19T00:00:00.011800Z - 2013-02-19T23:59:59.011800Z | 1.0 Hz, 86400 samples\n",
      "1 Trace(s) in Stream:\n",
      "Z4.CP07..BH2 | 2012-10-25T00:00:00.016500Z - 2012-10-25T23:59:59.016500Z | 1.0 Hz, 86400 samples\n",
      "1 Trace(s) in Stream:\n",
      "Z4.CP07..BH2 | 2012-07-13T00:00:00.023500Z - 2012-07-13T23:59:59.023500Z | 1.0 Hz, 86400 samples\n",
      "1 Trace(s) in Stream:\n",
      "Z4.CP07..BH2 | 2012-08-18T00:00:00.016300Z - 2012-08-18T23:59:59.016300Z | 1.0 Hz, 86400 samples\n"
     ]
    },
    {
     "name": "stderr",
     "output_type": "stream",
     "text": [
      " 26%|██▌       | 973/3775 [01:03<02:32, 18.34it/s]"
     ]
    },
    {
     "name": "stdout",
     "output_type": "stream",
     "text": [
      "1 Trace(s) in Stream:\n",
      "Z4.CP07..BHZ | 2012-06-04T00:00:00.016700Z - 2012-06-04T23:59:59.016700Z | 1.0 Hz, 86400 samples\n",
      "1 Trace(s) in Stream:\n",
      "Z4.CP07..BHZ | 2012-08-21T00:00:00.005300Z - 2012-08-21T23:59:59.005300Z | 1.0 Hz, 86400 samples\n",
      "1 Trace(s) in Stream:\n",
      "Z4.CP07..BH2 | 2012-06-23T00:00:00.021900Z - 2012-06-23T23:59:59.021900Z | 1.0 Hz, 86400 samples\n",
      "1 Trace(s) in Stream:\n",
      "Z4.CP07..BH1 | 2012-06-21T00:00:00.004300Z - 2012-06-21T23:59:59.004300Z | 1.0 Hz, 86400 samples\n"
     ]
    },
    {
     "name": "stderr",
     "output_type": "stream",
     "text": [
      "\r",
      " 26%|██▌       | 975/3775 [01:03<02:39, 17.57it/s]"
     ]
    },
    {
     "name": "stdout",
     "output_type": "stream",
     "text": [
      "1 Trace(s) in Stream:\n",
      "Z4.CP07..BH1 | 2012-11-23T00:00:00.010000Z - 2012-11-23T23:59:59.010000Z | 1.0 Hz, 86400 samples\n",
      "1 Trace(s) in Stream:\n",
      "Z4.CP07..BHZ | 2012-07-12T00:00:00.002200Z - 2012-07-12T23:59:59.002200Z | 1.0 Hz, 86400 samples\n",
      "1 Trace(s) in Stream:\n",
      "Z4.CP07..BHZ | 2012-12-31T00:00:00.020500Z - 2012-12-31T23:59:59.020500Z | 1.0 Hz, 86400 samples\n",
      "1 Trace(s) in Stream:\n",
      "Z4.CP07..BH1 | 2013-02-20T00:00:00.008100Z - 2013-02-20T23:59:59.008100Z | 1.0 Hz, 86400 samples\n",
      "1 Trace(s) in Stream:\n",
      "Z4.CP07..BHZ | 2012-12-10T00:00:00.022600Z - 2012-12-10T23:59:59.022600Z | 1.0 Hz, 86400 samples\n"
     ]
    },
    {
     "name": "stderr",
     "output_type": "stream",
     "text": [
      " 26%|██▌       | 982/3775 [01:03<02:37, 17.69it/s]"
     ]
    },
    {
     "name": "stdout",
     "output_type": "stream",
     "text": [
      "1 Trace(s) in Stream:\n",
      "Z4.CP07..BH2 | 2012-11-22T00:00:00.013700Z - 2012-11-22T23:59:59.013700Z | 1.0 Hz, 86400 samples\n",
      "1 Trace(s) in Stream:\n",
      "Z4.CP07..BH2 | 2012-05-10T00:00:00.008600Z - 2012-05-10T23:59:59.008600Z | 1.0 Hz, 86400 samples\n",
      "1 Trace(s) in Stream:\n",
      "Z4.CP07..BHZ | 2013-01-28T00:00:00.017600Z - 2013-01-28T23:59:59.017600Z | 1.0 Hz, 86400 samples\n",
      "1 Trace(s) in Stream:\n",
      "Z4.CP07..BHZ | 2012-07-21T00:00:00.019100Z - 2012-07-21T23:59:59.019100Z | 1.0 Hz, 86400 samples\n"
     ]
    },
    {
     "name": "stderr",
     "output_type": "stream",
     "text": [
      " 26%|██▌       | 986/3775 [01:03<02:37, 17.68it/s]"
     ]
    },
    {
     "name": "stdout",
     "output_type": "stream",
     "text": [
      "1 Trace(s) in Stream:\n",
      "Z4.CP07..BH1 | 2013-01-12T00:00:00.001400Z - 2013-01-12T23:59:59.001400Z | 1.0 Hz, 86400 samples\n",
      "1 Trace(s) in Stream:\n",
      "Z4.CP07..BH2 | 2013-01-08T00:00:00.016100Z - 2013-01-08T23:59:59.016100Z | 1.0 Hz, 86400 samples\n",
      "1 Trace(s) in Stream:\n",
      "Z4.CP07..BH2 | 2012-10-09T00:00:00.000300Z - 2012-10-09T23:59:59.000300Z | 1.0 Hz, 86400 samples\n",
      "1 Trace(s) in Stream:\n",
      "Z4.CP07..BHZ | 2012-07-22T00:00:00.015400Z - 2012-07-22T23:59:59.015400Z | 1.0 Hz, 86400 samples\n"
     ]
    },
    {
     "name": "stderr",
     "output_type": "stream",
     "text": [
      " 26%|██▌       | 990/3775 [01:04<02:37, 17.65it/s]"
     ]
    },
    {
     "name": "stdout",
     "output_type": "stream",
     "text": [
      "1 Trace(s) in Stream:\n",
      "Z4.CP07..BH2 | 2012-07-21T00:00:00.019100Z - 2012-07-21T23:59:59.019100Z | 1.0 Hz, 86400 samples\n",
      "1 Trace(s) in Stream:\n",
      "Z4.CP07..BH2 | 2012-07-03T00:00:00.010200Z - 2012-07-03T23:59:59.010200Z | 1.0 Hz, 86400 samples\n",
      "1 Trace(s) in Stream:\n",
      "Z4.CP07..BH1 | 2012-12-07T00:00:00.008600Z - 2012-12-07T23:59:59.008600Z | 1.0 Hz, 86400 samples\n",
      "1 Trace(s) in Stream:\n",
      "Z4.CP07..BHZ | 2012-12-19T00:00:00.014500Z - 2012-12-19T23:59:59.014500Z | 1.0 Hz, 86400 samples\n"
     ]
    },
    {
     "name": "stderr",
     "output_type": "stream",
     "text": [
      "\r",
      " 26%|██▋       | 992/3775 [01:04<02:46, 16.70it/s]"
     ]
    },
    {
     "name": "stdout",
     "output_type": "stream",
     "text": [
      "1 Trace(s) in Stream:\n",
      "Z4.CP07..BH1 | 2012-08-18T00:00:00.016300Z - 2012-08-18T23:59:59.016300Z | 1.0 Hz, 86400 samples\n",
      "1 Trace(s) in Stream:\n",
      "Z4.CP07..BH1 | 2012-10-11T00:00:00.017900Z - 2012-10-11T23:59:59.017900Z | 1.0 Hz, 86400 samples\n",
      "1 Trace(s) in Stream:\n",
      "Z4.CP07..BH2 | 2012-07-31T00:00:00.007400Z - 2012-07-31T23:59:59.007400Z | 1.0 Hz, 86400 samples\n",
      "1 Trace(s) in Stream:\n",
      "Z4.CP07..BH1 | 2013-02-04T00:00:00.016900Z - 2013-02-04T23:59:59.016900Z | 1.0 Hz, 86400 samples\n"
     ]
    },
    {
     "name": "stderr",
     "output_type": "stream",
     "text": [
      " 26%|██▋       | 997/3775 [01:04<02:36, 17.76it/s]"
     ]
    },
    {
     "name": "stdout",
     "output_type": "stream",
     "text": [
      "1 Trace(s) in Stream:\n",
      "Z4.CP07..BH2 | 2012-10-21T00:00:00.006200Z - 2012-10-21T23:59:59.006200Z | 1.0 Hz, 86400 samples\n",
      "1 Trace(s) in Stream:\n",
      "Z4.CP07..BH2 | 2013-03-14T00:00:00.002300Z - 2013-03-14T23:59:59.002300Z | 1.0 Hz, 86400 samples\n",
      "1 Trace(s) in Stream:\n",
      "Z4.CP07..BH2 | 2012-05-22T00:00:00.014500Z - 2012-05-22T23:59:59.014500Z | 1.0 Hz, 86400 samples\n",
      "1 Trace(s) in Stream:\n",
      "Z4.CP07..BH1 | 2012-05-08T00:00:00.015900Z - 2012-05-08T23:59:59.015900Z | 1.0 Hz, 86400 samples\n"
     ]
    },
    {
     "name": "stderr",
     "output_type": "stream",
     "text": [
      " 27%|██▋       | 1001/3775 [01:04<02:40, 17.33it/s]"
     ]
    },
    {
     "name": "stdout",
     "output_type": "stream",
     "text": [
      "1 Trace(s) in Stream:\n",
      "Z4.CP07..BHZ | 2013-03-14T00:00:00.002300Z - 2013-03-14T23:59:59.002300Z | 1.0 Hz, 86400 samples\n",
      "1 Trace(s) in Stream:\n",
      "Z4.CP07..BHZ | 2013-02-02T00:00:00.024300Z - 2013-02-02T23:59:59.024300Z | 1.0 Hz, 86400 samples\n",
      "1 Trace(s) in Stream:\n",
      "Z4.CP07..BHZ | 2012-08-18T00:00:00.016300Z - 2012-08-18T23:59:59.016300Z | 1.0 Hz, 86400 samples\n",
      "1 Trace(s) in Stream:\n",
      "Z4.CP07..BHZ | 2012-12-16T00:00:00.000500Z - 2012-12-16T23:59:59.000500Z | 1.0 Hz, 86400 samples\n"
     ]
    },
    {
     "name": "stderr",
     "output_type": "stream",
     "text": [
      " 27%|██▋       | 1005/3775 [01:04<02:36, 17.73it/s]"
     ]
    },
    {
     "name": "stdout",
     "output_type": "stream",
     "text": [
      "1 Trace(s) in Stream:\n",
      "Z4.CP07..BH2 | 2013-01-03T00:00:00.009400Z - 2013-01-03T23:59:59.009400Z | 1.0 Hz, 86400 samples\n",
      "1 Trace(s) in Stream:\n",
      "Z4.CP07..BHZ | 2013-03-11T00:00:00.013400Z - 2013-03-11T23:59:59.013400Z | 1.0 Hz, 86400 samples\n",
      "1 Trace(s) in Stream:\n",
      "Z4.CP07..BHZ | 2012-06-25T00:00:00.014600Z - 2012-06-25T23:59:59.014600Z | 1.0 Hz, 86400 samples\n",
      "1 Trace(s) in Stream:\n",
      "Z4.CP07..BH1 | 2013-01-07T00:00:00.019700Z - 2013-01-07T23:59:59.019700Z | 1.0 Hz, 86400 samples\n"
     ]
    },
    {
     "name": "stderr",
     "output_type": "stream",
     "text": [
      " 27%|██▋       | 1009/3775 [01:05<02:49, 16.28it/s]"
     ]
    },
    {
     "name": "stdout",
     "output_type": "stream",
     "text": [
      "1 Trace(s) in Stream:\n",
      "Z4.CP07..BH1 | 2013-01-10T00:00:00.008700Z - 2013-01-10T23:59:59.008700Z | 1.0 Hz, 86400 samples\n",
      "1 Trace(s) in Stream:\n",
      "Z4.CP07..BH2 | 2012-06-03T00:00:00.020400Z - 2012-06-03T23:59:59.020400Z | 1.0 Hz, 86400 samples\n",
      "1 Trace(s) in Stream:\n",
      "Z4.CP07..BH1 | 2012-09-23T00:00:00.009100Z - 2012-09-23T23:59:59.009100Z | 1.0 Hz, 86400 samples\n",
      "1 Trace(s) in Stream:\n",
      "Z4.CP07..BH1 | 2012-05-15T00:00:00.015200Z - 2012-05-15T23:59:59.015200Z | 1.0 Hz, 86400 samples\n"
     ]
    },
    {
     "name": "stderr",
     "output_type": "stream",
     "text": [
      " 27%|██▋       | 1013/3775 [01:05<02:42, 16.97it/s]"
     ]
    },
    {
     "name": "stdout",
     "output_type": "stream",
     "text": [
      "1 Trace(s) in Stream:\n",
      "Z4.CP07..BH2 | 2012-12-02T00:00:00.002000Z - 2012-12-02T23:59:59.002000Z | 1.0 Hz, 86400 samples\n",
      "1 Trace(s) in Stream:\n",
      "Z4.CP07..BH1 | 2012-11-04T00:00:00.004800Z - 2012-11-04T23:59:59.004800Z | 1.0 Hz, 86400 samples\n",
      "1 Trace(s) in Stream:\n",
      "Z4.CP07..BH1 | 2013-03-02T00:00:00.021400Z - 2013-03-02T23:59:59.021400Z | 1.0 Hz, 86400 samples\n",
      "1 Trace(s) in Stream:\n",
      "Z4.CP07..BH1 | 2012-06-05T00:00:00.013100Z - 2012-06-05T23:59:59.013100Z | 1.0 Hz, 86400 samples\n"
     ]
    },
    {
     "name": "stderr",
     "output_type": "stream",
     "text": [
      " 27%|██▋       | 1018/3775 [01:05<02:30, 18.38it/s]"
     ]
    },
    {
     "name": "stdout",
     "output_type": "stream",
     "text": [
      "1 Trace(s) in Stream:\n",
      "Z4.CP07..BHZ | 2012-09-21T00:00:00.016400Z - 2012-09-21T23:59:59.016400Z | 1.0 Hz, 86400 samples\n",
      "1 Trace(s) in Stream:\n",
      "Z4.CP07..BH1 | 2012-07-19T00:00:00.001500Z - 2012-07-19T23:59:59.001500Z | 1.0 Hz, 86400 samples\n",
      "1 Trace(s) in Stream:\n",
      "Z4.CP07..BH2 | 2012-05-13T00:00:00.022500Z - 2012-05-13T23:59:59.022500Z | 1.0 Hz, 86400 samples\n",
      "1 Trace(s) in Stream:\n",
      "Z4.CP07..BHZ | 2013-01-17T00:00:00.008000Z - 2013-01-17T23:59:59.008000Z | 1.0 Hz, 86400 samples\n",
      "1 Trace(s) in Stream:\n",
      "Z4.CP07..BHZ | 2012-07-20T00:00:00.022800Z - 2012-07-20T23:59:59.022800Z | 1.0 Hz, 86400 samples\n"
     ]
    },
    {
     "name": "stderr",
     "output_type": "stream",
     "text": [
      " 27%|██▋       | 1023/3775 [01:06<02:31, 18.18it/s]"
     ]
    },
    {
     "name": "stdout",
     "output_type": "stream",
     "text": [
      "1 Trace(s) in Stream:\n",
      "Z4.CP07..BH2 | 2012-05-26T00:00:00.024800Z - 2012-05-26T23:59:59.024800Z | 1.0 Hz, 86400 samples\n",
      "1 Trace(s) in Stream:\n",
      "Z4.CP07..BH2 | 2012-11-16T00:00:00.010700Z - 2012-11-16T23:59:59.010700Z | 1.0 Hz, 86400 samples\n",
      "1 Trace(s) in Stream:\n",
      "Z4.CP07..BH1 | 2012-10-20T00:00:00.009900Z - 2012-10-20T23:59:59.009900Z | 1.0 Hz, 86400 samples\n",
      "1 Trace(s) in Stream:\n",
      "Z4.CP07..BH1 | 2012-11-26T00:00:00.024000Z - 2012-11-26T23:59:59.024000Z | 1.0 Hz, 86400 samples\n",
      "1 Trace(s) in Stream:\n",
      "Z4.CP07..BH2 | 2013-03-07T00:00:00.003100Z - 2013-03-07T23:59:59.003100Z | 1.0 Hz, 86400 samples\n"
     ]
    },
    {
     "name": "stderr",
     "output_type": "stream",
     "text": [
      " 27%|██▋       | 1028/3775 [01:06<02:20, 19.58it/s]"
     ]
    },
    {
     "name": "stdout",
     "output_type": "stream",
     "text": [
      "1 Trace(s) in Stream:\n",
      "Z4.CP07..BHZ | 2012-10-23T00:00:00.023900Z - 2012-10-23T23:59:59.023900Z | 1.0 Hz, 86400 samples\n",
      "1 Trace(s) in Stream:\n",
      "Z4.CP07..BH2 | 2012-09-16T00:00:00.009800Z - 2012-09-16T23:59:59.009800Z | 1.0 Hz, 86400 samples\n",
      "1 Trace(s) in Stream:\n",
      "Z4.CP07..BH1 | 2012-06-20T00:00:00.008000Z - 2012-06-20T23:59:59.008000Z | 1.0 Hz, 86400 samples\n",
      "1 Trace(s) in Stream:\n",
      "Z4.CP07..BH1 | 2012-10-05T00:00:00.015000Z - 2012-10-05T23:59:59.015000Z | 1.0 Hz, 86400 samples\n",
      "1 Trace(s) in Stream:\n",
      "Z4.CP07..BH2 | 2013-03-11T00:00:00.013400Z - 2013-03-11T23:59:59.013400Z | 1.0 Hz, 86400 samples\n"
     ]
    },
    {
     "name": "stderr",
     "output_type": "stream",
     "text": [
      " 27%|██▋       | 1033/3775 [01:06<02:19, 19.67it/s]"
     ]
    },
    {
     "name": "stdout",
     "output_type": "stream",
     "text": [
      "1 Trace(s) in Stream:\n",
      "Z4.CP07..BH1 | 2012-08-01T00:00:00.003700Z - 2012-08-01T23:59:59.003700Z | 1.0 Hz, 86400 samples\n",
      "1 Trace(s) in Stream:\n",
      "Z4.CP07..BH2 | 2012-06-12T00:00:00.012300Z - 2012-06-12T23:59:59.012300Z | 1.0 Hz, 86400 samples\n",
      "1 Trace(s) in Stream:\n",
      "Z4.CP07..BH1 | 2013-02-03T00:00:00.020600Z - 2013-02-03T23:59:59.020600Z | 1.0 Hz, 86400 samples\n",
      "1 Trace(s) in Stream:\n",
      "Z4.CP07..BH1 | 2012-09-10T00:00:00.006800Z - 2012-09-10T23:59:59.006800Z | 1.0 Hz, 86400 samples\n"
     ]
    },
    {
     "name": "stderr",
     "output_type": "stream",
     "text": [
      "\r",
      " 27%|██▋       | 1035/3775 [01:06<02:25, 18.86it/s]"
     ]
    },
    {
     "name": "stdout",
     "output_type": "stream",
     "text": [
      "1 Trace(s) in Stream:\n",
      "Z4.CP07..BH2 | 2012-10-11T00:00:00.017900Z - 2012-10-11T23:59:59.017900Z | 1.0 Hz, 86400 samples\n",
      "1 Trace(s) in Stream:\n",
      "Z4.CP07..BH1 | 2012-09-26T00:00:00.023000Z - 2012-09-26T23:59:59.023000Z | 1.0 Hz, 86400 samples\n",
      "1 Trace(s) in Stream:\n",
      "Z4.CP07..BH1 | 2012-10-25T00:00:00.016500Z - 2012-10-25T23:59:59.016500Z | 1.0 Hz, 86400 samples\n",
      "1 Trace(s) in Stream:\n",
      "Z4.CP07..BH2 | 2012-10-24T00:00:00.020200Z - 2012-10-24T23:59:59.020200Z | 1.0 Hz, 86400 samples\n",
      "1 Trace(s) in Stream:\n",
      "Z4.CP07..BH1 | 2012-05-11T00:00:00.004900Z - 2012-05-11T23:59:59.004900Z | 1.0 Hz, 86400 samples\n"
     ]
    },
    {
     "name": "stderr",
     "output_type": "stream",
     "text": [
      " 28%|██▊       | 1040/3775 [01:06<02:19, 19.65it/s]"
     ]
    },
    {
     "name": "stdout",
     "output_type": "stream",
     "text": [
      "1 Trace(s) in Stream:\n",
      "Z4.CP07..BH1 | 2012-11-25T00:00:00.002700Z - 2012-11-25T23:59:59.002700Z | 1.0 Hz, 86400 samples\n",
      "1 Trace(s) in Stream:\n",
      "Z4.CP07..BHZ | 2012-11-22T00:00:00.013700Z - 2012-11-22T23:59:59.013700Z | 1.0 Hz, 86400 samples\n",
      "1 Trace(s) in Stream:\n",
      "Z4.CP07..BH2 | 2012-08-20T00:00:00.008900Z - 2012-08-20T23:59:59.008900Z | 1.0 Hz, 86400 samples\n",
      "1 Trace(s) in Stream:\n",
      "Z4.CP07..BH2 | 2012-07-15T00:00:00.016100Z - 2012-07-15T23:59:59.016100Z | 1.0 Hz, 86400 samples\n",
      "1 Trace(s) in Stream:\n",
      "Z4.CP07..BHZ | 2012-07-28T00:00:00.018400Z - 2012-07-28T23:59:59.018400Z | 1.0 Hz, 86400 samples\n"
     ]
    },
    {
     "name": "stderr",
     "output_type": "stream",
     "text": [
      " 28%|██▊       | 1046/3775 [01:07<02:14, 20.31it/s]"
     ]
    },
    {
     "name": "stdout",
     "output_type": "stream",
     "text": [
      "1 Trace(s) in Stream:\n",
      "Z4.CP07..BHZ | 2013-03-07T00:00:00.003100Z - 2013-03-07T23:59:59.003100Z | 1.0 Hz, 86400 samples\n",
      "1 Trace(s) in Stream:\n",
      "Z4.CP07..BHZ | 2012-06-11T00:00:00.016000Z - 2012-06-11T23:59:59.016000Z | 1.0 Hz, 86400 samples\n",
      "1 Trace(s) in Stream:\n",
      "Z4.CP07..BHZ | 2012-11-09T00:00:00.011400Z - 2012-11-09T23:59:59.011400Z | 1.0 Hz, 86400 samples\n",
      "1 Trace(s) in Stream:\n",
      "Z4.CP07..BH2 | 2012-10-17T00:00:00.020900Z - 2012-10-17T23:59:59.020900Z | 1.0 Hz, 86400 samples\n",
      "1 Trace(s) in Stream:\n",
      "Z4.CP07..BH2 | 2012-06-19T00:00:00.011600Z - 2012-06-19T23:59:59.011600Z | 1.0 Hz, 86400 samples\n"
     ]
    },
    {
     "name": "stderr",
     "output_type": "stream",
     "text": [
      "\r",
      " 28%|██▊       | 1049/3775 [01:07<02:13, 20.35it/s]"
     ]
    },
    {
     "name": "stdout",
     "output_type": "stream",
     "text": [
      "1 Trace(s) in Stream:\n",
      "Z4.CP07..BH2 | 2012-11-08T00:00:00.015100Z - 2012-11-08T23:59:59.015100Z | 1.0 Hz, 86400 samples\n",
      "1 Trace(s) in Stream:\n",
      "Z4.CP07..BH2 | 2012-12-05T00:00:00.015900Z - 2012-12-05T23:59:59.015900Z | 1.0 Hz, 86400 samples\n",
      "1 Trace(s) in Stream:\n",
      "Z4.CP07..BH1 | 2013-01-17T00:00:00.008000Z - 2013-01-17T23:59:59.008000Z | 1.0 Hz, 86400 samples\n",
      "1 Trace(s) in Stream:\n",
      "Z4.CP07..BHZ | 2012-12-02T00:00:00.002000Z - 2012-12-02T23:59:59.002000Z | 1.0 Hz, 86400 samples\n"
     ]
    },
    {
     "name": "stderr",
     "output_type": "stream",
     "text": [
      " 28%|██▊       | 1054/3775 [01:07<02:25, 18.70it/s]"
     ]
    },
    {
     "name": "stdout",
     "output_type": "stream",
     "text": [
      "1 Trace(s) in Stream:\n",
      "Z4.CP07..BHZ | 2012-12-25T00:00:00.017500Z - 2012-12-25T23:59:59.017500Z | 1.0 Hz, 86400 samples\n",
      "1 Trace(s) in Stream:\n",
      "Z4.CP07..BHZ | 2012-11-11T00:00:00.004100Z - 2012-11-11T23:59:59.004100Z | 1.0 Hz, 86400 samples\n",
      "1 Trace(s) in Stream:\n",
      "Z4.CP07..BH2 | 2012-09-17T00:00:00.006100Z - 2012-09-17T23:59:59.006100Z | 1.0 Hz, 86400 samples\n",
      "1 Trace(s) in Stream:\n",
      "Z4.CP07..BHZ | 2013-02-11T00:00:00.016200Z - 2013-02-11T23:59:59.016200Z | 1.0 Hz, 86400 samples\n"
     ]
    },
    {
     "name": "stderr",
     "output_type": "stream",
     "text": [
      " 28%|██▊       | 1060/3775 [01:07<02:33, 17.70it/s]"
     ]
    },
    {
     "name": "stdout",
     "output_type": "stream",
     "text": [
      "1 Trace(s) in Stream:\n",
      "Z4.CP07..BH2 | 2013-02-28T00:00:00.003800Z - 2013-02-28T23:59:59.003800Z | 1.0 Hz, 86400 samples\n",
      "1 Trace(s) in Stream:\n",
      "Z4.CP07..BH2 | 2013-01-29T00:00:00.013900Z - 2013-01-29T23:59:59.013900Z | 1.0 Hz, 86400 samples\n",
      "1 Trace(s) in Stream:\n",
      "Z4.CP07..BH2 | 2012-10-29T00:00:00.001800Z - 2012-10-29T23:59:59.001800Z | 1.0 Hz, 86400 samples\n",
      "1 Trace(s) in Stream:\n",
      "Z4.CP07..BH1 | 2012-06-18T00:00:00.015300Z - 2012-06-18T23:59:59.015300Z | 1.0 Hz, 86400 samples\n"
     ]
    },
    {
     "name": "stderr",
     "output_type": "stream",
     "text": [
      " 28%|██▊       | 1065/3775 [01:08<02:26, 18.54it/s]"
     ]
    },
    {
     "name": "stdout",
     "output_type": "stream",
     "text": [
      "1 Trace(s) in Stream:\n",
      "Z4.CP07..BHZ | 2012-06-03T00:00:00.020400Z - 2012-06-03T23:59:59.020400Z | 1.0 Hz, 86400 samples\n",
      "1 Trace(s) in Stream:\n",
      "Z4.CP07..BHZ | 2013-03-03T00:00:00.017700Z - 2013-03-03T23:59:59.017700Z | 1.0 Hz, 86400 samples\n",
      "1 Trace(s) in Stream:\n",
      "Z4.CP07..BH2 | 2012-12-15T00:00:00.004200Z - 2012-12-15T23:59:59.004200Z | 1.0 Hz, 86400 samples\n",
      "1 Trace(s) in Stream:\n",
      "Z4.CP07..BH2 | 2012-09-08T00:00:00.014100Z - 2012-09-08T23:59:59.014100Z | 1.0 Hz, 86400 samples\n",
      "1 Trace(s) in Stream:\n",
      "Z4.CP07..BHZ | 2013-02-14T00:00:00.005200Z - 2013-02-14T23:59:59.005200Z | 1.0 Hz, 86400 samples\n"
     ]
    },
    {
     "name": "stderr",
     "output_type": "stream",
     "text": [
      " 28%|██▊       | 1069/3775 [01:08<02:25, 18.60it/s]"
     ]
    },
    {
     "name": "stdout",
     "output_type": "stream",
     "text": [
      "1 Trace(s) in Stream:\n",
      "Z4.CP07..BH1 | 2012-11-14T00:00:00.018100Z - 2012-11-14T23:59:59.018100Z | 1.0 Hz, 86400 samples\n",
      "1 Trace(s) in Stream:\n",
      "Z4.CP07..BH1 | 2012-06-16T00:00:00.022700Z - 2012-06-16T23:59:59.022700Z | 1.0 Hz, 86400 samples\n",
      "1 Trace(s) in Stream:\n",
      "Z4.CP07..BH2 | 2012-08-04T00:00:00.017700Z - 2012-08-04T23:59:59.017700Z | 1.0 Hz, 86400 samples\n",
      "1 Trace(s) in Stream:\n",
      "Z4.CP07..BH2 | 2012-06-16T00:00:00.022700Z - 2012-06-16T23:59:59.022700Z | 1.0 Hz, 86400 samples\n"
     ]
    },
    {
     "name": "stderr",
     "output_type": "stream",
     "text": [
      " 28%|██▊       | 1074/3775 [01:08<02:21, 19.03it/s]"
     ]
    },
    {
     "name": "stdout",
     "output_type": "stream",
     "text": [
      "1 Trace(s) in Stream:\n",
      "Z4.CP07..BH1 | 2012-08-22T00:00:00.001600Z - 2012-08-22T23:59:59.001600Z | 1.0 Hz, 86400 samples\n",
      "1 Trace(s) in Stream:\n",
      "Z4.CP07..BH2 | 2012-11-12T00:00:00.023100Z - 2012-11-12T23:59:59.023100Z | 1.0 Hz, 86400 samples\n",
      "1 Trace(s) in Stream:\n",
      "Z4.CP07..BHZ | 2012-07-18T00:00:00.005100Z - 2012-07-18T23:59:59.005100Z | 1.0 Hz, 86400 samples\n",
      "1 Trace(s) in Stream:\n",
      "Z4.CP07..BH2 | 2013-01-05T00:00:00.002100Z - 2013-01-05T23:59:59.002100Z | 1.0 Hz, 86400 samples\n",
      "1 Trace(s) in Stream:\n",
      "Z4.CP07..BH1 | 2012-06-23T00:00:00.022000Z - 2012-06-23T23:59:59.022000Z | 1.0 Hz, 86400 samples\n"
     ]
    },
    {
     "name": "stderr",
     "output_type": "stream",
     "text": [
      "\r",
      " 29%|██▊       | 1077/3775 [01:08<02:25, 18.51it/s]"
     ]
    },
    {
     "name": "stdout",
     "output_type": "stream",
     "text": [
      "1 Trace(s) in Stream:\n",
      "Z4.CP07..BH2 | 2012-09-11T00:00:00.003100Z - 2012-09-11T23:59:59.003100Z | 1.0 Hz, 86400 samples\n",
      "1 Trace(s) in Stream:\n",
      "Z4.CP07..BH1 | 2012-06-14T00:00:00.005000Z - 2012-06-14T23:59:59.005000Z | 1.0 Hz, 86400 samples\n",
      "1 Trace(s) in Stream:\n",
      "Z4.CP07..BH1 | 2012-12-02T00:00:00.002000Z - 2012-12-02T23:59:59.002000Z | 1.0 Hz, 86400 samples\n",
      "1 Trace(s) in Stream:\n",
      "Z4.CP07..BH2 | 2013-01-28T00:00:00.017600Z - 2013-01-28T23:59:59.017600Z | 1.0 Hz, 86400 samples\n",
      "1 Trace(s) in Stream:\n",
      "Z4.CP07..BHZ | 2012-11-01T00:00:00.015800Z - 2012-11-01T23:59:59.015800Z | 1.0 Hz, 86400 samples\n"
     ]
    },
    {
     "name": "stderr",
     "output_type": "stream",
     "text": [
      " 29%|██▊       | 1084/3775 [01:09<02:21, 19.01it/s]"
     ]
    },
    {
     "name": "stdout",
     "output_type": "stream",
     "text": [
      "1 Trace(s) in Stream:\n",
      "Z4.CP07..BH1 | 2012-12-22T00:00:00.003500Z - 2012-12-22T23:59:59.003500Z | 1.0 Hz, 86400 samples\n",
      "1 Trace(s) in Stream:\n",
      "Z4.CP07..BH2 | 2012-10-27T00:00:00.009200Z - 2012-10-27T23:59:59.009200Z | 1.0 Hz, 86400 samples\n",
      "1 Trace(s) in Stream:\n",
      "Z4.CP07..BHZ | 2012-06-20T00:00:00.008000Z - 2012-06-20T23:59:59.008000Z | 1.0 Hz, 86400 samples\n",
      "1 Trace(s) in Stream:\n",
      "Z4.CP07..BHZ | 2012-11-29T00:00:00.013000Z - 2012-11-29T23:59:59.013000Z | 1.0 Hz, 86400 samples\n",
      "1 Trace(s) in Stream:\n",
      "Z4.CP07..BHZ | 2013-01-30T00:00:00.010300Z - 2013-01-30T23:59:59.010300Z | 1.0 Hz, 86400 samples\n"
     ]
    },
    {
     "name": "stderr",
     "output_type": "stream",
     "text": [
      " 29%|██▉       | 1088/3775 [01:09<02:26, 18.34it/s]"
     ]
    },
    {
     "name": "stdout",
     "output_type": "stream",
     "text": [
      "1 Trace(s) in Stream:\n",
      "Z4.CP07..BH1 | 2013-01-24T00:00:00.007300Z - 2013-01-24T23:59:59.007300Z | 1.0 Hz, 86400 samples\n",
      "1 Trace(s) in Stream:\n",
      "Z4.CP07..BH2 | 2012-08-12T00:00:00.013300Z - 2012-08-12T23:59:59.013300Z | 1.0 Hz, 86400 samples\n",
      "1 Trace(s) in Stream:\n",
      "Z4.CP07..BH1 | 2012-07-18T00:00:00.005100Z - 2012-07-18T23:59:59.005100Z | 1.0 Hz, 86400 samples\n",
      "1 Trace(s) in Stream:\n",
      "Z4.CP07..BH1 | 2012-10-21T00:00:00.006200Z - 2012-10-21T23:59:59.006200Z | 1.0 Hz, 86400 samples\n",
      "1 Trace(s) in Stream:\n",
      "Z4.CP07..BH1 | 2012-05-16T00:00:00.011500Z - 2012-05-16T23:59:59.011500Z | 1.0 Hz, 86400 samples\n"
     ]
    },
    {
     "name": "stderr",
     "output_type": "stream",
     "text": [
      " 29%|██▉       | 1092/3775 [01:09<02:43, 16.40it/s]"
     ]
    },
    {
     "name": "stdout",
     "output_type": "stream",
     "text": [
      "1 Trace(s) in Stream:\n",
      "Z4.CP07..BH1 | 2012-11-10T00:00:00.007800Z - 2012-11-10T23:59:59.007800Z | 1.0 Hz, 86400 samples\n",
      "1 Trace(s) in Stream:\n",
      "Z4.CP07..BH2 | 2012-11-19T00:00:00.024700Z - 2012-11-19T23:59:59.024700Z | 1.0 Hz, 86400 samples\n",
      "1 Trace(s) in Stream:\n",
      "Z4.CP07..BHZ | 2012-07-17T00:00:00.008800Z - 2012-07-17T23:59:59.008800Z | 1.0 Hz, 86400 samples\n",
      "1 Trace(s) in Stream:\n",
      "Z4.CP07..BHZ | 2012-08-16T00:00:00.023600Z - 2012-08-16T23:59:59.023600Z | 1.0 Hz, 86400 samples\n"
     ]
    },
    {
     "name": "stderr",
     "output_type": "stream",
     "text": [
      " 29%|██▉       | 1096/3775 [01:09<02:30, 17.78it/s]"
     ]
    },
    {
     "name": "stdout",
     "output_type": "stream",
     "text": [
      "1 Trace(s) in Stream:\n",
      "Z4.CP07..BH1 | 2012-10-27T00:00:00.009200Z - 2012-10-27T23:59:59.009200Z | 1.0 Hz, 86400 samples\n",
      "1 Trace(s) in Stream:\n",
      "Z4.CP07..BH1 | 2012-11-30T00:00:00.009300Z - 2012-11-30T23:59:59.009300Z | 1.0 Hz, 86400 samples\n",
      "1 Trace(s) in Stream:\n",
      "Z4.CP07..BH2 | 2013-03-08T00:00:00.024400Z - 2013-03-08T23:59:59.024400Z | 1.0 Hz, 86400 samples\n",
      "1 Trace(s) in Stream:\n",
      "Z4.CP07..BHZ | 2012-08-23T00:00:00.022900Z - 2012-08-23T23:59:59.022900Z | 1.0 Hz, 86400 samples\n"
     ]
    },
    {
     "name": "stderr",
     "output_type": "stream",
     "text": [
      " 29%|██▉       | 1100/3775 [01:10<02:32, 17.57it/s]"
     ]
    },
    {
     "name": "stdout",
     "output_type": "stream",
     "text": [
      "1 Trace(s) in Stream:\n",
      "Z4.CP07..BHZ | 2012-06-21T00:00:00.004300Z - 2012-06-21T23:59:59.004300Z | 1.0 Hz, 86400 samples\n",
      "1 Trace(s) in Stream:\n",
      "Z4.CP07..BH1 | 2012-10-06T00:00:00.011300Z - 2012-10-06T23:59:59.011300Z | 1.0 Hz, 86400 samples\n",
      "1 Trace(s) in Stream:\n",
      "Z4.CP07..BHZ | 2013-02-10T00:00:00.019900Z - 2013-02-10T23:59:59.019900Z | 1.0 Hz, 86400 samples\n",
      "1 Trace(s) in Stream:\n",
      "Z4.CP07..BH2 | 2013-02-16T00:00:00.022800Z - 2013-02-16T23:59:59.022800Z | 1.0 Hz, 86400 samples\n"
     ]
    },
    {
     "name": "stderr",
     "output_type": "stream",
     "text": [
      " 29%|██▉       | 1106/3775 [01:10<02:34, 17.26it/s]"
     ]
    },
    {
     "name": "stdout",
     "output_type": "stream",
     "text": [
      "1 Trace(s) in Stream:\n",
      "Z4.CP07..BH1 | 2012-10-01T00:00:00.004700Z - 2012-10-01T23:59:59.004700Z | 1.0 Hz, 86400 samples\n",
      "1 Trace(s) in Stream:\n",
      "Z4.CP07..BHZ | 2012-07-24T00:00:00.008100Z - 2012-07-24T23:59:59.008100Z | 1.0 Hz, 86400 samples\n",
      "1 Trace(s) in Stream:\n",
      "Z4.CP07..BH2 | 2013-01-22T00:00:00.014700Z - 2013-01-22T23:59:59.014700Z | 1.0 Hz, 86400 samples\n",
      "1 Trace(s) in Stream:\n",
      "Z4.CP07..BH2 | 2013-02-15T00:00:00.001500Z - 2013-02-15T23:59:59.001500Z | 1.0 Hz, 86400 samples\n",
      "1 Trace(s) in Stream:\n",
      "Z4.CP07..BHZ | 2012-05-23T00:00:00.010800Z - 2012-05-23T23:59:59.010800Z | 1.0 Hz, 86400 samples\n"
     ]
    },
    {
     "name": "stderr",
     "output_type": "stream",
     "text": [
      " 29%|██▉       | 1110/3775 [01:10<02:33, 17.33it/s]"
     ]
    },
    {
     "name": "stdout",
     "output_type": "stream",
     "text": [
      "1 Trace(s) in Stream:\n",
      "Z4.CP07..BHZ | 2012-06-24T00:00:00.018300Z - 2012-06-24T23:59:59.018300Z | 1.0 Hz, 86400 samples\n",
      "1 Trace(s) in Stream:\n",
      "Z4.CP07..BH2 | 2013-01-20T00:00:00.022000Z - 2013-01-20T23:59:59.022000Z | 1.0 Hz, 86400 samples\n",
      "1 Trace(s) in Stream:\n",
      "Z4.CP07..BH2 | 2013-01-14T00:00:00.019000Z - 2013-01-14T23:59:59.019000Z | 1.0 Hz, 86400 samples\n",
      "1 Trace(s) in Stream:\n",
      "Z4.CP07..BH1 | 2013-01-09T00:00:00.012400Z - 2013-01-09T23:59:59.012400Z | 1.0 Hz, 86400 samples\n"
     ]
    },
    {
     "name": "stderr",
     "output_type": "stream",
     "text": [
      "\r",
      " 29%|██▉       | 1113/3775 [01:10<02:25, 18.32it/s]"
     ]
    },
    {
     "name": "stdout",
     "output_type": "stream",
     "text": [
      "1 Trace(s) in Stream:\n",
      "Z4.CP07..BH1 | 2013-03-08T00:00:00.024400Z - 2013-03-08T23:59:59.024400Z | 1.0 Hz, 86400 samples\n",
      "1 Trace(s) in Stream:\n",
      "Z4.CP07..BH2 | 2013-02-06T00:00:00.009600Z - 2013-02-06T23:59:59.009600Z | 1.0 Hz, 86400 samples\n",
      "1 Trace(s) in Stream:\n",
      "Z4.CP07..BHZ | 2012-06-26T00:00:00.010900Z - 2012-06-26T23:59:59.010900Z | 1.0 Hz, 86400 samples\n",
      "1 Trace(s) in Stream:\n",
      "Z4.CP07..BH1 | 2012-05-24T00:00:00.007100Z - 2012-05-24T23:59:59.007100Z | 1.0 Hz, 86400 samples\n",
      "1 Trace(s) in Stream:\n",
      "Z4.CP07..BH1 | 2012-07-22T00:00:00.015400Z - 2012-07-22T23:59:59.015400Z | 1.0 Hz, 86400 samples\n"
     ]
    },
    {
     "name": "stderr",
     "output_type": "stream",
     "text": [
      " 30%|██▉       | 1117/3775 [01:11<02:41, 16.41it/s]"
     ]
    },
    {
     "name": "stdout",
     "output_type": "stream",
     "text": [
      "1 Trace(s) in Stream:\n",
      "Z4.CP07..BH2 | 2012-05-09T00:00:00.012200Z - 2012-05-09T23:59:59.012200Z | 1.0 Hz, 86400 samples\n",
      "1 Trace(s) in Stream:\n",
      "Z4.CP07..BH2 | 2013-01-01T00:00:00.016800Z - 2013-01-01T23:59:59.016800Z | 1.0 Hz, 86400 samples\n",
      "1 Trace(s) in Stream:\n",
      "Z4.CP07..BHZ | 2012-11-26T00:00:00.024000Z - 2012-11-26T23:59:59.024000Z | 1.0 Hz, 86400 samples\n"
     ]
    },
    {
     "name": "stderr",
     "output_type": "stream",
     "text": [
      " 30%|██▉       | 1121/3775 [01:11<03:03, 14.46it/s]"
     ]
    },
    {
     "name": "stdout",
     "output_type": "stream",
     "text": [
      "1 Trace(s) in Stream:\n",
      "Z4.CP07..BH1 | 2013-02-23T00:00:00.022100Z - 2013-02-23T23:59:59.022100Z | 1.0 Hz, 86400 samples\n",
      "1 Trace(s) in Stream:\n",
      "Z4.CP07..BH1 | 2013-01-18T00:00:00.004300Z - 2013-01-18T23:59:59.004300Z | 1.0 Hz, 86400 samples\n",
      "1 Trace(s) in Stream:\n",
      "Z4.CP07..BHZ | 2012-06-19T00:00:00.011600Z - 2012-06-19T23:59:59.011600Z | 1.0 Hz, 86400 samples\n"
     ]
    },
    {
     "name": "stderr",
     "output_type": "stream",
     "text": [
      "\r",
      " 30%|██▉       | 1123/3775 [01:11<03:03, 14.44it/s]"
     ]
    },
    {
     "name": "stdout",
     "output_type": "stream",
     "text": [
      "1 Trace(s) in Stream:\n",
      "Z4.CP07..BHZ | 2013-03-04T00:00:00.014100Z - 2013-03-04T23:59:59.014100Z | 1.0 Hz, 86400 samples\n",
      "1 Trace(s) in Stream:\n",
      "Z4.CP07..BH1 | 2012-07-29T00:00:00.014700Z - 2012-07-29T23:59:59.014700Z | 1.0 Hz, 86400 samples\n",
      "1 Trace(s) in Stream:\n",
      "Z4.CP07..BHZ | 2013-01-26T00:00:00.000000Z - 2013-01-27T00:00:00.000000Z | 1.0 Hz, 86401 samples\n"
     ]
    },
    {
     "name": "stderr",
     "output_type": "stream",
     "text": [
      " 30%|██▉       | 1127/3775 [01:11<03:00, 14.69it/s]"
     ]
    },
    {
     "name": "stdout",
     "output_type": "stream",
     "text": [
      "1 Trace(s) in Stream:\n",
      "Z4.CP07..BH1 | 2012-07-20T00:00:00.022800Z - 2012-07-20T23:59:59.022800Z | 1.0 Hz, 86400 samples\n",
      "1 Trace(s) in Stream:\n",
      "Z4.CP07..BH2 | 2012-09-20T00:00:00.020100Z - 2012-09-20T23:59:59.020100Z | 1.0 Hz, 86400 samples\n",
      "1 Trace(s) in Stream:\n",
      "Z4.CP07..BH2 | 2013-01-31T00:00:00.006600Z - 2013-01-31T23:59:59.006600Z | 1.0 Hz, 86400 samples\n",
      "1 Trace(s) in Stream:\n",
      "Z4.CP07..BH1 | 2012-11-28T00:00:00.016700Z - 2012-11-28T23:59:59.016700Z | 1.0 Hz, 86400 samples\n"
     ]
    },
    {
     "name": "stderr",
     "output_type": "stream",
     "text": [
      " 30%|██▉       | 1131/3775 [01:12<03:34, 12.35it/s]"
     ]
    },
    {
     "name": "stdout",
     "output_type": "stream",
     "text": [
      "1 Trace(s) in Stream:\n",
      "Z4.CP07..BHZ | 2012-07-06T00:00:00.024200Z - 2012-07-06T23:59:59.024200Z | 1.0 Hz, 86400 samples\n",
      "1 Trace(s) in Stream:\n",
      "Z4.CP07..BHZ | 2013-01-22T00:00:00.014700Z - 2013-01-22T23:59:59.014700Z | 1.0 Hz, 86400 samples\n",
      "1 Trace(s) in Stream:\n",
      "Z4.CP07..BH2 | 2012-05-24T00:00:00.007100Z - 2012-05-24T23:59:59.007100Z | 1.0 Hz, 86400 samples\n"
     ]
    },
    {
     "name": "stderr",
     "output_type": "stream",
     "text": [
      "\r",
      " 30%|███       | 1133/3775 [01:12<03:13, 13.62it/s]"
     ]
    },
    {
     "name": "stdout",
     "output_type": "stream",
     "text": [
      "1 Trace(s) in Stream:\n",
      "Z4.CP07..BHZ | 2012-09-27T00:00:00.019400Z - 2012-09-27T23:59:59.019400Z | 1.0 Hz, 86400 samples\n",
      "1 Trace(s) in Stream:\n",
      "Z4.CP07..BH1 | 2012-08-19T00:00:00.012600Z - 2012-08-19T23:59:59.012600Z | 1.0 Hz, 86400 samples\n",
      "1 Trace(s) in Stream:\n",
      "Z4.CP07..BHZ | 2012-10-24T00:00:00.020200Z - 2012-10-24T23:59:59.020200Z | 1.0 Hz, 86400 samples\n"
     ]
    },
    {
     "name": "stderr",
     "output_type": "stream",
     "text": [
      " 30%|███       | 1137/3775 [01:12<03:18, 13.32it/s]"
     ]
    },
    {
     "name": "stdout",
     "output_type": "stream",
     "text": [
      "1 Trace(s) in Stream:\n",
      "Z4.CP07..BH2 | 2013-03-09T00:00:00.020700Z - 2013-03-09T23:59:59.020700Z | 1.0 Hz, 86400 samples\n",
      "1 Trace(s) in Stream:\n",
      "Z4.CP07..BH1 | 2012-09-25T00:00:00.001700Z - 2012-09-25T23:59:59.001700Z | 1.0 Hz, 86400 samples\n",
      "1 Trace(s) in Stream:\n",
      "Z4.CP07..BHZ | 2012-05-28T00:00:00.017400Z - 2012-05-28T23:59:59.017400Z | 1.0 Hz, 86400 samples\n",
      "1 Trace(s) in Stream:\n",
      "Z4.CP07..BHZ | 2012-11-07T00:00:00.018800Z - 2012-11-07T23:59:59.018800Z | 1.0 Hz, 86400 samples\n",
      "1 Trace(s) in Stream:\n",
      "Z4.CP07..BH1 | 2012-08-25T00:00:00.015600Z - 2012-08-25T23:59:59.015600Z | 1.0 Hz, 86400 samples\n"
     ]
    },
    {
     "name": "stderr",
     "output_type": "stream",
     "text": [
      "\r",
      " 30%|███       | 1140/3775 [01:12<02:51, 15.39it/s]"
     ]
    },
    {
     "name": "stdout",
     "output_type": "stream",
     "text": [
      "1 Trace(s) in Stream:\n",
      "Z4.CP07..BH1 | 2012-10-19T00:00:00.013600Z - 2012-10-19T23:59:59.013600Z | 1.0 Hz, 86400 samples\n",
      "1 Trace(s) in Stream:\n",
      "Z4.CP07..BHZ | 2012-09-17T00:00:00.006100Z - 2012-09-17T23:59:59.006100Z | 1.0 Hz, 86400 samples\n",
      "1 Trace(s) in Stream:\n",
      "Z4.CP07..BHZ | 2013-02-27T00:00:00.007400Z - 2013-02-27T23:59:59.007400Z | 1.0 Hz, 86400 samples\n"
     ]
    },
    {
     "name": "stderr",
     "output_type": "stream",
     "text": [
      " 30%|███       | 1145/3775 [01:13<02:47, 15.69it/s]"
     ]
    },
    {
     "name": "stdout",
     "output_type": "stream",
     "text": [
      "1 Trace(s) in Stream:\n",
      "Z4.CP07..BH2 | 2012-11-29T00:00:00.013000Z - 2012-11-29T23:59:59.013000Z | 1.0 Hz, 86400 samples\n",
      "1 Trace(s) in Stream:\n",
      "Z4.CP07..BHZ | 2012-09-23T00:00:00.009100Z - 2012-09-23T23:59:59.009100Z | 1.0 Hz, 86400 samples\n",
      "1 Trace(s) in Stream:\n",
      "Z4.CP07..BH2 | 2012-09-26T00:00:00.023000Z - 2012-09-26T23:59:59.023000Z | 1.0 Hz, 86400 samples\n",
      "1 Trace(s) in Stream:\n",
      "Z4.CP07..BH2 | 2012-05-29T00:00:00.013800Z - 2012-05-29T23:59:59.013800Z | 1.0 Hz, 86400 samples\n"
     ]
    },
    {
     "name": "stderr",
     "output_type": "stream",
     "text": [
      " 30%|███       | 1149/3775 [01:13<02:45, 15.89it/s]"
     ]
    },
    {
     "name": "stdout",
     "output_type": "stream",
     "text": [
      "1 Trace(s) in Stream:\n",
      "Z4.CP07..BH2 | 2012-08-02T00:00:00.000000Z - 2012-08-03T00:00:00.000000Z | 1.0 Hz, 86401 samples\n",
      "1 Trace(s) in Stream:\n",
      "Z4.CP07..BH1 | 2012-12-17T00:00:00.021900Z - 2012-12-17T23:59:59.021900Z | 1.0 Hz, 86400 samples\n",
      "1 Trace(s) in Stream:\n",
      "Z4.CP07..BHZ | 2012-10-10T00:00:00.021600Z - 2012-10-10T23:59:59.021600Z | 1.0 Hz, 86400 samples\n",
      "1 Trace(s) in Stream:\n",
      "Z4.CP07..BH2 | 2012-08-29T00:00:00.000900Z - 2012-08-29T23:59:59.000900Z | 1.0 Hz, 86400 samples\n"
     ]
    },
    {
     "name": "stderr",
     "output_type": "stream",
     "text": [
      " 31%|███       | 1154/3775 [01:13<02:28, 17.68it/s]"
     ]
    },
    {
     "name": "stdout",
     "output_type": "stream",
     "text": [
      "1 Trace(s) in Stream:\n",
      "Z4.CP07..BHZ | 2013-03-12T00:00:00.009700Z - 2013-03-12T23:59:59.009700Z | 1.0 Hz, 86400 samples\n",
      "1 Trace(s) in Stream:\n",
      "Z4.CP07..BHZ | 2012-10-25T00:00:00.016500Z - 2012-10-25T23:59:59.016500Z | 1.0 Hz, 86400 samples\n",
      "1 Trace(s) in Stream:\n",
      "Z4.CP07..BHZ | 2012-05-21T00:00:00.018100Z - 2012-05-21T23:59:59.018100Z | 1.0 Hz, 86400 samples\n",
      "1 Trace(s) in Stream:\n",
      "Z4.CP07..BHZ | 2013-03-05T00:00:00.010400Z - 2013-03-05T23:59:59.010400Z | 1.0 Hz, 86400 samples\n"
     ]
    },
    {
     "name": "stderr",
     "output_type": "stream",
     "text": [
      " 31%|███       | 1158/3775 [01:13<02:30, 17.34it/s]"
     ]
    },
    {
     "name": "stdout",
     "output_type": "stream",
     "text": [
      "1 Trace(s) in Stream:\n",
      "Z4.CP07..BH2 | 2012-12-31T00:00:00.020500Z - 2012-12-31T23:59:59.020500Z | 1.0 Hz, 86400 samples\n",
      "1 Trace(s) in Stream:\n",
      "Z4.CP07..BHZ | 2013-01-20T00:00:00.022000Z - 2013-01-20T23:59:59.022000Z | 1.0 Hz, 86400 samples\n",
      "1 Trace(s) in Stream:\n",
      "Z4.CP07..BH2 | 2012-09-07T00:00:00.017800Z - 2012-09-07T23:59:59.017800Z | 1.0 Hz, 86400 samples\n",
      "1 Trace(s) in Stream:\n",
      "Z4.CP07..BHZ | 2012-06-02T00:00:00.024100Z - 2012-06-02T23:59:59.024100Z | 1.0 Hz, 86400 samples\n"
     ]
    },
    {
     "name": "stderr",
     "output_type": "stream",
     "text": [
      " 31%|███       | 1162/3775 [01:14<02:44, 15.90it/s]"
     ]
    },
    {
     "name": "stdout",
     "output_type": "stream",
     "text": [
      "1 Trace(s) in Stream:\n",
      "Z4.CP07..BHZ | 2012-05-22T00:00:00.014500Z - 2012-05-22T23:59:59.014500Z | 1.0 Hz, 86400 samples\n",
      "1 Trace(s) in Stream:\n",
      "Z4.CP07..BHZ | 2013-01-14T00:00:00.019000Z - 2013-01-14T23:59:59.019000Z | 1.0 Hz, 86400 samples\n",
      "1 Trace(s) in Stream:\n",
      "Z4.CP07..BHZ | 2012-08-29T00:00:00.000900Z - 2012-08-29T23:59:59.000900Z | 1.0 Hz, 86400 samples\n",
      "1 Trace(s) in Stream:\n",
      "Z4.CP07..BH1 | 2012-10-08T00:00:00.004000Z - 2012-10-08T23:59:59.004000Z | 1.0 Hz, 86400 samples\n"
     ]
    },
    {
     "name": "stderr",
     "output_type": "stream",
     "text": [
      "\r",
      " 31%|███       | 1164/3775 [01:14<02:39, 16.42it/s]"
     ]
    },
    {
     "name": "stdout",
     "output_type": "stream",
     "text": [
      "1 Trace(s) in Stream:\n",
      "Z4.CP07..BHZ | 2012-08-04T00:00:00.017700Z - 2012-08-04T23:59:59.017700Z | 1.0 Hz, 86400 samples\n",
      "1 Trace(s) in Stream:\n",
      "Z4.CP07..BH2 | 2012-08-07T00:00:00.006700Z - 2012-08-07T23:59:59.006700Z | 1.0 Hz, 86400 samples\n",
      "1 Trace(s) in Stream:\n",
      "Z4.CP07..BHZ | 2013-03-08T00:00:00.024400Z - 2013-03-08T23:59:59.024400Z | 1.0 Hz, 86400 samples\n",
      "1 Trace(s) in Stream:\n",
      "Z4.CP07..BH1 | 2012-08-28T00:00:00.004500Z - 2012-08-28T23:59:59.004500Z | 1.0 Hz, 86400 samples\n"
     ]
    },
    {
     "name": "stderr",
     "output_type": "stream",
     "text": [
      " 31%|███       | 1168/3775 [01:14<02:48, 15.45it/s]"
     ]
    },
    {
     "name": "stdout",
     "output_type": "stream",
     "text": [
      "1 Trace(s) in Stream:\n",
      "Z4.CP07..BH1 | 2013-02-15T00:00:00.001500Z - 2013-02-15T23:59:59.001500Z | 1.0 Hz, 86400 samples\n",
      "1 Trace(s) in Stream:\n",
      "Z4.CP07..BH1 | 2013-03-06T00:00:00.006700Z - 2013-03-06T23:59:59.006700Z | 1.0 Hz, 86400 samples\n",
      "1 Trace(s) in Stream:\n",
      "Z4.CP07..BH1 | 2013-01-28T00:00:00.017600Z - 2013-01-28T23:59:59.017600Z | 1.0 Hz, 86400 samples\n",
      "1 Trace(s) in Stream:\n",
      "Z4.CP07..BH2 | 2013-02-20T00:00:00.008100Z - 2013-02-20T23:59:59.008100Z | 1.0 Hz, 86400 samples\n"
     ]
    },
    {
     "name": "stderr",
     "output_type": "stream",
     "text": [
      " 31%|███       | 1174/3775 [01:14<02:34, 16.86it/s]"
     ]
    },
    {
     "name": "stdout",
     "output_type": "stream",
     "text": [
      "1 Trace(s) in Stream:\n",
      "Z4.CP07..BH2 | 2012-11-27T00:00:00.020300Z - 2012-11-27T23:59:59.020300Z | 1.0 Hz, 86400 samples\n",
      "1 Trace(s) in Stream:\n",
      "Z4.CP07..BH1 | 2013-02-24T00:00:00.018500Z - 2013-02-24T23:59:59.018500Z | 1.0 Hz, 86400 samples\n",
      "1 Trace(s) in Stream:\n",
      "Z4.CP07..BHZ | 2012-07-29T00:00:00.014700Z - 2012-07-29T23:59:59.014700Z | 1.0 Hz, 86400 samples\n",
      "1 Trace(s) in Stream:\n",
      "Z4.CP07..BH1 | 2013-01-23T00:00:00.011000Z - 2013-01-23T23:59:59.011000Z | 1.0 Hz, 86400 samples\n"
     ]
    },
    {
     "name": "stderr",
     "output_type": "stream",
     "text": [
      " 31%|███       | 1178/3775 [01:15<02:30, 17.25it/s]"
     ]
    },
    {
     "name": "stdout",
     "output_type": "stream",
     "text": [
      "1 Trace(s) in Stream:\n",
      "Z4.CP07..BHZ | 2013-01-15T00:00:00.015400Z - 2013-01-15T23:59:59.015400Z | 1.0 Hz, 86400 samples\n",
      "1 Trace(s) in Stream:\n",
      "Z4.CP07..BH1 | 2013-01-26T00:00:00.000000Z - 2013-01-27T00:00:00.000000Z | 1.0 Hz, 86401 samples\n",
      "1 Trace(s) in Stream:\n",
      "Z4.CP07..BH1 | 2012-09-05T00:00:00.000200Z - 2012-09-05T23:59:59.000200Z | 1.0 Hz, 86400 samples\n",
      "1 Trace(s) in Stream:\n",
      "Z4.CP07..BHZ | 2012-09-06T00:00:00.021500Z - 2012-09-06T23:59:59.021500Z | 1.0 Hz, 86400 samples\n"
     ]
    },
    {
     "name": "stderr",
     "output_type": "stream",
     "text": [
      "\r",
      " 31%|███▏      | 1181/3775 [01:15<02:25, 17.88it/s]"
     ]
    },
    {
     "name": "stdout",
     "output_type": "stream",
     "text": [
      "1 Trace(s) in Stream:\n",
      "Z4.CP07..BH2 | 2012-12-12T00:00:00.015200Z - 2012-12-12T23:59:59.015200Z | 1.0 Hz, 86400 samples\n",
      "1 Trace(s) in Stream:\n",
      "Z4.CP07..BHZ | 2013-01-25T00:00:00.003600Z - 2013-01-25T23:59:59.003600Z | 1.0 Hz, 86400 samples\n",
      "1 Trace(s) in Stream:\n",
      "Z4.CP07..BH2 | 2012-06-05T00:00:00.013100Z - 2012-06-05T23:59:59.013100Z | 1.0 Hz, 86400 samples\n",
      "1 Trace(s) in Stream:\n",
      "Z4.CP07..BH2 | 2012-05-07T00:00:00.019600Z - 2012-05-07T23:59:59.019600Z | 1.0 Hz, 86400 samples\n"
     ]
    },
    {
     "name": "stderr",
     "output_type": "stream",
     "text": [
      " 31%|███▏      | 1185/3775 [01:15<02:28, 17.41it/s]"
     ]
    },
    {
     "name": "stdout",
     "output_type": "stream",
     "text": [
      "1 Trace(s) in Stream:\n",
      "Z4.CP07..BHZ | 2013-01-21T00:00:00.018300Z - 2013-01-21T23:59:59.018300Z | 1.0 Hz, 86400 samples\n",
      "1 Trace(s) in Stream:\n",
      "Z4.CP07..BH1 | 2012-06-07T00:00:00.005700Z - 2012-06-07T23:59:59.005700Z | 1.0 Hz, 86400 samples\n",
      "1 Trace(s) in Stream:\n",
      "Z4.CP07..BH2 | 2012-09-02T00:00:00.011200Z - 2012-09-02T23:59:59.011200Z | 1.0 Hz, 86400 samples\n",
      "1 Trace(s) in Stream:\n",
      "Z4.CP07..BH2 | 2012-06-29T00:00:00.024900Z - 2012-06-29T23:59:59.024900Z | 1.0 Hz, 86400 samples\n"
     ]
    },
    {
     "name": "stderr",
     "output_type": "stream",
     "text": [
      " 32%|███▏      | 1190/3775 [01:15<02:15, 19.01it/s]"
     ]
    },
    {
     "name": "stdout",
     "output_type": "stream",
     "text": [
      "1 Trace(s) in Stream:\n",
      "Z4.CP07..BH1 | 2012-05-13T00:00:00.022500Z - 2012-05-13T23:59:59.022500Z | 1.0 Hz, 86400 samples\n",
      "1 Trace(s) in Stream:\n",
      "Z4.CP07..BHZ | 2012-12-07T00:00:00.008600Z - 2012-12-07T23:59:59.008600Z | 1.0 Hz, 86400 samples\n",
      "1 Trace(s) in Stream:\n",
      "Z4.CP07..BHZ | 2012-11-20T00:00:00.021000Z - 2012-11-20T23:59:59.021000Z | 1.0 Hz, 86400 samples\n",
      "1 Trace(s) in Stream:\n",
      "Z4.CP07..BH2 | 2012-08-03T00:00:00.021400Z - 2012-08-03T23:59:59.021400Z | 1.0 Hz, 86400 samples\n"
     ]
    },
    {
     "name": "stderr",
     "output_type": "stream",
     "text": [
      "\r",
      " 32%|███▏      | 1193/3775 [01:15<02:09, 19.89it/s]"
     ]
    },
    {
     "name": "stdout",
     "output_type": "stream",
     "text": [
      "1 Trace(s) in Stream:\n",
      "Z4.CP07..BH1 | 2012-06-03T00:00:00.020400Z - 2012-06-03T23:59:59.020400Z | 1.0 Hz, 86400 samples\n",
      "1 Trace(s) in Stream:\n",
      "Z4.CP07..BH2 | 2012-05-20T00:00:00.021800Z - 2012-05-20T23:59:59.021800Z | 1.0 Hz, 86400 samples\n",
      "1 Trace(s) in Stream:\n",
      "Z4.CP07..BHZ | 2012-05-16T00:00:00.011500Z - 2012-05-16T23:59:59.011500Z | 1.0 Hz, 86400 samples\n",
      "1 Trace(s) in Stream:\n",
      "Z4.CP07..BH1 | 2012-05-18T00:00:00.004200Z - 2012-05-18T23:59:59.004200Z | 1.0 Hz, 86400 samples\n",
      "1 Trace(s) in Stream:\n",
      "Z4.CP07..BH1 | 2012-11-22T00:00:00.013700Z - 2012-11-22T23:59:59.013700Z | 1.0 Hz, 86400 samples\n"
     ]
    },
    {
     "name": "stderr",
     "output_type": "stream",
     "text": [
      " 32%|███▏      | 1197/3775 [01:16<02:20, 18.38it/s]"
     ]
    },
    {
     "name": "stdout",
     "output_type": "stream",
     "text": [
      "1 Trace(s) in Stream:\n",
      "Z4.CP07..BHZ | 2012-05-27T00:00:00.021100Z - 2012-05-27T23:59:59.021100Z | 1.0 Hz, 86400 samples\n",
      "1 Trace(s) in Stream:\n",
      "Z4.CP07..BHZ | 2012-10-08T00:00:00.004000Z - 2012-10-08T23:59:59.004000Z | 1.0 Hz, 86400 samples\n",
      "1 Trace(s) in Stream:\n",
      "Z4.CP07..BHZ | 2013-01-27T00:00:00.021300Z - 2013-01-27T23:59:59.021300Z | 1.0 Hz, 86400 samples\n",
      "1 Trace(s) in Stream:\n",
      "Z4.CP07..BHZ | 2013-01-01T00:00:00.016800Z - 2013-01-01T23:59:59.016800Z | 1.0 Hz, 86400 samples\n",
      "1 Trace(s) in Stream:\n",
      "Z4.CP07..BH1 | 2013-02-13T00:00:00.008900Z - 2013-02-13T23:59:59.008900Z | 1.0 Hz, 86400 samples\n"
     ]
    },
    {
     "name": "stderr",
     "output_type": "stream",
     "text": [
      " 32%|███▏      | 1204/3775 [01:16<02:17, 18.72it/s]"
     ]
    },
    {
     "name": "stdout",
     "output_type": "stream",
     "text": [
      "1 Trace(s) in Stream:\n",
      "Z4.CP07..BH1 | 2012-08-02T00:00:00.000000Z - 2012-08-03T00:00:00.000000Z | 1.0 Hz, 86401 samples\n",
      "1 Trace(s) in Stream:\n",
      "Z4.CP07..BH1 | 2012-07-05T00:00:00.002900Z - 2012-07-05T23:59:59.002900Z | 1.0 Hz, 86400 samples\n",
      "1 Trace(s) in Stream:\n",
      "Z4.CP07..BH2 | 2012-10-26T00:00:00.012900Z - 2012-10-26T23:59:59.012900Z | 1.0 Hz, 86400 samples\n",
      "1 Trace(s) in Stream:\n",
      "Z4.CP07..BHZ | 2012-08-08T00:00:00.003000Z - 2012-08-08T23:59:59.003000Z | 1.0 Hz, 86400 samples\n"
     ]
    },
    {
     "name": "stderr",
     "output_type": "stream",
     "text": [
      " 32%|███▏      | 1208/3775 [01:16<02:18, 18.53it/s]"
     ]
    },
    {
     "name": "stdout",
     "output_type": "stream",
     "text": [
      "1 Trace(s) in Stream:\n",
      "Z4.CP07..BH1 | 2012-09-22T00:00:00.012700Z - 2012-09-22T23:59:59.012700Z | 1.0 Hz, 86400 samples\n",
      "1 Trace(s) in Stream:\n",
      "Z4.CP07..BH2 | 2013-01-25T00:00:00.003600Z - 2013-01-25T23:59:59.003600Z | 1.0 Hz, 86400 samples\n",
      "1 Trace(s) in Stream:\n",
      "Z4.CP07..BHZ | 2013-03-01T00:00:00.000100Z - 2013-03-01T23:59:59.000100Z | 1.0 Hz, 86400 samples\n",
      "1 Trace(s) in Stream:\n",
      "Z4.CP07..BH1 | 2012-12-14T00:00:00.007900Z - 2012-12-14T23:59:59.007900Z | 1.0 Hz, 86400 samples\n"
     ]
    },
    {
     "name": "stderr",
     "output_type": "stream",
     "text": [
      " 32%|███▏      | 1212/3775 [01:16<02:24, 17.77it/s]"
     ]
    },
    {
     "name": "stdout",
     "output_type": "stream",
     "text": [
      "1 Trace(s) in Stream:\n",
      "Z4.CP07..BH2 | 2012-10-01T00:00:00.004700Z - 2012-10-01T23:59:59.004700Z | 1.0 Hz, 86400 samples\n",
      "1 Trace(s) in Stream:\n",
      "Z4.CP07..BHZ | 2012-06-22T00:00:00.000600Z - 2012-06-22T23:59:59.000600Z | 1.0 Hz, 86400 samples\n",
      "1 Trace(s) in Stream:\n",
      "Z4.CP07..BH2 | 2012-06-17T00:00:00.019000Z - 2012-06-17T23:59:59.019000Z | 1.0 Hz, 86400 samples\n",
      "1 Trace(s) in Stream:\n",
      "Z4.CP07..BH1 | 2012-11-29T00:00:00.013000Z - 2012-11-29T23:59:59.013000Z | 1.0 Hz, 86400 samples\n"
     ]
    },
    {
     "name": "stderr",
     "output_type": "stream",
     "text": [
      "\r",
      " 32%|███▏      | 1214/3775 [01:17<02:31, 16.96it/s]"
     ]
    },
    {
     "name": "stdout",
     "output_type": "stream",
     "text": [
      "1 Trace(s) in Stream:\n",
      "Z4.CP07..BH1 | 2012-12-16T00:00:00.000500Z - 2012-12-16T23:59:59.000500Z | 1.0 Hz, 86400 samples\n",
      "1 Trace(s) in Stream:\n",
      "Z4.CP07..BHZ | 2013-01-10T00:00:00.008700Z - 2013-01-10T23:59:59.008700Z | 1.0 Hz, 86400 samples\n",
      "1 Trace(s) in Stream:\n",
      "Z4.CP07..BH1 | 2012-08-11T00:00:00.017000Z - 2012-08-11T23:59:59.017000Z | 1.0 Hz, 86400 samples\n",
      "1 Trace(s) in Stream:\n",
      "Z4.CP07..BH2 | 2013-02-19T00:00:00.011800Z - 2013-02-19T23:59:59.011800Z | 1.0 Hz, 86400 samples\n",
      "1 Trace(s) in Stream:\n",
      "Z4.CP07..BH1 | 2012-07-13T00:00:00.023500Z - 2012-07-13T23:59:59.023500Z | 1.0 Hz, 86400 samples\n"
     ]
    },
    {
     "name": "stderr",
     "output_type": "stream",
     "text": [
      " 32%|███▏      | 1221/3775 [01:17<02:19, 18.28it/s]"
     ]
    },
    {
     "name": "stdout",
     "output_type": "stream",
     "text": [
      "1 Trace(s) in Stream:\n",
      "Z4.CP07..BH2 | 2012-10-19T00:00:00.013600Z - 2012-10-19T23:59:59.013600Z | 1.0 Hz, 86400 samples\n",
      "1 Trace(s) in Stream:\n",
      "Z4.CP07..BHZ | 2012-09-30T00:00:00.008300Z - 2012-09-30T23:59:59.008300Z | 1.0 Hz, 86400 samples\n",
      "1 Trace(s) in Stream:\n",
      "Z4.CP07..BH1 | 2012-10-26T00:00:00.012900Z - 2012-10-26T23:59:59.012900Z | 1.0 Hz, 86400 samples\n",
      "1 Trace(s) in Stream:\n",
      "Z4.CP07..BH2 | 2012-07-26T00:00:00.000700Z - 2012-07-26T23:59:59.000700Z | 1.0 Hz, 86400 samples\n"
     ]
    },
    {
     "name": "stderr",
     "output_type": "stream",
     "text": [
      " 32%|███▏      | 1226/3775 [01:17<02:14, 18.96it/s]"
     ]
    },
    {
     "name": "stdout",
     "output_type": "stream",
     "text": [
      "1 Trace(s) in Stream:\n",
      "Z4.CP07..BH1 | 2012-10-09T00:00:00.000300Z - 2012-10-09T23:59:59.000300Z | 1.0 Hz, 86400 samples\n",
      "1 Trace(s) in Stream:\n",
      "Z4.CP07..BH2 | 2012-10-05T00:00:00.015000Z - 2012-10-05T23:59:59.015000Z | 1.0 Hz, 86400 samples\n",
      "1 Trace(s) in Stream:\n",
      "Z4.CP07..BH2 | 2012-07-22T00:00:00.015400Z - 2012-07-22T23:59:59.015400Z | 1.0 Hz, 86400 samples\n",
      "1 Trace(s) in Stream:\n",
      "Z4.CP07..BHZ | 2012-12-13T00:00:00.011600Z - 2012-12-13T23:59:59.011600Z | 1.0 Hz, 86400 samples\n",
      "1 Trace(s) in Stream:\n",
      "Z4.CP07..BH1 | 2012-07-28T00:00:00.018400Z - 2012-07-28T23:59:59.018400Z | 1.0 Hz, 86400 samples\n"
     ]
    },
    {
     "name": "stderr",
     "output_type": "stream",
     "text": [
      " 33%|███▎      | 1230/3775 [01:17<02:13, 19.13it/s]"
     ]
    },
    {
     "name": "stdout",
     "output_type": "stream",
     "text": [
      "1 Trace(s) in Stream:\n",
      "Z4.CP07..BHZ | 2012-08-25T00:00:00.015600Z - 2012-08-25T23:59:59.015600Z | 1.0 Hz, 86400 samples\n",
      "1 Trace(s) in Stream:\n",
      "Z4.CP07..BHZ | 2012-09-11T00:00:00.003100Z - 2012-09-11T23:59:59.003100Z | 1.0 Hz, 86400 samples\n",
      "1 Trace(s) in Stream:\n",
      "Z4.CP07..BHZ | 2013-02-21T00:00:00.004500Z - 2013-02-21T23:59:59.004500Z | 1.0 Hz, 86400 samples\n",
      "1 Trace(s) in Stream:\n",
      "Z4.CP07..BH2 | 2012-09-19T00:00:00.023700Z - 2012-09-19T23:59:59.023700Z | 1.0 Hz, 86400 samples\n"
     ]
    },
    {
     "name": "stderr",
     "output_type": "stream",
     "text": [
      " 33%|███▎      | 1235/3775 [01:18<02:11, 19.37it/s]"
     ]
    },
    {
     "name": "stdout",
     "output_type": "stream",
     "text": [
      "1 Trace(s) in Stream:\n",
      "Z4.CP07..BH2 | 2012-09-01T00:00:00.014900Z - 2012-09-01T23:59:59.014900Z | 1.0 Hz, 86400 samples\n",
      "1 Trace(s) in Stream:\n",
      "Z4.CP07..BH1 | 2012-08-05T00:00:00.014000Z - 2012-08-05T23:59:59.014000Z | 1.0 Hz, 86400 samples\n",
      "1 Trace(s) in Stream:\n",
      "Z4.CP07..BH2 | 2013-01-18T00:00:00.004300Z - 2013-01-18T23:59:59.004300Z | 1.0 Hz, 86400 samples\n",
      "1 Trace(s) in Stream:\n",
      "Z4.CP07..BH2 | 2013-02-14T00:00:00.005200Z - 2013-02-14T23:59:59.005200Z | 1.0 Hz, 86400 samples\n",
      "1 Trace(s) in Stream:\n",
      "Z4.CP07..BH2 | 2012-08-22T00:00:00.001600Z - 2012-08-22T23:59:59.001600Z | 1.0 Hz, 86400 samples\n"
     ]
    },
    {
     "name": "stderr",
     "output_type": "stream",
     "text": [
      " 33%|███▎      | 1239/3775 [01:18<02:21, 17.88it/s]"
     ]
    },
    {
     "name": "stdout",
     "output_type": "stream",
     "text": [
      "1 Trace(s) in Stream:\n",
      "Z4.CP07..BH2 | 2012-09-24T00:00:00.005400Z - 2012-09-24T23:59:59.005400Z | 1.0 Hz, 86400 samples\n",
      "1 Trace(s) in Stream:\n",
      "Z4.CP07..BH2 | 2013-01-21T00:00:00.018300Z - 2013-01-21T23:59:59.018300Z | 1.0 Hz, 86400 samples\n",
      "1 Trace(s) in Stream:\n",
      "Z4.CP07..BH2 | 2012-12-09T00:00:00.001300Z - 2012-12-09T23:59:59.001300Z | 1.0 Hz, 86400 samples\n",
      "1 Trace(s) in Stream:\n",
      "Z4.CP07..BHZ | 2012-06-28T00:00:00.003600Z - 2012-06-28T23:59:59.003600Z | 1.0 Hz, 86400 samples\n"
     ]
    },
    {
     "name": "stderr",
     "output_type": "stream",
     "text": [
      "\r",
      " 33%|███▎      | 1241/3775 [01:18<02:19, 18.18it/s]"
     ]
    },
    {
     "name": "stdout",
     "output_type": "stream",
     "text": [
      "1 Trace(s) in Stream:\n",
      "Z4.CP07..BHZ | 2012-10-04T00:00:00.018700Z - 2012-10-04T23:59:59.018700Z | 1.0 Hz, 86400 samples\n",
      "1 Trace(s) in Stream:\n",
      "Z4.CP07..BH1 | 2013-02-11T00:00:00.016200Z - 2013-02-11T23:59:59.016200Z | 1.0 Hz, 86400 samples\n",
      "1 Trace(s) in Stream:\n",
      "Z4.CP07..BHZ | 2012-05-19T00:00:00.000500Z - 2012-05-19T23:59:59.000500Z | 1.0 Hz, 86400 samples\n",
      "1 Trace(s) in Stream:\n",
      "Z4.CP07..BHZ | 2012-09-16T00:00:00.009800Z - 2012-09-16T23:59:59.009800Z | 1.0 Hz, 86400 samples\n",
      "1 Trace(s) in Stream:\n",
      "Z4.CP07..BH1 | 2012-09-01T00:00:00.014900Z - 2012-09-01T23:59:59.014900Z | 1.0 Hz, 86400 samples\n"
     ]
    },
    {
     "name": "stderr",
     "output_type": "stream",
     "text": [
      " 33%|███▎      | 1246/3775 [01:18<02:14, 18.77it/s]"
     ]
    },
    {
     "name": "stdout",
     "output_type": "stream",
     "text": [
      "1 Trace(s) in Stream:\n",
      "Z4.CP07..BH1 | 2012-08-03T00:00:00.021400Z - 2012-08-03T23:59:59.021400Z | 1.0 Hz, 86400 samples\n",
      "1 Trace(s) in Stream:\n",
      "Z4.CP07..BHZ | 2012-11-14T00:00:00.018100Z - 2012-11-14T23:59:59.018100Z | 1.0 Hz, 86400 samples\n",
      "1 Trace(s) in Stream:\n",
      "Z4.CP07..BH1 | 2012-12-08T00:00:00.004900Z - 2012-12-08T23:59:59.004900Z | 1.0 Hz, 86400 samples\n",
      "1 Trace(s) in Stream:\n",
      "Z4.CP07..BH2 | 2013-03-16T00:00:00.020000Z - 2013-03-16T23:59:59.020000Z | 1.0 Hz, 86400 samples\n"
     ]
    },
    {
     "name": "stderr",
     "output_type": "stream",
     "text": [
      " 33%|███▎      | 1253/3775 [01:19<02:18, 18.14it/s]"
     ]
    },
    {
     "name": "stdout",
     "output_type": "stream",
     "text": [
      "1 Trace(s) in Stream:\n",
      "Z4.CP07..BH1 | 2012-06-02T00:00:00.024100Z - 2012-06-02T23:59:59.024100Z | 1.0 Hz, 86400 samples\n",
      "1 Trace(s) in Stream:\n",
      "Z4.CP07..BHZ | 2012-10-26T00:00:00.012900Z - 2012-10-26T23:59:59.012900Z | 1.0 Hz, 86400 samples\n",
      "1 Trace(s) in Stream:\n",
      "Z4.CP07..BH1 | 2013-02-12T00:00:00.012500Z - 2013-02-12T23:59:59.012500Z | 1.0 Hz, 86400 samples\n",
      "1 Trace(s) in Stream:\n",
      "Z4.CP07..BH1 | 2013-03-11T00:00:00.013400Z - 2013-03-11T23:59:59.013400Z | 1.0 Hz, 86400 samples\n",
      "1 Trace(s) in Stream:\n",
      "Z4.CP07..BHZ | 2012-12-09T00:00:00.001300Z - 2012-12-09T23:59:59.001300Z | 1.0 Hz, 86400 samples\n"
     ]
    },
    {
     "name": "stderr",
     "output_type": "stream",
     "text": [
      " 33%|███▎      | 1257/3775 [01:19<02:14, 18.73it/s]"
     ]
    },
    {
     "name": "stdout",
     "output_type": "stream",
     "text": [
      "1 Trace(s) in Stream:\n",
      "Z4.CP07..BH1 | 2012-12-23T00:00:00.024800Z - 2012-12-23T23:59:59.024800Z | 1.0 Hz, 86400 samples\n",
      "1 Trace(s) in Stream:\n",
      "Z4.CP07..BH1 | 2012-09-18T00:00:00.002400Z - 2012-09-18T23:59:59.002400Z | 1.0 Hz, 86400 samples\n",
      "1 Trace(s) in Stream:\n",
      "Z4.CP07..BHZ | 2012-09-22T00:00:00.012700Z - 2012-09-22T23:59:59.012700Z | 1.0 Hz, 86400 samples\n",
      "1 Trace(s) in Stream:\n",
      "Z4.CP07..BH2 | 2012-07-30T00:00:00.011100Z - 2012-07-30T23:59:59.011100Z | 1.0 Hz, 86400 samples\n",
      "1 Trace(s) in Stream:\n",
      "Z4.CP07..BH1 | 2012-09-19T00:00:00.023700Z - 2012-09-19T23:59:59.023700Z | 1.0 Hz, 86400 samples\n"
     ]
    },
    {
     "name": "stderr",
     "output_type": "stream",
     "text": [
      " 33%|███▎      | 1262/3775 [01:19<02:11, 19.16it/s]"
     ]
    },
    {
     "name": "stdout",
     "output_type": "stream",
     "text": [
      "1 Trace(s) in Stream:\n",
      "Z4.CP07..BH1 | 2012-09-21T00:00:00.016400Z - 2012-09-21T23:59:59.016400Z | 1.0 Hz, 86400 samples\n",
      "1 Trace(s) in Stream:\n",
      "Z4.CP07..BH1 | 2012-11-18T00:00:00.003400Z - 2012-11-18T23:59:59.003400Z | 1.0 Hz, 86400 samples\n",
      "1 Trace(s) in Stream:\n",
      "Z4.CP07..BH1 | 2012-12-26T00:00:00.013800Z - 2012-12-26T23:59:59.013800Z | 1.0 Hz, 86400 samples\n",
      "1 Trace(s) in Stream:\n",
      "Z4.CP07..BHZ | 2012-05-30T00:00:00.010100Z - 2012-05-30T23:59:59.010100Z | 1.0 Hz, 86400 samples\n",
      "1 Trace(s) in Stream:\n",
      "Z4.CP07..BH2 | 2012-11-30T00:00:00.009300Z - 2012-11-30T23:59:59.009300Z | 1.0 Hz, 86400 samples\n"
     ]
    },
    {
     "name": "stderr",
     "output_type": "stream",
     "text": [
      " 34%|███▎      | 1266/3775 [01:19<02:21, 17.74it/s]"
     ]
    },
    {
     "name": "stdout",
     "output_type": "stream",
     "text": [
      "1 Trace(s) in Stream:\n",
      "Z4.CP07..BH1 | 2012-06-22T00:00:00.000600Z - 2012-06-22T23:59:59.000600Z | 1.0 Hz, 86400 samples\n",
      "1 Trace(s) in Stream:\n",
      "Z4.CP07..BH1 | 2013-02-27T00:00:00.007400Z - 2013-02-27T23:59:59.007400Z | 1.0 Hz, 86400 samples\n",
      "1 Trace(s) in Stream:\n",
      "Z4.CP07..BH1 | 2012-08-07T00:00:00.006700Z - 2012-08-07T23:59:59.006700Z | 1.0 Hz, 86400 samples\n",
      "1 Trace(s) in Stream:\n",
      "Z4.CP07..BH1 | 2013-03-09T00:00:00.020700Z - 2013-03-09T23:59:59.020700Z | 1.0 Hz, 86400 samples\n"
     ]
    },
    {
     "name": "stderr",
     "output_type": "stream",
     "text": [
      " 34%|███▎      | 1272/3775 [01:20<02:13, 18.73it/s]"
     ]
    },
    {
     "name": "stdout",
     "output_type": "stream",
     "text": [
      "1 Trace(s) in Stream:\n",
      "Z4.CP07..BH2 | 2012-10-12T00:00:00.014300Z - 2012-10-12T23:59:59.014300Z | 1.0 Hz, 86400 samples\n",
      "1 Trace(s) in Stream:\n",
      "Z4.CP07..BH1 | 2013-01-14T00:00:00.019000Z - 2013-01-14T23:59:59.019000Z | 1.0 Hz, 86400 samples\n",
      "1 Trace(s) in Stream:\n",
      "Z4.CP07..BHZ | 2012-10-06T00:00:00.011300Z - 2012-10-06T23:59:59.011300Z | 1.0 Hz, 86400 samples\n",
      "1 Trace(s) in Stream:\n",
      "Z4.CP07..BHZ | 2012-10-22T00:00:00.002500Z - 2012-10-22T23:59:59.002500Z | 1.0 Hz, 86400 samples\n",
      "1 Trace(s) in Stream:\n",
      "Z4.CP07..BH1 | 2012-09-11T00:00:00.003100Z - 2012-09-11T23:59:59.003100Z | 1.0 Hz, 86400 samples\n"
     ]
    },
    {
     "name": "stderr",
     "output_type": "stream",
     "text": [
      " 34%|███▍      | 1277/3775 [01:20<02:13, 18.72it/s]"
     ]
    },
    {
     "name": "stdout",
     "output_type": "stream",
     "text": [
      "1 Trace(s) in Stream:\n",
      "Z4.CP07..BH1 | 2012-09-28T00:00:00.015700Z - 2012-09-28T23:59:59.015700Z | 1.0 Hz, 86400 samples\n",
      "1 Trace(s) in Stream:\n",
      "Z4.CP07..BH2 | 2013-02-09T00:00:00.023500Z - 2013-02-09T23:59:59.023500Z | 1.0 Hz, 86400 samples\n",
      "1 Trace(s) in Stream:\n",
      "Z4.CP07..BH1 | 2012-11-09T00:00:00.011400Z - 2012-11-09T23:59:59.011400Z | 1.0 Hz, 86400 samples\n",
      "1 Trace(s) in Stream:\n",
      "Z4.CP07..BH2 | 2012-12-21T00:00:00.007200Z - 2012-12-21T23:59:59.007200Z | 1.0 Hz, 86400 samples\n",
      "1 Trace(s) in Stream:\n",
      "Z4.CP07..BH2 | 2012-08-14T00:00:00.006000Z - 2012-08-14T23:59:59.006000Z | 1.0 Hz, 86400 samples\n"
     ]
    },
    {
     "name": "stderr",
     "output_type": "stream",
     "text": [
      "\r",
      " 34%|███▍      | 1280/3775 [01:20<02:10, 19.06it/s]"
     ]
    },
    {
     "name": "stdout",
     "output_type": "stream",
     "text": [
      "1 Trace(s) in Stream:\n",
      "Z4.CP07..BHZ | 2012-12-05T00:00:00.015900Z - 2012-12-05T23:59:59.015900Z | 1.0 Hz, 86400 samples\n",
      "1 Trace(s) in Stream:\n",
      "Z4.CP07..BHZ | 2012-05-13T00:00:00.022500Z - 2012-05-13T23:59:59.022500Z | 1.0 Hz, 86400 samples\n",
      "1 Trace(s) in Stream:\n",
      "Z4.CP07..BHZ | 2013-01-19T00:00:00.000700Z - 2013-01-19T23:59:59.000700Z | 1.0 Hz, 86400 samples\n",
      "1 Trace(s) in Stream:\n",
      "Z4.CP07..BH2 | 2013-02-02T00:00:00.024300Z - 2013-02-02T23:59:59.024300Z | 1.0 Hz, 86400 samples\n",
      "1 Trace(s) in Stream:\n",
      "Z4.CP07..BH1 | 2013-01-01T00:00:00.016800Z - 2013-01-01T23:59:59.016800Z | 1.0 Hz, 86400 samples\n"
     ]
    },
    {
     "name": "stderr",
     "output_type": "stream",
     "text": [
      " 34%|███▍      | 1285/3775 [01:20<02:09, 19.19it/s]"
     ]
    },
    {
     "name": "stdout",
     "output_type": "stream",
     "text": [
      "1 Trace(s) in Stream:\n",
      "Z4.CP07..BH1 | 2012-08-26T00:00:00.011900Z - 2012-08-26T23:59:59.011900Z | 1.0 Hz, 86400 samples\n",
      "1 Trace(s) in Stream:\n",
      "Z4.CP07..BH2 | 2012-05-16T00:00:00.011500Z - 2012-05-16T23:59:59.011500Z | 1.0 Hz, 86400 samples\n",
      "1 Trace(s) in Stream:\n",
      "Z4.CP07..BH2 | 2012-07-12T00:00:00.002200Z - 2012-07-12T23:59:59.002200Z | 1.0 Hz, 86400 samples\n",
      "1 Trace(s) in Stream:\n",
      "Z4.CP07..BH2 | 2012-05-18T00:00:00.004200Z - 2012-05-18T23:59:59.004200Z | 1.0 Hz, 86400 samples\n"
     ]
    },
    {
     "name": "stderr",
     "output_type": "stream",
     "text": [
      " 34%|███▍      | 1290/3775 [01:21<02:06, 19.69it/s]"
     ]
    },
    {
     "name": "stdout",
     "output_type": "stream",
     "text": [
      "1 Trace(s) in Stream:\n",
      "Z4.CP07..BH2 | 2013-03-15T00:00:00.023700Z - 2013-03-15T23:59:59.023700Z | 1.0 Hz, 86400 samples\n",
      "1 Trace(s) in Stream:\n",
      "Z4.CP07..BH2 | 2012-11-17T00:00:00.007100Z - 2012-11-17T23:59:59.007100Z | 1.0 Hz, 86400 samples\n",
      "1 Trace(s) in Stream:\n",
      "Z4.CP07..BHZ | 2012-10-14T00:00:00.006900Z - 2012-10-14T23:59:59.006900Z | 1.0 Hz, 86400 samples\n",
      "1 Trace(s) in Stream:\n",
      "Z4.CP07..BH2 | 2012-12-04T00:00:00.019600Z - 2012-12-04T23:59:59.019600Z | 1.0 Hz, 86400 samples\n",
      "1 Trace(s) in Stream:\n",
      "Z4.CP07..BH2 | 2012-12-14T00:00:00.007900Z - 2012-12-14T23:59:59.007900Z | 1.0 Hz, 86400 samples\n"
     ]
    },
    {
     "name": "stderr",
     "output_type": "stream",
     "text": [
      " 34%|███▍      | 1295/3775 [01:21<02:04, 20.00it/s]"
     ]
    },
    {
     "name": "stdout",
     "output_type": "stream",
     "text": [
      "1 Trace(s) in Stream:\n",
      "Z4.CP07..BHZ | 2013-01-05T00:00:00.002100Z - 2013-01-05T23:59:59.002100Z | 1.0 Hz, 86400 samples\n",
      "1 Trace(s) in Stream:\n",
      "Z4.CP07..BHZ | 2013-03-15T00:00:00.023700Z - 2013-03-15T23:59:59.023700Z | 1.0 Hz, 86400 samples\n",
      "1 Trace(s) in Stream:\n",
      "Z4.CP07..BH2 | 2013-01-13T00:00:00.022700Z - 2013-01-13T23:59:59.022700Z | 1.0 Hz, 86400 samples\n",
      "1 Trace(s) in Stream:\n",
      "Z4.CP07..BHZ | 2012-06-27T00:00:00.007300Z - 2012-06-27T23:59:59.007300Z | 1.0 Hz, 86400 samples\n",
      "1 Trace(s) in Stream:\n",
      "Z4.CP07..BHZ | 2013-02-12T00:00:00.012500Z - 2013-02-12T23:59:59.012500Z | 1.0 Hz, 86400 samples\n"
     ]
    },
    {
     "name": "stderr",
     "output_type": "stream",
     "text": [
      " 34%|███▍      | 1300/3775 [01:21<02:01, 20.29it/s]"
     ]
    },
    {
     "name": "stdout",
     "output_type": "stream",
     "text": [
      "1 Trace(s) in Stream:\n",
      "Z4.CP07..BHZ | 2012-06-18T00:00:00.015300Z - 2012-06-18T23:59:59.015300Z | 1.0 Hz, 86400 samples\n",
      "1 Trace(s) in Stream:\n",
      "Z4.CP07..BH2 | 2013-03-01T00:00:00.000100Z - 2013-03-01T23:59:59.000100Z | 1.0 Hz, 86400 samples\n",
      "1 Trace(s) in Stream:\n",
      "Z4.CP07..BH2 | 2012-07-14T00:00:00.019800Z - 2012-07-14T23:59:59.019800Z | 1.0 Hz, 86400 samples\n",
      "1 Trace(s) in Stream:\n",
      "Z4.CP07..BH1 | 2012-07-23T00:00:00.011800Z - 2012-07-23T23:59:59.011800Z | 1.0 Hz, 86400 samples\n",
      "1 Trace(s) in Stream:\n",
      "Z4.CP07..BHZ | 2013-01-02T00:00:00.013100Z - 2013-01-02T23:59:59.013100Z | 1.0 Hz, 86400 samples\n"
     ]
    },
    {
     "name": "stderr",
     "output_type": "stream",
     "text": [
      " 35%|███▍      | 1305/3775 [01:21<02:05, 19.67it/s]"
     ]
    },
    {
     "name": "stdout",
     "output_type": "stream",
     "text": [
      "1 Trace(s) in Stream:\n",
      "Z4.CP07..BH2 | 2012-06-27T00:00:00.007300Z - 2012-06-27T23:59:59.007300Z | 1.0 Hz, 86400 samples\n",
      "1 Trace(s) in Stream:\n",
      "Z4.CP07..BH2 | 2012-11-20T00:00:00.021000Z - 2012-11-20T23:59:59.021000Z | 1.0 Hz, 86400 samples\n",
      "1 Trace(s) in Stream:\n",
      "Z4.CP07..BH1 | 2012-09-16T00:00:00.009800Z - 2012-09-16T23:59:59.009800Z | 1.0 Hz, 86400 samples\n",
      "1 Trace(s) in Stream:\n",
      "Z4.CP07..BH1 | 2012-08-21T00:00:00.005300Z - 2012-08-21T23:59:59.005300Z | 1.0 Hz, 86400 samples\n"
     ]
    },
    {
     "name": "stderr",
     "output_type": "stream",
     "text": [
      " 35%|███▍      | 1310/3775 [01:22<02:10, 18.87it/s]"
     ]
    },
    {
     "name": "stdout",
     "output_type": "stream",
     "text": [
      "1 Trace(s) in Stream:\n",
      "Z4.CP07..BH1 | 2012-09-07T00:00:00.017800Z - 2012-09-07T23:59:59.017800Z | 1.0 Hz, 86400 samples\n",
      "1 Trace(s) in Stream:\n",
      "Z4.CP07..BH1 | 2012-07-16T00:00:00.012500Z - 2012-07-16T23:59:59.012500Z | 1.0 Hz, 86400 samples\n",
      "1 Trace(s) in Stream:\n",
      "Z4.CP07..BH1 | 2013-02-22T00:00:00.000800Z - 2013-02-22T23:59:59.000800Z | 1.0 Hz, 86400 samples\n",
      "1 Trace(s) in Stream:\n",
      "Z4.CP07..BHZ | 2012-06-09T00:00:00.023400Z - 2012-06-09T23:59:59.023400Z | 1.0 Hz, 86400 samples\n",
      "1 Trace(s) in Stream:\n",
      "Z4.CP07..BHZ | 2012-09-15T00:00:00.013400Z - 2012-09-15T23:59:59.013400Z | 1.0 Hz, 86400 samples\n"
     ]
    },
    {
     "name": "stderr",
     "output_type": "stream",
     "text": [
      "\r",
      " 35%|███▍      | 1313/3775 [01:22<02:10, 18.80it/s]"
     ]
    },
    {
     "name": "stdout",
     "output_type": "stream",
     "text": [
      "1 Trace(s) in Stream:\n",
      "Z4.CP07..BH1 | 2012-11-05T00:00:00.001100Z - 2012-11-05T23:59:59.001100Z | 1.0 Hz, 86400 samples\n",
      "1 Trace(s) in Stream:\n",
      "Z4.CP07..BH2 | 2012-09-13T00:00:00.020800Z - 2012-09-13T23:59:59.020800Z | 1.0 Hz, 86400 samples\n",
      "1 Trace(s) in Stream:\n",
      "Z4.CP07..BH1 | 2013-03-01T00:00:00.000100Z - 2013-03-01T23:59:59.000100Z | 1.0 Hz, 86400 samples\n",
      "1 Trace(s) in Stream:\n",
      "Z4.CP07..BH1 | 2012-10-31T00:00:00.019500Z - 2012-10-31T23:59:59.019500Z | 1.0 Hz, 86400 samples\n"
     ]
    },
    {
     "name": "stderr",
     "output_type": "stream",
     "text": [
      " 35%|███▍      | 1317/3775 [01:22<02:13, 18.35it/s]"
     ]
    },
    {
     "name": "stdout",
     "output_type": "stream",
     "text": [
      "1 Trace(s) in Stream:\n",
      "Z4.CP07..BH1 | 2012-11-17T00:00:00.007100Z - 2012-11-17T23:59:59.007100Z | 1.0 Hz, 86400 samples\n",
      "1 Trace(s) in Stream:\n",
      "Z4.CP07..BH1 | 2012-10-04T00:00:00.018700Z - 2012-10-04T23:59:59.018700Z | 1.0 Hz, 86400 samples\n",
      "1 Trace(s) in Stream:\n",
      "Z4.CP07..BH1 | 2013-02-10T00:00:00.019900Z - 2013-02-10T23:59:59.019900Z | 1.0 Hz, 86400 samples\n",
      "1 Trace(s) in Stream:\n",
      "Z4.CP07..BH2 | 2012-10-18T00:00:00.017200Z - 2012-10-18T23:59:59.017200Z | 1.0 Hz, 86400 samples\n"
     ]
    },
    {
     "name": "stderr",
     "output_type": "stream",
     "text": [
      " 35%|███▍      | 1321/3775 [01:22<02:19, 17.63it/s]"
     ]
    },
    {
     "name": "stdout",
     "output_type": "stream",
     "text": [
      "1 Trace(s) in Stream:\n",
      "Z4.CP07..BH1 | 2013-01-31T00:00:00.006600Z - 2013-01-31T23:59:59.006600Z | 1.0 Hz, 86400 samples\n",
      "1 Trace(s) in Stream:\n",
      "Z4.CP07..BHZ | 2012-12-23T00:00:00.024800Z - 2012-12-23T23:59:59.024800Z | 1.0 Hz, 86400 samples\n",
      "1 Trace(s) in Stream:\n",
      "Z4.CP07..BH2 | 2012-09-06T00:00:00.021500Z - 2012-09-06T23:59:59.021500Z | 1.0 Hz, 86400 samples\n",
      "1 Trace(s) in Stream:\n",
      "Z4.CP07..BHZ | 2012-08-03T00:00:00.021400Z - 2012-08-03T23:59:59.021400Z | 1.0 Hz, 86400 samples\n"
     ]
    },
    {
     "name": "stderr",
     "output_type": "stream",
     "text": [
      " 35%|███▌      | 1325/3775 [01:22<02:21, 17.32it/s]"
     ]
    },
    {
     "name": "stdout",
     "output_type": "stream",
     "text": [
      "1 Trace(s) in Stream:\n",
      "Z4.CP07..BHZ | 2013-01-11T00:00:00.005100Z - 2013-01-11T23:59:59.005100Z | 1.0 Hz, 86400 samples\n",
      "1 Trace(s) in Stream:\n",
      "Z4.CP07..BHZ | 2012-11-10T00:00:00.007800Z - 2012-11-10T23:59:59.007800Z | 1.0 Hz, 86400 samples\n",
      "1 Trace(s) in Stream:\n",
      "Z4.CP07..BH2 | 2012-08-23T00:00:00.022900Z - 2012-08-23T23:59:59.022900Z | 1.0 Hz, 86400 samples\n",
      "1 Trace(s) in Stream:\n",
      "Z4.CP07..BHZ | 2012-07-25T00:00:00.004400Z - 2012-07-25T23:59:59.004400Z | 1.0 Hz, 86400 samples\n",
      "1 Trace(s) in Stream:\n",
      "Z4.CP07..BH2 | 2012-06-04T00:00:00.016700Z - 2012-06-04T23:59:59.016700Z | 1.0 Hz, 86400 samples\n"
     ]
    },
    {
     "name": "stderr",
     "output_type": "stream",
     "text": [
      " 35%|███▌      | 1331/3775 [01:23<02:17, 17.76it/s]"
     ]
    },
    {
     "name": "stdout",
     "output_type": "stream",
     "text": [
      "1 Trace(s) in Stream:\n",
      "Z4.CP07..BH1 | 2012-09-20T00:00:00.020100Z - 2012-09-20T23:59:59.020100Z | 1.0 Hz, 86400 samples\n",
      "1 Trace(s) in Stream:\n",
      "Z4.CP07..BHZ | 2012-10-12T00:00:00.014300Z - 2012-10-12T23:59:59.014300Z | 1.0 Hz, 86400 samples\n",
      "1 Trace(s) in Stream:\n",
      "Z4.CP07..BH2 | 2012-12-25T00:00:00.017500Z - 2012-12-25T23:59:59.017500Z | 1.0 Hz, 86400 samples\n",
      "1 Trace(s) in Stream:\n",
      "Z4.CP07..BHZ | 2013-03-02T00:00:00.021400Z - 2013-03-02T23:59:59.021400Z | 1.0 Hz, 86400 samples\n"
     ]
    },
    {
     "name": "stderr",
     "output_type": "stream",
     "text": [
      "\r",
      " 35%|███▌      | 1334/3775 [01:23<02:08, 19.04it/s]"
     ]
    },
    {
     "name": "stdout",
     "output_type": "stream",
     "text": [
      "1 Trace(s) in Stream:\n",
      "Z4.CP07..BH2 | 2012-07-08T00:00:00.016900Z - 2012-07-08T23:59:59.016900Z | 1.0 Hz, 86400 samples\n",
      "1 Trace(s) in Stream:\n",
      "Z4.CP07..BH2 | 2012-06-21T00:00:00.004300Z - 2012-06-21T23:59:59.004300Z | 1.0 Hz, 86400 samples\n",
      "1 Trace(s) in Stream:\n",
      "Z4.CP07..BH2 | 2012-11-21T00:00:00.017400Z - 2012-11-21T23:59:59.017400Z | 1.0 Hz, 86400 samples\n",
      "1 Trace(s) in Stream:\n",
      "Z4.CP07..BH2 | 2012-12-20T00:00:00.010900Z - 2012-12-20T23:59:59.010900Z | 1.0 Hz, 86400 samples\n",
      "1 Trace(s) in Stream:\n",
      "Z4.CP07..BHZ | 2012-05-26T00:00:00.024800Z - 2012-05-26T23:59:59.024800Z | 1.0 Hz, 86400 samples\n",
      "1 Trace(s) in Stream:\n",
      "Z4.CP07..BHZ | 2012-09-07T00:00:00.017800Z - 2012-09-07T23:59:59.017800Z | 1.0 Hz, 86400 samples\n"
     ]
    },
    {
     "name": "stderr",
     "output_type": "stream",
     "text": [
      " 35%|███▌      | 1340/3775 [01:23<02:02, 19.94it/s]"
     ]
    },
    {
     "name": "stdout",
     "output_type": "stream",
     "text": [
      "1 Trace(s) in Stream:\n",
      "Z4.CP07..BH2 | 2012-06-22T00:00:00.000600Z - 2012-06-22T23:59:59.000600Z | 1.0 Hz, 86400 samples\n",
      "1 Trace(s) in Stream:\n",
      "Z4.CP07..BHZ | 2012-12-20T00:00:00.010900Z - 2012-12-20T23:59:59.010900Z | 1.0 Hz, 86400 samples\n",
      "1 Trace(s) in Stream:\n",
      "Z4.CP07..BHZ | 2012-10-28T00:00:00.005500Z - 2012-10-28T23:59:59.005500Z | 1.0 Hz, 86400 samples\n",
      "1 Trace(s) in Stream:\n",
      "Z4.CP07..BHZ | 2012-10-29T00:00:00.001800Z - 2012-10-29T23:59:59.001800Z | 1.0 Hz, 86400 samples\n",
      "1 Trace(s) in Stream:\n",
      "Z4.CP07..BHZ | 2012-07-15T00:00:00.016100Z - 2012-07-15T23:59:59.016100Z | 1.0 Hz, 86400 samples\n"
     ]
    },
    {
     "name": "stderr",
     "output_type": "stream",
     "text": [
      " 36%|███▌      | 1346/3775 [01:24<02:00, 20.16it/s]"
     ]
    },
    {
     "name": "stdout",
     "output_type": "stream",
     "text": [
      "1 Trace(s) in Stream:\n",
      "Z4.CP07..BH2 | 2012-10-16T00:00:00.024600Z - 2012-10-16T23:59:59.024600Z | 1.0 Hz, 86400 samples\n",
      "1 Trace(s) in Stream:\n",
      "Z4.CP07..BH1 | 2012-08-12T00:00:00.013300Z - 2012-08-12T23:59:59.013300Z | 1.0 Hz, 86400 samples\n",
      "1 Trace(s) in Stream:\n",
      "Z4.CP07..BH2 | 2013-01-09T00:00:00.012400Z - 2013-01-09T23:59:59.012400Z | 1.0 Hz, 86400 samples\n",
      "1 Trace(s) in Stream:\n",
      "Z4.CP07..BHZ | 2012-11-06T00:00:00.022500Z - 2012-11-06T23:59:59.022500Z | 1.0 Hz, 86400 samples\n",
      "1 Trace(s) in Stream:\n",
      "Z4.CP07..BH2 | 2013-02-13T00:00:00.008900Z - 2013-02-13T23:59:59.008900Z | 1.0 Hz, 86400 samples\n"
     ]
    },
    {
     "name": "stderr",
     "output_type": "stream",
     "text": [
      "\r",
      " 36%|███▌      | 1349/3775 [01:24<02:00, 20.15it/s]"
     ]
    },
    {
     "name": "stdout",
     "output_type": "stream",
     "text": [
      "1 Trace(s) in Stream:\n",
      "Z4.CP07..BHZ | 2012-05-08T00:00:00.015900Z - 2012-05-08T23:59:59.015900Z | 1.0 Hz, 86400 samples\n",
      "1 Trace(s) in Stream:\n",
      "Z4.CP07..BH2 | 2013-01-26T00:00:00.000000Z - 2013-01-27T00:00:00.000000Z | 1.0 Hz, 86401 samples\n",
      "1 Trace(s) in Stream:\n",
      "Z4.CP07..BHZ | 2012-09-09T00:00:00.010500Z - 2012-09-09T23:59:59.010500Z | 1.0 Hz, 86400 samples\n"
     ]
    },
    {
     "name": "stderr",
     "output_type": "stream",
     "text": [
      " 36%|███▌      | 1354/3775 [01:24<02:30, 16.11it/s]"
     ]
    },
    {
     "name": "stdout",
     "output_type": "stream",
     "text": [
      "1 Trace(s) in Stream:\n",
      "Z4.CP07..BHZ | 2013-03-10T00:00:00.017000Z - 2013-03-10T23:59:59.017000Z | 1.0 Hz, 86400 samples\n",
      "1 Trace(s) in Stream:\n",
      "Z4.CP07..BHZ | 2012-08-27T00:00:00.008200Z - 2012-08-27T23:59:59.008200Z | 1.0 Hz, 86400 samples\n",
      "1 Trace(s) in Stream:\n",
      "Z4.CP07..BH2 | 2012-06-13T00:00:00.008700Z - 2012-06-13T23:59:59.008700Z | 1.0 Hz, 86400 samples\n",
      "1 Trace(s) in Stream:\n",
      "Z4.CP07..BH2 | 2012-06-07T00:00:00.005700Z - 2012-06-07T23:59:59.005700Z | 1.0 Hz, 86400 samples\n"
     ]
    },
    {
     "name": "stderr",
     "output_type": "stream",
     "text": [
      "\r",
      " 36%|███▌      | 1356/3775 [01:24<02:25, 16.63it/s]"
     ]
    },
    {
     "name": "stdout",
     "output_type": "stream",
     "text": [
      "1 Trace(s) in Stream:\n",
      "Z4.CP07..BH2 | 2012-09-18T00:00:00.002400Z - 2012-09-18T23:59:59.002400Z | 1.0 Hz, 86400 samples\n",
      "1 Trace(s) in Stream:\n",
      "Z4.CP07..BHZ | 2012-12-29T00:00:00.002800Z - 2012-12-29T23:59:59.002800Z | 1.0 Hz, 86400 samples\n",
      "1 Trace(s) in Stream:\n",
      "Z4.CP07..BHZ | 2012-11-08T00:00:00.015100Z - 2012-11-08T23:59:59.015100Z | 1.0 Hz, 86400 samples\n",
      "1 Trace(s) in Stream:\n",
      "Z4.CP07..BHZ | 2012-12-08T00:00:00.004900Z - 2012-12-08T23:59:59.004900Z | 1.0 Hz, 86400 samples\n",
      "1 Trace(s) in Stream:\n",
      "Z4.CP07..BHZ | 2012-08-09T00:00:00.024300Z - 2012-08-09T23:59:59.024300Z | 1.0 Hz, 86400 samples\n"
     ]
    },
    {
     "name": "stderr",
     "output_type": "stream",
     "text": [
      " 36%|███▌      | 1363/3775 [01:25<02:14, 17.96it/s]"
     ]
    },
    {
     "name": "stdout",
     "output_type": "stream",
     "text": [
      "1 Trace(s) in Stream:\n",
      "Z4.CP07..BH1 | 2012-12-20T00:00:00.010900Z - 2012-12-20T23:59:59.010900Z | 1.0 Hz, 86400 samples\n",
      "1 Trace(s) in Stream:\n",
      "Z4.CP07..BH2 | 2012-09-03T00:00:00.007500Z - 2012-09-03T23:59:59.007500Z | 1.0 Hz, 86400 samples\n",
      "1 Trace(s) in Stream:\n",
      "Z4.CP07..BH1 | 2012-10-28T00:00:00.005500Z - 2012-10-28T23:59:59.005500Z | 1.0 Hz, 86400 samples\n",
      "1 Trace(s) in Stream:\n",
      "Z4.CP07..BHZ | 2012-05-29T00:00:00.013800Z - 2012-05-29T23:59:59.013800Z | 1.0 Hz, 86400 samples\n"
     ]
    },
    {
     "name": "stderr",
     "output_type": "stream",
     "text": [
      " 36%|███▌      | 1367/3775 [01:25<02:16, 17.60it/s]"
     ]
    },
    {
     "name": "stdout",
     "output_type": "stream",
     "text": [
      "1 Trace(s) in Stream:\n",
      "Z4.CP07..BH2 | 2012-11-04T00:00:00.004800Z - 2012-11-04T23:59:59.004800Z | 1.0 Hz, 86400 samples\n",
      "1 Trace(s) in Stream:\n",
      "Z4.CP07..BHZ | 2012-06-30T00:00:00.021200Z - 2012-06-30T23:59:59.021200Z | 1.0 Hz, 86400 samples\n",
      "1 Trace(s) in Stream:\n",
      "Z4.CP07..BH2 | 2012-06-11T00:00:00.016000Z - 2012-06-11T23:59:59.016000Z | 1.0 Hz, 86400 samples\n",
      "1 Trace(s) in Stream:\n",
      "Z4.CP07..BH2 | 2012-07-07T00:00:00.020500Z - 2012-07-07T23:59:59.020500Z | 1.0 Hz, 86400 samples\n"
     ]
    },
    {
     "name": "stderr",
     "output_type": "stream",
     "text": [
      "\r",
      " 36%|███▋      | 1370/3775 [01:25<02:08, 18.78it/s]"
     ]
    },
    {
     "name": "stdout",
     "output_type": "stream",
     "text": [
      "1 Trace(s) in Stream:\n",
      "Z4.CP07..BH1 | 2012-10-10T00:00:00.021600Z - 2012-10-10T23:59:59.021600Z | 1.0 Hz, 86400 samples\n",
      "1 Trace(s) in Stream:\n",
      "Z4.CP07..BH1 | 2012-10-22T00:00:00.002500Z - 2012-10-22T23:59:59.002500Z | 1.0 Hz, 86400 samples\n",
      "1 Trace(s) in Stream:\n",
      "Z4.CP07..BH1 | 2013-02-19T00:00:00.011800Z - 2013-02-19T23:59:59.011800Z | 1.0 Hz, 86400 samples\n",
      "1 Trace(s) in Stream:\n",
      "Z4.CP07..BH1 | 2012-12-06T00:00:00.012300Z - 2012-12-06T23:59:59.012300Z | 1.0 Hz, 86400 samples\n",
      "1 Trace(s) in Stream:\n",
      "Z4.CP07..BHZ | 2012-12-30T00:00:00.024100Z - 2012-12-30T23:59:59.024100Z | 1.0 Hz, 86400 samples\n"
     ]
    },
    {
     "name": "stderr",
     "output_type": "stream",
     "text": [
      " 36%|███▋      | 1376/3775 [01:25<02:19, 17.16it/s]"
     ]
    },
    {
     "name": "stdout",
     "output_type": "stream",
     "text": [
      "1 Trace(s) in Stream:\n",
      "Z4.CP07..BHZ | 2012-12-12T00:00:00.015200Z - 2012-12-12T23:59:59.015200Z | 1.0 Hz, 86400 samples\n",
      "1 Trace(s) in Stream:\n",
      "Z4.CP07..BH1 | 2012-10-12T00:00:00.014300Z - 2012-10-12T23:59:59.014300Z | 1.0 Hz, 86400 samples\n",
      "1 Trace(s) in Stream:\n",
      "Z4.CP07..BH1 | 2013-01-08T00:00:00.016100Z - 2013-01-08T23:59:59.016100Z | 1.0 Hz, 86400 samples\n",
      "1 Trace(s) in Stream:\n",
      "Z4.CP07..BHZ | 2012-10-11T00:00:00.017900Z - 2012-10-11T23:59:59.017900Z | 1.0 Hz, 86400 samples\n"
     ]
    },
    {
     "name": "stderr",
     "output_type": "stream",
     "text": [
      "\r",
      " 37%|███▋      | 1378/3775 [01:25<02:26, 16.40it/s]"
     ]
    },
    {
     "name": "stdout",
     "output_type": "stream",
     "text": [
      "1 Trace(s) in Stream:\n",
      "Z4.CP07..BH1 | 2013-03-07T00:00:00.003100Z - 2013-03-07T23:59:59.003100Z | 1.0 Hz, 86400 samples\n",
      "1 Trace(s) in Stream:\n",
      "Z4.CP07..BH2 | 2012-11-26T00:00:00.024000Z - 2012-11-26T23:59:59.024000Z | 1.0 Hz, 86400 samples\n",
      "1 Trace(s) in Stream:\n",
      "Z4.CP07..BH2 | 2012-06-15T00:00:00.001300Z - 2012-06-15T23:59:59.001300Z | 1.0 Hz, 86400 samples\n",
      "1 Trace(s) in Stream:\n",
      "Z4.CP07..BH2 | 2013-03-02T00:00:00.021400Z - 2013-03-02T23:59:59.021400Z | 1.0 Hz, 86400 samples\n"
     ]
    },
    {
     "name": "stderr",
     "output_type": "stream",
     "text": [
      " 37%|███▋      | 1383/3775 [01:26<02:12, 18.03it/s]"
     ]
    },
    {
     "name": "stdout",
     "output_type": "stream",
     "text": [
      "1 Trace(s) in Stream:\n",
      "Z4.CP07..BHZ | 2013-01-24T00:00:00.007300Z - 2013-01-24T23:59:59.007300Z | 1.0 Hz, 86400 samples\n",
      "1 Trace(s) in Stream:\n",
      "Z4.CP07..BHZ | 2013-02-20T00:00:00.008100Z - 2013-02-20T23:59:59.008100Z | 1.0 Hz, 86400 samples\n",
      "1 Trace(s) in Stream:\n",
      "Z4.CP07..BHZ | 2012-10-13T00:00:00.010600Z - 2012-10-13T23:59:59.010600Z | 1.0 Hz, 86400 samples\n",
      "1 Trace(s) in Stream:\n",
      "Z4.CP07..BHZ | 2012-05-11T00:00:00.004900Z - 2012-05-11T23:59:59.004900Z | 1.0 Hz, 86400 samples\n",
      "1 Trace(s) in Stream:\n",
      "Z4.CP07..BHZ | 2012-11-17T00:00:00.007100Z - 2012-11-17T23:59:59.007100Z | 1.0 Hz, 86400 samples\n"
     ]
    },
    {
     "name": "stderr",
     "output_type": "stream",
     "text": [
      " 37%|███▋      | 1389/3775 [01:26<02:01, 19.71it/s]"
     ]
    },
    {
     "name": "stdout",
     "output_type": "stream",
     "text": [
      "1 Trace(s) in Stream:\n",
      "Z4.CP07..BHZ | 2013-01-07T00:00:00.019700Z - 2013-01-07T23:59:59.019700Z | 1.0 Hz, 86400 samples\n",
      "1 Trace(s) in Stream:\n",
      "Z4.CP07..BHZ | 2012-10-27T00:00:00.009200Z - 2012-10-27T23:59:59.009200Z | 1.0 Hz, 86400 samples\n",
      "1 Trace(s) in Stream:\n",
      "Z4.CP07..BHZ | 2012-12-01T00:00:00.005600Z - 2012-12-01T23:59:59.005600Z | 1.0 Hz, 86400 samples\n",
      "1 Trace(s) in Stream:\n",
      "Z4.CP07..BH2 | 2013-01-24T00:00:00.007300Z - 2013-01-24T23:59:59.007300Z | 1.0 Hz, 86400 samples\n",
      "1 Trace(s) in Stream:\n",
      "Z4.CP07..BH2 | 2012-07-10T00:00:00.009500Z - 2012-07-10T23:59:59.009500Z | 1.0 Hz, 86400 samples\n"
     ]
    },
    {
     "name": "stderr",
     "output_type": "stream",
     "text": [
      "\r",
      " 37%|███▋      | 1392/3775 [01:26<01:56, 20.47it/s]"
     ]
    },
    {
     "name": "stdout",
     "output_type": "stream",
     "text": [
      "1 Trace(s) in Stream:\n",
      "Z4.CP07..BH2 | 2012-08-31T00:00:00.018500Z - 2012-08-31T23:59:59.018500Z | 1.0 Hz, 86400 samples\n",
      "1 Trace(s) in Stream:\n",
      "Z4.CP07..BH2 | 2013-02-21T00:00:00.004500Z - 2013-02-21T23:59:59.004500Z | 1.0 Hz, 86400 samples\n",
      "1 Trace(s) in Stream:\n",
      "Z4.CP07..BH2 | 2012-08-26T00:00:00.011900Z - 2012-08-26T23:59:59.011900Z | 1.0 Hz, 86400 samples\n",
      "1 Trace(s) in Stream:\n",
      "Z4.CP07..BH1 | 2013-01-11T00:00:00.005100Z - 2013-01-11T23:59:59.005100Z | 1.0 Hz, 86400 samples\n",
      "1 Trace(s) in Stream:\n",
      "Z4.CP07..BHZ | 2012-11-24T00:00:00.004800Z - 2012-11-24T23:59:59.004800Z | 1.0 Hz, 86400 samples\n"
     ]
    },
    {
     "name": "stderr",
     "output_type": "stream",
     "text": [
      " 37%|███▋      | 1398/3775 [01:26<01:57, 20.28it/s]"
     ]
    },
    {
     "name": "stdout",
     "output_type": "stream",
     "text": [
      "1 Trace(s) in Stream:\n",
      "Z4.CP07..BHZ | 2012-05-07T00:00:00.019600Z - 2012-05-07T23:59:59.019600Z | 1.0 Hz, 86400 samples\n",
      "1 Trace(s) in Stream:\n",
      "Z4.CP07..BH2 | 2012-08-10T00:00:00.020700Z - 2012-08-10T23:59:59.020700Z | 1.0 Hz, 86400 samples\n",
      "1 Trace(s) in Stream:\n",
      "Z4.CP07..BH2 | 2012-10-30T00:00:00.023200Z - 2012-10-30T23:59:59.023200Z | 1.0 Hz, 86400 samples\n",
      "1 Trace(s) in Stream:\n",
      "Z4.CP07..BHZ | 2012-12-27T00:00:00.010100Z - 2012-12-27T23:59:59.010100Z | 1.0 Hz, 86400 samples\n",
      "1 Trace(s) in Stream:\n",
      "Z4.CP07..BH2 | 2013-02-24T00:00:00.018500Z - 2013-02-24T23:59:59.018500Z | 1.0 Hz, 86400 samples\n"
     ]
    },
    {
     "name": "stderr",
     "output_type": "stream",
     "text": [
      "\r",
      " 37%|███▋      | 1401/3775 [01:27<01:56, 20.31it/s]"
     ]
    },
    {
     "name": "stdout",
     "output_type": "stream",
     "text": [
      "1 Trace(s) in Stream:\n",
      "Z4.CP07..BHZ | 2012-12-28T00:00:00.006500Z - 2012-12-28T23:59:59.006500Z | 1.0 Hz, 86400 samples\n",
      "1 Trace(s) in Stream:\n",
      "Z4.CP07..BH1 | 2012-09-09T00:00:00.010500Z - 2012-09-09T23:59:59.010500Z | 1.0 Hz, 86400 samples\n",
      "1 Trace(s) in Stream:\n",
      "Z4.CP07..BHZ | 2013-01-08T00:00:00.016100Z - 2013-01-08T23:59:59.016100Z | 1.0 Hz, 86400 samples\n",
      "1 Trace(s) in Stream:\n",
      "Z4.CP07..BH2 | 2012-09-29T00:00:00.012000Z - 2012-09-29T23:59:59.012000Z | 1.0 Hz, 86400 samples\n"
     ]
    },
    {
     "name": "stderr",
     "output_type": "stream",
     "text": [
      " 37%|███▋      | 1407/3775 [01:27<02:06, 18.76it/s]"
     ]
    },
    {
     "name": "stdout",
     "output_type": "stream",
     "text": [
      "1 Trace(s) in Stream:\n",
      "Z4.CP07..BH1 | 2012-05-10T00:00:00.008600Z - 2012-05-10T23:59:59.008600Z | 1.0 Hz, 86400 samples\n",
      "1 Trace(s) in Stream:\n",
      "Z4.CP07..BH1 | 2012-10-24T00:00:00.020200Z - 2012-10-24T23:59:59.020200Z | 1.0 Hz, 86400 samples\n",
      "1 Trace(s) in Stream:\n",
      "Z4.CP07..BH1 | 2012-09-04T00:00:00.003800Z - 2012-09-04T23:59:59.003800Z | 1.0 Hz, 86400 samples\n",
      "1 Trace(s) in Stream:\n",
      "Z4.CP07..BH2 | 2012-09-09T00:00:00.010500Z - 2012-09-09T23:59:59.010500Z | 1.0 Hz, 86400 samples\n",
      "1 Trace(s) in Stream:\n",
      "Z4.CP07..BH2 | 2013-02-23T00:00:00.022100Z - 2013-02-23T23:59:59.022100Z | 1.0 Hz, 86400 samples\n"
     ]
    },
    {
     "name": "stderr",
     "output_type": "stream",
     "text": [
      " 37%|███▋      | 1412/3775 [01:27<02:09, 18.25it/s]"
     ]
    },
    {
     "name": "stdout",
     "output_type": "stream",
     "text": [
      "1 Trace(s) in Stream:\n",
      "Z4.CP07..BH2 | 2013-01-15T00:00:00.015400Z - 2013-01-15T23:59:59.015400Z | 1.0 Hz, 86400 samples\n",
      "1 Trace(s) in Stream:\n",
      "Z4.CP07..BH1 | 2012-09-15T00:00:00.013400Z - 2012-09-15T23:59:59.013400Z | 1.0 Hz, 86400 samples\n",
      "1 Trace(s) in Stream:\n",
      "Z4.CP07..BH2 | 2013-02-27T00:00:00.007400Z - 2013-02-27T23:59:59.007400Z | 1.0 Hz, 86400 samples\n",
      "1 Trace(s) in Stream:\n",
      "Z4.CP07..BH2 | 2012-09-21T00:00:00.016400Z - 2012-09-21T23:59:59.016400Z | 1.0 Hz, 86400 samples\n"
     ]
    },
    {
     "name": "stderr",
     "output_type": "stream",
     "text": [
      " 38%|███▊      | 1416/3775 [01:27<02:16, 17.25it/s]"
     ]
    },
    {
     "name": "stdout",
     "output_type": "stream",
     "text": [
      "1 Trace(s) in Stream:\n",
      "Z4.CP07..BH1 | 2012-11-02T00:00:00.012100Z - 2012-11-02T23:59:59.012100Z | 1.0 Hz, 86400 samples\n",
      "1 Trace(s) in Stream:\n",
      "Z4.CP07..BH1 | 2012-08-13T00:00:00.009600Z - 2012-08-13T23:59:59.009600Z | 1.0 Hz, 86400 samples\n",
      "1 Trace(s) in Stream:\n",
      "Z4.CP07..BH1 | 2013-01-22T00:00:00.014700Z - 2013-01-22T23:59:59.014700Z | 1.0 Hz, 86400 samples\n",
      "1 Trace(s) in Stream:\n",
      "Z4.CP07..BH1 | 2012-07-01T00:00:00.017600Z - 2012-07-01T23:59:59.017600Z | 1.0 Hz, 86400 samples\n"
     ]
    },
    {
     "name": "stderr",
     "output_type": "stream",
     "text": [
      " 38%|███▊      | 1420/3775 [01:28<02:12, 17.74it/s]"
     ]
    },
    {
     "name": "stdout",
     "output_type": "stream",
     "text": [
      "1 Trace(s) in Stream:\n",
      "Z4.CP07..BH1 | 2012-11-03T00:00:00.008500Z - 2012-11-03T23:59:59.008500Z | 1.0 Hz, 86400 samples\n",
      "1 Trace(s) in Stream:\n",
      "Z4.CP07..BH2 | 2012-05-31T00:00:00.006400Z - 2012-05-31T23:59:59.006400Z | 1.0 Hz, 86400 samples\n",
      "1 Trace(s) in Stream:\n",
      "Z4.CP07..BH1 | 2012-05-12T00:00:00.001200Z - 2012-05-12T23:59:59.001200Z | 1.0 Hz, 86400 samples\n",
      "1 Trace(s) in Stream:\n",
      "Z4.CP07..BH2 | 2012-11-28T00:00:00.016700Z - 2012-11-28T23:59:59.016700Z | 1.0 Hz, 86400 samples\n"
     ]
    },
    {
     "name": "stderr",
     "output_type": "stream",
     "text": [
      " 38%|███▊      | 1426/3775 [01:28<02:13, 17.60it/s]"
     ]
    },
    {
     "name": "stdout",
     "output_type": "stream",
     "text": [
      "1 Trace(s) in Stream:\n",
      "Z4.CP07..BH2 | 2012-09-05T00:00:00.000200Z - 2012-09-05T23:59:59.000200Z | 1.0 Hz, 86400 samples\n",
      "1 Trace(s) in Stream:\n",
      "Z4.CP07..BH1 | 2013-03-10T00:00:00.017000Z - 2013-03-10T23:59:59.017000Z | 1.0 Hz, 86400 samples\n",
      "1 Trace(s) in Stream:\n",
      "Z4.CP07..BHZ | 2012-11-02T00:00:00.012100Z - 2012-11-02T23:59:59.012100Z | 1.0 Hz, 86400 samples\n",
      "1 Trace(s) in Stream:\n",
      "Z4.CP07..BH2 | 2013-02-07T00:00:00.005900Z - 2013-02-07T23:59:59.005900Z | 1.0 Hz, 86400 samples\n",
      "1 Trace(s) in Stream:\n",
      "Z4.CP07..BH2 | 2012-08-28T00:00:00.004500Z - 2012-08-28T23:59:59.004500Z | 1.0 Hz, 86400 samples\n"
     ]
    },
    {
     "name": "stderr",
     "output_type": "stream",
     "text": [
      "\r",
      " 38%|███▊      | 1429/3775 [01:28<02:04, 18.78it/s]"
     ]
    },
    {
     "name": "stdout",
     "output_type": "stream",
     "text": [
      "1 Trace(s) in Stream:\n",
      "Z4.CP07..BHZ | 2013-02-23T00:00:00.022100Z - 2013-02-23T23:59:59.022100Z | 1.0 Hz, 86400 samples\n",
      "1 Trace(s) in Stream:\n",
      "Z4.CP07..BH2 | 2012-07-19T00:00:00.001500Z - 2012-07-19T23:59:59.001500Z | 1.0 Hz, 86400 samples\n",
      "1 Trace(s) in Stream:\n",
      "Z4.CP07..BHZ | 2012-07-11T00:00:00.005800Z - 2012-07-11T23:59:59.005800Z | 1.0 Hz, 86400 samples\n",
      "1 Trace(s) in Stream:\n",
      "Z4.CP07..BH1 | 2012-09-29T00:00:00.012000Z - 2012-09-29T23:59:59.012000Z | 1.0 Hz, 86400 samples\n"
     ]
    },
    {
     "name": "stderr",
     "output_type": "stream",
     "text": [
      " 38%|███▊      | 1433/3775 [01:28<02:10, 17.91it/s]"
     ]
    },
    {
     "name": "stdout",
     "output_type": "stream",
     "text": [
      "1 Trace(s) in Stream:\n",
      "Z4.CP07..BHZ | 2012-08-11T00:00:00.017000Z - 2012-08-11T23:59:59.017000Z | 1.0 Hz, 86400 samples\n",
      "1 Trace(s) in Stream:\n",
      "Z4.CP07..BH1 | 2012-06-11T00:00:00.016000Z - 2012-06-11T23:59:59.016000Z | 1.0 Hz, 86400 samples\n",
      "1 Trace(s) in Stream:\n",
      "Z4.CP07..BH2 | 2012-12-16T00:00:00.000500Z - 2012-12-16T23:59:59.000500Z | 1.0 Hz, 86400 samples\n",
      "1 Trace(s) in Stream:\n",
      "Z4.CP07..BHZ | 2013-02-24T00:00:00.018500Z - 2013-02-24T23:59:59.018500Z | 1.0 Hz, 86400 samples\n",
      "1 Trace(s) in Stream:\n",
      "Z4.CP07..BHZ | 2012-08-01T00:00:00.003700Z - 2012-08-01T23:59:59.003700Z | 1.0 Hz, 86400 samples\n"
     ]
    },
    {
     "name": "stderr",
     "output_type": "stream",
     "text": [
      " 38%|███▊      | 1439/3775 [01:29<01:58, 19.66it/s]"
     ]
    },
    {
     "name": "stdout",
     "output_type": "stream",
     "text": [
      "1 Trace(s) in Stream:\n",
      "Z4.CP07..BH1 | 2012-07-21T00:00:00.019100Z - 2012-07-21T23:59:59.019100Z | 1.0 Hz, 86400 samples\n",
      "1 Trace(s) in Stream:\n",
      "Z4.CP07..BHZ | 2012-06-05T00:00:00.013100Z - 2012-06-05T23:59:59.013100Z | 1.0 Hz, 86400 samples\n",
      "1 Trace(s) in Stream:\n",
      "Z4.CP07..BHZ | 2012-08-13T00:00:00.009600Z - 2012-08-13T23:59:59.009600Z | 1.0 Hz, 86400 samples\n",
      "1 Trace(s) in Stream:\n",
      "Z4.CP07..BH1 | 2013-02-26T00:00:00.011100Z - 2013-02-26T23:59:59.011100Z | 1.0 Hz, 86400 samples\n",
      "1 Trace(s) in Stream:\n",
      "Z4.CP07..BHZ | 2012-11-30T00:00:00.009300Z - 2012-11-30T23:59:59.009300Z | 1.0 Hz, 86400 samples\n",
      "1 Trace(s) in Stream:\n",
      "Z4.CP07..BHZ | 2012-12-26T00:00:00.013800Z - 2012-12-26T23:59:59.013800Z | 1.0 Hz, 86400 samples\n"
     ]
    },
    {
     "name": "stderr",
     "output_type": "stream",
     "text": [
      " 38%|███▊      | 1444/3775 [01:29<01:56, 19.96it/s]"
     ]
    },
    {
     "name": "stdout",
     "output_type": "stream",
     "text": [
      "1 Trace(s) in Stream:\n",
      "Z4.CP07..BH2 | 2012-08-01T00:00:00.003700Z - 2012-08-01T23:59:59.003700Z | 1.0 Hz, 86400 samples\n",
      "1 Trace(s) in Stream:\n",
      "Z4.CP07..BH2 | 2013-01-06T00:00:00.023400Z - 2013-01-06T23:59:59.023400Z | 1.0 Hz, 86400 samples\n",
      "1 Trace(s) in Stream:\n",
      "Z4.CP07..BH1 | 2013-01-27T00:00:00.021300Z - 2013-01-27T23:59:59.021300Z | 1.0 Hz, 86400 samples\n",
      "1 Trace(s) in Stream:\n",
      "Z4.CP07..BHZ | 2012-10-15T00:00:00.003300Z - 2012-10-15T23:59:59.003300Z | 1.0 Hz, 86400 samples\n"
     ]
    },
    {
     "name": "stderr",
     "output_type": "stream",
     "text": [
      " 38%|███▊      | 1450/3775 [01:29<02:03, 18.81it/s]"
     ]
    },
    {
     "name": "stdout",
     "output_type": "stream",
     "text": [
      "1 Trace(s) in Stream:\n",
      "Z4.CP07..BH2 | 2012-11-02T00:00:00.012100Z - 2012-11-02T23:59:59.012100Z | 1.0 Hz, 86400 samples\n",
      "1 Trace(s) in Stream:\n",
      "Z4.CP07..BHZ | 2012-08-07T00:00:00.006700Z - 2012-08-07T23:59:59.006700Z | 1.0 Hz, 86400 samples\n",
      "1 Trace(s) in Stream:\n",
      "Z4.CP07..BH2 | 2012-10-20T00:00:00.009900Z - 2012-10-20T23:59:59.009900Z | 1.0 Hz, 86400 samples\n",
      "1 Trace(s) in Stream:\n",
      "Z4.CP07..BHZ | 2012-09-12T00:00:00.024500Z - 2012-09-12T23:59:59.024500Z | 1.0 Hz, 86400 samples\n",
      "1 Trace(s) in Stream:\n",
      "Z4.CP07..BHZ | 2013-01-12T00:00:00.001400Z - 2013-01-12T23:59:59.001400Z | 1.0 Hz, 86400 samples\n"
     ]
    },
    {
     "name": "stderr",
     "output_type": "stream",
     "text": [
      " 39%|███▊      | 1454/3775 [01:29<02:01, 19.11it/s]"
     ]
    },
    {
     "name": "stdout",
     "output_type": "stream",
     "text": [
      "1 Trace(s) in Stream:\n",
      "Z4.CP07..BH2 | 2012-09-23T00:00:00.009100Z - 2012-09-23T23:59:59.009100Z | 1.0 Hz, 86400 samples\n",
      "1 Trace(s) in Stream:\n",
      "Z4.CP07..BHZ | 2012-09-14T00:00:00.017100Z - 2012-09-14T23:59:59.017100Z | 1.0 Hz, 86400 samples\n",
      "1 Trace(s) in Stream:\n",
      "Z4.CP07..BH2 | 2013-03-03T00:00:00.017700Z - 2013-03-03T23:59:59.017700Z | 1.0 Hz, 86400 samples\n",
      "1 Trace(s) in Stream:\n",
      "Z4.CP07..BH1 | 2012-11-21T00:00:00.017400Z - 2012-11-21T23:59:59.017400Z | 1.0 Hz, 86400 samples\n"
     ]
    },
    {
     "name": "stderr",
     "output_type": "stream",
     "text": [
      " 39%|███▊      | 1458/3775 [01:30<02:01, 19.14it/s]"
     ]
    },
    {
     "name": "stdout",
     "output_type": "stream",
     "text": [
      "1 Trace(s) in Stream:\n",
      "Z4.CP07..BH2 | 2012-06-26T00:00:00.010900Z - 2012-06-26T23:59:59.010900Z | 1.0 Hz, 86400 samples\n",
      "1 Trace(s) in Stream:\n",
      "Z4.CP07..BH2 | 2013-01-27T00:00:00.021300Z - 2013-01-27T23:59:59.021300Z | 1.0 Hz, 86400 samples\n",
      "1 Trace(s) in Stream:\n",
      "Z4.CP07..BH1 | 2012-12-01T00:00:00.005600Z - 2012-12-01T23:59:59.005600Z | 1.0 Hz, 86400 samples\n",
      "1 Trace(s) in Stream:\n",
      "Z4.CP07..BH1 | 2012-12-03T00:00:00.023300Z - 2012-12-03T23:59:59.023300Z | 1.0 Hz, 86400 samples\n",
      "1 Trace(s) in Stream:\n",
      "Z4.CP07..BHZ | 2013-01-09T00:00:00.012400Z - 2013-01-09T23:59:59.012400Z | 1.0 Hz, 86400 samples\n"
     ]
    },
    {
     "name": "stderr",
     "output_type": "stream",
     "text": [
      "\r",
      " 39%|███▊      | 1461/3775 [01:30<01:58, 19.49it/s]"
     ]
    },
    {
     "name": "stdout",
     "output_type": "stream",
     "text": [
      "1 Trace(s) in Stream:\n",
      "Z4.CP07..BHZ | 2012-10-30T00:00:00.023200Z - 2012-10-30T23:59:59.023200Z | 1.0 Hz, 86400 samples\n",
      "1 Trace(s) in Stream:\n",
      "Z4.CP07..BH1 | 2012-05-31T00:00:00.006400Z - 2012-05-31T23:59:59.006400Z | 1.0 Hz, 86400 samples\n",
      "1 Trace(s) in Stream:\n",
      "Z4.CP07..BH2 | 2012-07-02T00:00:00.013900Z - 2012-07-02T23:59:59.013900Z | 1.0 Hz, 86400 samples\n",
      "1 Trace(s) in Stream:\n",
      "Z4.CP07..BHZ | 2012-07-30T00:00:00.011100Z - 2012-07-30T23:59:59.011100Z | 1.0 Hz, 86400 samples\n",
      "1 Trace(s) in Stream:\n",
      "Z4.CP07..BH2 | 2012-10-22T00:00:00.002500Z - 2012-10-22T23:59:59.002500Z | 1.0 Hz, 86400 samples\n"
     ]
    },
    {
     "name": "stderr",
     "output_type": "stream",
     "text": [
      " 39%|███▉      | 1467/3775 [01:30<01:53, 20.36it/s]"
     ]
    },
    {
     "name": "stdout",
     "output_type": "stream",
     "text": [
      "1 Trace(s) in Stream:\n",
      "Z4.CP07..BHZ | 2012-07-05T00:00:00.002900Z - 2012-07-05T23:59:59.002900Z | 1.0 Hz, 86400 samples\n",
      "1 Trace(s) in Stream:\n",
      "Z4.CP07..BHZ | 2012-09-26T00:00:00.023000Z - 2012-09-26T23:59:59.023000Z | 1.0 Hz, 86400 samples\n",
      "1 Trace(s) in Stream:\n",
      "Z4.CP07..BHZ | 2012-10-17T00:00:00.020900Z - 2012-10-17T23:59:59.020900Z | 1.0 Hz, 86400 samples\n",
      "1 Trace(s) in Stream:\n",
      "Z4.CP07..BH1 | 2012-06-09T00:00:00.023400Z - 2012-06-09T23:59:59.023400Z | 1.0 Hz, 86400 samples\n"
     ]
    },
    {
     "name": "stderr",
     "output_type": "stream",
     "text": [
      " 39%|███▉      | 1472/3775 [01:30<01:55, 19.94it/s]"
     ]
    },
    {
     "name": "stdout",
     "output_type": "stream",
     "text": [
      "1 Trace(s) in Stream:\n",
      "Z4.CP07..BH2 | 2012-06-06T00:00:00.009400Z - 2012-06-06T23:59:59.009400Z | 1.0 Hz, 86400 samples\n",
      "1 Trace(s) in Stream:\n",
      "Z4.CP07..BH2 | 2013-02-12T00:00:00.012500Z - 2013-02-12T23:59:59.012500Z | 1.0 Hz, 86400 samples\n",
      "1 Trace(s) in Stream:\n",
      "Z4.CP07..BH1 | 2012-05-22T00:00:00.014500Z - 2012-05-22T23:59:59.014500Z | 1.0 Hz, 86400 samples\n",
      "1 Trace(s) in Stream:\n",
      "Z4.CP07..BH1 | 2012-12-19T00:00:00.014500Z - 2012-12-19T23:59:59.014500Z | 1.0 Hz, 86400 samples\n",
      "1 Trace(s) in Stream:\n",
      "Z4.CP07..BHZ | 2013-01-13T00:00:00.022700Z - 2013-01-13T23:59:59.022700Z | 1.0 Hz, 86400 samples\n",
      "1 Trace(s) in Stream:\n",
      "Z4.CP07..BH1 | 2012-08-08T00:00:00.003000Z - 2012-08-08T23:59:59.003000Z | 1.0 Hz, 86400 samples\n"
     ]
    },
    {
     "name": "stderr",
     "output_type": "stream",
     "text": [
      " 39%|███▉      | 1477/3775 [01:31<01:55, 19.84it/s]"
     ]
    },
    {
     "name": "stdout",
     "output_type": "stream",
     "text": [
      "1 Trace(s) in Stream:\n",
      "Z4.CP07..BH1 | 2012-11-01T00:00:00.015800Z - 2012-11-01T23:59:59.015800Z | 1.0 Hz, 86400 samples\n",
      "1 Trace(s) in Stream:\n",
      "Z4.CP07..BH1 | 2013-01-03T00:00:00.009400Z - 2013-01-03T23:59:59.009400Z | 1.0 Hz, 86400 samples\n",
      "1 Trace(s) in Stream:\n",
      "Z4.CP07..BH1 | 2012-09-14T00:00:00.017100Z - 2012-09-14T23:59:59.017100Z | 1.0 Hz, 86400 samples\n",
      "1 Trace(s) in Stream:\n",
      "Z4.CP07..BHZ | 2013-02-15T00:00:00.001500Z - 2013-02-15T23:59:59.001500Z | 1.0 Hz, 86400 samples\n",
      "1 Trace(s) in Stream:\n",
      "Z4.CP07..BHZ | 2013-01-06T00:00:00.023400Z - 2013-01-06T23:59:59.023400Z | 1.0 Hz, 86400 samples\n"
     ]
    },
    {
     "name": "stderr",
     "output_type": "stream",
     "text": [
      " 39%|███▉      | 1483/3775 [01:31<01:54, 19.97it/s]"
     ]
    },
    {
     "name": "stdout",
     "output_type": "stream",
     "text": [
      "1 Trace(s) in Stream:\n",
      "Z4.CP07..BHZ | 2012-05-09T00:00:00.012200Z - 2012-05-09T23:59:59.012200Z | 1.0 Hz, 86400 samples\n",
      "1 Trace(s) in Stream:\n",
      "Z4.CP07..BH1 | 2013-01-25T00:00:00.003600Z - 2013-01-25T23:59:59.003600Z | 1.0 Hz, 86400 samples\n",
      "1 Trace(s) in Stream:\n",
      "Z4.CP07..BHZ | 2012-08-28T00:00:00.004500Z - 2012-08-28T23:59:59.004500Z | 1.0 Hz, 86400 samples\n",
      "1 Trace(s) in Stream:\n",
      "Z4.CP07..BH2 | 2012-08-27T00:00:00.008200Z - 2012-08-27T23:59:59.008200Z | 1.0 Hz, 86400 samples\n"
     ]
    },
    {
     "name": "stderr",
     "output_type": "stream",
     "text": [
      " 39%|███▉      | 1487/3775 [01:31<02:03, 18.58it/s]"
     ]
    },
    {
     "name": "stdout",
     "output_type": "stream",
     "text": [
      "1 Trace(s) in Stream:\n",
      "Z4.CP07..BH2 | 2013-01-04T00:00:00.005800Z - 2013-01-04T23:59:59.005800Z | 1.0 Hz, 86400 samples\n",
      "1 Trace(s) in Stream:\n",
      "Z4.CP07..BHZ | 2012-10-19T00:00:00.013600Z - 2012-10-19T23:59:59.013600Z | 1.0 Hz, 86400 samples\n",
      "1 Trace(s) in Stream:\n",
      "Z4.CP07..BH2 | 2013-02-04T00:00:00.016900Z - 2013-02-04T23:59:59.016900Z | 1.0 Hz, 86400 samples\n",
      "1 Trace(s) in Stream:\n",
      "Z4.CP07..BH2 | 2013-01-11T00:00:00.005100Z - 2013-01-11T23:59:59.005100Z | 1.0 Hz, 86400 samples\n"
     ]
    },
    {
     "name": "stderr",
     "output_type": "stream",
     "text": [
      " 39%|███▉      | 1491/3775 [01:31<02:00, 18.97it/s]"
     ]
    },
    {
     "name": "stdout",
     "output_type": "stream",
     "text": [
      "1 Trace(s) in Stream:\n",
      "Z4.CP07..BH2 | 2013-02-08T00:00:00.002200Z - 2013-02-08T23:59:59.002200Z | 1.0 Hz, 86400 samples\n",
      "1 Trace(s) in Stream:\n",
      "Z4.CP07..BHZ | 2012-07-14T00:00:00.019800Z - 2012-07-14T23:59:59.019800Z | 1.0 Hz, 86400 samples\n",
      "1 Trace(s) in Stream:\n",
      "Z4.CP07..BH2 | 2012-10-02T00:00:00.001000Z - 2012-10-02T23:59:59.001000Z | 1.0 Hz, 86400 samples\n",
      "1 Trace(s) in Stream:\n",
      "Z4.CP07..BHZ | 2012-07-07T00:00:00.020500Z - 2012-07-07T23:59:59.020500Z | 1.0 Hz, 86400 samples\n",
      "1 Trace(s) in Stream:\n",
      "Z4.CP07..BH1 | 2012-06-25T00:00:00.014600Z - 2012-06-25T23:59:59.014600Z | 1.0 Hz, 86400 samples\n"
     ]
    },
    {
     "name": "stderr",
     "output_type": "stream",
     "text": [
      " 40%|███▉      | 1496/3775 [01:32<01:50, 20.60it/s]"
     ]
    },
    {
     "name": "stdout",
     "output_type": "stream",
     "text": [
      "1 Trace(s) in Stream:\n",
      "Z4.CP07..BH2 | 2012-07-20T00:00:00.022800Z - 2012-07-20T23:59:59.022800Z | 1.0 Hz, 86400 samples\n",
      "1 Trace(s) in Stream:\n",
      "Z4.CP07..BHZ | 2012-07-23T00:00:00.011800Z - 2012-07-23T23:59:59.011800Z | 1.0 Hz, 86400 samples\n",
      "1 Trace(s) in Stream:\n",
      "Z4.CP07..BH2 | 2013-01-17T00:00:00.008000Z - 2013-01-17T23:59:59.008000Z | 1.0 Hz, 86400 samples\n",
      "1 Trace(s) in Stream:\n",
      "Z4.CP07..BHZ | 2012-06-06T00:00:00.009400Z - 2012-06-06T23:59:59.009400Z | 1.0 Hz, 86400 samples\n",
      "1 Trace(s) in Stream:\n",
      "Z4.CP07..BH2 | 2012-08-08T00:00:00.003000Z - 2012-08-08T23:59:59.003000Z | 1.0 Hz, 86400 samples\n"
     ]
    },
    {
     "name": "stderr",
     "output_type": "stream",
     "text": [
      " 40%|███▉      | 1501/3775 [01:32<01:54, 19.93it/s]"
     ]
    },
    {
     "name": "stdout",
     "output_type": "stream",
     "text": [
      "1 Trace(s) in Stream:\n",
      "Z4.CP07..BH1 | 2012-12-30T00:00:00.024100Z - 2012-12-30T23:59:59.024100Z | 1.0 Hz, 86400 samples\n",
      "1 Trace(s) in Stream:\n",
      "Z4.CP07..BHZ | 2012-09-18T00:00:00.002400Z - 2012-09-18T23:59:59.002400Z | 1.0 Hz, 86400 samples\n",
      "1 Trace(s) in Stream:\n",
      "Z4.CP07..BH2 | 2012-11-25T00:00:00.002700Z - 2012-11-25T23:59:59.002700Z | 1.0 Hz, 86400 samples\n",
      "1 Trace(s) in Stream:\n",
      "Z4.CP07..BHZ | 2012-11-16T00:00:00.010700Z - 2012-11-16T23:59:59.010700Z | 1.0 Hz, 86400 samples\n"
     ]
    },
    {
     "name": "stderr",
     "output_type": "stream",
     "text": [
      "\r",
      " 40%|███▉      | 1503/3775 [01:32<01:57, 19.34it/s]"
     ]
    },
    {
     "name": "stdout",
     "output_type": "stream",
     "text": [
      "1 Trace(s) in Stream:\n",
      "Z4.CP07..BHZ | 2012-06-12T00:00:00.012400Z - 2012-06-12T23:59:59.012400Z | 1.0 Hz, 86400 samples\n",
      "1 Trace(s) in Stream:\n",
      "Z4.CP07..BH2 | 2012-08-11T00:00:00.017000Z - 2012-08-11T23:59:59.017000Z | 1.0 Hz, 86400 samples\n",
      "1 Trace(s) in Stream:\n",
      "Z4.CP07..BH1 | 2012-11-06T00:00:00.022500Z - 2012-11-06T23:59:59.022500Z | 1.0 Hz, 86400 samples\n",
      "1 Trace(s) in Stream:\n",
      "Z4.CP07..BHZ | 2013-01-03T00:00:00.009400Z - 2013-01-03T23:59:59.009400Z | 1.0 Hz, 86400 samples\n"
     ]
    },
    {
     "name": "stderr",
     "output_type": "stream",
     "text": [
      " 40%|███▉      | 1508/3775 [01:32<01:56, 19.49it/s]"
     ]
    },
    {
     "name": "stdout",
     "output_type": "stream",
     "text": [
      "1 Trace(s) in Stream:\n",
      "Z4.CP07..BH1 | 2013-01-21T00:00:00.018300Z - 2013-01-21T23:59:59.018300Z | 1.0 Hz, 86400 samples\n",
      "1 Trace(s) in Stream:\n",
      "Z4.CP07..BH2 | 2013-01-12T00:00:00.001400Z - 2013-01-12T23:59:59.001400Z | 1.0 Hz, 86400 samples\n",
      "1 Trace(s) in Stream:\n",
      "Z4.CP07..BHZ | 2013-02-25T00:00:00.014800Z - 2013-02-25T23:59:59.014800Z | 1.0 Hz, 86400 samples\n",
      "1 Trace(s) in Stream:\n",
      "Z4.CP07..BH2 | 2012-10-04T00:00:00.018700Z - 2012-10-04T23:59:59.018700Z | 1.0 Hz, 86400 samples\n",
      "1 Trace(s) in Stream:\n",
      "Z4.CP07..BH1 | 2012-12-28T00:00:00.006500Z - 2012-12-28T23:59:59.006500Z | 1.0 Hz, 86400 samples\n"
     ]
    },
    {
     "name": "stderr",
     "output_type": "stream",
     "text": [
      " 40%|████      | 1513/3775 [01:32<01:59, 18.90it/s]"
     ]
    },
    {
     "name": "stdout",
     "output_type": "stream",
     "text": [
      "1 Trace(s) in Stream:\n",
      "Z4.CP07..BHZ | 2012-05-14T00:00:00.018900Z - 2012-05-14T23:59:59.018900Z | 1.0 Hz, 86400 samples\n",
      "1 Trace(s) in Stream:\n",
      "Z4.CP07..BHZ | 2013-02-08T00:00:00.002200Z - 2013-02-08T23:59:59.002200Z | 1.0 Hz, 86400 samples\n",
      "1 Trace(s) in Stream:\n",
      "Z4.CP07..BH2 | 2012-05-14T00:00:00.018900Z - 2012-05-14T23:59:59.018900Z | 1.0 Hz, 86400 samples\n",
      "1 Trace(s) in Stream:\n",
      "Z4.CP07..BH2 | 2012-07-05T00:00:00.002900Z - 2012-07-05T23:59:59.002900Z | 1.0 Hz, 86400 samples\n"
     ]
    },
    {
     "name": "stderr",
     "output_type": "stream",
     "text": [
      " 40%|████      | 1518/3775 [01:33<01:59, 18.83it/s]"
     ]
    },
    {
     "name": "stdout",
     "output_type": "stream",
     "text": [
      "1 Trace(s) in Stream:\n",
      "Z4.CP07..BHZ | 2012-11-25T00:00:00.002700Z - 2012-11-25T23:59:59.002700Z | 1.0 Hz, 86400 samples\n",
      "1 Trace(s) in Stream:\n",
      "Z4.CP07..BH2 | 2012-07-11T00:00:00.005800Z - 2012-07-11T23:59:59.005800Z | 1.0 Hz, 86400 samples\n",
      "1 Trace(s) in Stream:\n",
      "Z4.CP07..BH2 | 2012-11-24T00:00:00.004800Z - 2012-11-24T23:59:59.004800Z | 1.0 Hz, 86400 samples\n",
      "1 Trace(s) in Stream:\n",
      "Z4.CP07..BH2 | 2012-12-13T00:00:00.011600Z - 2012-12-13T23:59:59.011600Z | 1.0 Hz, 86400 samples\n",
      "1 Trace(s) in Stream:\n",
      "Z4.CP07..BHZ | 2012-07-16T00:00:00.012500Z - 2012-07-16T23:59:59.012500Z | 1.0 Hz, 86400 samples\n",
      "1 Trace(s) in Stream:\n",
      "Z4.CP07..BH1 | 2012-06-06T00:00:00.009400Z - 2012-06-06T23:59:59.009400Z | 1.0 Hz, 86400 samples\n"
     ]
    },
    {
     "name": "stderr",
     "output_type": "stream",
     "text": [
      " 40%|████      | 1522/3775 [01:33<02:01, 18.50it/s]"
     ]
    },
    {
     "name": "stdout",
     "output_type": "stream",
     "text": [
      "1 Trace(s) in Stream:\n",
      "Z4.CP07..BHZ | 2012-11-27T00:00:00.020300Z - 2012-11-27T23:59:59.020300Z | 1.0 Hz, 86400 samples\n",
      "1 Trace(s) in Stream:\n",
      "Z4.CP07..BH1 | 2012-06-24T00:00:00.018300Z - 2012-06-24T23:59:59.018300Z | 1.0 Hz, 86400 samples\n",
      "1 Trace(s) in Stream:\n",
      "Z4.CP07..BH1 | 2013-02-28T00:00:00.003800Z - 2013-02-28T23:59:59.003800Z | 1.0 Hz, 86400 samples\n",
      "1 Trace(s) in Stream:\n",
      "Z4.CP07..BH2 | 2012-11-03T00:00:00.008500Z - 2012-11-03T23:59:59.008500Z | 1.0 Hz, 86400 samples\n",
      "1 Trace(s) in Stream:\n",
      "Z4.CP07..BH1 | 2012-05-23T00:00:00.010800Z - 2012-05-23T23:59:59.010800Z | 1.0 Hz, 86400 samples\n"
     ]
    },
    {
     "name": "stderr",
     "output_type": "stream",
     "text": [
      " 41%|████      | 1529/3775 [01:33<01:59, 18.78it/s]"
     ]
    },
    {
     "name": "stdout",
     "output_type": "stream",
     "text": [
      "1 Trace(s) in Stream:\n",
      "Z4.CP07..BH2 | 2013-01-19T00:00:00.000700Z - 2013-01-19T23:59:59.000700Z | 1.0 Hz, 86400 samples\n",
      "1 Trace(s) in Stream:\n",
      "Z4.CP07..BHZ | 2013-02-03T00:00:00.020600Z - 2013-02-03T23:59:59.020600Z | 1.0 Hz, 86400 samples\n",
      "1 Trace(s) in Stream:\n",
      "Z4.CP07..BH1 | 2012-08-15T00:00:00.002300Z - 2012-08-15T23:59:59.002300Z | 1.0 Hz, 86400 samples\n",
      "1 Trace(s) in Stream:\n",
      "Z4.CP07..BHZ | 2012-06-16T00:00:00.022700Z - 2012-06-16T23:59:59.022700Z | 1.0 Hz, 86400 samples\n"
     ]
    },
    {
     "name": "stderr",
     "output_type": "stream",
     "text": [
      "\r",
      " 41%|████      | 1532/3775 [01:33<01:52, 19.98it/s]"
     ]
    },
    {
     "name": "stdout",
     "output_type": "stream",
     "text": [
      "1 Trace(s) in Stream:\n",
      "Z4.CP07..BH2 | 2012-07-28T00:00:00.018400Z - 2012-07-28T23:59:59.018400Z | 1.0 Hz, 86400 samples\n",
      "1 Trace(s) in Stream:\n",
      "Z4.CP07..BH2 | 2012-12-18T00:00:00.018200Z - 2012-12-18T23:59:59.018200Z | 1.0 Hz, 86400 samples\n",
      "1 Trace(s) in Stream:\n",
      "Z4.CP07..BH1 | 2012-07-10T00:00:00.009500Z - 2012-07-10T23:59:59.009500Z | 1.0 Hz, 86400 samples\n",
      "1 Trace(s) in Stream:\n",
      "Z4.CP07..BH1 | 2012-10-13T00:00:00.010600Z - 2012-10-13T23:59:59.010600Z | 1.0 Hz, 86400 samples\n",
      "1 Trace(s) in Stream:\n",
      "Z4.CP07..BH1 | 2012-06-04T00:00:00.016700Z - 2012-06-04T23:59:59.016700Z | 1.0 Hz, 86400 samples\n"
     ]
    },
    {
     "name": "stderr",
     "output_type": "stream",
     "text": [
      " 41%|████      | 1538/3775 [01:34<01:50, 20.27it/s]"
     ]
    },
    {
     "name": "stdout",
     "output_type": "stream",
     "text": [
      "1 Trace(s) in Stream:\n",
      "Z4.CP07..BH1 | 2012-11-19T00:00:00.024700Z - 2012-11-19T23:59:59.024700Z | 1.0 Hz, 86400 samples\n",
      "1 Trace(s) in Stream:\n",
      "Z4.CP07..BH2 | 2012-05-25T00:00:00.003500Z - 2012-05-25T23:59:59.003500Z | 1.0 Hz, 86400 samples\n",
      "1 Trace(s) in Stream:\n",
      "Z4.CP07..BH1 | 2012-12-04T00:00:00.019600Z - 2012-12-04T23:59:59.019600Z | 1.0 Hz, 86400 samples\n",
      "1 Trace(s) in Stream:\n",
      "Z4.CP07..BH2 | 2012-07-29T00:00:00.014700Z - 2012-07-29T23:59:59.014700Z | 1.0 Hz, 86400 samples\n"
     ]
    },
    {
     "name": "stderr",
     "output_type": "stream",
     "text": [
      "\r",
      " 41%|████      | 1541/3775 [01:34<01:51, 19.98it/s]"
     ]
    },
    {
     "name": "stdout",
     "output_type": "stream",
     "text": [
      "1 Trace(s) in Stream:\n",
      "Z4.CP07..BH2 | 2012-10-13T00:00:00.010600Z - 2012-10-13T23:59:59.010600Z | 1.0 Hz, 86400 samples\n",
      "1 Trace(s) in Stream:\n",
      "Z4.CP07..BH2 | 2012-11-15T00:00:00.014400Z - 2012-11-15T23:59:59.014400Z | 1.0 Hz, 86400 samples\n",
      "1 Trace(s) in Stream:\n",
      "Z4.CP07..BH1 | 2013-01-05T00:00:00.002100Z - 2013-01-05T23:59:59.002100Z | 1.0 Hz, 86400 samples\n",
      "1 Trace(s) in Stream:\n",
      "Z4.CP07..BH1 | 2013-01-29T00:00:00.013900Z - 2013-01-29T23:59:59.013900Z | 1.0 Hz, 86400 samples\n"
     ]
    },
    {
     "name": "stderr",
     "output_type": "stream",
     "text": [
      " 41%|████      | 1545/3775 [01:34<02:04, 17.86it/s]"
     ]
    },
    {
     "name": "stdout",
     "output_type": "stream",
     "text": [
      "1 Trace(s) in Stream:\n",
      "Z4.CP07..BH1 | 2012-06-26T00:00:00.010900Z - 2012-06-26T23:59:59.010900Z | 1.0 Hz, 86400 samples\n",
      "1 Trace(s) in Stream:\n",
      "Z4.CP07..BH2 | 2013-03-12T00:00:00.009700Z - 2013-03-12T23:59:59.009700Z | 1.0 Hz, 86400 samples\n",
      "1 Trace(s) in Stream:\n",
      "Z4.CP07..BH2 | 2012-06-10T00:00:00.019700Z - 2012-06-10T23:59:59.019700Z | 1.0 Hz, 86400 samples\n",
      "1 Trace(s) in Stream:\n",
      "Z4.CP07..BH1 | 2012-09-24T00:00:00.005400Z - 2012-09-24T23:59:59.005400Z | 1.0 Hz, 86400 samples\n"
     ]
    },
    {
     "name": "stderr",
     "output_type": "stream",
     "text": [
      " 41%|████      | 1550/3775 [01:34<01:55, 19.20it/s]"
     ]
    },
    {
     "name": "stdout",
     "output_type": "stream",
     "text": [
      "1 Trace(s) in Stream:\n",
      "Z4.CP07..BH1 | 2012-07-30T00:00:00.011100Z - 2012-07-30T23:59:59.011100Z | 1.0 Hz, 86400 samples\n",
      "1 Trace(s) in Stream:\n",
      "Z4.CP07..BH1 | 2012-06-28T00:00:00.003600Z - 2012-06-28T23:59:59.003600Z | 1.0 Hz, 86400 samples\n",
      "1 Trace(s) in Stream:\n",
      "Z4.CP07..BH1 | 2012-06-12T00:00:00.012300Z - 2012-06-12T23:59:59.012300Z | 1.0 Hz, 86400 samples\n",
      "1 Trace(s) in Stream:\n",
      "Z4.CP07..BH1 | 2012-12-25T00:00:00.017500Z - 2012-12-25T23:59:59.017500Z | 1.0 Hz, 86400 samples\n",
      "1 Trace(s) in Stream:\n",
      "Z4.CP07..BHZ | 2012-08-12T00:00:00.013300Z - 2012-08-12T23:59:59.013300Z | 1.0 Hz, 86400 samples\n"
     ]
    },
    {
     "name": "stderr",
     "output_type": "stream",
     "text": [
      " 41%|████      | 1555/3775 [01:35<01:54, 19.40it/s]"
     ]
    },
    {
     "name": "stdout",
     "output_type": "stream",
     "text": [
      "1 Trace(s) in Stream:\n",
      "Z4.CP07..BH2 | 2013-02-11T00:00:00.016200Z - 2013-02-11T23:59:59.016200Z | 1.0 Hz, 86400 samples\n",
      "1 Trace(s) in Stream:\n",
      "Z4.CP07..BHZ | 2012-07-13T00:00:00.023500Z - 2012-07-13T23:59:59.023500Z | 1.0 Hz, 86400 samples\n",
      "1 Trace(s) in Stream:\n",
      "Z4.CP07..BHZ | 2012-08-02T00:00:00.000000Z - 2012-08-03T00:00:00.000000Z | 1.0 Hz, 86401 samples\n",
      "1 Trace(s) in Stream:\n",
      "Z4.CP07..BH1 | 2012-06-19T00:00:00.011600Z - 2012-06-19T23:59:59.011600Z | 1.0 Hz, 86400 samples\n",
      "1 Trace(s) in Stream:\n",
      "Z4.CP07..BH2 | 2013-02-03T00:00:00.020600Z - 2013-02-03T23:59:59.020600Z | 1.0 Hz, 86400 samples\n"
     ]
    },
    {
     "name": "stderr",
     "output_type": "stream",
     "text": [
      " 41%|████▏     | 1560/3775 [01:35<01:56, 18.96it/s]"
     ]
    },
    {
     "name": "stdout",
     "output_type": "stream",
     "text": [
      "1 Trace(s) in Stream:\n",
      "Z4.CP07..BHZ | 2012-10-09T00:00:00.000300Z - 2012-10-09T23:59:59.000300Z | 1.0 Hz, 86400 samples\n",
      "1 Trace(s) in Stream:\n",
      "Z4.CP07..BH1 | 2012-12-27T00:00:00.010100Z - 2012-12-27T23:59:59.010100Z | 1.0 Hz, 86400 samples\n",
      "1 Trace(s) in Stream:\n",
      "Z4.CP07..BHZ | 2013-03-13T00:00:00.006000Z - 2013-03-13T23:59:59.006000Z | 1.0 Hz, 86400 samples\n",
      "1 Trace(s) in Stream:\n",
      "Z4.CP07..BH1 | 2013-02-05T00:00:00.013200Z - 2013-02-05T23:59:59.013200Z | 1.0 Hz, 86400 samples\n"
     ]
    },
    {
     "name": "stderr",
     "output_type": "stream",
     "text": [
      " 41%|████▏     | 1564/3775 [01:35<02:01, 18.15it/s]"
     ]
    },
    {
     "name": "stdout",
     "output_type": "stream",
     "text": [
      "1 Trace(s) in Stream:\n",
      "Z4.CP07..BHZ | 2012-06-23T00:00:00.021900Z - 2012-06-23T23:59:59.021900Z | 1.0 Hz, 86400 samples\n",
      "1 Trace(s) in Stream:\n",
      "Z4.CP07..BH2 | 2012-07-23T00:00:00.011800Z - 2012-07-23T23:59:59.011800Z | 1.0 Hz, 86400 samples\n",
      "1 Trace(s) in Stream:\n",
      "Z4.CP07..BHZ | 2012-10-21T00:00:00.006200Z - 2012-10-21T23:59:59.006200Z | 1.0 Hz, 86400 samples\n",
      "1 Trace(s) in Stream:\n",
      "Z4.CP07..BH2 | 2013-03-10T00:00:00.017000Z - 2013-03-10T23:59:59.017000Z | 1.0 Hz, 86400 samples\n"
     ]
    },
    {
     "name": "stderr",
     "output_type": "stream",
     "text": [
      "\r",
      " 42%|████▏     | 1567/3775 [01:35<01:53, 19.37it/s]"
     ]
    },
    {
     "name": "stdout",
     "output_type": "stream",
     "text": [
      "1 Trace(s) in Stream:\n",
      "Z4.CP07..BH1 | 2013-02-16T00:00:00.022800Z - 2013-02-16T23:59:59.022800Z | 1.0 Hz, 86400 samples\n",
      "1 Trace(s) in Stream:\n",
      "Z4.CP07..BH2 | 2012-06-08T00:00:00.002000Z - 2012-06-08T23:59:59.002000Z | 1.0 Hz, 86400 samples\n",
      "1 Trace(s) in Stream:\n",
      "Z4.CP07..BH1 | 2012-11-27T00:00:00.020300Z - 2012-11-27T23:59:59.020300Z | 1.0 Hz, 86400 samples\n",
      "1 Trace(s) in Stream:\n",
      "Z4.CP07..BHZ | 2012-06-13T00:00:00.008700Z - 2012-06-13T23:59:59.008700Z | 1.0 Hz, 86400 samples\n",
      "1 Trace(s) in Stream:\n",
      "Z4.CP07..BHZ | 2012-11-04T00:00:00.004800Z - 2012-11-04T23:59:59.004800Z | 1.0 Hz, 86400 samples\n"
     ]
    },
    {
     "name": "stderr",
     "output_type": "stream",
     "text": [
      " 42%|████▏     | 1571/3775 [01:35<01:54, 19.20it/s]"
     ]
    },
    {
     "name": "stdout",
     "output_type": "stream",
     "text": [
      "1 Trace(s) in Stream:\n",
      "Z4.CP07..BH2 | 2013-02-01T00:00:00.002900Z - 2013-02-01T23:59:59.002900Z | 1.0 Hz, 86400 samples\n",
      "1 Trace(s) in Stream:\n",
      "Z4.CP07..BH2 | 2012-08-15T00:00:00.002300Z - 2012-08-15T23:59:59.002300Z | 1.0 Hz, 86400 samples\n",
      "1 Trace(s) in Stream:\n",
      "Z4.CP07..BH1 | 2012-05-17T00:00:00.007800Z - 2012-05-17T23:59:59.007800Z | 1.0 Hz, 86400 samples\n",
      "1 Trace(s) in Stream:\n",
      "Z4.CP07..BH1 | 2013-02-14T00:00:00.005200Z - 2013-02-14T23:59:59.005200Z | 1.0 Hz, 86400 samples\n"
     ]
    },
    {
     "name": "stderr",
     "output_type": "stream",
     "text": [
      " 42%|████▏     | 1575/3775 [01:36<02:03, 17.77it/s]"
     ]
    },
    {
     "name": "stdout",
     "output_type": "stream",
     "text": [
      "1 Trace(s) in Stream:\n",
      "Z4.CP07..BHZ | 2012-06-15T00:00:00.001300Z - 2012-06-15T23:59:59.001300Z | 1.0 Hz, 86400 samples\n",
      "1 Trace(s) in Stream:\n",
      "Z4.CP07..BH2 | 2013-01-16T00:00:00.011700Z - 2013-01-16T23:59:59.011700Z | 1.0 Hz, 86400 samples\n",
      "1 Trace(s) in Stream:\n",
      "Z4.CP07..BHZ | 2012-10-02T00:00:00.001000Z - 2012-10-02T23:59:59.001000Z | 1.0 Hz, 86400 samples\n",
      "1 Trace(s) in Stream:\n",
      "Z4.CP07..BH2 | 2013-03-13T00:00:00.006000Z - 2013-03-13T23:59:59.006000Z | 1.0 Hz, 86400 samples\n"
     ]
    },
    {
     "name": "stderr",
     "output_type": "stream",
     "text": [
      " 42%|████▏     | 1580/3775 [01:36<02:06, 17.37it/s]"
     ]
    },
    {
     "name": "stdout",
     "output_type": "stream",
     "text": [
      "1 Trace(s) in Stream:\n",
      "Z4.CP07..BH1 | 2012-07-17T00:00:00.008800Z - 2012-07-17T23:59:59.008800Z | 1.0 Hz, 86400 samples\n",
      "1 Trace(s) in Stream:\n",
      "Z4.CP07..BH2 | 2012-08-09T00:00:00.024300Z - 2012-08-09T23:59:59.024300Z | 1.0 Hz, 86400 samples\n",
      "1 Trace(s) in Stream:\n",
      "Z4.CP07..BHZ | 2012-11-18T00:00:00.003400Z - 2012-11-18T23:59:59.003400Z | 1.0 Hz, 86400 samples\n",
      "1 Trace(s) in Stream:\n",
      "Z4.CP07..BH1 | 2012-05-26T00:00:00.024800Z - 2012-05-26T23:59:59.024800Z | 1.0 Hz, 86400 samples\n"
     ]
    },
    {
     "name": "stderr",
     "output_type": "stream",
     "text": [
      " 42%|████▏     | 1584/3775 [01:36<02:06, 17.36it/s]"
     ]
    },
    {
     "name": "stdout",
     "output_type": "stream",
     "text": [
      "1 Trace(s) in Stream:\n",
      "Z4.CP07..BH2 | 2012-11-01T00:00:00.015800Z - 2012-11-01T23:59:59.015800Z | 1.0 Hz, 86400 samples\n",
      "1 Trace(s) in Stream:\n",
      "Z4.CP07..BHZ | 2012-06-08T00:00:00.002000Z - 2012-06-08T23:59:59.002000Z | 1.0 Hz, 86400 samples\n",
      "1 Trace(s) in Stream:\n",
      "Z4.CP07..BH2 | 2012-12-10T00:00:00.022600Z - 2012-12-10T23:59:59.022600Z | 1.0 Hz, 86400 samples\n",
      "1 Trace(s) in Stream:\n",
      "Z4.CP07..BH2 | 2012-07-01T00:00:00.017600Z - 2012-07-01T23:59:59.017600Z | 1.0 Hz, 86400 samples\n"
     ]
    },
    {
     "name": "stderr",
     "output_type": "stream",
     "text": [
      " 42%|████▏     | 1588/3775 [01:37<02:11, 16.69it/s]"
     ]
    },
    {
     "name": "stdout",
     "output_type": "stream",
     "text": [
      "1 Trace(s) in Stream:\n",
      "Z4.CP07..BH1 | 2013-01-16T00:00:00.011700Z - 2013-01-16T23:59:59.011700Z | 1.0 Hz, 86400 samples\n",
      "1 Trace(s) in Stream:\n",
      "Z4.CP07..BH1 | 2013-03-04T00:00:00.014100Z - 2013-03-04T23:59:59.014100Z | 1.0 Hz, 86400 samples\n",
      "1 Trace(s) in Stream:\n",
      "Z4.CP07..BH2 | 2012-08-30T00:00:00.022200Z - 2012-08-30T23:59:59.022200Z | 1.0 Hz, 86400 samples\n",
      "1 Trace(s) in Stream:\n",
      "Z4.CP07..BH1 | 2013-01-06T00:00:00.023400Z - 2013-01-06T23:59:59.023400Z | 1.0 Hz, 86400 samples\n",
      "1 Trace(s) in Stream:\n",
      "Z4.CP07..BH1 | 2012-07-15T00:00:00.016100Z - 2012-07-15T23:59:59.016100Z | 1.0 Hz, 86400 samples\n"
     ]
    },
    {
     "name": "stderr",
     "output_type": "stream",
     "text": [
      " 42%|████▏     | 1592/3775 [01:37<02:37, 13.89it/s]"
     ]
    },
    {
     "name": "stdout",
     "output_type": "stream",
     "text": [
      "1 Trace(s) in Stream:\n",
      "Z4.CP07..BHZ | 2013-02-26T00:00:00.011100Z - 2013-02-26T23:59:59.011100Z | 1.0 Hz, 86400 samples\n",
      "1 Trace(s) in Stream:\n",
      "Z4.CP07..BH1 | 2012-06-27T00:00:00.007300Z - 2012-06-27T23:59:59.007300Z | 1.0 Hz, 86400 samples\n",
      "1 Trace(s) in Stream:\n",
      "Z4.CP07..BH2 | 2012-12-03T00:00:00.023300Z - 2012-12-03T23:59:59.023300Z | 1.0 Hz, 86400 samples\n"
     ]
    },
    {
     "name": "stderr",
     "output_type": "stream",
     "text": [
      " 42%|████▏     | 1596/3775 [01:37<02:31, 14.38it/s]"
     ]
    },
    {
     "name": "stdout",
     "output_type": "stream",
     "text": [
      "1 Trace(s) in Stream:\n",
      "Z4.CP07..BH2 | 2012-07-06T00:00:00.024200Z - 2012-07-06T23:59:59.024200Z | 1.0 Hz, 86400 samples\n",
      "1 Trace(s) in Stream:\n",
      "Z4.CP07..BH1 | 2012-09-03T00:00:00.007500Z - 2012-09-03T23:59:59.007500Z | 1.0 Hz, 86400 samples\n",
      "1 Trace(s) in Stream:\n",
      "Z4.CP07..BH1 | 2012-10-03T00:00:00.022300Z - 2012-10-03T23:59:59.022300Z | 1.0 Hz, 86400 samples\n",
      "1 Trace(s) in Stream:\n",
      "Z4.CP07..BHZ | 2012-05-17T00:00:00.007800Z - 2012-05-17T23:59:59.007800Z | 1.0 Hz, 86400 samples\n"
     ]
    },
    {
     "name": "stderr",
     "output_type": "stream",
     "text": [
      " 42%|████▏     | 1601/3775 [01:37<02:10, 16.70it/s]"
     ]
    },
    {
     "name": "stdout",
     "output_type": "stream",
     "text": [
      "1 Trace(s) in Stream:\n",
      "Z4.CP07..BH2 | 2012-05-17T00:00:00.007800Z - 2012-05-17T23:59:59.007800Z | 1.0 Hz, 86400 samples\n",
      "1 Trace(s) in Stream:\n",
      "Z4.CP07..BHZ | 2012-11-28T00:00:00.016700Z - 2012-11-28T23:59:59.016700Z | 1.0 Hz, 86400 samples\n",
      "1 Trace(s) in Stream:\n",
      "Z4.CP07..BH2 | 2012-05-12T00:00:00.001200Z - 2012-05-12T23:59:59.001200Z | 1.0 Hz, 86400 samples\n",
      "1 Trace(s) in Stream:\n",
      "Z4.CP07..BH2 | 2012-09-04T00:00:00.003800Z - 2012-09-04T23:59:59.003800Z | 1.0 Hz, 86400 samples\n",
      "1 Trace(s) in Stream:\n",
      "Z4.CP07..BH1 | 2012-12-10T00:00:00.022600Z - 2012-12-10T23:59:59.022600Z | 1.0 Hz, 86400 samples\n"
     ]
    },
    {
     "name": "stderr",
     "output_type": "stream",
     "text": [
      " 43%|████▎     | 1606/3775 [01:38<01:57, 18.43it/s]"
     ]
    },
    {
     "name": "stdout",
     "output_type": "stream",
     "text": [
      "1 Trace(s) in Stream:\n",
      "Z4.CP07..BH2 | 2013-02-18T00:00:00.015500Z - 2013-02-18T23:59:59.015500Z | 1.0 Hz, 86400 samples\n",
      "1 Trace(s) in Stream:\n",
      "Z4.CP07..BHZ | 2012-09-28T00:00:00.015700Z - 2012-09-28T23:59:59.015700Z | 1.0 Hz, 86400 samples\n",
      "1 Trace(s) in Stream:\n",
      "Z4.CP07..BH2 | 2013-01-30T00:00:00.010300Z - 2013-01-30T23:59:59.010300Z | 1.0 Hz, 86400 samples\n",
      "1 Trace(s) in Stream:\n",
      "Z4.CP07..BH1 | 2013-01-13T00:00:00.022700Z - 2013-01-13T23:59:59.022700Z | 1.0 Hz, 86400 samples\n",
      "1 Trace(s) in Stream:\n",
      "Z4.CP07..BHZ | 2013-02-16T00:00:00.022800Z - 2013-02-16T23:59:59.022800Z | 1.0 Hz, 86400 samples\n"
     ]
    },
    {
     "name": "stderr",
     "output_type": "stream",
     "text": [
      " 43%|████▎     | 1610/3775 [01:38<01:56, 18.61it/s]"
     ]
    },
    {
     "name": "stdout",
     "output_type": "stream",
     "text": [
      "1 Trace(s) in Stream:\n",
      "Z4.CP07..BH1 | 2012-11-13T00:00:00.021700Z - 2012-11-13T23:59:59.021700Z | 1.0 Hz, 86400 samples\n",
      "1 Trace(s) in Stream:\n",
      "Z4.CP07..BH1 | 2012-06-15T00:00:00.001300Z - 2012-06-15T23:59:59.001300Z | 1.0 Hz, 86400 samples\n",
      "1 Trace(s) in Stream:\n",
      "Z4.CP07..BH2 | 2012-06-20T00:00:00.008000Z - 2012-06-20T23:59:59.008000Z | 1.0 Hz, 86400 samples\n",
      "1 Trace(s) in Stream:\n",
      "Z4.CP07..BH1 | 2012-05-19T00:00:00.000500Z - 2012-05-19T23:59:59.000500Z | 1.0 Hz, 86400 samples\n"
     ]
    },
    {
     "name": "stderr",
     "output_type": "stream",
     "text": [
      " 43%|████▎     | 1614/3775 [01:38<02:03, 17.53it/s]"
     ]
    },
    {
     "name": "stdout",
     "output_type": "stream",
     "text": [
      "1 Trace(s) in Stream:\n",
      "Z4.CP07..BH2 | 2012-08-06T00:00:00.010300Z - 2012-08-06T23:59:59.010300Z | 1.0 Hz, 86400 samples\n",
      "1 Trace(s) in Stream:\n",
      "Z4.CP07..BHZ | 2012-09-29T00:00:00.012000Z - 2012-09-29T23:59:59.012000Z | 1.0 Hz, 86400 samples\n",
      "1 Trace(s) in Stream:\n",
      "Z4.CP07..BH2 | 2012-07-24T00:00:00.008100Z - 2012-07-24T23:59:59.008100Z | 1.0 Hz, 86400 samples\n",
      "1 Trace(s) in Stream:\n",
      "Z4.CP07..BH1 | 2012-11-08T00:00:00.015100Z - 2012-11-08T23:59:59.015100Z | 1.0 Hz, 86400 samples\n"
     ]
    },
    {
     "name": "stderr",
     "output_type": "stream",
     "text": [
      " 43%|████▎     | 1618/3775 [01:38<02:15, 15.97it/s]"
     ]
    },
    {
     "name": "stdout",
     "output_type": "stream",
     "text": [
      "1 Trace(s) in Stream:\n",
      "Z4.CP07..BH1 | 2012-10-30T00:00:00.023200Z - 2012-10-30T23:59:59.023200Z | 1.0 Hz, 86400 samples\n",
      "1 Trace(s) in Stream:\n",
      "Z4.CP07..BHZ | 2012-05-10T00:00:00.008600Z - 2012-05-10T23:59:59.008600Z | 1.0 Hz, 86400 samples\n",
      "1 Trace(s) in Stream:\n",
      "Z4.CP07..BHZ | 2013-01-31T00:00:00.006600Z - 2013-01-31T23:59:59.006600Z | 1.0 Hz, 86400 samples\n"
     ]
    },
    {
     "name": "stderr",
     "output_type": "stream",
     "text": [
      " 43%|████▎     | 1622/3775 [01:39<02:13, 16.07it/s]"
     ]
    },
    {
     "name": "stdout",
     "output_type": "stream",
     "text": [
      "1 Trace(s) in Stream:\n",
      "Z4.CP07..BH1 | 2012-07-11T00:00:00.005800Z - 2012-07-11T23:59:59.005800Z | 1.0 Hz, 86400 samples\n",
      "1 Trace(s) in Stream:\n",
      "Z4.CP07..BH1 | 2012-08-17T00:00:00.019900Z - 2012-08-17T23:59:59.019900Z | 1.0 Hz, 86400 samples\n",
      "1 Trace(s) in Stream:\n",
      "Z4.CP07..BHZ | 2012-05-18T00:00:00.004200Z - 2012-05-18T23:59:59.004200Z | 1.0 Hz, 86400 samples\n",
      "1 Trace(s) in Stream:\n",
      "Z4.CP07..BH2 | 2013-01-07T00:00:00.019700Z - 2013-01-07T23:59:59.019700Z | 1.0 Hz, 86400 samples\n",
      "1 Trace(s) in Stream:\n",
      "Z4.CP07..BH1 | 2013-02-01T00:00:00.002900Z - 2013-02-01T23:59:59.002900Z | 1.0 Hz, 86400 samples\n"
     ]
    },
    {
     "name": "stderr",
     "output_type": "stream",
     "text": [
      " 43%|████▎     | 1627/3775 [01:39<01:58, 18.17it/s]"
     ]
    },
    {
     "name": "stdout",
     "output_type": "stream",
     "text": [
      "1 Trace(s) in Stream:\n",
      "Z4.CP07..BH2 | 2012-05-19T00:00:00.000500Z - 2012-05-19T23:59:59.000500Z | 1.0 Hz, 86400 samples\n",
      "1 Trace(s) in Stream:\n",
      "Z4.CP07..BH1 | 2012-11-20T00:00:00.021000Z - 2012-11-20T23:59:59.021000Z | 1.0 Hz, 86400 samples\n",
      "1 Trace(s) in Stream:\n",
      "Z4.CP07..BH1 | 2012-09-06T00:00:00.021500Z - 2012-09-06T23:59:59.021500Z | 1.0 Hz, 86400 samples\n",
      "1 Trace(s) in Stream:\n",
      "Z4.CP07..BH1 | 2013-03-13T00:00:00.006000Z - 2013-03-13T23:59:59.006000Z | 1.0 Hz, 86400 samples\n"
     ]
    },
    {
     "name": "stderr",
     "output_type": "stream",
     "text": [
      " 43%|████▎     | 1631/3775 [01:39<02:05, 17.07it/s]"
     ]
    },
    {
     "name": "stdout",
     "output_type": "stream",
     "text": [
      "1 Trace(s) in Stream:\n",
      "Z4.CP07..BH2 | 2012-06-14T00:00:00.005000Z - 2012-06-14T23:59:59.005000Z | 1.0 Hz, 86400 samples\n",
      "1 Trace(s) in Stream:\n",
      "Z4.CP07..BH1 | 2013-02-06T00:00:00.009600Z - 2013-02-06T23:59:59.009600Z | 1.0 Hz, 86400 samples\n",
      "1 Trace(s) in Stream:\n",
      "Z4.CP07..BH1 | 2013-03-16T00:00:00.020000Z - 2013-03-16T23:59:59.020000Z | 1.0 Hz, 86400 samples\n",
      "1 Trace(s) in Stream:\n",
      "Z4.CP07..BH1 | 2012-11-15T00:00:00.014400Z - 2012-11-15T23:59:59.014400Z | 1.0 Hz, 86400 samples\n",
      "1 Trace(s) in Stream:\n",
      "Z4.CP07..BH1 | 2012-12-21T00:00:00.007200Z - 2012-12-21T23:59:59.007200Z | 1.0 Hz, 86400 samples\n"
     ]
    },
    {
     "name": "stderr",
     "output_type": "stream",
     "text": [
      " 43%|████▎     | 1635/3775 [01:39<02:07, 16.73it/s]"
     ]
    },
    {
     "name": "stdout",
     "output_type": "stream",
     "text": [
      "1 Trace(s) in Stream:\n",
      "Z4.CP07..BH1 | 2012-10-07T00:00:00.007400Z - 2012-10-07T23:59:59.007400Z | 1.0 Hz, 86400 samples\n",
      "1 Trace(s) in Stream:\n",
      "Z4.CP07..BH1 | 2013-01-19T00:00:00.000700Z - 2013-01-19T23:59:59.000700Z | 1.0 Hz, 86400 samples\n",
      "1 Trace(s) in Stream:\n",
      "Z4.CP07..BH2 | 2012-05-08T00:00:00.015900Z - 2012-05-08T23:59:59.015900Z | 1.0 Hz, 86400 samples\n",
      "1 Trace(s) in Stream:\n",
      "Z4.CP07..BH2 | 2012-05-11T00:00:00.004900Z - 2012-05-11T23:59:59.004900Z | 1.0 Hz, 86400 samples\n"
     ]
    },
    {
     "name": "stderr",
     "output_type": "stream",
     "text": [
      " 43%|████▎     | 1640/3775 [01:40<01:59, 17.92it/s]"
     ]
    },
    {
     "name": "stdout",
     "output_type": "stream",
     "text": [
      "1 Trace(s) in Stream:\n",
      "Z4.CP07..BHZ | 2012-08-30T00:00:00.022200Z - 2012-08-30T23:59:59.022200Z | 1.0 Hz, 86400 samples\n",
      "1 Trace(s) in Stream:\n",
      "Z4.CP07..BH2 | 2012-10-14T00:00:00.006900Z - 2012-10-14T23:59:59.006900Z | 1.0 Hz, 86400 samples\n",
      "1 Trace(s) in Stream:\n",
      "Z4.CP07..BH2 | 2012-09-28T00:00:00.015700Z - 2012-09-28T23:59:59.015700Z | 1.0 Hz, 86400 samples\n",
      "1 Trace(s) in Stream:\n",
      "Z4.CP07..BH2 | 2013-02-25T00:00:00.014800Z - 2013-02-25T23:59:59.014800Z | 1.0 Hz, 86400 samples\n",
      "1 Trace(s) in Stream:\n",
      "Z4.CP07..BHZ | 2013-02-13T00:00:00.008900Z - 2013-02-13T23:59:59.008900Z | 1.0 Hz, 86400 samples\n"
     ]
    },
    {
     "name": "stderr",
     "output_type": "stream",
     "text": [
      "\r",
      " 44%|████▎     | 1643/3775 [01:40<01:51, 19.18it/s]"
     ]
    },
    {
     "name": "stdout",
     "output_type": "stream",
     "text": [
      "1 Trace(s) in Stream:\n",
      "Z4.CP07..BH2 | 2012-10-07T00:00:00.007400Z - 2012-10-07T23:59:59.007400Z | 1.0 Hz, 86400 samples\n",
      "1 Trace(s) in Stream:\n",
      "Z4.CP07..BH1 | 2012-07-09T00:00:00.013200Z - 2012-07-09T23:59:59.013200Z | 1.0 Hz, 86400 samples\n",
      "1 Trace(s) in Stream:\n",
      "Z4.CP07..BHZ | 2013-01-04T00:00:00.005800Z - 2013-01-04T23:59:59.005800Z | 1.0 Hz, 86400 samples\n",
      "1 Trace(s) in Stream:\n",
      "Z4.CP07..BH2 | 2012-11-14T00:00:00.018100Z - 2012-11-14T23:59:59.018100Z | 1.0 Hz, 86400 samples\n"
     ]
    },
    {
     "name": "stderr",
     "output_type": "stream",
     "text": [
      " 44%|████▎     | 1649/3775 [01:40<01:48, 19.55it/s]"
     ]
    },
    {
     "name": "stdout",
     "output_type": "stream",
     "text": [
      "1 Trace(s) in Stream:\n",
      "Z4.CP07..BHZ | 2012-12-04T00:00:00.019600Z - 2012-12-04T23:59:59.019600Z | 1.0 Hz, 86400 samples\n",
      "1 Trace(s) in Stream:\n",
      "Z4.CP07..BHZ | 2012-06-14T00:00:00.005000Z - 2012-06-14T23:59:59.005000Z | 1.0 Hz, 86400 samples\n",
      "1 Trace(s) in Stream:\n",
      "Z4.CP07..BHZ | 2013-02-05T00:00:00.013200Z - 2013-02-05T23:59:59.013200Z | 1.0 Hz, 86400 samples\n",
      "1 Trace(s) in Stream:\n",
      "Z4.CP07..BHZ | 2012-11-05T00:00:00.001100Z - 2012-11-05T23:59:59.001100Z | 1.0 Hz, 86400 samples\n",
      "1 Trace(s) in Stream:\n",
      "Z4.CP07..BHZ | 2012-08-05T00:00:00.014000Z - 2012-08-05T23:59:59.014000Z | 1.0 Hz, 86400 samples\n"
     ]
    },
    {
     "name": "stderr",
     "output_type": "stream",
     "text": [
      " 44%|████▍     | 1655/3775 [01:40<01:56, 18.22it/s]"
     ]
    },
    {
     "name": "stdout",
     "output_type": "stream",
     "text": [
      "1 Trace(s) in Stream:\n",
      "Z4.CP07..BHZ | 2012-05-25T00:00:00.003500Z - 2012-05-25T23:59:59.003500Z | 1.0 Hz, 86400 samples\n",
      "1 Trace(s) in Stream:\n",
      "Z4.CP07..BH1 | 2012-09-12T00:00:00.024500Z - 2012-09-12T23:59:59.024500Z | 1.0 Hz, 86400 samples\n",
      "1 Trace(s) in Stream:\n",
      "Z4.CP07..BH1 | 2012-05-28T00:00:00.017400Z - 2012-05-28T23:59:59.017400Z | 1.0 Hz, 86400 samples\n",
      "1 Trace(s) in Stream:\n",
      "Z4.CP07..BHZ | 2012-05-15T00:00:00.015200Z - 2012-05-15T23:59:59.015200Z | 1.0 Hz, 86400 samples\n",
      "1 Trace(s) in Stream:\n",
      "Z4.CP07..BH2 | 2012-05-15T00:00:00.015200Z - 2012-05-15T23:59:59.015200Z | 1.0 Hz, 86400 samples\n"
     ]
    },
    {
     "name": "stderr",
     "output_type": "stream",
     "text": [
      " 44%|████▍     | 1660/3775 [01:41<01:48, 19.57it/s]"
     ]
    },
    {
     "name": "stdout",
     "output_type": "stream",
     "text": [
      "1 Trace(s) in Stream:\n",
      "Z4.CP07..BH2 | 2012-11-18T00:00:00.003400Z - 2012-11-18T23:59:59.003400Z | 1.0 Hz, 86400 samples\n",
      "1 Trace(s) in Stream:\n",
      "Z4.CP07..BH1 | 2013-01-20T00:00:00.022000Z - 2013-01-20T23:59:59.022000Z | 1.0 Hz, 86400 samples\n",
      "1 Trace(s) in Stream:\n",
      "Z4.CP07..BH1 | 2012-08-06T00:00:00.010300Z - 2012-08-06T23:59:59.010300Z | 1.0 Hz, 86400 samples\n",
      "1 Trace(s) in Stream:\n",
      "Z4.CP07..BHZ | 2012-07-27T00:00:00.022100Z - 2012-07-27T23:59:59.022100Z | 1.0 Hz, 86400 samples\n",
      "1 Trace(s) in Stream:\n",
      "Z4.CP07..BHZ | 2012-06-17T00:00:00.019000Z - 2012-06-17T23:59:59.019000Z | 1.0 Hz, 86400 samples\n",
      "1 Trace(s) in Stream:\n",
      "Z4.CP07..BH1 | 2013-01-15T00:00:00.015400Z - 2013-01-15T23:59:59.015400Z | 1.0 Hz, 86400 samples\n"
     ]
    },
    {
     "name": "stderr",
     "output_type": "stream",
     "text": [
      " 44%|████▍     | 1665/3775 [01:41<01:46, 19.84it/s]"
     ]
    },
    {
     "name": "stdout",
     "output_type": "stream",
     "text": [
      "1 Trace(s) in Stream:\n",
      "Z4.CP07..BHZ | 2012-10-07T00:00:00.007400Z - 2012-10-07T23:59:59.007400Z | 1.0 Hz, 86400 samples\n",
      "1 Trace(s) in Stream:\n",
      "Z4.CP07..BH1 | 2012-07-03T00:00:00.010200Z - 2012-07-03T23:59:59.010200Z | 1.0 Hz, 86400 samples\n",
      "1 Trace(s) in Stream:\n",
      "Z4.CP07..BH1 | 2013-03-14T00:00:00.002300Z - 2013-03-14T23:59:59.002300Z | 1.0 Hz, 86400 samples\n",
      "1 Trace(s) in Stream:\n",
      "Z4.CP07..BHZ | 2012-07-08T00:00:00.016900Z - 2012-07-08T23:59:59.016900Z | 1.0 Hz, 86400 samples\n"
     ]
    },
    {
     "name": "stderr",
     "output_type": "stream",
     "text": [
      "\r",
      " 44%|████▍     | 1667/3775 [01:41<01:51, 18.96it/s]"
     ]
    },
    {
     "name": "stdout",
     "output_type": "stream",
     "text": [
      "1 Trace(s) in Stream:\n",
      "Z4.CP07..BH1 | 2012-08-24T00:00:00.019200Z - 2012-08-24T23:59:59.019200Z | 1.0 Hz, 86400 samples\n",
      "1 Trace(s) in Stream:\n",
      "Z4.CP07..BH2 | 2013-03-06T00:00:00.006700Z - 2013-03-06T23:59:59.006700Z | 1.0 Hz, 86400 samples\n",
      "1 Trace(s) in Stream:\n",
      "Z4.CP07..BH1 | 2012-08-31T00:00:00.018500Z - 2012-08-31T23:59:59.018500Z | 1.0 Hz, 86400 samples\n",
      "1 Trace(s) in Stream:\n",
      "Z4.CP07..BHZ | 2012-09-08T00:00:00.014100Z - 2012-09-08T23:59:59.014100Z | 1.0 Hz, 86400 samples\n"
     ]
    },
    {
     "name": "stderr",
     "output_type": "stream",
     "text": [
      " 44%|████▍     | 1671/3775 [01:41<02:28, 14.17it/s]"
     ]
    },
    {
     "name": "stdout",
     "output_type": "stream",
     "text": [
      "1 Trace(s) in Stream:\n",
      "Z4.CP07..BHZ | 2012-09-19T00:00:00.023700Z - 2012-09-19T23:59:59.023700Z | 1.0 Hz, 86400 samples\n",
      "1 Trace(s) in Stream:\n",
      "Z4.CP07..BH2 | 2012-07-18T00:00:00.005100Z - 2012-07-18T23:59:59.005100Z | 1.0 Hz, 86400 samples\n"
     ]
    },
    {
     "name": "stderr",
     "output_type": "stream",
     "text": [
      "\r",
      " 44%|████▍     | 1673/3775 [01:42<02:59, 11.69it/s]"
     ]
    },
    {
     "name": "stdout",
     "output_type": "stream",
     "text": [
      "1 Trace(s) in Stream:\n",
      "Z4.CP07..BH1 | 2012-06-30T00:00:00.021200Z - 2012-06-30T23:59:59.021200Z | 1.0 Hz, 86400 samples\n",
      "1 Trace(s) in Stream:\n",
      "Z4.CP07..BH1 | 2012-12-09T00:00:00.001300Z - 2012-12-09T23:59:59.001300Z | 1.0 Hz, 86400 samples\n"
     ]
    },
    {
     "name": "stderr",
     "output_type": "stream",
     "text": [
      "\r",
      " 44%|████▍     | 1675/3775 [01:42<03:11, 10.97it/s]"
     ]
    },
    {
     "name": "stdout",
     "output_type": "stream",
     "text": [
      "1 Trace(s) in Stream:\n",
      "Z4.CP07..BH2 | 2012-11-13T00:00:00.021700Z - 2012-11-13T23:59:59.021700Z | 1.0 Hz, 86400 samples\n",
      "1 Trace(s) in Stream:\n",
      "Z4.CP07..BH2 | 2012-05-27T00:00:00.021100Z - 2012-05-27T23:59:59.021100Z | 1.0 Hz, 86400 samples\n",
      "1 Trace(s) in Stream:\n",
      "Z4.CP07..BH1 | 2012-07-12T00:00:00.002200Z - 2012-07-12T23:59:59.002200Z | 1.0 Hz, 86400 samples\n",
      "1 Trace(s) in Stream:\n",
      "Z4.CP07..BH1 | 2012-12-18T00:00:00.018200Z - 2012-12-18T23:59:59.018200Z | 1.0 Hz, 86400 samples\n"
     ]
    },
    {
     "name": "stderr",
     "output_type": "stream",
     "text": [
      " 44%|████▍     | 1679/3775 [01:42<03:37,  9.64it/s]"
     ]
    },
    {
     "name": "stdout",
     "output_type": "stream",
     "text": [
      "1 Trace(s) in Stream:\n",
      "Z4.CP07..BH1 | 2013-02-02T00:00:00.024300Z - 2013-02-02T23:59:59.024300Z | 1.0 Hz, 86400 samples\n",
      "1 Trace(s) in Stream:\n",
      "Z4.CP07..BH1 | 2012-08-04T00:00:00.017700Z - 2012-08-04T23:59:59.017700Z | 1.0 Hz, 86400 samples\n",
      "1 Trace(s) in Stream:\n",
      "Z4.CP07..BHZ | 2012-08-10T00:00:00.020700Z - 2012-08-10T23:59:59.020700Z | 1.0 Hz, 86400 samples\n",
      "1 Trace(s) in Stream:\n",
      "Z4.CP07..BHZ | 2012-11-15T00:00:00.014400Z - 2012-11-15T23:59:59.014400Z | 1.0 Hz, 86400 samples\n"
     ]
    },
    {
     "name": "stderr",
     "output_type": "stream",
     "text": [
      " 45%|████▍     | 1684/3775 [01:43<02:34, 13.57it/s]"
     ]
    },
    {
     "name": "stdout",
     "output_type": "stream",
     "text": [
      "1 Trace(s) in Stream:\n",
      "Z4.CP07..BHZ | 2012-09-05T00:00:00.000200Z - 2012-09-05T23:59:59.000200Z | 1.0 Hz, 86400 samples\n",
      "1 Trace(s) in Stream:\n",
      "Z4.CP07..BH1 | 2012-12-13T00:00:00.011600Z - 2012-12-13T23:59:59.011600Z | 1.0 Hz, 86400 samples\n",
      "1 Trace(s) in Stream:\n",
      "Z4.CP07..BHZ | 2012-10-20T00:00:00.009900Z - 2012-10-20T23:59:59.009900Z | 1.0 Hz, 86400 samples\n",
      "1 Trace(s) in Stream:\n",
      "Z4.CP07..BH1 | 2012-06-01T00:00:00.002700Z - 2012-06-01T23:59:59.002700Z | 1.0 Hz, 86400 samples\n"
     ]
    },
    {
     "name": "stderr",
     "output_type": "stream",
     "text": [
      " 45%|████▍     | 1690/3775 [01:43<02:03, 16.82it/s]"
     ]
    },
    {
     "name": "stdout",
     "output_type": "stream",
     "text": [
      "1 Trace(s) in Stream:\n",
      "Z4.CP07..BH1 | 2013-02-07T00:00:00.005900Z - 2013-02-07T23:59:59.005900Z | 1.0 Hz, 86400 samples\n",
      "1 Trace(s) in Stream:\n",
      "Z4.CP07..BH2 | 2012-10-08T00:00:00.004000Z - 2012-10-08T23:59:59.004000Z | 1.0 Hz, 86400 samples\n",
      "1 Trace(s) in Stream:\n",
      "Z4.CP07..BH1 | 2012-12-31T00:00:00.020500Z - 2012-12-31T23:59:59.020500Z | 1.0 Hz, 86400 samples\n",
      "1 Trace(s) in Stream:\n",
      "Z4.CP07..BH2 | 2012-07-04T00:00:00.006500Z - 2012-07-04T23:59:59.006500Z | 1.0 Hz, 86400 samples\n",
      "1 Trace(s) in Stream:\n",
      "Z4.CP07..BHZ | 2012-09-25T00:00:00.001700Z - 2012-09-25T23:59:59.001700Z | 1.0 Hz, 86400 samples\n"
     ]
    },
    {
     "name": "stderr",
     "output_type": "stream",
     "text": [
      " 45%|████▍     | 1694/3775 [01:43<02:02, 16.96it/s]"
     ]
    },
    {
     "name": "stdout",
     "output_type": "stream",
     "text": [
      "1 Trace(s) in Stream:\n",
      "Z4.CP07..BHZ | 2012-12-22T00:00:00.003500Z - 2012-12-22T23:59:59.003500Z | 1.0 Hz, 86400 samples\n",
      "1 Trace(s) in Stream:\n",
      "Z4.CP07..BH2 | 2012-12-06T00:00:00.012300Z - 2012-12-06T23:59:59.012300Z | 1.0 Hz, 86400 samples\n",
      "1 Trace(s) in Stream:\n",
      "Z4.CP07..BH2 | 2012-11-07T00:00:00.018800Z - 2012-11-07T23:59:59.018800Z | 1.0 Hz, 86400 samples\n",
      "1 Trace(s) in Stream:\n",
      "Z4.CP07..BHZ | 2012-05-12T00:00:00.001200Z - 2012-05-12T23:59:59.001200Z | 1.0 Hz, 86400 samples\n",
      "1 Trace(s) in Stream:\n",
      "Z4.CP07..BHZ | 2012-08-14T00:00:00.006000Z - 2012-08-14T23:59:59.006000Z | 1.0 Hz, 86400 samples\n"
     ]
    },
    {
     "name": "stderr",
     "output_type": "stream",
     "text": [
      " 45%|████▌     | 1699/3775 [01:43<01:51, 18.68it/s]"
     ]
    },
    {
     "name": "stdout",
     "output_type": "stream",
     "text": [
      "1 Trace(s) in Stream:\n",
      "Z4.CP07..BHZ | 2012-12-24T00:00:00.021200Z - 2012-12-24T23:59:59.021200Z | 1.0 Hz, 86400 samples\n",
      "1 Trace(s) in Stream:\n",
      "Z4.CP07..BHZ | 2012-05-24T00:00:00.007100Z - 2012-05-24T23:59:59.007100Z | 1.0 Hz, 86400 samples\n",
      "1 Trace(s) in Stream:\n",
      "Z4.CP07..BH1 | 2012-10-16T00:00:00.024600Z - 2012-10-16T23:59:59.024600Z | 1.0 Hz, 86400 samples\n",
      "1 Trace(s) in Stream:\n",
      "Z4.CP07..BHZ | 2012-08-31T00:00:00.018500Z - 2012-08-31T23:59:59.018500Z | 1.0 Hz, 86400 samples\n",
      "1 Trace(s) in Stream:\n",
      "Z4.CP07..BH1 | 2012-05-07T00:00:00.019600Z - 2012-05-07T23:59:59.019600Z | 1.0 Hz, 86400 samples\n"
     ]
    },
    {
     "name": "stderr",
     "output_type": "stream",
     "text": [
      " 45%|████▌     | 1703/3775 [01:44<01:49, 18.94it/s]"
     ]
    },
    {
     "name": "stdout",
     "output_type": "stream",
     "text": [
      "1 Trace(s) in Stream:\n",
      "Z4.CP07..BH2 | 2012-07-09T00:00:00.013200Z - 2012-07-09T23:59:59.013200Z | 1.0 Hz, 86400 samples\n",
      "1 Trace(s) in Stream:\n",
      "Z4.CP07..BH2 | 2012-11-23T00:00:00.010000Z - 2012-11-23T23:59:59.010000Z | 1.0 Hz, 86400 samples\n",
      "1 Trace(s) in Stream:\n",
      "Z4.CP07..BH1 | 2012-07-07T00:00:00.020500Z - 2012-07-07T23:59:59.020500Z | 1.0 Hz, 86400 samples\n",
      "1 Trace(s) in Stream:\n",
      "Z4.CP07..BH2 | 2012-12-26T00:00:00.013800Z - 2012-12-26T23:59:59.013800Z | 1.0 Hz, 86400 samples\n"
     ]
    },
    {
     "name": "stderr",
     "output_type": "stream",
     "text": [
      " 45%|████▌     | 1708/3775 [01:44<01:49, 18.94it/s]"
     ]
    },
    {
     "name": "stdout",
     "output_type": "stream",
     "text": [
      "1 Trace(s) in Stream:\n",
      "Z4.CP07..BH2 | 2013-03-05T00:00:00.010400Z - 2013-03-05T23:59:59.010400Z | 1.0 Hz, 86400 samples\n",
      "1 Trace(s) in Stream:\n",
      "Z4.CP07..BH1 | 2012-12-12T00:00:00.015200Z - 2012-12-12T23:59:59.015200Z | 1.0 Hz, 86400 samples\n",
      "1 Trace(s) in Stream:\n",
      "Z4.CP07..BH2 | 2012-12-30T00:00:00.024100Z - 2012-12-30T23:59:59.024100Z | 1.0 Hz, 86400 samples\n",
      "1 Trace(s) in Stream:\n",
      "Z4.CP07..BHZ | 2012-08-06T00:00:00.010300Z - 2012-08-06T23:59:59.010300Z | 1.0 Hz, 86400 samples\n",
      "1 Trace(s) in Stream:\n",
      "Z4.CP07..BH2 | 2012-09-22T00:00:00.012700Z - 2012-09-22T23:59:59.012700Z | 1.0 Hz, 86400 samples\n"
     ]
    },
    {
     "name": "stderr",
     "output_type": "stream",
     "text": [
      " 45%|████▌     | 1713/3775 [01:44<01:40, 20.54it/s]"
     ]
    },
    {
     "name": "stdout",
     "output_type": "stream",
     "text": [
      "1 Trace(s) in Stream:\n",
      "Z4.CP07..BHZ | 2012-10-03T00:00:00.022300Z - 2012-10-03T23:59:59.022300Z | 1.0 Hz, 86400 samples\n",
      "1 Trace(s) in Stream:\n",
      "Z4.CP07..BHZ | 2013-02-22T00:00:00.000800Z - 2013-02-22T23:59:59.000800Z | 1.0 Hz, 86400 samples\n",
      "1 Trace(s) in Stream:\n",
      "Z4.CP07..BHZ | 2012-11-19T00:00:00.024700Z - 2012-11-19T23:59:59.024700Z | 1.0 Hz, 86400 samples\n",
      "1 Trace(s) in Stream:\n",
      "Z4.CP07..BH2 | 2012-09-14T00:00:00.017100Z - 2012-09-14T23:59:59.017100Z | 1.0 Hz, 86400 samples\n",
      "1 Trace(s) in Stream:\n",
      "Z4.CP07..BHZ | 2013-02-06T00:00:00.009600Z - 2013-02-06T23:59:59.009600Z | 1.0 Hz, 86400 samples\n"
     ]
    },
    {
     "name": "stderr",
     "output_type": "stream",
     "text": [
      " 46%|████▌     | 1718/3775 [01:44<01:46, 19.27it/s]"
     ]
    },
    {
     "name": "stdout",
     "output_type": "stream",
     "text": [
      "1 Trace(s) in Stream:\n",
      "Z4.CP07..BH1 | 2013-03-15T00:00:00.023700Z - 2013-03-15T23:59:59.023700Z | 1.0 Hz, 86400 samples\n",
      "1 Trace(s) in Stream:\n",
      "Z4.CP07..BHZ | 2012-10-05T00:00:00.015000Z - 2012-10-05T23:59:59.015000Z | 1.0 Hz, 86400 samples\n",
      "1 Trace(s) in Stream:\n",
      "Z4.CP07..BH1 | 2012-06-17T00:00:00.019000Z - 2012-06-17T23:59:59.019000Z | 1.0 Hz, 86400 samples\n",
      "1 Trace(s) in Stream:\n",
      "Z4.CP07..BH1 | 2012-07-24T00:00:00.008100Z - 2012-07-24T23:59:59.008100Z | 1.0 Hz, 86400 samples\n",
      "1 Trace(s) in Stream:\n",
      "Z4.CP07..BH1 | 2012-05-20T00:00:00.021800Z - 2012-05-20T23:59:59.021800Z | 1.0 Hz, 86400 samples\n"
     ]
    },
    {
     "name": "stderr",
     "output_type": "stream",
     "text": [
      "\r",
      " 46%|████▌     | 1721/3775 [01:44<01:45, 19.53it/s]"
     ]
    },
    {
     "name": "stdout",
     "output_type": "stream",
     "text": [
      "1 Trace(s) in Stream:\n",
      "Z4.CP07..BH1 | 2012-11-24T00:00:00.004800Z - 2012-11-24T23:59:59.004800Z | 1.0 Hz, 86400 samples\n",
      "1 Trace(s) in Stream:\n",
      "Z4.CP07..BH2 | 2012-09-15T00:00:00.013400Z - 2012-09-15T23:59:59.013400Z | 1.0 Hz, 86400 samples\n",
      "1 Trace(s) in Stream:\n",
      "Z4.CP07..BH2 | 2012-12-22T00:00:00.003500Z - 2012-12-22T23:59:59.003500Z | 1.0 Hz, 86400 samples\n"
     ]
    },
    {
     "name": "stderr",
     "output_type": "stream",
     "text": [
      " 46%|████▌     | 1727/3775 [01:45<01:53, 18.02it/s]"
     ]
    },
    {
     "name": "stdout",
     "output_type": "stream",
     "text": [
      "1 Trace(s) in Stream:\n",
      "Z4.CP07..BH1 | 2012-06-10T00:00:00.019700Z - 2012-06-10T23:59:59.019700Z | 1.0 Hz, 86400 samples\n",
      "1 Trace(s) in Stream:\n",
      "Z4.CP07..BH2 | 2012-09-25T00:00:00.001700Z - 2012-09-25T23:59:59.001700Z | 1.0 Hz, 86400 samples\n",
      "1 Trace(s) in Stream:\n",
      "Z4.CP07..BH2 | 2012-05-23T00:00:00.010800Z - 2012-05-23T23:59:59.010800Z | 1.0 Hz, 86400 samples\n",
      "1 Trace(s) in Stream:\n",
      "Z4.CP07..BHZ | 2012-09-20T00:00:00.020100Z - 2012-09-20T23:59:59.020100Z | 1.0 Hz, 86400 samples\n",
      "1 Trace(s) in Stream:\n",
      "Z4.CP07..BHZ | 2012-07-31T00:00:00.007400Z - 2012-07-31T23:59:59.007400Z | 1.0 Hz, 86400 samples\n"
     ]
    },
    {
     "name": "stderr",
     "output_type": "stream",
     "text": [
      " 46%|████▌     | 1731/3775 [01:45<01:50, 18.48it/s]"
     ]
    },
    {
     "name": "stdout",
     "output_type": "stream",
     "text": [
      "1 Trace(s) in Stream:\n",
      "Z4.CP07..BH2 | 2012-11-10T00:00:00.007800Z - 2012-11-10T23:59:59.007800Z | 1.0 Hz, 86400 samples\n",
      "1 Trace(s) in Stream:\n",
      "Z4.CP07..BH1 | 2012-06-13T00:00:00.008700Z - 2012-06-13T23:59:59.008700Z | 1.0 Hz, 86400 samples\n",
      "1 Trace(s) in Stream:\n",
      "Z4.CP07..BH2 | 2012-12-17T00:00:00.021900Z - 2012-12-17T23:59:59.021900Z | 1.0 Hz, 86400 samples\n",
      "1 Trace(s) in Stream:\n",
      "Z4.CP07..BH1 | 2012-12-05T00:00:00.015900Z - 2012-12-05T23:59:59.015900Z | 1.0 Hz, 86400 samples\n",
      "1 Trace(s) in Stream:\n",
      "Z4.CP07..BH1 | 2012-09-08T00:00:00.014100Z - 2012-09-08T23:59:59.014100Z | 1.0 Hz, 86400 samples\n"
     ]
    },
    {
     "name": "stderr",
     "output_type": "stream",
     "text": [
      " 46%|████▌     | 1736/3775 [01:45<01:45, 19.32it/s]"
     ]
    },
    {
     "name": "stdout",
     "output_type": "stream",
     "text": [
      "1 Trace(s) in Stream:\n",
      "Z4.CP07..BH1 | 2012-07-31T00:00:00.007400Z - 2012-07-31T23:59:59.007400Z | 1.0 Hz, 86400 samples\n",
      "1 Trace(s) in Stream:\n",
      "Z4.CP07..BH1 | 2012-10-15T00:00:00.003300Z - 2012-10-15T23:59:59.003300Z | 1.0 Hz, 86400 samples\n",
      "1 Trace(s) in Stream:\n",
      "Z4.CP07..BH2 | 2012-07-16T00:00:00.012500Z - 2012-07-16T23:59:59.012500Z | 1.0 Hz, 86400 samples\n",
      "1 Trace(s) in Stream:\n",
      "Z4.CP07..BH1 | 2012-10-23T00:00:00.023900Z - 2012-10-23T23:59:59.023900Z | 1.0 Hz, 86400 samples\n",
      "1 Trace(s) in Stream:\n",
      "Z4.CP07..BH2 | 2012-10-31T00:00:00.019500Z - 2012-10-31T23:59:59.019500Z | 1.0 Hz, 86400 samples\n"
     ]
    },
    {
     "name": "stderr",
     "output_type": "stream",
     "text": [
      " 46%|████▌     | 1740/3775 [01:46<01:53, 17.88it/s]"
     ]
    },
    {
     "name": "stdout",
     "output_type": "stream",
     "text": [
      "1 Trace(s) in Stream:\n",
      "Z4.CP07..BHZ | 2012-12-21T00:00:00.007200Z - 2012-12-21T23:59:59.007200Z | 1.0 Hz, 86400 samples\n",
      "1 Trace(s) in Stream:\n",
      "Z4.CP07..BH1 | 2013-02-09T00:00:00.023500Z - 2013-02-09T23:59:59.023500Z | 1.0 Hz, 86400 samples\n",
      "1 Trace(s) in Stream:\n",
      "Z4.CP07..BH2 | 2012-09-10T00:00:00.006800Z - 2012-09-10T23:59:59.006800Z | 1.0 Hz, 86400 samples\n",
      "1 Trace(s) in Stream:\n",
      "Z4.CP07..BH1 | 2012-07-04T00:00:00.006600Z - 2012-07-04T23:59:59.006600Z | 1.0 Hz, 86400 samples\n",
      "1 Trace(s) in Stream:\n",
      "Z4.CP07..BH1 | 2012-07-06T00:00:00.024200Z - 2012-07-06T23:59:59.024200Z | 1.0 Hz, 86400 samples\n"
     ]
    },
    {
     "name": "stderr",
     "output_type": "stream",
     "text": [
      " 46%|████▌     | 1745/3775 [01:46<01:45, 19.18it/s]"
     ]
    },
    {
     "name": "stdout",
     "output_type": "stream",
     "text": [
      "1 Trace(s) in Stream:\n",
      "Z4.CP07..BH1 | 2013-02-21T00:00:00.004500Z - 2013-02-21T23:59:59.004500Z | 1.0 Hz, 86400 samples\n",
      "1 Trace(s) in Stream:\n",
      "Z4.CP07..BH1 | 2012-08-20T00:00:00.008900Z - 2012-08-20T23:59:59.008900Z | 1.0 Hz, 86400 samples\n",
      "1 Trace(s) in Stream:\n",
      "Z4.CP07..BH2 | 2012-08-16T00:00:00.023600Z - 2012-08-16T23:59:59.023600Z | 1.0 Hz, 86400 samples\n",
      "1 Trace(s) in Stream:\n",
      "Z4.CP07..BH2 | 2013-01-23T00:00:00.011000Z - 2013-01-23T23:59:59.011000Z | 1.0 Hz, 86400 samples\n"
     ]
    },
    {
     "name": "stderr",
     "output_type": "stream",
     "text": [
      " 46%|████▋     | 1751/3775 [01:46<01:39, 20.39it/s]"
     ]
    },
    {
     "name": "stdout",
     "output_type": "stream",
     "text": [
      "1 Trace(s) in Stream:\n",
      "Z4.CP07..BH2 | 2012-06-24T00:00:00.018300Z - 2012-06-24T23:59:59.018300Z | 1.0 Hz, 86400 samples\n",
      "1 Trace(s) in Stream:\n",
      "Z4.CP07..BH2 | 2012-12-27T00:00:00.010100Z - 2012-12-27T23:59:59.010100Z | 1.0 Hz, 86400 samples\n",
      "1 Trace(s) in Stream:\n",
      "Z4.CP07..BH1 | 2012-08-27T00:00:00.008200Z - 2012-08-27T23:59:59.008200Z | 1.0 Hz, 86400 samples\n",
      "1 Trace(s) in Stream:\n",
      "Z4.CP07..BHZ | 2012-10-01T00:00:00.004700Z - 2012-10-01T23:59:59.004700Z | 1.0 Hz, 86400 samples\n",
      "1 Trace(s) in Stream:\n",
      "Z4.CP07..BH2 | 2012-12-24T00:00:00.021200Z - 2012-12-24T23:59:59.021200Z | 1.0 Hz, 86400 samples\n",
      "1 Trace(s) in Stream:\n",
      "Z4.CP07..BH1 | 2013-02-08T00:00:00.002200Z - 2013-02-08T23:59:59.002200Z | 1.0 Hz, 86400 samples\n"
     ]
    },
    {
     "name": "stderr",
     "output_type": "stream",
     "text": [
      "\r",
      " 46%|████▋     | 1754/3775 [01:46<01:35, 21.16it/s]"
     ]
    },
    {
     "name": "stdout",
     "output_type": "stream",
     "text": [
      "1 Trace(s) in Stream:\n",
      "Z4.CP07..BH1 | 2012-05-09T00:00:00.012200Z - 2012-05-09T23:59:59.012200Z | 1.0 Hz, 86400 samples\n",
      "1 Trace(s) in Stream:\n",
      "Z4.CP07..BH2 | 2013-02-26T00:00:00.011100Z - 2013-02-26T23:59:59.011100Z | 1.0 Hz, 86400 samples\n",
      "1 Trace(s) in Stream:\n",
      "Z4.CP07..BH1 | 2012-09-17T00:00:00.006100Z - 2012-09-17T23:59:59.006100Z | 1.0 Hz, 86400 samples\n",
      "1 Trace(s) in Stream:\n",
      "Z4.CP07..BH2 | 2012-09-27T00:00:00.019400Z - 2012-09-27T23:59:59.019400Z | 1.0 Hz, 86400 samples\n"
     ]
    },
    {
     "name": "stderr",
     "output_type": "stream",
     "text": [
      " 47%|████▋     | 1760/3775 [01:47<01:52, 17.86it/s]"
     ]
    },
    {
     "name": "stdout",
     "output_type": "stream",
     "text": [
      "1 Trace(s) in Stream:\n",
      "Z4.CP07..BH1 | 2012-11-16T00:00:00.010700Z - 2012-11-16T23:59:59.010700Z | 1.0 Hz, 86400 samples\n",
      "1 Trace(s) in Stream:\n",
      "Z4.CP07..BH1 | 2012-06-29T00:00:00.024900Z - 2012-06-29T23:59:59.024900Z | 1.0 Hz, 86400 samples\n",
      "1 Trace(s) in Stream:\n",
      "Z4.CP07..BHZ | 2013-03-06T00:00:00.006700Z - 2013-03-06T23:59:59.006700Z | 1.0 Hz, 86400 samples\n",
      "1 Trace(s) in Stream:\n",
      "Z4.CP07..BH2 | 2012-05-21T00:00:00.018100Z - 2012-05-21T23:59:59.018100Z | 1.0 Hz, 86400 samples\n"
     ]
    },
    {
     "name": "stderr",
     "output_type": "stream",
     "text": [
      " 47%|████▋     | 1765/3775 [01:47<01:49, 18.37it/s]"
     ]
    },
    {
     "name": "stdout",
     "output_type": "stream",
     "text": [
      "1 Trace(s) in Stream:\n",
      "Z4.CP07..BHZ | 2012-12-03T00:00:00.023300Z - 2012-12-03T23:59:59.023300Z | 1.0 Hz, 86400 samples\n",
      "1 Trace(s) in Stream:\n",
      "Z4.CP07..BHZ | 2012-12-14T00:00:00.007900Z - 2012-12-14T23:59:59.007900Z | 1.0 Hz, 86400 samples\n",
      "1 Trace(s) in Stream:\n",
      "Z4.CP07..BH2 | 2012-08-13T00:00:00.009600Z - 2012-08-13T23:59:59.009600Z | 1.0 Hz, 86400 samples\n",
      "1 Trace(s) in Stream:\n",
      "Z4.CP07..BHZ | 2012-11-23T00:00:00.010000Z - 2012-11-23T23:59:59.010000Z | 1.0 Hz, 86400 samples\n",
      "1 Trace(s) in Stream:\n",
      "Z4.CP07..BH2 | 2012-11-11T00:00:00.004100Z - 2012-11-11T23:59:59.004100Z | 1.0 Hz, 86400 samples\n"
     ]
    },
    {
     "name": "stderr",
     "output_type": "stream",
     "text": [
      " 47%|████▋     | 1769/3775 [01:47<01:54, 17.51it/s]"
     ]
    },
    {
     "name": "stdout",
     "output_type": "stream",
     "text": [
      "1 Trace(s) in Stream:\n",
      "Z4.CP07..BHZ | 2012-12-15T00:00:00.004200Z - 2012-12-15T23:59:59.004200Z | 1.0 Hz, 86400 samples\n",
      "1 Trace(s) in Stream:\n",
      "Z4.CP07..BH2 | 2012-10-28T00:00:00.005500Z - 2012-10-28T23:59:59.005500Z | 1.0 Hz, 86400 samples\n",
      "1 Trace(s) in Stream:\n",
      "Z4.CP07..BHZ | 2012-09-13T00:00:00.020800Z - 2012-09-13T23:59:59.020800Z | 1.0 Hz, 86400 samples\n",
      "1 Trace(s) in Stream:\n",
      "Z4.CP07..BH1 | 2012-09-02T00:00:00.011200Z - 2012-09-02T23:59:59.011200Z | 1.0 Hz, 86400 samples\n"
     ]
    },
    {
     "name": "stderr",
     "output_type": "stream",
     "text": [
      " 47%|████▋     | 1773/3775 [01:47<01:51, 17.99it/s]"
     ]
    },
    {
     "name": "stdout",
     "output_type": "stream",
     "text": [
      "1 Trace(s) in Stream:\n",
      "Z4.CP07..BHZ | 2013-01-29T00:00:00.013900Z - 2013-01-29T23:59:59.013900Z | 1.0 Hz, 86400 samples\n",
      "1 Trace(s) in Stream:\n",
      "Z4.CP07..BH1 | 2012-05-27T00:00:00.021100Z - 2012-05-27T23:59:59.021100Z | 1.0 Hz, 86400 samples\n",
      "1 Trace(s) in Stream:\n",
      "Z4.CP07..BH2 | 2012-06-02T00:00:00.024100Z - 2012-06-02T23:59:59.024100Z | 1.0 Hz, 86400 samples\n",
      "1 Trace(s) in Stream:\n",
      "Z4.CP07..BHZ | 2012-07-02T00:00:00.013900Z - 2012-07-02T23:59:59.013900Z | 1.0 Hz, 86400 samples\n"
     ]
    },
    {
     "name": "stderr",
     "output_type": "stream",
     "text": [
      " 47%|████▋     | 1777/3775 [01:48<01:47, 18.62it/s]"
     ]
    },
    {
     "name": "stdout",
     "output_type": "stream",
     "text": [
      "1 Trace(s) in Stream:\n",
      "Z4.CP07..BH2 | 2013-02-10T00:00:00.019900Z - 2013-02-10T23:59:59.019900Z | 1.0 Hz, 86400 samples\n",
      "1 Trace(s) in Stream:\n",
      "Z4.CP07..BH2 | 2012-11-05T00:00:00.001100Z - 2012-11-05T23:59:59.001100Z | 1.0 Hz, 86400 samples\n",
      "1 Trace(s) in Stream:\n",
      "Z4.CP07..BH1 | 2012-11-12T00:00:00.023100Z - 2012-11-12T23:59:59.023100Z | 1.0 Hz, 86400 samples\n",
      "1 Trace(s) in Stream:\n",
      "Z4.CP07..BH2 | 2012-06-18T00:00:00.015300Z - 2012-06-18T23:59:59.015300Z | 1.0 Hz, 86400 samples\n",
      "1 Trace(s) in Stream:\n",
      "Z4.CP07..BH1 | 2012-08-29T00:00:00.000900Z - 2012-08-29T23:59:59.000900Z | 1.0 Hz, 86400 samples\n"
     ]
    },
    {
     "name": "stderr",
     "output_type": "stream",
     "text": [
      " 47%|████▋     | 1781/3775 [01:48<01:49, 18.20it/s]"
     ]
    },
    {
     "name": "stdout",
     "output_type": "stream",
     "text": [
      "1 Trace(s) in Stream:\n",
      "Z4.CP07..BH2 | 2012-12-28T00:00:00.006500Z - 2012-12-28T23:59:59.006500Z | 1.0 Hz, 86400 samples\n",
      "1 Trace(s) in Stream:\n",
      "Z4.CP07..BHZ | 2012-07-04T00:00:00.006500Z - 2012-07-04T23:59:59.006500Z | 1.0 Hz, 86400 samples\n",
      "1 Trace(s) in Stream:\n",
      "Z4.CP07..BH1 | 2013-03-12T00:00:00.009700Z - 2013-03-12T23:59:59.009700Z | 1.0 Hz, 86400 samples\n",
      "1 Trace(s) in Stream:\n",
      "Z4.CP07..BH2 | 2012-12-23T00:00:00.024800Z - 2012-12-23T23:59:59.024800Z | 1.0 Hz, 86400 samples\n"
     ]
    },
    {
     "name": "stderr",
     "output_type": "stream",
     "text": [
      " 47%|████▋     | 1787/3775 [01:48<01:39, 20.08it/s]"
     ]
    },
    {
     "name": "stdout",
     "output_type": "stream",
     "text": [
      "1 Trace(s) in Stream:\n",
      "Z4.CP07..BH2 | 2012-08-25T00:00:00.015600Z - 2012-08-25T23:59:59.015600Z | 1.0 Hz, 86400 samples\n",
      "1 Trace(s) in Stream:\n",
      "Z4.CP07..BH2 | 2012-06-09T00:00:00.023400Z - 2012-06-09T23:59:59.023400Z | 1.0 Hz, 86400 samples\n",
      "1 Trace(s) in Stream:\n",
      "Z4.CP07..BH1 | 2012-11-07T00:00:00.018800Z - 2012-11-07T23:59:59.018800Z | 1.0 Hz, 86400 samples\n",
      "1 Trace(s) in Stream:\n",
      "Z4.CP07..BH2 | 2013-01-02T00:00:00.013100Z - 2013-01-02T23:59:59.013100Z | 1.0 Hz, 86400 samples\n",
      "1 Trace(s) in Stream:\n",
      "Z4.CP07..BHZ | 2012-07-19T00:00:00.001500Z - 2012-07-19T23:59:59.001500Z | 1.0 Hz, 86400 samples\n",
      "1 Trace(s) in Stream:\n",
      "Z4.CP07..BHZ | 2013-03-16T00:00:00.020000Z - 2013-03-16T23:59:59.020000Z | 1.0 Hz, 86400 samples\n"
     ]
    },
    {
     "name": "stderr",
     "output_type": "stream",
     "text": [
      " 47%|████▋     | 1791/3775 [01:48<01:42, 19.38it/s]"
     ]
    },
    {
     "name": "stdout",
     "output_type": "stream",
     "text": [
      "1 Trace(s) in Stream:\n",
      "Z4.CP07..BHZ | 2013-02-04T00:00:00.016900Z - 2013-02-04T23:59:59.016900Z | 1.0 Hz, 86400 samples\n",
      "1 Trace(s) in Stream:\n",
      "Z4.CP07..BH2 | 2012-11-09T00:00:00.011400Z - 2012-11-09T23:59:59.011400Z | 1.0 Hz, 86400 samples\n",
      "1 Trace(s) in Stream:\n",
      "Z4.CP07..BH2 | 2012-08-05T00:00:00.014000Z - 2012-08-05T23:59:59.014000Z | 1.0 Hz, 86400 samples\n",
      "1 Trace(s) in Stream:\n",
      "Z4.CP07..BH1 | 2012-10-02T00:00:00.001000Z - 2012-10-02T23:59:59.001000Z | 1.0 Hz, 86400 samples\n",
      "1 Trace(s) in Stream:\n",
      "Z4.CP07..BH2 | 2012-06-28T00:00:00.003600Z - 2012-06-28T23:59:59.003600Z | 1.0 Hz, 86400 samples\n"
     ]
    },
    {
     "name": "stderr",
     "output_type": "stream",
     "text": [
      " 48%|████▊     | 1796/3775 [01:48<01:41, 19.59it/s]"
     ]
    },
    {
     "name": "stdout",
     "output_type": "stream",
     "text": [
      "1 Trace(s) in Stream:\n",
      "Z4.CP07..BH2 | 2012-09-30T00:00:00.008300Z - 2012-09-30T23:59:59.008300Z | 1.0 Hz, 86400 samples\n",
      "1 Trace(s) in Stream:\n",
      "Z4.CP07..BHZ | 2012-09-10T00:00:00.006800Z - 2012-09-10T23:59:59.006800Z | 1.0 Hz, 86400 samples\n",
      "1 Trace(s) in Stream:\n",
      "Z4.CP07..BH1 | 2013-03-03T00:00:00.017700Z - 2013-03-03T23:59:59.017700Z | 1.0 Hz, 86400 samples\n",
      "1 Trace(s) in Stream:\n",
      "Z4.CP07..BH1 | 2013-02-25T00:00:00.014800Z - 2013-02-25T23:59:59.014800Z | 1.0 Hz, 86400 samples\n",
      "1 Trace(s) in Stream:\n",
      "Z4.CP07..BH2 | 2012-07-25T00:00:00.004400Z - 2012-07-25T23:59:59.004400Z | 1.0 Hz, 86400 samples\n"
     ]
    },
    {
     "name": "stderr",
     "output_type": "stream",
     "text": [
      " 48%|████▊     | 1802/3775 [01:49<01:43, 19.02it/s]"
     ]
    },
    {
     "name": "stdout",
     "output_type": "stream",
     "text": [
      "1 Trace(s) in Stream:\n",
      "Z4.CP07..BH1 | 2012-08-09T00:00:00.024300Z - 2012-08-09T23:59:59.024300Z | 1.0 Hz, 86400 samples\n",
      "1 Trace(s) in Stream:\n",
      "Z4.CP07..BH1 | 2012-07-25T00:00:00.004400Z - 2012-07-25T23:59:59.004400Z | 1.0 Hz, 86400 samples\n",
      "1 Trace(s) in Stream:\n",
      "Z4.CP07..BH2 | 2012-12-08T00:00:00.004900Z - 2012-12-08T23:59:59.004900Z | 1.0 Hz, 86400 samples\n",
      "1 Trace(s) in Stream:\n",
      "Z4.CP07..BHZ | 2012-12-11T00:00:00.018900Z - 2012-12-11T23:59:59.018900Z | 1.0 Hz, 86400 samples\n"
     ]
    },
    {
     "name": "stderr",
     "output_type": "stream",
     "text": [
      " 48%|████▊     | 1806/3775 [01:49<01:50, 17.86it/s]"
     ]
    },
    {
     "name": "stdout",
     "output_type": "stream",
     "text": [
      "1 Trace(s) in Stream:\n",
      "Z4.CP07..BH1 | 2012-12-11T00:00:00.018900Z - 2012-12-11T23:59:59.018900Z | 1.0 Hz, 86400 samples\n",
      "1 Trace(s) in Stream:\n",
      "Z4.CP07..BH1 | 2012-06-08T00:00:00.002000Z - 2012-06-08T23:59:59.002000Z | 1.0 Hz, 86400 samples\n",
      "1 Trace(s) in Stream:\n",
      "Z4.CP07..BHZ | 2012-11-21T00:00:00.017400Z - 2012-11-21T23:59:59.017400Z | 1.0 Hz, 86400 samples\n",
      "1 Trace(s) in Stream:\n",
      "Z4.CP07..BHZ | 2012-08-22T00:00:00.001600Z - 2012-08-22T23:59:59.001600Z | 1.0 Hz, 86400 samples\n",
      "1 Trace(s) in Stream:\n",
      "Z4.CP07..BHZ | 2012-06-01T00:00:00.002700Z - 2012-06-01T23:59:59.002700Z | 1.0 Hz, 86400 samples\n"
     ]
    },
    {
     "name": "stderr",
     "output_type": "stream",
     "text": [
      " 48%|████▊     | 1810/3775 [01:49<01:47, 18.33it/s]"
     ]
    },
    {
     "name": "stdout",
     "output_type": "stream",
     "text": [
      "1 Trace(s) in Stream:\n",
      "Z4.CP07..BH1 | 2013-01-02T00:00:00.013100Z - 2013-01-02T23:59:59.013100Z | 1.0 Hz, 86400 samples\n",
      "1 Trace(s) in Stream:\n",
      "Z4.CP07..BH1 | 2012-07-08T00:00:00.016900Z - 2012-07-08T23:59:59.016900Z | 1.0 Hz, 86400 samples\n",
      "1 Trace(s) in Stream:\n",
      "Z4.CP07..BHZ | 2013-02-17T00:00:00.019200Z - 2013-02-17T23:59:59.019200Z | 1.0 Hz, 86400 samples\n",
      "1 Trace(s) in Stream:\n",
      "Z4.CP07..BH2 | 2012-12-19T00:00:00.014500Z - 2012-12-19T23:59:59.014500Z | 1.0 Hz, 86400 samples\n"
     ]
    },
    {
     "name": "stderr",
     "output_type": "stream",
     "text": [
      " 48%|████▊     | 1814/3775 [01:50<01:53, 17.25it/s]"
     ]
    },
    {
     "name": "stdout",
     "output_type": "stream",
     "text": [
      "1 Trace(s) in Stream:\n",
      "Z4.CP07..BH2 | 2013-01-10T00:00:00.008700Z - 2013-01-10T23:59:59.008700Z | 1.0 Hz, 86400 samples\n",
      "1 Trace(s) in Stream:\n",
      "Z4.CP07..BH1 | 2013-03-05T00:00:00.010400Z - 2013-03-05T23:59:59.010400Z | 1.0 Hz, 86400 samples\n",
      "1 Trace(s) in Stream:\n",
      "Z4.CP07..BH1 | 2012-09-27T00:00:00.019400Z - 2012-09-27T23:59:59.019400Z | 1.0 Hz, 86400 samples\n",
      "1 Trace(s) in Stream:\n",
      "Z4.CP07..BH2 | 2012-10-23T00:00:00.023900Z - 2012-10-23T23:59:59.023900Z | 1.0 Hz, 86400 samples\n"
     ]
    },
    {
     "name": "stderr",
     "output_type": "stream",
     "text": [
      " 48%|████▊     | 1818/3775 [01:50<01:53, 17.24it/s]"
     ]
    },
    {
     "name": "stdout",
     "output_type": "stream",
     "text": [
      "1 Trace(s) in Stream:\n",
      "Z4.CP07..BH2 | 2013-02-22T00:00:00.000800Z - 2013-02-22T23:59:59.000800Z | 1.0 Hz, 86400 samples\n",
      "1 Trace(s) in Stream:\n",
      "Z4.CP07..BHZ | 2013-02-01T00:00:00.002900Z - 2013-02-01T23:59:59.002900Z | 1.0 Hz, 86400 samples\n",
      "1 Trace(s) in Stream:\n",
      "Z4.CP07..BH2 | 2012-05-28T00:00:00.017400Z - 2012-05-28T23:59:59.017400Z | 1.0 Hz, 86400 samples\n",
      "1 Trace(s) in Stream:\n",
      "Z4.CP07..BH2 | 2012-07-27T00:00:00.022100Z - 2012-07-27T23:59:59.022100Z | 1.0 Hz, 86400 samples\n"
     ]
    },
    {
     "name": "stderr",
     "output_type": "stream",
     "text": [
      " 48%|████▊     | 1824/3775 [01:50<01:37, 20.10it/s]"
     ]
    },
    {
     "name": "stdout",
     "output_type": "stream",
     "text": [
      "1 Trace(s) in Stream:\n",
      "Z4.CP07..BH1 | 2012-10-18T00:00:00.017200Z - 2012-10-18T23:59:59.017200Z | 1.0 Hz, 86400 samples\n",
      "1 Trace(s) in Stream:\n",
      "Z4.CP07..BHZ | 2012-09-01T00:00:00.014900Z - 2012-09-01T23:59:59.014900Z | 1.0 Hz, 86400 samples\n",
      "1 Trace(s) in Stream:\n",
      "Z4.CP07..BHZ | 2012-09-02T00:00:00.011200Z - 2012-09-02T23:59:59.011200Z | 1.0 Hz, 86400 samples\n",
      "1 Trace(s) in Stream:\n",
      "Z4.CP07..BH2 | 2012-08-24T00:00:00.019200Z - 2012-08-24T23:59:59.019200Z | 1.0 Hz, 86400 samples\n",
      "1 Trace(s) in Stream:\n",
      "Z4.CP07..BHZ | 2013-03-09T00:00:00.020700Z - 2013-03-09T23:59:59.020700Z | 1.0 Hz, 86400 samples\n"
     ]
    },
    {
     "name": "stderr",
     "output_type": "stream",
     "text": [
      " 48%|████▊     | 1828/3775 [01:50<01:39, 19.66it/s]"
     ]
    },
    {
     "name": "stdout",
     "output_type": "stream",
     "text": [
      "1 Trace(s) in Stream:\n",
      "Z4.CP07..BHZ | 2012-08-26T00:00:00.011900Z - 2012-08-26T23:59:59.011900Z | 1.0 Hz, 86400 samples\n",
      "1 Trace(s) in Stream:\n",
      "Z4.CP07..BH1 | 2012-07-27T00:00:00.022100Z - 2012-07-27T23:59:59.022100Z | 1.0 Hz, 86400 samples\n",
      "1 Trace(s) in Stream:\n",
      "Z4.CP07..BH1 | 2012-07-14T00:00:00.019800Z - 2012-07-14T23:59:59.019800Z | 1.0 Hz, 86400 samples\n",
      "1 Trace(s) in Stream:\n",
      "Z4.CP07..BHZ | 2013-02-18T00:00:00.015500Z - 2013-02-18T23:59:59.015500Z | 1.0 Hz, 86400 samples\n",
      "1 Trace(s) in Stream:\n",
      "Z4.CP07..BHZ | 2012-09-03T00:00:00.007500Z - 2012-09-03T23:59:59.007500Z | 1.0 Hz, 86400 samples\n"
     ]
    },
    {
     "name": "stderr",
     "output_type": "stream",
     "text": [
      "\r",
      " 49%|████▊     | 1831/3775 [01:50<01:31, 21.13it/s]"
     ]
    },
    {
     "name": "stdout",
     "output_type": "stream",
     "text": [
      "1 Trace(s) in Stream:\n",
      "Z4.CP07..BH1 | 2012-08-16T00:00:00.023600Z - 2012-08-16T23:59:59.023600Z | 1.0 Hz, 86400 samples\n",
      "1 Trace(s) in Stream:\n",
      "Z4.CP07..BHZ | 2012-07-03T00:00:00.010200Z - 2012-07-03T23:59:59.010200Z | 1.0 Hz, 86400 samples\n",
      "1 Trace(s) in Stream:\n",
      "Z4.CP07..BH2 | 2012-06-01T00:00:00.002700Z - 2012-06-01T23:59:59.002700Z | 1.0 Hz, 86400 samples\n",
      "1 Trace(s) in Stream:\n",
      "Z4.CP07..BH2 | 2013-02-17T00:00:00.019200Z - 2013-02-17T23:59:59.019200Z | 1.0 Hz, 86400 samples\n",
      "1 Trace(s) in Stream:\n",
      "Z4.CP07..BHZ | 2012-08-19T00:00:00.012600Z - 2012-08-19T23:59:59.012600Z | 1.0 Hz, 86400 samples\n"
     ]
    },
    {
     "name": "stderr",
     "output_type": "stream",
     "text": [
      " 49%|████▊     | 1837/3775 [01:51<01:39, 19.49it/s]"
     ]
    },
    {
     "name": "stdout",
     "output_type": "stream",
     "text": [
      "1 Trace(s) in Stream:\n",
      "Z4.CP07..BHZ | 2012-06-29T00:00:00.024900Z - 2012-06-29T23:59:59.024900Z | 1.0 Hz, 86400 samples\n",
      "1 Trace(s) in Stream:\n",
      "Z4.CP07..BH1 | 2012-08-23T00:00:00.022900Z - 2012-08-23T23:59:59.022900Z | 1.0 Hz, 86400 samples\n",
      "1 Trace(s) in Stream:\n",
      "Z4.CP07..BHZ | 2012-10-16T00:00:00.024600Z - 2012-10-16T23:59:59.024600Z | 1.0 Hz, 86400 samples\n",
      "1 Trace(s) in Stream:\n",
      "Z4.CP07..BHZ | 2012-08-15T00:00:00.002300Z - 2012-08-15T23:59:59.002300Z | 1.0 Hz, 86400 samples\n"
     ]
    },
    {
     "name": "stderr",
     "output_type": "stream",
     "text": [
      " 49%|████▉     | 1841/3775 [01:51<01:43, 18.63it/s]"
     ]
    },
    {
     "name": "stdout",
     "output_type": "stream",
     "text": [
      "1 Trace(s) in Stream:\n",
      "Z4.CP07..BHZ | 2013-02-07T00:00:00.005900Z - 2013-02-07T23:59:59.005900Z | 1.0 Hz, 86400 samples\n",
      "1 Trace(s) in Stream:\n",
      "Z4.CP07..BHZ | 2012-08-20T00:00:00.008900Z - 2012-08-20T23:59:59.008900Z | 1.0 Hz, 86400 samples\n",
      "1 Trace(s) in Stream:\n",
      "Z4.CP07..BH1 | 2012-11-11T00:00:00.004100Z - 2012-11-11T23:59:59.004100Z | 1.0 Hz, 86400 samples\n",
      "1 Trace(s) in Stream:\n",
      "Z4.CP07..BHZ | 2012-10-18T00:00:00.017200Z - 2012-10-18T23:59:59.017200Z | 1.0 Hz, 86400 samples\n"
     ]
    },
    {
     "name": "stderr",
     "output_type": "stream",
     "text": [
      "\r",
      " 49%|████▉     | 1844/3775 [01:51<01:38, 19.66it/s]"
     ]
    },
    {
     "name": "stdout",
     "output_type": "stream",
     "text": [
      "1 Trace(s) in Stream:\n",
      "Z4.CP07..BH1 | 2012-09-13T00:00:00.020800Z - 2012-09-13T23:59:59.020800Z | 1.0 Hz, 86400 samples\n",
      "1 Trace(s) in Stream:\n",
      "Z4.CP07..BH1 | 2012-12-15T00:00:00.004200Z - 2012-12-15T23:59:59.004200Z | 1.0 Hz, 86400 samples\n",
      "1 Trace(s) in Stream:\n",
      "Z4.CP07..BH1 | 2012-08-10T00:00:00.020700Z - 2012-08-10T23:59:59.020700Z | 1.0 Hz, 86400 samples\n",
      "1 Trace(s) in Stream:\n",
      "Z4.CP07..BH1 | 2012-09-30T00:00:00.008300Z - 2012-09-30T23:59:59.008300Z | 1.0 Hz, 86400 samples\n",
      "1 Trace(s) in Stream:\n",
      "Z4.CP07..BH2 | 2012-12-29T00:00:00.002800Z - 2012-12-29T23:59:59.002800Z | 1.0 Hz, 86400 samples\n"
     ]
    },
    {
     "name": "stderr",
     "output_type": "stream",
     "text": [
      " 49%|████▉     | 1851/3775 [01:51<01:44, 18.34it/s]"
     ]
    },
    {
     "name": "stdout",
     "output_type": "stream",
     "text": [
      "1 Trace(s) in Stream:\n",
      "Z4.CP07..BH1 | 2012-08-30T00:00:00.022200Z - 2012-08-30T23:59:59.022200Z | 1.0 Hz, 86400 samples\n",
      "1 Trace(s) in Stream:\n",
      "Z4.CP07..BH2 | 2012-05-30T00:00:00.010100Z - 2012-05-30T23:59:59.010100Z | 1.0 Hz, 86400 samples\n",
      "1 Trace(s) in Stream:\n",
      "Z4.CP07..BH1 | 2012-05-29T00:00:00.013800Z - 2012-05-29T23:59:59.013800Z | 1.0 Hz, 86400 samples\n",
      "1 Trace(s) in Stream:\n",
      "Z4.CP07..BHZ | 2012-06-10T00:00:00.019700Z - 2012-06-10T23:59:59.019700Z | 1.0 Hz, 86400 samples\n"
     ]
    },
    {
     "name": "stderr",
     "output_type": "stream",
     "text": [
      " 49%|████▉     | 1855/3775 [01:52<01:47, 17.93it/s]"
     ]
    },
    {
     "name": "stdout",
     "output_type": "stream",
     "text": [
      "1 Trace(s) in Stream:\n",
      "Z4.CP07..BH2 | 2012-07-17T00:00:00.008800Z - 2012-07-17T23:59:59.008800Z | 1.0 Hz, 86400 samples\n",
      "1 Trace(s) in Stream:\n",
      "Z4.CP07..BHZ | 2012-11-03T00:00:00.008500Z - 2012-11-03T23:59:59.008500Z | 1.0 Hz, 86400 samples\n",
      "1 Trace(s) in Stream:\n",
      "Z4.CP07..BH2 | 2012-10-06T00:00:00.011300Z - 2012-10-06T23:59:59.011300Z | 1.0 Hz, 86400 samples\n",
      "1 Trace(s) in Stream:\n",
      "Z4.CP07..BH2 | 2012-08-21T00:00:00.005300Z - 2012-08-21T23:59:59.005300Z | 1.0 Hz, 86400 samples\n"
     ]
    },
    {
     "name": "stderr",
     "output_type": "stream",
     "text": [
      "\r",
      " 49%|████▉     | 1857/3775 [01:52<01:47, 17.77it/s]"
     ]
    },
    {
     "name": "stdout",
     "output_type": "stream",
     "text": [
      "1 Trace(s) in Stream:\n",
      "Z4.CP07..BH2 | 2012-11-06T00:00:00.022500Z - 2012-11-06T23:59:59.022500Z | 1.0 Hz, 86400 samples\n",
      "1 Trace(s) in Stream:\n",
      "Z4.CP07..BHZ | 2012-12-18T00:00:00.018200Z - 2012-12-18T23:59:59.018200Z | 1.0 Hz, 86400 samples\n",
      "1 Trace(s) in Stream:\n",
      "Z4.CP07..BH1 | 2012-10-17T00:00:00.020900Z - 2012-10-17T23:59:59.020900Z | 1.0 Hz, 86400 samples\n",
      "1 Trace(s) in Stream:\n",
      "Z4.CP07..BHZ | 2012-09-24T00:00:00.005400Z - 2012-09-24T23:59:59.005400Z | 1.0 Hz, 86400 samples\n"
     ]
    },
    {
     "name": "stderr",
     "output_type": "stream",
     "text": [
      " 49%|████▉     | 1862/3775 [01:52<01:45, 18.15it/s]"
     ]
    },
    {
     "name": "stdout",
     "output_type": "stream",
     "text": [
      "1 Trace(s) in Stream:\n",
      "Z4.CP07..BHZ | 2012-05-31T00:00:00.006400Z - 2012-05-31T23:59:59.006400Z | 1.0 Hz, 86400 samples\n",
      "1 Trace(s) in Stream:\n",
      "Z4.CP07..BHZ | 2012-05-20T00:00:00.021800Z - 2012-05-20T23:59:59.021800Z | 1.0 Hz, 86400 samples\n",
      "1 Trace(s) in Stream:\n",
      "Z4.CP07..BH2 | 2012-12-07T00:00:00.008600Z - 2012-12-07T23:59:59.008600Z | 1.0 Hz, 86400 samples\n",
      "1 Trace(s) in Stream:\n",
      "Z4.CP07..BHZ | 2013-02-28T00:00:00.003800Z - 2013-02-28T23:59:59.003800Z | 1.0 Hz, 86400 samples\n"
     ]
    },
    {
     "name": "stderr",
     "output_type": "stream",
     "text": [
      " 49%|████▉     | 1866/3775 [01:52<01:53, 16.84it/s]"
     ]
    },
    {
     "name": "stdout",
     "output_type": "stream",
     "text": [
      "1 Trace(s) in Stream:\n",
      "Z4.CP07..BH2 | 2012-06-30T00:00:00.021200Z - 2012-06-30T23:59:59.021200Z | 1.0 Hz, 86400 samples\n",
      "1 Trace(s) in Stream:\n",
      "Z4.CP07..BH1 | 2013-01-04T00:00:00.005800Z - 2013-01-04T23:59:59.005800Z | 1.0 Hz, 86400 samples\n",
      "1 Trace(s) in Stream:\n",
      "Z4.CP07..BH1 | 2012-07-02T00:00:00.013900Z - 2012-07-02T23:59:59.013900Z | 1.0 Hz, 86400 samples\n",
      "1 Trace(s) in Stream:\n",
      "Z4.CP07..BHZ | 2012-08-24T00:00:00.019200Z - 2012-08-24T23:59:59.019200Z | 1.0 Hz, 86400 samples\n"
     ]
    },
    {
     "name": "stderr",
     "output_type": "stream",
     "text": [
      "\r",
      " 50%|████▉     | 1869/3775 [01:52<01:49, 17.34it/s]"
     ]
    },
    {
     "name": "stdout",
     "output_type": "stream",
     "text": [
      "1 Trace(s) in Stream:\n",
      "Z4.CP07..BH2 | 2012-09-12T00:00:00.024500Z - 2012-09-12T23:59:59.024500Z | 1.0 Hz, 86400 samples\n",
      "1 Trace(s) in Stream:\n",
      "Z4.CP07..BHZ | 2012-11-12T00:00:00.023100Z - 2012-11-12T23:59:59.023100Z | 1.0 Hz, 86400 samples\n",
      "1 Trace(s) in Stream:\n",
      "Z4.CP07..BH1 | 2013-02-17T00:00:00.019200Z - 2013-02-17T23:59:59.019200Z | 1.0 Hz, 86400 samples\n",
      "1 Trace(s) in Stream:\n",
      "Z4.CP07..BH2 | 2013-02-05T00:00:00.013200Z - 2013-02-05T23:59:59.013200Z | 1.0 Hz, 86400 samples\n",
      "1 Trace(s) in Stream:\n",
      "Z4.CP07..BHZ | 2012-07-01T00:00:00.017600Z - 2012-07-01T23:59:59.017600Z | 1.0 Hz, 86400 samples\n"
     ]
    },
    {
     "name": "stderr",
     "output_type": "stream",
     "text": [
      " 50%|████▉     | 1875/3775 [01:53<01:37, 19.55it/s]"
     ]
    },
    {
     "name": "stdout",
     "output_type": "stream",
     "text": [
      "1 Trace(s) in Stream:\n",
      "Z4.CP07..BH2 | 2012-12-01T00:00:00.005600Z - 2012-12-01T23:59:59.005600Z | 1.0 Hz, 86400 samples\n",
      "1 Trace(s) in Stream:\n",
      "Z4.CP07..BHZ | 2012-11-13T00:00:00.021700Z - 2012-11-13T23:59:59.021700Z | 1.0 Hz, 86400 samples\n",
      "1 Trace(s) in Stream:\n",
      "Z4.CP07..BH2 | 2012-10-03T00:00:00.022300Z - 2012-10-03T23:59:59.022300Z | 1.0 Hz, 86400 samples\n",
      "1 Trace(s) in Stream:\n",
      "Z4.CP07..BH2 | 2012-10-15T00:00:00.003300Z - 2012-10-15T23:59:59.003300Z | 1.0 Hz, 86400 samples\n",
      "1 Trace(s) in Stream:\n",
      "Z4.CP07..BH2 | 2012-08-19T00:00:00.012600Z - 2012-08-19T23:59:59.012600Z | 1.0 Hz, 86400 samples\n"
     ]
    },
    {
     "name": "stderr",
     "output_type": "stream",
     "text": [
      " 50%|████▉     | 1881/3775 [01:53<01:39, 18.99it/s]"
     ]
    },
    {
     "name": "stdout",
     "output_type": "stream",
     "text": [
      "1 Trace(s) in Stream:\n",
      "Z4.CP07..BH1 | 2013-01-30T00:00:00.010300Z - 2013-01-30T23:59:59.010300Z | 1.0 Hz, 86400 samples\n",
      "1 Trace(s) in Stream:\n",
      "Z4.CP07..BH1 | 2012-08-14T00:00:00.006000Z - 2012-08-14T23:59:59.006000Z | 1.0 Hz, 86400 samples\n",
      "1 Trace(s) in Stream:\n",
      "Z4.CP07..BHZ | 2012-09-04T00:00:00.003800Z - 2012-09-04T23:59:59.003800Z | 1.0 Hz, 86400 samples\n",
      "1 Trace(s) in Stream:\n",
      "Z4.CP07..BHZ | 2012-12-17T00:00:00.021900Z - 2012-12-17T23:59:59.021900Z | 1.0 Hz, 86400 samples\n",
      "1 Trace(s) in Stream:\n",
      "Z4.CP07..BHZ | 2012-12-06T00:00:00.012300Z - 2012-12-06T23:59:59.012300Z | 1.0 Hz, 86400 samples\n"
     ]
    },
    {
     "name": "stderr",
     "output_type": "stream",
     "text": [
      "\r",
      " 50%|████▉     | 1884/3775 [01:53<01:38, 19.29it/s]"
     ]
    },
    {
     "name": "stdout",
     "output_type": "stream",
     "text": [
      "1 Trace(s) in Stream:\n",
      "Z4.CP06..BH1 | 2012-08-06T00:00:00.019900Z - 2012-08-06T23:59:59.019900Z | 1.0 Hz, 86400 samples\n",
      "1 Trace(s) in Stream:\n",
      "Z4.CP06..BHZ | 2013-01-31T00:00:00.023500Z - 2013-01-31T23:59:59.023500Z | 1.0 Hz, 86400 samples\n",
      "1 Trace(s) in Stream:\n",
      "Z4.CP06..BH1 | 2012-10-23T00:00:00.017000Z - 2012-10-23T23:59:59.017000Z | 1.0 Hz, 86400 samples\n"
     ]
    },
    {
     "name": "stderr",
     "output_type": "stream",
     "text": [
      " 50%|█████     | 1890/3775 [01:54<01:45, 17.93it/s]"
     ]
    },
    {
     "name": "stdout",
     "output_type": "stream",
     "text": [
      "1 Trace(s) in Stream:\n",
      "Z4.CP06..BHZ | 2012-07-30T00:00:00.008900Z - 2012-07-30T23:59:59.008900Z | 1.0 Hz, 86400 samples\n",
      "1 Trace(s) in Stream:\n",
      "Z4.CP06..BHZ | 2012-10-09T00:00:00.020100Z - 2012-10-09T23:59:59.020100Z | 1.0 Hz, 86400 samples\n",
      "1 Trace(s) in Stream:\n",
      "Z4.CP06..BH1 | 2013-01-08T00:00:00.012500Z - 2013-01-08T23:59:59.012500Z | 1.0 Hz, 86400 samples\n",
      "1 Trace(s) in Stream:\n",
      "Z4.CP06..BH1 | 2012-12-16T00:00:00.001500Z - 2012-12-16T23:59:59.001500Z | 1.0 Hz, 86400 samples\n",
      "1 Trace(s) in Stream:\n",
      "Z4.CP06..BHZ | 2012-10-16T00:00:00.006000Z - 2012-10-16T23:59:59.006000Z | 1.0 Hz, 86400 samples\n"
     ]
    },
    {
     "name": "stderr",
     "output_type": "stream",
     "text": [
      " 50%|█████     | 1894/3775 [01:54<01:43, 18.20it/s]"
     ]
    },
    {
     "name": "stdout",
     "output_type": "stream",
     "text": [
      "1 Trace(s) in Stream:\n",
      "Z4.CP06..BH1 | 2013-03-14T00:00:00.014200Z - 2013-03-14T23:59:59.014200Z | 1.0 Hz, 86400 samples\n",
      "1 Trace(s) in Stream:\n",
      "Z4.CP06..BH2 | 2012-12-09T00:00:00.015500Z - 2012-12-09T23:59:59.015500Z | 1.0 Hz, 86400 samples\n",
      "1 Trace(s) in Stream:\n",
      "Z4.CP06..BHZ | 2012-05-26T00:00:00.007200Z - 2012-05-26T23:59:59.007200Z | 1.0 Hz, 86400 samples\n",
      "1 Trace(s) in Stream:\n",
      "Z4.CP06..BH2 | 2012-05-23T00:00:00.002500Z - 2012-05-23T23:59:59.002500Z | 1.0 Hz, 86400 samples\n"
     ]
    },
    {
     "name": "stderr",
     "output_type": "stream",
     "text": [
      " 50%|█████     | 1898/3775 [01:54<01:45, 17.80it/s]"
     ]
    },
    {
     "name": "stdout",
     "output_type": "stream",
     "text": [
      "1 Trace(s) in Stream:\n",
      "Z4.CP06..BH2 | 2012-10-24T00:00:00.018500Z - 2012-10-24T23:59:59.018500Z | 1.0 Hz, 86400 samples\n",
      "1 Trace(s) in Stream:\n",
      "Z4.CP06..BH2 | 2012-07-08T00:00:00.024500Z - 2012-07-08T23:59:59.024500Z | 1.0 Hz, 86400 samples\n",
      "1 Trace(s) in Stream:\n",
      "Z4.CP06..BH2 | 2012-12-22T00:00:00.010900Z - 2012-12-22T23:59:59.010900Z | 1.0 Hz, 86400 samples\n",
      "1 Trace(s) in Stream:\n",
      "Z4.CP06..BHZ | 2012-07-15T00:00:00.010500Z - 2012-07-15T23:59:59.010500Z | 1.0 Hz, 86400 samples\n"
     ]
    },
    {
     "name": "stderr",
     "output_type": "stream",
     "text": [
      " 50%|█████     | 1902/3775 [01:54<01:47, 17.48it/s]"
     ]
    },
    {
     "name": "stdout",
     "output_type": "stream",
     "text": [
      "1 Trace(s) in Stream:\n",
      "Z4.CP06..BHZ | 2012-05-12T00:00:00.010300Z - 2012-05-12T23:59:59.010300Z | 1.0 Hz, 86400 samples\n",
      "1 Trace(s) in Stream:\n",
      "Z4.CP06..BHZ | 2012-06-23T00:00:00.001000Z - 2012-06-23T23:59:59.001000Z | 1.0 Hz, 86400 samples\n",
      "1 Trace(s) in Stream:\n",
      "Z4.CP06..BH1 | 2012-12-01T00:00:00.003000Z - 2012-12-01T23:59:59.003000Z | 1.0 Hz, 86400 samples\n",
      "1 Trace(s) in Stream:\n",
      "Z4.CP06..BH2 | 2012-10-19T00:00:00.010700Z - 2012-10-19T23:59:59.010700Z | 1.0 Hz, 86400 samples\n"
     ]
    },
    {
     "name": "stderr",
     "output_type": "stream",
     "text": [
      "\r",
      " 50%|█████     | 1904/3775 [01:54<01:47, 17.39it/s]"
     ]
    },
    {
     "name": "stdout",
     "output_type": "stream",
     "text": [
      "1 Trace(s) in Stream:\n",
      "Z4.CP06..BH1 | 2013-03-03T00:00:00.022000Z - 2013-03-03T23:59:59.022000Z | 1.0 Hz, 86400 samples\n",
      "1 Trace(s) in Stream:\n",
      "Z4.CP06..BHZ | 2012-07-24T00:00:00.024600Z - 2012-07-24T23:59:59.024600Z | 1.0 Hz, 86400 samples\n",
      "1 Trace(s) in Stream:\n",
      "Z4.CP06..BHZ | 2012-12-30T00:00:00.023400Z - 2012-12-30T23:59:59.023400Z | 1.0 Hz, 86400 samples\n",
      "1 Trace(s) in Stream:\n",
      "Z4.CP06..BHZ | 2012-09-24T00:00:00.021600Z - 2012-09-24T23:59:59.021600Z | 1.0 Hz, 86400 samples\n"
     ]
    },
    {
     "name": "stderr",
     "output_type": "stream",
     "text": [
      " 51%|█████     | 1909/3775 [01:55<01:45, 17.73it/s]"
     ]
    },
    {
     "name": "stdout",
     "output_type": "stream",
     "text": [
      "1 Trace(s) in Stream:\n",
      "Z4.CP06..BHZ | 2013-01-22T00:00:00.009400Z - 2013-01-22T23:59:59.009400Z | 1.0 Hz, 86400 samples\n",
      "1 Trace(s) in Stream:\n",
      "Z4.CP06..BHZ | 2012-12-07T00:00:00.012400Z - 2012-12-07T23:59:59.012400Z | 1.0 Hz, 86400 samples\n",
      "1 Trace(s) in Stream:\n",
      "Z4.CP06..BHZ | 2012-10-02T00:00:00.009100Z - 2012-10-02T23:59:59.009100Z | 1.0 Hz, 86400 samples\n",
      "1 Trace(s) in Stream:\n",
      "Z4.CP06..BHZ | 2012-08-09T00:00:00.024600Z - 2012-08-09T23:59:59.024600Z | 1.0 Hz, 86400 samples\n",
      "1 Trace(s) in Stream:\n",
      "Z4.CP06..BH1 | 2013-01-06T00:00:00.009300Z - 2013-01-06T23:59:59.009300Z | 1.0 Hz, 86400 samples\n"
     ]
    },
    {
     "name": "stderr",
     "output_type": "stream",
     "text": [
      " 51%|█████     | 1914/3775 [01:55<01:39, 18.71it/s]"
     ]
    },
    {
     "name": "stdout",
     "output_type": "stream",
     "text": [
      "1 Trace(s) in Stream:\n",
      "Z4.CP06..BH2 | 2013-01-09T00:00:00.014000Z - 2013-01-09T23:59:59.014000Z | 1.0 Hz, 86400 samples\n",
      "1 Trace(s) in Stream:\n",
      "Z4.CP06..BH1 | 2012-05-23T00:00:00.002500Z - 2012-05-23T23:59:59.002500Z | 1.0 Hz, 86400 samples\n",
      "1 Trace(s) in Stream:\n",
      "Z4.CP06..BH2 | 2013-02-11T00:00:00.015700Z - 2013-02-11T23:59:59.015700Z | 1.0 Hz, 86400 samples\n",
      "1 Trace(s) in Stream:\n",
      "Z4.CP06..BH1 | 2013-02-09T00:00:00.012600Z - 2013-02-09T23:59:59.012600Z | 1.0 Hz, 86400 samples\n"
     ]
    },
    {
     "name": "stderr",
     "output_type": "stream",
     "text": [
      " 51%|█████     | 1919/3775 [01:55<01:32, 19.97it/s]"
     ]
    },
    {
     "name": "stdout",
     "output_type": "stream",
     "text": [
      "1 Trace(s) in Stream:\n",
      "Z4.CP06..BHZ | 2012-06-21T00:00:00.022900Z - 2012-06-21T23:59:59.022900Z | 1.0 Hz, 86400 samples\n",
      "1 Trace(s) in Stream:\n",
      "Z4.CP06..BH2 | 2012-09-01T00:00:00.010600Z - 2012-09-01T23:59:59.010600Z | 1.0 Hz, 86400 samples\n",
      "1 Trace(s) in Stream:\n",
      "Z4.CP06..BH2 | 2012-09-22T00:00:00.018500Z - 2012-09-22T23:59:59.018500Z | 1.0 Hz, 86400 samples\n",
      "1 Trace(s) in Stream:\n",
      "Z4.CP06..BH2 | 2012-08-31T00:00:00.009000Z - 2012-08-31T23:59:59.009000Z | 1.0 Hz, 86400 samples\n",
      "1 Trace(s) in Stream:\n",
      "Z4.CP06..BHZ | 2012-05-13T00:00:00.011900Z - 2012-05-13T23:59:59.011900Z | 1.0 Hz, 86400 samples\n",
      "1 Trace(s) in Stream:\n",
      "Z4.CP06..BH1 | 2013-01-25T00:00:00.014100Z - 2013-01-25T23:59:59.014100Z | 1.0 Hz, 86400 samples\n"
     ]
    },
    {
     "name": "stderr",
     "output_type": "stream",
     "text": [
      " 51%|█████     | 1924/3775 [01:55<01:32, 19.95it/s]"
     ]
    },
    {
     "name": "stdout",
     "output_type": "stream",
     "text": [
      "1 Trace(s) in Stream:\n",
      "Z4.CP06..BH1 | 2012-12-08T00:00:00.014000Z - 2012-12-08T23:59:59.014000Z | 1.0 Hz, 86400 samples\n",
      "1 Trace(s) in Stream:\n",
      "Z4.CP06..BH2 | 2012-09-13T00:00:00.004400Z - 2012-09-13T23:59:59.004400Z | 1.0 Hz, 86400 samples\n",
      "1 Trace(s) in Stream:\n",
      "Z4.CP06..BH2 | 2012-05-19T00:00:00.021300Z - 2012-05-19T23:59:59.021300Z | 1.0 Hz, 86400 samples\n",
      "1 Trace(s) in Stream:\n",
      "Z4.CP06..BH1 | 2013-01-12T00:00:00.018700Z - 2013-01-12T23:59:59.018700Z | 1.0 Hz, 86400 samples\n",
      "1 Trace(s) in Stream:\n",
      "Z4.CP06..BHZ | 2012-08-31T00:00:00.009000Z - 2012-08-31T23:59:59.009000Z | 1.0 Hz, 86400 samples\n"
     ]
    },
    {
     "name": "stderr",
     "output_type": "stream",
     "text": [
      " 51%|█████     | 1930/3775 [01:56<01:39, 18.47it/s]"
     ]
    },
    {
     "name": "stdout",
     "output_type": "stream",
     "text": [
      "1 Trace(s) in Stream:\n",
      "Z4.CP06..BH2 | 2012-09-03T00:00:00.013700Z - 2012-09-03T23:59:59.013700Z | 1.0 Hz, 86400 samples\n",
      "1 Trace(s) in Stream:\n",
      "Z4.CP06..BHZ | 2013-02-23T00:00:00.009500Z - 2013-02-23T23:59:59.009500Z | 1.0 Hz, 86400 samples\n",
      "1 Trace(s) in Stream:\n",
      "Z4.CP06..BH1 | 2012-07-08T00:00:00.024500Z - 2012-07-08T23:59:59.024500Z | 1.0 Hz, 86400 samples\n",
      "1 Trace(s) in Stream:\n",
      "Z4.CP06..BH1 | 2012-12-20T00:00:00.007700Z - 2012-12-20T23:59:59.007700Z | 1.0 Hz, 86400 samples\n"
     ]
    },
    {
     "name": "stderr",
     "output_type": "stream",
     "text": [
      " 51%|█████     | 1934/3775 [01:56<01:38, 18.68it/s]"
     ]
    },
    {
     "name": "stdout",
     "output_type": "stream",
     "text": [
      "1 Trace(s) in Stream:\n",
      "Z4.CP06..BHZ | 2013-01-14T00:00:00.021900Z - 2013-01-14T23:59:59.021900Z | 1.0 Hz, 86400 samples\n",
      "1 Trace(s) in Stream:\n",
      "Z4.CP06..BHZ | 2012-10-12T00:00:00.024800Z - 2012-10-12T23:59:59.024800Z | 1.0 Hz, 86400 samples\n",
      "1 Trace(s) in Stream:\n",
      "Z4.CP06..BHZ | 2012-10-07T00:00:00.016900Z - 2012-10-07T23:59:59.016900Z | 1.0 Hz, 86400 samples\n",
      "1 Trace(s) in Stream:\n",
      "Z4.CP06..BH1 | 2012-09-08T00:00:00.021500Z - 2012-09-08T23:59:59.021500Z | 1.0 Hz, 86400 samples\n"
     ]
    },
    {
     "name": "stderr",
     "output_type": "stream",
     "text": [
      " 51%|█████▏    | 1939/3775 [01:56<01:34, 19.34it/s]"
     ]
    },
    {
     "name": "stdout",
     "output_type": "stream",
     "text": [
      "1 Trace(s) in Stream:\n",
      "Z4.CP06..BH1 | 2012-12-23T00:00:00.012400Z - 2012-12-23T23:59:59.012400Z | 1.0 Hz, 86400 samples\n",
      "1 Trace(s) in Stream:\n",
      "Z4.CP06..BH1 | 2012-06-11T00:00:00.007300Z - 2012-06-11T23:59:59.007300Z | 1.0 Hz, 86400 samples\n",
      "1 Trace(s) in Stream:\n",
      "Z4.CP06..BHZ | 2012-08-24T00:00:00.023100Z - 2012-08-24T23:59:59.023100Z | 1.0 Hz, 86400 samples\n",
      "1 Trace(s) in Stream:\n",
      "Z4.CP06..BH1 | 2012-09-12T00:00:00.002800Z - 2012-09-12T23:59:59.002800Z | 1.0 Hz, 86400 samples\n",
      "1 Trace(s) in Stream:\n",
      "Z4.CP06..BH2 | 2012-12-06T00:00:00.010800Z - 2012-12-06T23:59:59.010800Z | 1.0 Hz, 86400 samples\n"
     ]
    },
    {
     "name": "stderr",
     "output_type": "stream",
     "text": [
      " 51%|█████▏    | 1943/3775 [01:56<01:34, 19.41it/s]"
     ]
    },
    {
     "name": "stdout",
     "output_type": "stream",
     "text": [
      "1 Trace(s) in Stream:\n",
      "Z4.CP06..BH2 | 2012-09-24T00:00:00.021600Z - 2012-09-24T23:59:59.021600Z | 1.0 Hz, 86400 samples\n",
      "1 Trace(s) in Stream:\n",
      "Z4.CP06..BH2 | 2012-09-27T00:00:00.001300Z - 2012-09-27T23:59:59.001300Z | 1.0 Hz, 86400 samples\n",
      "1 Trace(s) in Stream:\n",
      "Z4.CP06..BH2 | 2012-05-29T00:00:00.011900Z - 2012-05-29T23:59:59.011900Z | 1.0 Hz, 86400 samples\n",
      "1 Trace(s) in Stream:\n",
      "Z4.CP06..BH1 | 2012-08-09T00:00:00.024600Z - 2012-08-09T23:59:59.024600Z | 1.0 Hz, 86400 samples\n"
     ]
    },
    {
     "name": "stderr",
     "output_type": "stream",
     "text": [
      "\r",
      " 52%|█████▏    | 1945/3775 [01:56<01:34, 19.42it/s]"
     ]
    },
    {
     "name": "stdout",
     "output_type": "stream",
     "text": [
      "1 Trace(s) in Stream:\n",
      "Z4.CP06..BHZ | 2012-09-23T00:00:00.020000Z - 2012-09-23T23:59:59.020000Z | 1.0 Hz, 86400 samples\n",
      "1 Trace(s) in Stream:\n",
      "Z4.CP06..BH2 | 2012-07-12T00:00:00.005800Z - 2012-07-12T23:59:59.005800Z | 1.0 Hz, 86400 samples\n",
      "1 Trace(s) in Stream:\n",
      "Z4.CP06..BH1 | 2012-09-06T00:00:00.018400Z - 2012-09-06T23:59:59.018400Z | 1.0 Hz, 86400 samples\n",
      "1 Trace(s) in Stream:\n",
      "Z4.CP06..BHZ | 2012-08-28T00:00:00.004300Z - 2012-08-28T23:59:59.004300Z | 1.0 Hz, 86400 samples\n"
     ]
    },
    {
     "name": "stderr",
     "output_type": "stream",
     "text": [
      " 52%|█████▏    | 1950/3775 [01:57<01:34, 19.23it/s]"
     ]
    },
    {
     "name": "stdout",
     "output_type": "stream",
     "text": [
      "1 Trace(s) in Stream:\n",
      "Z4.CP06..BH1 | 2012-08-27T00:00:00.002800Z - 2012-08-27T23:59:59.002800Z | 1.0 Hz, 86400 samples\n",
      "1 Trace(s) in Stream:\n",
      "Z4.CP06..BH2 | 2012-12-25T00:00:00.015600Z - 2012-12-25T23:59:59.015600Z | 1.0 Hz, 86400 samples\n",
      "1 Trace(s) in Stream:\n",
      "Z4.CP06..BH2 | 2012-08-06T00:00:00.019900Z - 2012-08-06T23:59:59.019900Z | 1.0 Hz, 86400 samples\n",
      "1 Trace(s) in Stream:\n",
      "Z4.CP06..BH2 | 2012-07-30T00:00:00.008900Z - 2012-07-30T23:59:59.008900Z | 1.0 Hz, 86400 samples\n"
     ]
    },
    {
     "name": "stderr",
     "output_type": "stream",
     "text": [
      " 52%|█████▏    | 1954/3775 [01:57<01:36, 18.96it/s]"
     ]
    },
    {
     "name": "stdout",
     "output_type": "stream",
     "text": [
      "1 Trace(s) in Stream:\n",
      "Z4.CP06..BH1 | 2013-02-24T00:00:00.011000Z - 2013-02-24T23:59:59.011000Z | 1.0 Hz, 86400 samples\n",
      "1 Trace(s) in Stream:\n",
      "Z4.CP06..BH2 | 2012-12-27T00:00:00.018700Z - 2012-12-27T23:59:59.018700Z | 1.0 Hz, 86400 samples\n",
      "1 Trace(s) in Stream:\n",
      "Z4.CP06..BHZ | 2013-01-01T00:00:00.001500Z - 2013-01-01T23:59:59.001500Z | 1.0 Hz, 86400 samples\n",
      "1 Trace(s) in Stream:\n",
      "Z4.CP06..BH1 | 2013-01-13T00:00:00.020300Z - 2013-01-13T23:59:59.020300Z | 1.0 Hz, 86400 samples\n"
     ]
    },
    {
     "name": "stderr",
     "output_type": "stream",
     "text": [
      " 52%|█████▏    | 1958/3775 [01:57<01:36, 18.80it/s]"
     ]
    },
    {
     "name": "stdout",
     "output_type": "stream",
     "text": [
      "1 Trace(s) in Stream:\n",
      "Z4.CP06..BH2 | 2012-05-13T00:00:00.011900Z - 2012-05-13T23:59:59.011900Z | 1.0 Hz, 86400 samples\n",
      "1 Trace(s) in Stream:\n",
      "Z4.CP06..BH1 | 2012-09-04T00:00:00.015300Z - 2012-09-04T23:59:59.015300Z | 1.0 Hz, 86400 samples\n",
      "1 Trace(s) in Stream:\n",
      "Z4.CP06..BH2 | 2012-12-10T00:00:00.017100Z - 2012-12-10T23:59:59.017100Z | 1.0 Hz, 86400 samples\n",
      "1 Trace(s) in Stream:\n",
      "Z4.CP06..BH2 | 2012-05-20T00:00:00.022800Z - 2012-05-20T23:59:59.022800Z | 1.0 Hz, 86400 samples\n",
      "1 Trace(s) in Stream:\n",
      "Z4.CP06..BH1 | 2012-11-25T00:00:00.018600Z - 2012-11-25T23:59:59.018600Z | 1.0 Hz, 86400 samples\n",
      "1 Trace(s) in Stream:\n",
      "Z4.CP06..BH2 | 2013-03-04T00:00:00.023600Z - 2013-03-04T23:59:59.023600Z | 1.0 Hz, 86400 samples\n"
     ]
    },
    {
     "name": "stderr",
     "output_type": "stream",
     "text": [
      " 52%|█████▏    | 1965/3775 [01:58<01:37, 18.59it/s]"
     ]
    },
    {
     "name": "stdout",
     "output_type": "stream",
     "text": [
      "1 Trace(s) in Stream:\n",
      "Z4.CP06..BH2 | 2012-06-17T00:00:00.016600Z - 2012-06-17T23:59:59.016600Z | 1.0 Hz, 86400 samples\n",
      "1 Trace(s) in Stream:\n",
      "Z4.CP06..BH1 | 2012-05-10T00:00:00.007200Z - 2012-05-10T23:59:59.007200Z | 1.0 Hz, 86400 samples\n",
      "1 Trace(s) in Stream:\n",
      "Z4.CP06..BHZ | 2013-01-13T00:00:00.020300Z - 2013-01-13T23:59:59.020300Z | 1.0 Hz, 86400 samples\n",
      "1 Trace(s) in Stream:\n",
      "Z4.CP06..BH2 | 2013-02-15T00:00:00.021900Z - 2013-02-15T23:59:59.021900Z | 1.0 Hz, 86400 samples\n"
     ]
    },
    {
     "name": "stderr",
     "output_type": "stream",
     "text": [
      "\r",
      " 52%|█████▏    | 1968/3775 [01:58<01:36, 18.79it/s]"
     ]
    },
    {
     "name": "stdout",
     "output_type": "stream",
     "text": [
      "1 Trace(s) in Stream:\n",
      "Z4.CP06..BH1 | 2012-08-31T00:00:00.009000Z - 2012-08-31T23:59:59.009000Z | 1.0 Hz, 86400 samples\n",
      "1 Trace(s) in Stream:\n",
      "Z4.CP06..BHZ | 2012-12-01T00:00:00.003000Z - 2012-12-01T23:59:59.003000Z | 1.0 Hz, 86400 samples\n",
      "1 Trace(s) in Stream:\n",
      "Z4.CP06..BH2 | 2012-07-09T00:00:00.001100Z - 2012-07-09T23:59:59.001100Z | 1.0 Hz, 86400 samples\n",
      "1 Trace(s) in Stream:\n",
      "Z4.CP06..BH2 | 2012-10-27T00:00:00.023200Z - 2012-10-27T23:59:59.023200Z | 1.0 Hz, 86400 samples\n"
     ]
    },
    {
     "name": "stderr",
     "output_type": "stream",
     "text": [
      " 52%|█████▏    | 1972/3775 [01:58<01:38, 18.35it/s]"
     ]
    },
    {
     "name": "stdout",
     "output_type": "stream",
     "text": [
      "1 Trace(s) in Stream:\n",
      "Z4.CP06..BH2 | 2012-06-05T00:00:00.022900Z - 2012-06-05T23:59:59.022900Z | 1.0 Hz, 86400 samples\n",
      "1 Trace(s) in Stream:\n",
      "Z4.CP06..BH2 | 2012-07-19T00:00:00.016700Z - 2012-07-19T23:59:59.016700Z | 1.0 Hz, 86400 samples\n",
      "1 Trace(s) in Stream:\n",
      "Z4.CP06..BH2 | 2012-06-23T00:00:00.001000Z - 2012-06-23T23:59:59.001000Z | 1.0 Hz, 86400 samples\n",
      "1 Trace(s) in Stream:\n",
      "Z4.CP06..BH2 | 2012-12-18T00:00:00.004600Z - 2012-12-18T23:59:59.004600Z | 1.0 Hz, 86400 samples\n"
     ]
    },
    {
     "name": "stderr",
     "output_type": "stream",
     "text": [
      " 52%|█████▏    | 1977/3775 [01:58<01:42, 17.57it/s]"
     ]
    },
    {
     "name": "stdout",
     "output_type": "stream",
     "text": [
      "1 Trace(s) in Stream:\n",
      "Z4.CP06..BH1 | 2013-01-01T00:00:00.001500Z - 2013-01-01T23:59:59.001500Z | 1.0 Hz, 86400 samples\n",
      "1 Trace(s) in Stream:\n",
      "Z4.CP06..BH2 | 2012-08-22T00:00:00.019900Z - 2012-08-22T23:59:59.019900Z | 1.0 Hz, 86400 samples\n",
      "1 Trace(s) in Stream:\n",
      "Z4.CP06..BHZ | 2013-02-15T00:00:00.021900Z - 2013-02-15T23:59:59.021900Z | 1.0 Hz, 86400 samples\n",
      "1 Trace(s) in Stream:\n",
      "Z4.CP06..BH2 | 2012-10-16T00:00:00.006000Z - 2012-10-16T23:59:59.006000Z | 1.0 Hz, 86400 samples\n",
      "1 Trace(s) in Stream:\n",
      "Z4.CP06..BH2 | 2012-11-14T00:00:00.001400Z - 2012-11-14T23:59:59.001400Z | 1.0 Hz, 86400 samples\n"
     ]
    },
    {
     "name": "stderr",
     "output_type": "stream",
     "text": [
      " 52%|█████▏    | 1981/3775 [01:58<01:42, 17.47it/s]"
     ]
    },
    {
     "name": "stdout",
     "output_type": "stream",
     "text": [
      "1 Trace(s) in Stream:\n",
      "Z4.CP06..BH1 | 2012-10-26T00:00:00.021700Z - 2012-10-26T23:59:59.021700Z | 1.0 Hz, 86400 samples\n",
      "1 Trace(s) in Stream:\n",
      "Z4.CP06..BH1 | 2012-10-30T00:00:00.002900Z - 2012-10-30T23:59:59.002900Z | 1.0 Hz, 86400 samples\n",
      "1 Trace(s) in Stream:\n",
      "Z4.CP06..BH2 | 2012-05-06T00:00:00.000900Z - 2012-05-06T23:59:59.000900Z | 1.0 Hz, 86400 samples\n",
      "1 Trace(s) in Stream:\n",
      "Z4.CP06..BH1 | 2012-10-04T00:00:00.012200Z - 2012-10-04T23:59:59.012200Z | 1.0 Hz, 86400 samples\n"
     ]
    },
    {
     "name": "stderr",
     "output_type": "stream",
     "text": [
      " 53%|█████▎    | 1985/3775 [01:59<01:39, 17.97it/s]"
     ]
    },
    {
     "name": "stdout",
     "output_type": "stream",
     "text": [
      "1 Trace(s) in Stream:\n",
      "Z4.CP06..BH1 | 2012-10-05T00:00:00.013800Z - 2012-10-05T23:59:59.013800Z | 1.0 Hz, 86400 samples\n",
      "1 Trace(s) in Stream:\n",
      "Z4.CP06..BH2 | 2012-09-23T00:00:00.020000Z - 2012-09-23T23:59:59.020000Z | 1.0 Hz, 86400 samples\n",
      "1 Trace(s) in Stream:\n",
      "Z4.CP06..BH1 | 2012-06-26T00:00:00.005700Z - 2012-06-26T23:59:59.005700Z | 1.0 Hz, 86400 samples\n",
      "1 Trace(s) in Stream:\n",
      "Z4.CP06..BHZ | 2012-05-23T00:00:00.002500Z - 2012-05-23T23:59:59.002500Z | 1.0 Hz, 86400 samples\n",
      "1 Trace(s) in Stream:\n",
      "Z4.CP06..BHZ | 2012-10-06T00:00:00.015400Z - 2012-10-06T23:59:59.015400Z | 1.0 Hz, 86400 samples\n"
     ]
    },
    {
     "name": "stderr",
     "output_type": "stream",
     "text": [
      " 53%|█████▎    | 1990/3775 [01:59<01:34, 18.80it/s]"
     ]
    },
    {
     "name": "stdout",
     "output_type": "stream",
     "text": [
      "1 Trace(s) in Stream:\n",
      "Z4.CP06..BH2 | 2012-11-12T00:00:00.023300Z - 2012-11-12T23:59:59.023300Z | 1.0 Hz, 86400 samples\n",
      "1 Trace(s) in Stream:\n",
      "Z4.CP06..BH2 | 2013-01-03T00:00:00.004600Z - 2013-01-03T23:59:59.004600Z | 1.0 Hz, 86400 samples\n",
      "1 Trace(s) in Stream:\n",
      "Z4.CP06..BHZ | 2012-10-17T00:00:00.007600Z - 2012-10-17T23:59:59.007600Z | 1.0 Hz, 86400 samples\n",
      "1 Trace(s) in Stream:\n",
      "Z4.CP06..BH1 | 2012-11-06T00:00:00.013900Z - 2012-11-06T23:59:59.013900Z | 1.0 Hz, 86400 samples\n"
     ]
    },
    {
     "name": "stderr",
     "output_type": "stream",
     "text": [
      " 53%|█████▎    | 1995/3775 [01:59<01:33, 19.09it/s]"
     ]
    },
    {
     "name": "stdout",
     "output_type": "stream",
     "text": [
      "1 Trace(s) in Stream:\n",
      "Z4.CP06..BHZ | 2012-09-04T00:00:00.015300Z - 2012-09-04T23:59:59.015300Z | 1.0 Hz, 86400 samples\n",
      "1 Trace(s) in Stream:\n",
      "Z4.CP06..BH2 | 2012-09-02T00:00:00.012200Z - 2012-09-02T23:59:59.012200Z | 1.0 Hz, 86400 samples\n",
      "1 Trace(s) in Stream:\n",
      "Z4.CP06..BH1 | 2012-11-02T00:00:00.007600Z - 2012-11-02T23:59:59.007600Z | 1.0 Hz, 86400 samples\n",
      "1 Trace(s) in Stream:\n",
      "Z4.CP06..BHZ | 2012-05-08T00:00:00.004000Z - 2012-05-08T23:59:59.004000Z | 1.0 Hz, 86400 samples\n",
      "1 Trace(s) in Stream:\n",
      "Z4.CP06..BHZ | 2012-10-15T00:00:00.004400Z - 2012-10-15T23:59:59.004400Z | 1.0 Hz, 86400 samples\n"
     ]
    },
    {
     "name": "stderr",
     "output_type": "stream",
     "text": [
      " 53%|█████▎    | 1999/3775 [01:59<01:48, 16.30it/s]"
     ]
    },
    {
     "name": "stdout",
     "output_type": "stream",
     "text": [
      "1 Trace(s) in Stream:\n",
      "Z4.CP06..BHZ | 2012-09-08T00:00:00.021500Z - 2012-09-08T23:59:59.021500Z | 1.0 Hz, 86400 samples\n",
      "1 Trace(s) in Stream:\n",
      "Z4.CP06..BH1 | 2013-01-17T00:00:00.001600Z - 2013-01-17T23:59:59.001600Z | 1.0 Hz, 86400 samples\n",
      "1 Trace(s) in Stream:\n",
      "Z4.CP06..BHZ | 2013-03-01T00:00:00.018900Z - 2013-03-01T23:59:59.018900Z | 1.0 Hz, 86400 samples\n",
      "1 Trace(s) in Stream:\n",
      "Z4.CP06..BH1 | 2012-12-04T00:00:00.007700Z - 2012-12-04T23:59:59.007700Z | 1.0 Hz, 86400 samples\n"
     ]
    },
    {
     "name": "stderr",
     "output_type": "stream",
     "text": [
      " 53%|█████▎    | 2003/3775 [02:00<01:57, 15.10it/s]"
     ]
    },
    {
     "name": "stdout",
     "output_type": "stream",
     "text": [
      "1 Trace(s) in Stream:\n",
      "Z4.CP06..BH1 | 2013-02-01T00:00:00.000000Z - 2013-02-02T00:00:00.000000Z | 1.0 Hz, 86401 samples\n",
      "1 Trace(s) in Stream:\n",
      "Z4.CP06..BHZ | 2012-07-21T00:00:00.019900Z - 2012-07-21T23:59:59.019900Z | 1.0 Hz, 86400 samples\n",
      "1 Trace(s) in Stream:\n",
      "Z4.CP06..BH2 | 2012-05-24T00:00:00.004100Z - 2012-05-24T23:59:59.004100Z | 1.0 Hz, 86400 samples\n",
      "1 Trace(s) in Stream:\n",
      "Z4.CP06..BH1 | 2012-12-26T00:00:00.017100Z - 2012-12-26T23:59:59.017100Z | 1.0 Hz, 86400 samples\n"
     ]
    },
    {
     "name": "stderr",
     "output_type": "stream",
     "text": [
      " 53%|█████▎    | 2008/3775 [02:00<01:38, 18.01it/s]"
     ]
    },
    {
     "name": "stdout",
     "output_type": "stream",
     "text": [
      "1 Trace(s) in Stream:\n",
      "Z4.CP06..BH1 | 2013-01-15T00:00:00.023400Z - 2013-01-15T23:59:59.023400Z | 1.0 Hz, 86400 samples\n",
      "1 Trace(s) in Stream:\n",
      "Z4.CP06..BHZ | 2012-06-09T00:00:00.004100Z - 2012-06-09T23:59:59.004100Z | 1.0 Hz, 86400 samples\n",
      "1 Trace(s) in Stream:\n",
      "Z4.CP06..BHZ | 2012-07-10T00:00:00.002600Z - 2012-07-10T23:59:59.002600Z | 1.0 Hz, 86400 samples\n",
      "1 Trace(s) in Stream:\n",
      "Z4.CP06..BHZ | 2013-01-12T00:00:00.018700Z - 2013-01-12T23:59:59.018700Z | 1.0 Hz, 86400 samples\n",
      "1 Trace(s) in Stream:\n",
      "Z4.CP06..BH2 | 2012-10-06T00:00:00.015400Z - 2012-10-06T23:59:59.015400Z | 1.0 Hz, 86400 samples\n",
      "1 Trace(s) in Stream:\n",
      "Z4.CP06..BH2 | 2013-01-06T00:00:00.009300Z - 2013-01-06T23:59:59.009300Z | 1.0 Hz, 86400 samples\n"
     ]
    },
    {
     "name": "stderr",
     "output_type": "stream",
     "text": [
      " 53%|█████▎    | 2012/3775 [02:00<01:35, 18.42it/s]"
     ]
    },
    {
     "name": "stdout",
     "output_type": "stream",
     "text": [
      "1 Trace(s) in Stream:\n",
      "Z4.CP06..BH1 | 2012-10-22T00:00:00.015400Z - 2012-10-22T23:59:59.015400Z | 1.0 Hz, 86400 samples\n",
      "1 Trace(s) in Stream:\n",
      "Z4.CP06..BHZ | 2012-07-17T00:00:00.013600Z - 2012-07-17T23:59:59.013600Z | 1.0 Hz, 86400 samples\n",
      "1 Trace(s) in Stream:\n",
      "Z4.CP06..BHZ | 2012-07-28T00:00:00.005800Z - 2012-07-28T23:59:59.005800Z | 1.0 Hz, 86400 samples\n",
      "1 Trace(s) in Stream:\n",
      "Z4.CP06..BH2 | 2013-02-12T00:00:00.017300Z - 2013-02-12T23:59:59.017300Z | 1.0 Hz, 86400 samples\n",
      "1 Trace(s) in Stream:\n",
      "Z4.CP06..BHZ | 2012-08-04T00:00:00.016800Z - 2012-08-04T23:59:59.016800Z | 1.0 Hz, 86400 samples\n"
     ]
    },
    {
     "name": "stderr",
     "output_type": "stream",
     "text": [
      " 53%|█████▎    | 2019/3775 [02:01<01:36, 18.24it/s]"
     ]
    },
    {
     "name": "stdout",
     "output_type": "stream",
     "text": [
      "1 Trace(s) in Stream:\n",
      "Z4.CP06..BHZ | 2013-02-03T00:00:00.003200Z - 2013-02-03T23:59:59.003200Z | 1.0 Hz, 86400 samples\n",
      "1 Trace(s) in Stream:\n",
      "Z4.CP06..BH2 | 2012-12-08T00:00:00.014000Z - 2012-12-08T23:59:59.014000Z | 1.0 Hz, 86400 samples\n",
      "1 Trace(s) in Stream:\n",
      "Z4.CP06..BH1 | 2012-05-12T00:00:00.010300Z - 2012-05-12T23:59:59.010300Z | 1.0 Hz, 86400 samples\n",
      "1 Trace(s) in Stream:\n",
      "Z4.CP06..BHZ | 2012-08-26T00:00:00.001200Z - 2012-08-26T23:59:59.001200Z | 1.0 Hz, 86400 samples\n"
     ]
    },
    {
     "name": "stderr",
     "output_type": "stream",
     "text": [
      " 54%|█████▎    | 2023/3775 [02:01<01:38, 17.75it/s]"
     ]
    },
    {
     "name": "stdout",
     "output_type": "stream",
     "text": [
      "1 Trace(s) in Stream:\n",
      "Z4.CP06..BHZ | 2012-10-28T00:00:00.024800Z - 2012-10-28T23:59:59.024800Z | 1.0 Hz, 86400 samples\n",
      "1 Trace(s) in Stream:\n",
      "Z4.CP06..BHZ | 2013-03-08T00:00:00.004800Z - 2013-03-08T23:59:59.004800Z | 1.0 Hz, 86400 samples\n",
      "1 Trace(s) in Stream:\n",
      "Z4.CP06..BHZ | 2012-05-09T00:00:00.005600Z - 2012-05-09T23:59:59.005600Z | 1.0 Hz, 86400 samples\n",
      "1 Trace(s) in Stream:\n",
      "Z4.CP06..BH1 | 2013-02-05T00:00:00.006300Z - 2013-02-05T23:59:59.006300Z | 1.0 Hz, 86400 samples\n"
     ]
    },
    {
     "name": "stderr",
     "output_type": "stream",
     "text": [
      " 54%|█████▎    | 2027/3775 [02:01<01:37, 18.00it/s]"
     ]
    },
    {
     "name": "stdout",
     "output_type": "stream",
     "text": [
      "1 Trace(s) in Stream:\n",
      "Z4.CP06..BHZ | 2012-09-20T00:00:00.015300Z - 2012-09-20T23:59:59.015300Z | 1.0 Hz, 86400 samples\n",
      "1 Trace(s) in Stream:\n",
      "Z4.CP06..BHZ | 2013-01-17T00:00:00.001600Z - 2013-01-17T23:59:59.001600Z | 1.0 Hz, 86400 samples\n",
      "1 Trace(s) in Stream:\n",
      "Z4.CP06..BH2 | 2012-08-24T00:00:00.023100Z - 2012-08-24T23:59:59.023100Z | 1.0 Hz, 86400 samples\n",
      "1 Trace(s) in Stream:\n",
      "Z4.CP06..BHZ | 2012-09-18T00:00:00.012200Z - 2012-09-18T23:59:59.012200Z | 1.0 Hz, 86400 samples\n"
     ]
    },
    {
     "name": "stderr",
     "output_type": "stream",
     "text": [
      " 54%|█████▍    | 2031/3775 [02:01<01:34, 18.52it/s]"
     ]
    },
    {
     "name": "stdout",
     "output_type": "stream",
     "text": [
      "1 Trace(s) in Stream:\n",
      "Z4.CP06..BH1 | 2013-02-08T00:00:00.011000Z - 2013-02-08T23:59:59.011000Z | 1.0 Hz, 86400 samples\n",
      "1 Trace(s) in Stream:\n",
      "Z4.CP06..BHZ | 2013-02-28T00:00:00.017300Z - 2013-02-28T23:59:59.017300Z | 1.0 Hz, 86400 samples\n",
      "1 Trace(s) in Stream:\n",
      "Z4.CP06..BH2 | 2012-10-17T00:00:00.007600Z - 2012-10-17T23:59:59.007600Z | 1.0 Hz, 86400 samples\n",
      "1 Trace(s) in Stream:\n",
      "Z4.CP06..BHZ | 2013-02-22T00:00:00.007900Z - 2013-02-22T23:59:59.007900Z | 1.0 Hz, 86400 samples\n",
      "1 Trace(s) in Stream:\n",
      "Z4.CP06..BH1 | 2013-01-18T00:00:00.003100Z - 2013-01-18T23:59:59.003100Z | 1.0 Hz, 86400 samples\n"
     ]
    },
    {
     "name": "stderr",
     "output_type": "stream",
     "text": [
      " 54%|█████▍    | 2037/3775 [02:02<01:35, 18.23it/s]"
     ]
    },
    {
     "name": "stdout",
     "output_type": "stream",
     "text": [
      "1 Trace(s) in Stream:\n",
      "Z4.CP06..BH2 | 2013-01-22T00:00:00.009400Z - 2013-01-22T23:59:59.009400Z | 1.0 Hz, 86400 samples\n",
      "1 Trace(s) in Stream:\n",
      "Z4.CP06..BHZ | 2012-07-06T00:00:00.021400Z - 2012-07-06T23:59:59.021400Z | 1.0 Hz, 86400 samples\n",
      "1 Trace(s) in Stream:\n",
      "Z4.CP06..BH2 | 2012-11-11T00:00:00.021700Z - 2012-11-11T23:59:59.021700Z | 1.0 Hz, 86400 samples\n",
      "1 Trace(s) in Stream:\n",
      "Z4.CP06..BH1 | 2012-06-23T00:00:00.001000Z - 2012-06-23T23:59:59.001000Z | 1.0 Hz, 86400 samples\n",
      "1 Trace(s) in Stream:\n",
      "Z4.CP06..BH2 | 2012-05-07T00:00:00.002500Z - 2012-05-07T23:59:59.002500Z | 1.0 Hz, 86400 samples\n"
     ]
    },
    {
     "name": "stderr",
     "output_type": "stream",
     "text": [
      " 54%|█████▍    | 2041/3775 [02:02<01:34, 18.44it/s]"
     ]
    },
    {
     "name": "stdout",
     "output_type": "stream",
     "text": [
      "1 Trace(s) in Stream:\n",
      "Z4.CP06..BH2 | 2013-02-24T00:00:00.011000Z - 2013-02-24T23:59:59.011000Z | 1.0 Hz, 86400 samples\n",
      "1 Trace(s) in Stream:\n",
      "Z4.CP06..BHZ | 2013-02-25T00:00:00.012600Z - 2013-02-25T23:59:59.012600Z | 1.0 Hz, 86400 samples\n",
      "1 Trace(s) in Stream:\n",
      "Z4.CP06..BHZ | 2012-08-19T00:00:00.015200Z - 2012-08-19T23:59:59.015200Z | 1.0 Hz, 86400 samples\n",
      "1 Trace(s) in Stream:\n",
      "Z4.CP06..BHZ | 2012-06-28T00:00:00.008900Z - 2012-06-28T23:59:59.008900Z | 1.0 Hz, 86400 samples\n"
     ]
    },
    {
     "name": "stderr",
     "output_type": "stream",
     "text": [
      "\r",
      " 54%|█████▍    | 2043/3775 [02:02<01:34, 18.42it/s]"
     ]
    },
    {
     "name": "stdout",
     "output_type": "stream",
     "text": [
      "1 Trace(s) in Stream:\n",
      "Z4.CP06..BH1 | 2013-01-20T00:00:00.006300Z - 2013-01-20T23:59:59.006300Z | 1.0 Hz, 86400 samples\n",
      "1 Trace(s) in Stream:\n",
      "Z4.CP06..BH1 | 2013-03-07T00:00:00.003200Z - 2013-03-07T23:59:59.003200Z | 1.0 Hz, 86400 samples\n",
      "1 Trace(s) in Stream:\n",
      "Z4.CP06..BHZ | 2013-02-07T00:00:00.009400Z - 2013-02-07T23:59:59.009400Z | 1.0 Hz, 86400 samples\n",
      "1 Trace(s) in Stream:\n",
      "Z4.CP06..BHZ | 2012-11-04T00:00:00.010700Z - 2012-11-04T23:59:59.010700Z | 1.0 Hz, 86400 samples\n",
      "1 Trace(s) in Stream:\n",
      "Z4.CP06..BHZ | 2013-03-10T00:00:00.007900Z - 2013-03-10T23:59:59.007900Z | 1.0 Hz, 86400 samples\n"
     ]
    },
    {
     "name": "stderr",
     "output_type": "stream",
     "text": [
      " 54%|█████▍    | 2049/3775 [02:02<01:24, 20.42it/s]"
     ]
    },
    {
     "name": "stdout",
     "output_type": "stream",
     "text": [
      "1 Trace(s) in Stream:\n",
      "Z4.CP06..BHZ | 2012-08-07T00:00:00.021500Z - 2012-08-07T23:59:59.021500Z | 1.0 Hz, 86400 samples\n",
      "1 Trace(s) in Stream:\n",
      "Z4.CP06..BHZ | 2013-02-24T00:00:00.011000Z - 2013-02-24T23:59:59.011000Z | 1.0 Hz, 86400 samples\n",
      "1 Trace(s) in Stream:\n",
      "Z4.CP06..BHZ | 2012-08-10T00:00:00.001200Z - 2012-08-10T23:59:59.001200Z | 1.0 Hz, 86400 samples\n",
      "1 Trace(s) in Stream:\n",
      "Z4.CP06..BHZ | 2012-06-03T00:00:00.019700Z - 2012-06-03T23:59:59.019700Z | 1.0 Hz, 86400 samples\n"
     ]
    },
    {
     "name": "stderr",
     "output_type": "stream",
     "text": [
      " 54%|█████▍    | 2054/3775 [02:02<01:32, 18.55it/s]"
     ]
    },
    {
     "name": "stdout",
     "output_type": "stream",
     "text": [
      "1 Trace(s) in Stream:\n",
      "Z4.CP06..BHZ | 2013-02-04T00:00:00.004700Z - 2013-02-04T23:59:59.004700Z | 1.0 Hz, 86400 samples\n",
      "1 Trace(s) in Stream:\n",
      "Z4.CP06..BH1 | 2013-01-04T00:00:00.006200Z - 2013-01-04T23:59:59.006200Z | 1.0 Hz, 86400 samples\n",
      "1 Trace(s) in Stream:\n",
      "Z4.CP06..BH2 | 2012-09-12T00:00:00.002800Z - 2012-09-12T23:59:59.002800Z | 1.0 Hz, 86400 samples\n",
      "1 Trace(s) in Stream:\n",
      "Z4.CP06..BH1 | 2013-02-22T00:00:00.007900Z - 2013-02-22T23:59:59.007900Z | 1.0 Hz, 86400 samples\n"
     ]
    },
    {
     "name": "stderr",
     "output_type": "stream",
     "text": [
      " 55%|█████▍    | 2058/3775 [02:03<01:30, 18.87it/s]"
     ]
    },
    {
     "name": "stdout",
     "output_type": "stream",
     "text": [
      "1 Trace(s) in Stream:\n",
      "Z4.CP06..BH1 | 2012-06-18T00:00:00.018200Z - 2012-06-18T23:59:59.018200Z | 1.0 Hz, 86400 samples\n",
      "1 Trace(s) in Stream:\n",
      "Z4.CP06..BHZ | 2012-05-20T00:00:00.022800Z - 2012-05-20T23:59:59.022800Z | 1.0 Hz, 86400 samples\n",
      "1 Trace(s) in Stream:\n",
      "Z4.CP06..BH1 | 2012-05-18T00:00:00.019700Z - 2012-05-18T23:59:59.019700Z | 1.0 Hz, 86400 samples\n",
      "1 Trace(s) in Stream:\n",
      "Z4.CP06..BH1 | 2012-08-05T00:00:00.018300Z - 2012-08-05T23:59:59.018300Z | 1.0 Hz, 86400 samples\n"
     ]
    },
    {
     "name": "stderr",
     "output_type": "stream",
     "text": [
      "\r",
      " 55%|█████▍    | 2060/3775 [02:03<01:29, 19.15it/s]"
     ]
    },
    {
     "name": "stdout",
     "output_type": "stream",
     "text": [
      "1 Trace(s) in Stream:\n",
      "Z4.CP06..BH2 | 2012-05-30T00:00:00.013500Z - 2012-05-30T23:59:59.013500Z | 1.0 Hz, 86400 samples\n",
      "1 Trace(s) in Stream:\n",
      "Z4.CP06..BHZ | 2012-12-19T00:00:00.006200Z - 2012-12-19T23:59:59.006200Z | 1.0 Hz, 86400 samples\n",
      "1 Trace(s) in Stream:\n",
      "Z4.CP06..BH2 | 2012-12-29T00:00:00.021800Z - 2012-12-29T23:59:59.021800Z | 1.0 Hz, 86400 samples\n",
      "1 Trace(s) in Stream:\n",
      "Z4.CP06..BH2 | 2012-12-11T00:00:00.018700Z - 2012-12-11T23:59:59.018700Z | 1.0 Hz, 86400 samples\n",
      "1 Trace(s) in Stream:\n",
      "Z4.CP06..BH2 | 2012-12-30T00:00:00.023400Z - 2012-12-30T23:59:59.023400Z | 1.0 Hz, 86400 samples\n"
     ]
    },
    {
     "name": "stderr",
     "output_type": "stream",
     "text": [
      " 55%|█████▍    | 2065/3775 [02:03<01:34, 18.19it/s]"
     ]
    },
    {
     "name": "stdout",
     "output_type": "stream",
     "text": [
      "1 Trace(s) in Stream:\n",
      "Z4.CP06..BHZ | 2012-12-20T00:00:00.007700Z - 2012-12-20T23:59:59.007700Z | 1.0 Hz, 86400 samples\n",
      "1 Trace(s) in Stream:\n",
      "Z4.CP06..BH1 | 2012-11-09T00:00:00.018600Z - 2012-11-09T23:59:59.018600Z | 1.0 Hz, 86400 samples\n",
      "1 Trace(s) in Stream:\n",
      "Z4.CP06..BH2 | 2012-12-24T00:00:00.014000Z - 2012-12-24T23:59:59.014000Z | 1.0 Hz, 86400 samples\n",
      "1 Trace(s) in Stream:\n",
      "Z4.CP06..BH1 | 2012-06-07T00:00:00.001000Z - 2012-06-07T23:59:59.001000Z | 1.0 Hz, 86400 samples\n"
     ]
    },
    {
     "name": "stderr",
     "output_type": "stream",
     "text": [
      " 55%|█████▍    | 2069/3775 [02:03<01:32, 18.37it/s]"
     ]
    },
    {
     "name": "stdout",
     "output_type": "stream",
     "text": [
      "1 Trace(s) in Stream:\n",
      "Z4.CP06..BHZ | 2012-11-30T00:00:00.001400Z - 2012-11-30T23:59:59.001400Z | 1.0 Hz, 86400 samples\n",
      "1 Trace(s) in Stream:\n",
      "Z4.CP06..BH1 | 2012-08-03T00:00:00.015200Z - 2012-08-03T23:59:59.015200Z | 1.0 Hz, 86400 samples\n",
      "1 Trace(s) in Stream:\n",
      "Z4.CP06..BHZ | 2012-08-25T00:00:00.024600Z - 2012-08-25T23:59:59.024600Z | 1.0 Hz, 86400 samples\n",
      "1 Trace(s) in Stream:\n",
      "Z4.CP06..BH1 | 2012-08-23T00:00:00.021500Z - 2012-08-23T23:59:59.021500Z | 1.0 Hz, 86400 samples\n",
      "1 Trace(s) in Stream:\n",
      "Z4.CP06..BH2 | 2012-10-10T00:00:00.021600Z - 2012-10-10T23:59:59.021600Z | 1.0 Hz, 86400 samples\n"
     ]
    },
    {
     "name": "stderr",
     "output_type": "stream",
     "text": [
      " 55%|█████▍    | 2074/3775 [02:04<01:37, 17.42it/s]"
     ]
    },
    {
     "name": "stdout",
     "output_type": "stream",
     "text": [
      "1 Trace(s) in Stream:\n",
      "Z4.CP06..BH2 | 2012-06-03T00:00:00.019700Z - 2012-06-03T23:59:59.019700Z | 1.0 Hz, 86400 samples\n",
      "1 Trace(s) in Stream:\n",
      "Z4.CP06..BH1 | 2012-07-05T00:00:00.019800Z - 2012-07-05T23:59:59.019800Z | 1.0 Hz, 86400 samples\n",
      "1 Trace(s) in Stream:\n",
      "Z4.CP06..BH2 | 2012-08-16T00:00:00.010500Z - 2012-08-16T23:59:59.010500Z | 1.0 Hz, 86400 samples\n",
      "1 Trace(s) in Stream:\n",
      "Z4.CP06..BHZ | 2012-08-21T00:00:00.018400Z - 2012-08-21T23:59:59.018400Z | 1.0 Hz, 86400 samples\n"
     ]
    },
    {
     "name": "stderr",
     "output_type": "stream",
     "text": [
      " 55%|█████▌    | 2078/3775 [02:04<01:38, 17.14it/s]"
     ]
    },
    {
     "name": "stdout",
     "output_type": "stream",
     "text": [
      "1 Trace(s) in Stream:\n",
      "Z4.CP06..BHZ | 2012-12-05T00:00:00.009300Z - 2012-12-05T23:59:59.009300Z | 1.0 Hz, 86400 samples\n",
      "1 Trace(s) in Stream:\n",
      "Z4.CP06..BH1 | 2013-02-21T00:00:00.006300Z - 2013-02-21T23:59:59.006300Z | 1.0 Hz, 86400 samples\n",
      "1 Trace(s) in Stream:\n",
      "Z4.CP06..BH2 | 2012-09-26T00:00:00.024700Z - 2012-09-26T23:59:59.024700Z | 1.0 Hz, 86400 samples\n",
      "1 Trace(s) in Stream:\n",
      "Z4.CP06..BHZ | 2012-12-29T00:00:00.021800Z - 2012-12-29T23:59:59.021800Z | 1.0 Hz, 86400 samples\n"
     ]
    },
    {
     "name": "stderr",
     "output_type": "stream",
     "text": [
      " 55%|█████▌    | 2083/3775 [02:04<01:34, 17.87it/s]"
     ]
    },
    {
     "name": "stdout",
     "output_type": "stream",
     "text": [
      "1 Trace(s) in Stream:\n",
      "Z4.CP06..BH1 | 2012-07-28T00:00:00.005800Z - 2012-07-28T23:59:59.005800Z | 1.0 Hz, 86400 samples\n",
      "1 Trace(s) in Stream:\n",
      "Z4.CP06..BHZ | 2012-05-29T00:00:00.011900Z - 2012-05-29T23:59:59.011900Z | 1.0 Hz, 86400 samples\n",
      "1 Trace(s) in Stream:\n",
      "Z4.CP06..BH2 | 2012-09-29T00:00:00.004400Z - 2012-09-29T23:59:59.004400Z | 1.0 Hz, 86400 samples\n",
      "1 Trace(s) in Stream:\n",
      "Z4.CP06..BH1 | 2012-12-06T00:00:00.010800Z - 2012-12-06T23:59:59.010800Z | 1.0 Hz, 86400 samples\n",
      "1 Trace(s) in Stream:\n",
      "Z4.CP06..BH1 | 2012-12-03T00:00:00.006100Z - 2012-12-03T23:59:59.006100Z | 1.0 Hz, 86400 samples\n"
     ]
    },
    {
     "name": "stderr",
     "output_type": "stream",
     "text": [
      " 55%|█████▌    | 2088/3775 [02:04<01:29, 18.84it/s]"
     ]
    },
    {
     "name": "stdout",
     "output_type": "stream",
     "text": [
      "1 Trace(s) in Stream:\n",
      "Z4.CP06..BHZ | 2012-08-14T00:00:00.007400Z - 2012-08-14T23:59:59.007400Z | 1.0 Hz, 86400 samples\n",
      "1 Trace(s) in Stream:\n",
      "Z4.CP06..BH2 | 2012-10-22T00:00:00.015400Z - 2012-10-22T23:59:59.015400Z | 1.0 Hz, 86400 samples\n",
      "1 Trace(s) in Stream:\n",
      "Z4.CP06..BH2 | 2012-08-14T00:00:00.007400Z - 2012-08-14T23:59:59.007400Z | 1.0 Hz, 86400 samples\n",
      "1 Trace(s) in Stream:\n",
      "Z4.CP06..BHZ | 2012-05-22T00:00:00.001000Z - 2012-05-22T23:59:59.001000Z | 1.0 Hz, 86400 samples\n"
     ]
    },
    {
     "name": "stderr",
     "output_type": "stream",
     "text": [
      " 55%|█████▌    | 2093/3775 [02:05<01:25, 19.76it/s]"
     ]
    },
    {
     "name": "stdout",
     "output_type": "stream",
     "text": [
      "1 Trace(s) in Stream:\n",
      "Z4.CP06..BHZ | 2012-07-26T00:00:00.002700Z - 2012-07-26T23:59:59.002700Z | 1.0 Hz, 86400 samples\n",
      "1 Trace(s) in Stream:\n",
      "Z4.CP06..BH2 | 2013-02-16T00:00:00.023500Z - 2013-02-16T23:59:59.023500Z | 1.0 Hz, 86400 samples\n",
      "1 Trace(s) in Stream:\n",
      "Z4.CP06..BHZ | 2012-11-26T00:00:00.020200Z - 2012-11-26T23:59:59.020200Z | 1.0 Hz, 86400 samples\n",
      "1 Trace(s) in Stream:\n",
      "Z4.CP06..BH1 | 2012-05-11T00:00:00.008700Z - 2012-05-11T23:59:59.008700Z | 1.0 Hz, 86400 samples\n",
      "1 Trace(s) in Stream:\n",
      "Z4.CP06..BHZ | 2012-06-20T00:00:00.021300Z - 2012-06-20T23:59:59.021300Z | 1.0 Hz, 86400 samples\n"
     ]
    },
    {
     "name": "stderr",
     "output_type": "stream",
     "text": [
      " 56%|█████▌    | 2097/3775 [02:05<01:26, 19.42it/s]"
     ]
    },
    {
     "name": "stdout",
     "output_type": "stream",
     "text": [
      "1 Trace(s) in Stream:\n",
      "Z4.CP06..BH2 | 2013-03-01T00:00:00.018900Z - 2013-03-01T23:59:59.018900Z | 1.0 Hz, 86400 samples\n",
      "1 Trace(s) in Stream:\n",
      "Z4.CP06..BH1 | 2013-01-21T00:00:00.007800Z - 2013-01-21T23:59:59.007800Z | 1.0 Hz, 86400 samples\n",
      "1 Trace(s) in Stream:\n",
      "Z4.CP06..BH2 | 2012-06-07T00:00:00.001000Z - 2012-06-07T23:59:59.001000Z | 1.0 Hz, 86400 samples\n",
      "1 Trace(s) in Stream:\n",
      "Z4.CP06..BHZ | 2012-08-05T00:00:00.018300Z - 2012-08-05T23:59:59.018300Z | 1.0 Hz, 86400 samples\n"
     ]
    },
    {
     "name": "stderr",
     "output_type": "stream",
     "text": [
      " 56%|█████▌    | 2102/3775 [02:05<01:24, 19.75it/s]"
     ]
    },
    {
     "name": "stdout",
     "output_type": "stream",
     "text": [
      "1 Trace(s) in Stream:\n",
      "Z4.CP06..BHZ | 2012-09-25T00:00:00.023100Z - 2012-09-25T23:59:59.023100Z | 1.0 Hz, 86400 samples\n",
      "1 Trace(s) in Stream:\n",
      "Z4.CP06..BH2 | 2012-08-15T00:00:00.009000Z - 2012-08-15T23:59:59.009000Z | 1.0 Hz, 86400 samples\n",
      "1 Trace(s) in Stream:\n",
      "Z4.CP06..BH2 | 2012-11-28T00:00:00.023300Z - 2012-11-28T23:59:59.023300Z | 1.0 Hz, 86400 samples\n",
      "1 Trace(s) in Stream:\n",
      "Z4.CP06..BHZ | 2012-10-19T00:00:00.010700Z - 2012-10-19T23:59:59.010700Z | 1.0 Hz, 86400 samples\n",
      "1 Trace(s) in Stream:\n",
      "Z4.CP06..BH2 | 2013-03-12T00:00:00.011100Z - 2013-03-12T23:59:59.011100Z | 1.0 Hz, 86400 samples\n"
     ]
    },
    {
     "name": "stderr",
     "output_type": "stream",
     "text": [
      " 56%|█████▌    | 2106/3775 [02:05<01:26, 19.21it/s]"
     ]
    },
    {
     "name": "stdout",
     "output_type": "stream",
     "text": [
      "1 Trace(s) in Stream:\n",
      "Z4.CP06..BHZ | 2012-10-03T00:00:00.010700Z - 2012-10-03T23:59:59.010700Z | 1.0 Hz, 86400 samples\n",
      "1 Trace(s) in Stream:\n",
      "Z4.CP06..BHZ | 2012-10-05T00:00:00.013800Z - 2012-10-05T23:59:59.013800Z | 1.0 Hz, 86400 samples\n",
      "1 Trace(s) in Stream:\n",
      "Z4.CP06..BHZ | 2012-08-02T00:00:00.013600Z - 2012-08-02T23:59:59.013600Z | 1.0 Hz, 86400 samples\n",
      "1 Trace(s) in Stream:\n",
      "Z4.CP06..BH1 | 2012-10-07T00:00:00.016900Z - 2012-10-07T23:59:59.016900Z | 1.0 Hz, 86400 samples\n",
      "1 Trace(s) in Stream:\n",
      "Z4.CP06..BHZ | 2012-05-11T00:00:00.008700Z - 2012-05-11T23:59:59.008700Z | 1.0 Hz, 86400 samples\n"
     ]
    },
    {
     "name": "stderr",
     "output_type": "stream",
     "text": [
      " 56%|█████▌    | 2112/3775 [02:06<01:22, 20.21it/s]"
     ]
    },
    {
     "name": "stdout",
     "output_type": "stream",
     "text": [
      "1 Trace(s) in Stream:\n",
      "Z4.CP06..BH2 | 2012-10-09T00:00:00.020100Z - 2012-10-09T23:59:59.020100Z | 1.0 Hz, 86400 samples\n",
      "1 Trace(s) in Stream:\n",
      "Z4.CP06..BH1 | 2012-12-07T00:00:00.012400Z - 2012-12-07T23:59:59.012400Z | 1.0 Hz, 86400 samples\n",
      "1 Trace(s) in Stream:\n",
      "Z4.CP06..BHZ | 2012-06-11T00:00:00.007300Z - 2012-06-11T23:59:59.007300Z | 1.0 Hz, 86400 samples\n",
      "1 Trace(s) in Stream:\n",
      "Z4.CP06..BHZ | 2012-11-02T00:00:00.007600Z - 2012-11-02T23:59:59.007600Z | 1.0 Hz, 86400 samples\n"
     ]
    },
    {
     "name": "stderr",
     "output_type": "stream",
     "text": [
      "\r",
      " 56%|█████▌    | 2115/3775 [02:06<01:25, 19.44it/s]"
     ]
    },
    {
     "name": "stdout",
     "output_type": "stream",
     "text": [
      "1 Trace(s) in Stream:\n",
      "Z4.CP06..BH1 | 2013-02-26T00:00:00.014200Z - 2013-02-26T23:59:59.014200Z | 1.0 Hz, 86400 samples\n",
      "1 Trace(s) in Stream:\n",
      "Z4.CP06..BH1 | 2013-01-03T00:00:00.004700Z - 2013-01-03T23:59:59.004700Z | 1.0 Hz, 86400 samples\n",
      "1 Trace(s) in Stream:\n",
      "Z4.CP06..BH2 | 2013-02-13T00:00:00.018800Z - 2013-02-13T23:59:59.018800Z | 1.0 Hz, 86400 samples\n",
      "1 Trace(s) in Stream:\n",
      "Z4.CP06..BHZ | 2012-12-13T00:00:00.021800Z - 2012-12-13T23:59:59.021800Z | 1.0 Hz, 86400 samples\n",
      "1 Trace(s) in Stream:\n",
      "Z4.CP06..BH1 | 2012-06-02T00:00:00.018200Z - 2012-06-02T23:59:59.018200Z | 1.0 Hz, 86400 samples\n"
     ]
    },
    {
     "name": "stderr",
     "output_type": "stream",
     "text": [
      " 56%|█████▌    | 2119/3775 [02:06<01:30, 18.30it/s]"
     ]
    },
    {
     "name": "stdout",
     "output_type": "stream",
     "text": [
      "1 Trace(s) in Stream:\n",
      "Z4.CP06..BH1 | 2012-07-21T00:00:00.019900Z - 2012-07-21T23:59:59.019900Z | 1.0 Hz, 86400 samples\n",
      "1 Trace(s) in Stream:\n",
      "Z4.CP06..BHZ | 2012-07-18T00:00:00.015200Z - 2012-07-18T23:59:59.015200Z | 1.0 Hz, 86400 samples\n",
      "1 Trace(s) in Stream:\n",
      "Z4.CP06..BH2 | 2012-06-26T00:00:00.005700Z - 2012-06-26T23:59:59.005700Z | 1.0 Hz, 86400 samples\n",
      "1 Trace(s) in Stream:\n",
      "Z4.CP06..BHZ | 2012-06-24T00:00:00.002600Z - 2012-06-24T23:59:59.002600Z | 1.0 Hz, 86400 samples\n",
      "1 Trace(s) in Stream:\n",
      "Z4.CP06..BH1 | 2013-01-10T00:00:00.015600Z - 2013-01-10T23:59:59.015600Z | 1.0 Hz, 86400 samples\n"
     ]
    },
    {
     "name": "stderr",
     "output_type": "stream",
     "text": [
      " 56%|█████▋    | 2126/3775 [02:06<01:24, 19.42it/s]"
     ]
    },
    {
     "name": "stdout",
     "output_type": "stream",
     "text": [
      "1 Trace(s) in Stream:\n",
      "Z4.CP06..BH2 | 2012-10-25T00:00:00.020100Z - 2012-10-25T23:59:59.020100Z | 1.0 Hz, 86400 samples\n",
      "1 Trace(s) in Stream:\n",
      "Z4.CP06..BHZ | 2012-09-22T00:00:00.018500Z - 2012-09-22T23:59:59.018500Z | 1.0 Hz, 86400 samples\n",
      "1 Trace(s) in Stream:\n",
      "Z4.CP06..BH1 | 2012-12-29T00:00:00.021800Z - 2012-12-29T23:59:59.021800Z | 1.0 Hz, 86400 samples\n",
      "1 Trace(s) in Stream:\n",
      "Z4.CP06..BH2 | 2012-08-26T00:00:00.001200Z - 2012-08-26T23:59:59.001200Z | 1.0 Hz, 86400 samples\n",
      "1 Trace(s) in Stream:\n",
      "Z4.CP06..BHZ | 2012-08-22T00:00:00.019900Z - 2012-08-22T23:59:59.019900Z | 1.0 Hz, 86400 samples\n"
     ]
    },
    {
     "name": "stderr",
     "output_type": "stream",
     "text": [
      " 56%|█████▋    | 2131/3775 [02:06<01:22, 19.85it/s]"
     ]
    },
    {
     "name": "stdout",
     "output_type": "stream",
     "text": [
      "1 Trace(s) in Stream:\n",
      "Z4.CP06..BH2 | 2012-11-21T00:00:00.012400Z - 2012-11-21T23:59:59.012400Z | 1.0 Hz, 86400 samples\n",
      "1 Trace(s) in Stream:\n",
      "Z4.CP06..BH1 | 2012-05-30T00:00:00.013500Z - 2012-05-30T23:59:59.013500Z | 1.0 Hz, 86400 samples\n",
      "1 Trace(s) in Stream:\n",
      "Z4.CP06..BH2 | 2012-06-24T00:00:00.002600Z - 2012-06-24T23:59:59.002600Z | 1.0 Hz, 86400 samples\n",
      "1 Trace(s) in Stream:\n",
      "Z4.CP06..BH2 | 2012-09-17T00:00:00.010600Z - 2012-09-17T23:59:59.010600Z | 1.0 Hz, 86400 samples\n"
     ]
    },
    {
     "name": "stderr",
     "output_type": "stream",
     "text": [
      " 57%|█████▋    | 2135/3775 [02:07<01:29, 18.34it/s]"
     ]
    },
    {
     "name": "stdout",
     "output_type": "stream",
     "text": [
      "1 Trace(s) in Stream:\n",
      "Z4.CP06..BH2 | 2013-03-09T00:00:00.006400Z - 2013-03-09T23:59:59.006400Z | 1.0 Hz, 86400 samples\n",
      "1 Trace(s) in Stream:\n",
      "Z4.CP06..BHZ | 2012-11-07T00:00:00.015400Z - 2012-11-07T23:59:59.015400Z | 1.0 Hz, 86400 samples\n",
      "1 Trace(s) in Stream:\n",
      "Z4.CP06..BH2 | 2012-07-28T00:00:00.005800Z - 2012-07-28T23:59:59.005800Z | 1.0 Hz, 86400 samples\n",
      "1 Trace(s) in Stream:\n",
      "Z4.CP06..BH1 | 2012-06-20T00:00:00.021300Z - 2012-06-20T23:59:59.021300Z | 1.0 Hz, 86400 samples\n"
     ]
    },
    {
     "name": "stderr",
     "output_type": "stream",
     "text": [
      "\r",
      " 57%|█████▋    | 2137/3775 [02:07<01:28, 18.59it/s]"
     ]
    },
    {
     "name": "stdout",
     "output_type": "stream",
     "text": [
      "1 Trace(s) in Stream:\n",
      "Z4.CP06..BHZ | 2012-11-24T00:00:00.017000Z - 2012-11-24T23:59:59.017000Z | 1.0 Hz, 86400 samples\n",
      "1 Trace(s) in Stream:\n",
      "Z4.CP06..BH1 | 2012-12-28T00:00:00.020300Z - 2012-12-28T23:59:59.020300Z | 1.0 Hz, 86400 samples\n",
      "1 Trace(s) in Stream:\n",
      "Z4.CP06..BH1 | 2012-11-13T00:00:00.024800Z - 2012-11-13T23:59:59.024800Z | 1.0 Hz, 86400 samples\n",
      "1 Trace(s) in Stream:\n",
      "Z4.CP06..BHZ | 2012-06-19T00:00:00.019800Z - 2012-06-19T23:59:59.019800Z | 1.0 Hz, 86400 samples\n",
      "1 Trace(s) in Stream:\n",
      "Z4.CP06..BHZ | 2013-03-17T00:00:00.018900Z - 2013-03-17T23:59:59.018900Z | 1.0 Hz, 86400 samples\n"
     ]
    },
    {
     "name": "stderr",
     "output_type": "stream",
     "text": [
      " 57%|█████▋    | 2142/3775 [02:07<01:26, 18.77it/s]"
     ]
    },
    {
     "name": "stdout",
     "output_type": "stream",
     "text": [
      "1 Trace(s) in Stream:\n",
      "Z4.CP06..BH1 | 2012-10-12T00:00:00.024800Z - 2012-10-12T23:59:59.024800Z | 1.0 Hz, 86400 samples\n",
      "1 Trace(s) in Stream:\n",
      "Z4.CP06..BH1 | 2012-12-25T00:00:00.015600Z - 2012-12-25T23:59:59.015600Z | 1.0 Hz, 86400 samples\n",
      "1 Trace(s) in Stream:\n",
      "Z4.CP06..BH2 | 2013-02-28T00:00:00.017300Z - 2013-02-28T23:59:59.017300Z | 1.0 Hz, 86400 samples\n",
      "1 Trace(s) in Stream:\n",
      "Z4.CP06..BH1 | 2013-02-27T00:00:00.015700Z - 2013-02-27T23:59:59.015700Z | 1.0 Hz, 86400 samples\n"
     ]
    },
    {
     "name": "stderr",
     "output_type": "stream",
     "text": [
      " 57%|█████▋    | 2149/3775 [02:07<01:23, 19.47it/s]"
     ]
    },
    {
     "name": "stdout",
     "output_type": "stream",
     "text": [
      "1 Trace(s) in Stream:\n",
      "Z4.CP06..BHZ | 2012-09-02T00:00:00.012200Z - 2012-09-02T23:59:59.012200Z | 1.0 Hz, 86400 samples\n",
      "1 Trace(s) in Stream:\n",
      "Z4.CP06..BHZ | 2012-10-29T00:00:00.001400Z - 2012-10-29T23:59:59.001400Z | 1.0 Hz, 86400 samples\n",
      "1 Trace(s) in Stream:\n",
      "Z4.CP06..BHZ | 2012-07-04T00:00:00.018300Z - 2012-07-04T23:59:59.018300Z | 1.0 Hz, 86400 samples\n",
      "1 Trace(s) in Stream:\n",
      "Z4.CP06..BHZ | 2012-10-11T00:00:00.023200Z - 2012-10-11T23:59:59.023200Z | 1.0 Hz, 86400 samples\n",
      "1 Trace(s) in Stream:\n",
      "Z4.CP06..BHZ | 2012-12-06T00:00:00.010800Z - 2012-12-06T23:59:59.010800Z | 1.0 Hz, 86400 samples\n"
     ]
    },
    {
     "name": "stderr",
     "output_type": "stream",
     "text": [
      " 57%|█████▋    | 2153/3775 [02:08<01:29, 18.05it/s]"
     ]
    },
    {
     "name": "stdout",
     "output_type": "stream",
     "text": [
      "1 Trace(s) in Stream:\n",
      "Z4.CP06..BH2 | 2012-06-10T00:00:00.005700Z - 2012-06-10T23:59:59.005700Z | 1.0 Hz, 86400 samples\n",
      "1 Trace(s) in Stream:\n",
      "Z4.CP06..BH1 | 2012-10-09T00:00:00.020100Z - 2012-10-09T23:59:59.020100Z | 1.0 Hz, 86400 samples\n",
      "1 Trace(s) in Stream:\n",
      "Z4.CP06..BH1 | 2013-03-06T00:00:00.001700Z - 2013-03-06T23:59:59.001700Z | 1.0 Hz, 86400 samples\n",
      "1 Trace(s) in Stream:\n",
      "Z4.CP06..BH2 | 2012-12-17T00:00:00.003000Z - 2012-12-17T23:59:59.003000Z | 1.0 Hz, 86400 samples\n",
      "1 Trace(s) in Stream:\n",
      "Z4.CP06..BHZ | 2012-11-14T00:00:00.001400Z - 2012-11-14T23:59:59.001400Z | 1.0 Hz, 86400 samples\n"
     ]
    },
    {
     "name": "stderr",
     "output_type": "stream",
     "text": [
      " 57%|█████▋    | 2157/3775 [02:08<01:29, 18.11it/s]"
     ]
    },
    {
     "name": "stdout",
     "output_type": "stream",
     "text": [
      "1 Trace(s) in Stream:\n",
      "Z4.CP06..BH1 | 2012-09-25T00:00:00.023100Z - 2012-09-25T23:59:59.023100Z | 1.0 Hz, 86400 samples\n",
      "1 Trace(s) in Stream:\n",
      "Z4.CP06..BH2 | 2013-01-28T00:00:00.018800Z - 2013-01-28T23:59:59.018800Z | 1.0 Hz, 86400 samples\n",
      "1 Trace(s) in Stream:\n",
      "Z4.CP06..BHZ | 2012-12-09T00:00:00.015500Z - 2012-12-09T23:59:59.015500Z | 1.0 Hz, 86400 samples\n",
      "1 Trace(s) in Stream:\n",
      "Z4.CP06..BH1 | 2012-12-11T00:00:00.018700Z - 2012-12-11T23:59:59.018700Z | 1.0 Hz, 86400 samples\n"
     ]
    },
    {
     "name": "stderr",
     "output_type": "stream",
     "text": [
      " 57%|█████▋    | 2161/3775 [02:08<01:33, 17.32it/s]"
     ]
    },
    {
     "name": "stdout",
     "output_type": "stream",
     "text": [
      "1 Trace(s) in Stream:\n",
      "Z4.CP06..BHZ | 2012-11-20T00:00:00.010800Z - 2012-11-20T23:59:59.010800Z | 1.0 Hz, 86400 samples\n",
      "1 Trace(s) in Stream:\n",
      "Z4.CP06..BH1 | 2012-07-19T00:00:00.016700Z - 2012-07-19T23:59:59.016700Z | 1.0 Hz, 86400 samples\n",
      "1 Trace(s) in Stream:\n",
      "Z4.CP06..BHZ | 2012-09-19T00:00:00.013800Z - 2012-09-19T23:59:59.013800Z | 1.0 Hz, 86400 samples\n",
      "1 Trace(s) in Stream:\n",
      "Z4.CP06..BHZ | 2012-12-31T00:00:00.000000Z - 2013-01-01T00:00:00.000000Z | 1.0 Hz, 86401 samples\n"
     ]
    },
    {
     "name": "stderr",
     "output_type": "stream",
     "text": [
      " 57%|█████▋    | 2166/3775 [02:08<01:26, 18.62it/s]"
     ]
    },
    {
     "name": "stdout",
     "output_type": "stream",
     "text": [
      "1 Trace(s) in Stream:\n",
      "Z4.CP06..BH1 | 2013-02-19T00:00:00.003200Z - 2013-02-19T23:59:59.003200Z | 1.0 Hz, 86400 samples\n",
      "1 Trace(s) in Stream:\n",
      "Z4.CP06..BH1 | 2012-07-14T00:00:00.008900Z - 2012-07-14T23:59:59.008900Z | 1.0 Hz, 86400 samples\n",
      "1 Trace(s) in Stream:\n",
      "Z4.CP06..BH1 | 2012-11-21T00:00:00.012400Z - 2012-11-21T23:59:59.012400Z | 1.0 Hz, 86400 samples\n",
      "1 Trace(s) in Stream:\n",
      "Z4.CP06..BH2 | 2012-12-13T00:00:00.021800Z - 2012-12-13T23:59:59.021800Z | 1.0 Hz, 86400 samples\n"
     ]
    },
    {
     "name": "stderr",
     "output_type": "stream",
     "text": [
      " 58%|█████▊    | 2171/3775 [02:09<01:26, 18.60it/s]"
     ]
    },
    {
     "name": "stdout",
     "output_type": "stream",
     "text": [
      "1 Trace(s) in Stream:\n",
      "Z4.CP06..BH1 | 2012-07-25T00:00:00.001100Z - 2012-07-25T23:59:59.001100Z | 1.0 Hz, 86400 samples\n",
      "1 Trace(s) in Stream:\n",
      "Z4.CP06..BH1 | 2012-09-29T00:00:00.004400Z - 2012-09-29T23:59:59.004400Z | 1.0 Hz, 86400 samples\n",
      "1 Trace(s) in Stream:\n",
      "Z4.CP06..BH1 | 2012-06-16T00:00:00.015100Z - 2012-06-16T23:59:59.015100Z | 1.0 Hz, 86400 samples\n",
      "1 Trace(s) in Stream:\n",
      "Z4.CP06..BH1 | 2012-09-22T00:00:00.018500Z - 2012-09-22T23:59:59.018500Z | 1.0 Hz, 86400 samples\n",
      "1 Trace(s) in Stream:\n",
      "Z4.CP06..BH2 | 2012-10-11T00:00:00.023200Z - 2012-10-11T23:59:59.023200Z | 1.0 Hz, 86400 samples\n"
     ]
    },
    {
     "name": "stderr",
     "output_type": "stream",
     "text": [
      "\r",
      " 58%|█████▊    | 2174/3775 [02:09<01:21, 19.65it/s]"
     ]
    },
    {
     "name": "stdout",
     "output_type": "stream",
     "text": [
      "1 Trace(s) in Stream:\n",
      "Z4.CP06..BHZ | 2012-05-19T00:00:00.021300Z - 2012-05-19T23:59:59.021300Z | 1.0 Hz, 86400 samples\n",
      "1 Trace(s) in Stream:\n",
      "Z4.CP06..BH2 | 2012-05-14T00:00:00.013400Z - 2012-05-14T23:59:59.013400Z | 1.0 Hz, 86400 samples\n",
      "1 Trace(s) in Stream:\n",
      "Z4.CP06..BH2 | 2013-02-27T00:00:00.015700Z - 2013-02-27T23:59:59.015700Z | 1.0 Hz, 86400 samples\n",
      "1 Trace(s) in Stream:\n",
      "Z4.CP06..BH2 | 2013-03-13T00:00:00.012600Z - 2013-03-13T23:59:59.012600Z | 1.0 Hz, 86400 samples\n",
      "1 Trace(s) in Stream:\n",
      "Z4.CP06..BH1 | 2013-01-27T00:00:00.017200Z - 2013-01-27T23:59:59.017200Z | 1.0 Hz, 86400 samples\n",
      "1 Trace(s) in Stream:\n",
      "Z4.CP06..BH1 | 2012-07-20T00:00:00.018300Z - 2012-07-20T23:59:59.018300Z | 1.0 Hz, 86400 samples\n"
     ]
    },
    {
     "name": "stderr",
     "output_type": "stream",
     "text": [
      " 58%|█████▊    | 2179/3775 [02:09<01:29, 17.90it/s]"
     ]
    },
    {
     "name": "stdout",
     "output_type": "stream",
     "text": [
      "1 Trace(s) in Stream:\n",
      "Z4.CP06..BH1 | 2013-02-03T00:00:00.003200Z - 2013-02-03T23:59:59.003200Z | 1.0 Hz, 86400 samples\n",
      "1 Trace(s) in Stream:\n",
      "Z4.CP06..BHZ | 2012-11-29T00:00:00.024900Z - 2012-11-29T23:59:59.024900Z | 1.0 Hz, 86400 samples\n",
      "1 Trace(s) in Stream:\n",
      "Z4.CP06..BHZ | 2012-11-17T00:00:00.006200Z - 2012-11-17T23:59:59.006200Z | 1.0 Hz, 86400 samples\n",
      "1 Trace(s) in Stream:\n",
      "Z4.CP06..BHZ | 2012-11-06T00:00:00.013900Z - 2012-11-06T23:59:59.013900Z | 1.0 Hz, 86400 samples\n"
     ]
    },
    {
     "name": "stderr",
     "output_type": "stream",
     "text": [
      " 58%|█████▊    | 2185/3775 [02:09<01:29, 17.71it/s]"
     ]
    },
    {
     "name": "stdout",
     "output_type": "stream",
     "text": [
      "1 Trace(s) in Stream:\n",
      "Z4.CP06..BH2 | 2012-06-08T00:00:00.002600Z - 2012-06-08T23:59:59.002600Z | 1.0 Hz, 86400 samples\n",
      "1 Trace(s) in Stream:\n",
      "Z4.CP06..BH2 | 2012-07-02T00:00:00.015100Z - 2012-07-02T23:59:59.015100Z | 1.0 Hz, 86400 samples\n",
      "1 Trace(s) in Stream:\n",
      "Z4.CP06..BH1 | 2012-09-18T00:00:00.012200Z - 2012-09-18T23:59:59.012200Z | 1.0 Hz, 86400 samples\n",
      "1 Trace(s) in Stream:\n",
      "Z4.CP06..BHZ | 2012-10-13T00:00:00.001300Z - 2012-10-13T23:59:59.001300Z | 1.0 Hz, 86400 samples\n"
     ]
    },
    {
     "name": "stderr",
     "output_type": "stream",
     "text": [
      "\r",
      " 58%|█████▊    | 2188/3775 [02:10<01:24, 18.69it/s]"
     ]
    },
    {
     "name": "stdout",
     "output_type": "stream",
     "text": [
      "1 Trace(s) in Stream:\n",
      "Z4.CP06..BH2 | 2012-11-23T00:00:00.015500Z - 2012-11-23T23:59:59.015500Z | 1.0 Hz, 86400 samples\n",
      "1 Trace(s) in Stream:\n",
      "Z4.CP06..BHZ | 2012-08-16T00:00:00.010500Z - 2012-08-16T23:59:59.010500Z | 1.0 Hz, 86400 samples\n",
      "1 Trace(s) in Stream:\n",
      "Z4.CP06..BH2 | 2012-05-16T00:00:00.016600Z - 2012-05-16T23:59:59.016600Z | 1.0 Hz, 86400 samples\n",
      "1 Trace(s) in Stream:\n",
      "Z4.CP06..BH2 | 2013-01-18T00:00:00.003100Z - 2013-01-18T23:59:59.003100Z | 1.0 Hz, 86400 samples\n",
      "1 Trace(s) in Stream:\n",
      "Z4.CP06..BHZ | 2012-12-08T00:00:00.014000Z - 2012-12-08T23:59:59.014000Z | 1.0 Hz, 86400 samples\n"
     ]
    },
    {
     "name": "stderr",
     "output_type": "stream",
     "text": [
      " 58%|█████▊    | 2193/3775 [02:10<01:25, 18.54it/s]"
     ]
    },
    {
     "name": "stdout",
     "output_type": "stream",
     "text": [
      "1 Trace(s) in Stream:\n",
      "Z4.CP06..BHZ | 2012-12-15T00:00:00.024900Z - 2012-12-15T23:59:59.024900Z | 1.0 Hz, 86400 samples\n",
      "1 Trace(s) in Stream:\n",
      "Z4.CP06..BHZ | 2012-10-04T00:00:00.012200Z - 2012-10-04T23:59:59.012200Z | 1.0 Hz, 86400 samples\n",
      "1 Trace(s) in Stream:\n",
      "Z4.CP06..BH1 | 2012-09-02T00:00:00.012200Z - 2012-09-02T23:59:59.012200Z | 1.0 Hz, 86400 samples\n",
      "1 Trace(s) in Stream:\n",
      "Z4.CP06..BH1 | 2012-11-30T00:00:00.001400Z - 2012-11-30T23:59:59.001400Z | 1.0 Hz, 86400 samples\n"
     ]
    },
    {
     "name": "stderr",
     "output_type": "stream",
     "text": [
      " 58%|█████▊    | 2197/3775 [02:10<01:25, 18.54it/s]"
     ]
    },
    {
     "name": "stdout",
     "output_type": "stream",
     "text": [
      "1 Trace(s) in Stream:\n",
      "Z4.CP06..BHZ | 2012-05-30T00:00:00.013500Z - 2012-05-30T23:59:59.013500Z | 1.0 Hz, 86400 samples\n",
      "1 Trace(s) in Stream:\n",
      "Z4.CP06..BHZ | 2012-06-07T00:00:00.001000Z - 2012-06-07T23:59:59.001000Z | 1.0 Hz, 86400 samples\n",
      "1 Trace(s) in Stream:\n",
      "Z4.CP06..BH2 | 2012-11-07T00:00:00.015400Z - 2012-11-07T23:59:59.015400Z | 1.0 Hz, 86400 samples\n",
      "1 Trace(s) in Stream:\n",
      "Z4.CP06..BH1 | 2013-02-02T00:00:00.001600Z - 2013-02-02T23:59:59.001600Z | 1.0 Hz, 86400 samples\n"
     ]
    },
    {
     "name": "stderr",
     "output_type": "stream",
     "text": [
      " 58%|█████▊    | 2201/3775 [02:10<01:31, 17.13it/s]"
     ]
    },
    {
     "name": "stdout",
     "output_type": "stream",
     "text": [
      "1 Trace(s) in Stream:\n",
      "Z4.CP06..BH1 | 2012-10-08T00:00:00.018500Z - 2012-10-08T23:59:59.018500Z | 1.0 Hz, 86400 samples\n",
      "1 Trace(s) in Stream:\n",
      "Z4.CP06..BH2 | 2012-11-10T00:00:00.020100Z - 2012-11-10T23:59:59.020100Z | 1.0 Hz, 86400 samples\n",
      "1 Trace(s) in Stream:\n",
      "Z4.CP06..BH2 | 2013-01-26T00:00:00.015600Z - 2013-01-26T23:59:59.015600Z | 1.0 Hz, 86400 samples\n",
      "1 Trace(s) in Stream:\n",
      "Z4.CP06..BH1 | 2013-02-15T00:00:00.021900Z - 2013-02-15T23:59:59.021900Z | 1.0 Hz, 86400 samples\n"
     ]
    },
    {
     "name": "stderr",
     "output_type": "stream",
     "text": [
      " 58%|█████▊    | 2205/3775 [02:11<01:27, 17.86it/s]"
     ]
    },
    {
     "name": "stdout",
     "output_type": "stream",
     "text": [
      "1 Trace(s) in Stream:\n",
      "Z4.CP06..BH1 | 2012-05-27T00:00:00.008800Z - 2012-05-27T23:59:59.008800Z | 1.0 Hz, 86400 samples\n",
      "1 Trace(s) in Stream:\n",
      "Z4.CP06..BHZ | 2012-09-30T00:00:00.006000Z - 2012-09-30T23:59:59.006000Z | 1.0 Hz, 86400 samples\n",
      "1 Trace(s) in Stream:\n",
      "Z4.CP06..BH1 | 2012-12-02T00:00:00.004600Z - 2012-12-02T23:59:59.004600Z | 1.0 Hz, 86400 samples\n",
      "1 Trace(s) in Stream:\n",
      "Z4.CP06..BH1 | 2012-07-09T00:00:00.001100Z - 2012-07-09T23:59:59.001100Z | 1.0 Hz, 86400 samples\n"
     ]
    },
    {
     "name": "stderr",
     "output_type": "stream",
     "text": [
      " 59%|█████▊    | 2209/3775 [02:11<01:23, 18.67it/s]"
     ]
    },
    {
     "name": "stdout",
     "output_type": "stream",
     "text": [
      "1 Trace(s) in Stream:\n",
      "Z4.CP06..BH1 | 2012-11-22T00:00:00.013900Z - 2012-11-22T23:59:59.013900Z | 1.0 Hz, 86400 samples\n",
      "1 Trace(s) in Stream:\n",
      "Z4.CP06..BH2 | 2012-09-07T00:00:00.020000Z - 2012-09-07T23:59:59.020000Z | 1.0 Hz, 86400 samples\n",
      "1 Trace(s) in Stream:\n",
      "Z4.CP06..BH2 | 2013-02-26T00:00:00.014200Z - 2013-02-26T23:59:59.014200Z | 1.0 Hz, 86400 samples\n",
      "1 Trace(s) in Stream:\n",
      "Z4.CP06..BHZ | 2012-05-27T00:00:00.008800Z - 2012-05-27T23:59:59.008800Z | 1.0 Hz, 86400 samples\n",
      "1 Trace(s) in Stream:\n",
      "Z4.CP06..BH1 | 2013-02-07T00:00:00.009400Z - 2013-02-07T23:59:59.009400Z | 1.0 Hz, 86400 samples\n"
     ]
    },
    {
     "name": "stderr",
     "output_type": "stream",
     "text": [
      " 59%|█████▊    | 2214/3775 [02:11<01:21, 19.19it/s]"
     ]
    },
    {
     "name": "stdout",
     "output_type": "stream",
     "text": [
      "1 Trace(s) in Stream:\n",
      "Z4.CP06..BH2 | 2012-05-10T00:00:00.007200Z - 2012-05-10T23:59:59.007200Z | 1.0 Hz, 86400 samples\n",
      "1 Trace(s) in Stream:\n",
      "Z4.CP06..BH1 | 2012-07-27T00:00:00.004200Z - 2012-07-27T23:59:59.004200Z | 1.0 Hz, 86400 samples\n",
      "1 Trace(s) in Stream:\n",
      "Z4.CP06..BH1 | 2012-10-02T00:00:00.009100Z - 2012-10-02T23:59:59.009100Z | 1.0 Hz, 86400 samples\n",
      "1 Trace(s) in Stream:\n",
      "Z4.CP06..BH1 | 2012-09-15T00:00:00.007500Z - 2012-09-15T23:59:59.007500Z | 1.0 Hz, 86400 samples\n",
      "1 Trace(s) in Stream:\n",
      "Z4.CP06..BHZ | 2013-03-12T00:00:00.011100Z - 2013-03-12T23:59:59.011100Z | 1.0 Hz, 86400 samples\n"
     ]
    },
    {
     "name": "stderr",
     "output_type": "stream",
     "text": [
      " 59%|█████▉    | 2219/3775 [02:11<01:28, 17.64it/s]"
     ]
    },
    {
     "name": "stdout",
     "output_type": "stream",
     "text": [
      "1 Trace(s) in Stream:\n",
      "Z4.CP06..BHZ | 2012-08-06T00:00:00.019900Z - 2012-08-06T23:59:59.019900Z | 1.0 Hz, 86400 samples\n",
      "1 Trace(s) in Stream:\n",
      "Z4.CP06..BH2 | 2012-07-01T00:00:00.013600Z - 2012-07-01T23:59:59.013600Z | 1.0 Hz, 86400 samples\n",
      "1 Trace(s) in Stream:\n",
      "Z4.CP06..BH1 | 2012-12-15T00:00:00.024900Z - 2012-12-15T23:59:59.024900Z | 1.0 Hz, 86400 samples\n",
      "1 Trace(s) in Stream:\n",
      "Z4.CP06..BHZ | 2013-01-03T00:00:00.004700Z - 2013-01-03T23:59:59.004700Z | 1.0 Hz, 86400 samples\n"
     ]
    },
    {
     "name": "stderr",
     "output_type": "stream",
     "text": [
      " 59%|█████▉    | 2223/3775 [02:12<01:26, 18.03it/s]"
     ]
    },
    {
     "name": "stdout",
     "output_type": "stream",
     "text": [
      "1 Trace(s) in Stream:\n",
      "Z4.CP06..BH1 | 2012-12-24T00:00:00.014000Z - 2012-12-24T23:59:59.014000Z | 1.0 Hz, 86400 samples\n",
      "1 Trace(s) in Stream:\n",
      "Z4.CP06..BH2 | 2012-06-30T00:00:00.012000Z - 2012-06-30T23:59:59.012000Z | 1.0 Hz, 86400 samples\n",
      "1 Trace(s) in Stream:\n",
      "Z4.CP06..BHZ | 2012-06-02T00:00:00.018200Z - 2012-06-02T23:59:59.018200Z | 1.0 Hz, 86400 samples\n",
      "1 Trace(s) in Stream:\n",
      "Z4.CP06..BH2 | 2012-06-04T00:00:00.021300Z - 2012-06-04T23:59:59.021300Z | 1.0 Hz, 86400 samples\n"
     ]
    },
    {
     "name": "stderr",
     "output_type": "stream",
     "text": [
      " 59%|█████▉    | 2229/3775 [02:12<01:23, 18.46it/s]"
     ]
    },
    {
     "name": "stdout",
     "output_type": "stream",
     "text": [
      "1 Trace(s) in Stream:\n",
      "Z4.CP06..BH2 | 2012-12-19T00:00:00.006200Z - 2012-12-19T23:59:59.006200Z | 1.0 Hz, 86400 samples\n",
      "1 Trace(s) in Stream:\n",
      "Z4.CP06..BH2 | 2012-08-08T00:00:00.023000Z - 2012-08-08T23:59:59.023000Z | 1.0 Hz, 86400 samples\n",
      "1 Trace(s) in Stream:\n",
      "Z4.CP06..BHZ | 2013-02-21T00:00:00.006300Z - 2013-02-21T23:59:59.006300Z | 1.0 Hz, 86400 samples\n",
      "1 Trace(s) in Stream:\n",
      "Z4.CP06..BH1 | 2012-09-24T00:00:00.021600Z - 2012-09-24T23:59:59.021600Z | 1.0 Hz, 86400 samples\n",
      "1 Trace(s) in Stream:\n",
      "Z4.CP06..BH2 | 2012-08-10T00:00:00.001200Z - 2012-08-10T23:59:59.001200Z | 1.0 Hz, 86400 samples\n"
     ]
    },
    {
     "name": "stderr",
     "output_type": "stream",
     "text": [
      " 59%|█████▉    | 2234/3775 [02:12<01:21, 19.02it/s]"
     ]
    },
    {
     "name": "stdout",
     "output_type": "stream",
     "text": [
      "1 Trace(s) in Stream:\n",
      "Z4.CP06..BHZ | 2013-01-07T00:00:00.010900Z - 2013-01-07T23:59:59.010900Z | 1.0 Hz, 86400 samples\n",
      "1 Trace(s) in Stream:\n",
      "Z4.CP06..BH2 | 2013-02-18T00:00:00.001600Z - 2013-02-18T23:59:59.001600Z | 1.0 Hz, 86400 samples\n",
      "1 Trace(s) in Stream:\n",
      "Z4.CP06..BH1 | 2012-12-14T00:00:00.023300Z - 2012-12-14T23:59:59.023300Z | 1.0 Hz, 86400 samples\n",
      "1 Trace(s) in Stream:\n",
      "Z4.CP06..BH1 | 2012-11-17T00:00:00.006200Z - 2012-11-17T23:59:59.006200Z | 1.0 Hz, 86400 samples\n",
      "1 Trace(s) in Stream:\n",
      "Z4.CP06..BH2 | 2013-02-03T00:00:00.003200Z - 2013-02-03T23:59:59.003200Z | 1.0 Hz, 86400 samples\n"
     ]
    },
    {
     "name": "stderr",
     "output_type": "stream",
     "text": [
      " 59%|█████▉    | 2238/3775 [02:12<01:23, 18.35it/s]"
     ]
    },
    {
     "name": "stdout",
     "output_type": "stream",
     "text": [
      "1 Trace(s) in Stream:\n",
      "Z4.CP06..BH2 | 2012-12-14T00:00:00.023400Z - 2012-12-14T23:59:59.023400Z | 1.0 Hz, 86400 samples\n",
      "1 Trace(s) in Stream:\n",
      "Z4.CP06..BH1 | 2012-07-24T00:00:00.024600Z - 2012-07-24T23:59:59.024600Z | 1.0 Hz, 86400 samples\n",
      "1 Trace(s) in Stream:\n",
      "Z4.CP06..BH1 | 2013-01-24T00:00:00.012500Z - 2013-01-24T23:59:59.012500Z | 1.0 Hz, 86400 samples\n",
      "1 Trace(s) in Stream:\n",
      "Z4.CP06..BH1 | 2012-06-17T00:00:00.016600Z - 2012-06-17T23:59:59.016600Z | 1.0 Hz, 86400 samples\n",
      "1 Trace(s) in Stream:\n",
      "Z4.CP06..BHZ | 2012-07-07T00:00:00.022900Z - 2012-07-07T23:59:59.022900Z | 1.0 Hz, 86400 samples\n"
     ]
    },
    {
     "name": "stderr",
     "output_type": "stream",
     "text": [
      " 59%|█████▉    | 2243/3775 [02:13<01:22, 18.60it/s]"
     ]
    },
    {
     "name": "stdout",
     "output_type": "stream",
     "text": [
      "1 Trace(s) in Stream:\n",
      "Z4.CP06..BH1 | 2013-02-12T00:00:00.017300Z - 2013-02-12T23:59:59.017300Z | 1.0 Hz, 86400 samples\n",
      "1 Trace(s) in Stream:\n",
      "Z4.CP06..BHZ | 2012-11-10T00:00:00.020100Z - 2012-11-10T23:59:59.020100Z | 1.0 Hz, 86400 samples\n",
      "1 Trace(s) in Stream:\n",
      "Z4.CP06..BHZ | 2012-07-02T00:00:00.015100Z - 2012-07-02T23:59:59.015100Z | 1.0 Hz, 86400 samples\n",
      "1 Trace(s) in Stream:\n",
      "Z4.CP06..BH2 | 2012-12-01T00:00:00.003000Z - 2012-12-01T23:59:59.003000Z | 1.0 Hz, 86400 samples\n"
     ]
    },
    {
     "name": "stderr",
     "output_type": "stream",
     "text": [
      " 60%|█████▉    | 2247/3775 [02:13<01:24, 18.00it/s]"
     ]
    },
    {
     "name": "stdout",
     "output_type": "stream",
     "text": [
      "1 Trace(s) in Stream:\n",
      "Z4.CP06..BH1 | 2012-08-11T00:00:00.002700Z - 2012-08-11T23:59:59.002700Z | 1.0 Hz, 86400 samples\n",
      "1 Trace(s) in Stream:\n",
      "Z4.CP06..BH2 | 2012-09-08T00:00:00.021500Z - 2012-09-08T23:59:59.021500Z | 1.0 Hz, 86400 samples\n",
      "1 Trace(s) in Stream:\n",
      "Z4.CP06..BH2 | 2012-08-18T00:00:00.013700Z - 2012-08-18T23:59:59.013700Z | 1.0 Hz, 86400 samples\n",
      "1 Trace(s) in Stream:\n",
      "Z4.CP06..BHZ | 2012-12-02T00:00:00.004600Z - 2012-12-02T23:59:59.004600Z | 1.0 Hz, 86400 samples\n"
     ]
    },
    {
     "name": "stderr",
     "output_type": "stream",
     "text": [
      " 60%|█████▉    | 2252/3775 [02:13<01:20, 18.86it/s]"
     ]
    },
    {
     "name": "stdout",
     "output_type": "stream",
     "text": [
      "1 Trace(s) in Stream:\n",
      "Z4.CP06..BHZ | 2012-09-16T00:00:00.009100Z - 2012-09-16T23:59:59.009100Z | 1.0 Hz, 86400 samples\n",
      "1 Trace(s) in Stream:\n",
      "Z4.CP06..BH1 | 2012-08-18T00:00:00.013700Z - 2012-08-18T23:59:59.013700Z | 1.0 Hz, 86400 samples\n",
      "1 Trace(s) in Stream:\n",
      "Z4.CP06..BH1 | 2012-08-29T00:00:00.005900Z - 2012-08-29T23:59:59.005900Z | 1.0 Hz, 86400 samples\n",
      "1 Trace(s) in Stream:\n",
      "Z4.CP06..BH2 | 2012-09-10T00:00:00.024700Z - 2012-09-10T23:59:59.024700Z | 1.0 Hz, 86400 samples\n",
      "1 Trace(s) in Stream:\n",
      "Z4.CP06..BH2 | 2012-10-13T00:00:00.001300Z - 2012-10-13T23:59:59.001300Z | 1.0 Hz, 86400 samples\n"
     ]
    },
    {
     "name": "stderr",
     "output_type": "stream",
     "text": [
      "\r",
      " 60%|█████▉    | 2254/3775 [02:13<01:21, 18.68it/s]"
     ]
    },
    {
     "name": "stdout",
     "output_type": "stream",
     "text": [
      "1 Trace(s) in Stream:\n",
      "Z4.CP06..BHZ | 2012-07-25T00:00:00.001100Z - 2012-07-25T23:59:59.001100Z | 1.0 Hz, 86400 samples\n",
      "1 Trace(s) in Stream:\n",
      "Z4.CP06..BH2 | 2013-01-13T00:00:00.020300Z - 2013-01-13T23:59:59.020300Z | 1.0 Hz, 86400 samples\n",
      "1 Trace(s) in Stream:\n",
      "Z4.CP06..BH1 | 2012-08-19T00:00:00.015200Z - 2012-08-19T23:59:59.015200Z | 1.0 Hz, 86400 samples\n",
      "1 Trace(s) in Stream:\n",
      "Z4.CP06..BH2 | 2012-06-19T00:00:00.019800Z - 2012-06-19T23:59:59.019800Z | 1.0 Hz, 86400 samples\n",
      "1 Trace(s) in Stream:\n",
      "Z4.CP06..BHZ | 2013-03-02T00:00:00.020400Z - 2013-03-02T23:59:59.020400Z | 1.0 Hz, 86400 samples\n"
     ]
    },
    {
     "name": "stderr",
     "output_type": "stream",
     "text": [
      " 60%|█████▉    | 2261/3775 [02:14<01:21, 18.60it/s]"
     ]
    },
    {
     "name": "stdout",
     "output_type": "stream",
     "text": [
      "1 Trace(s) in Stream:\n",
      "Z4.CP06..BH2 | 2012-08-19T00:00:00.015200Z - 2012-08-19T23:59:59.015200Z | 1.0 Hz, 86400 samples\n",
      "1 Trace(s) in Stream:\n",
      "Z4.CP06..BHZ | 2012-06-01T00:00:00.016600Z - 2012-06-01T23:59:59.016600Z | 1.0 Hz, 86400 samples\n",
      "1 Trace(s) in Stream:\n",
      "Z4.CP06..BHZ | 2012-12-11T00:00:00.018700Z - 2012-12-11T23:59:59.018700Z | 1.0 Hz, 86400 samples\n",
      "1 Trace(s) in Stream:\n",
      "Z4.CP06..BHZ | 2012-09-12T00:00:00.002800Z - 2012-09-12T23:59:59.002800Z | 1.0 Hz, 86400 samples\n"
     ]
    },
    {
     "name": "stderr",
     "output_type": "stream",
     "text": [
      " 60%|██████    | 2265/3775 [02:14<01:23, 18.14it/s]"
     ]
    },
    {
     "name": "stdout",
     "output_type": "stream",
     "text": [
      "1 Trace(s) in Stream:\n",
      "Z4.CP06..BH1 | 2012-08-16T00:00:00.010500Z - 2012-08-16T23:59:59.010500Z | 1.0 Hz, 86400 samples\n",
      "1 Trace(s) in Stream:\n",
      "Z4.CP06..BHZ | 2013-03-15T00:00:00.015800Z - 2013-03-15T23:59:59.015800Z | 1.0 Hz, 86400 samples\n",
      "1 Trace(s) in Stream:\n",
      "Z4.CP06..BH1 | 2013-02-23T00:00:00.009500Z - 2013-02-23T23:59:59.009500Z | 1.0 Hz, 86400 samples\n",
      "1 Trace(s) in Stream:\n",
      "Z4.CP06..BH1 | 2013-02-11T00:00:00.015700Z - 2013-02-11T23:59:59.015700Z | 1.0 Hz, 86400 samples\n"
     ]
    },
    {
     "name": "stderr",
     "output_type": "stream",
     "text": [
      " 60%|██████    | 2269/3775 [02:14<01:20, 18.71it/s]"
     ]
    },
    {
     "name": "stdout",
     "output_type": "stream",
     "text": [
      "1 Trace(s) in Stream:\n",
      "Z4.CP06..BHZ | 2012-10-27T00:00:00.023200Z - 2012-10-27T23:59:59.023200Z | 1.0 Hz, 86400 samples\n",
      "1 Trace(s) in Stream:\n",
      "Z4.CP06..BH1 | 2012-06-14T00:00:00.011900Z - 2012-06-14T23:59:59.011900Z | 1.0 Hz, 86400 samples\n",
      "1 Trace(s) in Stream:\n",
      "Z4.CP06..BH1 | 2012-07-03T00:00:00.016700Z - 2012-07-03T23:59:59.016700Z | 1.0 Hz, 86400 samples\n",
      "1 Trace(s) in Stream:\n",
      "Z4.CP06..BH2 | 2012-05-26T00:00:00.007200Z - 2012-05-26T23:59:59.007200Z | 1.0 Hz, 86400 samples\n"
     ]
    },
    {
     "name": "stderr",
     "output_type": "stream",
     "text": [
      "\r",
      " 60%|██████    | 2272/3775 [02:14<01:16, 19.61it/s]"
     ]
    },
    {
     "name": "stdout",
     "output_type": "stream",
     "text": [
      "1 Trace(s) in Stream:\n",
      "Z4.CP06..BHZ | 2012-05-21T00:00:00.024400Z - 2012-05-21T23:59:59.024400Z | 1.0 Hz, 86400 samples\n",
      "1 Trace(s) in Stream:\n",
      "Z4.CP06..BHZ | 2012-07-01T00:00:00.013600Z - 2012-07-01T23:59:59.013600Z | 1.0 Hz, 86400 samples\n",
      "1 Trace(s) in Stream:\n",
      "Z4.CP06..BH2 | 2012-07-23T00:00:00.023000Z - 2012-07-23T23:59:59.023000Z | 1.0 Hz, 86400 samples\n",
      "1 Trace(s) in Stream:\n",
      "Z4.CP06..BHZ | 2013-03-03T00:00:00.022000Z - 2013-03-03T23:59:59.022000Z | 1.0 Hz, 86400 samples\n",
      "1 Trace(s) in Stream:\n",
      "Z4.CP06..BHZ | 2013-01-02T00:00:00.003100Z - 2013-01-02T23:59:59.003100Z | 1.0 Hz, 86400 samples\n",
      "1 Trace(s) in Stream:\n",
      "Z4.CP06..BH1 | 2013-01-02T00:00:00.003100Z - 2013-01-02T23:59:59.003100Z | 1.0 Hz, 86400 samples\n"
     ]
    },
    {
     "name": "stderr",
     "output_type": "stream",
     "text": [
      " 60%|██████    | 2278/3775 [02:14<01:14, 20.17it/s]"
     ]
    },
    {
     "name": "stdout",
     "output_type": "stream",
     "text": [
      "1 Trace(s) in Stream:\n",
      "Z4.CP06..BHZ | 2013-02-27T00:00:00.015700Z - 2013-02-27T23:59:59.015700Z | 1.0 Hz, 86400 samples\n",
      "1 Trace(s) in Stream:\n",
      "Z4.CP06..BHZ | 2013-03-07T00:00:00.003200Z - 2013-03-07T23:59:59.003200Z | 1.0 Hz, 86400 samples\n",
      "1 Trace(s) in Stream:\n",
      "Z4.CP06..BH2 | 2013-01-20T00:00:00.006300Z - 2013-01-20T23:59:59.006300Z | 1.0 Hz, 86400 samples\n",
      "1 Trace(s) in Stream:\n",
      "Z4.CP06..BH1 | 2012-11-18T00:00:00.007700Z - 2012-11-18T23:59:59.007700Z | 1.0 Hz, 86400 samples\n",
      "1 Trace(s) in Stream:\n",
      "Z4.CP06..BH1 | 2012-11-11T00:00:00.021700Z - 2012-11-11T23:59:59.021700Z | 1.0 Hz, 86400 samples\n"
     ]
    },
    {
     "name": "stderr",
     "output_type": "stream",
     "text": [
      " 60%|██████    | 2283/3775 [02:15<01:15, 19.80it/s]"
     ]
    },
    {
     "name": "stdout",
     "output_type": "stream",
     "text": [
      "1 Trace(s) in Stream:\n",
      "Z4.CP06..BH2 | 2012-11-16T00:00:00.004500Z - 2012-11-16T23:59:59.004500Z | 1.0 Hz, 86400 samples\n",
      "1 Trace(s) in Stream:\n",
      "Z4.CP06..BH2 | 2012-07-18T00:00:00.015200Z - 2012-07-18T23:59:59.015200Z | 1.0 Hz, 86400 samples\n",
      "1 Trace(s) in Stream:\n",
      "Z4.CP06..BH1 | 2012-06-03T00:00:00.019700Z - 2012-06-03T23:59:59.019700Z | 1.0 Hz, 86400 samples\n",
      "1 Trace(s) in Stream:\n",
      "Z4.CP06..BH2 | 2013-02-17T00:00:00.000100Z - 2013-02-17T23:59:59.000100Z | 1.0 Hz, 86400 samples\n",
      "1 Trace(s) in Stream:\n",
      "Z4.CP06..BH2 | 2012-05-25T00:00:00.005700Z - 2012-05-25T23:59:59.005700Z | 1.0 Hz, 86400 samples\n"
     ]
    },
    {
     "name": "stderr",
     "output_type": "stream",
     "text": [
      " 61%|██████    | 2289/3775 [02:15<01:12, 20.59it/s]"
     ]
    },
    {
     "name": "stdout",
     "output_type": "stream",
     "text": [
      "1 Trace(s) in Stream:\n",
      "Z4.CP06..BH2 | 2013-01-08T00:00:00.012500Z - 2013-01-08T23:59:59.012500Z | 1.0 Hz, 86400 samples\n",
      "1 Trace(s) in Stream:\n",
      "Z4.CP06..BH2 | 2012-11-18T00:00:00.007700Z - 2012-11-18T23:59:59.007700Z | 1.0 Hz, 86400 samples\n",
      "1 Trace(s) in Stream:\n",
      "Z4.CP06..BHZ | 2012-08-17T00:00:00.012100Z - 2012-08-17T23:59:59.012100Z | 1.0 Hz, 86400 samples\n",
      "1 Trace(s) in Stream:\n",
      "Z4.CP06..BHZ | 2012-06-17T00:00:00.016600Z - 2012-06-17T23:59:59.016600Z | 1.0 Hz, 86400 samples\n",
      "1 Trace(s) in Stream:\n",
      "Z4.CP06..BH2 | 2012-08-12T00:00:00.004300Z - 2012-08-12T23:59:59.004300Z | 1.0 Hz, 86400 samples\n"
     ]
    },
    {
     "name": "stderr",
     "output_type": "stream",
     "text": [
      "\r",
      " 61%|██████    | 2292/3775 [02:15<01:13, 20.19it/s]"
     ]
    },
    {
     "name": "stdout",
     "output_type": "stream",
     "text": [
      "1 Trace(s) in Stream:\n",
      "Z4.CP06..BHZ | 2013-02-10T00:00:00.014100Z - 2013-02-10T23:59:59.014100Z | 1.0 Hz, 86400 samples\n",
      "1 Trace(s) in Stream:\n",
      "Z4.CP06..BH1 | 2012-11-28T00:00:00.023300Z - 2012-11-28T23:59:59.023300Z | 1.0 Hz, 86400 samples\n",
      "1 Trace(s) in Stream:\n",
      "Z4.CP06..BH2 | 2013-01-30T00:00:00.021900Z - 2013-01-30T23:59:59.021900Z | 1.0 Hz, 86400 samples\n",
      "1 Trace(s) in Stream:\n",
      "Z4.CP06..BHZ | 2012-05-16T00:00:00.016600Z - 2012-05-16T23:59:59.016600Z | 1.0 Hz, 86400 samples\n"
     ]
    },
    {
     "name": "stderr",
     "output_type": "stream",
     "text": [
      " 61%|██████    | 2298/3775 [02:15<01:16, 19.32it/s]"
     ]
    },
    {
     "name": "stdout",
     "output_type": "stream",
     "text": [
      "1 Trace(s) in Stream:\n",
      "Z4.CP06..BH2 | 2012-12-02T00:00:00.004600Z - 2012-12-02T23:59:59.004600Z | 1.0 Hz, 86400 samples\n",
      "1 Trace(s) in Stream:\n",
      "Z4.CP06..BH1 | 2012-11-05T00:00:00.012300Z - 2012-11-05T23:59:59.012300Z | 1.0 Hz, 86400 samples\n",
      "1 Trace(s) in Stream:\n",
      "Z4.CP06..BH1 | 2012-11-24T00:00:00.017000Z - 2012-11-24T23:59:59.017000Z | 1.0 Hz, 86400 samples\n",
      "1 Trace(s) in Stream:\n",
      "Z4.CP06..BH2 | 2012-05-21T00:00:00.024400Z - 2012-05-21T23:59:59.024400Z | 1.0 Hz, 86400 samples\n",
      "1 Trace(s) in Stream:\n",
      "Z4.CP06..BHZ | 2012-12-17T00:00:00.003000Z - 2012-12-17T23:59:59.003000Z | 1.0 Hz, 86400 samples\n"
     ]
    },
    {
     "name": "stderr",
     "output_type": "stream",
     "text": [
      " 61%|██████    | 2302/3775 [02:16<01:23, 17.70it/s]"
     ]
    },
    {
     "name": "stdout",
     "output_type": "stream",
     "text": [
      "1 Trace(s) in Stream:\n",
      "Z4.CP06..BH1 | 2012-11-14T00:00:00.001400Z - 2012-11-14T23:59:59.001400Z | 1.0 Hz, 86400 samples\n",
      "1 Trace(s) in Stream:\n",
      "Z4.CP06..BHZ | 2012-06-26T00:00:00.005700Z - 2012-06-26T23:59:59.005700Z | 1.0 Hz, 86400 samples\n",
      "1 Trace(s) in Stream:\n",
      "Z4.CP06..BH1 | 2012-09-01T00:00:00.010600Z - 2012-09-01T23:59:59.010600Z | 1.0 Hz, 86400 samples\n"
     ]
    },
    {
     "name": "stderr",
     "output_type": "stream",
     "text": [
      " 61%|██████    | 2306/3775 [02:16<01:29, 16.48it/s]"
     ]
    },
    {
     "name": "stdout",
     "output_type": "stream",
     "text": [
      "1 Trace(s) in Stream:\n",
      "Z4.CP06..BH1 | 2012-05-25T00:00:00.005700Z - 2012-05-25T23:59:59.005700Z | 1.0 Hz, 86400 samples\n",
      "1 Trace(s) in Stream:\n",
      "Z4.CP06..BHZ | 2012-10-26T00:00:00.021700Z - 2012-10-26T23:59:59.021700Z | 1.0 Hz, 86400 samples\n",
      "1 Trace(s) in Stream:\n",
      "Z4.CP06..BH1 | 2012-07-30T00:00:00.008900Z - 2012-07-30T23:59:59.008900Z | 1.0 Hz, 86400 samples\n",
      "1 Trace(s) in Stream:\n",
      "Z4.CP06..BH1 | 2012-06-30T00:00:00.012000Z - 2012-06-30T23:59:59.012000Z | 1.0 Hz, 86400 samples\n"
     ]
    },
    {
     "name": "stderr",
     "output_type": "stream",
     "text": [
      " 61%|██████    | 2312/3775 [02:16<01:15, 19.40it/s]"
     ]
    },
    {
     "name": "stdout",
     "output_type": "stream",
     "text": [
      "1 Trace(s) in Stream:\n",
      "Z4.CP06..BH2 | 2012-06-12T00:00:00.008800Z - 2012-06-12T23:59:59.008800Z | 1.0 Hz, 86400 samples\n",
      "1 Trace(s) in Stream:\n",
      "Z4.CP06..BHZ | 2013-01-08T00:00:00.012500Z - 2013-01-08T23:59:59.012500Z | 1.0 Hz, 86400 samples\n",
      "1 Trace(s) in Stream:\n",
      "Z4.CP06..BH1 | 2012-10-19T00:00:00.010700Z - 2012-10-19T23:59:59.010700Z | 1.0 Hz, 86400 samples\n",
      "1 Trace(s) in Stream:\n",
      "Z4.CP06..BHZ | 2012-10-25T00:00:00.020100Z - 2012-10-25T23:59:59.020100Z | 1.0 Hz, 86400 samples\n",
      "1 Trace(s) in Stream:\n",
      "Z4.CP06..BH1 | 2012-07-04T00:00:00.018300Z - 2012-07-04T23:59:59.018300Z | 1.0 Hz, 86400 samples\n",
      "1 Trace(s) in Stream:\n",
      "Z4.CP06..BH1 | 2013-03-08T00:00:00.004800Z - 2013-03-08T23:59:59.004800Z | 1.0 Hz, 86400 samples\n"
     ]
    },
    {
     "name": "stderr",
     "output_type": "stream",
     "text": [
      " 61%|██████▏   | 2316/3775 [02:16<01:15, 19.23it/s]"
     ]
    },
    {
     "name": "stdout",
     "output_type": "stream",
     "text": [
      "1 Trace(s) in Stream:\n",
      "Z4.CP06..BH1 | 2012-10-21T00:00:00.013800Z - 2012-10-21T23:59:59.013800Z | 1.0 Hz, 86400 samples\n",
      "1 Trace(s) in Stream:\n",
      "Z4.CP06..BHZ | 2012-08-23T00:00:00.021500Z - 2012-08-23T23:59:59.021500Z | 1.0 Hz, 86400 samples\n",
      "1 Trace(s) in Stream:\n",
      "Z4.CP06..BH1 | 2012-05-06T00:00:00.000900Z - 2012-05-06T23:59:59.000900Z | 1.0 Hz, 86400 samples\n",
      "1 Trace(s) in Stream:\n",
      "Z4.CP06..BH2 | 2013-01-29T00:00:00.020300Z - 2013-01-29T23:59:59.020300Z | 1.0 Hz, 86400 samples\n"
     ]
    },
    {
     "name": "stderr",
     "output_type": "stream",
     "text": [
      " 61%|██████▏   | 2320/3775 [02:17<01:16, 18.92it/s]"
     ]
    },
    {
     "name": "stdout",
     "output_type": "stream",
     "text": [
      "1 Trace(s) in Stream:\n",
      "Z4.CP06..BH1 | 2013-01-11T00:00:00.017200Z - 2013-01-11T23:59:59.017200Z | 1.0 Hz, 86400 samples\n",
      "1 Trace(s) in Stream:\n",
      "Z4.CP06..BHZ | 2012-08-13T00:00:00.005900Z - 2012-08-13T23:59:59.005900Z | 1.0 Hz, 86400 samples\n",
      "1 Trace(s) in Stream:\n",
      "Z4.CP06..BH1 | 2012-10-25T00:00:00.020100Z - 2012-10-25T23:59:59.020100Z | 1.0 Hz, 86400 samples\n",
      "1 Trace(s) in Stream:\n",
      "Z4.CP06..BH2 | 2012-09-19T00:00:00.013800Z - 2012-09-19T23:59:59.013800Z | 1.0 Hz, 86400 samples\n"
     ]
    },
    {
     "name": "stderr",
     "output_type": "stream",
     "text": [
      "\r",
      " 62%|██████▏   | 2323/3775 [02:17<01:13, 19.66it/s]"
     ]
    },
    {
     "name": "stdout",
     "output_type": "stream",
     "text": [
      "1 Trace(s) in Stream:\n",
      "Z4.CP06..BH2 | 2013-01-01T00:00:00.001500Z - 2013-01-01T23:59:59.001500Z | 1.0 Hz, 86400 samples\n",
      "1 Trace(s) in Stream:\n",
      "Z4.CP06..BH2 | 2013-03-03T00:00:00.022000Z - 2013-03-03T23:59:59.022000Z | 1.0 Hz, 86400 samples\n",
      "1 Trace(s) in Stream:\n",
      "Z4.CP06..BHZ | 2012-06-25T00:00:00.004200Z - 2012-06-25T23:59:59.004200Z | 1.0 Hz, 86400 samples\n",
      "1 Trace(s) in Stream:\n",
      "Z4.CP06..BH1 | 2012-07-26T00:00:00.002700Z - 2012-07-26T23:59:59.002700Z | 1.0 Hz, 86400 samples\n",
      "1 Trace(s) in Stream:\n",
      "Z4.CP06..BH2 | 2012-08-07T00:00:00.021500Z - 2012-08-07T23:59:59.021500Z | 1.0 Hz, 86400 samples\n"
     ]
    },
    {
     "name": "stderr",
     "output_type": "stream",
     "text": [
      " 62%|██████▏   | 2328/3775 [02:17<01:12, 19.88it/s]"
     ]
    },
    {
     "name": "stdout",
     "output_type": "stream",
     "text": [
      "1 Trace(s) in Stream:\n",
      "Z4.CP06..BH2 | 2012-12-31T00:00:00.000000Z - 2013-01-01T00:00:00.000000Z | 1.0 Hz, 86401 samples\n",
      "1 Trace(s) in Stream:\n",
      "Z4.CP06..BH2 | 2012-10-03T00:00:00.010700Z - 2012-10-03T23:59:59.010700Z | 1.0 Hz, 86400 samples\n",
      "1 Trace(s) in Stream:\n",
      "Z4.CP06..BH2 | 2012-08-29T00:00:00.005900Z - 2012-08-29T23:59:59.005900Z | 1.0 Hz, 86400 samples\n",
      "1 Trace(s) in Stream:\n",
      "Z4.CP06..BH1 | 2012-07-18T00:00:00.015200Z - 2012-07-18T23:59:59.015200Z | 1.0 Hz, 86400 samples\n"
     ]
    },
    {
     "name": "stderr",
     "output_type": "stream",
     "text": [
      " 62%|██████▏   | 2333/3775 [02:17<01:13, 19.51it/s]"
     ]
    },
    {
     "name": "stdout",
     "output_type": "stream",
     "text": [
      "1 Trace(s) in Stream:\n",
      "Z4.CP06..BH2 | 2012-09-11T00:00:00.001200Z - 2012-09-11T23:59:59.001200Z | 1.0 Hz, 86400 samples\n",
      "1 Trace(s) in Stream:\n",
      "Z4.CP06..BH1 | 2013-02-16T00:00:00.023500Z - 2013-02-16T23:59:59.023500Z | 1.0 Hz, 86400 samples\n",
      "1 Trace(s) in Stream:\n",
      "Z4.CP06..BH2 | 2012-10-05T00:00:00.013800Z - 2012-10-05T23:59:59.013800Z | 1.0 Hz, 86400 samples\n",
      "1 Trace(s) in Stream:\n",
      "Z4.CP06..BH1 | 2012-06-29T00:00:00.010400Z - 2012-06-29T23:59:59.010400Z | 1.0 Hz, 86400 samples\n",
      "1 Trace(s) in Stream:\n",
      "Z4.CP06..BHZ | 2012-07-19T00:00:00.016700Z - 2012-07-19T23:59:59.016700Z | 1.0 Hz, 86400 samples\n",
      "1 Trace(s) in Stream:\n",
      "Z4.CP06..BH2 | 2012-05-31T00:00:00.015000Z - 2012-05-31T23:59:59.015000Z | 1.0 Hz, 86400 samples\n"
     ]
    },
    {
     "name": "stderr",
     "output_type": "stream",
     "text": [
      " 62%|██████▏   | 2338/3775 [02:18<01:14, 19.17it/s]"
     ]
    },
    {
     "name": "stdout",
     "output_type": "stream",
     "text": [
      "1 Trace(s) in Stream:\n",
      "Z4.CP06..BH2 | 2012-09-05T00:00:00.016800Z - 2012-09-05T23:59:59.016800Z | 1.0 Hz, 86400 samples\n",
      "1 Trace(s) in Stream:\n",
      "Z4.CP06..BHZ | 2012-05-15T00:00:00.015000Z - 2012-05-15T23:59:59.015000Z | 1.0 Hz, 86400 samples\n",
      "1 Trace(s) in Stream:\n",
      "Z4.CP06..BHZ | 2013-03-13T00:00:00.012600Z - 2013-03-13T23:59:59.012600Z | 1.0 Hz, 86400 samples\n",
      "1 Trace(s) in Stream:\n",
      "Z4.CP06..BHZ | 2013-01-19T00:00:00.004700Z - 2013-01-19T23:59:59.004700Z | 1.0 Hz, 86400 samples\n"
     ]
    },
    {
     "name": "stderr",
     "output_type": "stream",
     "text": [
      " 62%|██████▏   | 2343/3775 [02:18<01:12, 19.64it/s]"
     ]
    },
    {
     "name": "stdout",
     "output_type": "stream",
     "text": [
      "1 Trace(s) in Stream:\n",
      "Z4.CP06..BH2 | 2013-01-14T00:00:00.021900Z - 2013-01-14T23:59:59.021900Z | 1.0 Hz, 86400 samples\n",
      "1 Trace(s) in Stream:\n",
      "Z4.CP06..BH2 | 2012-07-10T00:00:00.002600Z - 2012-07-10T23:59:59.002600Z | 1.0 Hz, 86400 samples\n",
      "1 Trace(s) in Stream:\n",
      "Z4.CP06..BH1 | 2012-05-21T00:00:00.024400Z - 2012-05-21T23:59:59.024400Z | 1.0 Hz, 86400 samples\n",
      "1 Trace(s) in Stream:\n",
      "Z4.CP06..BHZ | 2012-12-22T00:00:00.010900Z - 2012-12-22T23:59:59.010900Z | 1.0 Hz, 86400 samples\n",
      "1 Trace(s) in Stream:\n",
      "Z4.CP06..BH1 | 2012-10-18T00:00:00.009100Z - 2012-10-18T23:59:59.009100Z | 1.0 Hz, 86400 samples\n"
     ]
    },
    {
     "name": "stderr",
     "output_type": "stream",
     "text": [
      " 62%|██████▏   | 2347/3775 [02:18<01:15, 18.92it/s]"
     ]
    },
    {
     "name": "stdout",
     "output_type": "stream",
     "text": [
      "1 Trace(s) in Stream:\n",
      "Z4.CP06..BH1 | 2013-03-11T00:00:00.009500Z - 2013-03-11T23:59:59.009500Z | 1.0 Hz, 86400 samples\n",
      "1 Trace(s) in Stream:\n",
      "Z4.CP06..BH2 | 2012-07-16T00:00:00.012000Z - 2012-07-16T23:59:59.012000Z | 1.0 Hz, 86400 samples\n",
      "1 Trace(s) in Stream:\n",
      "Z4.CP06..BH2 | 2012-06-21T00:00:00.022900Z - 2012-06-21T23:59:59.022900Z | 1.0 Hz, 86400 samples\n",
      "1 Trace(s) in Stream:\n",
      "Z4.CP06..BHZ | 2012-10-24T00:00:00.018500Z - 2012-10-24T23:59:59.018500Z | 1.0 Hz, 86400 samples\n"
     ]
    },
    {
     "name": "stderr",
     "output_type": "stream",
     "text": [
      " 62%|██████▏   | 2352/3775 [02:18<01:12, 19.57it/s]"
     ]
    },
    {
     "name": "stdout",
     "output_type": "stream",
     "text": [
      "1 Trace(s) in Stream:\n",
      "Z4.CP06..BHZ | 2012-05-28T00:00:00.010300Z - 2012-05-28T23:59:59.010300Z | 1.0 Hz, 86400 samples\n",
      "1 Trace(s) in Stream:\n",
      "Z4.CP06..BHZ | 2012-06-13T00:00:00.010400Z - 2012-06-13T23:59:59.010400Z | 1.0 Hz, 86400 samples\n",
      "1 Trace(s) in Stream:\n",
      "Z4.CP06..BH2 | 2012-08-04T00:00:00.016800Z - 2012-08-04T23:59:59.016800Z | 1.0 Hz, 86400 samples\n",
      "1 Trace(s) in Stream:\n",
      "Z4.CP06..BH1 | 2012-12-17T00:00:00.003000Z - 2012-12-17T23:59:59.003000Z | 1.0 Hz, 86400 samples\n",
      "1 Trace(s) in Stream:\n",
      "Z4.CP06..BH1 | 2012-07-06T00:00:00.021400Z - 2012-07-06T23:59:59.021400Z | 1.0 Hz, 86400 samples\n",
      "1 Trace(s) in Stream:\n",
      "Z4.CP06..BHZ | 2013-03-11T00:00:00.009500Z - 2013-03-11T23:59:59.009500Z | 1.0 Hz, 86400 samples\n"
     ]
    },
    {
     "name": "stderr",
     "output_type": "stream",
     "text": [
      " 62%|██████▏   | 2358/3775 [02:19<01:14, 19.13it/s]"
     ]
    },
    {
     "name": "stdout",
     "output_type": "stream",
     "text": [
      "1 Trace(s) in Stream:\n",
      "Z4.CP06..BH2 | 2012-07-22T00:00:00.021400Z - 2012-07-22T23:59:59.021400Z | 1.0 Hz, 86400 samples\n",
      "1 Trace(s) in Stream:\n",
      "Z4.CP06..BHZ | 2012-09-21T00:00:00.016900Z - 2012-09-21T23:59:59.016900Z | 1.0 Hz, 86400 samples\n",
      "1 Trace(s) in Stream:\n",
      "Z4.CP06..BH2 | 2013-01-31T00:00:00.023500Z - 2013-01-31T23:59:59.023500Z | 1.0 Hz, 86400 samples\n",
      "1 Trace(s) in Stream:\n",
      "Z4.CP06..BH1 | 2012-07-31T00:00:00.010500Z - 2012-07-31T23:59:59.010500Z | 1.0 Hz, 86400 samples\n"
     ]
    },
    {
     "name": "stderr",
     "output_type": "stream",
     "text": [
      "\r",
      " 63%|██████▎   | 2361/3775 [02:19<01:11, 19.88it/s]"
     ]
    },
    {
     "name": "stdout",
     "output_type": "stream",
     "text": [
      "1 Trace(s) in Stream:\n",
      "Z4.CP06..BH2 | 2012-06-13T00:00:00.010400Z - 2012-06-13T23:59:59.010400Z | 1.0 Hz, 86400 samples\n",
      "1 Trace(s) in Stream:\n",
      "Z4.CP06..BH1 | 2012-06-08T00:00:00.002600Z - 2012-06-08T23:59:59.002600Z | 1.0 Hz, 86400 samples\n",
      "1 Trace(s) in Stream:\n",
      "Z4.CP06..BH2 | 2012-07-14T00:00:00.008900Z - 2012-07-14T23:59:59.008900Z | 1.0 Hz, 86400 samples\n",
      "1 Trace(s) in Stream:\n",
      "Z4.CP06..BHZ | 2013-01-25T00:00:00.014100Z - 2013-01-25T23:59:59.014100Z | 1.0 Hz, 86400 samples\n"
     ]
    },
    {
     "name": "stderr",
     "output_type": "stream",
     "text": [
      " 63%|██████▎   | 2365/3775 [02:19<01:16, 18.39it/s]"
     ]
    },
    {
     "name": "stdout",
     "output_type": "stream",
     "text": [
      "1 Trace(s) in Stream:\n",
      "Z4.CP06..BH1 | 2012-10-28T00:00:00.024800Z - 2012-10-28T23:59:59.024800Z | 1.0 Hz, 86400 samples\n",
      "1 Trace(s) in Stream:\n",
      "Z4.CP06..BHZ | 2012-06-29T00:00:00.010400Z - 2012-06-29T23:59:59.010400Z | 1.0 Hz, 86400 samples\n",
      "1 Trace(s) in Stream:\n",
      "Z4.CP06..BH2 | 2012-06-27T00:00:00.007300Z - 2012-06-27T23:59:59.007300Z | 1.0 Hz, 86400 samples\n",
      "1 Trace(s) in Stream:\n",
      "Z4.CP06..BH2 | 2013-02-10T00:00:00.014100Z - 2013-02-10T23:59:59.014100Z | 1.0 Hz, 86400 samples\n"
     ]
    },
    {
     "name": "stderr",
     "output_type": "stream",
     "text": [
      " 63%|██████▎   | 2369/3775 [02:19<01:20, 17.45it/s]"
     ]
    },
    {
     "name": "stdout",
     "output_type": "stream",
     "text": [
      "1 Trace(s) in Stream:\n",
      "Z4.CP06..BH2 | 2012-05-15T00:00:00.015000Z - 2012-05-15T23:59:59.015000Z | 1.0 Hz, 86400 samples\n",
      "1 Trace(s) in Stream:\n",
      "Z4.CP06..BHZ | 2012-12-14T00:00:00.023400Z - 2012-12-14T23:59:59.023400Z | 1.0 Hz, 86400 samples\n",
      "1 Trace(s) in Stream:\n",
      "Z4.CP06..BHZ | 2012-08-11T00:00:00.002700Z - 2012-08-11T23:59:59.002700Z | 1.0 Hz, 86400 samples\n",
      "1 Trace(s) in Stream:\n",
      "Z4.CP06..BHZ | 2012-11-22T00:00:00.013900Z - 2012-11-22T23:59:59.013900Z | 1.0 Hz, 86400 samples\n"
     ]
    },
    {
     "name": "stderr",
     "output_type": "stream",
     "text": [
      " 63%|██████▎   | 2373/3775 [02:19<01:23, 16.72it/s]"
     ]
    },
    {
     "name": "stdout",
     "output_type": "stream",
     "text": [
      "1 Trace(s) in Stream:\n",
      "Z4.CP06..BH2 | 2013-02-06T00:00:00.007900Z - 2013-02-06T23:59:59.007900Z | 1.0 Hz, 86400 samples\n",
      "1 Trace(s) in Stream:\n",
      "Z4.CP06..BH1 | 2012-10-31T00:00:00.004500Z - 2012-10-31T23:59:59.004500Z | 1.0 Hz, 86400 samples\n",
      "1 Trace(s) in Stream:\n",
      "Z4.CP06..BH1 | 2012-11-10T00:00:00.020100Z - 2012-11-10T23:59:59.020100Z | 1.0 Hz, 86400 samples\n",
      "1 Trace(s) in Stream:\n",
      "Z4.CP06..BH1 | 2012-07-13T00:00:00.007300Z - 2012-07-13T23:59:59.007300Z | 1.0 Hz, 86400 samples\n"
     ]
    },
    {
     "name": "stderr",
     "output_type": "stream",
     "text": [
      " 63%|██████▎   | 2377/3775 [02:20<01:21, 17.13it/s]"
     ]
    },
    {
     "name": "stdout",
     "output_type": "stream",
     "text": [
      "1 Trace(s) in Stream:\n",
      "Z4.CP06..BH2 | 2012-08-17T00:00:00.012100Z - 2012-08-17T23:59:59.012100Z | 1.0 Hz, 86400 samples\n",
      "1 Trace(s) in Stream:\n",
      "Z4.CP06..BH2 | 2012-05-17T00:00:00.018100Z - 2012-05-17T23:59:59.018100Z | 1.0 Hz, 86400 samples\n",
      "1 Trace(s) in Stream:\n",
      "Z4.CP06..BHZ | 2013-01-09T00:00:00.014000Z - 2013-01-09T23:59:59.014000Z | 1.0 Hz, 86400 samples\n",
      "1 Trace(s) in Stream:\n",
      "Z4.CP06..BH2 | 2013-02-19T00:00:00.003200Z - 2013-02-19T23:59:59.003200Z | 1.0 Hz, 86400 samples\n"
     ]
    },
    {
     "name": "stderr",
     "output_type": "stream",
     "text": [
      "\r",
      " 63%|██████▎   | 2380/3775 [02:20<01:15, 18.41it/s]"
     ]
    },
    {
     "name": "stdout",
     "output_type": "stream",
     "text": [
      "1 Trace(s) in Stream:\n",
      "Z4.CP06..BHZ | 2013-03-04T00:00:00.023600Z - 2013-03-04T23:59:59.023600Z | 1.0 Hz, 86400 samples\n",
      "1 Trace(s) in Stream:\n",
      "Z4.CP06..BH2 | 2013-03-10T00:00:00.007900Z - 2013-03-10T23:59:59.007900Z | 1.0 Hz, 86400 samples\n",
      "1 Trace(s) in Stream:\n",
      "Z4.CP06..BHZ | 2012-09-11T00:00:00.001200Z - 2012-09-11T23:59:59.001200Z | 1.0 Hz, 86400 samples\n",
      "1 Trace(s) in Stream:\n",
      "Z4.CP06..BHZ | 2012-05-31T00:00:00.015000Z - 2012-05-31T23:59:59.015000Z | 1.0 Hz, 86400 samples\n",
      "1 Trace(s) in Stream:\n",
      "Z4.CP06..BH1 | 2012-05-08T00:00:00.004000Z - 2012-05-08T23:59:59.004000Z | 1.0 Hz, 86400 samples\n"
     ]
    },
    {
     "name": "stderr",
     "output_type": "stream",
     "text": [
      " 63%|██████▎   | 2387/3775 [02:20<01:19, 17.54it/s]"
     ]
    },
    {
     "name": "stdout",
     "output_type": "stream",
     "text": [
      "1 Trace(s) in Stream:\n",
      "Z4.CP06..BHZ | 2012-07-13T00:00:00.007300Z - 2012-07-13T23:59:59.007300Z | 1.0 Hz, 86400 samples\n",
      "1 Trace(s) in Stream:\n",
      "Z4.CP06..BHZ | 2012-08-15T00:00:00.009000Z - 2012-08-15T23:59:59.009000Z | 1.0 Hz, 86400 samples\n",
      "1 Trace(s) in Stream:\n",
      "Z4.CP06..BH1 | 2012-07-02T00:00:00.015100Z - 2012-07-02T23:59:59.015100Z | 1.0 Hz, 86400 samples\n",
      "1 Trace(s) in Stream:\n",
      "Z4.CP06..BH1 | 2012-12-22T00:00:00.010900Z - 2012-12-22T23:59:59.010900Z | 1.0 Hz, 86400 samples\n"
     ]
    },
    {
     "name": "stderr",
     "output_type": "stream",
     "text": [
      "\r",
      " 63%|██████▎   | 2390/3775 [02:20<01:18, 17.67it/s]"
     ]
    },
    {
     "name": "stdout",
     "output_type": "stream",
     "text": [
      "1 Trace(s) in Stream:\n",
      "Z4.CP06..BHZ | 2012-06-10T00:00:00.005700Z - 2012-06-10T23:59:59.005700Z | 1.0 Hz, 86400 samples\n",
      "1 Trace(s) in Stream:\n",
      "Z4.CP06..BH1 | 2013-01-14T00:00:00.021900Z - 2013-01-14T23:59:59.021900Z | 1.0 Hz, 86400 samples\n",
      "1 Trace(s) in Stream:\n",
      "Z4.CP06..BH2 | 2012-10-28T00:00:00.024800Z - 2012-10-28T23:59:59.024800Z | 1.0 Hz, 86400 samples\n",
      "1 Trace(s) in Stream:\n",
      "Z4.CP06..BH1 | 2012-06-15T00:00:00.013500Z - 2012-06-15T23:59:59.013500Z | 1.0 Hz, 86400 samples\n"
     ]
    },
    {
     "name": "stderr",
     "output_type": "stream",
     "text": [
      " 63%|██████▎   | 2394/3775 [02:21<01:17, 17.82it/s]"
     ]
    },
    {
     "name": "stdout",
     "output_type": "stream",
     "text": [
      "1 Trace(s) in Stream:\n",
      "Z4.CP06..BH1 | 2012-10-01T00:00:00.007500Z - 2012-10-01T23:59:59.007500Z | 1.0 Hz, 86400 samples\n",
      "1 Trace(s) in Stream:\n",
      "Z4.CP06..BHZ | 2012-07-22T00:00:00.021400Z - 2012-07-22T23:59:59.021400Z | 1.0 Hz, 86400 samples\n",
      "1 Trace(s) in Stream:\n",
      "Z4.CP06..BH2 | 2013-03-06T00:00:00.001700Z - 2013-03-06T23:59:59.001700Z | 1.0 Hz, 86400 samples\n",
      "1 Trace(s) in Stream:\n",
      "Z4.CP06..BHZ | 2013-01-11T00:00:00.017200Z - 2013-01-11T23:59:59.017200Z | 1.0 Hz, 86400 samples\n"
     ]
    },
    {
     "name": "stderr",
     "output_type": "stream",
     "text": [
      " 64%|██████▎   | 2398/3775 [02:21<01:18, 17.55it/s]"
     ]
    },
    {
     "name": "stdout",
     "output_type": "stream",
     "text": [
      "1 Trace(s) in Stream:\n",
      "Z4.CP06..BH1 | 2012-05-13T00:00:00.011900Z - 2012-05-13T23:59:59.011900Z | 1.0 Hz, 86400 samples\n",
      "1 Trace(s) in Stream:\n",
      "Z4.CP06..BH2 | 2012-06-14T00:00:00.012000Z - 2012-06-14T23:59:59.012000Z | 1.0 Hz, 86400 samples\n",
      "1 Trace(s) in Stream:\n",
      "Z4.CP06..BHZ | 2013-02-18T00:00:00.001600Z - 2013-02-18T23:59:59.001600Z | 1.0 Hz, 86400 samples\n",
      "1 Trace(s) in Stream:\n",
      "Z4.CP06..BH1 | 2012-10-06T00:00:00.015400Z - 2012-10-06T23:59:59.015400Z | 1.0 Hz, 86400 samples\n"
     ]
    },
    {
     "name": "stderr",
     "output_type": "stream",
     "text": [
      " 64%|██████▎   | 2402/3775 [02:21<01:16, 17.89it/s]"
     ]
    },
    {
     "name": "stdout",
     "output_type": "stream",
     "text": [
      "1 Trace(s) in Stream:\n",
      "Z4.CP06..BH1 | 2012-09-20T00:00:00.015300Z - 2012-09-20T23:59:59.015300Z | 1.0 Hz, 86400 samples\n",
      "1 Trace(s) in Stream:\n",
      "Z4.CP06..BHZ | 2013-01-28T00:00:00.018800Z - 2013-01-28T23:59:59.018800Z | 1.0 Hz, 86400 samples\n",
      "1 Trace(s) in Stream:\n",
      "Z4.CP06..BHZ | 2013-01-20T00:00:00.006300Z - 2013-01-20T23:59:59.006300Z | 1.0 Hz, 86400 samples\n",
      "1 Trace(s) in Stream:\n",
      "Z4.CP06..BH2 | 2013-03-14T00:00:00.014200Z - 2013-03-14T23:59:59.014200Z | 1.0 Hz, 86400 samples\n"
     ]
    },
    {
     "name": "stderr",
     "output_type": "stream",
     "text": [
      " 64%|██████▍   | 2407/3775 [02:21<01:18, 17.53it/s]"
     ]
    },
    {
     "name": "stdout",
     "output_type": "stream",
     "text": [
      "1 Trace(s) in Stream:\n",
      "Z4.CP06..BHZ | 2012-09-14T00:00:00.005900Z - 2012-09-14T23:59:59.005900Z | 1.0 Hz, 86400 samples\n",
      "1 Trace(s) in Stream:\n",
      "Z4.CP06..BHZ | 2012-09-09T00:00:00.023100Z - 2012-09-09T23:59:59.023100Z | 1.0 Hz, 86400 samples\n",
      "1 Trace(s) in Stream:\n",
      "Z4.CP06..BHZ | 2013-01-24T00:00:00.012500Z - 2013-01-24T23:59:59.012500Z | 1.0 Hz, 86400 samples\n",
      "1 Trace(s) in Stream:\n",
      "Z4.CP06..BH2 | 2012-08-25T00:00:00.024600Z - 2012-08-25T23:59:59.024600Z | 1.0 Hz, 86400 samples\n"
     ]
    },
    {
     "name": "stderr",
     "output_type": "stream",
     "text": [
      " 64%|██████▍   | 2411/3775 [02:22<01:14, 18.25it/s]"
     ]
    },
    {
     "name": "stdout",
     "output_type": "stream",
     "text": [
      "1 Trace(s) in Stream:\n",
      "Z4.CP06..BH2 | 2013-01-05T00:00:00.007800Z - 2013-01-05T23:59:59.007800Z | 1.0 Hz, 86400 samples\n",
      "1 Trace(s) in Stream:\n",
      "Z4.CP06..BH1 | 2012-06-05T00:00:00.022900Z - 2012-06-05T23:59:59.022900Z | 1.0 Hz, 86400 samples\n",
      "1 Trace(s) in Stream:\n",
      "Z4.CP06..BH1 | 2012-06-28T00:00:00.008900Z - 2012-06-28T23:59:59.008900Z | 1.0 Hz, 86400 samples\n",
      "1 Trace(s) in Stream:\n",
      "Z4.CP06..BH2 | 2012-10-14T00:00:00.002900Z - 2012-10-14T23:59:59.002900Z | 1.0 Hz, 86400 samples\n"
     ]
    },
    {
     "name": "stderr",
     "output_type": "stream",
     "text": [
      " 64%|██████▍   | 2415/3775 [02:22<01:14, 18.37it/s]"
     ]
    },
    {
     "name": "stdout",
     "output_type": "stream",
     "text": [
      "1 Trace(s) in Stream:\n",
      "Z4.CP06..BHZ | 2012-10-10T00:00:00.021600Z - 2012-10-10T23:59:59.021600Z | 1.0 Hz, 86400 samples\n",
      "1 Trace(s) in Stream:\n",
      "Z4.CP06..BH2 | 2012-05-18T00:00:00.019700Z - 2012-05-18T23:59:59.019700Z | 1.0 Hz, 86400 samples\n",
      "1 Trace(s) in Stream:\n",
      "Z4.CP06..BH1 | 2013-03-15T00:00:00.015800Z - 2013-03-15T23:59:59.015800Z | 1.0 Hz, 86400 samples\n",
      "1 Trace(s) in Stream:\n",
      "Z4.CP06..BH2 | 2012-08-13T00:00:00.005900Z - 2012-08-13T23:59:59.005900Z | 1.0 Hz, 86400 samples\n",
      "1 Trace(s) in Stream:\n",
      "Z4.CP06..BH2 | 2012-11-08T00:00:00.017000Z - 2012-11-08T23:59:59.017000Z | 1.0 Hz, 86400 samples\n"
     ]
    },
    {
     "name": "stderr",
     "output_type": "stream",
     "text": [
      " 64%|██████▍   | 2420/3775 [02:22<01:19, 17.02it/s]"
     ]
    },
    {
     "name": "stdout",
     "output_type": "stream",
     "text": [
      "1 Trace(s) in Stream:\n",
      "Z4.CP06..BH2 | 2012-08-05T00:00:00.018300Z - 2012-08-05T23:59:59.018300Z | 1.0 Hz, 86400 samples\n",
      "1 Trace(s) in Stream:\n",
      "Z4.CP06..BHZ | 2013-03-16T00:00:00.017300Z - 2013-03-16T23:59:59.017300Z | 1.0 Hz, 86400 samples\n",
      "1 Trace(s) in Stream:\n",
      "Z4.CP06..BH1 | 2012-06-21T00:00:00.022900Z - 2012-06-21T23:59:59.022900Z | 1.0 Hz, 86400 samples\n",
      "1 Trace(s) in Stream:\n",
      "Z4.CP06..BH1 | 2012-09-27T00:00:00.001300Z - 2012-09-27T23:59:59.001300Z | 1.0 Hz, 86400 samples\n",
      "1 Trace(s) in Stream:\n",
      "Z4.CP06..BH1 | 2012-09-28T00:00:00.002800Z - 2012-09-28T23:59:59.002800Z | 1.0 Hz, 86400 samples\n"
     ]
    },
    {
     "name": "stderr",
     "output_type": "stream",
     "text": [
      " 64%|██████▍   | 2425/3775 [02:22<01:12, 18.57it/s]"
     ]
    },
    {
     "name": "stdout",
     "output_type": "stream",
     "text": [
      "1 Trace(s) in Stream:\n",
      "Z4.CP06..BH1 | 2012-05-29T00:00:00.011900Z - 2012-05-29T23:59:59.011900Z | 1.0 Hz, 86400 samples\n",
      "1 Trace(s) in Stream:\n",
      "Z4.CP06..BH2 | 2012-11-20T00:00:00.010800Z - 2012-11-20T23:59:59.010800Z | 1.0 Hz, 86400 samples\n",
      "1 Trace(s) in Stream:\n",
      "Z4.CP06..BHZ | 2012-12-10T00:00:00.017100Z - 2012-12-10T23:59:59.017100Z | 1.0 Hz, 86400 samples\n",
      "1 Trace(s) in Stream:\n",
      "Z4.CP06..BH1 | 2012-08-04T00:00:00.016800Z - 2012-08-04T23:59:59.016800Z | 1.0 Hz, 86400 samples\n",
      "1 Trace(s) in Stream:\n",
      "Z4.CP06..BH1 | 2012-08-15T00:00:00.009000Z - 2012-08-15T23:59:59.009000Z | 1.0 Hz, 86400 samples\n"
     ]
    },
    {
     "name": "stderr",
     "output_type": "stream",
     "text": [
      " 64%|██████▍   | 2430/3775 [02:23<01:12, 18.54it/s]"
     ]
    },
    {
     "name": "stdout",
     "output_type": "stream",
     "text": [
      "1 Trace(s) in Stream:\n",
      "Z4.CP06..BH1 | 2013-02-13T00:00:00.018800Z - 2013-02-13T23:59:59.018800Z | 1.0 Hz, 86400 samples\n",
      "1 Trace(s) in Stream:\n",
      "Z4.CP06..BHZ | 2012-06-04T00:00:00.021300Z - 2012-06-04T23:59:59.021300Z | 1.0 Hz, 86400 samples\n",
      "1 Trace(s) in Stream:\n",
      "Z4.CP06..BH2 | 2013-03-08T00:00:00.004800Z - 2013-03-08T23:59:59.004800Z | 1.0 Hz, 86400 samples\n",
      "1 Trace(s) in Stream:\n",
      "Z4.CP06..BHZ | 2012-11-23T00:00:00.015500Z - 2012-11-23T23:59:59.015500Z | 1.0 Hz, 86400 samples\n"
     ]
    },
    {
     "name": "stderr",
     "output_type": "stream",
     "text": [
      " 64%|██████▍   | 2434/3775 [02:23<01:14, 18.03it/s]"
     ]
    },
    {
     "name": "stdout",
     "output_type": "stream",
     "text": [
      "1 Trace(s) in Stream:\n",
      "Z4.CP06..BH2 | 2012-10-18T00:00:00.009100Z - 2012-10-18T23:59:59.009100Z | 1.0 Hz, 86400 samples\n",
      "1 Trace(s) in Stream:\n",
      "Z4.CP06..BH1 | 2013-03-09T00:00:00.006400Z - 2013-03-09T23:59:59.006400Z | 1.0 Hz, 86400 samples\n",
      "1 Trace(s) in Stream:\n",
      "Z4.CP06..BHZ | 2013-01-27T00:00:00.017200Z - 2013-01-27T23:59:59.017200Z | 1.0 Hz, 86400 samples\n",
      "1 Trace(s) in Stream:\n",
      "Z4.CP06..BHZ | 2012-10-20T00:00:00.012300Z - 2012-10-20T23:59:59.012300Z | 1.0 Hz, 86400 samples\n"
     ]
    },
    {
     "name": "stderr",
     "output_type": "stream",
     "text": [
      "\r",
      " 65%|██████▍   | 2436/3775 [02:23<01:14, 17.93it/s]"
     ]
    },
    {
     "name": "stdout",
     "output_type": "stream",
     "text": [
      "1 Trace(s) in Stream:\n",
      "Z4.CP06..BHZ | 2012-11-13T00:00:00.024800Z - 2012-11-13T23:59:59.024800Z | 1.0 Hz, 86400 samples\n",
      "1 Trace(s) in Stream:\n",
      "Z4.CP06..BHZ | 2012-09-05T00:00:00.016800Z - 2012-09-05T23:59:59.016800Z | 1.0 Hz, 86400 samples\n",
      "1 Trace(s) in Stream:\n",
      "Z4.CP06..BH1 | 2013-03-05T00:00:00.000100Z - 2013-03-05T23:59:59.000100Z | 1.0 Hz, 86400 samples\n",
      "1 Trace(s) in Stream:\n",
      "Z4.CP06..BHZ | 2012-12-21T00:00:00.009300Z - 2012-12-21T23:59:59.009300Z | 1.0 Hz, 86400 samples\n"
     ]
    },
    {
     "name": "stderr",
     "output_type": "stream",
     "text": [
      " 65%|██████▍   | 2442/3775 [02:23<01:14, 17.88it/s]"
     ]
    },
    {
     "name": "stdout",
     "output_type": "stream",
     "text": [
      "1 Trace(s) in Stream:\n",
      "Z4.CP06..BH1 | 2013-03-02T00:00:00.020400Z - 2013-03-02T23:59:59.020400Z | 1.0 Hz, 86400 samples\n",
      "1 Trace(s) in Stream:\n",
      "Z4.CP06..BH2 | 2012-11-25T00:00:00.018600Z - 2012-11-25T23:59:59.018600Z | 1.0 Hz, 86400 samples\n",
      "1 Trace(s) in Stream:\n",
      "Z4.CP06..BH2 | 2013-02-01T00:00:00.000000Z - 2013-02-02T00:00:00.000000Z | 1.0 Hz, 86401 samples\n",
      "1 Trace(s) in Stream:\n",
      "Z4.CP06..BHZ | 2012-05-07T00:00:00.002500Z - 2012-05-07T23:59:59.002500Z | 1.0 Hz, 86400 samples\n"
     ]
    },
    {
     "name": "stderr",
     "output_type": "stream",
     "text": [
      " 65%|██████▍   | 2447/3775 [02:24<01:09, 19.18it/s]"
     ]
    },
    {
     "name": "stdout",
     "output_type": "stream",
     "text": [
      "1 Trace(s) in Stream:\n",
      "Z4.CP06..BHZ | 2012-09-28T00:00:00.002800Z - 2012-09-28T23:59:59.002800Z | 1.0 Hz, 86400 samples\n",
      "1 Trace(s) in Stream:\n",
      "Z4.CP06..BH1 | 2012-09-07T00:00:00.020000Z - 2012-09-07T23:59:59.020000Z | 1.0 Hz, 86400 samples\n",
      "1 Trace(s) in Stream:\n",
      "Z4.CP06..BHZ | 2012-10-01T00:00:00.007500Z - 2012-10-01T23:59:59.007500Z | 1.0 Hz, 86400 samples\n",
      "1 Trace(s) in Stream:\n",
      "Z4.CP06..BH2 | 2012-05-12T00:00:00.010300Z - 2012-05-12T23:59:59.010300Z | 1.0 Hz, 86400 samples\n",
      "1 Trace(s) in Stream:\n",
      "Z4.CP06..BH1 | 2012-12-18T00:00:00.004600Z - 2012-12-18T23:59:59.004600Z | 1.0 Hz, 86400 samples\n"
     ]
    },
    {
     "name": "stderr",
     "output_type": "stream",
     "text": [
      "\r",
      " 65%|██████▍   | 2449/3775 [02:24<01:10, 18.73it/s]"
     ]
    },
    {
     "name": "stdout",
     "output_type": "stream",
     "text": [
      "1 Trace(s) in Stream:\n",
      "Z4.CP06..BH1 | 2012-11-16T00:00:00.004500Z - 2012-11-16T23:59:59.004500Z | 1.0 Hz, 86400 samples\n",
      "1 Trace(s) in Stream:\n",
      "Z4.CP06..BHZ | 2012-07-16T00:00:00.012000Z - 2012-07-16T23:59:59.012000Z | 1.0 Hz, 86400 samples\n",
      "1 Trace(s) in Stream:\n",
      "Z4.CP06..BH2 | 2013-02-25T00:00:00.012600Z - 2013-02-25T23:59:59.012600Z | 1.0 Hz, 86400 samples\n",
      "1 Trace(s) in Stream:\n",
      "Z4.CP06..BH1 | 2012-09-03T00:00:00.013700Z - 2012-09-03T23:59:59.013700Z | 1.0 Hz, 86400 samples\n"
     ]
    },
    {
     "name": "stderr",
     "output_type": "stream",
     "text": [
      " 65%|██████▌   | 2454/3775 [02:24<01:14, 17.76it/s]"
     ]
    },
    {
     "name": "stdout",
     "output_type": "stream",
     "text": [
      "1 Trace(s) in Stream:\n",
      "Z4.CP06..BH2 | 2013-02-22T00:00:00.007900Z - 2013-02-22T23:59:59.007900Z | 1.0 Hz, 86400 samples\n",
      "1 Trace(s) in Stream:\n",
      "Z4.CP06..BH2 | 2012-08-20T00:00:00.016800Z - 2012-08-20T23:59:59.016800Z | 1.0 Hz, 86400 samples\n",
      "1 Trace(s) in Stream:\n",
      "Z4.CP06..BH2 | 2012-08-03T00:00:00.015200Z - 2012-08-03T23:59:59.015200Z | 1.0 Hz, 86400 samples\n",
      "1 Trace(s) in Stream:\n",
      "Z4.CP06..BHZ | 2013-02-19T00:00:00.003200Z - 2013-02-19T23:59:59.003200Z | 1.0 Hz, 86400 samples\n"
     ]
    },
    {
     "name": "stderr",
     "output_type": "stream",
     "text": [
      " 65%|██████▌   | 2459/3775 [02:24<01:13, 17.93it/s]"
     ]
    },
    {
     "name": "stdout",
     "output_type": "stream",
     "text": [
      "1 Trace(s) in Stream:\n",
      "Z4.CP06..BH1 | 2012-07-12T00:00:00.005800Z - 2012-07-12T23:59:59.005800Z | 1.0 Hz, 86400 samples\n",
      "1 Trace(s) in Stream:\n",
      "Z4.CP06..BHZ | 2013-03-09T00:00:00.006400Z - 2013-03-09T23:59:59.006400Z | 1.0 Hz, 86400 samples\n",
      "1 Trace(s) in Stream:\n",
      "Z4.CP06..BH2 | 2012-08-21T00:00:00.018400Z - 2012-08-21T23:59:59.018400Z | 1.0 Hz, 86400 samples\n",
      "1 Trace(s) in Stream:\n",
      "Z4.CP06..BHZ | 2012-08-27T00:00:00.002800Z - 2012-08-27T23:59:59.002800Z | 1.0 Hz, 86400 samples\n"
     ]
    },
    {
     "name": "stderr",
     "output_type": "stream",
     "text": [
      " 65%|██████▌   | 2463/3775 [02:24<01:13, 17.84it/s]"
     ]
    },
    {
     "name": "stdout",
     "output_type": "stream",
     "text": [
      "1 Trace(s) in Stream:\n",
      "Z4.CP06..BH2 | 2012-10-29T00:00:00.001400Z - 2012-10-29T23:59:59.001400Z | 1.0 Hz, 86400 samples\n",
      "1 Trace(s) in Stream:\n",
      "Z4.CP06..BH1 | 2012-05-09T00:00:00.005600Z - 2012-05-09T23:59:59.005600Z | 1.0 Hz, 86400 samples\n",
      "1 Trace(s) in Stream:\n",
      "Z4.CP06..BH1 | 2013-01-05T00:00:00.007800Z - 2013-01-05T23:59:59.007800Z | 1.0 Hz, 86400 samples\n",
      "1 Trace(s) in Stream:\n",
      "Z4.CP06..BHZ | 2012-10-23T00:00:00.017000Z - 2012-10-23T23:59:59.017000Z | 1.0 Hz, 86400 samples\n"
     ]
    },
    {
     "name": "stderr",
     "output_type": "stream",
     "text": [
      " 65%|██████▌   | 2468/3775 [02:25<01:10, 18.52it/s]"
     ]
    },
    {
     "name": "stdout",
     "output_type": "stream",
     "text": [
      "1 Trace(s) in Stream:\n",
      "Z4.CP06..BH2 | 2012-07-26T00:00:00.002700Z - 2012-07-26T23:59:59.002700Z | 1.0 Hz, 86400 samples\n",
      "1 Trace(s) in Stream:\n",
      "Z4.CP06..BHZ | 2012-07-03T00:00:00.016700Z - 2012-07-03T23:59:59.016700Z | 1.0 Hz, 86400 samples\n",
      "1 Trace(s) in Stream:\n",
      "Z4.CP06..BHZ | 2013-02-11T00:00:00.015700Z - 2013-02-11T23:59:59.015700Z | 1.0 Hz, 86400 samples\n",
      "1 Trace(s) in Stream:\n",
      "Z4.CP06..BH2 | 2012-11-24T00:00:00.017000Z - 2012-11-24T23:59:59.017000Z | 1.0 Hz, 86400 samples\n",
      "1 Trace(s) in Stream:\n",
      "Z4.CP06..BHZ | 2012-12-04T00:00:00.007700Z - 2012-12-04T23:59:59.007700Z | 1.0 Hz, 86400 samples\n",
      "1 Trace(s) in Stream:\n",
      "Z4.CP06..BH1 | 2012-05-14T00:00:00.013400Z - 2012-05-14T23:59:59.013400Z | 1.0 Hz, 86400 samples\n"
     ]
    },
    {
     "name": "stderr",
     "output_type": "stream",
     "text": [
      " 66%|██████▌   | 2473/3775 [02:25<01:08, 19.04it/s]"
     ]
    },
    {
     "name": "stdout",
     "output_type": "stream",
     "text": [
      "1 Trace(s) in Stream:\n",
      "Z4.CP06..BHZ | 2012-07-31T00:00:00.010500Z - 2012-07-31T23:59:59.010500Z | 1.0 Hz, 86400 samples\n",
      "1 Trace(s) in Stream:\n",
      "Z4.CP06..BHZ | 2012-06-05T00:00:00.022900Z - 2012-06-05T23:59:59.022900Z | 1.0 Hz, 86400 samples\n",
      "1 Trace(s) in Stream:\n",
      "Z4.CP06..BH1 | 2012-05-19T00:00:00.021300Z - 2012-05-19T23:59:59.021300Z | 1.0 Hz, 86400 samples\n",
      "1 Trace(s) in Stream:\n",
      "Z4.CP06..BH1 | 2012-11-04T00:00:00.010700Z - 2012-11-04T23:59:59.010700Z | 1.0 Hz, 86400 samples\n"
     ]
    },
    {
     "name": "stderr",
     "output_type": "stream",
     "text": [
      " 66%|██████▌   | 2477/3775 [02:25<01:07, 19.17it/s]"
     ]
    },
    {
     "name": "stdout",
     "output_type": "stream",
     "text": [
      "1 Trace(s) in Stream:\n",
      "Z4.CP06..BH1 | 2012-09-21T00:00:00.016900Z - 2012-09-21T23:59:59.016900Z | 1.0 Hz, 86400 samples\n",
      "1 Trace(s) in Stream:\n",
      "Z4.CP06..BH1 | 2012-09-30T00:00:00.006000Z - 2012-09-30T23:59:59.006000Z | 1.0 Hz, 86400 samples\n",
      "1 Trace(s) in Stream:\n",
      "Z4.CP06..BH2 | 2012-11-02T00:00:00.007600Z - 2012-11-02T23:59:59.007600Z | 1.0 Hz, 86400 samples\n",
      "1 Trace(s) in Stream:\n",
      "Z4.CP06..BH2 | 2012-10-20T00:00:00.012300Z - 2012-10-20T23:59:59.012300Z | 1.0 Hz, 86400 samples\n"
     ]
    },
    {
     "name": "stderr",
     "output_type": "stream",
     "text": [
      "\r",
      " 66%|██████▌   | 2479/3775 [02:25<01:07, 19.19it/s]"
     ]
    },
    {
     "name": "stdout",
     "output_type": "stream",
     "text": [
      "1 Trace(s) in Stream:\n",
      "Z4.CP06..BH1 | 2012-12-10T00:00:00.017100Z - 2012-12-10T23:59:59.017100Z | 1.0 Hz, 86400 samples\n",
      "1 Trace(s) in Stream:\n",
      "Z4.CP06..BH2 | 2013-01-19T00:00:00.004700Z - 2013-01-19T23:59:59.004700Z | 1.0 Hz, 86400 samples\n",
      "1 Trace(s) in Stream:\n",
      "Z4.CP06..BH2 | 2012-10-30T00:00:00.002900Z - 2012-10-30T23:59:59.002900Z | 1.0 Hz, 86400 samples\n",
      "1 Trace(s) in Stream:\n",
      "Z4.CP06..BH1 | 2012-07-15T00:00:00.010500Z - 2012-07-15T23:59:59.010500Z | 1.0 Hz, 86400 samples\n"
     ]
    },
    {
     "name": "stderr",
     "output_type": "stream",
     "text": [
      " 66%|██████▌   | 2484/3775 [02:26<01:08, 18.97it/s]"
     ]
    },
    {
     "name": "stdout",
     "output_type": "stream",
     "text": [
      "1 Trace(s) in Stream:\n",
      "Z4.CP06..BHZ | 2013-01-15T00:00:00.023400Z - 2013-01-15T23:59:59.023400Z | 1.0 Hz, 86400 samples\n",
      "1 Trace(s) in Stream:\n",
      "Z4.CP06..BH1 | 2012-05-15T00:00:00.015000Z - 2012-05-15T23:59:59.015000Z | 1.0 Hz, 86400 samples\n",
      "1 Trace(s) in Stream:\n",
      "Z4.CP06..BHZ | 2013-01-30T00:00:00.021900Z - 2013-01-30T23:59:59.021900Z | 1.0 Hz, 86400 samples\n",
      "1 Trace(s) in Stream:\n",
      "Z4.CP06..BHZ | 2012-08-30T00:00:00.007500Z - 2012-08-30T23:59:59.007500Z | 1.0 Hz, 86400 samples\n"
     ]
    },
    {
     "name": "stderr",
     "output_type": "stream",
     "text": [
      " 66%|██████▌   | 2488/3775 [02:26<01:10, 18.24it/s]"
     ]
    },
    {
     "name": "stdout",
     "output_type": "stream",
     "text": [
      "1 Trace(s) in Stream:\n",
      "Z4.CP06..BH2 | 2012-12-21T00:00:00.009300Z - 2012-12-21T23:59:59.009300Z | 1.0 Hz, 86400 samples\n",
      "1 Trace(s) in Stream:\n",
      "Z4.CP06..BH1 | 2012-12-31T00:00:00.000000Z - 2013-01-01T00:00:00.000000Z | 1.0 Hz, 86401 samples\n",
      "1 Trace(s) in Stream:\n",
      "Z4.CP06..BH1 | 2013-02-04T00:00:00.004700Z - 2013-02-04T23:59:59.004700Z | 1.0 Hz, 86400 samples\n",
      "1 Trace(s) in Stream:\n",
      "Z4.CP06..BH2 | 2012-12-03T00:00:00.006100Z - 2012-12-03T23:59:59.006100Z | 1.0 Hz, 86400 samples\n"
     ]
    },
    {
     "name": "stderr",
     "output_type": "stream",
     "text": [
      " 66%|██████▌   | 2492/3775 [02:26<01:12, 17.79it/s]"
     ]
    },
    {
     "name": "stdout",
     "output_type": "stream",
     "text": [
      "1 Trace(s) in Stream:\n",
      "Z4.CP06..BH1 | 2012-09-10T00:00:00.024700Z - 2012-09-10T23:59:59.024700Z | 1.0 Hz, 86400 samples\n",
      "1 Trace(s) in Stream:\n",
      "Z4.CP06..BH2 | 2012-11-13T00:00:00.024800Z - 2012-11-13T23:59:59.024800Z | 1.0 Hz, 86400 samples\n",
      "1 Trace(s) in Stream:\n",
      "Z4.CP06..BH1 | 2012-06-01T00:00:00.016600Z - 2012-06-01T23:59:59.016600Z | 1.0 Hz, 86400 samples\n",
      "1 Trace(s) in Stream:\n",
      "Z4.CP06..BH2 | 2012-07-24T00:00:00.024600Z - 2012-07-24T23:59:59.024600Z | 1.0 Hz, 86400 samples\n"
     ]
    },
    {
     "name": "stderr",
     "output_type": "stream",
     "text": [
      " 66%|██████▌   | 2497/3775 [02:26<01:05, 19.48it/s]"
     ]
    },
    {
     "name": "stdout",
     "output_type": "stream",
     "text": [
      "1 Trace(s) in Stream:\n",
      "Z4.CP06..BH2 | 2012-05-08T00:00:00.004000Z - 2012-05-08T23:59:59.004000Z | 1.0 Hz, 86400 samples\n",
      "1 Trace(s) in Stream:\n",
      "Z4.CP06..BH2 | 2012-09-16T00:00:00.009100Z - 2012-09-16T23:59:59.009100Z | 1.0 Hz, 86400 samples\n",
      "1 Trace(s) in Stream:\n",
      "Z4.CP06..BH1 | 2012-05-17T00:00:00.018100Z - 2012-05-17T23:59:59.018100Z | 1.0 Hz, 86400 samples\n",
      "1 Trace(s) in Stream:\n",
      "Z4.CP06..BHZ | 2013-02-02T00:00:00.001600Z - 2013-02-02T23:59:59.001600Z | 1.0 Hz, 86400 samples\n",
      "1 Trace(s) in Stream:\n",
      "Z4.CP06..BH2 | 2013-03-15T00:00:00.015800Z - 2013-03-15T23:59:59.015800Z | 1.0 Hz, 86400 samples\n",
      "1 Trace(s) in Stream:\n",
      "Z4.CP06..BH2 | 2013-03-05T00:00:00.000100Z - 2013-03-05T23:59:59.000100Z | 1.0 Hz, 86400 samples\n"
     ]
    },
    {
     "name": "stderr",
     "output_type": "stream",
     "text": [
      " 66%|██████▋   | 2502/3775 [02:27<01:06, 19.11it/s]"
     ]
    },
    {
     "name": "stdout",
     "output_type": "stream",
     "text": [
      "1 Trace(s) in Stream:\n",
      "Z4.CP06..BH1 | 2012-06-24T00:00:00.002600Z - 2012-06-24T23:59:59.002600Z | 1.0 Hz, 86400 samples\n",
      "1 Trace(s) in Stream:\n",
      "Z4.CP06..BHZ | 2012-12-18T00:00:00.004600Z - 2012-12-18T23:59:59.004600Z | 1.0 Hz, 86400 samples\n",
      "1 Trace(s) in Stream:\n",
      "Z4.CP06..BH1 | 2013-01-30T00:00:00.021900Z - 2013-01-30T23:59:59.021900Z | 1.0 Hz, 86400 samples\n",
      "1 Trace(s) in Stream:\n",
      "Z4.CP06..BHZ | 2012-10-08T00:00:00.018500Z - 2012-10-08T23:59:59.018500Z | 1.0 Hz, 86400 samples\n"
     ]
    },
    {
     "name": "stderr",
     "output_type": "stream",
     "text": [
      " 66%|██████▋   | 2506/3775 [02:27<01:10, 18.00it/s]"
     ]
    },
    {
     "name": "stdout",
     "output_type": "stream",
     "text": [
      "1 Trace(s) in Stream:\n",
      "Z4.CP06..BH1 | 2012-10-29T00:00:00.001400Z - 2012-10-29T23:59:59.001400Z | 1.0 Hz, 86400 samples\n",
      "1 Trace(s) in Stream:\n",
      "Z4.CP06..BH1 | 2012-12-19T00:00:00.006200Z - 2012-12-19T23:59:59.006200Z | 1.0 Hz, 86400 samples\n",
      "1 Trace(s) in Stream:\n",
      "Z4.CP06..BHZ | 2013-02-26T00:00:00.014200Z - 2013-02-26T23:59:59.014200Z | 1.0 Hz, 86400 samples\n",
      "1 Trace(s) in Stream:\n",
      "Z4.CP06..BH1 | 2012-07-11T00:00:00.004200Z - 2012-07-11T23:59:59.004200Z | 1.0 Hz, 86400 samples\n"
     ]
    },
    {
     "name": "stderr",
     "output_type": "stream",
     "text": [
      " 67%|██████▋   | 2511/3775 [02:27<01:11, 17.63it/s]"
     ]
    },
    {
     "name": "stdout",
     "output_type": "stream",
     "text": [
      "1 Trace(s) in Stream:\n",
      "Z4.CP06..BH2 | 2012-11-27T00:00:00.021700Z - 2012-11-27T23:59:59.021700Z | 1.0 Hz, 86400 samples\n",
      "1 Trace(s) in Stream:\n",
      "Z4.CP06..BH2 | 2012-11-09T00:00:00.018600Z - 2012-11-09T23:59:59.018600Z | 1.0 Hz, 86400 samples\n",
      "1 Trace(s) in Stream:\n",
      "Z4.CP06..BH1 | 2012-06-25T00:00:00.004200Z - 2012-06-25T23:59:59.004200Z | 1.0 Hz, 86400 samples\n",
      "1 Trace(s) in Stream:\n",
      "Z4.CP06..BHZ | 2013-01-06T00:00:00.009300Z - 2013-01-06T23:59:59.009300Z | 1.0 Hz, 86400 samples\n",
      "1 Trace(s) in Stream:\n",
      "Z4.CP06..BH2 | 2012-09-25T00:00:00.023100Z - 2012-09-25T23:59:59.023100Z | 1.0 Hz, 86400 samples\n"
     ]
    },
    {
     "name": "stderr",
     "output_type": "stream",
     "text": [
      " 67%|██████▋   | 2516/3775 [02:27<01:06, 18.84it/s]"
     ]
    },
    {
     "name": "stdout",
     "output_type": "stream",
     "text": [
      "1 Trace(s) in Stream:\n",
      "Z4.CP06..BHZ | 2012-11-28T00:00:00.023300Z - 2012-11-28T23:59:59.023300Z | 1.0 Hz, 86400 samples\n",
      "1 Trace(s) in Stream:\n",
      "Z4.CP06..BHZ | 2012-11-11T00:00:00.021700Z - 2012-11-11T23:59:59.021700Z | 1.0 Hz, 86400 samples\n",
      "1 Trace(s) in Stream:\n",
      "Z4.CP06..BHZ | 2013-01-23T00:00:00.011000Z - 2013-01-23T23:59:59.011000Z | 1.0 Hz, 86400 samples\n",
      "1 Trace(s) in Stream:\n",
      "Z4.CP06..BH2 | 2012-06-15T00:00:00.013500Z - 2012-06-15T23:59:59.013500Z | 1.0 Hz, 86400 samples\n"
     ]
    },
    {
     "name": "stderr",
     "output_type": "stream",
     "text": [
      " 67%|██████▋   | 2520/3775 [02:28<01:06, 18.92it/s]"
     ]
    },
    {
     "name": "stdout",
     "output_type": "stream",
     "text": [
      "1 Trace(s) in Stream:\n",
      "Z4.CP06..BH1 | 2012-08-24T00:00:00.023100Z - 2012-08-24T23:59:59.023100Z | 1.0 Hz, 86400 samples\n",
      "1 Trace(s) in Stream:\n",
      "Z4.CP06..BHZ | 2012-09-13T00:00:00.004400Z - 2012-09-13T23:59:59.004400Z | 1.0 Hz, 86400 samples\n",
      "1 Trace(s) in Stream:\n",
      "Z4.CP06..BHZ | 2012-11-25T00:00:00.018600Z - 2012-11-25T23:59:59.018600Z | 1.0 Hz, 86400 samples\n",
      "1 Trace(s) in Stream:\n",
      "Z4.CP06..BH2 | 2012-11-26T00:00:00.020200Z - 2012-11-26T23:59:59.020200Z | 1.0 Hz, 86400 samples\n",
      "1 Trace(s) in Stream:\n",
      "Z4.CP06..BHZ | 2012-11-18T00:00:00.007700Z - 2012-11-18T23:59:59.007700Z | 1.0 Hz, 86400 samples\n"
     ]
    },
    {
     "name": "stderr",
     "output_type": "stream",
     "text": [
      " 67%|██████▋   | 2524/3775 [02:28<01:11, 17.53it/s]"
     ]
    },
    {
     "name": "stdout",
     "output_type": "stream",
     "text": [
      "1 Trace(s) in Stream:\n",
      "Z4.CP06..BH1 | 2012-10-20T00:00:00.012300Z - 2012-10-20T23:59:59.012300Z | 1.0 Hz, 86400 samples\n",
      "1 Trace(s) in Stream:\n",
      "Z4.CP06..BH2 | 2012-09-04T00:00:00.015300Z - 2012-09-04T23:59:59.015300Z | 1.0 Hz, 86400 samples\n",
      "1 Trace(s) in Stream:\n",
      "Z4.CP06..BH1 | 2012-09-14T00:00:00.005900Z - 2012-09-14T23:59:59.005900Z | 1.0 Hz, 86400 samples\n",
      "1 Trace(s) in Stream:\n",
      "Z4.CP06..BH1 | 2012-07-07T00:00:00.022900Z - 2012-07-07T23:59:59.022900Z | 1.0 Hz, 86400 samples\n"
     ]
    },
    {
     "name": "stderr",
     "output_type": "stream",
     "text": [
      " 67%|██████▋   | 2528/3775 [02:28<01:11, 17.53it/s]"
     ]
    },
    {
     "name": "stdout",
     "output_type": "stream",
     "text": [
      "1 Trace(s) in Stream:\n",
      "Z4.CP06..BH2 | 2013-02-14T00:00:00.020400Z - 2013-02-14T23:59:59.020400Z | 1.0 Hz, 86400 samples\n",
      "1 Trace(s) in Stream:\n",
      "Z4.CP06..BH1 | 2012-11-23T00:00:00.015500Z - 2012-11-23T23:59:59.015500Z | 1.0 Hz, 86400 samples\n",
      "1 Trace(s) in Stream:\n",
      "Z4.CP06..BH2 | 2012-10-02T00:00:00.009100Z - 2012-10-02T23:59:59.009100Z | 1.0 Hz, 86400 samples\n",
      "1 Trace(s) in Stream:\n",
      "Z4.CP06..BHZ | 2012-05-06T00:00:00.000900Z - 2012-05-06T23:59:59.000900Z | 1.0 Hz, 86400 samples\n"
     ]
    },
    {
     "name": "stderr",
     "output_type": "stream",
     "text": [
      " 67%|██████▋   | 2532/3775 [02:28<01:12, 17.19it/s]"
     ]
    },
    {
     "name": "stdout",
     "output_type": "stream",
     "text": [
      "1 Trace(s) in Stream:\n",
      "Z4.CP06..BH1 | 2012-11-20T00:00:00.010800Z - 2012-11-20T23:59:59.010800Z | 1.0 Hz, 86400 samples\n",
      "1 Trace(s) in Stream:\n",
      "Z4.CP06..BHZ | 2012-09-27T00:00:00.001300Z - 2012-09-27T23:59:59.001300Z | 1.0 Hz, 86400 samples\n",
      "1 Trace(s) in Stream:\n",
      "Z4.CP06..BH2 | 2013-01-12T00:00:00.018700Z - 2013-01-12T23:59:59.018700Z | 1.0 Hz, 86400 samples\n",
      "1 Trace(s) in Stream:\n",
      "Z4.CP06..BH2 | 2012-10-04T00:00:00.012200Z - 2012-10-04T23:59:59.012200Z | 1.0 Hz, 86400 samples\n"
     ]
    },
    {
     "name": "stderr",
     "output_type": "stream",
     "text": [
      " 67%|██████▋   | 2536/3775 [02:28<01:08, 18.13it/s]"
     ]
    },
    {
     "name": "stdout",
     "output_type": "stream",
     "text": [
      "1 Trace(s) in Stream:\n",
      "Z4.CP06..BH1 | 2012-06-09T00:00:00.004100Z - 2012-06-09T23:59:59.004100Z | 1.0 Hz, 86400 samples\n",
      "1 Trace(s) in Stream:\n",
      "Z4.CP06..BH1 | 2012-10-11T00:00:00.023200Z - 2012-10-11T23:59:59.023200Z | 1.0 Hz, 86400 samples\n",
      "1 Trace(s) in Stream:\n",
      "Z4.CP06..BHZ | 2012-09-06T00:00:00.018400Z - 2012-09-06T23:59:59.018400Z | 1.0 Hz, 86400 samples\n",
      "1 Trace(s) in Stream:\n",
      "Z4.CP06..BH2 | 2012-12-23T00:00:00.012400Z - 2012-12-23T23:59:59.012400Z | 1.0 Hz, 86400 samples\n"
     ]
    },
    {
     "name": "stderr",
     "output_type": "stream",
     "text": [
      " 67%|██████▋   | 2541/3775 [02:29<01:05, 18.78it/s]"
     ]
    },
    {
     "name": "stdout",
     "output_type": "stream",
     "text": [
      "1 Trace(s) in Stream:\n",
      "Z4.CP06..BH2 | 2012-12-15T00:00:00.024900Z - 2012-12-15T23:59:59.024900Z | 1.0 Hz, 86400 samples\n",
      "1 Trace(s) in Stream:\n",
      "Z4.CP06..BH1 | 2012-05-16T00:00:00.016600Z - 2012-05-16T23:59:59.016600Z | 1.0 Hz, 86400 samples\n",
      "1 Trace(s) in Stream:\n",
      "Z4.CP06..BHZ | 2012-12-27T00:00:00.018700Z - 2012-12-27T23:59:59.018700Z | 1.0 Hz, 86400 samples\n",
      "1 Trace(s) in Stream:\n",
      "Z4.CP06..BH1 | 2012-06-04T00:00:00.021300Z - 2012-06-04T23:59:59.021300Z | 1.0 Hz, 86400 samples\n",
      "1 Trace(s) in Stream:\n",
      "Z4.CP06..BHZ | 2013-02-14T00:00:00.020400Z - 2013-02-14T23:59:59.020400Z | 1.0 Hz, 86400 samples\n"
     ]
    },
    {
     "name": "stderr",
     "output_type": "stream",
     "text": [
      " 67%|██████▋   | 2546/3775 [02:29<01:04, 19.02it/s]"
     ]
    },
    {
     "name": "stdout",
     "output_type": "stream",
     "text": [
      "1 Trace(s) in Stream:\n",
      "Z4.CP06..BH1 | 2012-10-10T00:00:00.021600Z - 2012-10-10T23:59:59.021600Z | 1.0 Hz, 86400 samples\n",
      "1 Trace(s) in Stream:\n",
      "Z4.CP06..BH2 | 2013-01-27T00:00:00.017200Z - 2013-01-27T23:59:59.017200Z | 1.0 Hz, 86400 samples\n",
      "1 Trace(s) in Stream:\n",
      "Z4.CP06..BH1 | 2012-08-17T00:00:00.012100Z - 2012-08-17T23:59:59.012100Z | 1.0 Hz, 86400 samples\n",
      "1 Trace(s) in Stream:\n",
      "Z4.CP06..BH1 | 2013-01-22T00:00:00.009400Z - 2013-01-22T23:59:59.009400Z | 1.0 Hz, 86400 samples\n",
      "1 Trace(s) in Stream:\n",
      "Z4.CP06..BH2 | 2012-12-26T00:00:00.017100Z - 2012-12-26T23:59:59.017100Z | 1.0 Hz, 86400 samples\n"
     ]
    },
    {
     "name": "stderr",
     "output_type": "stream",
     "text": [
      "\r",
      " 68%|██████▊   | 2549/3775 [02:29<01:00, 20.16it/s]"
     ]
    },
    {
     "name": "stdout",
     "output_type": "stream",
     "text": [
      "1 Trace(s) in Stream:\n",
      "Z4.CP06..BH1 | 2013-03-17T00:00:00.018900Z - 2013-03-17T23:59:59.018900Z | 1.0 Hz, 86400 samples\n",
      "1 Trace(s) in Stream:\n",
      "Z4.CP06..BH2 | 2012-08-02T00:00:00.013600Z - 2012-08-02T23:59:59.013600Z | 1.0 Hz, 86400 samples\n",
      "1 Trace(s) in Stream:\n",
      "Z4.CP06..BH2 | 2012-10-15T00:00:00.004400Z - 2012-10-15T23:59:59.004400Z | 1.0 Hz, 86400 samples\n",
      "1 Trace(s) in Stream:\n",
      "Z4.CP06..BH2 | 2013-03-16T00:00:00.017300Z - 2013-03-16T23:59:59.017300Z | 1.0 Hz, 86400 samples\n"
     ]
    },
    {
     "name": "stderr",
     "output_type": "stream",
     "text": [
      " 68%|██████▊   | 2554/3775 [02:29<01:02, 19.53it/s]"
     ]
    },
    {
     "name": "stdout",
     "output_type": "stream",
     "text": [
      "1 Trace(s) in Stream:\n",
      "Z4.CP06..BHZ | 2012-08-20T00:00:00.016800Z - 2012-08-20T23:59:59.016800Z | 1.0 Hz, 86400 samples\n",
      "1 Trace(s) in Stream:\n",
      "Z4.CP06..BH2 | 2012-11-15T00:00:00.003000Z - 2012-11-15T23:59:59.003000Z | 1.0 Hz, 86400 samples\n",
      "1 Trace(s) in Stream:\n",
      "Z4.CP06..BH1 | 2012-11-26T00:00:00.020200Z - 2012-11-26T23:59:59.020200Z | 1.0 Hz, 86400 samples\n",
      "1 Trace(s) in Stream:\n",
      "Z4.CP06..BHZ | 2013-03-14T00:00:00.014200Z - 2013-03-14T23:59:59.014200Z | 1.0 Hz, 86400 samples\n"
     ]
    },
    {
     "name": "stderr",
     "output_type": "stream",
     "text": [
      " 68%|██████▊   | 2559/3775 [02:30<01:00, 20.22it/s]"
     ]
    },
    {
     "name": "stdout",
     "output_type": "stream",
     "text": [
      "1 Trace(s) in Stream:\n",
      "Z4.CP06..BH1 | 2013-02-10T00:00:00.014100Z - 2013-02-10T23:59:59.014100Z | 1.0 Hz, 86400 samples\n",
      "1 Trace(s) in Stream:\n",
      "Z4.CP06..BH1 | 2013-02-20T00:00:00.004800Z - 2013-02-20T23:59:59.004800Z | 1.0 Hz, 86400 samples\n",
      "1 Trace(s) in Stream:\n",
      "Z4.CP06..BH2 | 2012-11-06T00:00:00.013900Z - 2012-11-06T23:59:59.013900Z | 1.0 Hz, 86400 samples\n",
      "1 Trace(s) in Stream:\n",
      "Z4.CP06..BH1 | 2012-08-26T00:00:00.001200Z - 2012-08-26T23:59:59.001200Z | 1.0 Hz, 86400 samples\n",
      "1 Trace(s) in Stream:\n",
      "Z4.CP06..BH2 | 2013-02-05T00:00:00.006300Z - 2013-02-05T23:59:59.006300Z | 1.0 Hz, 86400 samples\n",
      "1 Trace(s) in Stream:\n",
      "Z4.CP06..BH1 | 2012-10-27T00:00:00.023200Z - 2012-10-27T23:59:59.023200Z | 1.0 Hz, 86400 samples\n"
     ]
    },
    {
     "name": "stderr",
     "output_type": "stream",
     "text": [
      "\r",
      " 68%|██████▊   | 2562/3775 [02:30<00:59, 20.29it/s]"
     ]
    },
    {
     "name": "stdout",
     "output_type": "stream",
     "text": [
      "1 Trace(s) in Stream:\n",
      "Z4.CP06..BH2 | 2012-11-29T00:00:00.024900Z - 2012-11-29T23:59:59.024900Z | 1.0 Hz, 86400 samples\n",
      "1 Trace(s) in Stream:\n",
      "Z4.CP06..BHZ | 2013-01-21T00:00:00.007800Z - 2013-01-21T23:59:59.007800Z | 1.0 Hz, 86400 samples\n",
      "1 Trace(s) in Stream:\n",
      "Z4.CP06..BH1 | 2012-10-17T00:00:00.007600Z - 2012-10-17T23:59:59.007600Z | 1.0 Hz, 86400 samples\n"
     ]
    },
    {
     "name": "stderr",
     "output_type": "stream",
     "text": [
      " 68%|██████▊   | 2568/3775 [02:30<01:02, 19.25it/s]"
     ]
    },
    {
     "name": "stdout",
     "output_type": "stream",
     "text": [
      "1 Trace(s) in Stream:\n",
      "Z4.CP06..BH2 | 2013-01-17T00:00:00.001600Z - 2013-01-17T23:59:59.001600Z | 1.0 Hz, 86400 samples\n",
      "1 Trace(s) in Stream:\n",
      "Z4.CP06..BH1 | 2012-07-17T00:00:00.013600Z - 2012-07-17T23:59:59.013600Z | 1.0 Hz, 86400 samples\n",
      "1 Trace(s) in Stream:\n",
      "Z4.CP06..BH1 | 2012-11-08T00:00:00.017000Z - 2012-11-08T23:59:59.017000Z | 1.0 Hz, 86400 samples\n",
      "1 Trace(s) in Stream:\n",
      "Z4.CP06..BHZ | 2012-07-08T00:00:00.024500Z - 2012-07-08T23:59:59.024500Z | 1.0 Hz, 86400 samples\n",
      "1 Trace(s) in Stream:\n",
      "Z4.CP06..BH1 | 2013-02-18T00:00:00.001600Z - 2013-02-18T23:59:59.001600Z | 1.0 Hz, 86400 samples\n",
      "1 Trace(s) in Stream:\n",
      "Z4.CP06..BH2 | 2012-07-13T00:00:00.007300Z - 2012-07-13T23:59:59.007300Z | 1.0 Hz, 86400 samples\n"
     ]
    },
    {
     "name": "stderr",
     "output_type": "stream",
     "text": [
      " 68%|██████▊   | 2573/3775 [02:30<01:01, 19.61it/s]"
     ]
    },
    {
     "name": "stdout",
     "output_type": "stream",
     "text": [
      "1 Trace(s) in Stream:\n",
      "Z4.CP06..BH2 | 2012-09-18T00:00:00.012200Z - 2012-09-18T23:59:59.012200Z | 1.0 Hz, 86400 samples\n",
      "1 Trace(s) in Stream:\n",
      "Z4.CP06..BH1 | 2012-06-13T00:00:00.010400Z - 2012-06-13T23:59:59.010400Z | 1.0 Hz, 86400 samples\n",
      "1 Trace(s) in Stream:\n",
      "Z4.CP06..BH1 | 2013-01-28T00:00:00.018800Z - 2013-01-28T23:59:59.018800Z | 1.0 Hz, 86400 samples\n",
      "1 Trace(s) in Stream:\n",
      "Z4.CP06..BH2 | 2012-07-25T00:00:00.001100Z - 2012-07-25T23:59:59.001100Z | 1.0 Hz, 86400 samples\n"
     ]
    },
    {
     "name": "stderr",
     "output_type": "stream",
     "text": [
      " 68%|██████▊   | 2579/3775 [02:31<01:03, 18.83it/s]"
     ]
    },
    {
     "name": "stdout",
     "output_type": "stream",
     "text": [
      "1 Trace(s) in Stream:\n",
      "Z4.CP06..BH1 | 2013-01-29T00:00:00.020300Z - 2013-01-29T23:59:59.020300Z | 1.0 Hz, 86400 samples\n",
      "1 Trace(s) in Stream:\n",
      "Z4.CP06..BH2 | 2013-01-02T00:00:00.003100Z - 2013-01-02T23:59:59.003100Z | 1.0 Hz, 86400 samples\n",
      "1 Trace(s) in Stream:\n",
      "Z4.CP06..BH2 | 2012-09-15T00:00:00.007500Z - 2012-09-15T23:59:59.007500Z | 1.0 Hz, 86400 samples\n",
      "1 Trace(s) in Stream:\n",
      "Z4.CP06..BH2 | 2012-12-07T00:00:00.012400Z - 2012-12-07T23:59:59.012400Z | 1.0 Hz, 86400 samples\n",
      "1 Trace(s) in Stream:\n",
      "Z4.CP06..BH2 | 2012-11-30T00:00:00.001400Z - 2012-11-30T23:59:59.001400Z | 1.0 Hz, 86400 samples\n",
      "1 Trace(s) in Stream:\n",
      "Z4.CP06..BH2 | 2012-07-17T00:00:00.013600Z - 2012-07-17T23:59:59.013600Z | 1.0 Hz, 86400 samples\n"
     ]
    },
    {
     "name": "stderr",
     "output_type": "stream",
     "text": [
      " 68%|██████▊   | 2583/3775 [02:31<01:04, 18.37it/s]"
     ]
    },
    {
     "name": "stdout",
     "output_type": "stream",
     "text": [
      "1 Trace(s) in Stream:\n",
      "Z4.CP06..BH2 | 2012-10-12T00:00:00.024800Z - 2012-10-12T23:59:59.024800Z | 1.0 Hz, 86400 samples\n",
      "1 Trace(s) in Stream:\n",
      "Z4.CP06..BHZ | 2013-01-05T00:00:00.007800Z - 2013-01-05T23:59:59.007800Z | 1.0 Hz, 86400 samples\n",
      "1 Trace(s) in Stream:\n",
      "Z4.CP06..BH2 | 2013-01-10T00:00:00.015600Z - 2013-01-10T23:59:59.015600Z | 1.0 Hz, 86400 samples\n",
      "1 Trace(s) in Stream:\n",
      "Z4.CP06..BH1 | 2012-10-13T00:00:00.001300Z - 2012-10-13T23:59:59.001300Z | 1.0 Hz, 86400 samples\n"
     ]
    },
    {
     "name": "stderr",
     "output_type": "stream",
     "text": [
      " 69%|██████▊   | 2587/3775 [02:31<01:05, 18.02it/s]"
     ]
    },
    {
     "name": "stdout",
     "output_type": "stream",
     "text": [
      "1 Trace(s) in Stream:\n",
      "Z4.CP06..BH2 | 2012-06-01T00:00:00.016600Z - 2012-06-01T23:59:59.016600Z | 1.0 Hz, 86400 samples\n",
      "1 Trace(s) in Stream:\n",
      "Z4.CP06..BHZ | 2012-08-12T00:00:00.004300Z - 2012-08-12T23:59:59.004300Z | 1.0 Hz, 86400 samples\n",
      "1 Trace(s) in Stream:\n",
      "Z4.CP06..BH2 | 2012-10-23T00:00:00.017000Z - 2012-10-23T23:59:59.017000Z | 1.0 Hz, 86400 samples\n",
      "1 Trace(s) in Stream:\n",
      "Z4.CP06..BHZ | 2012-06-16T00:00:00.015100Z - 2012-06-16T23:59:59.015100Z | 1.0 Hz, 86400 samples\n"
     ]
    },
    {
     "name": "stderr",
     "output_type": "stream",
     "text": [
      " 69%|██████▊   | 2592/3775 [02:31<01:02, 18.91it/s]"
     ]
    },
    {
     "name": "stdout",
     "output_type": "stream",
     "text": [
      "1 Trace(s) in Stream:\n",
      "Z4.CP06..BH1 | 2013-02-17T00:00:00.000100Z - 2013-02-17T23:59:59.000100Z | 1.0 Hz, 86400 samples\n",
      "1 Trace(s) in Stream:\n",
      "Z4.CP06..BH2 | 2012-07-21T00:00:00.019900Z - 2012-07-21T23:59:59.019900Z | 1.0 Hz, 86400 samples\n",
      "1 Trace(s) in Stream:\n",
      "Z4.CP06..BH1 | 2013-03-16T00:00:00.017300Z - 2013-03-16T23:59:59.017300Z | 1.0 Hz, 86400 samples\n",
      "1 Trace(s) in Stream:\n",
      "Z4.CP06..BHZ | 2012-12-28T00:00:00.020300Z - 2012-12-28T23:59:59.020300Z | 1.0 Hz, 86400 samples\n",
      "1 Trace(s) in Stream:\n",
      "Z4.CP06..BH1 | 2012-08-25T00:00:00.024600Z - 2012-08-25T23:59:59.024600Z | 1.0 Hz, 86400 samples\n"
     ]
    },
    {
     "name": "stderr",
     "output_type": "stream",
     "text": [
      " 69%|██████▉   | 2597/3775 [02:32<01:01, 19.12it/s]"
     ]
    },
    {
     "name": "stdout",
     "output_type": "stream",
     "text": [
      "1 Trace(s) in Stream:\n",
      "Z4.CP06..BH2 | 2012-10-21T00:00:00.013800Z - 2012-10-21T23:59:59.013800Z | 1.0 Hz, 86400 samples\n",
      "1 Trace(s) in Stream:\n",
      "Z4.CP06..BHZ | 2012-07-29T00:00:00.007400Z - 2012-07-29T23:59:59.007400Z | 1.0 Hz, 86400 samples\n",
      "1 Trace(s) in Stream:\n",
      "Z4.CP06..BH1 | 2013-03-04T00:00:00.023600Z - 2013-03-04T23:59:59.023600Z | 1.0 Hz, 86400 samples\n",
      "1 Trace(s) in Stream:\n",
      "Z4.CP06..BH2 | 2012-10-26T00:00:00.021700Z - 2012-10-26T23:59:59.021700Z | 1.0 Hz, 86400 samples\n"
     ]
    },
    {
     "name": "stderr",
     "output_type": "stream",
     "text": [
      " 69%|██████▉   | 2602/3775 [02:32<01:01, 19.19it/s]"
     ]
    },
    {
     "name": "stdout",
     "output_type": "stream",
     "text": [
      "1 Trace(s) in Stream:\n",
      "Z4.CP06..BH1 | 2012-11-29T00:00:00.024900Z - 2012-11-29T23:59:59.024900Z | 1.0 Hz, 86400 samples\n",
      "1 Trace(s) in Stream:\n",
      "Z4.CP06..BH2 | 2012-10-31T00:00:00.004500Z - 2012-10-31T23:59:59.004500Z | 1.0 Hz, 86400 samples\n",
      "1 Trace(s) in Stream:\n",
      "Z4.CP06..BH1 | 2012-09-17T00:00:00.010600Z - 2012-09-17T23:59:59.010600Z | 1.0 Hz, 86400 samples\n",
      "1 Trace(s) in Stream:\n",
      "Z4.CP06..BH2 | 2012-08-09T00:00:00.024600Z - 2012-08-09T23:59:59.024600Z | 1.0 Hz, 86400 samples\n",
      "1 Trace(s) in Stream:\n",
      "Z4.CP06..BH1 | 2012-08-02T00:00:00.013600Z - 2012-08-02T23:59:59.013600Z | 1.0 Hz, 86400 samples\n"
     ]
    },
    {
     "name": "stderr",
     "output_type": "stream",
     "text": [
      "\r",
      " 69%|██████▉   | 2605/3775 [02:32<00:59, 19.83it/s]"
     ]
    },
    {
     "name": "stdout",
     "output_type": "stream",
     "text": [
      "1 Trace(s) in Stream:\n",
      "Z4.CP06..BHZ | 2013-03-06T00:00:00.001700Z - 2013-03-06T23:59:59.001700Z | 1.0 Hz, 86400 samples\n",
      "1 Trace(s) in Stream:\n",
      "Z4.CP06..BH2 | 2012-06-11T00:00:00.007300Z - 2012-06-11T23:59:59.007300Z | 1.0 Hz, 86400 samples\n",
      "1 Trace(s) in Stream:\n",
      "Z4.CP06..BHZ | 2012-06-30T00:00:00.012000Z - 2012-06-30T23:59:59.012000Z | 1.0 Hz, 86400 samples\n",
      "1 Trace(s) in Stream:\n",
      "Z4.CP06..BHZ | 2012-06-18T00:00:00.018200Z - 2012-06-18T23:59:59.018200Z | 1.0 Hz, 86400 samples\n",
      "1 Trace(s) in Stream:\n",
      "Z4.CP06..BH2 | 2012-12-05T00:00:00.009300Z - 2012-12-05T23:59:59.009300Z | 1.0 Hz, 86400 samples\n"
     ]
    },
    {
     "name": "stderr",
     "output_type": "stream",
     "text": [
      " 69%|██████▉   | 2611/3775 [02:32<01:04, 18.13it/s]"
     ]
    },
    {
     "name": "stdout",
     "output_type": "stream",
     "text": [
      "1 Trace(s) in Stream:\n",
      "Z4.CP06..BHZ | 2012-10-31T00:00:00.004500Z - 2012-10-31T23:59:59.004500Z | 1.0 Hz, 86400 samples\n",
      "1 Trace(s) in Stream:\n",
      "Z4.CP06..BH2 | 2013-01-04T00:00:00.006200Z - 2013-01-04T23:59:59.006200Z | 1.0 Hz, 86400 samples\n",
      "1 Trace(s) in Stream:\n",
      "Z4.CP06..BHZ | 2012-07-27T00:00:00.004200Z - 2012-07-27T23:59:59.004200Z | 1.0 Hz, 86400 samples\n",
      "1 Trace(s) in Stream:\n",
      "Z4.CP06..BH1 | 2012-06-06T00:00:00.024400Z - 2012-06-06T23:59:59.024400Z | 1.0 Hz, 86400 samples\n"
     ]
    },
    {
     "name": "stderr",
     "output_type": "stream",
     "text": [
      "\r",
      " 69%|██████▉   | 2613/3775 [02:32<01:04, 18.07it/s]"
     ]
    },
    {
     "name": "stdout",
     "output_type": "stream",
     "text": [
      "1 Trace(s) in Stream:\n",
      "Z4.CP06..BH1 | 2012-11-19T00:00:00.009200Z - 2012-11-19T23:59:59.009200Z | 1.0 Hz, 86400 samples\n",
      "1 Trace(s) in Stream:\n",
      "Z4.CP06..BH2 | 2012-09-06T00:00:00.018400Z - 2012-09-06T23:59:59.018400Z | 1.0 Hz, 86400 samples\n",
      "1 Trace(s) in Stream:\n",
      "Z4.CP06..BH2 | 2012-06-18T00:00:00.018200Z - 2012-06-18T23:59:59.018200Z | 1.0 Hz, 86400 samples\n",
      "1 Trace(s) in Stream:\n",
      "Z4.CP06..BH2 | 2012-11-01T00:00:00.006100Z - 2012-11-01T23:59:59.006100Z | 1.0 Hz, 86400 samples\n"
     ]
    },
    {
     "name": "stderr",
     "output_type": "stream",
     "text": [
      " 69%|██████▉   | 2618/3775 [02:33<01:03, 18.29it/s]"
     ]
    },
    {
     "name": "stdout",
     "output_type": "stream",
     "text": [
      "1 Trace(s) in Stream:\n",
      "Z4.CP06..BH2 | 2012-07-03T00:00:00.016700Z - 2012-07-03T23:59:59.016700Z | 1.0 Hz, 86400 samples\n",
      "1 Trace(s) in Stream:\n",
      "Z4.CP06..BH1 | 2012-05-26T00:00:00.007200Z - 2012-05-26T23:59:59.007200Z | 1.0 Hz, 86400 samples\n",
      "1 Trace(s) in Stream:\n",
      "Z4.CP06..BH1 | 2012-06-27T00:00:00.007300Z - 2012-06-27T23:59:59.007300Z | 1.0 Hz, 86400 samples\n",
      "1 Trace(s) in Stream:\n",
      "Z4.CP06..BH1 | 2012-10-16T00:00:00.006000Z - 2012-10-16T23:59:59.006000Z | 1.0 Hz, 86400 samples\n"
     ]
    },
    {
     "name": "stderr",
     "output_type": "stream",
     "text": [
      " 69%|██████▉   | 2622/3775 [02:33<01:03, 18.16it/s]"
     ]
    },
    {
     "name": "stdout",
     "output_type": "stream",
     "text": [
      "1 Trace(s) in Stream:\n",
      "Z4.CP06..BH1 | 2013-01-16T00:00:00.000000Z - 2013-01-17T00:00:00.000000Z | 1.0 Hz, 86401 samples\n",
      "1 Trace(s) in Stream:\n",
      "Z4.CP06..BH1 | 2013-03-12T00:00:00.011100Z - 2013-03-12T23:59:59.011100Z | 1.0 Hz, 86400 samples\n",
      "1 Trace(s) in Stream:\n",
      "Z4.CP06..BH2 | 2012-10-08T00:00:00.018500Z - 2012-10-08T23:59:59.018500Z | 1.0 Hz, 86400 samples\n",
      "1 Trace(s) in Stream:\n",
      "Z4.CP06..BH2 | 2012-11-05T00:00:00.012300Z - 2012-11-05T23:59:59.012300Z | 1.0 Hz, 86400 samples\n"
     ]
    },
    {
     "name": "stderr",
     "output_type": "stream",
     "text": [
      " 70%|██████▉   | 2626/3775 [02:33<01:01, 18.60it/s]"
     ]
    },
    {
     "name": "stdout",
     "output_type": "stream",
     "text": [
      "1 Trace(s) in Stream:\n",
      "Z4.CP06..BH2 | 2012-06-29T00:00:00.010400Z - 2012-06-29T23:59:59.010400Z | 1.0 Hz, 86400 samples\n",
      "1 Trace(s) in Stream:\n",
      "Z4.CP06..BH1 | 2013-01-07T00:00:00.010900Z - 2013-01-07T23:59:59.010900Z | 1.0 Hz, 86400 samples\n",
      "1 Trace(s) in Stream:\n",
      "Z4.CP06..BH2 | 2012-11-22T00:00:00.013900Z - 2012-11-22T23:59:59.013900Z | 1.0 Hz, 86400 samples\n",
      "1 Trace(s) in Stream:\n",
      "Z4.CP06..BHZ | 2012-11-21T00:00:00.012400Z - 2012-11-21T23:59:59.012400Z | 1.0 Hz, 86400 samples\n"
     ]
    },
    {
     "name": "stderr",
     "output_type": "stream",
     "text": [
      " 70%|██████▉   | 2630/3775 [02:33<01:02, 18.43it/s]"
     ]
    },
    {
     "name": "stdout",
     "output_type": "stream",
     "text": [
      "1 Trace(s) in Stream:\n",
      "Z4.CP06..BH2 | 2012-12-28T00:00:00.020300Z - 2012-12-28T23:59:59.020300Z | 1.0 Hz, 86400 samples\n",
      "1 Trace(s) in Stream:\n",
      "Z4.CP06..BH1 | 2012-07-29T00:00:00.007400Z - 2012-07-29T23:59:59.007400Z | 1.0 Hz, 86400 samples\n",
      "1 Trace(s) in Stream:\n",
      "Z4.CP06..BHZ | 2012-11-15T00:00:00.003000Z - 2012-11-15T23:59:59.003000Z | 1.0 Hz, 86400 samples\n",
      "1 Trace(s) in Stream:\n",
      "Z4.CP06..BH1 | 2012-06-10T00:00:00.005700Z - 2012-06-10T23:59:59.005700Z | 1.0 Hz, 86400 samples\n"
     ]
    },
    {
     "name": "stderr",
     "output_type": "stream",
     "text": [
      " 70%|██████▉   | 2634/3775 [02:34<01:03, 17.98it/s]"
     ]
    },
    {
     "name": "stdout",
     "output_type": "stream",
     "text": [
      "1 Trace(s) in Stream:\n",
      "Z4.CP06..BHZ | 2013-01-18T00:00:00.003100Z - 2013-01-18T23:59:59.003100Z | 1.0 Hz, 86400 samples\n",
      "1 Trace(s) in Stream:\n",
      "Z4.CP06..BH1 | 2012-10-14T00:00:00.002900Z - 2012-10-14T23:59:59.002900Z | 1.0 Hz, 86400 samples\n",
      "1 Trace(s) in Stream:\n",
      "Z4.CP06..BH2 | 2012-05-28T00:00:00.010300Z - 2012-05-28T23:59:59.010300Z | 1.0 Hz, 86400 samples\n",
      "1 Trace(s) in Stream:\n",
      "Z4.CP06..BH1 | 2012-06-19T00:00:00.019800Z - 2012-06-19T23:59:59.019800Z | 1.0 Hz, 86400 samples\n"
     ]
    },
    {
     "name": "stderr",
     "output_type": "stream",
     "text": [
      " 70%|██████▉   | 2638/3775 [02:34<01:02, 18.28it/s]"
     ]
    },
    {
     "name": "stdout",
     "output_type": "stream",
     "text": [
      "1 Trace(s) in Stream:\n",
      "Z4.CP06..BH2 | 2013-01-07T00:00:00.010900Z - 2013-01-07T23:59:59.010900Z | 1.0 Hz, 86400 samples\n",
      "1 Trace(s) in Stream:\n",
      "Z4.CP06..BH1 | 2012-10-03T00:00:00.010700Z - 2012-10-03T23:59:59.010700Z | 1.0 Hz, 86400 samples\n",
      "1 Trace(s) in Stream:\n",
      "Z4.CP06..BH1 | 2012-08-28T00:00:00.004300Z - 2012-08-28T23:59:59.004300Z | 1.0 Hz, 86400 samples\n",
      "1 Trace(s) in Stream:\n",
      "Z4.CP06..BH1 | 2012-05-20T00:00:00.022800Z - 2012-05-20T23:59:59.022800Z | 1.0 Hz, 86400 samples\n",
      "1 Trace(s) in Stream:\n",
      "Z4.CP06..BH2 | 2012-12-04T00:00:00.007700Z - 2012-12-04T23:59:59.007700Z | 1.0 Hz, 86400 samples\n"
     ]
    },
    {
     "name": "stderr",
     "output_type": "stream",
     "text": [
      " 70%|███████   | 2643/3775 [02:34<00:59, 19.13it/s]"
     ]
    },
    {
     "name": "stdout",
     "output_type": "stream",
     "text": [
      "1 Trace(s) in Stream:\n",
      "Z4.CP06..BH2 | 2012-08-28T00:00:00.004300Z - 2012-08-28T23:59:59.004300Z | 1.0 Hz, 86400 samples\n",
      "1 Trace(s) in Stream:\n",
      "Z4.CP06..BH2 | 2012-11-04T00:00:00.010700Z - 2012-11-04T23:59:59.010700Z | 1.0 Hz, 86400 samples\n",
      "1 Trace(s) in Stream:\n",
      "Z4.CP06..BHZ | 2013-03-05T00:00:00.000100Z - 2013-03-05T23:59:59.000100Z | 1.0 Hz, 86400 samples\n",
      "1 Trace(s) in Stream:\n",
      "Z4.CP06..BHZ | 2012-09-10T00:00:00.024700Z - 2012-09-10T23:59:59.024700Z | 1.0 Hz, 86400 samples\n"
     ]
    },
    {
     "name": "stderr",
     "output_type": "stream",
     "text": [
      " 70%|███████   | 2647/3775 [02:34<01:00, 18.49it/s]"
     ]
    },
    {
     "name": "stdout",
     "output_type": "stream",
     "text": [
      "1 Trace(s) in Stream:\n",
      "Z4.CP06..BH1 | 2012-11-07T00:00:00.015400Z - 2012-11-07T23:59:59.015400Z | 1.0 Hz, 86400 samples\n",
      "1 Trace(s) in Stream:\n",
      "Z4.CP06..BH2 | 2013-01-16T00:00:00.000000Z - 2013-01-17T00:00:00.000000Z | 1.0 Hz, 86401 samples\n",
      "1 Trace(s) in Stream:\n",
      "Z4.CP06..BH1 | 2012-09-23T00:00:00.020000Z - 2012-09-23T23:59:59.020000Z | 1.0 Hz, 86400 samples\n",
      "1 Trace(s) in Stream:\n",
      "Z4.CP06..BH1 | 2012-12-21T00:00:00.009300Z - 2012-12-21T23:59:59.009300Z | 1.0 Hz, 86400 samples\n"
     ]
    },
    {
     "name": "stderr",
     "output_type": "stream",
     "text": [
      " 70%|███████   | 2651/3775 [02:35<01:00, 18.66it/s]"
     ]
    },
    {
     "name": "stdout",
     "output_type": "stream",
     "text": [
      "1 Trace(s) in Stream:\n",
      "Z4.CP06..BH1 | 2013-03-13T00:00:00.012600Z - 2013-03-13T23:59:59.012600Z | 1.0 Hz, 86400 samples\n",
      "1 Trace(s) in Stream:\n",
      "Z4.CP06..BH1 | 2012-09-16T00:00:00.009100Z - 2012-09-16T23:59:59.009100Z | 1.0 Hz, 86400 samples\n",
      "1 Trace(s) in Stream:\n",
      "Z4.CP06..BH2 | 2013-03-07T00:00:00.003200Z - 2013-03-07T23:59:59.003200Z | 1.0 Hz, 86400 samples\n",
      "1 Trace(s) in Stream:\n",
      "Z4.CP06..BH1 | 2012-07-16T00:00:00.012000Z - 2012-07-16T23:59:59.012000Z | 1.0 Hz, 86400 samples\n",
      "1 Trace(s) in Stream:\n",
      "Z4.CP06..BHZ | 2012-07-23T00:00:00.023000Z - 2012-07-23T23:59:59.023000Z | 1.0 Hz, 86400 samples\n",
      "1 Trace(s) in Stream:\n",
      "Z4.CP06..BH2 | 2012-10-07T00:00:00.016900Z - 2012-10-07T23:59:59.016900Z | 1.0 Hz, 86400 samples\n"
     ]
    },
    {
     "name": "stderr",
     "output_type": "stream",
     "text": [
      " 70%|███████   | 2658/3775 [02:35<01:02, 17.87it/s]"
     ]
    },
    {
     "name": "stdout",
     "output_type": "stream",
     "text": [
      "1 Trace(s) in Stream:\n",
      "Z4.CP06..BH2 | 2012-06-25T00:00:00.004200Z - 2012-06-25T23:59:59.004200Z | 1.0 Hz, 86400 samples\n",
      "1 Trace(s) in Stream:\n",
      "Z4.CP06..BHZ | 2013-02-17T00:00:00.000100Z - 2013-02-17T23:59:59.000100Z | 1.0 Hz, 86400 samples\n",
      "1 Trace(s) in Stream:\n",
      "Z4.CP06..BHZ | 2012-10-14T00:00:00.002900Z - 2012-10-14T23:59:59.002900Z | 1.0 Hz, 86400 samples\n",
      "1 Trace(s) in Stream:\n",
      "Z4.CP06..BH2 | 2012-10-01T00:00:00.007500Z - 2012-10-01T23:59:59.007500Z | 1.0 Hz, 86400 samples\n"
     ]
    },
    {
     "name": "stderr",
     "output_type": "stream",
     "text": [
      " 71%|███████   | 2662/3775 [02:35<01:02, 17.94it/s]"
     ]
    },
    {
     "name": "stdout",
     "output_type": "stream",
     "text": [
      "1 Trace(s) in Stream:\n",
      "Z4.CP06..BHZ | 2012-11-09T00:00:00.018600Z - 2012-11-09T23:59:59.018600Z | 1.0 Hz, 86400 samples\n",
      "1 Trace(s) in Stream:\n",
      "Z4.CP06..BH2 | 2013-02-04T00:00:00.004700Z - 2013-02-04T23:59:59.004700Z | 1.0 Hz, 86400 samples\n",
      "1 Trace(s) in Stream:\n",
      "Z4.CP06..BH2 | 2013-03-02T00:00:00.020400Z - 2013-03-02T23:59:59.020400Z | 1.0 Hz, 86400 samples\n",
      "1 Trace(s) in Stream:\n",
      "Z4.CP06..BH1 | 2012-08-21T00:00:00.018400Z - 2012-08-21T23:59:59.018400Z | 1.0 Hz, 86400 samples\n"
     ]
    },
    {
     "name": "stderr",
     "output_type": "stream",
     "text": [
      " 71%|███████   | 2667/3775 [02:35<00:59, 18.69it/s]"
     ]
    },
    {
     "name": "stdout",
     "output_type": "stream",
     "text": [
      "1 Trace(s) in Stream:\n",
      "Z4.CP06..BH2 | 2013-02-20T00:00:00.004800Z - 2013-02-20T23:59:59.004800Z | 1.0 Hz, 86400 samples\n",
      "1 Trace(s) in Stream:\n",
      "Z4.CP06..BHZ | 2013-02-12T00:00:00.017300Z - 2013-02-12T23:59:59.017300Z | 1.0 Hz, 86400 samples\n",
      "1 Trace(s) in Stream:\n",
      "Z4.CP06..BHZ | 2012-06-27T00:00:00.007300Z - 2012-06-27T23:59:59.007300Z | 1.0 Hz, 86400 samples\n",
      "1 Trace(s) in Stream:\n",
      "Z4.CP06..BH2 | 2013-01-21T00:00:00.007800Z - 2013-01-21T23:59:59.007800Z | 1.0 Hz, 86400 samples\n",
      "1 Trace(s) in Stream:\n",
      "Z4.CP06..BH1 | 2012-08-01T00:00:00.012100Z - 2012-08-01T23:59:59.012100Z | 1.0 Hz, 86400 samples\n"
     ]
    },
    {
     "name": "stderr",
     "output_type": "stream",
     "text": [
      " 71%|███████   | 2671/3775 [02:36<01:00, 18.31it/s]"
     ]
    },
    {
     "name": "stdout",
     "output_type": "stream",
     "text": [
      "1 Trace(s) in Stream:\n",
      "Z4.CP06..BH1 | 2013-03-10T00:00:00.007900Z - 2013-03-10T23:59:59.007900Z | 1.0 Hz, 86400 samples\n",
      "1 Trace(s) in Stream:\n",
      "Z4.CP06..BHZ | 2012-06-12T00:00:00.008800Z - 2012-06-12T23:59:59.008800Z | 1.0 Hz, 86400 samples\n",
      "1 Trace(s) in Stream:\n",
      "Z4.CP06..BH2 | 2012-06-06T00:00:00.024400Z - 2012-06-06T23:59:59.024400Z | 1.0 Hz, 86400 samples\n",
      "1 Trace(s) in Stream:\n",
      "Z4.CP06..BHZ | 2012-08-03T00:00:00.015200Z - 2012-08-03T23:59:59.015200Z | 1.0 Hz, 86400 samples\n",
      "1 Trace(s) in Stream:\n",
      "Z4.CP06..BH2 | 2012-11-19T00:00:00.009200Z - 2012-11-19T23:59:59.009200Z | 1.0 Hz, 86400 samples\n"
     ]
    },
    {
     "name": "stderr",
     "output_type": "stream",
     "text": [
      " 71%|███████   | 2676/3775 [02:36<00:59, 18.57it/s]"
     ]
    },
    {
     "name": "stdout",
     "output_type": "stream",
     "text": [
      "1 Trace(s) in Stream:\n",
      "Z4.CP06..BHZ | 2012-06-08T00:00:00.002600Z - 2012-06-08T23:59:59.002600Z | 1.0 Hz, 86400 samples\n",
      "1 Trace(s) in Stream:\n",
      "Z4.CP06..BH1 | 2012-06-22T00:00:00.024500Z - 2012-06-22T23:59:59.024500Z | 1.0 Hz, 86400 samples\n",
      "1 Trace(s) in Stream:\n",
      "Z4.CP06..BH1 | 2012-12-05T00:00:00.009300Z - 2012-12-05T23:59:59.009300Z | 1.0 Hz, 86400 samples\n",
      "1 Trace(s) in Stream:\n",
      "Z4.CP06..BH1 | 2013-01-31T00:00:00.023500Z - 2013-01-31T23:59:59.023500Z | 1.0 Hz, 86400 samples\n"
     ]
    },
    {
     "name": "stderr",
     "output_type": "stream",
     "text": [
      "\r",
      " 71%|███████   | 2678/3775 [02:36<00:59, 18.40it/s]"
     ]
    },
    {
     "name": "stdout",
     "output_type": "stream",
     "text": [
      "1 Trace(s) in Stream:\n",
      "Z4.CP06..BHZ | 2012-05-18T00:00:00.019700Z - 2012-05-18T23:59:59.019700Z | 1.0 Hz, 86400 samples\n",
      "1 Trace(s) in Stream:\n",
      "Z4.CP06..BHZ | 2012-09-01T00:00:00.010600Z - 2012-09-01T23:59:59.010600Z | 1.0 Hz, 86400 samples\n",
      "1 Trace(s) in Stream:\n",
      "Z4.CP06..BHZ | 2013-01-26T00:00:00.015600Z - 2013-01-26T23:59:59.015600Z | 1.0 Hz, 86400 samples\n",
      "1 Trace(s) in Stream:\n",
      "Z4.CP06..BHZ | 2012-10-30T00:00:00.002900Z - 2012-10-30T23:59:59.002900Z | 1.0 Hz, 86400 samples\n"
     ]
    },
    {
     "name": "stderr",
     "output_type": "stream",
     "text": [
      " 71%|███████   | 2683/3775 [02:36<01:03, 17.14it/s]"
     ]
    },
    {
     "name": "stdout",
     "output_type": "stream",
     "text": [
      "1 Trace(s) in Stream:\n",
      "Z4.CP06..BH2 | 2012-08-11T00:00:00.002700Z - 2012-08-11T23:59:59.002700Z | 1.0 Hz, 86400 samples\n",
      "1 Trace(s) in Stream:\n",
      "Z4.CP06..BH2 | 2013-02-23T00:00:00.009500Z - 2013-02-23T23:59:59.009500Z | 1.0 Hz, 86400 samples\n",
      "1 Trace(s) in Stream:\n",
      "Z4.CP06..BH2 | 2013-02-21T00:00:00.006300Z - 2013-02-21T23:59:59.006300Z | 1.0 Hz, 86400 samples\n",
      "1 Trace(s) in Stream:\n",
      "Z4.CP06..BHZ | 2012-12-16T00:00:00.001500Z - 2012-12-16T23:59:59.001500Z | 1.0 Hz, 86400 samples\n"
     ]
    },
    {
     "name": "stderr",
     "output_type": "stream",
     "text": [
      " 71%|███████   | 2688/3775 [02:37<00:59, 18.36it/s]"
     ]
    },
    {
     "name": "stdout",
     "output_type": "stream",
     "text": [
      "1 Trace(s) in Stream:\n",
      "Z4.CP06..BH1 | 2012-09-19T00:00:00.013800Z - 2012-09-19T23:59:59.013800Z | 1.0 Hz, 86400 samples\n",
      "1 Trace(s) in Stream:\n",
      "Z4.CP06..BHZ | 2012-05-10T00:00:00.007200Z - 2012-05-10T23:59:59.007200Z | 1.0 Hz, 86400 samples\n",
      "1 Trace(s) in Stream:\n",
      "Z4.CP06..BHZ | 2013-02-08T00:00:00.011000Z - 2013-02-08T23:59:59.011000Z | 1.0 Hz, 86400 samples\n",
      "1 Trace(s) in Stream:\n",
      "Z4.CP06..BH1 | 2012-12-09T00:00:00.015500Z - 2012-12-09T23:59:59.015500Z | 1.0 Hz, 86400 samples\n",
      "1 Trace(s) in Stream:\n",
      "Z4.CP06..BHZ | 2012-10-18T00:00:00.009100Z - 2012-10-18T23:59:59.009100Z | 1.0 Hz, 86400 samples\n"
     ]
    },
    {
     "name": "stderr",
     "output_type": "stream",
     "text": [
      " 71%|███████▏  | 2692/3775 [02:37<00:59, 18.08it/s]"
     ]
    },
    {
     "name": "stdout",
     "output_type": "stream",
     "text": [
      "1 Trace(s) in Stream:\n",
      "Z4.CP06..BH1 | 2012-11-03T00:00:00.009200Z - 2012-11-03T23:59:59.009200Z | 1.0 Hz, 86400 samples\n",
      "1 Trace(s) in Stream:\n",
      "Z4.CP06..BH1 | 2012-11-15T00:00:00.003000Z - 2012-11-15T23:59:59.003000Z | 1.0 Hz, 86400 samples\n",
      "1 Trace(s) in Stream:\n",
      "Z4.CP06..BH2 | 2012-08-30T00:00:00.007500Z - 2012-08-30T23:59:59.007500Z | 1.0 Hz, 86400 samples\n",
      "1 Trace(s) in Stream:\n",
      "Z4.CP06..BH1 | 2012-12-13T00:00:00.021800Z - 2012-12-13T23:59:59.021800Z | 1.0 Hz, 86400 samples\n"
     ]
    },
    {
     "name": "stderr",
     "output_type": "stream",
     "text": [
      " 71%|███████▏  | 2696/3775 [02:37<01:09, 15.54it/s]"
     ]
    },
    {
     "name": "stdout",
     "output_type": "stream",
     "text": [
      "1 Trace(s) in Stream:\n",
      "Z4.CP06..BH1 | 2012-08-13T00:00:00.005900Z - 2012-08-13T23:59:59.005900Z | 1.0 Hz, 86400 samples\n",
      "1 Trace(s) in Stream:\n",
      "Z4.CP06..BH1 | 2012-09-05T00:00:00.016800Z - 2012-09-05T23:59:59.016800Z | 1.0 Hz, 86400 samples\n",
      "1 Trace(s) in Stream:\n",
      "Z4.CP06..BH2 | 2012-07-20T00:00:00.018300Z - 2012-07-20T23:59:59.018300Z | 1.0 Hz, 86400 samples\n"
     ]
    },
    {
     "name": "stderr",
     "output_type": "stream",
     "text": [
      " 72%|███████▏  | 2700/3775 [02:37<01:06, 16.14it/s]"
     ]
    },
    {
     "name": "stdout",
     "output_type": "stream",
     "text": [
      "1 Trace(s) in Stream:\n",
      "Z4.CP06..BHZ | 2012-11-08T00:00:00.017000Z - 2012-11-08T23:59:59.017000Z | 1.0 Hz, 86400 samples\n",
      "1 Trace(s) in Stream:\n",
      "Z4.CP06..BH2 | 2012-07-05T00:00:00.019800Z - 2012-07-05T23:59:59.019800Z | 1.0 Hz, 86400 samples\n",
      "1 Trace(s) in Stream:\n",
      "Z4.CP06..BH1 | 2013-02-25T00:00:00.012600Z - 2013-02-25T23:59:59.012600Z | 1.0 Hz, 86400 samples\n",
      "1 Trace(s) in Stream:\n",
      "Z4.CP06..BHZ | 2013-02-09T00:00:00.012600Z - 2013-02-09T23:59:59.012600Z | 1.0 Hz, 86400 samples\n"
     ]
    },
    {
     "name": "stderr",
     "output_type": "stream",
     "text": [
      "\r",
      " 72%|███████▏  | 2702/3775 [02:37<01:03, 16.87it/s]"
     ]
    },
    {
     "name": "stdout",
     "output_type": "stream",
     "text": [
      "1 Trace(s) in Stream:\n",
      "Z4.CP06..BHZ | 2012-07-05T00:00:00.019800Z - 2012-07-05T23:59:59.019800Z | 1.0 Hz, 86400 samples\n",
      "1 Trace(s) in Stream:\n",
      "Z4.CP06..BH2 | 2012-09-14T00:00:00.005900Z - 2012-09-14T23:59:59.005900Z | 1.0 Hz, 86400 samples\n",
      "1 Trace(s) in Stream:\n",
      "Z4.CP06..BHZ | 2013-01-10T00:00:00.015600Z - 2013-01-10T23:59:59.015600Z | 1.0 Hz, 86400 samples\n",
      "1 Trace(s) in Stream:\n",
      "Z4.CP06..BH2 | 2012-07-04T00:00:00.018300Z - 2012-07-04T23:59:59.018300Z | 1.0 Hz, 86400 samples\n",
      "1 Trace(s) in Stream:\n",
      "Z4.CP06..BH1 | 2012-09-26T00:00:00.024700Z - 2012-09-26T23:59:59.024700Z | 1.0 Hz, 86400 samples\n"
     ]
    },
    {
     "name": "stderr",
     "output_type": "stream",
     "text": [
      " 72%|███████▏  | 2709/3775 [02:38<00:57, 18.52it/s]"
     ]
    },
    {
     "name": "stdout",
     "output_type": "stream",
     "text": [
      "1 Trace(s) in Stream:\n",
      "Z4.CP06..BHZ | 2012-05-24T00:00:00.004100Z - 2012-05-24T23:59:59.004100Z | 1.0 Hz, 86400 samples\n",
      "1 Trace(s) in Stream:\n",
      "Z4.CP06..BHZ | 2012-11-16T00:00:00.004500Z - 2012-11-16T23:59:59.004500Z | 1.0 Hz, 86400 samples\n",
      "1 Trace(s) in Stream:\n",
      "Z4.CP06..BH1 | 2012-05-24T00:00:00.004100Z - 2012-05-24T23:59:59.004100Z | 1.0 Hz, 86400 samples\n",
      "1 Trace(s) in Stream:\n",
      "Z4.CP06..BHZ | 2012-07-20T00:00:00.018300Z - 2012-07-20T23:59:59.018300Z | 1.0 Hz, 86400 samples\n"
     ]
    },
    {
     "name": "stderr",
     "output_type": "stream",
     "text": [
      " 72%|███████▏  | 2713/3775 [02:38<00:58, 18.17it/s]"
     ]
    },
    {
     "name": "stdout",
     "output_type": "stream",
     "text": [
      "1 Trace(s) in Stream:\n",
      "Z4.CP06..BH2 | 2012-12-20T00:00:00.007700Z - 2012-12-20T23:59:59.007700Z | 1.0 Hz, 86400 samples\n",
      "1 Trace(s) in Stream:\n",
      "Z4.CP06..BHZ | 2012-07-14T00:00:00.008900Z - 2012-07-14T23:59:59.008900Z | 1.0 Hz, 86400 samples\n",
      "1 Trace(s) in Stream:\n",
      "Z4.CP06..BHZ | 2012-05-17T00:00:00.018100Z - 2012-05-17T23:59:59.018100Z | 1.0 Hz, 86400 samples\n",
      "1 Trace(s) in Stream:\n",
      "Z4.CP06..BH1 | 2012-08-22T00:00:00.019900Z - 2012-08-22T23:59:59.019900Z | 1.0 Hz, 86400 samples\n"
     ]
    },
    {
     "name": "stderr",
     "output_type": "stream",
     "text": [
      "\r",
      " 72%|███████▏  | 2715/3775 [02:38<01:03, 16.65it/s]"
     ]
    },
    {
     "name": "stdout",
     "output_type": "stream",
     "text": [
      "1 Trace(s) in Stream:\n",
      "Z4.CP06..BHZ | 2012-07-11T00:00:00.004200Z - 2012-07-11T23:59:59.004200Z | 1.0 Hz, 86400 samples\n",
      "1 Trace(s) in Stream:\n",
      "Z4.CP06..BH2 | 2013-02-09T00:00:00.012600Z - 2013-02-09T23:59:59.012600Z | 1.0 Hz, 86400 samples\n",
      "1 Trace(s) in Stream:\n",
      "Z4.CP06..BHZ | 2012-11-03T00:00:00.009200Z - 2012-11-03T23:59:59.009200Z | 1.0 Hz, 86400 samples\n",
      "1 Trace(s) in Stream:\n",
      "Z4.CP06..BH1 | 2013-02-14T00:00:00.020400Z - 2013-02-14T23:59:59.020400Z | 1.0 Hz, 86400 samples\n"
     ]
    },
    {
     "name": "stderr",
     "output_type": "stream",
     "text": [
      " 72%|███████▏  | 2721/3775 [02:39<01:01, 17.16it/s]"
     ]
    },
    {
     "name": "stdout",
     "output_type": "stream",
     "text": [
      "1 Trace(s) in Stream:\n",
      "Z4.CP06..BH2 | 2012-09-28T00:00:00.002800Z - 2012-09-28T23:59:59.002800Z | 1.0 Hz, 86400 samples\n",
      "1 Trace(s) in Stream:\n",
      "Z4.CP06..BHZ | 2012-08-29T00:00:00.005900Z - 2012-08-29T23:59:59.005900Z | 1.0 Hz, 86400 samples\n",
      "1 Trace(s) in Stream:\n",
      "Z4.CP06..BH1 | 2012-08-30T00:00:00.007500Z - 2012-08-30T23:59:59.007500Z | 1.0 Hz, 86400 samples\n",
      "1 Trace(s) in Stream:\n",
      "Z4.CP06..BH2 | 2013-01-23T00:00:00.011000Z - 2013-01-23T23:59:59.011000Z | 1.0 Hz, 86400 samples\n"
     ]
    },
    {
     "name": "stderr",
     "output_type": "stream",
     "text": [
      " 72%|███████▏  | 2725/3775 [02:39<00:59, 17.73it/s]"
     ]
    },
    {
     "name": "stdout",
     "output_type": "stream",
     "text": [
      "1 Trace(s) in Stream:\n",
      "Z4.CP06..BH2 | 2012-05-09T00:00:00.005600Z - 2012-05-09T23:59:59.005600Z | 1.0 Hz, 86400 samples\n",
      "1 Trace(s) in Stream:\n",
      "Z4.CP06..BHZ | 2012-11-27T00:00:00.021700Z - 2012-11-27T23:59:59.021700Z | 1.0 Hz, 86400 samples\n",
      "1 Trace(s) in Stream:\n",
      "Z4.CP06..BHZ | 2012-08-08T00:00:00.023000Z - 2012-08-08T23:59:59.023000Z | 1.0 Hz, 86400 samples\n",
      "1 Trace(s) in Stream:\n",
      "Z4.CP06..BH2 | 2012-09-21T00:00:00.016900Z - 2012-09-21T23:59:59.016900Z | 1.0 Hz, 86400 samples\n",
      "1 Trace(s) in Stream:\n",
      "Z4.CP06..BHZ | 2013-01-04T00:00:00.006200Z - 2013-01-04T23:59:59.006200Z | 1.0 Hz, 86400 samples\n"
     ]
    },
    {
     "name": "stderr",
     "output_type": "stream",
     "text": [
      " 72%|███████▏  | 2729/3775 [02:39<01:00, 17.30it/s]"
     ]
    },
    {
     "name": "stdout",
     "output_type": "stream",
     "text": [
      "1 Trace(s) in Stream:\n",
      "Z4.CP06..BHZ | 2012-11-01T00:00:00.006100Z - 2012-11-01T23:59:59.006100Z | 1.0 Hz, 86400 samples\n",
      "1 Trace(s) in Stream:\n",
      "Z4.CP06..BHZ | 2012-11-12T00:00:00.023300Z - 2012-11-12T23:59:59.023300Z | 1.0 Hz, 86400 samples\n",
      "1 Trace(s) in Stream:\n",
      "Z4.CP06..BHZ | 2012-05-14T00:00:00.013400Z - 2012-05-14T23:59:59.013400Z | 1.0 Hz, 86400 samples\n",
      "1 Trace(s) in Stream:\n",
      "Z4.CP06..BH1 | 2013-01-09T00:00:00.014000Z - 2013-01-09T23:59:59.014000Z | 1.0 Hz, 86400 samples\n"
     ]
    },
    {
     "name": "stderr",
     "output_type": "stream",
     "text": [
      " 72%|███████▏  | 2733/3775 [02:39<00:59, 17.62it/s]"
     ]
    },
    {
     "name": "stdout",
     "output_type": "stream",
     "text": [
      "1 Trace(s) in Stream:\n",
      "Z4.CP06..BH1 | 2012-07-10T00:00:00.002600Z - 2012-07-10T23:59:59.002600Z | 1.0 Hz, 86400 samples\n",
      "1 Trace(s) in Stream:\n",
      "Z4.CP06..BH2 | 2012-08-27T00:00:00.002800Z - 2012-08-27T23:59:59.002800Z | 1.0 Hz, 86400 samples\n",
      "1 Trace(s) in Stream:\n",
      "Z4.CP06..BH2 | 2013-03-17T00:00:00.018900Z - 2013-03-17T23:59:59.018900Z | 1.0 Hz, 86400 samples\n",
      "1 Trace(s) in Stream:\n",
      "Z4.CP06..BH2 | 2013-03-11T00:00:00.009500Z - 2013-03-11T23:59:59.009500Z | 1.0 Hz, 86400 samples\n",
      "1 Trace(s) in Stream:\n",
      "Z4.CP06..BH1 | 2012-05-07T00:00:00.002500Z - 2012-05-07T23:59:59.002500Z | 1.0 Hz, 86400 samples\n"
     ]
    },
    {
     "name": "stderr",
     "output_type": "stream",
     "text": [
      " 73%|███████▎  | 2739/3775 [02:40<00:55, 18.52it/s]"
     ]
    },
    {
     "name": "stdout",
     "output_type": "stream",
     "text": [
      "1 Trace(s) in Stream:\n",
      "Z4.CP06..BHZ | 2013-02-16T00:00:00.023500Z - 2013-02-16T23:59:59.023500Z | 1.0 Hz, 86400 samples\n",
      "1 Trace(s) in Stream:\n",
      "Z4.CP06..BH1 | 2012-08-07T00:00:00.021500Z - 2012-08-07T23:59:59.021500Z | 1.0 Hz, 86400 samples\n",
      "1 Trace(s) in Stream:\n",
      "Z4.CP06..BHZ | 2012-07-09T00:00:00.001100Z - 2012-07-09T23:59:59.001100Z | 1.0 Hz, 86400 samples\n",
      "1 Trace(s) in Stream:\n",
      "Z4.CP06..BH1 | 2012-06-12T00:00:00.008800Z - 2012-06-12T23:59:59.008800Z | 1.0 Hz, 86400 samples\n"
     ]
    },
    {
     "name": "stderr",
     "output_type": "stream",
     "text": [
      " 73%|███████▎  | 2744/3775 [02:40<00:55, 18.74it/s]"
     ]
    },
    {
     "name": "stdout",
     "output_type": "stream",
     "text": [
      "1 Trace(s) in Stream:\n",
      "Z4.CP06..BH2 | 2012-12-12T00:00:00.020200Z - 2012-12-12T23:59:59.020200Z | 1.0 Hz, 86400 samples\n",
      "1 Trace(s) in Stream:\n",
      "Z4.CP06..BHZ | 2012-12-03T00:00:00.006100Z - 2012-12-03T23:59:59.006100Z | 1.0 Hz, 86400 samples\n",
      "1 Trace(s) in Stream:\n",
      "Z4.CP06..BH2 | 2013-01-25T00:00:00.014100Z - 2013-01-25T23:59:59.014100Z | 1.0 Hz, 86400 samples\n",
      "1 Trace(s) in Stream:\n",
      "Z4.CP06..BH2 | 2013-02-07T00:00:00.009400Z - 2013-02-07T23:59:59.009400Z | 1.0 Hz, 86400 samples\n",
      "1 Trace(s) in Stream:\n",
      "Z4.CP06..BH1 | 2012-07-23T00:00:00.023000Z - 2012-07-23T23:59:59.023000Z | 1.0 Hz, 86400 samples\n"
     ]
    },
    {
     "name": "stderr",
     "output_type": "stream",
     "text": [
      " 73%|███████▎  | 2748/3775 [02:40<00:55, 18.38it/s]"
     ]
    },
    {
     "name": "stdout",
     "output_type": "stream",
     "text": [
      "1 Trace(s) in Stream:\n",
      "Z4.CP06..BH1 | 2012-12-30T00:00:00.023400Z - 2012-12-30T23:59:59.023400Z | 1.0 Hz, 86400 samples\n",
      "1 Trace(s) in Stream:\n",
      "Z4.CP06..BHZ | 2012-06-06T00:00:00.024400Z - 2012-06-06T23:59:59.024400Z | 1.0 Hz, 86400 samples\n",
      "1 Trace(s) in Stream:\n",
      "Z4.CP06..BH2 | 2012-07-29T00:00:00.007400Z - 2012-07-29T23:59:59.007400Z | 1.0 Hz, 86400 samples\n",
      "1 Trace(s) in Stream:\n",
      "Z4.CP06..BHZ | 2013-02-06T00:00:00.007900Z - 2013-02-06T23:59:59.007900Z | 1.0 Hz, 86400 samples\n"
     ]
    },
    {
     "name": "stderr",
     "output_type": "stream",
     "text": [
      " 73%|███████▎  | 2753/3775 [02:40<00:54, 18.69it/s]"
     ]
    },
    {
     "name": "stdout",
     "output_type": "stream",
     "text": [
      "1 Trace(s) in Stream:\n",
      "Z4.CP06..BHZ | 2012-06-22T00:00:00.024500Z - 2012-06-22T23:59:59.024500Z | 1.0 Hz, 86400 samples\n",
      "1 Trace(s) in Stream:\n",
      "Z4.CP06..BHZ | 2012-06-14T00:00:00.011900Z - 2012-06-14T23:59:59.011900Z | 1.0 Hz, 86400 samples\n",
      "1 Trace(s) in Stream:\n",
      "Z4.CP06..BH2 | 2012-07-27T00:00:00.004200Z - 2012-07-27T23:59:59.004200Z | 1.0 Hz, 86400 samples\n",
      "1 Trace(s) in Stream:\n",
      "Z4.CP06..BH2 | 2012-09-30T00:00:00.006000Z - 2012-09-30T23:59:59.006000Z | 1.0 Hz, 86400 samples\n",
      "1 Trace(s) in Stream:\n",
      "Z4.CP06..BH2 | 2013-02-08T00:00:00.011000Z - 2013-02-08T23:59:59.011000Z | 1.0 Hz, 86400 samples\n"
     ]
    },
    {
     "name": "stderr",
     "output_type": "stream",
     "text": [
      " 73%|███████▎  | 2757/3775 [02:40<00:54, 18.68it/s]"
     ]
    },
    {
     "name": "stdout",
     "output_type": "stream",
     "text": [
      "1 Trace(s) in Stream:\n",
      "Z4.CP06..BH2 | 2012-06-20T00:00:00.021300Z - 2012-06-20T23:59:59.021300Z | 1.0 Hz, 86400 samples\n",
      "1 Trace(s) in Stream:\n",
      "Z4.CP06..BHZ | 2013-02-05T00:00:00.006300Z - 2013-02-05T23:59:59.006300Z | 1.0 Hz, 86400 samples\n",
      "1 Trace(s) in Stream:\n",
      "Z4.CP06..BHZ | 2012-08-01T00:00:00.012100Z - 2012-08-01T23:59:59.012100Z | 1.0 Hz, 86400 samples\n",
      "1 Trace(s) in Stream:\n",
      "Z4.CP06..BH2 | 2013-02-02T00:00:00.001600Z - 2013-02-02T23:59:59.001600Z | 1.0 Hz, 86400 samples\n"
     ]
    },
    {
     "name": "stderr",
     "output_type": "stream",
     "text": [
      "\r",
      " 73%|███████▎  | 2759/3775 [02:41<00:57, 17.78it/s]"
     ]
    },
    {
     "name": "stdout",
     "output_type": "stream",
     "text": [
      "1 Trace(s) in Stream:\n",
      "Z4.CP06..BHZ | 2013-02-01T00:00:00.000000Z - 2013-02-02T00:00:00.000000Z | 1.0 Hz, 86401 samples\n",
      "1 Trace(s) in Stream:\n",
      "Z4.CP06..BH2 | 2012-06-22T00:00:00.024500Z - 2012-06-22T23:59:59.024500Z | 1.0 Hz, 86400 samples\n",
      "1 Trace(s) in Stream:\n",
      "Z4.CP06..BH1 | 2012-10-24T00:00:00.018500Z - 2012-10-24T23:59:59.018500Z | 1.0 Hz, 86400 samples\n",
      "1 Trace(s) in Stream:\n",
      "Z4.CP06..BHZ | 2012-12-12T00:00:00.020200Z - 2012-12-12T23:59:59.020200Z | 1.0 Hz, 86400 samples\n"
     ]
    },
    {
     "name": "stderr",
     "output_type": "stream",
     "text": [
      " 73%|███████▎  | 2766/3775 [02:41<00:54, 18.62it/s]"
     ]
    },
    {
     "name": "stdout",
     "output_type": "stream",
     "text": [
      "1 Trace(s) in Stream:\n",
      "Z4.CP06..BH1 | 2012-11-01T00:00:00.006100Z - 2012-11-01T23:59:59.006100Z | 1.0 Hz, 86400 samples\n",
      "1 Trace(s) in Stream:\n",
      "Z4.CP06..BH1 | 2012-05-28T00:00:00.010300Z - 2012-05-28T23:59:59.010300Z | 1.0 Hz, 86400 samples\n",
      "1 Trace(s) in Stream:\n",
      "Z4.CP06..BH2 | 2012-05-11T00:00:00.008700Z - 2012-05-11T23:59:59.008700Z | 1.0 Hz, 86400 samples\n",
      "1 Trace(s) in Stream:\n",
      "Z4.CP06..BH1 | 2012-12-27T00:00:00.018700Z - 2012-12-27T23:59:59.018700Z | 1.0 Hz, 86400 samples\n",
      "1 Trace(s) in Stream:\n",
      "Z4.CP06..BH2 | 2012-08-01T00:00:00.012100Z - 2012-08-01T23:59:59.012100Z | 1.0 Hz, 86400 samples\n"
     ]
    },
    {
     "name": "stderr",
     "output_type": "stream",
     "text": [
      "\r",
      " 73%|███████▎  | 2768/3775 [02:41<00:54, 18.59it/s]"
     ]
    },
    {
     "name": "stdout",
     "output_type": "stream",
     "text": [
      "1 Trace(s) in Stream:\n",
      "Z4.CP06..BH2 | 2012-07-06T00:00:00.021400Z - 2012-07-06T23:59:59.021400Z | 1.0 Hz, 86400 samples\n",
      "1 Trace(s) in Stream:\n",
      "Z4.CP06..BHZ | 2012-12-26T00:00:00.017100Z - 2012-12-26T23:59:59.017100Z | 1.0 Hz, 86400 samples\n",
      "1 Trace(s) in Stream:\n",
      "Z4.CP06..BHZ | 2012-09-17T00:00:00.010600Z - 2012-09-17T23:59:59.010600Z | 1.0 Hz, 86400 samples\n",
      "1 Trace(s) in Stream:\n",
      "Z4.CP06..BH2 | 2012-11-03T00:00:00.009200Z - 2012-11-03T23:59:59.009200Z | 1.0 Hz, 86400 samples\n"
     ]
    },
    {
     "name": "stderr",
     "output_type": "stream",
     "text": [
      " 73%|███████▎  | 2774/3775 [02:41<00:57, 17.44it/s]"
     ]
    },
    {
     "name": "stdout",
     "output_type": "stream",
     "text": [
      "1 Trace(s) in Stream:\n",
      "Z4.CP06..BH2 | 2012-07-15T00:00:00.010500Z - 2012-07-15T23:59:59.010500Z | 1.0 Hz, 86400 samples\n",
      "1 Trace(s) in Stream:\n",
      "Z4.CP06..BH1 | 2012-05-31T00:00:00.015000Z - 2012-05-31T23:59:59.015000Z | 1.0 Hz, 86400 samples\n",
      "1 Trace(s) in Stream:\n",
      "Z4.CP06..BH2 | 2012-09-20T00:00:00.015300Z - 2012-09-20T23:59:59.015300Z | 1.0 Hz, 86400 samples\n",
      "1 Trace(s) in Stream:\n",
      "Z4.CP06..BH2 | 2012-05-22T00:00:00.001000Z - 2012-05-22T23:59:59.001000Z | 1.0 Hz, 86400 samples\n"
     ]
    },
    {
     "name": "stderr",
     "output_type": "stream",
     "text": [
      "\r",
      " 74%|███████▎  | 2776/3775 [02:42<01:00, 16.50it/s]"
     ]
    },
    {
     "name": "stdout",
     "output_type": "stream",
     "text": [
      "1 Trace(s) in Stream:\n",
      "Z4.CP06..BH1 | 2013-01-26T00:00:00.015600Z - 2013-01-26T23:59:59.015600Z | 1.0 Hz, 86400 samples\n",
      "1 Trace(s) in Stream:\n",
      "Z4.CP06..BHZ | 2012-09-29T00:00:00.004400Z - 2012-09-29T23:59:59.004400Z | 1.0 Hz, 86400 samples\n",
      "1 Trace(s) in Stream:\n",
      "Z4.CP06..BH1 | 2012-08-12T00:00:00.004300Z - 2012-08-12T23:59:59.004300Z | 1.0 Hz, 86400 samples\n",
      "1 Trace(s) in Stream:\n",
      "Z4.CP06..BH2 | 2012-06-09T00:00:00.004100Z - 2012-06-09T23:59:59.004100Z | 1.0 Hz, 86400 samples\n"
     ]
    },
    {
     "name": "stderr",
     "output_type": "stream",
     "text": [
      " 74%|███████▎  | 2780/3775 [02:42<01:00, 16.53it/s]"
     ]
    },
    {
     "name": "stdout",
     "output_type": "stream",
     "text": [
      "1 Trace(s) in Stream:\n",
      "Z4.CP06..BHZ | 2012-09-07T00:00:00.020000Z - 2012-09-07T23:59:59.020000Z | 1.0 Hz, 86400 samples\n",
      "1 Trace(s) in Stream:\n",
      "Z4.CP06..BHZ | 2012-11-05T00:00:00.012300Z - 2012-11-05T23:59:59.012300Z | 1.0 Hz, 86400 samples\n",
      "1 Trace(s) in Stream:\n",
      "Z4.CP06..BH2 | 2012-08-23T00:00:00.021500Z - 2012-08-23T23:59:59.021500Z | 1.0 Hz, 86400 samples\n"
     ]
    },
    {
     "name": "stderr",
     "output_type": "stream",
     "text": [
      " 74%|███████▎  | 2784/3775 [02:42<01:07, 14.77it/s]"
     ]
    },
    {
     "name": "stdout",
     "output_type": "stream",
     "text": [
      "1 Trace(s) in Stream:\n",
      "Z4.CP06..BHZ | 2012-12-25T00:00:00.015600Z - 2012-12-25T23:59:59.015600Z | 1.0 Hz, 86400 samples\n",
      "1 Trace(s) in Stream:\n",
      "Z4.CP06..BHZ | 2012-10-21T00:00:00.013800Z - 2012-10-21T23:59:59.013800Z | 1.0 Hz, 86400 samples\n",
      "1 Trace(s) in Stream:\n",
      "Z4.CP06..BHZ | 2013-02-13T00:00:00.018800Z - 2013-02-13T23:59:59.018800Z | 1.0 Hz, 86400 samples\n"
     ]
    },
    {
     "name": "stderr",
     "output_type": "stream",
     "text": [
      " 74%|███████▍  | 2788/3775 [02:42<00:59, 16.50it/s]"
     ]
    },
    {
     "name": "stdout",
     "output_type": "stream",
     "text": [
      "1 Trace(s) in Stream:\n",
      "Z4.CP06..BH2 | 2012-07-11T00:00:00.004200Z - 2012-07-11T23:59:59.004200Z | 1.0 Hz, 86400 samples\n",
      "1 Trace(s) in Stream:\n",
      "Z4.CP06..BH1 | 2013-03-01T00:00:00.018900Z - 2013-03-01T23:59:59.018900Z | 1.0 Hz, 86400 samples\n",
      "1 Trace(s) in Stream:\n",
      "Z4.CP06..BH1 | 2013-01-19T00:00:00.004700Z - 2013-01-19T23:59:59.004700Z | 1.0 Hz, 86400 samples\n",
      "1 Trace(s) in Stream:\n",
      "Z4.CP06..BH1 | 2012-08-20T00:00:00.016800Z - 2012-08-20T23:59:59.016800Z | 1.0 Hz, 86400 samples\n",
      "1 Trace(s) in Stream:\n",
      "Z4.CP06..BH1 | 2013-02-28T00:00:00.017300Z - 2013-02-28T23:59:59.017300Z | 1.0 Hz, 86400 samples\n"
     ]
    },
    {
     "name": "stderr",
     "output_type": "stream",
     "text": [
      " 74%|███████▍  | 2793/3775 [02:43<00:55, 17.84it/s]"
     ]
    },
    {
     "name": "stdout",
     "output_type": "stream",
     "text": [
      "1 Trace(s) in Stream:\n",
      "Z4.CP06..BH1 | 2012-09-09T00:00:00.023100Z - 2012-09-09T23:59:59.023100Z | 1.0 Hz, 86400 samples\n",
      "1 Trace(s) in Stream:\n",
      "Z4.CP06..BH2 | 2012-11-17T00:00:00.006200Z - 2012-11-17T23:59:59.006200Z | 1.0 Hz, 86400 samples\n",
      "1 Trace(s) in Stream:\n",
      "Z4.CP06..BH1 | 2012-11-27T00:00:00.021700Z - 2012-11-27T23:59:59.021700Z | 1.0 Hz, 86400 samples\n",
      "1 Trace(s) in Stream:\n",
      "Z4.CP06..BHZ | 2012-12-24T00:00:00.014000Z - 2012-12-24T23:59:59.014000Z | 1.0 Hz, 86400 samples\n",
      "1 Trace(s) in Stream:\n",
      "Z4.CP06..BHZ | 2012-07-12T00:00:00.005800Z - 2012-07-12T23:59:59.005800Z | 1.0 Hz, 86400 samples\n"
     ]
    },
    {
     "name": "stderr",
     "output_type": "stream",
     "text": [
      " 74%|███████▍  | 2798/3775 [02:43<00:52, 18.77it/s]"
     ]
    },
    {
     "name": "stdout",
     "output_type": "stream",
     "text": [
      "1 Trace(s) in Stream:\n",
      "Z4.CP06..BH1 | 2012-05-22T00:00:00.001000Z - 2012-05-22T23:59:59.001000Z | 1.0 Hz, 86400 samples\n",
      "1 Trace(s) in Stream:\n",
      "Z4.CP06..BH1 | 2012-09-13T00:00:00.004400Z - 2012-09-13T23:59:59.004400Z | 1.0 Hz, 86400 samples\n",
      "1 Trace(s) in Stream:\n",
      "Z4.CP06..BH1 | 2012-10-15T00:00:00.004400Z - 2012-10-15T23:59:59.004400Z | 1.0 Hz, 86400 samples\n",
      "1 Trace(s) in Stream:\n",
      "Z4.CP06..BHZ | 2012-08-18T00:00:00.013700Z - 2012-08-18T23:59:59.013700Z | 1.0 Hz, 86400 samples\n",
      "1 Trace(s) in Stream:\n",
      "Z4.CP06..BH2 | 2012-06-02T00:00:00.018200Z - 2012-06-02T23:59:59.018200Z | 1.0 Hz, 86400 samples\n"
     ]
    },
    {
     "name": "stderr",
     "output_type": "stream",
     "text": [
      " 74%|███████▍  | 2802/3775 [02:43<00:58, 16.58it/s]"
     ]
    },
    {
     "name": "stdout",
     "output_type": "stream",
     "text": [
      "1 Trace(s) in Stream:\n",
      "Z4.CP06..BHZ | 2012-06-15T00:00:00.013500Z - 2012-06-15T23:59:59.013500Z | 1.0 Hz, 86400 samples\n",
      "1 Trace(s) in Stream:\n",
      "Z4.CP06..BHZ | 2012-09-15T00:00:00.007500Z - 2012-09-15T23:59:59.007500Z | 1.0 Hz, 86400 samples\n",
      "1 Trace(s) in Stream:\n",
      "Z4.CP06..BHZ | 2013-01-29T00:00:00.020300Z - 2013-01-29T23:59:59.020300Z | 1.0 Hz, 86400 samples\n",
      "1 Trace(s) in Stream:\n",
      "Z4.CP06..BH2 | 2013-01-24T00:00:00.012500Z - 2013-01-24T23:59:59.012500Z | 1.0 Hz, 86400 samples\n",
      "1 Trace(s) in Stream:\n",
      "Z4.CP06..BH2 | 2013-01-15T00:00:00.023400Z - 2013-01-15T23:59:59.023400Z | 1.0 Hz, 86400 samples\n"
     ]
    },
    {
     "name": "stderr",
     "output_type": "stream",
     "text": [
      " 74%|███████▍  | 2808/3775 [02:43<00:54, 17.82it/s]"
     ]
    },
    {
     "name": "stdout",
     "output_type": "stream",
     "text": [
      "1 Trace(s) in Stream:\n",
      "Z4.CP06..BH1 | 2013-01-23T00:00:00.011000Z - 2013-01-23T23:59:59.011000Z | 1.0 Hz, 86400 samples\n",
      "1 Trace(s) in Stream:\n",
      "Z4.CP06..BHZ | 2012-05-25T00:00:00.005600Z - 2012-05-25T23:59:59.005600Z | 1.0 Hz, 86400 samples\n",
      "1 Trace(s) in Stream:\n",
      "Z4.CP06..BH1 | 2012-08-08T00:00:00.023000Z - 2012-08-08T23:59:59.023000Z | 1.0 Hz, 86400 samples\n",
      "1 Trace(s) in Stream:\n",
      "Z4.CP06..BH2 | 2012-06-16T00:00:00.015100Z - 2012-06-16T23:59:59.015100Z | 1.0 Hz, 86400 samples\n"
     ]
    },
    {
     "name": "stderr",
     "output_type": "stream",
     "text": [
      " 75%|███████▍  | 2813/3775 [02:44<00:53, 17.90it/s]"
     ]
    },
    {
     "name": "stdout",
     "output_type": "stream",
     "text": [
      "1 Trace(s) in Stream:\n",
      "Z4.CP06..BHZ | 2012-09-03T00:00:00.013700Z - 2012-09-03T23:59:59.013700Z | 1.0 Hz, 86400 samples\n",
      "1 Trace(s) in Stream:\n",
      "Z4.CP06..BH2 | 2012-09-09T00:00:00.023100Z - 2012-09-09T23:59:59.023100Z | 1.0 Hz, 86400 samples\n",
      "1 Trace(s) in Stream:\n",
      "Z4.CP06..BH1 | 2012-08-14T00:00:00.007400Z - 2012-08-14T23:59:59.007400Z | 1.0 Hz, 86400 samples\n",
      "1 Trace(s) in Stream:\n",
      "Z4.CP06..BH1 | 2013-02-06T00:00:00.007900Z - 2013-02-06T23:59:59.007900Z | 1.0 Hz, 86400 samples\n",
      "1 Trace(s) in Stream:\n",
      "Z4.CP06..BH1 | 2012-12-12T00:00:00.020200Z - 2012-12-12T23:59:59.020200Z | 1.0 Hz, 86400 samples\n"
     ]
    },
    {
     "name": "stderr",
     "output_type": "stream",
     "text": [
      " 75%|███████▍  | 2817/3775 [02:44<00:57, 16.58it/s]"
     ]
    },
    {
     "name": "stdout",
     "output_type": "stream",
     "text": [
      "1 Trace(s) in Stream:\n",
      "Z4.CP06..BH2 | 2012-12-16T00:00:00.001500Z - 2012-12-16T23:59:59.001500Z | 1.0 Hz, 86400 samples\n",
      "1 Trace(s) in Stream:\n",
      "Z4.CP06..BHZ | 2012-10-22T00:00:00.015400Z - 2012-10-22T23:59:59.015400Z | 1.0 Hz, 86400 samples\n",
      "1 Trace(s) in Stream:\n",
      "Z4.CP06..BH1 | 2012-09-11T00:00:00.001200Z - 2012-09-11T23:59:59.001200Z | 1.0 Hz, 86400 samples\n",
      "1 Trace(s) in Stream:\n",
      "Z4.CP06..BHZ | 2013-01-16T00:00:00.000000Z - 2013-01-17T00:00:00.000000Z | 1.0 Hz, 86401 samples\n"
     ]
    },
    {
     "name": "stderr",
     "output_type": "stream",
     "text": [
      " 75%|███████▍  | 2821/3775 [02:44<00:56, 16.97it/s]"
     ]
    },
    {
     "name": "stdout",
     "output_type": "stream",
     "text": [
      "1 Trace(s) in Stream:\n",
      "Z4.CP06..BH2 | 2012-07-31T00:00:00.010500Z - 2012-07-31T23:59:59.010500Z | 1.0 Hz, 86400 samples\n",
      "1 Trace(s) in Stream:\n",
      "Z4.CP06..BH2 | 2012-06-28T00:00:00.008900Z - 2012-06-28T23:59:59.008900Z | 1.0 Hz, 86400 samples\n",
      "1 Trace(s) in Stream:\n",
      "Z4.CP06..BH1 | 2012-07-01T00:00:00.013600Z - 2012-07-01T23:59:59.013600Z | 1.0 Hz, 86400 samples\n",
      "1 Trace(s) in Stream:\n",
      "Z4.CP06..BH1 | 2012-11-12T00:00:00.023300Z - 2012-11-12T23:59:59.023300Z | 1.0 Hz, 86400 samples\n"
     ]
    },
    {
     "name": "stderr",
     "output_type": "stream",
     "text": [
      " 75%|███████▍  | 2825/3775 [02:44<00:53, 17.78it/s]"
     ]
    },
    {
     "name": "stdout",
     "output_type": "stream",
     "text": [
      "1 Trace(s) in Stream:\n",
      "Z4.CP06..BH1 | 2012-07-22T00:00:00.021400Z - 2012-07-22T23:59:59.021400Z | 1.0 Hz, 86400 samples\n",
      "1 Trace(s) in Stream:\n",
      "Z4.CP06..BHZ | 2012-12-23T00:00:00.012400Z - 2012-12-23T23:59:59.012400Z | 1.0 Hz, 86400 samples\n",
      "1 Trace(s) in Stream:\n",
      "Z4.CP06..BHZ | 2012-11-19T00:00:00.009200Z - 2012-11-19T23:59:59.009200Z | 1.0 Hz, 86400 samples\n",
      "1 Trace(s) in Stream:\n",
      "Z4.CP06..BH1 | 2012-08-10T00:00:00.001200Z - 2012-08-10T23:59:59.001200Z | 1.0 Hz, 86400 samples\n"
     ]
    },
    {
     "name": "stderr",
     "output_type": "stream",
     "text": [
      " 75%|███████▍  | 2829/3775 [02:45<00:54, 17.26it/s]"
     ]
    },
    {
     "name": "stdout",
     "output_type": "stream",
     "text": [
      "1 Trace(s) in Stream:\n",
      "Z4.CP06..BH2 | 2013-01-11T00:00:00.017200Z - 2013-01-11T23:59:59.017200Z | 1.0 Hz, 86400 samples\n",
      "1 Trace(s) in Stream:\n",
      "Z4.CP06..BH2 | 2012-07-07T00:00:00.022900Z - 2012-07-07T23:59:59.022900Z | 1.0 Hz, 86400 samples\n",
      "1 Trace(s) in Stream:\n",
      "Z4.CP06..BH2 | 2012-05-27T00:00:00.008800Z - 2012-05-27T23:59:59.008800Z | 1.0 Hz, 86400 samples\n",
      "1 Trace(s) in Stream:\n",
      "Z4.CP06..BHZ | 2012-09-26T00:00:00.024700Z - 2012-09-26T23:59:59.024700Z | 1.0 Hz, 86400 samples\n",
      "1 Trace(s) in Stream:\n",
      "Z4.CP06..BHZ | 2013-02-20T00:00:00.004800Z - 2013-02-20T23:59:59.004800Z | 1.0 Hz, 86400 samples\n"
     ]
    },
    {
     "name": "stderr",
     "output_type": "stream",
     "text": [
      " 75%|███████▌  | 2833/3775 [02:45<00:56, 16.80it/s]"
     ]
    },
    {
     "name": "stdout",
     "output_type": "stream",
     "text": [
      "1 Trace(s) in Stream:\n",
      "Z4.CP09..BHZ | 2012-05-17T00:00:00.020400Z - 2012-05-17T23:59:59.020400Z | 1.0 Hz, 86400 samples\n",
      "1 Trace(s) in Stream:\n",
      "Z4.CP09..BHZ | 2012-12-07T00:00:00.012000Z - 2012-12-07T23:59:59.012000Z | 1.0 Hz, 86400 samples\n",
      "1 Trace(s) in Stream:\n",
      "Z4.CP09..BH1 | 2012-11-24T00:00:00.017300Z - 2012-11-24T23:59:59.017300Z | 1.0 Hz, 86400 samples\n",
      "1 Trace(s) in Stream:\n",
      "Z4.CP09..BH1 | 2012-11-27T00:00:00.016100Z - 2012-11-27T23:59:59.016100Z | 1.0 Hz, 86400 samples\n"
     ]
    },
    {
     "name": "stderr",
     "output_type": "stream",
     "text": [
      " 75%|███████▌  | 2838/3775 [02:45<00:52, 17.74it/s]"
     ]
    },
    {
     "name": "stdout",
     "output_type": "stream",
     "text": [
      "1 Trace(s) in Stream:\n",
      "Z4.CP09..BH2 | 2012-12-26T00:00:00.004200Z - 2012-12-26T23:59:59.004200Z | 1.0 Hz, 86400 samples\n",
      "1 Trace(s) in Stream:\n",
      "Z4.CP09..BH1 | 2013-01-08T00:00:00.023900Z - 2013-01-08T23:59:59.023900Z | 1.0 Hz, 86400 samples\n",
      "1 Trace(s) in Stream:\n",
      "Z4.CP09..BH1 | 2012-08-11T00:00:00.010200Z - 2012-08-11T23:59:59.010200Z | 1.0 Hz, 86400 samples\n",
      "1 Trace(s) in Stream:\n",
      "Z4.CP09..BH2 | 2012-07-28T00:00:00.015900Z - 2012-07-28T23:59:59.015900Z | 1.0 Hz, 86400 samples\n"
     ]
    },
    {
     "name": "stderr",
     "output_type": "stream",
     "text": [
      " 75%|███████▌  | 2842/3775 [02:45<00:52, 17.71it/s]"
     ]
    },
    {
     "name": "stdout",
     "output_type": "stream",
     "text": [
      "1 Trace(s) in Stream:\n",
      "Z4.CP09..BHZ | 2013-01-27T00:00:00.016200Z - 2013-01-27T23:59:59.016200Z | 1.0 Hz, 86400 samples\n",
      "1 Trace(s) in Stream:\n",
      "Z4.CP09..BH2 | 2012-11-20T00:00:00.018900Z - 2012-11-20T23:59:59.018900Z | 1.0 Hz, 86400 samples\n",
      "1 Trace(s) in Stream:\n",
      "Z4.CP09..BH2 | 2012-05-23T00:00:00.017900Z - 2012-05-23T23:59:59.017900Z | 1.0 Hz, 86400 samples\n",
      "1 Trace(s) in Stream:\n",
      "Z4.CP09..BH1 | 2013-03-04T00:00:00.001400Z - 2013-03-04T23:59:59.001400Z | 1.0 Hz, 86400 samples\n",
      "1 Trace(s) in Stream:\n",
      "Z4.CP09..BH2 | 2012-06-22T00:00:00.005700Z - 2012-06-22T23:59:59.005700Z | 1.0 Hz, 86400 samples\n"
     ]
    },
    {
     "name": "stderr",
     "output_type": "stream",
     "text": [
      " 75%|███████▌  | 2846/3775 [02:46<00:55, 16.80it/s]"
     ]
    },
    {
     "name": "stdout",
     "output_type": "stream",
     "text": [
      "1 Trace(s) in Stream:\n",
      "Z4.CP09..BHZ | 2012-10-14T00:00:00.009100Z - 2012-10-14T23:59:59.009100Z | 1.0 Hz, 86400 samples\n",
      "1 Trace(s) in Stream:\n",
      "Z4.CP09..BH1 | 2012-07-12T00:00:00.022500Z - 2012-07-12T23:59:59.022500Z | 1.0 Hz, 86400 samples\n",
      "1 Trace(s) in Stream:\n",
      "Z4.CP09..BH1 | 2013-03-05T00:00:00.001000Z - 2013-03-05T23:59:59.001000Z | 1.0 Hz, 86400 samples\n",
      "1 Trace(s) in Stream:\n",
      "Z4.CP09..BH2 | 2012-11-02T00:00:00.001300Z - 2012-11-02T23:59:59.001300Z | 1.0 Hz, 86400 samples\n"
     ]
    },
    {
     "name": "stderr",
     "output_type": "stream",
     "text": [
      " 76%|███████▌  | 2852/3775 [02:46<00:54, 16.98it/s]"
     ]
    },
    {
     "name": "stdout",
     "output_type": "stream",
     "text": [
      "1 Trace(s) in Stream:\n",
      "Z4.CP09..BHZ | 2012-09-22T00:00:00.018100Z - 2012-09-22T23:59:59.018100Z | 1.0 Hz, 86400 samples\n",
      "1 Trace(s) in Stream:\n",
      "Z4.CP09..BH1 | 2012-12-15T00:00:00.008700Z - 2012-12-15T23:59:59.008700Z | 1.0 Hz, 86400 samples\n",
      "1 Trace(s) in Stream:\n",
      "Z4.CP09..BHZ | 2013-02-10T00:00:00.010400Z - 2013-02-10T23:59:59.010400Z | 1.0 Hz, 86400 samples\n",
      "1 Trace(s) in Stream:\n",
      "Z4.CP09..BH2 | 2012-07-04T00:00:00.000800Z - 2012-07-04T23:59:59.000800Z | 1.0 Hz, 86400 samples\n",
      "1 Trace(s) in Stream:\n",
      "Z4.CP09..BH2 | 2012-11-13T00:00:00.021800Z - 2012-11-13T23:59:59.021800Z | 1.0 Hz, 86400 samples\n"
     ]
    },
    {
     "name": "stderr",
     "output_type": "stream",
     "text": [
      " 76%|███████▌  | 2856/3775 [02:46<00:52, 17.41it/s]"
     ]
    },
    {
     "name": "stdout",
     "output_type": "stream",
     "text": [
      "1 Trace(s) in Stream:\n",
      "Z4.CP09..BH1 | 2013-03-10T00:00:00.024000Z - 2013-03-10T23:59:59.024000Z | 1.0 Hz, 86400 samples\n",
      "1 Trace(s) in Stream:\n",
      "Z4.CP09..BHZ | 2013-03-11T00:00:00.023600Z - 2013-03-11T23:59:59.023600Z | 1.0 Hz, 86400 samples\n",
      "1 Trace(s) in Stream:\n",
      "Z4.CP09..BH2 | 2012-07-08T00:00:00.024100Z - 2012-07-08T23:59:59.024100Z | 1.0 Hz, 86400 samples\n",
      "1 Trace(s) in Stream:\n",
      "Z4.CP09..BH1 | 2012-06-16T00:00:00.008100Z - 2012-06-16T23:59:59.008100Z | 1.0 Hz, 86400 samples\n"
     ]
    },
    {
     "name": "stderr",
     "output_type": "stream",
     "text": [
      "\r",
      " 76%|███████▌  | 2858/3775 [02:46<00:53, 17.07it/s]"
     ]
    },
    {
     "name": "stdout",
     "output_type": "stream",
     "text": [
      "1 Trace(s) in Stream:\n",
      "Z4.CP09..BH2 | 2012-09-29T00:00:00.015200Z - 2012-09-29T23:59:59.015200Z | 1.0 Hz, 86400 samples\n",
      "1 Trace(s) in Stream:\n",
      "Z4.CP09..BH2 | 2012-08-07T00:00:00.011900Z - 2012-08-07T23:59:59.011900Z | 1.0 Hz, 86400 samples\n",
      "1 Trace(s) in Stream:\n",
      "Z4.CP09..BHZ | 2013-02-15T00:00:00.008400Z - 2013-02-15T23:59:59.008400Z | 1.0 Hz, 86400 samples\n"
     ]
    },
    {
     "name": "stderr",
     "output_type": "stream",
     "text": [
      " 76%|███████▌  | 2862/3775 [02:47<00:55, 16.40it/s]"
     ]
    },
    {
     "name": "stdout",
     "output_type": "stream",
     "text": [
      "1 Trace(s) in Stream:\n",
      "Z4.CP09..BH1 | 2013-01-22T00:00:00.018200Z - 2013-01-22T23:59:59.018200Z | 1.0 Hz, 86400 samples\n",
      "1 Trace(s) in Stream:\n",
      "Z4.CP09..BH2 | 2012-07-01T00:00:00.002000Z - 2012-07-01T23:59:59.002000Z | 1.0 Hz, 86400 samples\n",
      "1 Trace(s) in Stream:\n",
      "Z4.CP09..BHZ | 2012-06-06T00:00:00.012200Z - 2012-06-06T23:59:59.012200Z | 1.0 Hz, 86400 samples\n",
      "1 Trace(s) in Stream:\n",
      "Z4.CP09..BH2 | 2013-01-24T00:00:00.017400Z - 2013-01-24T23:59:59.017400Z | 1.0 Hz, 86400 samples\n"
     ]
    },
    {
     "name": "stderr",
     "output_type": "stream",
     "text": [
      " 76%|███████▌  | 2867/3775 [02:47<00:52, 17.36it/s]"
     ]
    },
    {
     "name": "stdout",
     "output_type": "stream",
     "text": [
      "1 Trace(s) in Stream:\n",
      "Z4.CP09..BHZ | 2012-05-14T00:00:00.021600Z - 2012-05-14T23:59:59.021600Z | 1.0 Hz, 86400 samples\n",
      "1 Trace(s) in Stream:\n",
      "Z4.CP09..BH2 | 2012-09-25T00:00:00.016800Z - 2012-09-25T23:59:59.016800Z | 1.0 Hz, 86400 samples\n",
      "1 Trace(s) in Stream:\n",
      "Z4.CP09..BHZ | 2012-10-26T00:00:00.004200Z - 2012-10-26T23:59:59.004200Z | 1.0 Hz, 86400 samples\n",
      "1 Trace(s) in Stream:\n",
      "Z4.CP09..BH2 | 2012-12-10T00:00:00.010800Z - 2012-12-10T23:59:59.010800Z | 1.0 Hz, 86400 samples\n"
     ]
    },
    {
     "name": "stderr",
     "output_type": "stream",
     "text": [
      " 76%|███████▌  | 2872/3775 [02:47<00:47, 19.08it/s]"
     ]
    },
    {
     "name": "stdout",
     "output_type": "stream",
     "text": [
      "1 Trace(s) in Stream:\n",
      "Z4.CP09..BH1 | 2012-06-04T00:00:00.013000Z - 2012-06-04T23:59:59.013000Z | 1.0 Hz, 86400 samples\n",
      "1 Trace(s) in Stream:\n",
      "Z4.CP09..BH2 | 2012-06-09T00:00:00.011000Z - 2012-06-09T23:59:59.011000Z | 1.0 Hz, 86400 samples\n",
      "1 Trace(s) in Stream:\n",
      "Z4.CP09..BH1 | 2012-05-09T00:00:00.023600Z - 2012-05-09T23:59:59.023600Z | 1.0 Hz, 86400 samples\n",
      "1 Trace(s) in Stream:\n",
      "Z4.CP09..BH1 | 2012-09-25T00:00:00.016800Z - 2012-09-25T23:59:59.016800Z | 1.0 Hz, 86400 samples\n",
      "1 Trace(s) in Stream:\n",
      "Z4.CP09..BH2 | 2012-06-07T00:00:00.011800Z - 2012-06-07T23:59:59.011800Z | 1.0 Hz, 86400 samples\n"
     ]
    },
    {
     "name": "stderr",
     "output_type": "stream",
     "text": [
      "\r",
      " 76%|███████▌  | 2874/3775 [02:47<00:50, 17.68it/s]"
     ]
    },
    {
     "name": "stdout",
     "output_type": "stream",
     "text": [
      "1 Trace(s) in Stream:\n",
      "Z4.CP09..BH2 | 2012-06-11T00:00:00.010200Z - 2012-06-11T23:59:59.010200Z | 1.0 Hz, 86400 samples\n",
      "1 Trace(s) in Stream:\n",
      "Z4.CP09..BH1 | 2012-11-20T00:00:00.018900Z - 2012-11-20T23:59:59.018900Z | 1.0 Hz, 86400 samples\n",
      "1 Trace(s) in Stream:\n",
      "Z4.CP09..BH2 | 2012-06-12T00:00:00.009700Z - 2012-06-12T23:59:59.009700Z | 1.0 Hz, 86400 samples\n",
      "1 Trace(s) in Stream:\n",
      "Z4.CP09..BHZ | 2012-07-16T00:00:00.020800Z - 2012-07-16T23:59:59.020800Z | 1.0 Hz, 86400 samples\n"
     ]
    },
    {
     "name": "stderr",
     "output_type": "stream",
     "text": [
      " 76%|███████▋  | 2879/3775 [02:48<00:50, 17.80it/s]"
     ]
    },
    {
     "name": "stdout",
     "output_type": "stream",
     "text": [
      "1 Trace(s) in Stream:\n",
      "Z4.CP09..BH2 | 2013-03-04T00:00:00.001400Z - 2013-03-04T23:59:59.001400Z | 1.0 Hz, 86400 samples\n",
      "1 Trace(s) in Stream:\n",
      "Z4.CP09..BH2 | 2013-02-14T00:00:00.008800Z - 2013-02-14T23:59:59.008800Z | 1.0 Hz, 86400 samples\n",
      "1 Trace(s) in Stream:\n",
      "Z4.CP09..BHZ | 2013-01-14T00:00:00.021500Z - 2013-01-14T23:59:59.021500Z | 1.0 Hz, 86400 samples\n",
      "1 Trace(s) in Stream:\n",
      "Z4.CP09..BHZ | 2012-09-24T00:00:00.017200Z - 2012-09-24T23:59:59.017200Z | 1.0 Hz, 86400 samples\n"
     ]
    },
    {
     "name": "stderr",
     "output_type": "stream",
     "text": [
      " 76%|███████▋  | 2883/3775 [02:48<00:50, 17.73it/s]"
     ]
    },
    {
     "name": "stdout",
     "output_type": "stream",
     "text": [
      "1 Trace(s) in Stream:\n",
      "Z4.CP09..BHZ | 2012-07-05T00:00:00.000300Z - 2012-07-05T23:59:59.000300Z | 1.0 Hz, 86400 samples\n",
      "1 Trace(s) in Stream:\n",
      "Z4.CP09..BHZ | 2012-06-28T00:00:00.003200Z - 2012-06-28T23:59:59.003200Z | 1.0 Hz, 86400 samples\n",
      "1 Trace(s) in Stream:\n",
      "Z4.CP09..BH1 | 2012-10-08T00:00:00.011500Z - 2012-10-08T23:59:59.011500Z | 1.0 Hz, 86400 samples\n",
      "1 Trace(s) in Stream:\n",
      "Z4.CP09..BH2 | 2012-10-29T00:00:00.002900Z - 2012-10-29T23:59:59.002900Z | 1.0 Hz, 86400 samples\n"
     ]
    },
    {
     "name": "stderr",
     "output_type": "stream",
     "text": [
      " 77%|███████▋  | 2889/3775 [02:48<00:44, 19.88it/s]"
     ]
    },
    {
     "name": "stdout",
     "output_type": "stream",
     "text": [
      "1 Trace(s) in Stream:\n",
      "Z4.CP09..BHZ | 2012-08-14T00:00:00.009000Z - 2012-08-14T23:59:59.009000Z | 1.0 Hz, 86400 samples\n",
      "1 Trace(s) in Stream:\n",
      "Z4.CP09..BH2 | 2012-10-14T00:00:00.009100Z - 2012-10-14T23:59:59.009100Z | 1.0 Hz, 86400 samples\n",
      "1 Trace(s) in Stream:\n",
      "Z4.CP09..BH2 | 2012-12-23T00:00:00.005500Z - 2012-12-23T23:59:59.005500Z | 1.0 Hz, 86400 samples\n",
      "1 Trace(s) in Stream:\n",
      "Z4.CP09..BH2 | 2012-06-29T00:00:00.002800Z - 2012-06-29T23:59:59.002800Z | 1.0 Hz, 86400 samples\n",
      "1 Trace(s) in Stream:\n",
      "Z4.CP09..BHZ | 2012-10-08T00:00:00.011500Z - 2012-10-08T23:59:59.011500Z | 1.0 Hz, 86400 samples\n",
      "1 Trace(s) in Stream:\n",
      "Z4.CP09..BHZ | 2012-06-17T00:00:00.007700Z - 2012-06-17T23:59:59.007700Z | 1.0 Hz, 86400 samples\n"
     ]
    },
    {
     "name": "stderr",
     "output_type": "stream",
     "text": [
      "\r",
      " 77%|███████▋  | 2892/3775 [02:48<00:43, 20.17it/s]"
     ]
    },
    {
     "name": "stdout",
     "output_type": "stream",
     "text": [
      "1 Trace(s) in Stream:\n",
      "Z4.CP09..BH1 | 2012-08-14T00:00:00.009000Z - 2012-08-14T23:59:59.009000Z | 1.0 Hz, 86400 samples\n",
      "1 Trace(s) in Stream:\n",
      "Z4.CP09..BHZ | 2012-10-02T00:00:00.014000Z - 2012-10-02T23:59:59.014000Z | 1.0 Hz, 86400 samples\n",
      "1 Trace(s) in Stream:\n",
      "Z4.CP09..BH1 | 2013-01-13T00:00:00.021900Z - 2013-01-13T23:59:59.021900Z | 1.0 Hz, 86400 samples\n",
      "1 Trace(s) in Stream:\n",
      "Z4.CP09..BHZ | 2012-11-17T00:00:00.020200Z - 2012-11-17T23:59:59.020200Z | 1.0 Hz, 86400 samples\n"
     ]
    },
    {
     "name": "stderr",
     "output_type": "stream",
     "text": [
      " 77%|███████▋  | 2897/3775 [02:48<00:45, 19.32it/s]"
     ]
    },
    {
     "name": "stdout",
     "output_type": "stream",
     "text": [
      "1 Trace(s) in Stream:\n",
      "Z4.CP09..BHZ | 2012-07-06T00:00:00.024900Z - 2012-07-06T23:59:59.024900Z | 1.0 Hz, 86400 samples\n",
      "1 Trace(s) in Stream:\n",
      "Z4.CP09..BH1 | 2012-07-08T00:00:00.024100Z - 2012-07-08T23:59:59.024100Z | 1.0 Hz, 86400 samples\n",
      "1 Trace(s) in Stream:\n",
      "Z4.CP09..BH1 | 2012-11-23T00:00:00.017700Z - 2012-11-23T23:59:59.017700Z | 1.0 Hz, 86400 samples\n",
      "1 Trace(s) in Stream:\n",
      "Z4.CP09..BH2 | 2013-03-01T00:00:00.002700Z - 2013-03-01T23:59:59.002700Z | 1.0 Hz, 86400 samples\n"
     ]
    },
    {
     "name": "stderr",
     "output_type": "stream",
     "text": [
      " 77%|███████▋  | 2901/3775 [02:49<00:45, 19.32it/s]"
     ]
    },
    {
     "name": "stdout",
     "output_type": "stream",
     "text": [
      "1 Trace(s) in Stream:\n",
      "Z4.CP09..BH2 | 2012-09-15T00:00:00.020900Z - 2012-09-15T23:59:59.020900Z | 1.0 Hz, 86400 samples\n",
      "1 Trace(s) in Stream:\n",
      "Z4.CP09..BHZ | 2012-11-26T00:00:00.016500Z - 2012-11-26T23:59:59.016500Z | 1.0 Hz, 86400 samples\n",
      "1 Trace(s) in Stream:\n",
      "Z4.CP09..BHZ | 2012-05-31T00:00:00.014600Z - 2012-05-31T23:59:59.014600Z | 1.0 Hz, 86400 samples\n",
      "1 Trace(s) in Stream:\n",
      "Z4.CP09..BHZ | 2012-07-28T00:00:00.015900Z - 2012-07-28T23:59:59.015900Z | 1.0 Hz, 86400 samples\n",
      "1 Trace(s) in Stream:\n",
      "Z4.CP09..BH2 | 2012-10-11T00:00:00.010300Z - 2012-10-11T23:59:59.010300Z | 1.0 Hz, 86400 samples\n"
     ]
    },
    {
     "name": "stderr",
     "output_type": "stream",
     "text": [
      " 77%|███████▋  | 2906/3775 [02:49<00:44, 19.38it/s]"
     ]
    },
    {
     "name": "stdout",
     "output_type": "stream",
     "text": [
      "1 Trace(s) in Stream:\n",
      "Z4.CP09..BH2 | 2013-02-21T00:00:00.005900Z - 2013-02-21T23:59:59.005900Z | 1.0 Hz, 86400 samples\n",
      "1 Trace(s) in Stream:\n",
      "Z4.CP09..BH2 | 2012-11-01T00:00:00.001700Z - 2012-11-01T23:59:59.001700Z | 1.0 Hz, 86400 samples\n",
      "1 Trace(s) in Stream:\n",
      "Z4.CP09..BH2 | 2012-09-14T00:00:00.021300Z - 2012-09-14T23:59:59.021300Z | 1.0 Hz, 86400 samples\n",
      "1 Trace(s) in Stream:\n",
      "Z4.CP09..BHZ | 2012-10-19T00:00:00.007000Z - 2012-10-19T23:59:59.007000Z | 1.0 Hz, 86400 samples\n",
      "1 Trace(s) in Stream:\n",
      "Z4.CP09..BH1 | 2012-09-21T00:00:00.018500Z - 2012-09-21T23:59:59.018500Z | 1.0 Hz, 86400 samples\n"
     ]
    },
    {
     "name": "stderr",
     "output_type": "stream",
     "text": [
      " 77%|███████▋  | 2912/3775 [02:49<00:42, 20.35it/s]"
     ]
    },
    {
     "name": "stdout",
     "output_type": "stream",
     "text": [
      "1 Trace(s) in Stream:\n",
      "Z4.CP09..BH2 | 2012-07-03T00:00:00.001200Z - 2012-07-03T23:59:59.001200Z | 1.0 Hz, 86400 samples\n",
      "1 Trace(s) in Stream:\n",
      "Z4.CP09..BH1 | 2012-09-26T00:00:00.016400Z - 2012-09-26T23:59:59.016400Z | 1.0 Hz, 86400 samples\n",
      "1 Trace(s) in Stream:\n",
      "Z4.CP09..BHZ | 2013-01-21T00:00:00.018600Z - 2013-01-21T23:59:59.018600Z | 1.0 Hz, 86400 samples\n",
      "1 Trace(s) in Stream:\n",
      "Z4.CP09..BH1 | 2012-11-26T00:00:00.016500Z - 2012-11-26T23:59:59.016500Z | 1.0 Hz, 86400 samples\n"
     ]
    },
    {
     "name": "stderr",
     "output_type": "stream",
     "text": [
      " 77%|███████▋  | 2917/3775 [02:49<00:44, 19.07it/s]"
     ]
    },
    {
     "name": "stdout",
     "output_type": "stream",
     "text": [
      "1 Trace(s) in Stream:\n",
      "Z4.CP09..BHZ | 2012-10-06T00:00:00.012300Z - 2012-10-06T23:59:59.012300Z | 1.0 Hz, 86400 samples\n",
      "1 Trace(s) in Stream:\n",
      "Z4.CP09..BH2 | 2013-01-01T00:00:00.001800Z - 2013-01-01T23:59:59.001800Z | 1.0 Hz, 86400 samples\n",
      "1 Trace(s) in Stream:\n",
      "Z4.CP09..BH1 | 2012-12-12T00:00:00.010000Z - 2012-12-12T23:59:59.010000Z | 1.0 Hz, 86400 samples\n",
      "1 Trace(s) in Stream:\n",
      "Z4.CP09..BHZ | 2012-06-29T00:00:00.002800Z - 2012-06-29T23:59:59.002800Z | 1.0 Hz, 86400 samples\n",
      "1 Trace(s) in Stream:\n",
      "Z4.CP09..BH1 | 2012-09-01T00:00:00.001600Z - 2012-09-01T23:59:59.001600Z | 1.0 Hz, 86400 samples\n",
      "1 Trace(s) in Stream:\n",
      "Z4.CP09..BH1 | 2012-05-15T00:00:00.021200Z - 2012-05-15T23:59:59.021200Z | 1.0 Hz, 86400 samples\n"
     ]
    },
    {
     "name": "stderr",
     "output_type": "stream",
     "text": [
      " 77%|███████▋  | 2921/3775 [02:50<00:45, 18.74it/s]"
     ]
    },
    {
     "name": "stdout",
     "output_type": "stream",
     "text": [
      "1 Trace(s) in Stream:\n",
      "Z4.CP09..BH1 | 2012-06-29T00:00:00.002800Z - 2012-06-29T23:59:59.002800Z | 1.0 Hz, 86400 samples\n",
      "1 Trace(s) in Stream:\n",
      "Z4.CP09..BHZ | 2012-08-12T00:00:00.009800Z - 2012-08-12T23:59:59.009800Z | 1.0 Hz, 86400 samples\n",
      "1 Trace(s) in Stream:\n",
      "Z4.CP09..BHZ | 2012-12-22T00:00:00.005900Z - 2012-12-22T23:59:59.005900Z | 1.0 Hz, 86400 samples\n",
      "1 Trace(s) in Stream:\n",
      "Z4.CP09..BHZ | 2013-02-12T00:00:00.009600Z - 2013-02-12T23:59:59.009600Z | 1.0 Hz, 86400 samples\n"
     ]
    },
    {
     "name": "stderr",
     "output_type": "stream",
     "text": [
      " 77%|███████▋  | 2925/3775 [02:50<00:45, 18.78it/s]"
     ]
    },
    {
     "name": "stdout",
     "output_type": "stream",
     "text": [
      "1 Trace(s) in Stream:\n",
      "Z4.CP09..BHZ | 2013-01-13T00:00:00.021900Z - 2013-01-13T23:59:59.021900Z | 1.0 Hz, 86400 samples\n",
      "1 Trace(s) in Stream:\n",
      "Z4.CP09..BH2 | 2013-02-17T00:00:00.007600Z - 2013-02-17T23:59:59.007600Z | 1.0 Hz, 86400 samples\n",
      "1 Trace(s) in Stream:\n",
      "Z4.CP09..BH1 | 2012-09-10T00:00:00.023000Z - 2012-09-10T23:59:59.023000Z | 1.0 Hz, 86400 samples\n",
      "1 Trace(s) in Stream:\n",
      "Z4.CP09..BHZ | 2013-01-09T00:00:00.023500Z - 2013-01-09T23:59:59.023500Z | 1.0 Hz, 86400 samples\n",
      "1 Trace(s) in Stream:\n",
      "Z4.CP09..BH1 | 2012-10-01T00:00:00.014400Z - 2012-10-01T23:59:59.014400Z | 1.0 Hz, 86400 samples\n"
     ]
    },
    {
     "name": "stderr",
     "output_type": "stream",
     "text": [
      " 78%|███████▊  | 2930/3775 [02:50<00:44, 19.04it/s]"
     ]
    },
    {
     "name": "stdout",
     "output_type": "stream",
     "text": [
      "1 Trace(s) in Stream:\n",
      "Z4.CP09..BH1 | 2013-03-06T00:00:00.000600Z - 2013-03-06T23:59:59.000600Z | 1.0 Hz, 86400 samples\n",
      "1 Trace(s) in Stream:\n",
      "Z4.CP09..BH2 | 2012-06-24T00:00:00.004800Z - 2012-06-24T23:59:59.004800Z | 1.0 Hz, 86400 samples\n",
      "1 Trace(s) in Stream:\n",
      "Z4.CP09..BHZ | 2012-09-26T00:00:00.016400Z - 2012-09-26T23:59:59.016400Z | 1.0 Hz, 86400 samples\n",
      "1 Trace(s) in Stream:\n",
      "Z4.CP09..BH1 | 2013-03-12T00:00:00.023200Z - 2013-03-12T23:59:59.023200Z | 1.0 Hz, 86400 samples\n"
     ]
    },
    {
     "name": "stderr",
     "output_type": "stream",
     "text": [
      " 78%|███████▊  | 2935/3775 [02:50<00:45, 18.49it/s]"
     ]
    },
    {
     "name": "stdout",
     "output_type": "stream",
     "text": [
      "1 Trace(s) in Stream:\n",
      "Z4.CP09..BH2 | 2012-05-26T00:00:00.016700Z - 2012-05-26T23:59:59.016700Z | 1.0 Hz, 86400 samples\n",
      "1 Trace(s) in Stream:\n",
      "Z4.CP09..BH2 | 2012-12-27T00:00:00.003800Z - 2012-12-27T23:59:59.003800Z | 1.0 Hz, 86400 samples\n",
      "1 Trace(s) in Stream:\n",
      "Z4.CP09..BH2 | 2012-09-11T00:00:00.022600Z - 2012-09-11T23:59:59.022600Z | 1.0 Hz, 86400 samples\n",
      "1 Trace(s) in Stream:\n",
      "Z4.CP09..BH2 | 2012-12-17T00:00:00.007900Z - 2012-12-17T23:59:59.007900Z | 1.0 Hz, 86400 samples\n"
     ]
    },
    {
     "name": "stderr",
     "output_type": "stream",
     "text": [
      "\r",
      " 78%|███████▊  | 2937/3775 [02:51<00:45, 18.40it/s]"
     ]
    },
    {
     "name": "stdout",
     "output_type": "stream",
     "text": [
      "1 Trace(s) in Stream:\n",
      "Z4.CP09..BH2 | 2012-09-16T00:00:00.020500Z - 2012-09-16T23:59:59.020500Z | 1.0 Hz, 86400 samples\n",
      "1 Trace(s) in Stream:\n",
      "Z4.CP09..BH1 | 2012-07-03T00:00:00.001200Z - 2012-07-03T23:59:59.001200Z | 1.0 Hz, 86400 samples\n",
      "1 Trace(s) in Stream:\n",
      "Z4.CP09..BH2 | 2012-06-10T00:00:00.010600Z - 2012-06-10T23:59:59.010600Z | 1.0 Hz, 86400 samples\n",
      "1 Trace(s) in Stream:\n",
      "Z4.CP09..BHZ | 2012-06-20T00:00:00.006500Z - 2012-06-20T23:59:59.006500Z | 1.0 Hz, 86400 samples\n"
     ]
    },
    {
     "name": "stderr",
     "output_type": "stream",
     "text": [
      " 78%|███████▊  | 2943/3775 [02:51<00:42, 19.64it/s]"
     ]
    },
    {
     "name": "stdout",
     "output_type": "stream",
     "text": [
      "1 Trace(s) in Stream:\n",
      "Z4.CP09..BHZ | 2012-10-21T00:00:00.006200Z - 2012-10-21T23:59:59.006200Z | 1.0 Hz, 86400 samples\n",
      "1 Trace(s) in Stream:\n",
      "Z4.CP09..BH2 | 2012-07-09T00:00:00.023700Z - 2012-07-09T23:59:59.023700Z | 1.0 Hz, 86400 samples\n",
      "1 Trace(s) in Stream:\n",
      "Z4.CP09..BH2 | 2012-08-12T00:00:00.009800Z - 2012-08-12T23:59:59.009800Z | 1.0 Hz, 86400 samples\n",
      "1 Trace(s) in Stream:\n",
      "Z4.CP09..BHZ | 2012-08-29T00:00:00.002900Z - 2012-08-29T23:59:59.002900Z | 1.0 Hz, 86400 samples\n",
      "1 Trace(s) in Stream:\n",
      "Z4.CP09..BH2 | 2013-02-06T00:00:00.012100Z - 2013-02-06T23:59:59.012100Z | 1.0 Hz, 86400 samples\n"
     ]
    },
    {
     "name": "stderr",
     "output_type": "stream",
     "text": [
      " 78%|███████▊  | 2947/3775 [02:51<00:45, 18.31it/s]"
     ]
    },
    {
     "name": "stdout",
     "output_type": "stream",
     "text": [
      "1 Trace(s) in Stream:\n",
      "Z4.CP09..BH1 | 2013-01-30T00:00:00.014900Z - 2013-01-30T23:59:59.014900Z | 1.0 Hz, 86400 samples\n",
      "1 Trace(s) in Stream:\n",
      "Z4.CP09..BH2 | 2012-11-25T00:00:00.016900Z - 2012-11-25T23:59:59.016900Z | 1.0 Hz, 86400 samples\n",
      "1 Trace(s) in Stream:\n",
      "Z4.CP09..BH2 | 2012-08-19T00:00:00.007000Z - 2012-08-19T23:59:59.007000Z | 1.0 Hz, 86400 samples\n",
      "1 Trace(s) in Stream:\n",
      "Z4.CP09..BH1 | 2012-11-12T00:00:00.022200Z - 2012-11-12T23:59:59.022200Z | 1.0 Hz, 86400 samples\n",
      "1 Trace(s) in Stream:\n",
      "Z4.CP09..BH1 | 2013-03-13T00:00:00.022800Z - 2013-03-13T23:59:59.022800Z | 1.0 Hz, 86400 samples\n"
     ]
    },
    {
     "name": "stderr",
     "output_type": "stream",
     "text": [
      " 78%|███████▊  | 2952/3775 [02:51<00:45, 18.25it/s]"
     ]
    },
    {
     "name": "stdout",
     "output_type": "stream",
     "text": [
      "1 Trace(s) in Stream:\n",
      "Z4.CP09..BH1 | 2012-10-29T00:00:00.002900Z - 2012-10-29T23:59:59.002900Z | 1.0 Hz, 86400 samples\n",
      "1 Trace(s) in Stream:\n",
      "Z4.CP09..BH2 | 2013-01-23T00:00:00.017800Z - 2013-01-23T23:59:59.017800Z | 1.0 Hz, 86400 samples\n",
      "1 Trace(s) in Stream:\n",
      "Z4.CP09..BH2 | 2012-05-11T00:00:00.022800Z - 2012-05-11T23:59:59.022800Z | 1.0 Hz, 86400 samples\n",
      "1 Trace(s) in Stream:\n",
      "Z4.CP09..BHZ | 2012-06-16T00:00:00.008100Z - 2012-06-16T23:59:59.008100Z | 1.0 Hz, 86400 samples\n"
     ]
    },
    {
     "name": "stderr",
     "output_type": "stream",
     "text": [
      " 78%|███████▊  | 2956/3775 [02:52<00:43, 18.76it/s]"
     ]
    },
    {
     "name": "stdout",
     "output_type": "stream",
     "text": [
      "1 Trace(s) in Stream:\n",
      "Z4.CP09..BH1 | 2013-02-03T00:00:00.013300Z - 2013-02-03T23:59:59.013300Z | 1.0 Hz, 86400 samples\n",
      "1 Trace(s) in Stream:\n",
      "Z4.CP09..BH1 | 2013-01-16T00:00:00.020600Z - 2013-01-16T23:59:59.020600Z | 1.0 Hz, 86400 samples\n",
      "1 Trace(s) in Stream:\n",
      "Z4.CP09..BH2 | 2013-01-07T00:00:00.024300Z - 2013-01-07T23:59:59.024300Z | 1.0 Hz, 86400 samples\n",
      "1 Trace(s) in Stream:\n",
      "Z4.CP09..BH2 | 2012-12-24T00:00:00.005000Z - 2012-12-24T23:59:59.005000Z | 1.0 Hz, 86400 samples\n"
     ]
    },
    {
     "name": "stderr",
     "output_type": "stream",
     "text": [
      " 78%|███████▊  | 2960/3775 [02:52<00:43, 18.64it/s]"
     ]
    },
    {
     "name": "stdout",
     "output_type": "stream",
     "text": [
      "1 Trace(s) in Stream:\n",
      "Z4.CP09..BHZ | 2012-12-08T00:00:00.011600Z - 2012-12-08T23:59:59.011600Z | 1.0 Hz, 86400 samples\n",
      "1 Trace(s) in Stream:\n",
      "Z4.CP09..BH2 | 2012-08-13T00:00:00.009400Z - 2012-08-13T23:59:59.009400Z | 1.0 Hz, 86400 samples\n",
      "1 Trace(s) in Stream:\n",
      "Z4.CP09..BH2 | 2012-10-26T00:00:00.004200Z - 2012-10-26T23:59:59.004200Z | 1.0 Hz, 86400 samples\n",
      "1 Trace(s) in Stream:\n",
      "Z4.CP09..BHZ | 2012-11-13T00:00:00.021800Z - 2012-11-13T23:59:59.021800Z | 1.0 Hz, 86400 samples\n"
     ]
    },
    {
     "name": "stderr",
     "output_type": "stream",
     "text": [
      " 79%|███████▊  | 2965/3775 [02:52<00:40, 20.13it/s]"
     ]
    },
    {
     "name": "stdout",
     "output_type": "stream",
     "text": [
      "1 Trace(s) in Stream:\n",
      "Z4.CP09..BH2 | 2012-06-14T00:00:00.008900Z - 2012-06-14T23:59:59.008900Z | 1.0 Hz, 86400 samples\n",
      "1 Trace(s) in Stream:\n",
      "Z4.CP09..BH1 | 2012-05-29T00:00:00.015500Z - 2012-05-29T23:59:59.015500Z | 1.0 Hz, 86400 samples\n",
      "1 Trace(s) in Stream:\n",
      "Z4.CP09..BHZ | 2013-01-24T00:00:00.017400Z - 2013-01-24T23:59:59.017400Z | 1.0 Hz, 86400 samples\n",
      "1 Trace(s) in Stream:\n",
      "Z4.CP09..BH1 | 2012-07-26T00:00:00.016800Z - 2012-07-26T23:59:59.016800Z | 1.0 Hz, 86400 samples\n",
      "1 Trace(s) in Stream:\n",
      "Z4.CP09..BH1 | 2013-01-20T00:00:00.019000Z - 2013-01-20T23:59:59.019000Z | 1.0 Hz, 86400 samples\n",
      "1 Trace(s) in Stream:\n",
      "Z4.CP09..BH1 | 2013-02-26T00:00:00.003900Z - 2013-02-26T23:59:59.003900Z | 1.0 Hz, 86400 samples\n"
     ]
    },
    {
     "name": "stderr",
     "output_type": "stream",
     "text": [
      " 79%|███████▊  | 2969/3775 [02:52<00:45, 17.63it/s]"
     ]
    },
    {
     "name": "stdout",
     "output_type": "stream",
     "text": [
      "1 Trace(s) in Stream:\n",
      "Z4.CP09..BH2 | 2012-05-13T00:00:00.022000Z - 2012-05-13T23:59:59.022000Z | 1.0 Hz, 86400 samples\n",
      "1 Trace(s) in Stream:\n",
      "Z4.CP09..BHZ | 2012-05-15T00:00:00.021200Z - 2012-05-15T23:59:59.021200Z | 1.0 Hz, 86400 samples\n",
      "1 Trace(s) in Stream:\n",
      "Z4.CP09..BH2 | 2012-07-27T00:00:00.016400Z - 2012-07-27T23:59:59.016400Z | 1.0 Hz, 86400 samples\n",
      "1 Trace(s) in Stream:\n",
      "Z4.CP09..BH2 | 2013-01-14T00:00:00.021500Z - 2013-01-14T23:59:59.021500Z | 1.0 Hz, 86400 samples\n",
      "1 Trace(s) in Stream:\n",
      "Z4.CP09..BHZ | 2012-12-06T00:00:00.012400Z - 2012-12-06T23:59:59.012400Z | 1.0 Hz, 86400 samples\n"
     ]
    },
    {
     "name": "stderr",
     "output_type": "stream",
     "text": [
      " 79%|███████▉  | 2975/3775 [02:53<00:40, 19.52it/s]"
     ]
    },
    {
     "name": "stdout",
     "output_type": "stream",
     "text": [
      "1 Trace(s) in Stream:\n",
      "Z4.CP09..BH2 | 2012-11-09T00:00:00.023400Z - 2012-11-09T23:59:59.023400Z | 1.0 Hz, 86400 samples\n",
      "1 Trace(s) in Stream:\n",
      "Z4.CP09..BHZ | 2012-07-15T00:00:00.021300Z - 2012-07-15T23:59:59.021300Z | 1.0 Hz, 86400 samples\n",
      "1 Trace(s) in Stream:\n",
      "Z4.CP09..BHZ | 2013-01-31T00:00:00.014500Z - 2013-01-31T23:59:59.014500Z | 1.0 Hz, 86400 samples\n",
      "1 Trace(s) in Stream:\n",
      "Z4.CP09..BH2 | 2013-03-06T00:00:00.000600Z - 2013-03-06T23:59:59.000600Z | 1.0 Hz, 86400 samples\n"
     ]
    },
    {
     "name": "stderr",
     "output_type": "stream",
     "text": [
      " 79%|███████▉  | 2979/3775 [02:53<00:42, 18.81it/s]"
     ]
    },
    {
     "name": "stdout",
     "output_type": "stream",
     "text": [
      "1 Trace(s) in Stream:\n",
      "Z4.CP09..BH1 | 2013-02-20T00:00:00.006300Z - 2013-02-20T23:59:59.006300Z | 1.0 Hz, 86400 samples\n",
      "1 Trace(s) in Stream:\n",
      "Z4.CP09..BH1 | 2012-09-22T00:00:00.018100Z - 2012-09-22T23:59:59.018100Z | 1.0 Hz, 86400 samples\n",
      "1 Trace(s) in Stream:\n",
      "Z4.CP09..BH1 | 2012-10-26T00:00:00.004200Z - 2012-10-26T23:59:59.004200Z | 1.0 Hz, 86400 samples\n",
      "1 Trace(s) in Stream:\n",
      "Z4.CP09..BHZ | 2013-03-04T00:00:00.001400Z - 2013-03-04T23:59:59.001400Z | 1.0 Hz, 86400 samples\n"
     ]
    },
    {
     "name": "stderr",
     "output_type": "stream",
     "text": [
      " 79%|███████▉  | 2984/3775 [02:53<00:40, 19.41it/s]"
     ]
    },
    {
     "name": "stdout",
     "output_type": "stream",
     "text": [
      "1 Trace(s) in Stream:\n",
      "Z4.CP09..BH1 | 2013-02-08T00:00:00.011200Z - 2013-02-08T23:59:59.011200Z | 1.0 Hz, 86400 samples\n",
      "1 Trace(s) in Stream:\n",
      "Z4.CP09..BH1 | 2012-05-10T00:00:00.023200Z - 2012-05-10T23:59:59.023200Z | 1.0 Hz, 86400 samples\n",
      "1 Trace(s) in Stream:\n",
      "Z4.CP09..BH2 | 2012-12-05T00:00:00.012800Z - 2012-12-05T23:59:59.012800Z | 1.0 Hz, 86400 samples\n",
      "1 Trace(s) in Stream:\n",
      "Z4.CP09..BHZ | 2012-10-18T00:00:00.007400Z - 2012-10-18T23:59:59.007400Z | 1.0 Hz, 86400 samples\n",
      "1 Trace(s) in Stream:\n",
      "Z4.CP09..BHZ | 2013-01-08T00:00:00.023900Z - 2013-01-08T23:59:59.023900Z | 1.0 Hz, 86400 samples\n"
     ]
    },
    {
     "name": "stderr",
     "output_type": "stream",
     "text": [
      " 79%|███████▉  | 2990/3775 [02:53<00:43, 17.91it/s]"
     ]
    },
    {
     "name": "stdout",
     "output_type": "stream",
     "text": [
      "1 Trace(s) in Stream:\n",
      "Z4.CP09..BHZ | 2012-10-15T00:00:00.008700Z - 2012-10-15T23:59:59.008700Z | 1.0 Hz, 86400 samples\n",
      "1 Trace(s) in Stream:\n",
      "Z4.CP09..BH2 | 2012-09-07T00:00:00.024200Z - 2012-09-07T23:59:59.024200Z | 1.0 Hz, 86400 samples\n",
      "1 Trace(s) in Stream:\n",
      "Z4.CP09..BH2 | 2012-11-12T00:00:00.022200Z - 2012-11-12T23:59:59.022200Z | 1.0 Hz, 86400 samples\n",
      "1 Trace(s) in Stream:\n",
      "Z4.CP09..BH1 | 2013-01-11T00:00:00.022700Z - 2013-01-11T23:59:59.022700Z | 1.0 Hz, 86400 samples\n",
      "1 Trace(s) in Stream:\n",
      "Z4.CP09..BH1 | 2013-01-18T00:00:00.019800Z - 2013-01-18T23:59:59.019800Z | 1.0 Hz, 86400 samples\n"
     ]
    },
    {
     "name": "stderr",
     "output_type": "stream",
     "text": [
      " 79%|███████▉  | 2994/3775 [02:54<00:43, 18.03it/s]"
     ]
    },
    {
     "name": "stdout",
     "output_type": "stream",
     "text": [
      "1 Trace(s) in Stream:\n",
      "Z4.CP09..BH1 | 2012-12-03T00:00:00.013600Z - 2012-12-03T23:59:59.013600Z | 1.0 Hz, 86400 samples\n",
      "1 Trace(s) in Stream:\n",
      "Z4.CP09..BHZ | 2012-10-23T00:00:00.005400Z - 2012-10-23T23:59:59.005400Z | 1.0 Hz, 86400 samples\n",
      "1 Trace(s) in Stream:\n",
      "Z4.CP09..BHZ | 2012-10-20T00:00:00.006600Z - 2012-10-20T23:59:59.006600Z | 1.0 Hz, 86400 samples\n",
      "1 Trace(s) in Stream:\n",
      "Z4.CP09..BHZ | 2012-08-25T00:00:00.004500Z - 2012-08-25T23:59:59.004500Z | 1.0 Hz, 86400 samples\n"
     ]
    },
    {
     "name": "stderr",
     "output_type": "stream",
     "text": [
      " 79%|███████▉  | 2998/3775 [02:54<00:44, 17.46it/s]"
     ]
    },
    {
     "name": "stdout",
     "output_type": "stream",
     "text": [
      "1 Trace(s) in Stream:\n",
      "Z4.CP09..BH2 | 2013-03-13T00:00:00.022800Z - 2013-03-13T23:59:59.022800Z | 1.0 Hz, 86400 samples\n",
      "1 Trace(s) in Stream:\n",
      "Z4.CP09..BH2 | 2012-12-02T00:00:00.014000Z - 2012-12-02T23:59:59.014000Z | 1.0 Hz, 86400 samples\n",
      "1 Trace(s) in Stream:\n",
      "Z4.CP09..BH1 | 2013-01-14T00:00:00.021500Z - 2013-01-14T23:59:59.021500Z | 1.0 Hz, 86400 samples\n",
      "1 Trace(s) in Stream:\n",
      "Z4.CP09..BH2 | 2013-01-20T00:00:00.019000Z - 2013-01-20T23:59:59.019000Z | 1.0 Hz, 86400 samples\n",
      "1 Trace(s) in Stream:\n",
      "Z4.CP09..BH1 | 2012-08-17T00:00:00.007800Z - 2012-08-17T23:59:59.007800Z | 1.0 Hz, 86400 samples\n"
     ]
    },
    {
     "name": "stderr",
     "output_type": "stream",
     "text": [
      " 80%|███████▉  | 3003/3775 [02:54<00:43, 17.62it/s]"
     ]
    },
    {
     "name": "stdout",
     "output_type": "stream",
     "text": [
      "1 Trace(s) in Stream:\n",
      "Z4.CP09..BH1 | 2012-06-02T00:00:00.013800Z - 2012-06-02T23:59:59.013800Z | 1.0 Hz, 86400 samples\n",
      "1 Trace(s) in Stream:\n",
      "Z4.CP09..BHZ | 2012-06-03T00:00:00.013400Z - 2012-06-03T23:59:59.013400Z | 1.0 Hz, 86400 samples\n",
      "1 Trace(s) in Stream:\n",
      "Z4.CP09..BHZ | 2012-12-09T00:00:00.011200Z - 2012-12-09T23:59:59.011200Z | 1.0 Hz, 86400 samples\n",
      "1 Trace(s) in Stream:\n",
      "Z4.CP09..BHZ | 2013-02-27T00:00:00.003500Z - 2013-02-27T23:59:59.003500Z | 1.0 Hz, 86400 samples\n",
      "1 Trace(s) in Stream:\n",
      "Z4.CP09..BH2 | 2013-02-09T00:00:00.010800Z - 2013-02-09T23:59:59.010800Z | 1.0 Hz, 86400 samples\n"
     ]
    },
    {
     "name": "stderr",
     "output_type": "stream",
     "text": [
      " 80%|███████▉  | 3007/3775 [02:54<00:42, 17.89it/s]"
     ]
    },
    {
     "name": "stdout",
     "output_type": "stream",
     "text": [
      "1 Trace(s) in Stream:\n",
      "Z4.CP09..BHZ | 2012-06-14T00:00:00.008900Z - 2012-06-14T23:59:59.008900Z | 1.0 Hz, 86400 samples\n",
      "1 Trace(s) in Stream:\n",
      "Z4.CP09..BHZ | 2013-02-19T00:00:00.006800Z - 2013-02-19T23:59:59.006800Z | 1.0 Hz, 86400 samples\n",
      "1 Trace(s) in Stream:\n",
      "Z4.CP09..BH2 | 2012-11-10T00:00:00.023000Z - 2012-11-10T23:59:59.023000Z | 1.0 Hz, 86400 samples\n",
      "1 Trace(s) in Stream:\n",
      "Z4.CP09..BH2 | 2012-05-21T00:00:00.018700Z - 2012-05-21T23:59:59.018700Z | 1.0 Hz, 86400 samples\n"
     ]
    },
    {
     "name": "stderr",
     "output_type": "stream",
     "text": [
      " 80%|███████▉  | 3011/3775 [02:55<00:41, 18.27it/s]"
     ]
    },
    {
     "name": "stdout",
     "output_type": "stream",
     "text": [
      "1 Trace(s) in Stream:\n",
      "Z4.CP09..BHZ | 2012-08-22T00:00:00.005700Z - 2012-08-22T23:59:59.005700Z | 1.0 Hz, 86400 samples\n",
      "1 Trace(s) in Stream:\n",
      "Z4.CP09..BHZ | 2012-09-02T00:00:00.001200Z - 2012-09-02T23:59:59.001200Z | 1.0 Hz, 86400 samples\n",
      "1 Trace(s) in Stream:\n",
      "Z4.CP09..BHZ | 2012-06-10T00:00:00.010600Z - 2012-06-10T23:59:59.010600Z | 1.0 Hz, 86400 samples\n",
      "1 Trace(s) in Stream:\n",
      "Z4.CP09..BH1 | 2012-11-15T00:00:00.021000Z - 2012-11-15T23:59:59.021000Z | 1.0 Hz, 86400 samples\n"
     ]
    },
    {
     "name": "stderr",
     "output_type": "stream",
     "text": [
      " 80%|███████▉  | 3016/3775 [02:55<00:38, 19.47it/s]"
     ]
    },
    {
     "name": "stdout",
     "output_type": "stream",
     "text": [
      "1 Trace(s) in Stream:\n",
      "Z4.CP09..BHZ | 2013-03-05T00:00:00.001000Z - 2013-03-05T23:59:59.001000Z | 1.0 Hz, 86400 samples\n",
      "1 Trace(s) in Stream:\n",
      "Z4.CP09..BH1 | 2012-05-19T00:00:00.019600Z - 2012-05-19T23:59:59.019600Z | 1.0 Hz, 86400 samples\n",
      "1 Trace(s) in Stream:\n",
      "Z4.CP09..BHZ | 2012-11-22T00:00:00.018100Z - 2012-11-22T23:59:59.018100Z | 1.0 Hz, 86400 samples\n",
      "1 Trace(s) in Stream:\n",
      "Z4.CP09..BH2 | 2012-06-28T00:00:00.003200Z - 2012-06-28T23:59:59.003200Z | 1.0 Hz, 86400 samples\n",
      "1 Trace(s) in Stream:\n",
      "Z4.CP09..BHZ | 2012-08-20T00:00:00.006500Z - 2012-08-20T23:59:59.006500Z | 1.0 Hz, 86400 samples\n"
     ]
    },
    {
     "name": "stderr",
     "output_type": "stream",
     "text": [
      " 80%|████████  | 3020/3775 [02:55<00:38, 19.42it/s]"
     ]
    },
    {
     "name": "stdout",
     "output_type": "stream",
     "text": [
      "1 Trace(s) in Stream:\n",
      "Z4.CP09..BH2 | 2013-01-29T00:00:00.015300Z - 2013-01-29T23:59:59.015300Z | 1.0 Hz, 86400 samples\n",
      "1 Trace(s) in Stream:\n",
      "Z4.CP09..BH1 | 2013-02-28T00:00:00.003100Z - 2013-02-28T23:59:59.003100Z | 1.0 Hz, 86400 samples\n",
      "1 Trace(s) in Stream:\n",
      "Z4.CP09..BHZ | 2012-08-31T00:00:00.002000Z - 2012-08-31T23:59:59.002000Z | 1.0 Hz, 86400 samples\n",
      "1 Trace(s) in Stream:\n",
      "Z4.CP09..BH2 | 2013-01-04T00:00:00.000600Z - 2013-01-04T23:59:59.000600Z | 1.0 Hz, 86400 samples\n"
     ]
    },
    {
     "name": "stderr",
     "output_type": "stream",
     "text": [
      " 80%|████████  | 3024/3775 [02:55<00:41, 18.15it/s]"
     ]
    },
    {
     "name": "stdout",
     "output_type": "stream",
     "text": [
      "1 Trace(s) in Stream:\n",
      "Z4.CP09..BH1 | 2012-11-01T00:00:00.001700Z - 2012-11-01T23:59:59.001700Z | 1.0 Hz, 86400 samples\n",
      "1 Trace(s) in Stream:\n",
      "Z4.CP09..BHZ | 2013-03-17T00:00:00.021100Z - 2013-03-17T23:59:59.021100Z | 1.0 Hz, 86400 samples\n",
      "1 Trace(s) in Stream:\n",
      "Z4.CP09..BHZ | 2013-01-19T00:00:00.019400Z - 2013-01-19T23:59:59.019400Z | 1.0 Hz, 86400 samples\n",
      "1 Trace(s) in Stream:\n",
      "Z4.CP09..BH1 | 2012-06-22T00:00:00.005700Z - 2012-06-22T23:59:59.005700Z | 1.0 Hz, 86400 samples\n"
     ]
    },
    {
     "name": "stderr",
     "output_type": "stream",
     "text": [
      " 80%|████████  | 3028/3775 [02:56<00:43, 17.07it/s]"
     ]
    },
    {
     "name": "stdout",
     "output_type": "stream",
     "text": [
      "1 Trace(s) in Stream:\n",
      "Z4.CP09..BH2 | 2012-10-27T00:00:00.003800Z - 2012-10-27T23:59:59.003800Z | 1.0 Hz, 86400 samples\n",
      "1 Trace(s) in Stream:\n",
      "Z4.CP09..BH2 | 2012-07-13T00:00:00.022100Z - 2012-07-13T23:59:59.022100Z | 1.0 Hz, 86400 samples\n",
      "1 Trace(s) in Stream:\n",
      "Z4.CP09..BH1 | 2012-10-23T00:00:00.005400Z - 2012-10-23T23:59:59.005400Z | 1.0 Hz, 86400 samples\n",
      "1 Trace(s) in Stream:\n",
      "Z4.CP09..BH2 | 2012-10-19T00:00:00.007000Z - 2012-10-19T23:59:59.007000Z | 1.0 Hz, 86400 samples\n"
     ]
    },
    {
     "name": "stderr",
     "output_type": "stream",
     "text": [
      " 80%|████████  | 3033/3775 [02:56<00:40, 18.41it/s]"
     ]
    },
    {
     "name": "stdout",
     "output_type": "stream",
     "text": [
      "1 Trace(s) in Stream:\n",
      "Z4.CP09..BH1 | 2012-10-12T00:00:00.009900Z - 2012-10-12T23:59:59.009900Z | 1.0 Hz, 86400 samples\n",
      "1 Trace(s) in Stream:\n",
      "Z4.CP09..BH1 | 2012-07-02T00:00:00.001600Z - 2012-07-02T23:59:59.001600Z | 1.0 Hz, 86400 samples\n",
      "1 Trace(s) in Stream:\n",
      "Z4.CP09..BH1 | 2012-11-11T00:00:00.022600Z - 2012-11-11T23:59:59.022600Z | 1.0 Hz, 86400 samples\n",
      "1 Trace(s) in Stream:\n",
      "Z4.CP09..BH2 | 2013-02-08T00:00:00.011200Z - 2013-02-08T23:59:59.011200Z | 1.0 Hz, 86400 samples\n"
     ]
    },
    {
     "name": "stderr",
     "output_type": "stream",
     "text": [
      " 80%|████████  | 3038/3775 [02:56<00:38, 19.14it/s]"
     ]
    },
    {
     "name": "stdout",
     "output_type": "stream",
     "text": [
      "1 Trace(s) in Stream:\n",
      "Z4.CP09..BHZ | 2012-12-10T00:00:00.010800Z - 2012-12-10T23:59:59.010800Z | 1.0 Hz, 86400 samples\n",
      "1 Trace(s) in Stream:\n",
      "Z4.CP09..BH1 | 2013-01-27T00:00:00.016200Z - 2013-01-27T23:59:59.016200Z | 1.0 Hz, 86400 samples\n",
      "1 Trace(s) in Stream:\n",
      "Z4.CP09..BHZ | 2012-12-21T00:00:00.006300Z - 2012-12-21T23:59:59.006300Z | 1.0 Hz, 86400 samples\n",
      "1 Trace(s) in Stream:\n",
      "Z4.CP09..BH1 | 2012-09-04T00:00:00.000400Z - 2012-09-04T23:59:59.000400Z | 1.0 Hz, 86400 samples\n",
      "1 Trace(s) in Stream:\n",
      "Z4.CP09..BH2 | 2012-05-31T00:00:00.014600Z - 2012-05-31T23:59:59.014600Z | 1.0 Hz, 86400 samples\n"
     ]
    },
    {
     "name": "stderr",
     "output_type": "stream",
     "text": [
      " 81%|████████  | 3042/3775 [02:56<00:40, 18.18it/s]"
     ]
    },
    {
     "name": "stdout",
     "output_type": "stream",
     "text": [
      "1 Trace(s) in Stream:\n",
      "Z4.CP09..BH2 | 2012-11-16T00:00:00.020600Z - 2012-11-16T23:59:59.020600Z | 1.0 Hz, 86400 samples\n",
      "1 Trace(s) in Stream:\n",
      "Z4.CP09..BH2 | 2012-11-03T00:00:00.000900Z - 2012-11-03T23:59:59.000900Z | 1.0 Hz, 86400 samples\n",
      "1 Trace(s) in Stream:\n",
      "Z4.CP09..BH1 | 2012-07-10T00:00:00.023300Z - 2012-07-10T23:59:59.023300Z | 1.0 Hz, 86400 samples\n",
      "1 Trace(s) in Stream:\n",
      "Z4.CP09..BHZ | 2012-09-29T00:00:00.015200Z - 2012-09-29T23:59:59.015200Z | 1.0 Hz, 86400 samples\n"
     ]
    },
    {
     "name": "stderr",
     "output_type": "stream",
     "text": [
      " 81%|████████  | 3046/3775 [02:56<00:40, 18.12it/s]"
     ]
    },
    {
     "name": "stdout",
     "output_type": "stream",
     "text": [
      "1 Trace(s) in Stream:\n",
      "Z4.CP09..BH1 | 2012-07-07T00:00:00.024500Z - 2012-07-07T23:59:59.024500Z | 1.0 Hz, 86400 samples\n",
      "1 Trace(s) in Stream:\n",
      "Z4.CP09..BH2 | 2012-08-25T00:00:00.004500Z - 2012-08-25T23:59:59.004500Z | 1.0 Hz, 86400 samples\n",
      "1 Trace(s) in Stream:\n",
      "Z4.CP09..BH1 | 2012-06-13T00:00:00.009300Z - 2012-06-13T23:59:59.009300Z | 1.0 Hz, 86400 samples\n",
      "1 Trace(s) in Stream:\n",
      "Z4.CP09..BHZ | 2012-12-18T00:00:00.007500Z - 2012-12-18T23:59:59.007500Z | 1.0 Hz, 86400 samples\n"
     ]
    },
    {
     "name": "stderr",
     "output_type": "stream",
     "text": [
      " 81%|████████  | 3050/3775 [02:57<00:38, 18.84it/s]"
     ]
    },
    {
     "name": "stdout",
     "output_type": "stream",
     "text": [
      "1 Trace(s) in Stream:\n",
      "Z4.CP09..BH1 | 2012-09-11T00:00:00.022600Z - 2012-09-11T23:59:59.022600Z | 1.0 Hz, 86400 samples\n",
      "1 Trace(s) in Stream:\n",
      "Z4.CP09..BH2 | 2012-05-16T00:00:00.020800Z - 2012-05-16T23:59:59.020800Z | 1.0 Hz, 86400 samples\n",
      "1 Trace(s) in Stream:\n",
      "Z4.CP09..BH2 | 2013-01-30T00:00:00.014900Z - 2013-01-30T23:59:59.014900Z | 1.0 Hz, 86400 samples\n",
      "1 Trace(s) in Stream:\n",
      "Z4.CP09..BHZ | 2012-11-15T00:00:00.021000Z - 2012-11-15T23:59:59.021000Z | 1.0 Hz, 86400 samples\n"
     ]
    },
    {
     "name": "stderr",
     "output_type": "stream",
     "text": [
      " 81%|████████  | 3054/3775 [02:57<00:39, 18.24it/s]"
     ]
    },
    {
     "name": "stdout",
     "output_type": "stream",
     "text": [
      "1 Trace(s) in Stream:\n",
      "Z4.CP09..BH2 | 2012-09-02T00:00:00.001200Z - 2012-09-02T23:59:59.001200Z | 1.0 Hz, 86400 samples\n",
      "1 Trace(s) in Stream:\n",
      "Z4.CP09..BHZ | 2012-06-12T00:00:00.009700Z - 2012-06-12T23:59:59.009700Z | 1.0 Hz, 86400 samples\n",
      "1 Trace(s) in Stream:\n",
      "Z4.CP09..BHZ | 2012-08-09T00:00:00.011000Z - 2012-08-09T23:59:59.011000Z | 1.0 Hz, 86400 samples\n",
      "1 Trace(s) in Stream:\n",
      "Z4.CP09..BHZ | 2012-08-13T00:00:00.009400Z - 2012-08-13T23:59:59.009400Z | 1.0 Hz, 86400 samples\n",
      "1 Trace(s) in Stream:\n",
      "Z4.CP09..BH2 | 2012-07-05T00:00:00.000300Z - 2012-07-05T23:59:59.000300Z | 1.0 Hz, 86400 samples\n"
     ]
    },
    {
     "name": "stderr",
     "output_type": "stream",
     "text": [
      " 81%|████████  | 3058/3775 [02:57<00:41, 17.30it/s]"
     ]
    },
    {
     "name": "stdout",
     "output_type": "stream",
     "text": [
      "1 Trace(s) in Stream:\n",
      "Z4.CP09..BH1 | 2012-08-16T00:00:00.008200Z - 2012-08-16T23:59:59.008200Z | 1.0 Hz, 86400 samples\n",
      "1 Trace(s) in Stream:\n",
      "Z4.CP09..BH2 | 2012-11-18T00:00:00.019800Z - 2012-11-18T23:59:59.019800Z | 1.0 Hz, 86400 samples\n",
      "1 Trace(s) in Stream:\n",
      "Z4.CP09..BHZ | 2013-01-12T00:00:00.022300Z - 2013-01-12T23:59:59.022300Z | 1.0 Hz, 86400 samples\n",
      "1 Trace(s) in Stream:\n",
      "Z4.CP09..BH1 | 2013-03-01T00:00:00.002700Z - 2013-03-01T23:59:59.002700Z | 1.0 Hz, 86400 samples\n"
     ]
    },
    {
     "name": "stderr",
     "output_type": "stream",
     "text": [
      " 81%|████████  | 3062/3775 [02:57<00:41, 16.99it/s]"
     ]
    },
    {
     "name": "stdout",
     "output_type": "stream",
     "text": [
      "1 Trace(s) in Stream:\n",
      "Z4.CP09..BH2 | 2013-01-16T00:00:00.020600Z - 2013-01-16T23:59:59.020600Z | 1.0 Hz, 86400 samples\n",
      "1 Trace(s) in Stream:\n",
      "Z4.CP09..BH2 | 2012-08-05T00:00:00.012700Z - 2012-08-05T23:59:59.012700Z | 1.0 Hz, 86400 samples\n",
      "1 Trace(s) in Stream:\n",
      "Z4.CP09..BHZ | 2012-09-25T00:00:00.016800Z - 2012-09-25T23:59:59.016800Z | 1.0 Hz, 86400 samples\n",
      "1 Trace(s) in Stream:\n",
      "Z4.CP09..BH2 | 2012-10-21T00:00:00.006200Z - 2012-10-21T23:59:59.006200Z | 1.0 Hz, 86400 samples\n"
     ]
    },
    {
     "name": "stderr",
     "output_type": "stream",
     "text": [
      " 81%|████████  | 3066/3775 [02:58<00:39, 17.98it/s]"
     ]
    },
    {
     "name": "stdout",
     "output_type": "stream",
     "text": [
      "1 Trace(s) in Stream:\n",
      "Z4.CP09..BH2 | 2012-08-14T00:00:00.009000Z - 2012-08-14T23:59:59.009000Z | 1.0 Hz, 86400 samples\n",
      "1 Trace(s) in Stream:\n",
      "Z4.CP09..BHZ | 2013-02-21T00:00:00.005900Z - 2013-02-21T23:59:59.005900Z | 1.0 Hz, 86400 samples\n",
      "1 Trace(s) in Stream:\n",
      "Z4.CP09..BH2 | 2013-01-26T00:00:00.016600Z - 2013-01-26T23:59:59.016600Z | 1.0 Hz, 86400 samples\n",
      "1 Trace(s) in Stream:\n",
      "Z4.CP09..BH2 | 2013-03-09T00:00:00.024400Z - 2013-03-09T23:59:59.024400Z | 1.0 Hz, 86400 samples\n"
     ]
    },
    {
     "name": "stderr",
     "output_type": "stream",
     "text": [
      " 81%|████████▏ | 3070/3775 [02:58<00:40, 17.59it/s]"
     ]
    },
    {
     "name": "stdout",
     "output_type": "stream",
     "text": [
      "1 Trace(s) in Stream:\n",
      "Z4.CP09..BHZ | 2012-10-22T00:00:00.005800Z - 2012-10-22T23:59:59.005800Z | 1.0 Hz, 86400 samples\n",
      "1 Trace(s) in Stream:\n",
      "Z4.CP09..BHZ | 2012-06-15T00:00:00.008500Z - 2012-06-15T23:59:59.008500Z | 1.0 Hz, 86400 samples\n",
      "1 Trace(s) in Stream:\n",
      "Z4.CP09..BH1 | 2012-07-30T00:00:00.015100Z - 2012-07-30T23:59:59.015100Z | 1.0 Hz, 86400 samples\n",
      "1 Trace(s) in Stream:\n",
      "Z4.CP09..BH2 | 2013-01-12T00:00:00.022300Z - 2013-01-12T23:59:59.022300Z | 1.0 Hz, 86400 samples\n"
     ]
    },
    {
     "name": "stderr",
     "output_type": "stream",
     "text": [
      " 81%|████████▏ | 3074/3775 [02:58<00:39, 17.87it/s]"
     ]
    },
    {
     "name": "stdout",
     "output_type": "stream",
     "text": [
      "1 Trace(s) in Stream:\n",
      "Z4.CP09..BH1 | 2013-01-12T00:00:00.022300Z - 2013-01-12T23:59:59.022300Z | 1.0 Hz, 86400 samples\n",
      "1 Trace(s) in Stream:\n",
      "Z4.CP09..BH2 | 2012-05-18T00:00:00.020000Z - 2012-05-18T23:59:59.020000Z | 1.0 Hz, 86400 samples\n",
      "1 Trace(s) in Stream:\n",
      "Z4.CP09..BH2 | 2012-11-23T00:00:00.017700Z - 2012-11-23T23:59:59.017700Z | 1.0 Hz, 86400 samples\n",
      "1 Trace(s) in Stream:\n",
      "Z4.CP09..BH1 | 2013-02-23T00:00:00.005100Z - 2013-02-23T23:59:59.005100Z | 1.0 Hz, 86400 samples\n"
     ]
    },
    {
     "name": "stderr",
     "output_type": "stream",
     "text": [
      " 82%|████████▏ | 3081/3775 [02:58<00:34, 20.07it/s]"
     ]
    },
    {
     "name": "stdout",
     "output_type": "stream",
     "text": [
      "1 Trace(s) in Stream:\n",
      "Z4.CP09..BH2 | 2012-05-10T00:00:00.023200Z - 2012-05-10T23:59:59.023200Z | 1.0 Hz, 86400 samples\n",
      "1 Trace(s) in Stream:\n",
      "Z4.CP09..BH2 | 2012-12-06T00:00:00.012400Z - 2012-12-06T23:59:59.012400Z | 1.0 Hz, 86400 samples\n",
      "1 Trace(s) in Stream:\n",
      "Z4.CP09..BHZ | 2013-03-14T00:00:00.022400Z - 2013-03-14T23:59:59.022400Z | 1.0 Hz, 86400 samples\n",
      "1 Trace(s) in Stream:\n",
      "Z4.CP09..BHZ | 2012-07-08T00:00:00.024100Z - 2012-07-08T23:59:59.024100Z | 1.0 Hz, 86400 samples\n",
      "1 Trace(s) in Stream:\n",
      "Z4.CP09..BHZ | 2012-07-12T00:00:00.022500Z - 2012-07-12T23:59:59.022500Z | 1.0 Hz, 86400 samples\n",
      "1 Trace(s) in Stream:\n",
      "Z4.CP09..BH1 | 2012-11-19T00:00:00.019400Z - 2012-11-19T23:59:59.019400Z | 1.0 Hz, 86400 samples\n"
     ]
    },
    {
     "name": "stderr",
     "output_type": "stream",
     "text": [
      "\r",
      " 82%|████████▏ | 3083/3775 [02:59<00:35, 19.29it/s]"
     ]
    },
    {
     "name": "stdout",
     "output_type": "stream",
     "text": [
      "1 Trace(s) in Stream:\n",
      "Z4.CP09..BHZ | 2012-06-01T00:00:00.014200Z - 2012-06-01T23:59:59.014200Z | 1.0 Hz, 86400 samples\n",
      "1 Trace(s) in Stream:\n",
      "Z4.CP09..BH2 | 2012-09-19T00:00:00.019300Z - 2012-09-19T23:59:59.019300Z | 1.0 Hz, 86400 samples\n",
      "1 Trace(s) in Stream:\n",
      "Z4.CP09..BH2 | 2012-12-25T00:00:00.004600Z - 2012-12-25T23:59:59.004600Z | 1.0 Hz, 86400 samples\n",
      "1 Trace(s) in Stream:\n",
      "Z4.CP09..BH2 | 2013-02-01T00:00:00.014100Z - 2013-02-01T23:59:59.014100Z | 1.0 Hz, 86400 samples\n"
     ]
    },
    {
     "name": "stderr",
     "output_type": "stream",
     "text": [
      " 82%|████████▏ | 3089/3775 [02:59<00:34, 20.03it/s]"
     ]
    },
    {
     "name": "stdout",
     "output_type": "stream",
     "text": [
      "1 Trace(s) in Stream:\n",
      "Z4.CP09..BH1 | 2012-07-05T00:00:00.000300Z - 2012-07-05T23:59:59.000300Z | 1.0 Hz, 86400 samples\n",
      "1 Trace(s) in Stream:\n",
      "Z4.CP09..BH1 | 2012-11-28T00:00:00.015700Z - 2012-11-28T23:59:59.015700Z | 1.0 Hz, 86400 samples\n",
      "1 Trace(s) in Stream:\n",
      "Z4.CP09..BH2 | 2012-11-11T00:00:00.022600Z - 2012-11-11T23:59:59.022600Z | 1.0 Hz, 86400 samples\n",
      "1 Trace(s) in Stream:\n",
      "Z4.CP09..BHZ | 2012-11-02T00:00:00.001300Z - 2012-11-02T23:59:59.001300Z | 1.0 Hz, 86400 samples\n",
      "1 Trace(s) in Stream:\n",
      "Z4.CP09..BH2 | 2012-10-22T00:00:00.005800Z - 2012-10-22T23:59:59.005800Z | 1.0 Hz, 86400 samples\n"
     ]
    },
    {
     "name": "stderr",
     "output_type": "stream",
     "text": [
      " 82%|████████▏ | 3093/3775 [02:59<00:36, 18.75it/s]"
     ]
    },
    {
     "name": "stdout",
     "output_type": "stream",
     "text": [
      "1 Trace(s) in Stream:\n",
      "Z4.CP09..BHZ | 2013-02-16T00:00:00.008000Z - 2013-02-16T23:59:59.008000Z | 1.0 Hz, 86400 samples\n",
      "1 Trace(s) in Stream:\n",
      "Z4.CP09..BH2 | 2012-07-11T00:00:00.022900Z - 2012-07-11T23:59:59.022900Z | 1.0 Hz, 86400 samples\n",
      "1 Trace(s) in Stream:\n",
      "Z4.CP09..BH1 | 2013-02-17T00:00:00.007600Z - 2013-02-17T23:59:59.007600Z | 1.0 Hz, 86400 samples\n",
      "1 Trace(s) in Stream:\n",
      "Z4.CP09..BHZ | 2012-08-10T00:00:00.010600Z - 2012-08-10T23:59:59.010600Z | 1.0 Hz, 86400 samples\n"
     ]
    },
    {
     "name": "stderr",
     "output_type": "stream",
     "text": [
      " 82%|████████▏ | 3097/3775 [02:59<00:36, 18.79it/s]"
     ]
    },
    {
     "name": "stdout",
     "output_type": "stream",
     "text": [
      "1 Trace(s) in Stream:\n",
      "Z4.CP09..BHZ | 2012-11-24T00:00:00.017300Z - 2012-11-24T23:59:59.017300Z | 1.0 Hz, 86400 samples\n",
      "1 Trace(s) in Stream:\n",
      "Z4.CP09..BH1 | 2013-01-03T00:00:00.001000Z - 2013-01-03T23:59:59.001000Z | 1.0 Hz, 86400 samples\n",
      "1 Trace(s) in Stream:\n",
      "Z4.CP09..BH1 | 2012-06-21T00:00:00.006100Z - 2012-06-21T23:59:59.006100Z | 1.0 Hz, 86400 samples\n",
      "1 Trace(s) in Stream:\n",
      "Z4.CP09..BHZ | 2012-08-06T00:00:00.012300Z - 2012-08-06T23:59:59.012300Z | 1.0 Hz, 86400 samples\n"
     ]
    },
    {
     "name": "stderr",
     "output_type": "stream",
     "text": [
      " 82%|████████▏ | 3101/3775 [02:59<00:37, 17.85it/s]"
     ]
    },
    {
     "name": "stdout",
     "output_type": "stream",
     "text": [
      "1 Trace(s) in Stream:\n",
      "Z4.CP09..BH2 | 2013-01-22T00:00:00.018200Z - 2013-01-22T23:59:59.018200Z | 1.0 Hz, 86400 samples\n",
      "1 Trace(s) in Stream:\n",
      "Z4.CP09..BH1 | 2012-10-18T00:00:00.007400Z - 2012-10-18T23:59:59.007400Z | 1.0 Hz, 86400 samples\n",
      "1 Trace(s) in Stream:\n",
      "Z4.CP09..BH2 | 2012-10-05T00:00:00.012700Z - 2012-10-05T23:59:59.012700Z | 1.0 Hz, 86400 samples\n",
      "1 Trace(s) in Stream:\n",
      "Z4.CP09..BH1 | 2013-02-06T00:00:00.012100Z - 2013-02-06T23:59:59.012100Z | 1.0 Hz, 86400 samples\n"
     ]
    },
    {
     "name": "stderr",
     "output_type": "stream",
     "text": [
      " 82%|████████▏ | 3106/3775 [03:00<00:34, 19.42it/s]"
     ]
    },
    {
     "name": "stdout",
     "output_type": "stream",
     "text": [
      "1 Trace(s) in Stream:\n",
      "Z4.CP09..BH1 | 2012-08-21T00:00:00.006100Z - 2012-08-21T23:59:59.006100Z | 1.0 Hz, 86400 samples\n",
      "1 Trace(s) in Stream:\n",
      "Z4.CP09..BH1 | 2012-12-30T00:00:00.002600Z - 2012-12-30T23:59:59.002600Z | 1.0 Hz, 86400 samples\n",
      "1 Trace(s) in Stream:\n",
      "Z4.CP09..BH1 | 2012-12-07T00:00:00.012000Z - 2012-12-07T23:59:59.012000Z | 1.0 Hz, 86400 samples\n",
      "1 Trace(s) in Stream:\n",
      "Z4.CP09..BH1 | 2012-12-20T00:00:00.006700Z - 2012-12-20T23:59:59.006700Z | 1.0 Hz, 86400 samples\n",
      "1 Trace(s) in Stream:\n",
      "Z4.CP09..BH2 | 2012-11-22T00:00:00.018100Z - 2012-11-22T23:59:59.018100Z | 1.0 Hz, 86400 samples\n",
      "1 Trace(s) in Stream:\n",
      "Z4.CP09..BH2 | 2012-06-01T00:00:00.014200Z - 2012-06-01T23:59:59.014200Z | 1.0 Hz, 86400 samples\n"
     ]
    },
    {
     "name": "stderr",
     "output_type": "stream",
     "text": [
      " 82%|████████▏ | 3112/3775 [03:00<00:35, 18.82it/s]"
     ]
    },
    {
     "name": "stdout",
     "output_type": "stream",
     "text": [
      "1 Trace(s) in Stream:\n",
      "Z4.CP09..BH2 | 2013-02-19T00:00:00.006800Z - 2013-02-19T23:59:59.006800Z | 1.0 Hz, 86400 samples\n",
      "1 Trace(s) in Stream:\n",
      "Z4.CP09..BH1 | 2013-02-09T00:00:00.010800Z - 2013-02-09T23:59:59.010800Z | 1.0 Hz, 86400 samples\n",
      "1 Trace(s) in Stream:\n",
      "Z4.CP09..BHZ | 2013-03-09T00:00:00.024400Z - 2013-03-09T23:59:59.024400Z | 1.0 Hz, 86400 samples\n",
      "1 Trace(s) in Stream:\n",
      "Z4.CP09..BHZ | 2012-06-18T00:00:00.007300Z - 2012-06-18T23:59:59.007300Z | 1.0 Hz, 86400 samples\n"
     ]
    },
    {
     "name": "stderr",
     "output_type": "stream",
     "text": [
      " 83%|████████▎ | 3117/3775 [03:00<00:33, 19.36it/s]"
     ]
    },
    {
     "name": "stdout",
     "output_type": "stream",
     "text": [
      "1 Trace(s) in Stream:\n",
      "Z4.CP09..BHZ | 2013-03-01T00:00:00.002700Z - 2013-03-01T23:59:59.002700Z | 1.0 Hz, 86400 samples\n",
      "1 Trace(s) in Stream:\n",
      "Z4.CP09..BH1 | 2012-08-06T00:00:00.012300Z - 2012-08-06T23:59:59.012300Z | 1.0 Hz, 86400 samples\n",
      "1 Trace(s) in Stream:\n",
      "Z4.CP09..BH1 | 2012-09-12T00:00:00.022100Z - 2012-09-12T23:59:59.022100Z | 1.0 Hz, 86400 samples\n",
      "1 Trace(s) in Stream:\n",
      "Z4.CP09..BHZ | 2013-01-03T00:00:00.001000Z - 2013-01-03T23:59:59.001000Z | 1.0 Hz, 86400 samples\n",
      "1 Trace(s) in Stream:\n",
      "Z4.CP09..BH2 | 2013-01-09T00:00:00.023500Z - 2013-01-09T23:59:59.023500Z | 1.0 Hz, 86400 samples\n",
      "1 Trace(s) in Stream:\n",
      "Z4.CP09..BH1 | 2013-01-04T00:00:00.000600Z - 2013-01-04T23:59:59.000600Z | 1.0 Hz, 86400 samples\n"
     ]
    },
    {
     "name": "stderr",
     "output_type": "stream",
     "text": [
      "\r",
      " 83%|████████▎ | 3120/3775 [03:00<00:34, 19.15it/s]"
     ]
    },
    {
     "name": "stdout",
     "output_type": "stream",
     "text": [
      "1 Trace(s) in Stream:\n",
      "Z4.CP09..BHZ | 2012-12-01T00:00:00.014400Z - 2012-12-01T23:59:59.014400Z | 1.0 Hz, 86400 samples\n",
      "1 Trace(s) in Stream:\n",
      "Z4.CP09..BH1 | 2012-05-27T00:00:00.016300Z - 2012-05-27T23:59:59.016300Z | 1.0 Hz, 86400 samples\n",
      "1 Trace(s) in Stream:\n",
      "Z4.CP09..BH1 | 2012-08-13T00:00:00.009400Z - 2012-08-13T23:59:59.009400Z | 1.0 Hz, 86400 samples\n",
      "1 Trace(s) in Stream:\n",
      "Z4.CP09..BH1 | 2012-08-08T00:00:00.011400Z - 2012-08-08T23:59:59.011400Z | 1.0 Hz, 86400 samples\n"
     ]
    },
    {
     "name": "stderr",
     "output_type": "stream",
     "text": [
      " 83%|████████▎ | 3125/3775 [03:01<00:33, 19.32it/s]"
     ]
    },
    {
     "name": "stdout",
     "output_type": "stream",
     "text": [
      "1 Trace(s) in Stream:\n",
      "Z4.CP09..BH2 | 2013-02-23T00:00:00.005100Z - 2013-02-23T23:59:59.005100Z | 1.0 Hz, 86400 samples\n",
      "1 Trace(s) in Stream:\n",
      "Z4.CP09..BH1 | 2012-08-09T00:00:00.011000Z - 2012-08-09T23:59:59.011000Z | 1.0 Hz, 86400 samples\n",
      "1 Trace(s) in Stream:\n",
      "Z4.CP09..BH1 | 2012-06-18T00:00:00.007300Z - 2012-06-18T23:59:59.007300Z | 1.0 Hz, 86400 samples\n",
      "1 Trace(s) in Stream:\n",
      "Z4.CP09..BH2 | 2012-12-13T00:00:00.009500Z - 2012-12-13T23:59:59.009500Z | 1.0 Hz, 86400 samples\n",
      "1 Trace(s) in Stream:\n",
      "Z4.CP09..BHZ | 2013-02-23T00:00:00.005100Z - 2013-02-23T23:59:59.005100Z | 1.0 Hz, 86400 samples\n"
     ]
    },
    {
     "name": "stderr",
     "output_type": "stream",
     "text": [
      " 83%|████████▎ | 3131/3775 [03:01<00:34, 18.80it/s]"
     ]
    },
    {
     "name": "stdout",
     "output_type": "stream",
     "text": [
      "1 Trace(s) in Stream:\n",
      "Z4.CP09..BHZ | 2012-12-02T00:00:00.014000Z - 2012-12-02T23:59:59.014000Z | 1.0 Hz, 86400 samples\n",
      "1 Trace(s) in Stream:\n",
      "Z4.CP09..BH1 | 2012-12-06T00:00:00.012400Z - 2012-12-06T23:59:59.012400Z | 1.0 Hz, 86400 samples\n",
      "1 Trace(s) in Stream:\n",
      "Z4.CP09..BH2 | 2012-10-15T00:00:00.008700Z - 2012-10-15T23:59:59.008700Z | 1.0 Hz, 86400 samples\n",
      "1 Trace(s) in Stream:\n",
      "Z4.CP09..BHZ | 2012-11-21T00:00:00.018500Z - 2012-11-21T23:59:59.018500Z | 1.0 Hz, 86400 samples\n"
     ]
    },
    {
     "name": "stderr",
     "output_type": "stream",
     "text": [
      " 83%|████████▎ | 3135/3775 [03:01<00:35, 17.79it/s]"
     ]
    },
    {
     "name": "stdout",
     "output_type": "stream",
     "text": [
      "1 Trace(s) in Stream:\n",
      "Z4.CP09..BHZ | 2012-09-13T00:00:00.021700Z - 2012-09-13T23:59:59.021700Z | 1.0 Hz, 86400 samples\n",
      "1 Trace(s) in Stream:\n",
      "Z4.CP09..BH2 | 2012-12-29T00:00:00.003000Z - 2012-12-29T23:59:59.003000Z | 1.0 Hz, 86400 samples\n",
      "1 Trace(s) in Stream:\n",
      "Z4.CP09..BH2 | 2013-03-07T00:00:00.000200Z - 2013-03-07T23:59:59.000200Z | 1.0 Hz, 86400 samples\n",
      "1 Trace(s) in Stream:\n",
      "Z4.CP09..BHZ | 2012-06-22T00:00:00.005700Z - 2012-06-22T23:59:59.005700Z | 1.0 Hz, 86400 samples\n"
     ]
    },
    {
     "name": "stderr",
     "output_type": "stream",
     "text": [
      "\r",
      " 83%|████████▎ | 3138/3775 [03:01<00:34, 18.35it/s]"
     ]
    },
    {
     "name": "stdout",
     "output_type": "stream",
     "text": [
      "1 Trace(s) in Stream:\n",
      "Z4.CP09..BH1 | 2012-09-18T00:00:00.019700Z - 2012-09-18T23:59:59.019700Z | 1.0 Hz, 86400 samples\n",
      "1 Trace(s) in Stream:\n",
      "Z4.CP09..BH1 | 2012-05-21T00:00:00.018700Z - 2012-05-21T23:59:59.018700Z | 1.0 Hz, 86400 samples\n",
      "1 Trace(s) in Stream:\n",
      "Z4.CP09..BH2 | 2012-09-28T00:00:00.015600Z - 2012-09-28T23:59:59.015600Z | 1.0 Hz, 86400 samples\n",
      "1 Trace(s) in Stream:\n",
      "Z4.CP09..BHZ | 2012-12-31T00:00:00.002200Z - 2012-12-31T23:59:59.002200Z | 1.0 Hz, 86400 samples\n",
      "1 Trace(s) in Stream:\n",
      "Z4.CP09..BH2 | 2013-02-02T00:00:00.013700Z - 2013-02-02T23:59:59.013700Z | 1.0 Hz, 86400 samples\n"
     ]
    },
    {
     "name": "stderr",
     "output_type": "stream",
     "text": [
      " 83%|████████▎ | 3143/3775 [03:02<00:33, 19.00it/s]"
     ]
    },
    {
     "name": "stdout",
     "output_type": "stream",
     "text": [
      "1 Trace(s) in Stream:\n",
      "Z4.CP09..BH2 | 2013-03-03T00:00:00.001800Z - 2013-03-03T23:59:59.001800Z | 1.0 Hz, 86400 samples\n",
      "1 Trace(s) in Stream:\n",
      "Z4.CP09..BH2 | 2012-12-18T00:00:00.007500Z - 2012-12-18T23:59:59.007500Z | 1.0 Hz, 86400 samples\n",
      "1 Trace(s) in Stream:\n",
      "Z4.CP09..BHZ | 2012-10-27T00:00:00.003800Z - 2012-10-27T23:59:59.003800Z | 1.0 Hz, 86400 samples\n",
      "1 Trace(s) in Stream:\n",
      "Z4.CP09..BHZ | 2013-02-18T00:00:00.007200Z - 2013-02-18T23:59:59.007200Z | 1.0 Hz, 86400 samples\n"
     ]
    },
    {
     "name": "stderr",
     "output_type": "stream",
     "text": [
      " 83%|████████▎ | 3147/3775 [03:02<00:33, 18.68it/s]"
     ]
    },
    {
     "name": "stdout",
     "output_type": "stream",
     "text": [
      "1 Trace(s) in Stream:\n",
      "Z4.CP09..BHZ | 2012-07-21T00:00:00.018800Z - 2012-07-21T23:59:59.018800Z | 1.0 Hz, 86400 samples\n",
      "1 Trace(s) in Stream:\n",
      "Z4.CP09..BHZ | 2012-07-25T00:00:00.017200Z - 2012-07-25T23:59:59.017200Z | 1.0 Hz, 86400 samples\n",
      "1 Trace(s) in Stream:\n",
      "Z4.CP09..BH2 | 2013-01-08T00:00:00.023900Z - 2013-01-08T23:59:59.023900Z | 1.0 Hz, 86400 samples\n",
      "1 Trace(s) in Stream:\n",
      "Z4.CP09..BH1 | 2012-09-28T00:00:00.015600Z - 2012-09-28T23:59:59.015600Z | 1.0 Hz, 86400 samples\n"
     ]
    },
    {
     "name": "stderr",
     "output_type": "stream",
     "text": [
      " 83%|████████▎ | 3152/3775 [03:02<00:31, 19.57it/s]"
     ]
    },
    {
     "name": "stdout",
     "output_type": "stream",
     "text": [
      "1 Trace(s) in Stream:\n",
      "Z4.CP09..BH2 | 2012-12-15T00:00:00.008700Z - 2012-12-15T23:59:59.008700Z | 1.0 Hz, 86400 samples\n",
      "1 Trace(s) in Stream:\n",
      "Z4.CP09..BH2 | 2012-10-03T00:00:00.013600Z - 2012-10-03T23:59:59.013600Z | 1.0 Hz, 86400 samples\n",
      "1 Trace(s) in Stream:\n",
      "Z4.CP09..BH1 | 2012-07-25T00:00:00.017200Z - 2012-07-25T23:59:59.017200Z | 1.0 Hz, 86400 samples\n",
      "1 Trace(s) in Stream:\n",
      "Z4.CP09..BH2 | 2013-01-15T00:00:00.021100Z - 2013-01-15T23:59:59.021100Z | 1.0 Hz, 86400 samples\n",
      "1 Trace(s) in Stream:\n",
      "Z4.CP09..BH1 | 2012-11-03T00:00:00.000900Z - 2012-11-03T23:59:59.000900Z | 1.0 Hz, 86400 samples\n"
     ]
    },
    {
     "name": "stderr",
     "output_type": "stream",
     "text": [
      " 84%|████████▎ | 3158/3775 [03:02<00:32, 18.75it/s]"
     ]
    },
    {
     "name": "stdout",
     "output_type": "stream",
     "text": [
      "1 Trace(s) in Stream:\n",
      "Z4.CP09..BH2 | 2012-05-09T00:00:00.023600Z - 2012-05-09T23:59:59.023600Z | 1.0 Hz, 86400 samples\n",
      "1 Trace(s) in Stream:\n",
      "Z4.CP09..BHZ | 2013-02-20T00:00:00.006300Z - 2013-02-20T23:59:59.006300Z | 1.0 Hz, 86400 samples\n",
      "1 Trace(s) in Stream:\n",
      "Z4.CP09..BH1 | 2013-01-05T00:00:00.000100Z - 2013-01-05T23:59:59.000100Z | 1.0 Hz, 86400 samples\n",
      "1 Trace(s) in Stream:\n",
      "Z4.CP09..BH1 | 2012-12-19T00:00:00.007100Z - 2012-12-19T23:59:59.007100Z | 1.0 Hz, 86400 samples\n",
      "1 Trace(s) in Stream:\n",
      "Z4.CP09..BH2 | 2013-03-16T00:00:00.021500Z - 2013-03-16T23:59:59.021500Z | 1.0 Hz, 86400 samples\n"
     ]
    },
    {
     "name": "stderr",
     "output_type": "stream",
     "text": [
      "\r",
      " 84%|████████▎ | 3160/3775 [03:03<00:33, 18.33it/s]"
     ]
    },
    {
     "name": "stdout",
     "output_type": "stream",
     "text": [
      "1 Trace(s) in Stream:\n",
      "Z4.CP09..BH1 | 2012-06-28T00:00:00.003200Z - 2012-06-28T23:59:59.003200Z | 1.0 Hz, 86400 samples\n",
      "1 Trace(s) in Stream:\n",
      "Z4.CP09..BH2 | 2012-08-08T00:00:00.011400Z - 2012-08-08T23:59:59.011400Z | 1.0 Hz, 86400 samples\n",
      "1 Trace(s) in Stream:\n",
      "Z4.CP09..BHZ | 2013-02-28T00:00:00.003100Z - 2013-02-28T23:59:59.003100Z | 1.0 Hz, 86400 samples\n",
      "1 Trace(s) in Stream:\n",
      "Z4.CP09..BHZ | 2012-12-25T00:00:00.004600Z - 2012-12-25T23:59:59.004600Z | 1.0 Hz, 86400 samples\n"
     ]
    },
    {
     "name": "stderr",
     "output_type": "stream",
     "text": [
      " 84%|████████▍ | 3164/3775 [03:03<00:35, 17.20it/s]"
     ]
    },
    {
     "name": "stdout",
     "output_type": "stream",
     "text": [
      "1 Trace(s) in Stream:\n",
      "Z4.CP09..BH1 | 2012-05-11T00:00:00.022800Z - 2012-05-11T23:59:59.022800Z | 1.0 Hz, 86400 samples\n",
      "1 Trace(s) in Stream:\n",
      "Z4.CP09..BHZ | 2012-11-04T00:00:00.000500Z - 2012-11-04T23:59:59.000500Z | 1.0 Hz, 86400 samples\n",
      "1 Trace(s) in Stream:\n",
      "Z4.CP09..BH1 | 2012-09-20T00:00:00.018900Z - 2012-09-20T23:59:59.018900Z | 1.0 Hz, 86400 samples\n",
      "1 Trace(s) in Stream:\n",
      "Z4.CP09..BH1 | 2012-05-17T00:00:00.020400Z - 2012-05-17T23:59:59.020400Z | 1.0 Hz, 86400 samples\n",
      "1 Trace(s) in Stream:\n",
      "Z4.CP09..BH1 | 2012-05-24T00:00:00.017500Z - 2012-05-24T23:59:59.017500Z | 1.0 Hz, 86400 samples\n"
     ]
    },
    {
     "name": "stderr",
     "output_type": "stream",
     "text": [
      " 84%|████████▍ | 3171/3775 [03:03<00:35, 17.04it/s]"
     ]
    },
    {
     "name": "stdout",
     "output_type": "stream",
     "text": [
      "1 Trace(s) in Stream:\n",
      "Z4.CP09..BHZ | 2012-06-27T00:00:00.003600Z - 2012-06-27T23:59:59.003600Z | 1.0 Hz, 86400 samples\n",
      "1 Trace(s) in Stream:\n",
      "Z4.CP09..BH1 | 2013-02-16T00:00:00.008000Z - 2013-02-16T23:59:59.008000Z | 1.0 Hz, 86400 samples\n",
      "1 Trace(s) in Stream:\n",
      "Z4.CP09..BH1 | 2012-09-16T00:00:00.020500Z - 2012-09-16T23:59:59.020500Z | 1.0 Hz, 86400 samples\n",
      "1 Trace(s) in Stream:\n",
      "Z4.CP09..BH1 | 2012-09-19T00:00:00.019300Z - 2012-09-19T23:59:59.019300Z | 1.0 Hz, 86400 samples\n"
     ]
    },
    {
     "name": "stderr",
     "output_type": "stream",
     "text": [
      " 84%|████████▍ | 3175/3775 [03:03<00:33, 17.93it/s]"
     ]
    },
    {
     "name": "stdout",
     "output_type": "stream",
     "text": [
      "1 Trace(s) in Stream:\n",
      "Z4.CP09..BH1 | 2012-12-02T00:00:00.014000Z - 2012-12-02T23:59:59.014000Z | 1.0 Hz, 86400 samples\n",
      "1 Trace(s) in Stream:\n",
      "Z4.CP09..BH1 | 2012-08-07T00:00:00.011900Z - 2012-08-07T23:59:59.011900Z | 1.0 Hz, 86400 samples\n",
      "1 Trace(s) in Stream:\n",
      "Z4.CP09..BHZ | 2012-08-16T00:00:00.008200Z - 2012-08-16T23:59:59.008200Z | 1.0 Hz, 86400 samples\n",
      "1 Trace(s) in Stream:\n",
      "Z4.CP09..BH1 | 2012-12-22T00:00:00.005900Z - 2012-12-22T23:59:59.005900Z | 1.0 Hz, 86400 samples\n"
     ]
    },
    {
     "name": "stderr",
     "output_type": "stream",
     "text": [
      " 84%|████████▍ | 3179/3775 [03:04<00:32, 18.28it/s]"
     ]
    },
    {
     "name": "stdout",
     "output_type": "stream",
     "text": [
      "1 Trace(s) in Stream:\n",
      "Z4.CP09..BH2 | 2012-10-30T00:00:00.002500Z - 2012-10-30T23:59:59.002500Z | 1.0 Hz, 86400 samples\n",
      "1 Trace(s) in Stream:\n",
      "Z4.CP09..BHZ | 2012-07-22T00:00:00.018400Z - 2012-07-22T23:59:59.018400Z | 1.0 Hz, 86400 samples\n",
      "1 Trace(s) in Stream:\n",
      "Z4.CP09..BH2 | 2012-07-25T00:00:00.017200Z - 2012-07-25T23:59:59.017200Z | 1.0 Hz, 86400 samples\n",
      "1 Trace(s) in Stream:\n",
      "Z4.CP09..BH2 | 2012-12-07T00:00:00.012000Z - 2012-12-07T23:59:59.012000Z | 1.0 Hz, 86400 samples\n"
     ]
    },
    {
     "name": "stderr",
     "output_type": "stream",
     "text": [
      " 84%|████████▍ | 3183/3775 [03:04<00:31, 18.97it/s]"
     ]
    },
    {
     "name": "stdout",
     "output_type": "stream",
     "text": [
      "1 Trace(s) in Stream:\n",
      "Z4.CP09..BH2 | 2013-03-05T00:00:00.001000Z - 2013-03-05T23:59:59.001000Z | 1.0 Hz, 86400 samples\n",
      "1 Trace(s) in Stream:\n",
      "Z4.CP09..BHZ | 2012-10-29T00:00:00.002900Z - 2012-10-29T23:59:59.002900Z | 1.0 Hz, 86400 samples\n",
      "1 Trace(s) in Stream:\n",
      "Z4.CP09..BH2 | 2012-06-17T00:00:00.007700Z - 2012-06-17T23:59:59.007700Z | 1.0 Hz, 86400 samples\n",
      "1 Trace(s) in Stream:\n",
      "Z4.CP09..BHZ | 2013-01-23T00:00:00.017800Z - 2013-01-23T23:59:59.017800Z | 1.0 Hz, 86400 samples\n",
      "1 Trace(s) in Stream:\n",
      "Z4.CP09..BH2 | 2013-01-02T00:00:00.001400Z - 2013-01-02T23:59:59.001400Z | 1.0 Hz, 86400 samples\n",
      "1 Trace(s) in Stream:\n",
      "Z4.CP09..BH1 | 2012-10-30T00:00:00.002500Z - 2012-10-30T23:59:59.002500Z | 1.0 Hz, 86400 samples\n"
     ]
    },
    {
     "name": "stderr",
     "output_type": "stream",
     "text": [
      " 84%|████████▍ | 3188/3775 [03:04<00:31, 18.40it/s]"
     ]
    },
    {
     "name": "stdout",
     "output_type": "stream",
     "text": [
      "1 Trace(s) in Stream:\n",
      "Z4.CP09..BHZ | 2012-07-19T00:00:00.019600Z - 2012-07-19T23:59:59.019600Z | 1.0 Hz, 86400 samples\n",
      "1 Trace(s) in Stream:\n",
      "Z4.CP09..BH1 | 2013-01-17T00:00:00.020200Z - 2013-01-17T23:59:59.020200Z | 1.0 Hz, 86400 samples\n",
      "1 Trace(s) in Stream:\n",
      "Z4.CP09..BHZ | 2012-11-06T00:00:00.024700Z - 2012-11-06T23:59:59.024700Z | 1.0 Hz, 86400 samples\n",
      "1 Trace(s) in Stream:\n",
      "Z4.CP09..BHZ | 2012-10-25T00:00:00.004600Z - 2012-10-25T23:59:59.004600Z | 1.0 Hz, 86400 samples\n"
     ]
    },
    {
     "name": "stderr",
     "output_type": "stream",
     "text": [
      " 85%|████████▍ | 3192/3775 [03:04<00:33, 17.63it/s]"
     ]
    },
    {
     "name": "stdout",
     "output_type": "stream",
     "text": [
      "1 Trace(s) in Stream:\n",
      "Z4.CP09..BH2 | 2013-02-04T00:00:00.012900Z - 2013-02-04T23:59:59.012900Z | 1.0 Hz, 86400 samples\n",
      "1 Trace(s) in Stream:\n",
      "Z4.CP09..BHZ | 2013-01-01T00:00:00.001800Z - 2013-01-01T23:59:59.001800Z | 1.0 Hz, 86400 samples\n",
      "1 Trace(s) in Stream:\n",
      "Z4.CP09..BH2 | 2012-10-02T00:00:00.014000Z - 2012-10-02T23:59:59.014000Z | 1.0 Hz, 86400 samples\n",
      "1 Trace(s) in Stream:\n",
      "Z4.CP09..BHZ | 2013-01-06T00:00:00.024700Z - 2013-01-06T23:59:59.024700Z | 1.0 Hz, 86400 samples\n"
     ]
    },
    {
     "name": "stderr",
     "output_type": "stream",
     "text": [
      " 85%|████████▍ | 3197/3775 [03:05<00:31, 18.32it/s]"
     ]
    },
    {
     "name": "stdout",
     "output_type": "stream",
     "text": [
      "1 Trace(s) in Stream:\n",
      "Z4.CP09..BH2 | 2012-09-01T00:00:00.001600Z - 2012-09-01T23:59:59.001600Z | 1.0 Hz, 86400 samples\n",
      "1 Trace(s) in Stream:\n",
      "Z4.CP09..BH2 | 2013-02-24T00:00:00.004700Z - 2013-02-24T23:59:59.004700Z | 1.0 Hz, 86400 samples\n",
      "1 Trace(s) in Stream:\n",
      "Z4.CP09..BH1 | 2013-02-05T00:00:00.012500Z - 2013-02-05T23:59:59.012500Z | 1.0 Hz, 86400 samples\n",
      "1 Trace(s) in Stream:\n",
      "Z4.CP09..BH2 | 2012-07-02T00:00:00.001600Z - 2012-07-02T23:59:59.001600Z | 1.0 Hz, 86400 samples\n"
     ]
    },
    {
     "name": "stderr",
     "output_type": "stream",
     "text": [
      " 85%|████████▍ | 3202/3775 [03:05<00:30, 18.91it/s]"
     ]
    },
    {
     "name": "stdout",
     "output_type": "stream",
     "text": [
      "1 Trace(s) in Stream:\n",
      "Z4.CP09..BH1 | 2012-06-25T00:00:00.004400Z - 2012-06-25T23:59:59.004400Z | 1.0 Hz, 86400 samples\n",
      "1 Trace(s) in Stream:\n",
      "Z4.CP09..BH1 | 2013-02-27T00:00:00.003500Z - 2013-02-27T23:59:59.003500Z | 1.0 Hz, 86400 samples\n",
      "1 Trace(s) in Stream:\n",
      "Z4.CP09..BH1 | 2012-11-17T00:00:00.020200Z - 2012-11-17T23:59:59.020200Z | 1.0 Hz, 86400 samples\n",
      "1 Trace(s) in Stream:\n",
      "Z4.CP09..BHZ | 2012-11-01T00:00:00.001700Z - 2012-11-01T23:59:59.001700Z | 1.0 Hz, 86400 samples\n",
      "1 Trace(s) in Stream:\n",
      "Z4.CP09..BHZ | 2012-07-09T00:00:00.023700Z - 2012-07-09T23:59:59.023700Z | 1.0 Hz, 86400 samples\n"
     ]
    },
    {
     "name": "stderr",
     "output_type": "stream",
     "text": [
      " 85%|████████▍ | 3206/3775 [03:05<00:29, 19.10it/s]"
     ]
    },
    {
     "name": "stdout",
     "output_type": "stream",
     "text": [
      "1 Trace(s) in Stream:\n",
      "Z4.CP09..BH1 | 2012-08-15T00:00:00.008600Z - 2012-08-15T23:59:59.008600Z | 1.0 Hz, 86400 samples\n",
      "1 Trace(s) in Stream:\n",
      "Z4.CP09..BH1 | 2013-02-14T00:00:00.008800Z - 2013-02-14T23:59:59.008800Z | 1.0 Hz, 86400 samples\n",
      "1 Trace(s) in Stream:\n",
      "Z4.CP09..BHZ | 2012-09-27T00:00:00.016000Z - 2012-09-27T23:59:59.016000Z | 1.0 Hz, 86400 samples\n",
      "1 Trace(s) in Stream:\n",
      "Z4.CP09..BH2 | 2012-08-26T00:00:00.004100Z - 2012-08-26T23:59:59.004100Z | 1.0 Hz, 86400 samples\n",
      "1 Trace(s) in Stream:\n",
      "Z4.CP09..BHZ | 2012-08-17T00:00:00.007800Z - 2012-08-17T23:59:59.007800Z | 1.0 Hz, 86400 samples\n"
     ]
    },
    {
     "name": "stderr",
     "output_type": "stream",
     "text": [
      " 85%|████████▌ | 3211/3775 [03:05<00:30, 18.72it/s]"
     ]
    },
    {
     "name": "stdout",
     "output_type": "stream",
     "text": [
      "1 Trace(s) in Stream:\n",
      "Z4.CP09..BHZ | 2012-12-05T00:00:00.012800Z - 2012-12-05T23:59:59.012800Z | 1.0 Hz, 86400 samples\n",
      "1 Trace(s) in Stream:\n",
      "Z4.CP09..BHZ | 2012-11-28T00:00:00.015700Z - 2012-11-28T23:59:59.015700Z | 1.0 Hz, 86400 samples\n",
      "1 Trace(s) in Stream:\n",
      "Z4.CP09..BH2 | 2012-11-28T00:00:00.015700Z - 2012-11-28T23:59:59.015700Z | 1.0 Hz, 86400 samples\n",
      "1 Trace(s) in Stream:\n",
      "Z4.CP09..BHZ | 2012-07-23T00:00:00.018000Z - 2012-07-23T23:59:59.018000Z | 1.0 Hz, 86400 samples\n"
     ]
    },
    {
     "name": "stderr",
     "output_type": "stream",
     "text": [
      "\r",
      " 85%|████████▌ | 3213/3775 [03:06<00:31, 17.85it/s]"
     ]
    },
    {
     "name": "stdout",
     "output_type": "stream",
     "text": [
      "1 Trace(s) in Stream:\n",
      "Z4.CP09..BHZ | 2012-05-26T00:00:00.016700Z - 2012-05-26T23:59:59.016700Z | 1.0 Hz, 86400 samples\n",
      "1 Trace(s) in Stream:\n",
      "Z4.CP09..BH1 | 2012-12-09T00:00:00.011200Z - 2012-12-09T23:59:59.011200Z | 1.0 Hz, 86400 samples\n",
      "1 Trace(s) in Stream:\n",
      "Z4.CP09..BHZ | 2012-08-07T00:00:00.011900Z - 2012-08-07T23:59:59.011900Z | 1.0 Hz, 86400 samples\n",
      "1 Trace(s) in Stream:\n",
      "Z4.CP09..BH2 | 2012-07-15T00:00:00.021300Z - 2012-07-15T23:59:59.021300Z | 1.0 Hz, 86400 samples\n",
      "1 Trace(s) in Stream:\n",
      "Z4.CP09..BH1 | 2012-07-09T00:00:00.023700Z - 2012-07-09T23:59:59.023700Z | 1.0 Hz, 86400 samples\n"
     ]
    },
    {
     "name": "stderr",
     "output_type": "stream",
     "text": [
      " 85%|████████▌ | 3220/3775 [03:06<00:29, 18.59it/s]"
     ]
    },
    {
     "name": "stdout",
     "output_type": "stream",
     "text": [
      "1 Trace(s) in Stream:\n",
      "Z4.CP09..BH1 | 2012-09-24T00:00:00.017200Z - 2012-09-24T23:59:59.017200Z | 1.0 Hz, 86400 samples\n",
      "1 Trace(s) in Stream:\n",
      "Z4.CP09..BH1 | 2012-11-22T00:00:00.018100Z - 2012-11-22T23:59:59.018100Z | 1.0 Hz, 86400 samples\n",
      "1 Trace(s) in Stream:\n",
      "Z4.CP09..BH1 | 2012-12-16T00:00:00.008300Z - 2012-12-16T23:59:59.008300Z | 1.0 Hz, 86400 samples\n",
      "1 Trace(s) in Stream:\n",
      "Z4.CP09..BH1 | 2012-09-17T00:00:00.020100Z - 2012-09-17T23:59:59.020100Z | 1.0 Hz, 86400 samples\n"
     ]
    },
    {
     "name": "stderr",
     "output_type": "stream",
     "text": [
      " 85%|████████▌ | 3224/3775 [03:06<00:31, 17.42it/s]"
     ]
    },
    {
     "name": "stdout",
     "output_type": "stream",
     "text": [
      "1 Trace(s) in Stream:\n",
      "Z4.CP09..BH2 | 2012-12-28T00:00:00.003400Z - 2012-12-28T23:59:59.003400Z | 1.0 Hz, 86400 samples\n",
      "1 Trace(s) in Stream:\n",
      "Z4.CP09..BH2 | 2012-09-04T00:00:00.000400Z - 2012-09-04T23:59:59.000400Z | 1.0 Hz, 86400 samples\n",
      "1 Trace(s) in Stream:\n",
      "Z4.CP09..BH2 | 2012-09-08T00:00:00.023800Z - 2012-09-08T23:59:59.023800Z | 1.0 Hz, 86400 samples\n",
      "1 Trace(s) in Stream:\n",
      "Z4.CP09..BHZ | 2012-12-27T00:00:00.003800Z - 2012-12-27T23:59:59.003800Z | 1.0 Hz, 86400 samples\n",
      "1 Trace(s) in Stream:\n",
      "Z4.CP09..BHZ | 2012-09-23T00:00:00.017600Z - 2012-09-23T23:59:59.017600Z | 1.0 Hz, 86400 samples\n"
     ]
    },
    {
     "name": "stderr",
     "output_type": "stream",
     "text": [
      " 86%|████████▌ | 3230/3775 [03:06<00:31, 17.13it/s]"
     ]
    },
    {
     "name": "stdout",
     "output_type": "stream",
     "text": [
      "1 Trace(s) in Stream:\n",
      "Z4.CP09..BH2 | 2012-08-28T00:00:00.003300Z - 2012-08-28T23:59:59.003300Z | 1.0 Hz, 86400 samples\n",
      "1 Trace(s) in Stream:\n",
      "Z4.CP09..BH2 | 2012-06-21T00:00:00.006100Z - 2012-06-21T23:59:59.006100Z | 1.0 Hz, 86400 samples\n",
      "1 Trace(s) in Stream:\n",
      "Z4.CP09..BHZ | 2012-09-20T00:00:00.018900Z - 2012-09-20T23:59:59.018900Z | 1.0 Hz, 86400 samples\n",
      "1 Trace(s) in Stream:\n",
      "Z4.CP09..BH1 | 2012-09-30T00:00:00.014800Z - 2012-09-30T23:59:59.014800Z | 1.0 Hz, 86400 samples\n",
      "1 Trace(s) in Stream:\n",
      "Z4.CP09..BH2 | 2012-12-08T00:00:00.011600Z - 2012-12-08T23:59:59.011600Z | 1.0 Hz, 86400 samples\n"
     ]
    },
    {
     "name": "stderr",
     "output_type": "stream",
     "text": [
      "\r",
      " 86%|████████▌ | 3233/3775 [03:07<00:31, 17.25it/s]"
     ]
    },
    {
     "name": "stdout",
     "output_type": "stream",
     "text": [
      "1 Trace(s) in Stream:\n",
      "Z4.CP09..BHZ | 2012-11-14T00:00:00.021400Z - 2012-11-14T23:59:59.021400Z | 1.0 Hz, 86400 samples\n",
      "1 Trace(s) in Stream:\n",
      "Z4.CP09..BH1 | 2013-03-07T00:00:00.000200Z - 2013-03-07T23:59:59.000200Z | 1.0 Hz, 86400 samples\n",
      "1 Trace(s) in Stream:\n",
      "Z4.CP09..BH1 | 2013-02-07T00:00:00.011700Z - 2013-02-07T23:59:59.011700Z | 1.0 Hz, 86400 samples\n",
      "1 Trace(s) in Stream:\n",
      "Z4.CP09..BH2 | 2012-07-14T00:00:00.021700Z - 2012-07-14T23:59:59.021700Z | 1.0 Hz, 86400 samples\n"
     ]
    },
    {
     "name": "stderr",
     "output_type": "stream",
     "text": [
      " 86%|████████▌ | 3237/3775 [03:07<00:30, 17.77it/s]"
     ]
    },
    {
     "name": "stdout",
     "output_type": "stream",
     "text": [
      "1 Trace(s) in Stream:\n",
      "Z4.CP09..BH1 | 2013-01-24T00:00:00.017400Z - 2013-01-24T23:59:59.017400Z | 1.0 Hz, 86400 samples\n",
      "1 Trace(s) in Stream:\n",
      "Z4.CP09..BH2 | 2012-11-07T00:00:00.024300Z - 2012-11-07T23:59:59.024300Z | 1.0 Hz, 86400 samples\n",
      "1 Trace(s) in Stream:\n",
      "Z4.CP09..BH1 | 2012-09-06T00:00:00.024600Z - 2012-09-06T23:59:59.024600Z | 1.0 Hz, 86400 samples\n",
      "1 Trace(s) in Stream:\n",
      "Z4.CP09..BHZ | 2012-08-30T00:00:00.002500Z - 2012-08-30T23:59:59.002500Z | 1.0 Hz, 86400 samples\n"
     ]
    },
    {
     "name": "stderr",
     "output_type": "stream",
     "text": [
      " 86%|████████▌ | 3242/3775 [03:07<00:29, 18.12it/s]"
     ]
    },
    {
     "name": "stdout",
     "output_type": "stream",
     "text": [
      "1 Trace(s) in Stream:\n",
      "Z4.CP09..BH1 | 2012-11-21T00:00:00.018500Z - 2012-11-21T23:59:59.018500Z | 1.0 Hz, 86400 samples\n",
      "1 Trace(s) in Stream:\n",
      "Z4.CP09..BHZ | 2013-03-10T00:00:00.024000Z - 2013-03-10T23:59:59.024000Z | 1.0 Hz, 86400 samples\n",
      "1 Trace(s) in Stream:\n",
      "Z4.CP09..BH2 | 2012-06-13T00:00:00.009300Z - 2012-06-13T23:59:59.009300Z | 1.0 Hz, 86400 samples\n",
      "1 Trace(s) in Stream:\n",
      "Z4.CP09..BHZ | 2012-10-31T00:00:00.002100Z - 2012-10-31T23:59:59.002100Z | 1.0 Hz, 86400 samples\n"
     ]
    },
    {
     "name": "stderr",
     "output_type": "stream",
     "text": [
      " 86%|████████▌ | 3246/3775 [03:07<00:29, 17.95it/s]"
     ]
    },
    {
     "name": "stdout",
     "output_type": "stream",
     "text": [
      "1 Trace(s) in Stream:\n",
      "Z4.CP09..BH2 | 2012-09-27T00:00:00.016000Z - 2012-09-27T23:59:59.016000Z | 1.0 Hz, 86400 samples\n",
      "1 Trace(s) in Stream:\n",
      "Z4.CP09..BH1 | 2012-09-08T00:00:00.023800Z - 2012-09-08T23:59:59.023800Z | 1.0 Hz, 86400 samples\n",
      "1 Trace(s) in Stream:\n",
      "Z4.CP09..BHZ | 2012-05-13T00:00:00.022000Z - 2012-05-13T23:59:59.022000Z | 1.0 Hz, 86400 samples\n",
      "1 Trace(s) in Stream:\n",
      "Z4.CP09..BH2 | 2012-12-11T00:00:00.010400Z - 2012-12-11T23:59:59.010400Z | 1.0 Hz, 86400 samples\n",
      "1 Trace(s) in Stream:\n",
      "Z4.CP09..BH1 | 2013-03-02T00:00:00.002300Z - 2013-03-02T23:59:59.002300Z | 1.0 Hz, 86400 samples\n"
     ]
    },
    {
     "name": "stderr",
     "output_type": "stream",
     "text": [
      " 86%|████████▌ | 3250/3775 [03:08<00:29, 17.74it/s]"
     ]
    },
    {
     "name": "stdout",
     "output_type": "stream",
     "text": [
      "1 Trace(s) in Stream:\n",
      "Z4.CP09..BHZ | 2012-05-20T00:00:00.019100Z - 2012-05-20T23:59:59.019100Z | 1.0 Hz, 86400 samples\n",
      "1 Trace(s) in Stream:\n",
      "Z4.CP09..BH1 | 2012-09-29T00:00:00.015200Z - 2012-09-29T23:59:59.015200Z | 1.0 Hz, 86400 samples\n",
      "1 Trace(s) in Stream:\n",
      "Z4.CP09..BH1 | 2012-10-11T00:00:00.010300Z - 2012-10-11T23:59:59.010300Z | 1.0 Hz, 86400 samples\n",
      "1 Trace(s) in Stream:\n",
      "Z4.CP09..BHZ | 2012-08-01T00:00:00.014300Z - 2012-08-01T23:59:59.014300Z | 1.0 Hz, 86400 samples\n"
     ]
    },
    {
     "name": "stderr",
     "output_type": "stream",
     "text": [
      " 86%|████████▌ | 3254/3775 [03:08<00:28, 18.39it/s]"
     ]
    },
    {
     "name": "stdout",
     "output_type": "stream",
     "text": [
      "1 Trace(s) in Stream:\n",
      "Z4.CP09..BH1 | 2013-01-26T00:00:00.016600Z - 2013-01-26T23:59:59.016600Z | 1.0 Hz, 86400 samples\n",
      "1 Trace(s) in Stream:\n",
      "Z4.CP09..BH1 | 2012-11-04T00:00:00.000500Z - 2012-11-04T23:59:59.000500Z | 1.0 Hz, 86400 samples\n",
      "1 Trace(s) in Stream:\n",
      "Z4.CP09..BH2 | 2012-12-30T00:00:00.002600Z - 2012-12-30T23:59:59.002600Z | 1.0 Hz, 86400 samples\n",
      "1 Trace(s) in Stream:\n",
      "Z4.CP09..BH2 | 2013-03-10T00:00:00.024000Z - 2013-03-10T23:59:59.024000Z | 1.0 Hz, 86400 samples\n",
      "1 Trace(s) in Stream:\n",
      "Z4.CP09..BHZ | 2013-01-26T00:00:00.016600Z - 2013-01-26T23:59:59.016600Z | 1.0 Hz, 86400 samples\n"
     ]
    },
    {
     "name": "stderr",
     "output_type": "stream",
     "text": [
      " 86%|████████▋ | 3260/3775 [03:08<00:27, 19.01it/s]"
     ]
    },
    {
     "name": "stdout",
     "output_type": "stream",
     "text": [
      "1 Trace(s) in Stream:\n",
      "Z4.CP09..BHZ | 2012-07-13T00:00:00.022100Z - 2012-07-13T23:59:59.022100Z | 1.0 Hz, 86400 samples\n",
      "1 Trace(s) in Stream:\n",
      "Z4.CP09..BH2 | 2012-05-19T00:00:00.019600Z - 2012-05-19T23:59:59.019600Z | 1.0 Hz, 86400 samples\n",
      "1 Trace(s) in Stream:\n",
      "Z4.CP09..BHZ | 2012-05-21T00:00:00.018700Z - 2012-05-21T23:59:59.018700Z | 1.0 Hz, 86400 samples\n",
      "1 Trace(s) in Stream:\n",
      "Z4.CP09..BH2 | 2012-09-03T00:00:00.000800Z - 2012-09-03T23:59:59.000800Z | 1.0 Hz, 86400 samples\n"
     ]
    },
    {
     "name": "stderr",
     "output_type": "stream",
     "text": [
      "\r",
      " 86%|████████▋ | 3262/3775 [03:08<00:27, 18.81it/s]"
     ]
    },
    {
     "name": "stdout",
     "output_type": "stream",
     "text": [
      "1 Trace(s) in Stream:\n",
      "Z4.CP09..BH1 | 2012-09-05T00:00:00.000000Z - 2012-09-06T00:00:00.000000Z | 1.0 Hz, 86401 samples\n",
      "1 Trace(s) in Stream:\n",
      "Z4.CP09..BH1 | 2012-11-13T00:00:00.021800Z - 2012-11-13T23:59:59.021800Z | 1.0 Hz, 86400 samples\n",
      "1 Trace(s) in Stream:\n",
      "Z4.CP09..BH2 | 2012-12-09T00:00:00.011200Z - 2012-12-09T23:59:59.011200Z | 1.0 Hz, 86400 samples\n",
      "1 Trace(s) in Stream:\n",
      "Z4.CP09..BH1 | 2012-07-24T00:00:00.017600Z - 2012-07-24T23:59:59.017600Z | 1.0 Hz, 86400 samples\n"
     ]
    },
    {
     "name": "stderr",
     "output_type": "stream",
     "text": [
      " 87%|████████▋ | 3267/3775 [03:09<00:28, 17.82it/s]"
     ]
    },
    {
     "name": "stdout",
     "output_type": "stream",
     "text": [
      "1 Trace(s) in Stream:\n",
      "Z4.CP09..BHZ | 2012-11-29T00:00:00.015300Z - 2012-11-29T23:59:59.015300Z | 1.0 Hz, 86400 samples\n",
      "1 Trace(s) in Stream:\n",
      "Z4.CP09..BH2 | 2012-08-30T00:00:00.002500Z - 2012-08-30T23:59:59.002500Z | 1.0 Hz, 86400 samples\n",
      "1 Trace(s) in Stream:\n",
      "Z4.CP09..BH2 | 2013-02-18T00:00:00.007200Z - 2013-02-18T23:59:59.007200Z | 1.0 Hz, 86400 samples\n",
      "1 Trace(s) in Stream:\n",
      "Z4.CP09..BH1 | 2012-05-13T00:00:00.022000Z - 2012-05-13T23:59:59.022000Z | 1.0 Hz, 86400 samples\n"
     ]
    },
    {
     "name": "stderr",
     "output_type": "stream",
     "text": [
      " 87%|████████▋ | 3271/3775 [03:09<00:29, 17.37it/s]"
     ]
    },
    {
     "name": "stdout",
     "output_type": "stream",
     "text": [
      "1 Trace(s) in Stream:\n",
      "Z4.CP09..BH1 | 2012-05-12T00:00:00.022400Z - 2012-05-12T23:59:59.022400Z | 1.0 Hz, 86400 samples\n",
      "1 Trace(s) in Stream:\n",
      "Z4.CP09..BH2 | 2012-07-17T00:00:00.020400Z - 2012-07-17T23:59:59.020400Z | 1.0 Hz, 86400 samples\n",
      "1 Trace(s) in Stream:\n",
      "Z4.CP09..BHZ | 2012-09-07T00:00:00.024200Z - 2012-09-07T23:59:59.024200Z | 1.0 Hz, 86400 samples\n",
      "1 Trace(s) in Stream:\n",
      "Z4.CP09..BHZ | 2012-09-08T00:00:00.023800Z - 2012-09-08T23:59:59.023800Z | 1.0 Hz, 86400 samples\n"
     ]
    },
    {
     "name": "stderr",
     "output_type": "stream",
     "text": [
      " 87%|████████▋ | 3275/3775 [03:09<00:28, 17.42it/s]"
     ]
    },
    {
     "name": "stdout",
     "output_type": "stream",
     "text": [
      "1 Trace(s) in Stream:\n",
      "Z4.CP09..BHZ | 2013-03-08T00:00:00.024800Z - 2013-03-08T23:59:59.024800Z | 1.0 Hz, 86400 samples\n",
      "1 Trace(s) in Stream:\n",
      "Z4.CP09..BH1 | 2012-07-16T00:00:00.020800Z - 2012-07-16T23:59:59.020800Z | 1.0 Hz, 86400 samples\n",
      "1 Trace(s) in Stream:\n",
      "Z4.CP09..BH2 | 2012-05-25T00:00:00.017100Z - 2012-05-25T23:59:59.017100Z | 1.0 Hz, 86400 samples\n",
      "1 Trace(s) in Stream:\n",
      "Z4.CP09..BH2 | 2013-03-15T00:00:00.021900Z - 2013-03-15T23:59:59.021900Z | 1.0 Hz, 86400 samples\n"
     ]
    },
    {
     "name": "stderr",
     "output_type": "stream",
     "text": [
      " 87%|████████▋ | 3280/3775 [03:09<00:26, 18.67it/s]"
     ]
    },
    {
     "name": "stdout",
     "output_type": "stream",
     "text": [
      "1 Trace(s) in Stream:\n",
      "Z4.CP09..BHZ | 2012-06-19T00:00:00.006900Z - 2012-06-19T23:59:59.006900Z | 1.0 Hz, 86400 samples\n",
      "1 Trace(s) in Stream:\n",
      "Z4.CP09..BHZ | 2012-05-28T00:00:00.015900Z - 2012-05-28T23:59:59.015900Z | 1.0 Hz, 86400 samples\n",
      "1 Trace(s) in Stream:\n",
      "Z4.CP09..BH2 | 2012-11-06T00:00:00.024700Z - 2012-11-06T23:59:59.024700Z | 1.0 Hz, 86400 samples\n",
      "1 Trace(s) in Stream:\n",
      "Z4.CP09..BHZ | 2012-05-25T00:00:00.017100Z - 2012-05-25T23:59:59.017100Z | 1.0 Hz, 86400 samples\n",
      "1 Trace(s) in Stream:\n",
      "Z4.CP09..BHZ | 2012-09-11T00:00:00.022600Z - 2012-09-11T23:59:59.022600Z | 1.0 Hz, 86400 samples\n"
     ]
    },
    {
     "name": "stderr",
     "output_type": "stream",
     "text": [
      " 87%|████████▋ | 3284/3775 [03:09<00:27, 18.14it/s]"
     ]
    },
    {
     "name": "stdout",
     "output_type": "stream",
     "text": [
      "1 Trace(s) in Stream:\n",
      "Z4.CP09..BH2 | 2012-05-30T00:00:00.015100Z - 2012-05-30T23:59:59.015100Z | 1.0 Hz, 86400 samples\n",
      "1 Trace(s) in Stream:\n",
      "Z4.CP09..BH2 | 2012-09-13T00:00:00.021700Z - 2012-09-13T23:59:59.021700Z | 1.0 Hz, 86400 samples\n",
      "1 Trace(s) in Stream:\n",
      "Z4.CP09..BH1 | 2013-02-02T00:00:00.013700Z - 2013-02-02T23:59:59.013700Z | 1.0 Hz, 86400 samples\n",
      "1 Trace(s) in Stream:\n",
      "Z4.CP09..BHZ | 2012-07-26T00:00:00.016800Z - 2012-07-26T23:59:59.016800Z | 1.0 Hz, 86400 samples\n"
     ]
    },
    {
     "name": "stderr",
     "output_type": "stream",
     "text": [
      " 87%|████████▋ | 3289/3775 [03:10<00:25, 18.96it/s]"
     ]
    },
    {
     "name": "stdout",
     "output_type": "stream",
     "text": [
      "1 Trace(s) in Stream:\n",
      "Z4.CP09..BH2 | 2012-10-08T00:00:00.011500Z - 2012-10-08T23:59:59.011500Z | 1.0 Hz, 86400 samples\n",
      "1 Trace(s) in Stream:\n",
      "Z4.CP09..BHZ | 2012-07-14T00:00:00.021700Z - 2012-07-14T23:59:59.021700Z | 1.0 Hz, 86400 samples\n",
      "1 Trace(s) in Stream:\n",
      "Z4.CP09..BH2 | 2012-08-22T00:00:00.005700Z - 2012-08-22T23:59:59.005700Z | 1.0 Hz, 86400 samples\n",
      "1 Trace(s) in Stream:\n",
      "Z4.CP09..BH1 | 2012-10-16T00:00:00.008200Z - 2012-10-16T23:59:59.008200Z | 1.0 Hz, 86400 samples\n",
      "1 Trace(s) in Stream:\n",
      "Z4.CP09..BH2 | 2012-06-30T00:00:00.002400Z - 2012-06-30T23:59:59.002400Z | 1.0 Hz, 86400 samples\n",
      "1 Trace(s) in Stream:\n",
      "Z4.CP09..BH1 | 2012-10-24T00:00:00.005000Z - 2012-10-24T23:59:59.005000Z | 1.0 Hz, 86400 samples\n"
     ]
    },
    {
     "name": "stderr",
     "output_type": "stream",
     "text": [
      " 87%|████████▋ | 3294/3775 [03:10<00:24, 19.69it/s]"
     ]
    },
    {
     "name": "stdout",
     "output_type": "stream",
     "text": [
      "1 Trace(s) in Stream:\n",
      "Z4.CP09..BH2 | 2012-05-08T00:00:00.024000Z - 2012-05-08T23:59:59.024000Z | 1.0 Hz, 86400 samples\n",
      "1 Trace(s) in Stream:\n",
      "Z4.CP09..BHZ | 2013-02-03T00:00:00.013300Z - 2013-02-03T23:59:59.013300Z | 1.0 Hz, 86400 samples\n",
      "1 Trace(s) in Stream:\n",
      "Z4.CP09..BH1 | 2012-09-02T00:00:00.001200Z - 2012-09-02T23:59:59.001200Z | 1.0 Hz, 86400 samples\n",
      "1 Trace(s) in Stream:\n",
      "Z4.CP09..BH2 | 2013-01-03T00:00:00.001000Z - 2013-01-03T23:59:59.001000Z | 1.0 Hz, 86400 samples\n",
      "1 Trace(s) in Stream:\n",
      "Z4.CP09..BH2 | 2012-07-21T00:00:00.018800Z - 2012-07-21T23:59:59.018800Z | 1.0 Hz, 86400 samples\n"
     ]
    },
    {
     "name": "stderr",
     "output_type": "stream",
     "text": [
      " 87%|████████▋ | 3300/3775 [03:10<00:23, 20.17it/s]"
     ]
    },
    {
     "name": "stdout",
     "output_type": "stream",
     "text": [
      "1 Trace(s) in Stream:\n",
      "Z4.CP09..BH2 | 2012-12-14T00:00:00.009100Z - 2012-12-14T23:59:59.009100Z | 1.0 Hz, 86400 samples\n",
      "1 Trace(s) in Stream:\n",
      "Z4.CP09..BH1 | 2012-06-30T00:00:00.002400Z - 2012-06-30T23:59:59.002400Z | 1.0 Hz, 86400 samples\n",
      "1 Trace(s) in Stream:\n",
      "Z4.CP09..BH1 | 2012-08-29T00:00:00.002900Z - 2012-08-29T23:59:59.002900Z | 1.0 Hz, 86400 samples\n",
      "1 Trace(s) in Stream:\n",
      "Z4.CP09..BHZ | 2012-09-15T00:00:00.020900Z - 2012-09-15T23:59:59.020900Z | 1.0 Hz, 86400 samples\n"
     ]
    },
    {
     "name": "stderr",
     "output_type": "stream",
     "text": [
      "\r",
      " 87%|████████▋ | 3303/3775 [03:10<00:24, 19.37it/s]"
     ]
    },
    {
     "name": "stdout",
     "output_type": "stream",
     "text": [
      "1 Trace(s) in Stream:\n",
      "Z4.CP09..BHZ | 2012-07-11T00:00:00.022900Z - 2012-07-11T23:59:59.022900Z | 1.0 Hz, 86400 samples\n",
      "1 Trace(s) in Stream:\n",
      "Z4.CP09..BH2 | 2013-02-25T00:00:00.004300Z - 2013-02-25T23:59:59.004300Z | 1.0 Hz, 86400 samples\n",
      "1 Trace(s) in Stream:\n",
      "Z4.CP09..BHZ | 2012-06-23T00:00:00.005200Z - 2012-06-23T23:59:59.005200Z | 1.0 Hz, 86400 samples\n",
      "1 Trace(s) in Stream:\n",
      "Z4.CP09..BH1 | 2013-01-31T00:00:00.014500Z - 2013-01-31T23:59:59.014500Z | 1.0 Hz, 86400 samples\n",
      "1 Trace(s) in Stream:\n",
      "Z4.CP09..BH1 | 2012-05-26T00:00:00.016700Z - 2012-05-26T23:59:59.016700Z | 1.0 Hz, 86400 samples\n",
      "1 Trace(s) in Stream:\n",
      "Z4.CP09..BH1 | 2012-08-05T00:00:00.012700Z - 2012-08-05T23:59:59.012700Z | 1.0 Hz, 86400 samples\n"
     ]
    },
    {
     "name": "stderr",
     "output_type": "stream",
     "text": [
      " 88%|████████▊ | 3310/3775 [03:11<00:25, 18.38it/s]"
     ]
    },
    {
     "name": "stdout",
     "output_type": "stream",
     "text": [
      "1 Trace(s) in Stream:\n",
      "Z4.CP09..BHZ | 2012-10-11T00:00:00.010300Z - 2012-10-11T23:59:59.010300Z | 1.0 Hz, 86400 samples\n",
      "1 Trace(s) in Stream:\n",
      "Z4.CP09..BHZ | 2013-01-02T00:00:00.001400Z - 2013-01-02T23:59:59.001400Z | 1.0 Hz, 86400 samples\n",
      "1 Trace(s) in Stream:\n",
      "Z4.CP09..BHZ | 2012-10-04T00:00:00.013200Z - 2012-10-04T23:59:59.013200Z | 1.0 Hz, 86400 samples\n",
      "1 Trace(s) in Stream:\n",
      "Z4.CP09..BHZ | 2012-05-19T00:00:00.019600Z - 2012-05-19T23:59:59.019600Z | 1.0 Hz, 86400 samples\n"
     ]
    },
    {
     "name": "stderr",
     "output_type": "stream",
     "text": [
      " 88%|████████▊ | 3314/3775 [03:11<00:26, 17.43it/s]"
     ]
    },
    {
     "name": "stdout",
     "output_type": "stream",
     "text": [
      "1 Trace(s) in Stream:\n",
      "Z4.CP09..BH1 | 2012-07-15T00:00:00.021300Z - 2012-07-15T23:59:59.021300Z | 1.0 Hz, 86400 samples\n",
      "1 Trace(s) in Stream:\n",
      "Z4.CP09..BHZ | 2012-08-24T00:00:00.004900Z - 2012-08-24T23:59:59.004900Z | 1.0 Hz, 86400 samples\n",
      "1 Trace(s) in Stream:\n",
      "Z4.CP09..BHZ | 2012-12-12T00:00:00.010000Z - 2012-12-12T23:59:59.010000Z | 1.0 Hz, 86400 samples\n",
      "1 Trace(s) in Stream:\n",
      "Z4.CP09..BH1 | 2012-12-04T00:00:00.013200Z - 2012-12-04T23:59:59.013200Z | 1.0 Hz, 86400 samples\n"
     ]
    },
    {
     "name": "stderr",
     "output_type": "stream",
     "text": [
      " 88%|████████▊ | 3318/3775 [03:11<00:26, 17.52it/s]"
     ]
    },
    {
     "name": "stdout",
     "output_type": "stream",
     "text": [
      "1 Trace(s) in Stream:\n",
      "Z4.CP09..BHZ | 2012-07-20T00:00:00.019200Z - 2012-07-20T23:59:59.019200Z | 1.0 Hz, 86400 samples\n",
      "1 Trace(s) in Stream:\n",
      "Z4.CP09..BHZ | 2012-09-04T00:00:00.000400Z - 2012-09-04T23:59:59.000400Z | 1.0 Hz, 86400 samples\n",
      "1 Trace(s) in Stream:\n",
      "Z4.CP09..BH2 | 2013-02-13T00:00:00.009200Z - 2013-02-13T23:59:59.009200Z | 1.0 Hz, 86400 samples\n",
      "1 Trace(s) in Stream:\n",
      "Z4.CP09..BHZ | 2012-12-19T00:00:00.007100Z - 2012-12-19T23:59:59.007100Z | 1.0 Hz, 86400 samples\n",
      "1 Trace(s) in Stream:\n",
      "Z4.CP09..BH1 | 2012-05-30T00:00:00.015100Z - 2012-05-30T23:59:59.015100Z | 1.0 Hz, 86400 samples\n"
     ]
    },
    {
     "name": "stderr",
     "output_type": "stream",
     "text": [
      " 88%|████████▊ | 3322/3775 [03:12<00:26, 17.17it/s]"
     ]
    },
    {
     "name": "stdout",
     "output_type": "stream",
     "text": [
      "1 Trace(s) in Stream:\n",
      "Z4.CP09..BHZ | 2012-09-01T00:00:00.001600Z - 2012-09-01T23:59:59.001600Z | 1.0 Hz, 86400 samples\n",
      "1 Trace(s) in Stream:\n",
      "Z4.CP09..BH1 | 2012-06-12T00:00:00.009700Z - 2012-06-12T23:59:59.009700Z | 1.0 Hz, 86400 samples\n",
      "1 Trace(s) in Stream:\n",
      "Z4.CP09..BH1 | 2012-07-04T00:00:00.000800Z - 2012-07-04T23:59:59.000800Z | 1.0 Hz, 86400 samples\n",
      "1 Trace(s) in Stream:\n",
      "Z4.CP09..BH1 | 2012-10-10T00:00:00.010700Z - 2012-10-10T23:59:59.010700Z | 1.0 Hz, 86400 samples\n"
     ]
    },
    {
     "name": "stderr",
     "output_type": "stream",
     "text": [
      " 88%|████████▊ | 3327/3775 [03:12<00:22, 19.86it/s]"
     ]
    },
    {
     "name": "stdout",
     "output_type": "stream",
     "text": [
      "1 Trace(s) in Stream:\n",
      "Z4.CP09..BH2 | 2012-05-07T00:00:00.024500Z - 2012-05-07T23:59:59.024500Z | 1.0 Hz, 86400 samples\n",
      "1 Trace(s) in Stream:\n",
      "Z4.CP09..BH1 | 2012-06-08T00:00:00.011400Z - 2012-06-08T23:59:59.011400Z | 1.0 Hz, 86400 samples\n",
      "1 Trace(s) in Stream:\n",
      "Z4.CP09..BHZ | 2012-09-12T00:00:00.022100Z - 2012-09-12T23:59:59.022100Z | 1.0 Hz, 86400 samples\n",
      "1 Trace(s) in Stream:\n",
      "Z4.CP09..BH1 | 2012-08-23T00:00:00.005300Z - 2012-08-23T23:59:59.005300Z | 1.0 Hz, 86400 samples\n",
      "1 Trace(s) in Stream:\n",
      "Z4.CP09..BHZ | 2013-01-29T00:00:00.015300Z - 2013-01-29T23:59:59.015300Z | 1.0 Hz, 86400 samples\n"
     ]
    },
    {
     "name": "stderr",
     "output_type": "stream",
     "text": [
      " 88%|████████▊ | 3331/3775 [03:12<00:23, 19.08it/s]"
     ]
    },
    {
     "name": "stdout",
     "output_type": "stream",
     "text": [
      "1 Trace(s) in Stream:\n",
      "Z4.CP09..BH2 | 2013-01-06T00:00:00.024700Z - 2013-01-06T23:59:59.024700Z | 1.0 Hz, 86400 samples\n",
      "1 Trace(s) in Stream:\n",
      "Z4.CP09..BH1 | 2012-08-19T00:00:00.007000Z - 2012-08-19T23:59:59.007000Z | 1.0 Hz, 86400 samples\n",
      "1 Trace(s) in Stream:\n",
      "Z4.CP09..BH2 | 2012-08-31T00:00:00.002000Z - 2012-08-31T23:59:59.002000Z | 1.0 Hz, 86400 samples\n",
      "1 Trace(s) in Stream:\n",
      "Z4.CP09..BHZ | 2012-11-25T00:00:00.016900Z - 2012-11-25T23:59:59.016900Z | 1.0 Hz, 86400 samples\n"
     ]
    },
    {
     "name": "stderr",
     "output_type": "stream",
     "text": [
      " 88%|████████▊ | 3337/3775 [03:12<00:23, 19.04it/s]"
     ]
    },
    {
     "name": "stdout",
     "output_type": "stream",
     "text": [
      "1 Trace(s) in Stream:\n",
      "Z4.CP09..BH2 | 2013-02-03T00:00:00.013300Z - 2013-02-03T23:59:59.013300Z | 1.0 Hz, 86400 samples\n",
      "1 Trace(s) in Stream:\n",
      "Z4.CP09..BH1 | 2012-07-23T00:00:00.018000Z - 2012-07-23T23:59:59.018000Z | 1.0 Hz, 86400 samples\n",
      "1 Trace(s) in Stream:\n",
      "Z4.CP09..BH1 | 2012-07-17T00:00:00.020400Z - 2012-07-17T23:59:59.020400Z | 1.0 Hz, 86400 samples\n",
      "1 Trace(s) in Stream:\n",
      "Z4.CP09..BH1 | 2012-10-20T00:00:00.006600Z - 2012-10-20T23:59:59.006600Z | 1.0 Hz, 86400 samples\n",
      "1 Trace(s) in Stream:\n",
      "Z4.CP09..BHZ | 2012-08-18T00:00:00.007400Z - 2012-08-18T23:59:59.007400Z | 1.0 Hz, 86400 samples\n"
     ]
    },
    {
     "name": "stderr",
     "output_type": "stream",
     "text": [
      " 89%|████████▊ | 3341/3775 [03:13<00:23, 18.14it/s]"
     ]
    },
    {
     "name": "stdout",
     "output_type": "stream",
     "text": [
      "1 Trace(s) in Stream:\n",
      "Z4.CP09..BHZ | 2013-02-04T00:00:00.012900Z - 2013-02-04T23:59:59.012900Z | 1.0 Hz, 86400 samples\n",
      "1 Trace(s) in Stream:\n",
      "Z4.CP09..BHZ | 2012-05-23T00:00:00.017900Z - 2012-05-23T23:59:59.017900Z | 1.0 Hz, 86400 samples\n",
      "1 Trace(s) in Stream:\n",
      "Z4.CP09..BH2 | 2013-03-17T00:00:00.021100Z - 2013-03-17T23:59:59.021100Z | 1.0 Hz, 86400 samples\n",
      "1 Trace(s) in Stream:\n",
      "Z4.CP09..BH1 | 2013-01-29T00:00:00.015300Z - 2013-01-29T23:59:59.015300Z | 1.0 Hz, 86400 samples\n"
     ]
    },
    {
     "name": "stderr",
     "output_type": "stream",
     "text": [
      "\r",
      " 89%|████████▊ | 3344/3775 [03:13<00:23, 18.12it/s]"
     ]
    },
    {
     "name": "stdout",
     "output_type": "stream",
     "text": [
      "1 Trace(s) in Stream:\n",
      "Z4.CP09..BHZ | 2013-01-10T00:00:00.023100Z - 2013-01-10T23:59:59.023100Z | 1.0 Hz, 86400 samples\n",
      "1 Trace(s) in Stream:\n",
      "Z4.CP09..BHZ | 2013-03-15T00:00:00.021900Z - 2013-03-15T23:59:59.021900Z | 1.0 Hz, 86400 samples\n",
      "1 Trace(s) in Stream:\n",
      "Z4.CP09..BH2 | 2012-12-03T00:00:00.013600Z - 2012-12-03T23:59:59.013600Z | 1.0 Hz, 86400 samples\n",
      "1 Trace(s) in Stream:\n",
      "Z4.CP09..BH1 | 2012-10-07T00:00:00.011800Z - 2012-10-07T23:59:59.011800Z | 1.0 Hz, 86400 samples\n",
      "1 Trace(s) in Stream:\n",
      "Z4.CP09..BHZ | 2012-09-05T00:00:00.000000Z - 2012-09-06T00:00:00.000000Z | 1.0 Hz, 86401 samples\n"
     ]
    },
    {
     "name": "stderr",
     "output_type": "stream",
     "text": [
      " 89%|████████▊ | 3349/3775 [03:13<00:21, 19.43it/s]"
     ]
    },
    {
     "name": "stdout",
     "output_type": "stream",
     "text": [
      "1 Trace(s) in Stream:\n",
      "Z4.CP09..BHZ | 2012-12-23T00:00:00.005500Z - 2012-12-23T23:59:59.005500Z | 1.0 Hz, 86400 samples\n",
      "1 Trace(s) in Stream:\n",
      "Z4.CP09..BH2 | 2012-08-06T00:00:00.012300Z - 2012-08-06T23:59:59.012300Z | 1.0 Hz, 86400 samples\n",
      "1 Trace(s) in Stream:\n",
      "Z4.CP09..BH2 | 2013-03-14T00:00:00.022400Z - 2013-03-14T23:59:59.022400Z | 1.0 Hz, 86400 samples\n",
      "1 Trace(s) in Stream:\n",
      "Z4.CP09..BH1 | 2012-06-20T00:00:00.006500Z - 2012-06-20T23:59:59.006500Z | 1.0 Hz, 86400 samples\n",
      "1 Trace(s) in Stream:\n",
      "Z4.CP09..BHZ | 2013-01-18T00:00:00.019800Z - 2013-01-18T23:59:59.019800Z | 1.0 Hz, 86400 samples\n"
     ]
    },
    {
     "name": "stderr",
     "output_type": "stream",
     "text": [
      " 89%|████████▉ | 3355/3775 [03:13<00:22, 19.04it/s]"
     ]
    },
    {
     "name": "stdout",
     "output_type": "stream",
     "text": [
      "1 Trace(s) in Stream:\n",
      "Z4.CP09..BH2 | 2012-10-24T00:00:00.005000Z - 2012-10-24T23:59:59.005000Z | 1.0 Hz, 86400 samples\n",
      "1 Trace(s) in Stream:\n",
      "Z4.CP09..BH1 | 2012-12-05T00:00:00.012800Z - 2012-12-05T23:59:59.012800Z | 1.0 Hz, 86400 samples\n",
      "1 Trace(s) in Stream:\n",
      "Z4.CP09..BH2 | 2012-06-16T00:00:00.008100Z - 2012-06-16T23:59:59.008100Z | 1.0 Hz, 86400 samples\n",
      "1 Trace(s) in Stream:\n",
      "Z4.CP09..BHZ | 2013-02-05T00:00:00.012500Z - 2013-02-05T23:59:59.012500Z | 1.0 Hz, 86400 samples\n"
     ]
    },
    {
     "name": "stderr",
     "output_type": "stream",
     "text": [
      "\r",
      " 89%|████████▉ | 3357/3775 [03:13<00:22, 18.79it/s]"
     ]
    },
    {
     "name": "stdout",
     "output_type": "stream",
     "text": [
      "1 Trace(s) in Stream:\n",
      "Z4.CP09..BHZ | 2012-05-27T00:00:00.016300Z - 2012-05-27T23:59:59.016300Z | 1.0 Hz, 86400 samples\n",
      "1 Trace(s) in Stream:\n",
      "Z4.CP09..BHZ | 2012-09-14T00:00:00.021300Z - 2012-09-14T23:59:59.021300Z | 1.0 Hz, 86400 samples\n",
      "1 Trace(s) in Stream:\n",
      "Z4.CP09..BHZ | 2013-01-05T00:00:00.000100Z - 2013-01-05T23:59:59.000100Z | 1.0 Hz, 86400 samples\n",
      "1 Trace(s) in Stream:\n",
      "Z4.CP09..BHZ | 2013-03-06T00:00:00.000600Z - 2013-03-06T23:59:59.000600Z | 1.0 Hz, 86400 samples\n",
      "1 Trace(s) in Stream:\n",
      "Z4.CP09..BHZ | 2012-08-19T00:00:00.007000Z - 2012-08-19T23:59:59.007000Z | 1.0 Hz, 86400 samples\n"
     ]
    },
    {
     "name": "stderr",
     "output_type": "stream",
     "text": [
      " 89%|████████▉ | 3364/3775 [03:14<00:21, 19.25it/s]"
     ]
    },
    {
     "name": "stdout",
     "output_type": "stream",
     "text": [
      "1 Trace(s) in Stream:\n",
      "Z4.CP09..BHZ | 2012-08-23T00:00:00.005300Z - 2012-08-23T23:59:59.005300Z | 1.0 Hz, 86400 samples\n",
      "1 Trace(s) in Stream:\n",
      "Z4.CP09..BH1 | 2012-07-31T00:00:00.014700Z - 2012-07-31T23:59:59.014700Z | 1.0 Hz, 86400 samples\n",
      "1 Trace(s) in Stream:\n",
      "Z4.CP09..BH2 | 2012-09-21T00:00:00.018500Z - 2012-09-21T23:59:59.018500Z | 1.0 Hz, 86400 samples\n",
      "1 Trace(s) in Stream:\n",
      "Z4.CP09..BHZ | 2012-06-04T00:00:00.013000Z - 2012-06-04T23:59:59.013000Z | 1.0 Hz, 86400 samples\n"
     ]
    },
    {
     "name": "stderr",
     "output_type": "stream",
     "text": [
      "\r",
      " 89%|████████▉ | 3367/3775 [03:14<00:22, 18.29it/s]"
     ]
    },
    {
     "name": "stdout",
     "output_type": "stream",
     "text": [
      "1 Trace(s) in Stream:\n",
      "Z4.CP09..BH1 | 2012-07-19T00:00:00.019600Z - 2012-07-19T23:59:59.019600Z | 1.0 Hz, 86400 samples\n",
      "1 Trace(s) in Stream:\n",
      "Z4.CP09..BH2 | 2012-07-30T00:00:00.015100Z - 2012-07-30T23:59:59.015100Z | 1.0 Hz, 86400 samples\n",
      "1 Trace(s) in Stream:\n",
      "Z4.CP09..BHZ | 2012-08-05T00:00:00.012700Z - 2012-08-05T23:59:59.012700Z | 1.0 Hz, 86400 samples\n",
      "1 Trace(s) in Stream:\n",
      "Z4.CP09..BH1 | 2012-05-28T00:00:00.015900Z - 2012-05-28T23:59:59.015900Z | 1.0 Hz, 86400 samples\n",
      "1 Trace(s) in Stream:\n",
      "Z4.CP09..BH2 | 2012-10-16T00:00:00.008200Z - 2012-10-16T23:59:59.008200Z | 1.0 Hz, 86400 samples\n"
     ]
    },
    {
     "name": "stderr",
     "output_type": "stream",
     "text": [
      " 89%|████████▉ | 3371/3775 [03:14<00:23, 17.54it/s]"
     ]
    },
    {
     "name": "stdout",
     "output_type": "stream",
     "text": [
      "1 Trace(s) in Stream:\n",
      "Z4.CP09..BH1 | 2012-08-10T00:00:00.010600Z - 2012-08-10T23:59:59.010600Z | 1.0 Hz, 86400 samples\n",
      "1 Trace(s) in Stream:\n",
      "Z4.CP09..BHZ | 2013-02-13T00:00:00.009200Z - 2013-02-13T23:59:59.009200Z | 1.0 Hz, 86400 samples\n",
      "1 Trace(s) in Stream:\n",
      "Z4.CP09..BH2 | 2012-11-29T00:00:00.015300Z - 2012-11-29T23:59:59.015300Z | 1.0 Hz, 86400 samples\n",
      "1 Trace(s) in Stream:\n",
      "Z4.CP09..BHZ | 2012-12-24T00:00:00.005000Z - 2012-12-24T23:59:59.005000Z | 1.0 Hz, 86400 samples\n"
     ]
    },
    {
     "name": "stderr",
     "output_type": "stream",
     "text": [
      " 89%|████████▉ | 3376/3775 [03:14<00:22, 18.07it/s]"
     ]
    },
    {
     "name": "stdout",
     "output_type": "stream",
     "text": [
      "1 Trace(s) in Stream:\n",
      "Z4.CP09..BHZ | 2012-05-10T00:00:00.023200Z - 2012-05-10T23:59:59.023200Z | 1.0 Hz, 86400 samples\n",
      "1 Trace(s) in Stream:\n",
      "Z4.CP09..BH2 | 2012-11-14T00:00:00.021400Z - 2012-11-14T23:59:59.021400Z | 1.0 Hz, 86400 samples\n",
      "1 Trace(s) in Stream:\n",
      "Z4.CP09..BH1 | 2012-09-14T00:00:00.021300Z - 2012-09-14T23:59:59.021300Z | 1.0 Hz, 86400 samples\n",
      "1 Trace(s) in Stream:\n",
      "Z4.CP09..BH1 | 2012-08-18T00:00:00.007400Z - 2012-08-18T23:59:59.007400Z | 1.0 Hz, 86400 samples\n"
     ]
    },
    {
     "name": "stderr",
     "output_type": "stream",
     "text": [
      " 90%|████████▉ | 3380/3775 [03:15<00:24, 16.45it/s]"
     ]
    },
    {
     "name": "stdout",
     "output_type": "stream",
     "text": [
      "1 Trace(s) in Stream:\n",
      "Z4.CP09..BH1 | 2012-11-07T00:00:00.024300Z - 2012-11-07T23:59:59.024300Z | 1.0 Hz, 86400 samples\n",
      "1 Trace(s) in Stream:\n",
      "Z4.CP09..BH1 | 2012-12-11T00:00:00.010400Z - 2012-12-11T23:59:59.010400Z | 1.0 Hz, 86400 samples\n",
      "1 Trace(s) in Stream:\n",
      "Z4.CP09..BH1 | 2012-11-06T00:00:00.024700Z - 2012-11-06T23:59:59.024700Z | 1.0 Hz, 86400 samples\n"
     ]
    },
    {
     "name": "stderr",
     "output_type": "stream",
     "text": [
      " 90%|████████▉ | 3385/3775 [03:15<00:21, 18.08it/s]"
     ]
    },
    {
     "name": "stdout",
     "output_type": "stream",
     "text": [
      "1 Trace(s) in Stream:\n",
      "Z4.CP09..BHZ | 2013-02-24T00:00:00.004700Z - 2013-02-24T23:59:59.004700Z | 1.0 Hz, 86400 samples\n",
      "1 Trace(s) in Stream:\n",
      "Z4.CP09..BH1 | 2013-03-14T00:00:00.022400Z - 2013-03-14T23:59:59.022400Z | 1.0 Hz, 86400 samples\n",
      "1 Trace(s) in Stream:\n",
      "Z4.CP09..BHZ | 2012-07-03T00:00:00.001200Z - 2012-07-03T23:59:59.001200Z | 1.0 Hz, 86400 samples\n",
      "1 Trace(s) in Stream:\n",
      "Z4.CP09..BHZ | 2012-06-30T00:00:00.002400Z - 2012-06-30T23:59:59.002400Z | 1.0 Hz, 86400 samples\n",
      "1 Trace(s) in Stream:\n",
      "Z4.CP09..BH2 | 2012-07-16T00:00:00.020800Z - 2012-07-16T23:59:59.020800Z | 1.0 Hz, 86400 samples\n"
     ]
    },
    {
     "name": "stderr",
     "output_type": "stream",
     "text": [
      " 90%|████████▉ | 3389/3775 [03:15<00:21, 17.66it/s]"
     ]
    },
    {
     "name": "stdout",
     "output_type": "stream",
     "text": [
      "1 Trace(s) in Stream:\n",
      "Z4.CP09..BHZ | 2012-09-03T00:00:00.000800Z - 2012-09-03T23:59:59.000800Z | 1.0 Hz, 86400 samples\n",
      "1 Trace(s) in Stream:\n",
      "Z4.CP09..BH1 | 2012-05-25T00:00:00.017100Z - 2012-05-25T23:59:59.017100Z | 1.0 Hz, 86400 samples\n",
      "1 Trace(s) in Stream:\n",
      "Z4.CP09..BH1 | 2012-06-15T00:00:00.008500Z - 2012-06-15T23:59:59.008500Z | 1.0 Hz, 86400 samples\n",
      "1 Trace(s) in Stream:\n",
      "Z4.CP09..BH2 | 2012-05-28T00:00:00.015900Z - 2012-05-28T23:59:59.015900Z | 1.0 Hz, 86400 samples\n",
      "1 Trace(s) in Stream:\n",
      "Z4.CP09..BH1 | 2012-12-13T00:00:00.009500Z - 2012-12-13T23:59:59.009500Z | 1.0 Hz, 86400 samples\n"
     ]
    },
    {
     "name": "stderr",
     "output_type": "stream",
     "text": [
      " 90%|████████▉ | 3394/3775 [03:15<00:20, 19.03it/s]"
     ]
    },
    {
     "name": "stdout",
     "output_type": "stream",
     "text": [
      "1 Trace(s) in Stream:\n",
      "Z4.CP09..BH1 | 2013-03-03T00:00:00.001800Z - 2013-03-03T23:59:59.001800Z | 1.0 Hz, 86400 samples\n",
      "1 Trace(s) in Stream:\n",
      "Z4.CP09..BH2 | 2012-06-02T00:00:00.013800Z - 2012-06-02T23:59:59.013800Z | 1.0 Hz, 86400 samples\n",
      "1 Trace(s) in Stream:\n",
      "Z4.CP09..BH2 | 2012-10-13T00:00:00.009500Z - 2012-10-13T23:59:59.009500Z | 1.0 Hz, 86400 samples\n",
      "1 Trace(s) in Stream:\n",
      "Z4.CP09..BHZ | 2013-02-08T00:00:00.011200Z - 2013-02-08T23:59:59.011200Z | 1.0 Hz, 86400 samples\n",
      "1 Trace(s) in Stream:\n",
      "Z4.CP09..BH2 | 2012-07-10T00:00:00.023300Z - 2012-07-10T23:59:59.023300Z | 1.0 Hz, 86400 samples\n"
     ]
    },
    {
     "name": "stderr",
     "output_type": "stream",
     "text": [
      " 90%|█████████ | 3398/3775 [03:16<00:21, 17.81it/s]"
     ]
    },
    {
     "name": "stdout",
     "output_type": "stream",
     "text": [
      "1 Trace(s) in Stream:\n",
      "Z4.CP09..BH1 | 2012-10-05T00:00:00.012700Z - 2012-10-05T23:59:59.012700Z | 1.0 Hz, 86400 samples\n",
      "1 Trace(s) in Stream:\n",
      "Z4.CP09..BHZ | 2012-07-29T00:00:00.015500Z - 2012-07-29T23:59:59.015500Z | 1.0 Hz, 86400 samples\n",
      "1 Trace(s) in Stream:\n",
      "Z4.CP09..BH2 | 2012-05-12T00:00:00.022400Z - 2012-05-12T23:59:59.022400Z | 1.0 Hz, 86400 samples\n",
      "1 Trace(s) in Stream:\n",
      "Z4.CP09..BH2 | 2013-02-26T00:00:00.003900Z - 2013-02-26T23:59:59.003900Z | 1.0 Hz, 86400 samples\n"
     ]
    },
    {
     "name": "stderr",
     "output_type": "stream",
     "text": [
      " 90%|█████████ | 3403/3775 [03:16<00:20, 18.17it/s]"
     ]
    },
    {
     "name": "stdout",
     "output_type": "stream",
     "text": [
      "1 Trace(s) in Stream:\n",
      "Z4.CP09..BH1 | 2012-06-05T00:00:00.012600Z - 2012-06-05T23:59:59.012600Z | 1.0 Hz, 86400 samples\n",
      "1 Trace(s) in Stream:\n",
      "Z4.CP09..BHZ | 2013-01-16T00:00:00.020600Z - 2013-01-16T23:59:59.020600Z | 1.0 Hz, 86400 samples\n",
      "1 Trace(s) in Stream:\n",
      "Z4.CP09..BH2 | 2012-08-23T00:00:00.005300Z - 2012-08-23T23:59:59.005300Z | 1.0 Hz, 86400 samples\n",
      "1 Trace(s) in Stream:\n",
      "Z4.CP09..BH2 | 2012-08-21T00:00:00.006100Z - 2012-08-21T23:59:59.006100Z | 1.0 Hz, 86400 samples\n",
      "1 Trace(s) in Stream:\n",
      "Z4.CP09..BH2 | 2012-07-31T00:00:00.014700Z - 2012-07-31T23:59:59.014700Z | 1.0 Hz, 86400 samples\n",
      "1 Trace(s) in Stream:\n",
      "Z4.CP09..BH2 | 2012-12-04T00:00:00.013200Z - 2012-12-04T23:59:59.013200Z | 1.0 Hz, 86400 samples\n"
     ]
    },
    {
     "name": "stderr",
     "output_type": "stream",
     "text": [
      " 90%|█████████ | 3408/3775 [03:16<00:18, 19.57it/s]"
     ]
    },
    {
     "name": "stdout",
     "output_type": "stream",
     "text": [
      "1 Trace(s) in Stream:\n",
      "Z4.CP09..BH2 | 2012-09-22T00:00:00.018100Z - 2012-09-22T23:59:59.018100Z | 1.0 Hz, 86400 samples\n",
      "1 Trace(s) in Stream:\n",
      "Z4.CP09..BH1 | 2012-10-14T00:00:00.009100Z - 2012-10-14T23:59:59.009100Z | 1.0 Hz, 86400 samples\n",
      "1 Trace(s) in Stream:\n",
      "Z4.CP09..BH2 | 2012-07-18T00:00:00.020000Z - 2012-07-18T23:59:59.020000Z | 1.0 Hz, 86400 samples\n",
      "1 Trace(s) in Stream:\n",
      "Z4.CP09..BHZ | 2012-05-11T00:00:00.022800Z - 2012-05-11T23:59:59.022800Z | 1.0 Hz, 86400 samples\n"
     ]
    },
    {
     "name": "stderr",
     "output_type": "stream",
     "text": [
      " 90%|█████████ | 3413/3775 [03:16<00:18, 19.34it/s]"
     ]
    },
    {
     "name": "stdout",
     "output_type": "stream",
     "text": [
      "1 Trace(s) in Stream:\n",
      "Z4.CP09..BH2 | 2013-02-10T00:00:00.010400Z - 2013-02-10T23:59:59.010400Z | 1.0 Hz, 86400 samples\n",
      "1 Trace(s) in Stream:\n",
      "Z4.CP09..BHZ | 2013-01-30T00:00:00.014900Z - 2013-01-30T23:59:59.014900Z | 1.0 Hz, 86400 samples\n",
      "1 Trace(s) in Stream:\n",
      "Z4.CP09..BHZ | 2012-12-03T00:00:00.013600Z - 2012-12-03T23:59:59.013600Z | 1.0 Hz, 86400 samples\n",
      "1 Trace(s) in Stream:\n",
      "Z4.CP09..BH1 | 2012-10-02T00:00:00.014000Z - 2012-10-02T23:59:59.014000Z | 1.0 Hz, 86400 samples\n",
      "1 Trace(s) in Stream:\n",
      "Z4.CP09..BHZ | 2013-02-26T00:00:00.003900Z - 2013-02-26T23:59:59.003900Z | 1.0 Hz, 86400 samples\n"
     ]
    },
    {
     "name": "stderr",
     "output_type": "stream",
     "text": [
      " 91%|█████████ | 3417/3775 [03:17<00:18, 19.26it/s]"
     ]
    },
    {
     "name": "stdout",
     "output_type": "stream",
     "text": [
      "1 Trace(s) in Stream:\n",
      "Z4.CP09..BHZ | 2012-08-03T00:00:00.013500Z - 2012-08-03T23:59:59.013500Z | 1.0 Hz, 86400 samples\n",
      "1 Trace(s) in Stream:\n",
      "Z4.CP09..BHZ | 2012-11-30T00:00:00.014900Z - 2012-11-30T23:59:59.014900Z | 1.0 Hz, 86400 samples\n",
      "1 Trace(s) in Stream:\n",
      "Z4.CP09..BH2 | 2012-06-20T00:00:00.006500Z - 2012-06-20T23:59:59.006500Z | 1.0 Hz, 86400 samples\n",
      "1 Trace(s) in Stream:\n",
      "Z4.CP09..BH2 | 2012-10-31T00:00:00.002100Z - 2012-10-31T23:59:59.002100Z | 1.0 Hz, 86400 samples\n"
     ]
    },
    {
     "name": "stderr",
     "output_type": "stream",
     "text": [
      " 91%|█████████ | 3422/3775 [03:17<00:18, 19.57it/s]"
     ]
    },
    {
     "name": "stdout",
     "output_type": "stream",
     "text": [
      "1 Trace(s) in Stream:\n",
      "Z4.CP09..BH2 | 2012-06-06T00:00:00.012200Z - 2012-06-06T23:59:59.012200Z | 1.0 Hz, 86400 samples\n",
      "1 Trace(s) in Stream:\n",
      "Z4.CP09..BH1 | 2012-08-03T00:00:00.013500Z - 2012-08-03T23:59:59.013500Z | 1.0 Hz, 86400 samples\n",
      "1 Trace(s) in Stream:\n",
      "Z4.CP09..BH2 | 2012-05-15T00:00:00.021200Z - 2012-05-15T23:59:59.021200Z | 1.0 Hz, 86400 samples\n",
      "1 Trace(s) in Stream:\n",
      "Z4.CP09..BH1 | 2012-11-02T00:00:00.001300Z - 2012-11-02T23:59:59.001300Z | 1.0 Hz, 86400 samples\n",
      "1 Trace(s) in Stream:\n",
      "Z4.CP09..BH2 | 2012-09-12T00:00:00.022100Z - 2012-09-12T23:59:59.022100Z | 1.0 Hz, 86400 samples\n"
     ]
    },
    {
     "name": "stderr",
     "output_type": "stream",
     "text": [
      " 91%|█████████ | 3426/3775 [03:17<00:19, 18.33it/s]"
     ]
    },
    {
     "name": "stdout",
     "output_type": "stream",
     "text": [
      "1 Trace(s) in Stream:\n",
      "Z4.CP09..BH1 | 2013-02-04T00:00:00.012900Z - 2013-02-04T23:59:59.012900Z | 1.0 Hz, 86400 samples\n",
      "1 Trace(s) in Stream:\n",
      "Z4.CP09..BHZ | 2013-01-20T00:00:00.019000Z - 2013-01-20T23:59:59.019000Z | 1.0 Hz, 86400 samples\n",
      "1 Trace(s) in Stream:\n",
      "Z4.CP09..BH1 | 2013-02-01T00:00:00.014100Z - 2013-02-01T23:59:59.014100Z | 1.0 Hz, 86400 samples\n",
      "1 Trace(s) in Stream:\n",
      "Z4.CP09..BHZ | 2012-05-07T00:00:00.024500Z - 2012-05-07T23:59:59.024500Z | 1.0 Hz, 86400 samples\n"
     ]
    },
    {
     "name": "stderr",
     "output_type": "stream",
     "text": [
      " 91%|█████████ | 3431/3775 [03:17<00:17, 19.47it/s]"
     ]
    },
    {
     "name": "stdout",
     "output_type": "stream",
     "text": [
      "1 Trace(s) in Stream:\n",
      "Z4.CP09..BH1 | 2012-05-22T00:00:00.018300Z - 2012-05-22T23:59:59.018300Z | 1.0 Hz, 86400 samples\n",
      "1 Trace(s) in Stream:\n",
      "Z4.CP09..BHZ | 2012-12-20T00:00:00.006700Z - 2012-12-20T23:59:59.006700Z | 1.0 Hz, 86400 samples\n",
      "1 Trace(s) in Stream:\n",
      "Z4.CP09..BHZ | 2012-11-27T00:00:00.016100Z - 2012-11-27T23:59:59.016100Z | 1.0 Hz, 86400 samples\n",
      "1 Trace(s) in Stream:\n",
      "Z4.CP09..BHZ | 2012-06-24T00:00:00.004800Z - 2012-06-24T23:59:59.004800Z | 1.0 Hz, 86400 samples\n",
      "1 Trace(s) in Stream:\n",
      "Z4.CP09..BHZ | 2012-11-09T00:00:00.023400Z - 2012-11-09T23:59:59.023400Z | 1.0 Hz, 86400 samples\n"
     ]
    },
    {
     "name": "stderr",
     "output_type": "stream",
     "text": [
      " 91%|█████████ | 3435/3775 [03:18<00:17, 19.22it/s]"
     ]
    },
    {
     "name": "stdout",
     "output_type": "stream",
     "text": [
      "1 Trace(s) in Stream:\n",
      "Z4.CP09..BH2 | 2012-07-06T00:00:00.024900Z - 2012-07-06T23:59:59.024900Z | 1.0 Hz, 86400 samples\n",
      "1 Trace(s) in Stream:\n",
      "Z4.CP09..BHZ | 2012-06-02T00:00:00.013800Z - 2012-06-02T23:59:59.013800Z | 1.0 Hz, 86400 samples\n",
      "1 Trace(s) in Stream:\n",
      "Z4.CP09..BHZ | 2012-10-12T00:00:00.009900Z - 2012-10-12T23:59:59.009900Z | 1.0 Hz, 86400 samples\n",
      "1 Trace(s) in Stream:\n",
      "Z4.CP09..BHZ | 2013-01-25T00:00:00.017000Z - 2013-01-25T23:59:59.017000Z | 1.0 Hz, 86400 samples\n"
     ]
    },
    {
     "name": "stderr",
     "output_type": "stream",
     "text": [
      " 91%|█████████ | 3439/3775 [03:18<00:18, 18.14it/s]"
     ]
    },
    {
     "name": "stdout",
     "output_type": "stream",
     "text": [
      "1 Trace(s) in Stream:\n",
      "Z4.CP09..BH1 | 2012-08-24T00:00:00.004900Z - 2012-08-24T23:59:59.004900Z | 1.0 Hz, 86400 samples\n",
      "1 Trace(s) in Stream:\n",
      "Z4.CP09..BH1 | 2012-11-30T00:00:00.014900Z - 2012-11-30T23:59:59.014900Z | 1.0 Hz, 86400 samples\n",
      "1 Trace(s) in Stream:\n",
      "Z4.CP09..BHZ | 2012-09-16T00:00:00.020500Z - 2012-09-16T23:59:59.020500Z | 1.0 Hz, 86400 samples\n",
      "1 Trace(s) in Stream:\n",
      "Z4.CP09..BH2 | 2012-09-23T00:00:00.017600Z - 2012-09-23T23:59:59.017600Z | 1.0 Hz, 86400 samples\n"
     ]
    },
    {
     "name": "stderr",
     "output_type": "stream",
     "text": [
      " 91%|█████████ | 3444/3775 [03:18<00:18, 17.94it/s]"
     ]
    },
    {
     "name": "stdout",
     "output_type": "stream",
     "text": [
      "1 Trace(s) in Stream:\n",
      "Z4.CP09..BH2 | 2013-01-27T00:00:00.016200Z - 2013-01-27T23:59:59.016200Z | 1.0 Hz, 86400 samples\n",
      "1 Trace(s) in Stream:\n",
      "Z4.CP09..BH2 | 2013-02-11T00:00:00.010000Z - 2013-02-11T23:59:59.010000Z | 1.0 Hz, 86400 samples\n",
      "1 Trace(s) in Stream:\n",
      "Z4.CP09..BHZ | 2012-07-02T00:00:00.001600Z - 2012-07-02T23:59:59.001600Z | 1.0 Hz, 86400 samples\n",
      "1 Trace(s) in Stream:\n",
      "Z4.CP09..BH1 | 2012-12-08T00:00:00.011600Z - 2012-12-08T23:59:59.011600Z | 1.0 Hz, 86400 samples\n",
      "1 Trace(s) in Stream:\n",
      "Z4.CP09..BHZ | 2012-05-22T00:00:00.018300Z - 2012-05-22T23:59:59.018300Z | 1.0 Hz, 86400 samples\n"
     ]
    },
    {
     "name": "stderr",
     "output_type": "stream",
     "text": [
      " 91%|█████████▏| 3448/3775 [03:18<00:18, 17.69it/s]"
     ]
    },
    {
     "name": "stdout",
     "output_type": "stream",
     "text": [
      "1 Trace(s) in Stream:\n",
      "Z4.CP09..BH2 | 2012-05-24T00:00:00.017500Z - 2012-05-24T23:59:59.017500Z | 1.0 Hz, 86400 samples\n",
      "1 Trace(s) in Stream:\n",
      "Z4.CP09..BHZ | 2013-01-28T00:00:00.015700Z - 2013-01-28T23:59:59.015700Z | 1.0 Hz, 86400 samples\n",
      "1 Trace(s) in Stream:\n",
      "Z4.CP09..BH1 | 2013-03-11T00:00:00.023600Z - 2013-03-11T23:59:59.023600Z | 1.0 Hz, 86400 samples\n",
      "1 Trace(s) in Stream:\n",
      "Z4.CP09..BH1 | 2012-08-04T00:00:00.013100Z - 2012-08-04T23:59:59.013100Z | 1.0 Hz, 86400 samples\n"
     ]
    },
    {
     "name": "stderr",
     "output_type": "stream",
     "text": [
      " 91%|█████████▏| 3452/3775 [03:19<00:19, 16.99it/s]"
     ]
    },
    {
     "name": "stdout",
     "output_type": "stream",
     "text": [
      "1 Trace(s) in Stream:\n",
      "Z4.CP09..BH2 | 2013-01-17T00:00:00.020200Z - 2013-01-17T23:59:59.020200Z | 1.0 Hz, 86400 samples\n",
      "1 Trace(s) in Stream:\n",
      "Z4.CP09..BH1 | 2012-12-17T00:00:00.007900Z - 2012-12-17T23:59:59.007900Z | 1.0 Hz, 86400 samples\n",
      "1 Trace(s) in Stream:\n",
      "Z4.CP09..BH1 | 2012-06-06T00:00:00.012200Z - 2012-06-06T23:59:59.012200Z | 1.0 Hz, 86400 samples\n",
      "1 Trace(s) in Stream:\n",
      "Z4.CP09..BH1 | 2013-01-01T00:00:00.001800Z - 2013-01-01T23:59:59.001800Z | 1.0 Hz, 86400 samples\n"
     ]
    },
    {
     "name": "stderr",
     "output_type": "stream",
     "text": [
      " 92%|█████████▏| 3456/3775 [03:19<00:18, 17.42it/s]"
     ]
    },
    {
     "name": "stdout",
     "output_type": "stream",
     "text": [
      "1 Trace(s) in Stream:\n",
      "Z4.CP09..BH1 | 2013-01-25T00:00:00.017000Z - 2013-01-25T23:59:59.017000Z | 1.0 Hz, 86400 samples\n",
      "1 Trace(s) in Stream:\n",
      "Z4.CP09..BHZ | 2013-01-15T00:00:00.021100Z - 2013-01-15T23:59:59.021100Z | 1.0 Hz, 86400 samples\n",
      "1 Trace(s) in Stream:\n",
      "Z4.CP09..BH1 | 2013-03-16T00:00:00.021500Z - 2013-03-16T23:59:59.021500Z | 1.0 Hz, 86400 samples\n"
     ]
    },
    {
     "name": "stderr",
     "output_type": "stream",
     "text": [
      " 92%|█████████▏| 3460/3775 [03:19<00:19, 16.25it/s]"
     ]
    },
    {
     "name": "stdout",
     "output_type": "stream",
     "text": [
      "1 Trace(s) in Stream:\n",
      "Z4.CP09..BH1 | 2013-02-12T00:00:00.009600Z - 2013-02-12T23:59:59.009600Z | 1.0 Hz, 86400 samples\n",
      "1 Trace(s) in Stream:\n",
      "Z4.CP09..BH2 | 2012-11-04T00:00:00.000500Z - 2012-11-04T23:59:59.000500Z | 1.0 Hz, 86400 samples\n",
      "1 Trace(s) in Stream:\n",
      "Z4.CP09..BH2 | 2012-08-17T00:00:00.007800Z - 2012-08-17T23:59:59.007800Z | 1.0 Hz, 86400 samples\n",
      "1 Trace(s) in Stream:\n",
      "Z4.CP09..BH1 | 2012-11-25T00:00:00.016900Z - 2012-11-25T23:59:59.016900Z | 1.0 Hz, 86400 samples\n",
      "1 Trace(s) in Stream:\n",
      "Z4.CP09..BH2 | 2012-07-23T00:00:00.018000Z - 2012-07-23T23:59:59.018000Z | 1.0 Hz, 86400 samples\n"
     ]
    },
    {
     "name": "stderr",
     "output_type": "stream",
     "text": [
      " 92%|█████████▏| 3464/3775 [03:19<00:19, 16.06it/s]"
     ]
    },
    {
     "name": "stdout",
     "output_type": "stream",
     "text": [
      "1 Trace(s) in Stream:\n",
      "Z4.CP09..BH1 | 2012-06-26T00:00:00.004000Z - 2012-06-26T23:59:59.004000Z | 1.0 Hz, 86400 samples\n",
      "1 Trace(s) in Stream:\n",
      "Z4.CP09..BH1 | 2012-10-09T00:00:00.011100Z - 2012-10-09T23:59:59.011100Z | 1.0 Hz, 86400 samples\n",
      "1 Trace(s) in Stream:\n",
      "Z4.CP09..BH1 | 2012-11-29T00:00:00.015300Z - 2012-11-29T23:59:59.015300Z | 1.0 Hz, 86400 samples\n",
      "1 Trace(s) in Stream:\n",
      "Z4.CP09..BH2 | 2012-07-19T00:00:00.019600Z - 2012-07-19T23:59:59.019600Z | 1.0 Hz, 86400 samples\n"
     ]
    },
    {
     "name": "stderr",
     "output_type": "stream",
     "text": [
      " 92%|█████████▏| 3468/3775 [03:20<00:17, 17.62it/s]"
     ]
    },
    {
     "name": "stdout",
     "output_type": "stream",
     "text": [
      "1 Trace(s) in Stream:\n",
      "Z4.CP09..BH2 | 2013-02-05T00:00:00.012500Z - 2013-02-05T23:59:59.012500Z | 1.0 Hz, 86400 samples\n",
      "1 Trace(s) in Stream:\n",
      "Z4.CP09..BH1 | 2012-06-23T00:00:00.005200Z - 2012-06-23T23:59:59.005200Z | 1.0 Hz, 86400 samples\n",
      "1 Trace(s) in Stream:\n",
      "Z4.CP09..BHZ | 2012-09-10T00:00:00.023000Z - 2012-09-10T23:59:59.023000Z | 1.0 Hz, 86400 samples\n",
      "1 Trace(s) in Stream:\n",
      "Z4.CP09..BHZ | 2012-07-17T00:00:00.020400Z - 2012-07-17T23:59:59.020400Z | 1.0 Hz, 86400 samples\n"
     ]
    },
    {
     "name": "stderr",
     "output_type": "stream",
     "text": [
      " 92%|█████████▏| 3472/3775 [03:20<00:17, 17.80it/s]"
     ]
    },
    {
     "name": "stdout",
     "output_type": "stream",
     "text": [
      "1 Trace(s) in Stream:\n",
      "Z4.CP09..BH2 | 2012-09-09T00:00:00.023400Z - 2012-09-09T23:59:59.023400Z | 1.0 Hz, 86400 samples\n",
      "1 Trace(s) in Stream:\n",
      "Z4.CP09..BH1 | 2012-05-23T00:00:00.017900Z - 2012-05-23T23:59:59.017900Z | 1.0 Hz, 86400 samples\n",
      "1 Trace(s) in Stream:\n",
      "Z4.CP09..BH2 | 2013-01-19T00:00:00.019400Z - 2013-01-19T23:59:59.019400Z | 1.0 Hz, 86400 samples\n",
      "1 Trace(s) in Stream:\n",
      "Z4.CP09..BHZ | 2012-09-18T00:00:00.019700Z - 2012-09-18T23:59:59.019700Z | 1.0 Hz, 86400 samples\n"
     ]
    },
    {
     "name": "stderr",
     "output_type": "stream",
     "text": [
      " 92%|█████████▏| 3477/3775 [03:20<00:15, 19.11it/s]"
     ]
    },
    {
     "name": "stdout",
     "output_type": "stream",
     "text": [
      "1 Trace(s) in Stream:\n",
      "Z4.CP09..BH1 | 2012-12-29T00:00:00.003000Z - 2012-12-29T23:59:59.003000Z | 1.0 Hz, 86400 samples\n",
      "1 Trace(s) in Stream:\n",
      "Z4.CP09..BHZ | 2012-08-08T00:00:00.011400Z - 2012-08-08T23:59:59.011400Z | 1.0 Hz, 86400 samples\n",
      "1 Trace(s) in Stream:\n",
      "Z4.CP09..BH2 | 2012-11-15T00:00:00.021000Z - 2012-11-15T23:59:59.021000Z | 1.0 Hz, 86400 samples\n",
      "1 Trace(s) in Stream:\n",
      "Z4.CP09..BHZ | 2012-06-11T00:00:00.010200Z - 2012-06-11T23:59:59.010200Z | 1.0 Hz, 86400 samples\n",
      "1 Trace(s) in Stream:\n",
      "Z4.CP09..BH1 | 2012-11-16T00:00:00.020600Z - 2012-11-16T23:59:59.020600Z | 1.0 Hz, 86400 samples\n"
     ]
    },
    {
     "name": "stderr",
     "output_type": "stream",
     "text": [
      " 92%|█████████▏| 3481/3775 [03:20<00:15, 18.62it/s]"
     ]
    },
    {
     "name": "stdout",
     "output_type": "stream",
     "text": [
      "1 Trace(s) in Stream:\n",
      "Z4.CP09..BH1 | 2012-07-11T00:00:00.022900Z - 2012-07-11T23:59:59.022900Z | 1.0 Hz, 86400 samples\n",
      "1 Trace(s) in Stream:\n",
      "Z4.CP09..BH2 | 2012-10-18T00:00:00.007400Z - 2012-10-18T23:59:59.007400Z | 1.0 Hz, 86400 samples\n",
      "1 Trace(s) in Stream:\n",
      "Z4.CP09..BHZ | 2012-05-12T00:00:00.022400Z - 2012-05-12T23:59:59.022400Z | 1.0 Hz, 86400 samples\n",
      "1 Trace(s) in Stream:\n",
      "Z4.CP09..BH2 | 2012-10-07T00:00:00.011800Z - 2012-10-07T23:59:59.011800Z | 1.0 Hz, 86400 samples\n"
     ]
    },
    {
     "name": "stderr",
     "output_type": "stream",
     "text": [
      " 92%|█████████▏| 3486/3775 [03:20<00:15, 18.10it/s]"
     ]
    },
    {
     "name": "stdout",
     "output_type": "stream",
     "text": [
      "1 Trace(s) in Stream:\n",
      "Z4.CP09..BH2 | 2012-10-04T00:00:00.013200Z - 2012-10-04T23:59:59.013200Z | 1.0 Hz, 86400 samples\n",
      "1 Trace(s) in Stream:\n",
      "Z4.CP09..BHZ | 2013-03-12T00:00:00.023200Z - 2013-03-12T23:59:59.023200Z | 1.0 Hz, 86400 samples\n",
      "1 Trace(s) in Stream:\n",
      "Z4.CP09..BH1 | 2012-06-27T00:00:00.003600Z - 2012-06-27T23:59:59.003600Z | 1.0 Hz, 86400 samples\n",
      "1 Trace(s) in Stream:\n",
      "Z4.CP09..BHZ | 2012-08-15T00:00:00.008600Z - 2012-08-15T23:59:59.008600Z | 1.0 Hz, 86400 samples\n",
      "1 Trace(s) in Stream:\n",
      "Z4.CP09..BHZ | 2012-10-28T00:00:00.003300Z - 2012-10-28T23:59:59.003300Z | 1.0 Hz, 86400 samples\n"
     ]
    },
    {
     "name": "stderr",
     "output_type": "stream",
     "text": [
      " 92%|█████████▏| 3490/3775 [03:21<00:15, 18.63it/s]"
     ]
    },
    {
     "name": "stdout",
     "output_type": "stream",
     "text": [
      "1 Trace(s) in Stream:\n",
      "Z4.CP09..BHZ | 2012-11-08T00:00:00.023800Z - 2012-11-08T23:59:59.023800Z | 1.0 Hz, 86400 samples\n",
      "1 Trace(s) in Stream:\n",
      "Z4.CP09..BH1 | 2012-06-14T00:00:00.008900Z - 2012-06-14T23:59:59.008900Z | 1.0 Hz, 86400 samples\n",
      "1 Trace(s) in Stream:\n",
      "Z4.CP09..BH2 | 2013-01-05T00:00:00.000100Z - 2013-01-05T23:59:59.000100Z | 1.0 Hz, 86400 samples\n",
      "1 Trace(s) in Stream:\n",
      "Z4.CP09..BH2 | 2012-07-26T00:00:00.016800Z - 2012-07-26T23:59:59.016800Z | 1.0 Hz, 86400 samples\n"
     ]
    },
    {
     "name": "stderr",
     "output_type": "stream",
     "text": [
      " 93%|█████████▎| 3495/3775 [03:21<00:14, 19.06it/s]"
     ]
    },
    {
     "name": "stdout",
     "output_type": "stream",
     "text": [
      "1 Trace(s) in Stream:\n",
      "Z4.CP09..BHZ | 2012-08-02T00:00:00.013900Z - 2012-08-02T23:59:59.013900Z | 1.0 Hz, 86400 samples\n",
      "1 Trace(s) in Stream:\n",
      "Z4.CP09..BHZ | 2012-12-13T00:00:00.009500Z - 2012-12-13T23:59:59.009500Z | 1.0 Hz, 86400 samples\n",
      "1 Trace(s) in Stream:\n",
      "Z4.CP09..BH2 | 2012-08-15T00:00:00.008600Z - 2012-08-15T23:59:59.008600Z | 1.0 Hz, 86400 samples\n",
      "1 Trace(s) in Stream:\n",
      "Z4.CP09..BHZ | 2012-10-17T00:00:00.007800Z - 2012-10-17T23:59:59.007800Z | 1.0 Hz, 86400 samples\n",
      "1 Trace(s) in Stream:\n",
      "Z4.CP09..BH1 | 2012-12-23T00:00:00.005500Z - 2012-12-23T23:59:59.005500Z | 1.0 Hz, 86400 samples\n",
      "1 Trace(s) in Stream:\n",
      "Z4.CP09..BH2 | 2012-06-27T00:00:00.003600Z - 2012-06-27T23:59:59.003600Z | 1.0 Hz, 86400 samples\n"
     ]
    },
    {
     "name": "stderr",
     "output_type": "stream",
     "text": [
      " 93%|█████████▎| 3501/3775 [03:21<00:15, 17.25it/s]"
     ]
    },
    {
     "name": "stdout",
     "output_type": "stream",
     "text": [
      "1 Trace(s) in Stream:\n",
      "Z4.CP09..BH2 | 2012-10-01T00:00:00.014400Z - 2012-10-01T23:59:59.014400Z | 1.0 Hz, 86400 samples\n",
      "1 Trace(s) in Stream:\n",
      "Z4.CP09..BH1 | 2012-06-10T00:00:00.010600Z - 2012-06-10T23:59:59.010600Z | 1.0 Hz, 86400 samples\n",
      "1 Trace(s) in Stream:\n",
      "Z4.CP09..BH1 | 2012-10-19T00:00:00.007000Z - 2012-10-19T23:59:59.007000Z | 1.0 Hz, 86400 samples\n",
      "1 Trace(s) in Stream:\n",
      "Z4.CP09..BH2 | 2012-05-22T00:00:00.018300Z - 2012-05-22T23:59:59.018300Z | 1.0 Hz, 86400 samples\n"
     ]
    },
    {
     "name": "stderr",
     "output_type": "stream",
     "text": [
      "\r",
      " 93%|█████████▎| 3504/3775 [03:21<00:14, 18.87it/s]"
     ]
    },
    {
     "name": "stdout",
     "output_type": "stream",
     "text": [
      "1 Trace(s) in Stream:\n",
      "Z4.CP09..BH1 | 2012-08-27T00:00:00.003700Z - 2012-08-27T23:59:59.003700Z | 1.0 Hz, 86400 samples\n",
      "1 Trace(s) in Stream:\n",
      "Z4.CP09..BH1 | 2012-05-14T00:00:00.021600Z - 2012-05-14T23:59:59.021600Z | 1.0 Hz, 86400 samples\n",
      "1 Trace(s) in Stream:\n",
      "Z4.CP09..BHZ | 2012-10-24T00:00:00.005000Z - 2012-10-24T23:59:59.005000Z | 1.0 Hz, 86400 samples\n",
      "1 Trace(s) in Stream:\n",
      "Z4.CP09..BHZ | 2012-09-28T00:00:00.015600Z - 2012-09-28T23:59:59.015600Z | 1.0 Hz, 86400 samples\n",
      "1 Trace(s) in Stream:\n",
      "Z4.CP09..BH1 | 2012-10-28T00:00:00.003300Z - 2012-10-28T23:59:59.003300Z | 1.0 Hz, 86400 samples\n"
     ]
    },
    {
     "name": "stderr",
     "output_type": "stream",
     "text": [
      " 93%|█████████▎| 3509/3775 [03:22<00:14, 18.56it/s]"
     ]
    },
    {
     "name": "stdout",
     "output_type": "stream",
     "text": [
      "1 Trace(s) in Stream:\n",
      "Z4.CP09..BH2 | 2013-01-10T00:00:00.023100Z - 2013-01-10T23:59:59.023100Z | 1.0 Hz, 86400 samples\n",
      "1 Trace(s) in Stream:\n",
      "Z4.CP09..BHZ | 2013-02-02T00:00:00.013700Z - 2013-02-02T23:59:59.013700Z | 1.0 Hz, 86400 samples\n",
      "1 Trace(s) in Stream:\n",
      "Z4.CP09..BHZ | 2013-03-07T00:00:00.000200Z - 2013-03-07T23:59:59.000200Z | 1.0 Hz, 86400 samples\n",
      "1 Trace(s) in Stream:\n",
      "Z4.CP09..BH2 | 2013-03-08T00:00:00.024800Z - 2013-03-08T23:59:59.024800Z | 1.0 Hz, 86400 samples\n"
     ]
    },
    {
     "name": "stderr",
     "output_type": "stream",
     "text": [
      " 93%|█████████▎| 3515/3775 [03:22<00:13, 19.77it/s]"
     ]
    },
    {
     "name": "stdout",
     "output_type": "stream",
     "text": [
      "1 Trace(s) in Stream:\n",
      "Z4.CP09..BH1 | 2012-08-31T00:00:00.002000Z - 2012-08-31T23:59:59.002000Z | 1.0 Hz, 86400 samples\n",
      "1 Trace(s) in Stream:\n",
      "Z4.CP09..BH1 | 2012-12-26T00:00:00.004200Z - 2012-12-26T23:59:59.004200Z | 1.0 Hz, 86400 samples\n",
      "1 Trace(s) in Stream:\n",
      "Z4.CP09..BHZ | 2013-03-03T00:00:00.001800Z - 2013-03-03T23:59:59.001800Z | 1.0 Hz, 86400 samples\n",
      "1 Trace(s) in Stream:\n",
      "Z4.CP09..BH1 | 2012-08-30T00:00:00.002500Z - 2012-08-30T23:59:59.002500Z | 1.0 Hz, 86400 samples\n",
      "1 Trace(s) in Stream:\n",
      "Z4.CP09..BHZ | 2012-10-10T00:00:00.010700Z - 2012-10-10T23:59:59.010700Z | 1.0 Hz, 86400 samples\n",
      "1 Trace(s) in Stream:\n",
      "Z4.CP09..BH2 | 2013-01-18T00:00:00.019800Z - 2013-01-18T23:59:59.019800Z | 1.0 Hz, 86400 samples\n"
     ]
    },
    {
     "name": "stderr",
     "output_type": "stream",
     "text": [
      "\r",
      " 93%|█████████▎| 3518/3775 [03:22<00:13, 19.14it/s]"
     ]
    },
    {
     "name": "stdout",
     "output_type": "stream",
     "text": [
      "1 Trace(s) in Stream:\n",
      "Z4.CP09..BH2 | 2012-09-06T00:00:00.024600Z - 2012-09-06T23:59:59.024600Z | 1.0 Hz, 86400 samples\n",
      "1 Trace(s) in Stream:\n",
      "Z4.CP09..BH1 | 2013-02-15T00:00:00.008400Z - 2013-02-15T23:59:59.008400Z | 1.0 Hz, 86400 samples\n",
      "1 Trace(s) in Stream:\n",
      "Z4.CP09..BHZ | 2012-07-04T00:00:00.000800Z - 2012-07-04T23:59:59.000800Z | 1.0 Hz, 86400 samples\n",
      "1 Trace(s) in Stream:\n",
      "Z4.CP09..BHZ | 2012-10-07T00:00:00.011800Z - 2012-10-07T23:59:59.011800Z | 1.0 Hz, 86400 samples\n"
     ]
    },
    {
     "name": "stderr",
     "output_type": "stream",
     "text": [
      "\r",
      " 93%|█████████▎| 3521/3775 [03:22<00:13, 19.06it/s]"
     ]
    },
    {
     "name": "stdout",
     "output_type": "stream",
     "text": [
      "1 Trace(s) in Stream:\n",
      "Z4.CP09..BH1 | 2013-02-22T00:00:00.005500Z - 2013-02-22T23:59:59.005500Z | 1.0 Hz, 86400 samples\n",
      "1 Trace(s) in Stream:\n",
      "Z4.CP09..BH2 | 2013-01-11T00:00:00.022700Z - 2013-01-11T23:59:59.022700Z | 1.0 Hz, 86400 samples\n",
      "1 Trace(s) in Stream:\n",
      "Z4.CP09..BH2 | 2013-01-25T00:00:00.017000Z - 2013-01-25T23:59:59.017000Z | 1.0 Hz, 86400 samples\n"
     ]
    },
    {
     "name": "stderr",
     "output_type": "stream",
     "text": [
      " 93%|█████████▎| 3527/3775 [03:23<00:13, 18.75it/s]"
     ]
    },
    {
     "name": "stdout",
     "output_type": "stream",
     "text": [
      "1 Trace(s) in Stream:\n",
      "Z4.CP09..BH2 | 2013-02-12T00:00:00.009600Z - 2013-02-12T23:59:59.009600Z | 1.0 Hz, 86400 samples\n",
      "1 Trace(s) in Stream:\n",
      "Z4.CP09..BH2 | 2012-08-02T00:00:00.013900Z - 2012-08-02T23:59:59.013900Z | 1.0 Hz, 86400 samples\n",
      "1 Trace(s) in Stream:\n",
      "Z4.CP09..BHZ | 2013-01-11T00:00:00.022700Z - 2013-01-11T23:59:59.022700Z | 1.0 Hz, 86400 samples\n",
      "1 Trace(s) in Stream:\n",
      "Z4.CP09..BH1 | 2012-06-01T00:00:00.014200Z - 2012-06-01T23:59:59.014200Z | 1.0 Hz, 86400 samples\n",
      "1 Trace(s) in Stream:\n",
      "Z4.CP09..BH2 | 2013-02-27T00:00:00.003500Z - 2013-02-27T23:59:59.003500Z | 1.0 Hz, 86400 samples\n"
     ]
    },
    {
     "name": "stderr",
     "output_type": "stream",
     "text": [
      " 94%|█████████▎| 3532/3775 [03:23<00:13, 18.60it/s]"
     ]
    },
    {
     "name": "stdout",
     "output_type": "stream",
     "text": [
      "1 Trace(s) in Stream:\n",
      "Z4.CP09..BH2 | 2012-08-18T00:00:00.007400Z - 2012-08-18T23:59:59.007400Z | 1.0 Hz, 86400 samples\n",
      "1 Trace(s) in Stream:\n",
      "Z4.CP09..BH1 | 2012-12-24T00:00:00.005000Z - 2012-12-24T23:59:59.005000Z | 1.0 Hz, 86400 samples\n",
      "1 Trace(s) in Stream:\n",
      "Z4.CP09..BHZ | 2012-05-29T00:00:00.015500Z - 2012-05-29T23:59:59.015500Z | 1.0 Hz, 86400 samples\n",
      "1 Trace(s) in Stream:\n",
      "Z4.CP09..BH2 | 2012-06-25T00:00:00.004400Z - 2012-06-25T23:59:59.004400Z | 1.0 Hz, 86400 samples\n"
     ]
    },
    {
     "name": "stderr",
     "output_type": "stream",
     "text": [
      " 94%|█████████▎| 3536/3775 [03:23<00:12, 18.79it/s]"
     ]
    },
    {
     "name": "stdout",
     "output_type": "stream",
     "text": [
      "1 Trace(s) in Stream:\n",
      "Z4.CP09..BH1 | 2013-03-15T00:00:00.021900Z - 2013-03-15T23:59:59.021900Z | 1.0 Hz, 86400 samples\n",
      "1 Trace(s) in Stream:\n",
      "Z4.CP09..BH2 | 2013-03-02T00:00:00.002300Z - 2013-03-02T23:59:59.002300Z | 1.0 Hz, 86400 samples\n",
      "1 Trace(s) in Stream:\n",
      "Z4.CP09..BH2 | 2013-03-11T00:00:00.023600Z - 2013-03-11T23:59:59.023600Z | 1.0 Hz, 86400 samples\n",
      "1 Trace(s) in Stream:\n",
      "Z4.CP09..BH1 | 2013-02-21T00:00:00.005900Z - 2013-02-21T23:59:59.005900Z | 1.0 Hz, 86400 samples\n"
     ]
    },
    {
     "name": "stderr",
     "output_type": "stream",
     "text": [
      " 94%|█████████▍| 3540/3775 [03:23<00:13, 17.91it/s]"
     ]
    },
    {
     "name": "stdout",
     "output_type": "stream",
     "text": [
      "1 Trace(s) in Stream:\n",
      "Z4.CP09..BHZ | 2012-11-05T00:00:00.000100Z - 2012-11-05T23:59:59.000100Z | 1.0 Hz, 86400 samples\n",
      "1 Trace(s) in Stream:\n",
      "Z4.CP09..BH1 | 2012-07-01T00:00:00.002000Z - 2012-07-01T23:59:59.002000Z | 1.0 Hz, 86400 samples\n",
      "1 Trace(s) in Stream:\n",
      "Z4.CP09..BHZ | 2012-12-30T00:00:00.002600Z - 2012-12-30T23:59:59.002600Z | 1.0 Hz, 86400 samples\n",
      "1 Trace(s) in Stream:\n",
      "Z4.CP09..BH1 | 2012-12-25T00:00:00.004600Z - 2012-12-25T23:59:59.004600Z | 1.0 Hz, 86400 samples\n"
     ]
    },
    {
     "name": "stderr",
     "output_type": "stream",
     "text": [
      "\r",
      " 94%|█████████▍| 3543/3775 [03:24<00:12, 18.47it/s]"
     ]
    },
    {
     "name": "stdout",
     "output_type": "stream",
     "text": [
      "1 Trace(s) in Stream:\n",
      "Z4.CP09..BHZ | 2013-02-07T00:00:00.011700Z - 2013-02-07T23:59:59.011700Z | 1.0 Hz, 86400 samples\n",
      "1 Trace(s) in Stream:\n",
      "Z4.CP09..BH1 | 2012-10-22T00:00:00.005800Z - 2012-10-22T23:59:59.005800Z | 1.0 Hz, 86400 samples\n",
      "1 Trace(s) in Stream:\n",
      "Z4.CP09..BHZ | 2012-11-19T00:00:00.019400Z - 2012-11-19T23:59:59.019400Z | 1.0 Hz, 86400 samples\n",
      "1 Trace(s) in Stream:\n",
      "Z4.CP09..BH1 | 2013-01-09T00:00:00.023500Z - 2013-01-09T23:59:59.023500Z | 1.0 Hz, 86400 samples\n",
      "1 Trace(s) in Stream:\n",
      "Z4.CP09..BHZ | 2012-10-03T00:00:00.013600Z - 2012-10-03T23:59:59.013600Z | 1.0 Hz, 86400 samples\n"
     ]
    },
    {
     "name": "stderr",
     "output_type": "stream",
     "text": [
      " 94%|█████████▍| 3549/3775 [03:24<00:11, 19.39it/s]"
     ]
    },
    {
     "name": "stdout",
     "output_type": "stream",
     "text": [
      "1 Trace(s) in Stream:\n",
      "Z4.CP09..BHZ | 2012-12-15T00:00:00.008700Z - 2012-12-15T23:59:59.008700Z | 1.0 Hz, 86400 samples\n",
      "1 Trace(s) in Stream:\n",
      "Z4.CP09..BH2 | 2012-09-05T00:00:00.000000Z - 2012-09-06T00:00:00.000000Z | 1.0 Hz, 86401 samples\n",
      "1 Trace(s) in Stream:\n",
      "Z4.CP09..BHZ | 2012-12-04T00:00:00.013200Z - 2012-12-04T23:59:59.013200Z | 1.0 Hz, 86400 samples\n",
      "1 Trace(s) in Stream:\n",
      "Z4.CP09..BH2 | 2012-06-15T00:00:00.008500Z - 2012-06-15T23:59:59.008500Z | 1.0 Hz, 86400 samples\n",
      "1 Trace(s) in Stream:\n",
      "Z4.CP09..BH1 | 2013-03-17T00:00:00.021100Z - 2013-03-17T23:59:59.021100Z | 1.0 Hz, 86400 samples\n"
     ]
    },
    {
     "name": "stderr",
     "output_type": "stream",
     "text": [
      " 94%|█████████▍| 3555/3775 [03:24<00:10, 21.27it/s]"
     ]
    },
    {
     "name": "stdout",
     "output_type": "stream",
     "text": [
      "1 Trace(s) in Stream:\n",
      "Z4.CP09..BHZ | 2012-09-30T00:00:00.014800Z - 2012-09-30T23:59:59.014800Z | 1.0 Hz, 86400 samples\n",
      "1 Trace(s) in Stream:\n",
      "Z4.CP09..BHZ | 2012-06-26T00:00:00.004000Z - 2012-06-26T23:59:59.004000Z | 1.0 Hz, 86400 samples\n",
      "1 Trace(s) in Stream:\n",
      "Z4.CP09..BH1 | 2012-09-27T00:00:00.016000Z - 2012-09-27T23:59:59.016000Z | 1.0 Hz, 86400 samples\n",
      "1 Trace(s) in Stream:\n",
      "Z4.CP09..BH2 | 2012-09-26T00:00:00.016400Z - 2012-09-26T23:59:59.016400Z | 1.0 Hz, 86400 samples\n",
      "1 Trace(s) in Stream:\n",
      "Z4.CP09..BH1 | 2012-10-13T00:00:00.009500Z - 2012-10-13T23:59:59.009500Z | 1.0 Hz, 86400 samples\n"
     ]
    },
    {
     "name": "stderr",
     "output_type": "stream",
     "text": [
      "\r",
      " 94%|█████████▍| 3558/3775 [03:24<00:10, 21.38it/s]"
     ]
    },
    {
     "name": "stdout",
     "output_type": "stream",
     "text": [
      "1 Trace(s) in Stream:\n",
      "Z4.CP09..BH1 | 2012-09-07T00:00:00.024200Z - 2012-09-07T23:59:59.024200Z | 1.0 Hz, 86400 samples\n",
      "1 Trace(s) in Stream:\n",
      "Z4.CP09..BH2 | 2012-08-20T00:00:00.006500Z - 2012-08-20T23:59:59.006500Z | 1.0 Hz, 86400 samples\n",
      "1 Trace(s) in Stream:\n",
      "Z4.CP09..BH2 | 2013-02-16T00:00:00.008000Z - 2013-02-16T23:59:59.008000Z | 1.0 Hz, 86400 samples\n",
      "1 Trace(s) in Stream:\n",
      "Z4.CP09..BHZ | 2012-06-13T00:00:00.009300Z - 2012-06-13T23:59:59.009300Z | 1.0 Hz, 86400 samples\n",
      "1 Trace(s) in Stream:\n",
      "Z4.CP09..BH2 | 2012-07-07T00:00:00.024500Z - 2012-07-07T23:59:59.024500Z | 1.0 Hz, 86400 samples\n"
     ]
    },
    {
     "name": "stderr",
     "output_type": "stream",
     "text": [
      " 94%|█████████▍| 3564/3775 [03:25<00:10, 19.69it/s]"
     ]
    },
    {
     "name": "stdout",
     "output_type": "stream",
     "text": [
      "1 Trace(s) in Stream:\n",
      "Z4.CP09..BH2 | 2012-12-01T00:00:00.014400Z - 2012-12-01T23:59:59.014400Z | 1.0 Hz, 86400 samples\n",
      "1 Trace(s) in Stream:\n",
      "Z4.CP09..BHZ | 2012-11-12T00:00:00.022200Z - 2012-11-12T23:59:59.022200Z | 1.0 Hz, 86400 samples\n",
      "1 Trace(s) in Stream:\n",
      "Z4.CP09..BHZ | 2012-05-08T00:00:00.024000Z - 2012-05-08T23:59:59.024000Z | 1.0 Hz, 86400 samples\n",
      "1 Trace(s) in Stream:\n",
      "Z4.CP09..BH2 | 2012-07-22T00:00:00.018400Z - 2012-07-22T23:59:59.018400Z | 1.0 Hz, 86400 samples\n"
     ]
    },
    {
     "name": "stderr",
     "output_type": "stream",
     "text": [
      "\r",
      " 94%|█████████▍| 3567/3775 [03:25<00:10, 20.10it/s]"
     ]
    },
    {
     "name": "stdout",
     "output_type": "stream",
     "text": [
      "1 Trace(s) in Stream:\n",
      "Z4.CP09..BH2 | 2012-08-09T00:00:00.011000Z - 2012-08-09T23:59:59.011000Z | 1.0 Hz, 86400 samples\n",
      "1 Trace(s) in Stream:\n",
      "Z4.CP09..BH1 | 2013-01-02T00:00:00.001400Z - 2013-01-02T23:59:59.001400Z | 1.0 Hz, 86400 samples\n",
      "1 Trace(s) in Stream:\n",
      "Z4.CP09..BH1 | 2012-08-25T00:00:00.004500Z - 2012-08-25T23:59:59.004500Z | 1.0 Hz, 86400 samples\n",
      "1 Trace(s) in Stream:\n",
      "Z4.CP09..BH1 | 2013-01-06T00:00:00.024700Z - 2013-01-06T23:59:59.024700Z | 1.0 Hz, 86400 samples\n",
      "1 Trace(s) in Stream:\n",
      "Z4.CP09..BHZ | 2012-06-21T00:00:00.006100Z - 2012-06-21T23:59:59.006100Z | 1.0 Hz, 86400 samples\n"
     ]
    },
    {
     "name": "stderr",
     "output_type": "stream",
     "text": [
      " 95%|█████████▍| 3572/3775 [03:25<00:10, 19.73it/s]"
     ]
    },
    {
     "name": "stdout",
     "output_type": "stream",
     "text": [
      "1 Trace(s) in Stream:\n",
      "Z4.CP09..BHZ | 2012-08-11T00:00:00.010200Z - 2012-08-11T23:59:59.010200Z | 1.0 Hz, 86400 samples\n",
      "1 Trace(s) in Stream:\n",
      "Z4.CP09..BH1 | 2012-10-04T00:00:00.013200Z - 2012-10-04T23:59:59.013200Z | 1.0 Hz, 86400 samples\n",
      "1 Trace(s) in Stream:\n",
      "Z4.CP09..BH1 | 2012-05-08T00:00:00.024000Z - 2012-05-08T23:59:59.024000Z | 1.0 Hz, 86400 samples\n",
      "1 Trace(s) in Stream:\n",
      "Z4.CP09..BH1 | 2012-11-08T00:00:00.023800Z - 2012-11-08T23:59:59.023800Z | 1.0 Hz, 86400 samples\n"
     ]
    },
    {
     "name": "stderr",
     "output_type": "stream",
     "text": [
      " 95%|█████████▍| 3578/3775 [03:25<00:10, 18.36it/s]"
     ]
    },
    {
     "name": "stdout",
     "output_type": "stream",
     "text": [
      "1 Trace(s) in Stream:\n",
      "Z4.CP09..BHZ | 2013-02-11T00:00:00.010000Z - 2013-02-11T23:59:59.010000Z | 1.0 Hz, 86400 samples\n",
      "1 Trace(s) in Stream:\n",
      "Z4.CP09..BH1 | 2012-07-21T00:00:00.018800Z - 2012-07-21T23:59:59.018800Z | 1.0 Hz, 86400 samples\n",
      "1 Trace(s) in Stream:\n",
      "Z4.CP09..BH2 | 2012-08-11T00:00:00.010200Z - 2012-08-11T23:59:59.010200Z | 1.0 Hz, 86400 samples\n",
      "1 Trace(s) in Stream:\n",
      "Z4.CP09..BH2 | 2012-09-10T00:00:00.023000Z - 2012-09-10T23:59:59.023000Z | 1.0 Hz, 86400 samples\n",
      "1 Trace(s) in Stream:\n",
      "Z4.CP09..BHZ | 2013-01-04T00:00:00.000600Z - 2013-01-04T23:59:59.000600Z | 1.0 Hz, 86400 samples\n"
     ]
    },
    {
     "name": "stderr",
     "output_type": "stream",
     "text": [
      " 95%|█████████▍| 3582/3775 [03:26<00:10, 18.88it/s]"
     ]
    },
    {
     "name": "stdout",
     "output_type": "stream",
     "text": [
      "1 Trace(s) in Stream:\n",
      "Z4.CP09..BH2 | 2012-08-10T00:00:00.010600Z - 2012-08-10T23:59:59.010600Z | 1.0 Hz, 86400 samples\n",
      "1 Trace(s) in Stream:\n",
      "Z4.CP09..BH1 | 2012-11-10T00:00:00.023000Z - 2012-11-10T23:59:59.023000Z | 1.0 Hz, 86400 samples\n",
      "1 Trace(s) in Stream:\n",
      "Z4.CP09..BH2 | 2012-12-20T00:00:00.006700Z - 2012-12-20T23:59:59.006700Z | 1.0 Hz, 86400 samples\n",
      "1 Trace(s) in Stream:\n",
      "Z4.CP09..BH1 | 2012-07-14T00:00:00.021700Z - 2012-07-14T23:59:59.021700Z | 1.0 Hz, 86400 samples\n"
     ]
    },
    {
     "name": "stderr",
     "output_type": "stream",
     "text": [
      " 95%|█████████▍| 3586/3775 [03:26<00:10, 18.87it/s]"
     ]
    },
    {
     "name": "stdout",
     "output_type": "stream",
     "text": [
      "1 Trace(s) in Stream:\n",
      "Z4.CP09..BH2 | 2012-10-12T00:00:00.009900Z - 2012-10-12T23:59:59.009900Z | 1.0 Hz, 86400 samples\n",
      "1 Trace(s) in Stream:\n",
      "Z4.CP09..BH1 | 2012-07-28T00:00:00.015900Z - 2012-07-28T23:59:59.015900Z | 1.0 Hz, 86400 samples\n",
      "1 Trace(s) in Stream:\n",
      "Z4.CP09..BH1 | 2013-01-19T00:00:00.019400Z - 2013-01-19T23:59:59.019400Z | 1.0 Hz, 86400 samples\n",
      "1 Trace(s) in Stream:\n",
      "Z4.CP09..BH1 | 2013-01-07T00:00:00.024300Z - 2013-01-07T23:59:59.024300Z | 1.0 Hz, 86400 samples\n"
     ]
    },
    {
     "name": "stderr",
     "output_type": "stream",
     "text": [
      " 95%|█████████▌| 3590/3775 [03:26<00:09, 18.81it/s]"
     ]
    },
    {
     "name": "stdout",
     "output_type": "stream",
     "text": [
      "1 Trace(s) in Stream:\n",
      "Z4.CP09..BH1 | 2012-07-13T00:00:00.022100Z - 2012-07-13T23:59:59.022100Z | 1.0 Hz, 86400 samples\n",
      "1 Trace(s) in Stream:\n",
      "Z4.CP09..BH1 | 2012-12-14T00:00:00.009100Z - 2012-12-14T23:59:59.009100Z | 1.0 Hz, 86400 samples\n",
      "1 Trace(s) in Stream:\n",
      "Z4.CP09..BH1 | 2012-08-20T00:00:00.006500Z - 2012-08-20T23:59:59.006500Z | 1.0 Hz, 86400 samples\n",
      "1 Trace(s) in Stream:\n",
      "Z4.CP09..BH1 | 2013-01-10T00:00:00.023100Z - 2013-01-10T23:59:59.023100Z | 1.0 Hz, 86400 samples\n"
     ]
    },
    {
     "name": "stderr",
     "output_type": "stream",
     "text": [
      " 95%|█████████▌| 3594/3775 [03:26<00:09, 18.28it/s]"
     ]
    },
    {
     "name": "stdout",
     "output_type": "stream",
     "text": [
      "1 Trace(s) in Stream:\n",
      "Z4.CP09..BHZ | 2012-09-09T00:00:00.023400Z - 2012-09-09T23:59:59.023400Z | 1.0 Hz, 86400 samples\n",
      "1 Trace(s) in Stream:\n",
      "Z4.CP09..BH1 | 2012-07-06T00:00:00.024900Z - 2012-07-06T23:59:59.024900Z | 1.0 Hz, 86400 samples\n",
      "1 Trace(s) in Stream:\n",
      "Z4.CP09..BH2 | 2012-05-20T00:00:00.019100Z - 2012-05-20T23:59:59.019100Z | 1.0 Hz, 86400 samples\n",
      "1 Trace(s) in Stream:\n",
      "Z4.CP09..BHZ | 2012-10-01T00:00:00.014400Z - 2012-10-01T23:59:59.014400Z | 1.0 Hz, 86400 samples\n"
     ]
    },
    {
     "name": "stderr",
     "output_type": "stream",
     "text": [
      " 95%|█████████▌| 3598/3775 [03:26<00:09, 18.27it/s]"
     ]
    },
    {
     "name": "stdout",
     "output_type": "stream",
     "text": [
      "1 Trace(s) in Stream:\n",
      "Z4.CP09..BH1 | 2012-06-09T00:00:00.011000Z - 2012-06-09T23:59:59.011000Z | 1.0 Hz, 86400 samples\n",
      "1 Trace(s) in Stream:\n",
      "Z4.CP09..BH1 | 2013-02-10T00:00:00.010400Z - 2013-02-10T23:59:59.010400Z | 1.0 Hz, 86400 samples\n",
      "1 Trace(s) in Stream:\n",
      "Z4.CP09..BH1 | 2012-06-24T00:00:00.004800Z - 2012-06-24T23:59:59.004800Z | 1.0 Hz, 86400 samples\n",
      "1 Trace(s) in Stream:\n",
      "Z4.CP09..BHZ | 2013-02-22T00:00:00.005500Z - 2013-02-22T23:59:59.005500Z | 1.0 Hz, 86400 samples\n",
      "1 Trace(s) in Stream:\n",
      "Z4.CP09..BH2 | 2012-06-19T00:00:00.006900Z - 2012-06-19T23:59:59.006900Z | 1.0 Hz, 86400 samples\n"
     ]
    },
    {
     "name": "stderr",
     "output_type": "stream",
     "text": [
      " 95%|█████████▌| 3603/3775 [03:27<00:10, 15.91it/s]"
     ]
    },
    {
     "name": "stdout",
     "output_type": "stream",
     "text": [
      "1 Trace(s) in Stream:\n",
      "Z4.CP09..BH1 | 2012-12-18T00:00:00.007500Z - 2012-12-18T23:59:59.007500Z | 1.0 Hz, 86400 samples\n",
      "1 Trace(s) in Stream:\n",
      "Z4.CP09..BHZ | 2012-05-30T00:00:00.015100Z - 2012-05-30T23:59:59.015100Z | 1.0 Hz, 86400 samples\n",
      "1 Trace(s) in Stream:\n",
      "Z4.CP09..BH2 | 2012-07-12T00:00:00.022500Z - 2012-07-12T23:59:59.022500Z | 1.0 Hz, 86400 samples\n",
      "1 Trace(s) in Stream:\n",
      "Z4.CP09..BHZ | 2012-09-17T00:00:00.020100Z - 2012-09-17T23:59:59.020100Z | 1.0 Hz, 86400 samples\n",
      "1 Trace(s) in Stream:\n",
      "Z4.CP09..BH2 | 2012-12-12T00:00:00.010000Z - 2012-12-12T23:59:59.010000Z | 1.0 Hz, 86400 samples\n"
     ]
    },
    {
     "name": "stderr",
     "output_type": "stream",
     "text": [
      " 96%|█████████▌| 3608/3775 [03:27<00:09, 16.90it/s]"
     ]
    },
    {
     "name": "stdout",
     "output_type": "stream",
     "text": [
      "1 Trace(s) in Stream:\n",
      "Z4.CP09..BHZ | 2012-07-27T00:00:00.016400Z - 2012-07-27T23:59:59.016400Z | 1.0 Hz, 86400 samples\n",
      "1 Trace(s) in Stream:\n",
      "Z4.CP09..BH2 | 2012-09-30T00:00:00.014800Z - 2012-09-30T23:59:59.014800Z | 1.0 Hz, 86400 samples\n",
      "1 Trace(s) in Stream:\n",
      "Z4.CP09..BHZ | 2012-11-18T00:00:00.019800Z - 2012-11-18T23:59:59.019800Z | 1.0 Hz, 86400 samples\n",
      "1 Trace(s) in Stream:\n",
      "Z4.CP09..BH2 | 2013-02-07T00:00:00.011700Z - 2013-02-07T23:59:59.011700Z | 1.0 Hz, 86400 samples\n"
     ]
    },
    {
     "name": "stderr",
     "output_type": "stream",
     "text": [
      "\r",
      " 96%|█████████▌| 3611/3775 [03:27<00:09, 17.94it/s]"
     ]
    },
    {
     "name": "stdout",
     "output_type": "stream",
     "text": [
      "1 Trace(s) in Stream:\n",
      "Z4.CP09..BH2 | 2012-06-05T00:00:00.012600Z - 2012-06-05T23:59:59.012600Z | 1.0 Hz, 86400 samples\n",
      "1 Trace(s) in Stream:\n",
      "Z4.CP09..BH2 | 2012-07-20T00:00:00.019200Z - 2012-07-20T23:59:59.019200Z | 1.0 Hz, 86400 samples\n",
      "1 Trace(s) in Stream:\n",
      "Z4.CP09..BH2 | 2012-10-10T00:00:00.010700Z - 2012-10-10T23:59:59.010700Z | 1.0 Hz, 86400 samples\n",
      "1 Trace(s) in Stream:\n",
      "Z4.CP09..BHZ | 2012-05-16T00:00:00.020800Z - 2012-05-16T23:59:59.020800Z | 1.0 Hz, 86400 samples\n"
     ]
    },
    {
     "name": "stderr",
     "output_type": "stream",
     "text": [
      " 96%|█████████▌| 3615/3775 [03:27<00:08, 18.52it/s]"
     ]
    },
    {
     "name": "stdout",
     "output_type": "stream",
     "text": [
      "1 Trace(s) in Stream:\n",
      "Z4.CP09..BH1 | 2012-09-23T00:00:00.017600Z - 2012-09-23T23:59:59.017600Z | 1.0 Hz, 86400 samples\n",
      "1 Trace(s) in Stream:\n",
      "Z4.CP09..BHZ | 2012-06-07T00:00:00.011800Z - 2012-06-07T23:59:59.011800Z | 1.0 Hz, 86400 samples\n",
      "1 Trace(s) in Stream:\n",
      "Z4.CP09..BH2 | 2013-02-15T00:00:00.008400Z - 2013-02-15T23:59:59.008400Z | 1.0 Hz, 86400 samples\n",
      "1 Trace(s) in Stream:\n",
      "Z4.CP09..BH1 | 2013-02-19T00:00:00.006800Z - 2013-02-19T23:59:59.006800Z | 1.0 Hz, 86400 samples\n",
      "1 Trace(s) in Stream:\n",
      "Z4.CP09..BH1 | 2012-11-18T00:00:00.019800Z - 2012-11-18T23:59:59.019800Z | 1.0 Hz, 86400 samples\n"
     ]
    },
    {
     "name": "stderr",
     "output_type": "stream",
     "text": [
      " 96%|█████████▌| 3621/3775 [03:28<00:07, 20.04it/s]"
     ]
    },
    {
     "name": "stdout",
     "output_type": "stream",
     "text": [
      "1 Trace(s) in Stream:\n",
      "Z4.CP09..BHZ | 2012-08-04T00:00:00.013100Z - 2012-08-04T23:59:59.013100Z | 1.0 Hz, 86400 samples\n",
      "1 Trace(s) in Stream:\n",
      "Z4.CP09..BH1 | 2012-10-03T00:00:00.013600Z - 2012-10-03T23:59:59.013600Z | 1.0 Hz, 86400 samples\n",
      "1 Trace(s) in Stream:\n",
      "Z4.CP09..BH2 | 2012-12-22T00:00:00.005900Z - 2012-12-22T23:59:59.005900Z | 1.0 Hz, 86400 samples\n",
      "1 Trace(s) in Stream:\n",
      "Z4.CP09..BHZ | 2012-06-08T00:00:00.011400Z - 2012-06-08T23:59:59.011400Z | 1.0 Hz, 86400 samples\n",
      "1 Trace(s) in Stream:\n",
      "Z4.CP09..BH1 | 2012-12-01T00:00:00.014400Z - 2012-12-01T23:59:59.014400Z | 1.0 Hz, 86400 samples\n"
     ]
    },
    {
     "name": "stderr",
     "output_type": "stream",
     "text": [
      "\r",
      " 96%|█████████▌| 3624/3775 [03:28<00:07, 20.80it/s]"
     ]
    },
    {
     "name": "stdout",
     "output_type": "stream",
     "text": [
      "1 Trace(s) in Stream:\n",
      "Z4.CP09..BHZ | 2013-03-13T00:00:00.022800Z - 2013-03-13T23:59:59.022800Z | 1.0 Hz, 86400 samples\n",
      "1 Trace(s) in Stream:\n",
      "Z4.CP09..BH2 | 2012-10-09T00:00:00.011100Z - 2012-10-09T23:59:59.011100Z | 1.0 Hz, 86400 samples\n",
      "1 Trace(s) in Stream:\n",
      "Z4.CP09..BHZ | 2012-10-05T00:00:00.012700Z - 2012-10-05T23:59:59.012700Z | 1.0 Hz, 86400 samples\n",
      "1 Trace(s) in Stream:\n",
      "Z4.CP09..BHZ | 2012-10-16T00:00:00.008200Z - 2012-10-16T23:59:59.008200Z | 1.0 Hz, 86400 samples\n"
     ]
    },
    {
     "name": "stderr",
     "output_type": "stream",
     "text": [
      " 96%|█████████▌| 3630/3775 [03:28<00:08, 17.70it/s]"
     ]
    },
    {
     "name": "stdout",
     "output_type": "stream",
     "text": [
      "1 Trace(s) in Stream:\n",
      "Z4.CP09..BHZ | 2013-01-22T00:00:00.018200Z - 2013-01-22T23:59:59.018200Z | 1.0 Hz, 86400 samples\n",
      "1 Trace(s) in Stream:\n",
      "Z4.CP09..BHZ | 2013-02-17T00:00:00.007600Z - 2013-02-17T23:59:59.007600Z | 1.0 Hz, 86400 samples\n",
      "1 Trace(s) in Stream:\n",
      "Z4.CP09..BH2 | 2012-08-27T00:00:00.003700Z - 2012-08-27T23:59:59.003700Z | 1.0 Hz, 86400 samples\n",
      "1 Trace(s) in Stream:\n",
      "Z4.CP09..BH2 | 2012-12-31T00:00:00.002200Z - 2012-12-31T23:59:59.002200Z | 1.0 Hz, 86400 samples\n"
     ]
    },
    {
     "name": "stderr",
     "output_type": "stream",
     "text": [
      " 96%|█████████▋| 3634/3775 [03:28<00:08, 17.31it/s]"
     ]
    },
    {
     "name": "stdout",
     "output_type": "stream",
     "text": [
      "1 Trace(s) in Stream:\n",
      "Z4.CP09..BHZ | 2012-12-28T00:00:00.003400Z - 2012-12-28T23:59:59.003400Z | 1.0 Hz, 86400 samples\n",
      "1 Trace(s) in Stream:\n",
      "Z4.CP09..BH2 | 2013-01-28T00:00:00.015700Z - 2013-01-28T23:59:59.015700Z | 1.0 Hz, 86400 samples\n",
      "1 Trace(s) in Stream:\n",
      "Z4.CP09..BH1 | 2012-10-31T00:00:00.002100Z - 2012-10-31T23:59:59.002100Z | 1.0 Hz, 86400 samples\n",
      "1 Trace(s) in Stream:\n",
      "Z4.CP09..BH2 | 2012-11-30T00:00:00.014900Z - 2012-11-30T23:59:59.014900Z | 1.0 Hz, 86400 samples\n"
     ]
    },
    {
     "name": "stderr",
     "output_type": "stream",
     "text": [
      " 96%|█████████▋| 3638/3775 [03:29<00:07, 17.54it/s]"
     ]
    },
    {
     "name": "stdout",
     "output_type": "stream",
     "text": [
      "1 Trace(s) in Stream:\n",
      "Z4.CP09..BH1 | 2013-02-13T00:00:00.009200Z - 2013-02-13T23:59:59.009200Z | 1.0 Hz, 86400 samples\n",
      "1 Trace(s) in Stream:\n",
      "Z4.CP09..BH1 | 2012-05-31T00:00:00.014600Z - 2012-05-31T23:59:59.014600Z | 1.0 Hz, 86400 samples\n",
      "1 Trace(s) in Stream:\n",
      "Z4.CP09..BHZ | 2012-06-25T00:00:00.004400Z - 2012-06-25T23:59:59.004400Z | 1.0 Hz, 86400 samples\n",
      "1 Trace(s) in Stream:\n",
      "Z4.CP09..BHZ | 2012-10-13T00:00:00.009500Z - 2012-10-13T23:59:59.009500Z | 1.0 Hz, 86400 samples\n"
     ]
    },
    {
     "name": "stderr",
     "output_type": "stream",
     "text": [
      " 96%|█████████▋| 3642/3775 [03:29<00:07, 17.89it/s]"
     ]
    },
    {
     "name": "stdout",
     "output_type": "stream",
     "text": [
      "1 Trace(s) in Stream:\n",
      "Z4.CP09..BH2 | 2013-01-31T00:00:00.014500Z - 2013-01-31T23:59:59.014500Z | 1.0 Hz, 86400 samples\n",
      "1 Trace(s) in Stream:\n",
      "Z4.CP09..BH2 | 2012-12-16T00:00:00.008300Z - 2012-12-16T23:59:59.008300Z | 1.0 Hz, 86400 samples\n",
      "1 Trace(s) in Stream:\n",
      "Z4.CP09..BH2 | 2012-10-25T00:00:00.004600Z - 2012-10-25T23:59:59.004600Z | 1.0 Hz, 86400 samples\n",
      "1 Trace(s) in Stream:\n",
      "Z4.CP09..BH1 | 2013-02-25T00:00:00.004300Z - 2013-02-25T23:59:59.004300Z | 1.0 Hz, 86400 samples\n"
     ]
    },
    {
     "name": "stderr",
     "output_type": "stream",
     "text": [
      " 97%|█████████▋| 3646/3775 [03:29<00:07, 17.89it/s]"
     ]
    },
    {
     "name": "stdout",
     "output_type": "stream",
     "text": [
      "1 Trace(s) in Stream:\n",
      "Z4.CP09..BHZ | 2012-08-26T00:00:00.004100Z - 2012-08-26T23:59:59.004100Z | 1.0 Hz, 86400 samples\n",
      "1 Trace(s) in Stream:\n",
      "Z4.CP09..BHZ | 2012-12-14T00:00:00.009100Z - 2012-12-14T23:59:59.009100Z | 1.0 Hz, 86400 samples\n",
      "1 Trace(s) in Stream:\n",
      "Z4.CP09..BHZ | 2013-02-06T00:00:00.012100Z - 2013-02-06T23:59:59.012100Z | 1.0 Hz, 86400 samples\n",
      "1 Trace(s) in Stream:\n",
      "Z4.CP09..BH1 | 2012-08-02T00:00:00.013900Z - 2012-08-02T23:59:59.013900Z | 1.0 Hz, 86400 samples\n"
     ]
    },
    {
     "name": "stderr",
     "output_type": "stream",
     "text": [
      " 97%|█████████▋| 3650/3775 [03:29<00:07, 17.55it/s]"
     ]
    },
    {
     "name": "stdout",
     "output_type": "stream",
     "text": [
      "1 Trace(s) in Stream:\n",
      "Z4.CP09..BHZ | 2012-11-03T00:00:00.000900Z - 2012-11-03T23:59:59.000900Z | 1.0 Hz, 86400 samples\n",
      "1 Trace(s) in Stream:\n",
      "Z4.CP09..BHZ | 2012-09-21T00:00:00.018500Z - 2012-09-21T23:59:59.018500Z | 1.0 Hz, 86400 samples\n",
      "1 Trace(s) in Stream:\n",
      "Z4.CP09..BHZ | 2013-03-02T00:00:00.002300Z - 2013-03-02T23:59:59.002300Z | 1.0 Hz, 86400 samples\n",
      "1 Trace(s) in Stream:\n",
      "Z4.CP09..BH2 | 2012-07-24T00:00:00.017600Z - 2012-07-24T23:59:59.017600Z | 1.0 Hz, 86400 samples\n"
     ]
    },
    {
     "name": "stderr",
     "output_type": "stream",
     "text": [
      " 97%|█████████▋| 3654/3775 [03:30<00:06, 17.31it/s]"
     ]
    },
    {
     "name": "stdout",
     "output_type": "stream",
     "text": [
      "1 Trace(s) in Stream:\n",
      "Z4.CP09..BH1 | 2012-05-07T00:00:00.024500Z - 2012-05-07T23:59:59.024500Z | 1.0 Hz, 86400 samples\n",
      "1 Trace(s) in Stream:\n",
      "Z4.CP09..BHZ | 2012-07-30T00:00:00.015100Z - 2012-07-30T23:59:59.015100Z | 1.0 Hz, 86400 samples\n",
      "1 Trace(s) in Stream:\n",
      "Z4.CP09..BH1 | 2012-07-22T00:00:00.018400Z - 2012-07-22T23:59:59.018400Z | 1.0 Hz, 86400 samples\n",
      "1 Trace(s) in Stream:\n",
      "Z4.CP09..BH2 | 2012-08-03T00:00:00.013500Z - 2012-08-03T23:59:59.013500Z | 1.0 Hz, 86400 samples\n"
     ]
    },
    {
     "name": "stderr",
     "output_type": "stream",
     "text": [
      "\r",
      " 97%|█████████▋| 3657/3775 [03:30<00:06, 18.38it/s]"
     ]
    },
    {
     "name": "stdout",
     "output_type": "stream",
     "text": [
      "1 Trace(s) in Stream:\n",
      "Z4.CP09..BH2 | 2012-11-26T00:00:00.016500Z - 2012-11-26T23:59:59.016500Z | 1.0 Hz, 86400 samples\n",
      "1 Trace(s) in Stream:\n",
      "Z4.CP09..BH2 | 2012-10-23T00:00:00.005400Z - 2012-10-23T23:59:59.005400Z | 1.0 Hz, 86400 samples\n",
      "1 Trace(s) in Stream:\n",
      "Z4.CP09..BHZ | 2013-02-09T00:00:00.010800Z - 2013-02-09T23:59:59.010800Z | 1.0 Hz, 86400 samples\n",
      "1 Trace(s) in Stream:\n",
      "Z4.CP09..BH1 | 2012-08-01T00:00:00.014300Z - 2012-08-01T23:59:59.014300Z | 1.0 Hz, 86400 samples\n"
     ]
    },
    {
     "name": "stderr",
     "output_type": "stream",
     "text": [
      " 97%|█████████▋| 3661/3775 [03:30<00:06, 18.24it/s]"
     ]
    },
    {
     "name": "stdout",
     "output_type": "stream",
     "text": [
      "1 Trace(s) in Stream:\n",
      "Z4.CP09..BH2 | 2012-08-04T00:00:00.013100Z - 2012-08-04T23:59:59.013100Z | 1.0 Hz, 86400 samples\n",
      "1 Trace(s) in Stream:\n",
      "Z4.CP09..BHZ | 2012-05-18T00:00:00.020000Z - 2012-05-18T23:59:59.020000Z | 1.0 Hz, 86400 samples\n",
      "1 Trace(s) in Stream:\n",
      "Z4.CP09..BH2 | 2012-06-26T00:00:00.004000Z - 2012-06-26T23:59:59.004000Z | 1.0 Hz, 86400 samples\n",
      "1 Trace(s) in Stream:\n",
      "Z4.CP09..BHZ | 2012-11-23T00:00:00.017700Z - 2012-11-23T23:59:59.017700Z | 1.0 Hz, 86400 samples\n",
      "1 Trace(s) in Stream:\n",
      "Z4.CP09..BH1 | 2012-05-20T00:00:00.019100Z - 2012-05-20T23:59:59.019100Z | 1.0 Hz, 86400 samples\n"
     ]
    },
    {
     "name": "stderr",
     "output_type": "stream",
     "text": [
      " 97%|█████████▋| 3668/3775 [03:30<00:05, 18.41it/s]"
     ]
    },
    {
     "name": "stdout",
     "output_type": "stream",
     "text": [
      "1 Trace(s) in Stream:\n",
      "Z4.CP09..BHZ | 2012-11-16T00:00:00.020600Z - 2012-11-16T23:59:59.020600Z | 1.0 Hz, 86400 samples\n",
      "1 Trace(s) in Stream:\n",
      "Z4.CP09..BHZ | 2012-08-27T00:00:00.003700Z - 2012-08-27T23:59:59.003700Z | 1.0 Hz, 86400 samples\n",
      "1 Trace(s) in Stream:\n",
      "Z4.CP09..BH1 | 2012-07-18T00:00:00.020000Z - 2012-07-18T23:59:59.020000Z | 1.0 Hz, 86400 samples\n",
      "1 Trace(s) in Stream:\n",
      "Z4.CP09..BH1 | 2012-07-29T00:00:00.015500Z - 2012-07-29T23:59:59.015500Z | 1.0 Hz, 86400 samples\n",
      "1 Trace(s) in Stream:\n",
      "Z4.CP09..BHZ | 2013-02-14T00:00:00.008800Z - 2013-02-14T23:59:59.008800Z | 1.0 Hz, 86400 samples\n"
     ]
    },
    {
     "name": "stderr",
     "output_type": "stream",
     "text": [
      "\r",
      " 97%|█████████▋| 3670/3775 [03:30<00:05, 18.56it/s]"
     ]
    },
    {
     "name": "stdout",
     "output_type": "stream",
     "text": [
      "1 Trace(s) in Stream:\n",
      "Z4.CP09..BHZ | 2012-08-21T00:00:00.006100Z - 2012-08-21T23:59:59.006100Z | 1.0 Hz, 86400 samples\n",
      "1 Trace(s) in Stream:\n",
      "Z4.CP09..BH1 | 2013-02-18T00:00:00.007200Z - 2013-02-18T23:59:59.007200Z | 1.0 Hz, 86400 samples\n",
      "1 Trace(s) in Stream:\n",
      "Z4.CP09..BH1 | 2012-10-25T00:00:00.004600Z - 2012-10-25T23:59:59.004600Z | 1.0 Hz, 86400 samples\n",
      "1 Trace(s) in Stream:\n",
      "Z4.CP09..BHZ | 2012-08-28T00:00:00.003300Z - 2012-08-28T23:59:59.003300Z | 1.0 Hz, 86400 samples\n"
     ]
    },
    {
     "name": "stderr",
     "output_type": "stream",
     "text": [
      " 97%|█████████▋| 3676/3775 [03:31<00:05, 17.67it/s]"
     ]
    },
    {
     "name": "stdout",
     "output_type": "stream",
     "text": [
      "1 Trace(s) in Stream:\n",
      "Z4.CP09..BHZ | 2012-12-29T00:00:00.003000Z - 2012-12-29T23:59:59.003000Z | 1.0 Hz, 86400 samples\n",
      "1 Trace(s) in Stream:\n",
      "Z4.CP09..BH2 | 2012-06-03T00:00:00.013400Z - 2012-06-03T23:59:59.013400Z | 1.0 Hz, 86400 samples\n",
      "1 Trace(s) in Stream:\n",
      "Z4.CP09..BHZ | 2013-02-25T00:00:00.004300Z - 2013-02-25T23:59:59.004300Z | 1.0 Hz, 86400 samples\n",
      "1 Trace(s) in Stream:\n",
      "Z4.CP09..BH1 | 2012-09-03T00:00:00.000800Z - 2012-09-03T23:59:59.000800Z | 1.0 Hz, 86400 samples\n"
     ]
    },
    {
     "name": "stderr",
     "output_type": "stream",
     "text": [
      " 97%|█████████▋| 3680/3775 [03:31<00:05, 18.39it/s]"
     ]
    },
    {
     "name": "stdout",
     "output_type": "stream",
     "text": [
      "1 Trace(s) in Stream:\n",
      "Z4.CP09..BH1 | 2012-12-10T00:00:00.010800Z - 2012-12-10T23:59:59.010800Z | 1.0 Hz, 86400 samples\n",
      "1 Trace(s) in Stream:\n",
      "Z4.CP09..BH2 | 2012-12-19T00:00:00.007100Z - 2012-12-19T23:59:59.007100Z | 1.0 Hz, 86400 samples\n",
      "1 Trace(s) in Stream:\n",
      "Z4.CP09..BH1 | 2012-12-27T00:00:00.003800Z - 2012-12-27T23:59:59.003800Z | 1.0 Hz, 86400 samples\n",
      "1 Trace(s) in Stream:\n",
      "Z4.CP09..BH1 | 2012-11-05T00:00:00.000100Z - 2012-11-05T23:59:59.000100Z | 1.0 Hz, 86400 samples\n"
     ]
    },
    {
     "name": "stderr",
     "output_type": "stream",
     "text": [
      " 98%|█████████▊| 3684/3775 [03:31<00:04, 18.66it/s]"
     ]
    },
    {
     "name": "stdout",
     "output_type": "stream",
     "text": [
      "1 Trace(s) in Stream:\n",
      "Z4.CP09..BHZ | 2013-01-07T00:00:00.024300Z - 2013-01-07T23:59:59.024300Z | 1.0 Hz, 86400 samples\n",
      "1 Trace(s) in Stream:\n",
      "Z4.CP09..BHZ | 2012-12-26T00:00:00.004200Z - 2012-12-26T23:59:59.004200Z | 1.0 Hz, 86400 samples\n",
      "1 Trace(s) in Stream:\n",
      "Z4.CP09..BHZ | 2013-03-16T00:00:00.021500Z - 2013-03-16T23:59:59.021500Z | 1.0 Hz, 86400 samples\n",
      "1 Trace(s) in Stream:\n",
      "Z4.CP09..BH2 | 2013-01-21T00:00:00.018600Z - 2013-01-21T23:59:59.018600Z | 1.0 Hz, 86400 samples\n",
      "1 Trace(s) in Stream:\n",
      "Z4.CP09..BH2 | 2012-09-24T00:00:00.017200Z - 2012-09-24T23:59:59.017200Z | 1.0 Hz, 86400 samples\n"
     ]
    },
    {
     "name": "stderr",
     "output_type": "stream",
     "text": [
      " 98%|█████████▊| 3689/3775 [03:31<00:04, 20.49it/s]"
     ]
    },
    {
     "name": "stdout",
     "output_type": "stream",
     "text": [
      "1 Trace(s) in Stream:\n",
      "Z4.CP09..BHZ | 2012-09-19T00:00:00.019300Z - 2012-09-19T23:59:59.019300Z | 1.0 Hz, 86400 samples\n",
      "1 Trace(s) in Stream:\n",
      "Z4.CP09..BHZ | 2012-11-20T00:00:00.018900Z - 2012-11-20T23:59:59.018900Z | 1.0 Hz, 86400 samples\n",
      "1 Trace(s) in Stream:\n",
      "Z4.CP09..BH2 | 2012-06-04T00:00:00.013000Z - 2012-06-04T23:59:59.013000Z | 1.0 Hz, 86400 samples\n",
      "1 Trace(s) in Stream:\n",
      "Z4.CP09..BH1 | 2012-07-20T00:00:00.019200Z - 2012-07-20T23:59:59.019200Z | 1.0 Hz, 86400 samples\n",
      "1 Trace(s) in Stream:\n",
      "Z4.CP09..BHZ | 2013-01-17T00:00:00.020200Z - 2013-01-17T23:59:59.020200Z | 1.0 Hz, 86400 samples\n"
     ]
    },
    {
     "name": "stderr",
     "output_type": "stream",
     "text": [
      " 98%|█████████▊| 3695/3775 [03:32<00:04, 19.58it/s]"
     ]
    },
    {
     "name": "stdout",
     "output_type": "stream",
     "text": [
      "1 Trace(s) in Stream:\n",
      "Z4.CP09..BH1 | 2013-01-15T00:00:00.021100Z - 2013-01-15T23:59:59.021100Z | 1.0 Hz, 86400 samples\n",
      "1 Trace(s) in Stream:\n",
      "Z4.CP09..BHZ | 2012-12-16T00:00:00.008300Z - 2012-12-16T23:59:59.008300Z | 1.0 Hz, 86400 samples\n",
      "1 Trace(s) in Stream:\n",
      "Z4.CP09..BH2 | 2012-10-20T00:00:00.006600Z - 2012-10-20T23:59:59.006600Z | 1.0 Hz, 86400 samples\n",
      "1 Trace(s) in Stream:\n",
      "Z4.CP09..BH2 | 2012-09-20T00:00:00.018900Z - 2012-09-20T23:59:59.018900Z | 1.0 Hz, 86400 samples\n",
      "1 Trace(s) in Stream:\n",
      "Z4.CP09..BH2 | 2012-08-29T00:00:00.002900Z - 2012-08-29T23:59:59.002900Z | 1.0 Hz, 86400 samples\n"
     ]
    },
    {
     "name": "stderr",
     "output_type": "stream",
     "text": [
      " 98%|█████████▊| 3699/3775 [03:32<00:03, 19.19it/s]"
     ]
    },
    {
     "name": "stdout",
     "output_type": "stream",
     "text": [
      "1 Trace(s) in Stream:\n",
      "Z4.CP09..BHZ | 2012-06-09T00:00:00.011000Z - 2012-06-09T23:59:59.011000Z | 1.0 Hz, 86400 samples\n",
      "1 Trace(s) in Stream:\n",
      "Z4.CP09..BH1 | 2013-03-08T00:00:00.024800Z - 2013-03-08T23:59:59.024800Z | 1.0 Hz, 86400 samples\n",
      "1 Trace(s) in Stream:\n",
      "Z4.CP09..BH1 | 2012-10-06T00:00:00.012300Z - 2012-10-06T23:59:59.012300Z | 1.0 Hz, 86400 samples\n",
      "1 Trace(s) in Stream:\n",
      "Z4.CP09..BHZ | 2012-06-05T00:00:00.012600Z - 2012-06-05T23:59:59.012600Z | 1.0 Hz, 86400 samples\n"
     ]
    },
    {
     "name": "stderr",
     "output_type": "stream",
     "text": [
      " 98%|█████████▊| 3704/3775 [03:32<00:03, 19.30it/s]"
     ]
    },
    {
     "name": "stdout",
     "output_type": "stream",
     "text": [
      "1 Trace(s) in Stream:\n",
      "Z4.CP09..BH2 | 2013-03-12T00:00:00.023200Z - 2013-03-12T23:59:59.023200Z | 1.0 Hz, 86400 samples\n",
      "1 Trace(s) in Stream:\n",
      "Z4.CP09..BHZ | 2012-07-01T00:00:00.002000Z - 2012-07-01T23:59:59.002000Z | 1.0 Hz, 86400 samples\n",
      "1 Trace(s) in Stream:\n",
      "Z4.CP09..BH2 | 2012-11-05T00:00:00.000100Z - 2012-11-05T23:59:59.000100Z | 1.0 Hz, 86400 samples\n",
      "1 Trace(s) in Stream:\n",
      "Z4.CP09..BH1 | 2012-09-15T00:00:00.020900Z - 2012-09-15T23:59:59.020900Z | 1.0 Hz, 86400 samples\n",
      "1 Trace(s) in Stream:\n",
      "Z4.CP09..BH1 | 2012-08-26T00:00:00.004100Z - 2012-08-26T23:59:59.004100Z | 1.0 Hz, 86400 samples\n"
     ]
    },
    {
     "name": "stderr",
     "output_type": "stream",
     "text": [
      " 98%|█████████▊| 3708/3775 [03:32<00:03, 17.64it/s]"
     ]
    },
    {
     "name": "stdout",
     "output_type": "stream",
     "text": [
      "1 Trace(s) in Stream:\n",
      "Z4.CP09..BH1 | 2012-11-09T00:00:00.023400Z - 2012-11-09T23:59:59.023400Z | 1.0 Hz, 86400 samples\n",
      "1 Trace(s) in Stream:\n",
      "Z4.CP09..BHZ | 2012-10-30T00:00:00.002500Z - 2012-10-30T23:59:59.002500Z | 1.0 Hz, 86400 samples\n",
      "1 Trace(s) in Stream:\n",
      "Z4.CP09..BH2 | 2012-10-28T00:00:00.003300Z - 2012-10-28T23:59:59.003300Z | 1.0 Hz, 86400 samples\n",
      "1 Trace(s) in Stream:\n",
      "Z4.CP09..BHZ | 2012-11-10T00:00:00.023000Z - 2012-11-10T23:59:59.023000Z | 1.0 Hz, 86400 samples\n"
     ]
    },
    {
     "name": "stderr",
     "output_type": "stream",
     "text": [
      " 98%|█████████▊| 3712/3775 [03:33<00:03, 17.08it/s]"
     ]
    },
    {
     "name": "stdout",
     "output_type": "stream",
     "text": [
      "1 Trace(s) in Stream:\n",
      "Z4.CP09..BH1 | 2012-10-27T00:00:00.003800Z - 2012-10-27T23:59:59.003800Z | 1.0 Hz, 86400 samples\n",
      "1 Trace(s) in Stream:\n",
      "Z4.CP09..BH2 | 2012-06-23T00:00:00.005200Z - 2012-06-23T23:59:59.005200Z | 1.0 Hz, 86400 samples\n",
      "1 Trace(s) in Stream:\n",
      "Z4.CP09..BHZ | 2012-07-24T00:00:00.017600Z - 2012-07-24T23:59:59.017600Z | 1.0 Hz, 86400 samples\n",
      "1 Trace(s) in Stream:\n",
      "Z4.CP09..BH1 | 2012-12-31T00:00:00.002200Z - 2012-12-31T23:59:59.002200Z | 1.0 Hz, 86400 samples\n"
     ]
    },
    {
     "name": "stderr",
     "output_type": "stream",
     "text": [
      "\r",
      " 98%|█████████▊| 3714/3775 [03:33<00:03, 17.82it/s]"
     ]
    },
    {
     "name": "stdout",
     "output_type": "stream",
     "text": [
      "1 Trace(s) in Stream:\n",
      "Z4.CP09..BH2 | 2013-02-28T00:00:00.003100Z - 2013-02-28T23:59:59.003100Z | 1.0 Hz, 86400 samples\n",
      "1 Trace(s) in Stream:\n",
      "Z4.CP09..BH1 | 2013-03-09T00:00:00.024400Z - 2013-03-09T23:59:59.024400Z | 1.0 Hz, 86400 samples\n",
      "1 Trace(s) in Stream:\n",
      "Z4.CP09..BHZ | 2012-11-07T00:00:00.024300Z - 2012-11-07T23:59:59.024300Z | 1.0 Hz, 86400 samples\n",
      "1 Trace(s) in Stream:\n",
      "Z4.CP09..BH2 | 2012-05-27T00:00:00.016300Z - 2012-05-27T23:59:59.016300Z | 1.0 Hz, 86400 samples\n",
      "1 Trace(s) in Stream:\n",
      "Z4.CP09..BHZ | 2012-07-31T00:00:00.014700Z - 2012-07-31T23:59:59.014700Z | 1.0 Hz, 86400 samples\n"
     ]
    },
    {
     "name": "stderr",
     "output_type": "stream",
     "text": [
      " 99%|█████████▊| 3722/3775 [03:33<00:02, 19.89it/s]"
     ]
    },
    {
     "name": "stdout",
     "output_type": "stream",
     "text": [
      "1 Trace(s) in Stream:\n",
      "Z4.CP09..BH1 | 2012-06-07T00:00:00.011800Z - 2012-06-07T23:59:59.011800Z | 1.0 Hz, 86400 samples\n",
      "1 Trace(s) in Stream:\n",
      "Z4.CP09..BH2 | 2012-08-24T00:00:00.004900Z - 2012-08-24T23:59:59.004900Z | 1.0 Hz, 86400 samples\n",
      "1 Trace(s) in Stream:\n",
      "Z4.CP09..BH1 | 2013-02-11T00:00:00.010000Z - 2013-02-11T23:59:59.010000Z | 1.0 Hz, 86400 samples\n",
      "1 Trace(s) in Stream:\n",
      "Z4.CP09..BH1 | 2012-06-11T00:00:00.010200Z - 2012-06-11T23:59:59.010200Z | 1.0 Hz, 86400 samples\n",
      "1 Trace(s) in Stream:\n",
      "Z4.CP09..BHZ | 2012-05-09T00:00:00.023600Z - 2012-05-09T23:59:59.023600Z | 1.0 Hz, 86400 samples\n"
     ]
    },
    {
     "name": "stderr",
     "output_type": "stream",
     "text": [
      "\r",
      " 99%|█████████▊| 3724/3775 [03:33<00:02, 19.63it/s]"
     ]
    },
    {
     "name": "stdout",
     "output_type": "stream",
     "text": [
      "1 Trace(s) in Stream:\n",
      "Z4.CP09..BH2 | 2012-09-17T00:00:00.020100Z - 2012-09-17T23:59:59.020100Z | 1.0 Hz, 86400 samples\n",
      "1 Trace(s) in Stream:\n",
      "Z4.CP09..BH2 | 2012-08-01T00:00:00.014300Z - 2012-08-01T23:59:59.014300Z | 1.0 Hz, 86400 samples\n",
      "1 Trace(s) in Stream:\n",
      "Z4.CP09..BH2 | 2012-10-06T00:00:00.012300Z - 2012-10-06T23:59:59.012300Z | 1.0 Hz, 86400 samples\n",
      "1 Trace(s) in Stream:\n",
      "Z4.CP09..BH1 | 2012-10-15T00:00:00.008700Z - 2012-10-15T23:59:59.008700Z | 1.0 Hz, 86400 samples\n",
      "1 Trace(s) in Stream:\n",
      "Z4.CP09..BH2 | 2012-11-19T00:00:00.019400Z - 2012-11-19T23:59:59.019400Z | 1.0 Hz, 86400 samples\n"
     ]
    },
    {
     "name": "stderr",
     "output_type": "stream",
     "text": [
      " 99%|█████████▉| 3729/3775 [03:34<00:02, 17.93it/s]"
     ]
    },
    {
     "name": "stdout",
     "output_type": "stream",
     "text": [
      "1 Trace(s) in Stream:\n",
      "Z4.CP09..BH1 | 2012-08-22T00:00:00.005700Z - 2012-08-22T23:59:59.005700Z | 1.0 Hz, 86400 samples\n",
      "1 Trace(s) in Stream:\n",
      "Z4.CP09..BH2 | 2012-11-17T00:00:00.020200Z - 2012-11-17T23:59:59.020200Z | 1.0 Hz, 86400 samples\n",
      "1 Trace(s) in Stream:\n",
      "Z4.CP09..BH1 | 2012-10-17T00:00:00.007800Z - 2012-10-17T23:59:59.007800Z | 1.0 Hz, 86400 samples\n",
      "1 Trace(s) in Stream:\n",
      "Z4.CP09..BH1 | 2012-06-19T00:00:00.006900Z - 2012-06-19T23:59:59.006900Z | 1.0 Hz, 86400 samples\n"
     ]
    },
    {
     "name": "stderr",
     "output_type": "stream",
     "text": [
      " 99%|█████████▉| 3734/3775 [03:34<00:02, 18.50it/s]"
     ]
    },
    {
     "name": "stdout",
     "output_type": "stream",
     "text": [
      "1 Trace(s) in Stream:\n",
      "Z4.CP09..BH2 | 2012-05-17T00:00:00.020400Z - 2012-05-17T23:59:59.020400Z | 1.0 Hz, 86400 samples\n",
      "1 Trace(s) in Stream:\n",
      "Z4.CP09..BHZ | 2012-07-10T00:00:00.023300Z - 2012-07-10T23:59:59.023300Z | 1.0 Hz, 86400 samples\n",
      "1 Trace(s) in Stream:\n",
      "Z4.CP09..BH2 | 2012-05-29T00:00:00.015500Z - 2012-05-29T23:59:59.015500Z | 1.0 Hz, 86400 samples\n",
      "1 Trace(s) in Stream:\n",
      "Z4.CP09..BHZ | 2013-02-01T00:00:00.014100Z - 2013-02-01T23:59:59.014100Z | 1.0 Hz, 86400 samples\n"
     ]
    },
    {
     "name": "stderr",
     "output_type": "stream",
     "text": [
      " 99%|█████████▉| 3739/3775 [03:34<00:02, 16.35it/s]"
     ]
    },
    {
     "name": "stdout",
     "output_type": "stream",
     "text": [
      "1 Trace(s) in Stream:\n",
      "Z4.CP09..BH2 | 2013-02-22T00:00:00.005500Z - 2013-02-22T23:59:59.005500Z | 1.0 Hz, 86400 samples\n",
      "1 Trace(s) in Stream:\n",
      "Z4.CP09..BHZ | 2012-10-09T00:00:00.011100Z - 2012-10-09T23:59:59.011100Z | 1.0 Hz, 86400 samples\n",
      "1 Trace(s) in Stream:\n",
      "Z4.CP09..BH1 | 2012-05-18T00:00:00.020000Z - 2012-05-18T23:59:59.020000Z | 1.0 Hz, 86400 samples\n",
      "1 Trace(s) in Stream:\n",
      "Z4.CP09..BH1 | 2012-12-28T00:00:00.003400Z - 2012-12-28T23:59:59.003400Z | 1.0 Hz, 86400 samples\n"
     ]
    },
    {
     "name": "stderr",
     "output_type": "stream",
     "text": [
      "\r",
      " 99%|█████████▉| 3742/3775 [03:34<00:01, 17.05it/s]"
     ]
    },
    {
     "name": "stdout",
     "output_type": "stream",
     "text": [
      "1 Trace(s) in Stream:\n",
      "Z4.CP09..BH2 | 2012-12-21T00:00:00.006300Z - 2012-12-21T23:59:59.006300Z | 1.0 Hz, 86400 samples\n",
      "1 Trace(s) in Stream:\n",
      "Z4.CP09..BH2 | 2012-08-16T00:00:00.008200Z - 2012-08-16T23:59:59.008200Z | 1.0 Hz, 86400 samples\n",
      "1 Trace(s) in Stream:\n",
      "Z4.CP09..BH1 | 2013-01-21T00:00:00.018600Z - 2013-01-21T23:59:59.018600Z | 1.0 Hz, 86400 samples\n",
      "1 Trace(s) in Stream:\n",
      "Z4.CP09..BH1 | 2013-01-23T00:00:00.017800Z - 2013-01-23T23:59:59.017800Z | 1.0 Hz, 86400 samples\n"
     ]
    },
    {
     "name": "stderr",
     "output_type": "stream",
     "text": [
      " 99%|█████████▉| 3746/3775 [03:35<00:01, 17.42it/s]"
     ]
    },
    {
     "name": "stdout",
     "output_type": "stream",
     "text": [
      "1 Trace(s) in Stream:\n",
      "Z4.CP09..BH1 | 2013-01-28T00:00:00.015700Z - 2013-01-28T23:59:59.015700Z | 1.0 Hz, 86400 samples\n",
      "1 Trace(s) in Stream:\n",
      "Z4.CP09..BHZ | 2012-07-07T00:00:00.024500Z - 2012-07-07T23:59:59.024500Z | 1.0 Hz, 86400 samples\n",
      "1 Trace(s) in Stream:\n",
      "Z4.CP09..BH2 | 2013-01-13T00:00:00.021900Z - 2013-01-13T23:59:59.021900Z | 1.0 Hz, 86400 samples\n",
      "1 Trace(s) in Stream:\n",
      "Z4.CP09..BH2 | 2012-11-08T00:00:00.023800Z - 2012-11-08T23:59:59.023800Z | 1.0 Hz, 86400 samples\n"
     ]
    },
    {
     "name": "stderr",
     "output_type": "stream",
     "text": [
      " 99%|█████████▉| 3751/3775 [03:35<00:01, 18.59it/s]"
     ]
    },
    {
     "name": "stdout",
     "output_type": "stream",
     "text": [
      "1 Trace(s) in Stream:\n",
      "Z4.CP09..BH1 | 2012-06-17T00:00:00.007700Z - 2012-06-17T23:59:59.007700Z | 1.0 Hz, 86400 samples\n",
      "1 Trace(s) in Stream:\n",
      "Z4.CP09..BH2 | 2012-10-17T00:00:00.007800Z - 2012-10-17T23:59:59.007800Z | 1.0 Hz, 86400 samples\n",
      "1 Trace(s) in Stream:\n",
      "Z4.CP09..BHZ | 2012-05-24T00:00:00.017500Z - 2012-05-24T23:59:59.017500Z | 1.0 Hz, 86400 samples\n",
      "1 Trace(s) in Stream:\n",
      "Z4.CP09..BH1 | 2012-06-03T00:00:00.013400Z - 2012-06-03T23:59:59.013400Z | 1.0 Hz, 86400 samples\n",
      "1 Trace(s) in Stream:\n",
      "Z4.CP09..BH1 | 2012-09-09T00:00:00.023400Z - 2012-09-09T23:59:59.023400Z | 1.0 Hz, 86400 samples\n"
     ]
    },
    {
     "name": "stderr",
     "output_type": "stream",
     "text": [
      " 99%|█████████▉| 3756/3775 [03:35<00:01, 18.02it/s]"
     ]
    },
    {
     "name": "stdout",
     "output_type": "stream",
     "text": [
      "1 Trace(s) in Stream:\n",
      "Z4.CP09..BH2 | 2012-09-18T00:00:00.019700Z - 2012-09-18T23:59:59.019700Z | 1.0 Hz, 86400 samples\n",
      "1 Trace(s) in Stream:\n",
      "Z4.CP09..BH1 | 2012-08-12T00:00:00.009800Z - 2012-08-12T23:59:59.009800Z | 1.0 Hz, 86400 samples\n",
      "1 Trace(s) in Stream:\n",
      "Z4.CP09..BH2 | 2012-07-29T00:00:00.015500Z - 2012-07-29T23:59:59.015500Z | 1.0 Hz, 86400 samples\n",
      "1 Trace(s) in Stream:\n",
      "Z4.CP09..BH2 | 2012-05-14T00:00:00.021600Z - 2012-05-14T23:59:59.021600Z | 1.0 Hz, 86400 samples\n",
      "1 Trace(s) in Stream:\n",
      "Z4.CP09..BH2 | 2012-11-21T00:00:00.018500Z - 2012-11-21T23:59:59.018500Z | 1.0 Hz, 86400 samples\n"
     ]
    },
    {
     "name": "stderr",
     "output_type": "stream",
     "text": [
      "100%|█████████▉| 3761/3775 [03:35<00:00, 18.83it/s]"
     ]
    },
    {
     "name": "stdout",
     "output_type": "stream",
     "text": [
      "1 Trace(s) in Stream:\n",
      "Z4.CP09..BHZ | 2012-12-17T00:00:00.007900Z - 2012-12-17T23:59:59.007900Z | 1.0 Hz, 86400 samples\n",
      "1 Trace(s) in Stream:\n",
      "Z4.CP09..BH2 | 2012-06-18T00:00:00.007300Z - 2012-06-18T23:59:59.007300Z | 1.0 Hz, 86400 samples\n",
      "1 Trace(s) in Stream:\n",
      "Z4.CP09..BH2 | 2012-06-08T00:00:00.011400Z - 2012-06-08T23:59:59.011400Z | 1.0 Hz, 86400 samples\n",
      "1 Trace(s) in Stream:\n",
      "Z4.CP09..BH2 | 2012-11-24T00:00:00.017300Z - 2012-11-24T23:59:59.017300Z | 1.0 Hz, 86400 samples\n"
     ]
    },
    {
     "name": "stderr",
     "output_type": "stream",
     "text": [
      "100%|█████████▉| 3765/3775 [03:36<00:00, 17.88it/s]"
     ]
    },
    {
     "name": "stdout",
     "output_type": "stream",
     "text": [
      "1 Trace(s) in Stream:\n",
      "Z4.CP09..BH2 | 2012-11-27T00:00:00.016100Z - 2012-11-27T23:59:59.016100Z | 1.0 Hz, 86400 samples\n",
      "1 Trace(s) in Stream:\n",
      "Z4.CP09..BHZ | 2012-07-18T00:00:00.020000Z - 2012-07-18T23:59:59.020000Z | 1.0 Hz, 86400 samples\n",
      "1 Trace(s) in Stream:\n",
      "Z4.CP09..BH1 | 2012-12-21T00:00:00.006300Z - 2012-12-21T23:59:59.006300Z | 1.0 Hz, 86400 samples\n",
      "1 Trace(s) in Stream:\n",
      "Z4.CP09..BHZ | 2012-09-06T00:00:00.024600Z - 2012-09-06T23:59:59.024600Z | 1.0 Hz, 86400 samples\n"
     ]
    },
    {
     "name": "stderr",
     "output_type": "stream",
     "text": [
      "\r",
      "100%|█████████▉| 3767/3775 [03:36<00:00, 17.89it/s]"
     ]
    },
    {
     "name": "stdout",
     "output_type": "stream",
     "text": [
      "1 Trace(s) in Stream:\n",
      "Z4.CP09..BH1 | 2012-11-14T00:00:00.021400Z - 2012-11-14T23:59:59.021400Z | 1.0 Hz, 86400 samples\n",
      "1 Trace(s) in Stream:\n",
      "Z4.CP09..BH1 | 2013-02-24T00:00:00.004700Z - 2013-02-24T23:59:59.004700Z | 1.0 Hz, 86400 samples\n",
      "1 Trace(s) in Stream:\n",
      "Z4.CP09..BH1 | 2012-08-28T00:00:00.003300Z - 2012-08-28T23:59:59.003300Z | 1.0 Hz, 86400 samples\n",
      "1 Trace(s) in Stream:\n",
      "Z4.CP09..BH1 | 2012-05-16T00:00:00.020800Z - 2012-05-16T23:59:59.020800Z | 1.0 Hz, 86400 samples\n"
     ]
    },
    {
     "name": "stderr",
     "output_type": "stream",
     "text": [
      "100%|█████████▉| 3772/3775 [03:36<00:00, 18.93it/s]"
     ]
    },
    {
     "name": "stdout",
     "output_type": "stream",
     "text": [
      "1 Trace(s) in Stream:\n",
      "Z4.CP09..BH1 | 2012-09-13T00:00:00.021700Z - 2012-09-13T23:59:59.021700Z | 1.0 Hz, 86400 samples\n",
      "1 Trace(s) in Stream:\n",
      "Z4.CP09..BHZ | 2012-12-11T00:00:00.010400Z - 2012-12-11T23:59:59.010400Z | 1.0 Hz, 86400 samples\n",
      "1 Trace(s) in Stream:\n",
      "Z4.CP09..BH2 | 2013-02-20T00:00:00.006300Z - 2013-02-20T23:59:59.006300Z | 1.0 Hz, 86400 samples\n",
      "1 Trace(s) in Stream:\n",
      "Z4.CP09..BH1 | 2012-07-27T00:00:00.016400Z - 2012-07-27T23:59:59.016400Z | 1.0 Hz, 86400 samples\n"
     ]
    },
    {
     "name": "stderr",
     "output_type": "stream",
     "text": [
      "100%|██████████| 3775/3775 [03:36<00:00, 17.43it/s]"
     ]
    },
    {
     "name": "stdout",
     "output_type": "stream",
     "text": [
      "1 Trace(s) in Stream:\n",
      "Z4.CP09..BHZ | 2012-11-11T00:00:00.022600Z - 2012-11-11T23:59:59.022600Z | 1.0 Hz, 86400 samples\n",
      "1 Trace(s) in Stream:\n",
      "Z4.CP09..BH1 | 2012-10-21T00:00:00.006200Z - 2012-10-21T23:59:59.006200Z | 1.0 Hz, 86400 samples\n",
      "Files with errors:\n",
      "[]\n"
     ]
    },
    {
     "name": "stderr",
     "output_type": "stream",
     "text": [
      "\n"
     ]
    }
   ],
   "source": [
    "# downsample all sac files in folders\n",
    "sr_new = 1.0\n",
    "#the folder where all downloaded files in a network located\n",
    "folder_path = '/gpfs/fs2/scratch/tolugboj_lab/Prj4c_OJP/2_Data/OJ/fetch_NOISE-master/removed_response_output/Z4'\n",
    "\n",
    "#the folder that store all files in a network after removing response. You need to create this folder first.\n",
    "output_folder = '/gpfs/fs2/scratch/tolugboj_lab/Prj4c_OJP/2_Data/OJ/fetch_NOISE-master/removed_response_output/Z4'\n",
    "\n",
    "sac_files = []\n",
    "\n",
    "# loop through all station folders in the network folder\n",
    "for station_folder in os.listdir(folder_path):\n",
    "    station_folder_path = os.path.join(folder_path, station_folder)\n",
    "    for root, dirs, files in os.walk(station_folder_path):\n",
    "        # loop through all files in the station folder\n",
    "        for file in files:\n",
    "            if file.endswith(\".sac\"):\n",
    "                # add file to sac_files list\n",
    "                sac_files.append(os.path.join(root, file))\n",
    "\n",
    "# count files that need to remove response\n",
    "count = len(sac_files)\n",
    "print(count)\n",
    "\n",
    "#progress bar\n",
    "pbar = tqdm(total=len(sac_files))\n",
    "\n",
    "# list to store files with errors\n",
    "abnormal_sac_files = []\n",
    "\n",
    "# Load all SAC files in sac_files list using ObsPy\n",
    "for sac_file in sac_files:\n",
    "    try:\n",
    "        st = read(sac_file)\n",
    "        sr = st[0].stats.sampling_rate\n",
    "        st = st.filter('lowpass', freq=0.4*sr_new, zerophase=True) # anti-alias filter\n",
    "        st = st.filter('highpass', freq=1/60/60, zerophase=True) # Remove daily oscillations\n",
    "        st = st.decimate(factor=int(sr/sr_new), no_filter=True) # downsample\n",
    "        st = st.detrend(type='demean')\n",
    "        st = st.detrend(type='linear')\n",
    "        st.taper(type=\"cosine\",max_percentage=0.05)\n",
    "        print(st)\n",
    "\n",
    "        # Create output station folders\n",
    "        relative_path = os.path.relpath(os.path.dirname(sac_file), folder_path)\n",
    "        output_subfolder = os.path.join(output_folder, relative_path)\n",
    "        os.makedirs(output_subfolder, exist_ok=True)\n",
    "\n",
    "        # Generate output file path\n",
    "        # Output files will have the same names as the original files\n",
    "        output_file_name = os.path.basename(sac_file)\n",
    "        output_file_path = os.path.join(output_subfolder, output_file_name)\n",
    "\n",
    "        # Write the modified stream to the output file path\n",
    "        st.write(output_file_path, format=\"SAC\")\n",
    "        pbar.update(1)\n",
    "        \n",
    "    #If there's an error when removing response, skip that file and continue            \n",
    "    except ValueError as e:\n",
    "        print(f\"Skipping '{sac_file}': {str(e)}\")\n",
    "        abnormal_sac_files.append(sac_file)\n",
    "        \n",
    "        #If there's an error when removing response, copy the file as it is to new folder\n",
    "        #error_file_path = os.path.join(output_subfolder, output_file_name)\n",
    "        #shutil.copy(sac_file, error_file_path)\n",
    "        #print(f\"Original file copied to '{error_file_path}'\")\n",
    "        continue\n",
    "                 \n",
    "# Close the progress bar\n",
    "pbar.close()\n",
    "\n",
    "print(\"Files with errors:\")\n",
    "print(abnormal_sac_files)"
   ]
  },
  {
   "cell_type": "code",
   "execution_count": 62,
   "metadata": {},
   "outputs": [
    {
     "name": "stdout",
     "output_type": "stream",
     "text": [
      "1 Trace(s) in Stream:\n",
      "IU.AFI.10.BHZ | 2009-11-21T00:00:00.010645Z - 2009-11-21T23:59:59.010645Z | 1.0 Hz, 86400 samples\n"
     ]
    }
   ],
   "source": [
    "# If you want to enter abnormal_sac_files by hand\n",
    "abnormal_sac_files = ['/gpfs/fs2/scratch/tolugboj_lab/Prj4c_OJP/2_Data/OJ/fetch_NOISE-master/island_networks/output_island/IU/IU/PTCN/PTCN.2002.043.00.00.00.BHZ.sac',\n",
    "                      '/scratch/tolugboj_lab/Prj4c_OJP/2_Data/OJ/fetch_NOISE-master/removed_response_output/IU/AFI/AFI.2009.325.00.00.00.BHZ.sac',\n",
    "                     '/scratch/tolugboj_lab/Prj4c_OJP/2_Data/OJ/fetch_NOISE-master/removed_response_output/II/MSVF/MSVF.2001.348.00.00.00.BHZ.sac',\n",
    "                     '/scratch/tolugboj_lab/Prj4c_OJP/2_Data/OJ/fetch_NOISE-master/removed_response_output/G/NOUC/NOUC.2001.349.00.00.00.BHZ.sac']\n",
    "sr_new=1.0\n",
    "# See the date of the first file in abnormal_sac_files to enter 'time' below.\n",
    "st = read(abnormal_sac_files[1],format=\"SAC\")\n",
    "# sr = st[0].stats.sampling_rate\n",
    "# print(sr)\n",
    "# st = st.filter('lowpass', freq=0.4*sr_new, zerophase=True) # anti-alias filter\n",
    "# st = st.filter('highpass', freq=1/60/60, zerophase=True) # Remove daily oscillations\n",
    "# st = st.decimate(factor=int(sr/sr_new), no_filter=True) # downsample\n",
    "\n",
    "print(st)"
   ]
  },
  {
   "cell_type": "code",
   "execution_count": 59,
   "metadata": {},
   "outputs": [
    {
     "name": "stdout",
     "output_type": "stream",
     "text": [
      "7740\n"
     ]
    },
    {
     "name": "stderr",
     "output_type": "stream",
     "text": [
      "\n",
      "  0%|          | 0/13713 [00:36<?, ?it/s][A"
     ]
    },
    {
     "name": "stdout",
     "output_type": "stream",
     "text": [
      "1 Trace(s) in Stream:\n",
      "YL.B02..BHZ | 2010-08-01T00:00:00.020000Z - 2010-08-01T23:59:59.020000Z | 1.0 Hz, 86400 samples\n",
      "1 Trace(s) in Stream:\n",
      "YL.B02..BHZ | 2010-01-10T00:00:00.006000Z - 2010-01-10T23:59:59.006000Z | 1.0 Hz, 86400 samples\n",
      "1 Trace(s) in Stream:\n",
      "YL.B02..BHZ | 2010-09-12T00:00:00.007000Z - 2010-09-12T23:59:59.007000Z | 1.0 Hz, 86400 samples\n",
      "1 Trace(s) in Stream:\n",
      "YL.B02..BHZ | 2010-04-21T00:00:00.015000Z - 2010-04-21T23:59:59.015000Z | 1.0 Hz, 86400 samples\n",
      "1 Trace(s) in Stream:\n",
      "YL.B02..BHZ | 2009-12-03T00:00:00.003000Z - 2009-12-03T23:59:59.003000Z | 1.0 Hz, 86400 samples\n",
      "1 Trace(s) in Stream:\n",
      "YL.B02..BHZ | 2010-06-21T00:00:00.004000Z - 2010-06-21T23:59:59.004000Z | 1.0 Hz, 86400 samples\n"
     ]
    },
    {
     "name": "stderr",
     "output_type": "stream",
     "text": [
      "\n"
     ]
    },
    {
     "name": "stdout",
     "output_type": "stream",
     "text": [
      "1 Trace(s) in Stream:\n",
      "YL.B02..BHZ | 2010-07-04T00:00:00.003000Z - 2010-07-04T23:59:59.003000Z | 1.0 Hz, 86400 samples\n",
      "1 Trace(s) in Stream:\n",
      "YL.B02..BHZ | 2010-09-22T00:00:00.018000Z - 2010-09-22T23:59:59.018000Z | 1.0 Hz, 86400 samples\n",
      "1 Trace(s) in Stream:\n",
      "YL.B02..BHZ | 2010-07-05T00:00:00.024000Z - 2010-07-05T23:59:59.024000Z | 1.0 Hz, 86400 samples\n",
      "1 Trace(s) in Stream:\n",
      "YL.B02..BHZ | 2010-10-01T00:00:00.009000Z - 2010-10-01T23:59:59.009000Z | 1.0 Hz, 86400 samples\n",
      "1 Trace(s) in Stream:\n",
      "YL.B02..BHZ | 2010-10-21T00:00:00.006000Z - 2010-10-21T23:59:59.006000Z | 1.0 Hz, 86400 samples\n",
      "1 Trace(s) in Stream:\n",
      "YL.B02..BHZ | 2010-09-20T00:00:00.001000Z - 2010-09-20T23:59:59.001000Z | 1.0 Hz, 86400 samples\n",
      "1 Trace(s) in Stream:\n",
      "YL.B02..BHZ | 2010-11-01T00:00:00.014000Z - 2010-11-01T23:59:59.014000Z | 1.0 Hz, 86400 samples\n",
      "1 Trace(s) in Stream:\n",
      "YL.B02..BHZ | 2010-06-15T00:00:00.002000Z - 2010-06-15T23:59:59.002000Z | 1.0 Hz, 86400 samples\n",
      "1 Trace(s) in Stream:\n",
      "YL.B02..BHZ | 2009-11-27T00:00:00.023000Z - 2009-11-27T23:59:59.023000Z | 1.0 Hz, 86400 samples\n",
      "1 Trace(s) in Stream:\n",
      "YL.B02..BHZ | 2010-06-26T00:00:00.009000Z - 2010-06-26T23:59:59.009000Z | 1.0 Hz, 86400 samples\n",
      "1 Trace(s) in Stream:\n",
      "YL.B02..BHZ | 2010-01-26T00:00:00.019000Z - 2010-01-26T23:59:59.019000Z | 1.0 Hz, 86400 samples\n",
      "1 Trace(s) in Stream:\n",
      "YL.B02..BHZ | 2010-07-22T00:00:00.009000Z - 2010-07-22T23:59:59.009000Z | 1.0 Hz, 86400 samples\n",
      "1 Trace(s) in Stream:\n",
      "YL.B02..BHZ | 2010-02-16T00:00:00.012000Z - 2010-02-16T23:59:59.012000Z | 1.0 Hz, 86400 samples\n",
      "1 Trace(s) in Stream:\n",
      "YL.B02..BHZ | 2010-05-19T00:00:00.006000Z - 2010-05-19T23:59:59.006000Z | 1.0 Hz, 86400 samples\n",
      "1 Trace(s) in Stream:\n",
      "YL.B02..BHZ | 2010-05-13T00:00:00.005000Z - 2010-05-13T23:59:59.005000Z | 1.0 Hz, 86400 samples\n",
      "1 Trace(s) in Stream:\n",
      "YL.B02..BHZ | 2010-01-21T00:00:00.013000Z - 2010-01-21T23:59:59.013000Z | 1.0 Hz, 86400 samples\n",
      "1 Trace(s) in Stream:\n",
      "YL.B02..BHZ | 2010-08-04T00:00:00.008000Z - 2010-08-04T23:59:59.008000Z | 1.0 Hz, 86400 samples\n",
      "1 Trace(s) in Stream:\n",
      "YL.B02..BHZ | 2010-05-14T00:00:00.001000Z - 2010-05-14T23:59:59.001000Z | 1.0 Hz, 86400 samples\n",
      "1 Trace(s) in Stream:\n",
      "YL.B02..BHZ | 2010-11-13T00:00:00.017000Z - 2010-11-13T23:59:59.017000Z | 1.0 Hz, 86400 samples\n",
      "1 Trace(s) in Stream:\n",
      "YL.B02..BHZ | 2010-06-14T00:00:00.006000Z - 2010-06-14T23:59:59.006000Z | 1.0 Hz, 86400 samples\n",
      "1 Trace(s) in Stream:\n",
      "YL.B02..BHZ | 2010-06-20T00:00:00.007000Z - 2010-06-20T23:59:59.007000Z | 1.0 Hz, 86400 samples\n",
      "1 Trace(s) in Stream:\n",
      "YL.B02..BHZ | 2010-04-22T00:00:00.011000Z - 2010-04-22T23:59:59.011000Z | 1.0 Hz, 86400 samples\n",
      "1 Trace(s) in Stream:\n",
      "YL.B02..BHZ | 2010-11-04T00:00:00.002000Z - 2010-11-04T23:59:59.002000Z | 1.0 Hz, 86400 samples\n",
      "1 Trace(s) in Stream:\n",
      "YL.B02..BHZ | 2010-06-16T00:00:00.023000Z - 2010-06-16T23:59:59.023000Z | 1.0 Hz, 86400 samples\n",
      "1 Trace(s) in Stream:\n",
      "YL.B02..BHZ | 2010-05-03T00:00:00.018000Z - 2010-05-03T23:59:59.018000Z | 1.0 Hz, 86400 samples\n",
      "1 Trace(s) in Stream:\n",
      "YL.B02..BHZ | 2010-08-08T00:00:00.018000Z - 2010-08-08T23:59:59.018000Z | 1.0 Hz, 86400 samples\n",
      "1 Trace(s) in Stream:\n",
      "YL.B02..BHZ | 2010-04-13T00:00:00.021000Z - 2010-04-13T23:59:59.021000Z | 1.0 Hz, 86400 samples\n",
      "1 Trace(s) in Stream:\n",
      "YL.B02..BHZ | 2009-11-30T00:00:00.014000Z - 2009-11-30T23:59:59.014000Z | 1.0 Hz, 86400 samples\n",
      "1 Trace(s) in Stream:\n",
      "YL.B02..BHZ | 2010-04-01T00:00:00.017000Z - 2010-04-01T23:59:59.017000Z | 1.0 Hz, 86400 samples\n",
      "1 Trace(s) in Stream:\n",
      "YL.B02..BHZ | 2010-10-16T00:00:00.001000Z - 2010-10-16T23:59:59.001000Z | 1.0 Hz, 86400 samples\n",
      "1 Trace(s) in Stream:\n",
      "YL.B02..BHZ | 2010-01-18T00:00:00.000000Z - 2010-01-19T00:00:00.000000Z | 1.0 Hz, 86401 samples\n",
      "1 Trace(s) in Stream:\n",
      "YL.B02..BHZ | 2010-04-29T00:00:00.009000Z - 2010-04-29T23:59:59.009000Z | 1.0 Hz, 86400 samples\n",
      "1 Trace(s) in Stream:\n",
      "YL.B02..BHZ | 2010-05-31T00:00:00.010000Z - 2010-05-31T23:59:59.010000Z | 1.0 Hz, 86400 samples\n",
      "1 Trace(s) in Stream:\n",
      "YL.B02..BHZ | 2010-09-09T00:00:00.019000Z - 2010-09-09T23:59:59.019000Z | 1.0 Hz, 86400 samples\n",
      "1 Trace(s) in Stream:\n",
      "YL.B02..BHZ | 2010-10-25T00:00:00.016000Z - 2010-10-25T23:59:59.016000Z | 1.0 Hz, 86400 samples\n",
      "1 Trace(s) in Stream:\n",
      "YL.B02..BHZ | 2010-06-19T00:00:00.011000Z - 2010-06-19T23:59:59.011000Z | 1.0 Hz, 86400 samples\n",
      "1 Trace(s) in Stream:\n",
      "YL.B02..BHZ | 2010-03-10T00:00:00.002000Z - 2010-03-10T23:59:59.002000Z | 1.0 Hz, 86400 samples\n",
      "1 Trace(s) in Stream:\n",
      "YL.B02..BHZ | 2009-12-10T00:00:00.001000Z - 2009-12-10T23:59:59.001000Z | 1.0 Hz, 86400 samples\n",
      "1 Trace(s) in Stream:\n",
      "YL.B02..BHZ | 2010-11-11T00:00:00.000000Z - 2010-11-12T00:00:00.000000Z | 1.0 Hz, 86401 samples\n",
      "1 Trace(s) in Stream:\n",
      "YL.B02..BHZ | 2009-12-16T00:00:00.002000Z - 2009-12-16T23:59:59.002000Z | 1.0 Hz, 86400 samples\n",
      "1 Trace(s) in Stream:\n",
      "YL.B02..BHZ | 2010-09-06T00:00:00.005000Z - 2010-09-06T23:59:59.005000Z | 1.0 Hz, 86400 samples\n",
      "1 Trace(s) in Stream:\n",
      "YL.B02..BHZ | 2010-11-15T00:00:00.009000Z - 2010-11-15T23:59:59.009000Z | 1.0 Hz, 86400 samples\n",
      "1 Trace(s) in Stream:\n",
      "YL.B02..BHZ | 2010-11-06T00:00:00.019000Z - 2010-11-06T23:59:59.019000Z | 1.0 Hz, 86400 samples\n",
      "1 Trace(s) in Stream:\n",
      "YL.B02..BHZ | 2010-01-22T00:00:00.009000Z - 2010-01-22T23:59:59.009000Z | 1.0 Hz, 86400 samples\n",
      "1 Trace(s) in Stream:\n",
      "YL.B02..BHZ | 2010-08-09T00:00:00.014000Z - 2010-08-09T23:59:59.014000Z | 1.0 Hz, 86400 samples\n",
      "1 Trace(s) in Stream:\n",
      "YL.B02..BHZ | 2010-11-22T00:00:00.007000Z - 2010-11-22T23:59:59.007000Z | 1.0 Hz, 86400 samples\n",
      "1 Trace(s) in Stream:\n",
      "YL.B02..BHZ | 2010-03-31T00:00:00.021000Z - 2010-03-31T23:59:59.021000Z | 1.0 Hz, 86400 samples\n",
      "1 Trace(s) in Stream:\n",
      "YL.B02..BHZ | 2010-02-22T00:00:00.014000Z - 2010-02-22T23:59:59.014000Z | 1.0 Hz, 86400 samples\n",
      "1 Trace(s) in Stream:\n",
      "YL.B02..BHZ | 2010-10-14T00:00:00.008000Z - 2010-10-14T23:59:59.008000Z | 1.0 Hz, 86400 samples\n",
      "1 Trace(s) in Stream:\n",
      "YL.B02..BHZ | 2010-01-16T00:00:00.007000Z - 2010-01-16T23:59:59.007000Z | 1.0 Hz, 86400 samples\n",
      "1 Trace(s) in Stream:\n",
      "YL.B02..BHZ | 2010-05-20T00:00:00.002000Z - 2010-05-20T23:59:59.002000Z | 1.0 Hz, 86400 samples\n",
      "1 Trace(s) in Stream:\n",
      "YL.B02..BHZ | 2010-11-23T00:00:00.003000Z - 2010-11-23T23:59:59.003000Z | 1.0 Hz, 86400 samples\n",
      "1 Trace(s) in Stream:\n",
      "YL.B02..BHZ | 2010-03-26T00:00:00.015000Z - 2010-03-26T23:59:59.015000Z | 1.0 Hz, 86400 samples\n",
      "1 Trace(s) in Stream:\n",
      "YL.B02..BHZ | 2010-08-14T00:00:00.019000Z - 2010-08-14T23:59:59.019000Z | 1.0 Hz, 86400 samples\n",
      "1 Trace(s) in Stream:\n",
      "YL.B02..BHZ | 2010-05-01T00:00:00.001000Z - 2010-05-01T23:59:59.001000Z | 1.0 Hz, 86400 samples\n",
      "1 Trace(s) in Stream:\n",
      "YL.B02..BHZ | 2010-01-23T00:00:00.005000Z - 2010-01-23T23:59:59.005000Z | 1.0 Hz, 86400 samples\n",
      "1 Trace(s) in Stream:\n",
      "YL.B02..BHZ | 2010-02-08T00:00:00.018000Z - 2010-02-08T23:59:59.018000Z | 1.0 Hz, 86400 samples\n",
      "1 Trace(s) in Stream:\n",
      "YL.B02..BHZ | 2010-05-21T00:00:00.024000Z - 2010-05-21T23:59:59.024000Z | 1.0 Hz, 86400 samples\n",
      "1 Trace(s) in Stream:\n",
      "YL.B02..BHZ | 2010-01-03T00:00:00.008000Z - 2010-01-03T23:59:59.008000Z | 1.0 Hz, 86400 samples\n",
      "1 Trace(s) in Stream:\n",
      "YL.B02..BHZ | 2010-02-19T00:00:00.001000Z - 2010-02-19T23:59:59.001000Z | 1.0 Hz, 86400 samples\n",
      "1 Trace(s) in Stream:\n",
      "YL.B02..BHZ | 2010-03-21T00:00:00.010000Z - 2010-03-21T23:59:59.010000Z | 1.0 Hz, 86400 samples\n",
      "1 Trace(s) in Stream:\n",
      "YL.B02..BHZ | 2009-12-20T00:00:00.012000Z - 2009-12-20T23:59:59.012000Z | 1.0 Hz, 86400 samples\n",
      "1 Trace(s) in Stream:\n",
      "YL.B02..BHZ | 2009-11-28T00:00:00.022000Z - 2009-11-28T23:59:59.022000Z | 1.0 Hz, 86400 samples\n",
      "1 Trace(s) in Stream:\n",
      "YL.B02..BHZ | 2010-11-09T00:00:00.008000Z - 2010-11-09T23:59:59.008000Z | 1.0 Hz, 86400 samples\n",
      "1 Trace(s) in Stream:\n",
      "YL.B02..BHZ | 2010-01-08T00:00:00.013000Z - 2010-01-08T23:59:59.013000Z | 1.0 Hz, 86400 samples\n",
      "1 Trace(s) in Stream:\n",
      "YL.B02..BHZ | 2010-02-03T00:00:00.013000Z - 2010-02-03T23:59:59.013000Z | 1.0 Hz, 86400 samples\n",
      "1 Trace(s) in Stream:\n",
      "YL.B02..BHZ | 2009-12-09T00:00:00.005000Z - 2009-12-09T23:59:59.005000Z | 1.0 Hz, 86400 samples\n",
      "1 Trace(s) in Stream:\n",
      "YL.B02..BHZ | 2010-02-27T00:00:00.020000Z - 2010-02-27T23:59:59.020000Z | 1.0 Hz, 86400 samples\n",
      "1 Trace(s) in Stream:\n",
      "YL.B02..BHZ | 2010-10-10T00:00:00.024000Z - 2010-10-10T23:59:59.024000Z | 1.0 Hz, 86400 samples\n",
      "1 Trace(s) in Stream:\n",
      "YL.B02..BHZ | 2010-05-30T00:00:00.014000Z - 2010-05-30T23:59:59.014000Z | 1.0 Hz, 86400 samples\n",
      "1 Trace(s) in Stream:\n",
      "YL.B02..BHZ | 2010-01-29T00:00:00.007000Z - 2010-01-29T23:59:59.007000Z | 1.0 Hz, 86400 samples\n"
     ]
    },
    {
     "name": "stdout",
     "output_type": "stream",
     "text": [
      "1 Trace(s) in Stream:\n",
      "YL.B02..BHZ | 2009-12-06T00:00:00.016000Z - 2009-12-06T23:59:59.016000Z | 1.0 Hz, 86400 samples\n",
      "1 Trace(s) in Stream:\n",
      "YL.B02..BHZ | 2010-08-30T00:00:00.007000Z - 2010-08-30T23:59:59.007000Z | 1.0 Hz, 86400 samples\n",
      "1 Trace(s) in Stream:\n",
      "YL.B02..BHZ | 2010-05-04T00:00:00.014000Z - 2010-05-04T23:59:59.014000Z | 1.0 Hz, 86400 samples\n",
      "1 Trace(s) in Stream:\n",
      "YL.B02..BHZ | 2010-06-04T00:00:00.019000Z - 2010-06-04T23:59:59.019000Z | 1.0 Hz, 86400 samples\n",
      "1 Trace(s) in Stream:\n",
      "YL.B02..BHZ | 2010-06-01T00:00:00.006000Z - 2010-06-01T23:59:59.006000Z | 1.0 Hz, 86400 samples\n",
      "1 Trace(s) in Stream:\n",
      "YL.B02..BHZ | 2010-08-21T00:00:00.017000Z - 2010-08-21T23:59:59.017000Z | 1.0 Hz, 86400 samples\n",
      "1 Trace(s) in Stream:\n",
      "YL.B02..BHZ | 2010-07-17T00:00:00.003000Z - 2010-07-17T23:59:59.003000Z | 1.0 Hz, 86400 samples\n",
      "1 Trace(s) in Stream:\n",
      "YL.B02..BHZ | 2010-05-28T00:00:00.021000Z - 2010-05-28T23:59:59.021000Z | 1.0 Hz, 86400 samples\n",
      "1 Trace(s) in Stream:\n",
      "YL.B02..BHZ | 2010-11-18T00:00:00.023000Z - 2010-11-18T23:59:59.023000Z | 1.0 Hz, 86400 samples\n",
      "1 Trace(s) in Stream:\n",
      "YL.B02..BHZ | 2009-12-19T00:00:00.016000Z - 2009-12-19T23:59:59.016000Z | 1.0 Hz, 86400 samples\n",
      "1 Trace(s) in Stream:\n",
      "YL.B02..BHZ | 2010-04-09T00:00:00.011000Z - 2010-04-09T23:59:59.011000Z | 1.0 Hz, 86400 samples\n",
      "1 Trace(s) in Stream:\n",
      "YL.B02..BHZ | 2010-11-20T00:00:00.015000Z - 2010-11-20T23:59:59.015000Z | 1.0 Hz, 86400 samples\n",
      "1 Trace(s) in Stream:\n",
      "YL.B02..BHZ | 2010-06-02T00:00:00.002000Z - 2010-06-02T23:59:59.002000Z | 1.0 Hz, 86400 samples\n",
      "1 Trace(s) in Stream:\n",
      "YL.B02..BHZ | 2010-08-10T00:00:00.010000Z - 2010-08-10T23:59:59.010000Z | 1.0 Hz, 86400 samples\n",
      "1 Trace(s) in Stream:\n",
      "YL.B02..BHZ | 2010-02-07T00:00:00.022000Z - 2010-02-07T23:59:59.022000Z | 1.0 Hz, 86400 samples\n",
      "1 Trace(s) in Stream:\n",
      "YL.B02..BHZ | 2010-02-14T00:00:00.020000Z - 2010-02-14T23:59:59.020000Z | 1.0 Hz, 86400 samples\n",
      "1 Trace(s) in Stream:\n",
      "YL.B02..BHZ | 2010-09-30T00:00:00.012000Z - 2010-09-30T23:59:59.012000Z | 1.0 Hz, 86400 samples\n",
      "1 Trace(s) in Stream:\n",
      "YL.B02..BHZ | 2010-04-02T00:00:00.013000Z - 2010-04-02T23:59:59.013000Z | 1.0 Hz, 86400 samples\n",
      "1 Trace(s) in Stream:\n",
      "YL.B02..BHZ | 2010-07-02T00:00:00.011000Z - 2010-07-02T23:59:59.011000Z | 1.0 Hz, 86400 samples\n",
      "1 Trace(s) in Stream:\n",
      "YL.B02..BHZ | 2009-12-15T00:00:00.006000Z - 2009-12-15T23:59:59.006000Z | 1.0 Hz, 86400 samples\n",
      "1 Trace(s) in Stream:\n",
      "YL.B02..BHZ | 2009-11-29T00:00:00.018000Z - 2009-11-29T23:59:59.018000Z | 1.0 Hz, 86400 samples\n",
      "1 Trace(s) in Stream:\n",
      "YL.B02..BHZ | 2010-10-03T00:00:00.001000Z - 2010-10-03T23:59:59.001000Z | 1.0 Hz, 86400 samples\n",
      "1 Trace(s) in Stream:\n",
      "YL.B02..BHZ | 2010-01-13T00:00:00.019000Z - 2010-01-13T23:59:59.019000Z | 1.0 Hz, 86400 samples\n",
      "1 Trace(s) in Stream:\n",
      "YL.B02..BHZ | 2010-01-27T00:00:00.015000Z - 2010-01-27T23:59:59.015000Z | 1.0 Hz, 86400 samples\n",
      "1 Trace(s) in Stream:\n",
      "YL.B02..BHZ | 2010-09-28T00:00:00.020000Z - 2010-09-28T23:59:59.020000Z | 1.0 Hz, 86400 samples\n",
      "1 Trace(s) in Stream:\n",
      "YL.B02..BHZ | 2010-08-23T00:00:00.010000Z - 2010-08-23T23:59:59.010000Z | 1.0 Hz, 86400 samples\n",
      "1 Trace(s) in Stream:\n",
      "YL.B02..BHZ | 2010-06-08T00:00:00.004000Z - 2010-06-08T23:59:59.004000Z | 1.0 Hz, 86400 samples\n",
      "1 Trace(s) in Stream:\n",
      "YL.B02..BHZ | 2010-05-11T00:00:00.012000Z - 2010-05-11T23:59:59.012000Z | 1.0 Hz, 86400 samples\n",
      "1 Trace(s) in Stream:\n",
      "YL.B02..BHZ | 2010-09-08T00:00:00.023000Z - 2010-09-08T23:59:59.023000Z | 1.0 Hz, 86400 samples\n",
      "1 Trace(s) in Stream:\n",
      "YL.B02..BHZ | 2010-08-12T00:00:00.002000Z - 2010-08-12T23:59:59.002000Z | 1.0 Hz, 86400 samples\n",
      "1 Trace(s) in Stream:\n",
      "YL.B02..BHZ | 2010-07-06T00:00:00.020000Z - 2010-07-06T23:59:59.020000Z | 1.0 Hz, 86400 samples\n",
      "1 Trace(s) in Stream:\n",
      "YL.B02..BHZ | 2010-11-14T00:00:00.013000Z - 2010-11-14T23:59:59.013000Z | 1.0 Hz, 86400 samples\n",
      "1 Trace(s) in Stream:\n",
      "YL.B02..BHZ | 2010-09-14T00:00:00.024000Z - 2010-09-14T23:59:59.024000Z | 1.0 Hz, 86400 samples\n",
      "1 Trace(s) in Stream:\n",
      "YL.B02..BHZ | 2009-12-22T00:00:00.004000Z - 2009-12-22T23:59:59.004000Z | 1.0 Hz, 86400 samples\n",
      "1 Trace(s) in Stream:\n",
      "YL.B02..BHZ | 2010-04-04T00:00:00.005000Z - 2010-04-04T23:59:59.005000Z | 1.0 Hz, 86400 samples\n",
      "1 Trace(s) in Stream:\n",
      "YL.B02..BHZ | 2010-08-13T00:00:00.023000Z - 2010-08-13T23:59:59.023000Z | 1.0 Hz, 86400 samples\n",
      "1 Trace(s) in Stream:\n",
      "YL.B02..BHZ | 2010-01-11T00:00:00.002000Z - 2010-01-11T23:59:59.002000Z | 1.0 Hz, 86400 samples\n",
      "1 Trace(s) in Stream:\n",
      "YL.B02..BHZ | 2010-06-09T00:00:00.000000Z - 2010-06-10T00:00:00.000000Z | 1.0 Hz, 86401 samples\n",
      "1 Trace(s) in Stream:\n",
      "YL.B02..BHZ | 2010-10-29T00:00:00.000000Z - 2010-10-30T00:00:00.000000Z | 1.0 Hz, 86401 samples\n",
      "1 Trace(s) in Stream:\n",
      "YL.B02..BHZ | 2009-12-18T00:00:00.020000Z - 2009-12-18T23:59:59.020000Z | 1.0 Hz, 86400 samples\n",
      "1 Trace(s) in Stream:\n",
      "YL.B02..BHZ | 2010-01-06T00:00:00.021000Z - 2010-01-06T23:59:59.021000Z | 1.0 Hz, 86400 samples\n",
      "1 Trace(s) in Stream:\n",
      "YL.B02..BHZ | 2010-05-05T00:00:00.010000Z - 2010-05-05T23:59:59.010000Z | 1.0 Hz, 86400 samples\n",
      "1 Trace(s) in Stream:\n",
      "YL.B02..BHZ | 2010-01-31T00:00:00.024000Z - 2010-01-31T23:59:59.024000Z | 1.0 Hz, 86400 samples\n",
      "1 Trace(s) in Stream:\n",
      "YL.B02..BHZ | 2010-02-15T00:00:00.016000Z - 2010-02-15T23:59:59.016000Z | 1.0 Hz, 86400 samples\n",
      "1 Trace(s) in Stream:\n",
      "YL.B02..BHZ | 2010-06-23T00:00:00.021000Z - 2010-06-23T23:59:59.021000Z | 1.0 Hz, 86400 samples\n",
      "1 Trace(s) in Stream:\n",
      "YL.B02..BHZ | 2010-01-24T00:00:00.002000Z - 2010-01-24T23:59:59.002000Z | 1.0 Hz, 86400 samples\n",
      "1 Trace(s) in Stream:\n",
      "YL.B02..BHZ | 2010-07-24T00:00:00.001000Z - 2010-07-24T23:59:59.001000Z | 1.0 Hz, 86400 samples\n",
      "1 Trace(s) in Stream:\n",
      "YL.B02..BHZ | 2010-02-28T00:00:00.016000Z - 2010-02-28T23:59:59.016000Z | 1.0 Hz, 86400 samples\n",
      "1 Trace(s) in Stream:\n",
      "YL.B02..BHZ | 2010-09-29T00:00:00.016000Z - 2010-09-29T23:59:59.016000Z | 1.0 Hz, 86400 samples\n",
      "1 Trace(s) in Stream:\n",
      "YL.B02..BHZ | 2010-02-02T00:00:00.017000Z - 2010-02-02T23:59:59.017000Z | 1.0 Hz, 86400 samples\n",
      "1 Trace(s) in Stream:\n",
      "YL.B02..BHZ | 2009-12-27T00:00:00.010000Z - 2009-12-27T23:59:59.010000Z | 1.0 Hz, 86400 samples\n",
      "1 Trace(s) in Stream:\n",
      "YL.B02..BHZ | 2010-10-17T00:00:00.022000Z - 2010-10-17T23:59:59.022000Z | 1.0 Hz, 86400 samples\n",
      "1 Trace(s) in Stream:\n",
      "YL.B02..BHZ | 2010-05-07T00:00:00.003000Z - 2010-05-07T23:59:59.003000Z | 1.0 Hz, 86400 samples\n",
      "1 Trace(s) in Stream:\n",
      "YL.B02..BHZ | 2010-04-03T00:00:00.009000Z - 2010-04-03T23:59:59.009000Z | 1.0 Hz, 86400 samples\n",
      "1 Trace(s) in Stream:\n",
      "YL.B02..BHZ | 2010-11-10T00:00:00.004000Z - 2010-11-10T23:59:59.004000Z | 1.0 Hz, 86400 samples\n",
      "1 Trace(s) in Stream:\n",
      "YL.B02..BHZ | 2010-07-21T00:00:00.012000Z - 2010-07-21T23:59:59.012000Z | 1.0 Hz, 86400 samples\n",
      "1 Trace(s) in Stream:\n",
      "YL.B02..BHZ | 2010-09-10T00:00:00.015000Z - 2010-09-10T23:59:59.015000Z | 1.0 Hz, 86400 samples\n",
      "1 Trace(s) in Stream:\n",
      "YL.B02..BHZ | 2010-04-27T00:00:00.016000Z - 2010-04-27T23:59:59.016000Z | 1.0 Hz, 86400 samples\n",
      "1 Trace(s) in Stream:\n",
      "YL.B02..BHZ | 2010-10-26T00:00:00.012000Z - 2010-10-26T23:59:59.012000Z | 1.0 Hz, 86400 samples\n",
      "1 Trace(s) in Stream:\n",
      "YL.B02..BHZ | 2010-11-19T00:00:00.019000Z - 2010-11-19T23:59:59.019000Z | 1.0 Hz, 86400 samples\n",
      "1 Trace(s) in Stream:\n",
      "YL.B02..BHZ | 2010-03-27T00:00:00.011000Z - 2010-03-27T23:59:59.011000Z | 1.0 Hz, 86400 samples\n",
      "1 Trace(s) in Stream:\n",
      "YL.B02..BHZ | 2010-02-26T00:00:00.024000Z - 2010-02-26T23:59:59.024000Z | 1.0 Hz, 86400 samples\n",
      "1 Trace(s) in Stream:\n",
      "YL.B02..BHZ | 2010-06-17T00:00:00.019000Z - 2010-06-17T23:59:59.019000Z | 1.0 Hz, 86400 samples\n",
      "1 Trace(s) in Stream:\n",
      "YL.B02..BHZ | 2009-12-01T00:00:00.011000Z - 2009-12-01T23:59:59.011000Z | 1.0 Hz, 86400 samples\n",
      "1 Trace(s) in Stream:\n",
      "YL.B02..BHZ | 2010-05-27T00:00:00.000000Z - 2010-05-28T00:00:00.000000Z | 1.0 Hz, 86401 samples\n",
      "1 Trace(s) in Stream:\n",
      "YL.B02..BHZ | 2010-06-18T00:00:00.015000Z - 2010-06-18T23:59:59.015000Z | 1.0 Hz, 86400 samples\n",
      "1 Trace(s) in Stream:\n",
      "YL.B02..BHZ | 2010-09-02T00:00:00.021000Z - 2010-09-02T23:59:59.021000Z | 1.0 Hz, 86400 samples\n",
      "1 Trace(s) in Stream:\n",
      "YL.B02..BHZ | 2009-12-08T00:00:00.008000Z - 2009-12-08T23:59:59.008000Z | 1.0 Hz, 86400 samples\n",
      "1 Trace(s) in Stream:\n",
      "YL.B02..BHZ | 2010-11-25T00:00:00.021000Z - 2010-11-25T23:59:59.021000Z | 1.0 Hz, 86400 samples\n",
      "1 Trace(s) in Stream:\n",
      "YL.B02..BHZ | 2010-09-24T00:00:00.011000Z - 2010-09-24T23:59:59.011000Z | 1.0 Hz, 86400 samples\n",
      "1 Trace(s) in Stream:\n",
      "YL.B02..BHZ | 2010-07-26T00:00:00.018000Z - 2010-07-26T23:59:59.018000Z | 1.0 Hz, 86400 samples\n",
      "1 Trace(s) in Stream:\n",
      "YL.B02..BHZ | 2009-12-05T00:00:00.020000Z - 2009-12-05T23:59:59.020000Z | 1.0 Hz, 86400 samples\n",
      "1 Trace(s) in Stream:\n",
      "YL.B02..BHZ | 2009-12-11T00:00:00.022000Z - 2009-12-11T23:59:59.022000Z | 1.0 Hz, 86400 samples\n",
      "1 Trace(s) in Stream:\n",
      "YL.B02..BHZ | 2010-10-11T00:00:00.020000Z - 2010-10-11T23:59:59.020000Z | 1.0 Hz, 86400 samples\n",
      "1 Trace(s) in Stream:\n",
      "YL.B02..BHZ | 2010-03-05T00:00:00.022000Z - 2010-03-05T23:59:59.022000Z | 1.0 Hz, 86400 samples\n",
      "1 Trace(s) in Stream:\n",
      "YL.B02..BHZ | 2010-07-09T00:00:00.009000Z - 2010-07-09T23:59:59.009000Z | 1.0 Hz, 86400 samples\n"
     ]
    },
    {
     "name": "stdout",
     "output_type": "stream",
     "text": [
      "1 Trace(s) in Stream:\n",
      "YL.B02..BHZ | 2010-03-22T00:00:00.006000Z - 2010-03-22T23:59:59.006000Z | 1.0 Hz, 86400 samples\n",
      "1 Trace(s) in Stream:\n",
      "YL.B02..BHZ | 2010-03-18T00:00:00.021000Z - 2010-03-18T23:59:59.021000Z | 1.0 Hz, 86400 samples\n",
      "1 Trace(s) in Stream:\n",
      "YL.B02..BHZ | 2010-07-18T00:00:00.024000Z - 2010-07-18T23:59:59.024000Z | 1.0 Hz, 86400 samples\n",
      "1 Trace(s) in Stream:\n",
      "YL.B02..BHZ | 2010-04-07T00:00:00.019000Z - 2010-04-07T23:59:59.019000Z | 1.0 Hz, 86400 samples\n",
      "1 Trace(s) in Stream:\n",
      "YL.B02..BHZ | 2009-12-29T00:00:00.002000Z - 2009-12-29T23:59:59.002000Z | 1.0 Hz, 86400 samples\n",
      "1 Trace(s) in Stream:\n",
      "YL.B02..BHZ | 2010-05-08T00:00:00.024000Z - 2010-05-08T23:59:59.024000Z | 1.0 Hz, 86400 samples\n",
      "1 Trace(s) in Stream:\n",
      "YL.B02..BHZ | 2010-08-22T00:00:00.013000Z - 2010-08-22T23:59:59.013000Z | 1.0 Hz, 86400 samples\n",
      "1 Trace(s) in Stream:\n",
      "YL.B02..BHZ | 2010-03-08T00:00:00.010000Z - 2010-03-08T23:59:59.010000Z | 1.0 Hz, 86400 samples\n",
      "1 Trace(s) in Stream:\n",
      "YL.B02..BHZ | 2010-04-11T00:00:00.003000Z - 2010-04-11T23:59:59.003000Z | 1.0 Hz, 86400 samples\n",
      "1 Trace(s) in Stream:\n",
      "YL.B02..BHZ | 2010-07-31T00:00:00.022000Z - 2010-07-31T23:59:59.022000Z | 1.0 Hz, 86400 samples\n",
      "1 Trace(s) in Stream:\n",
      "YL.B02..BHZ | 2010-09-11T00:00:00.011000Z - 2010-09-11T23:59:59.011000Z | 1.0 Hz, 86400 samples\n",
      "1 Trace(s) in Stream:\n",
      "YL.B02..BHZ | 2010-07-01T00:00:00.015000Z - 2010-07-01T23:59:59.015000Z | 1.0 Hz, 86400 samples\n",
      "1 Trace(s) in Stream:\n",
      "YL.B02..BHZ | 2010-09-26T00:00:00.003000Z - 2010-09-26T23:59:59.003000Z | 1.0 Hz, 86400 samples\n",
      "1 Trace(s) in Stream:\n",
      "YL.B02..BHZ | 2010-11-21T00:00:00.011000Z - 2010-11-21T23:59:59.011000Z | 1.0 Hz, 86400 samples\n",
      "1 Trace(s) in Stream:\n",
      "YL.B02..BHZ | 2010-04-12T00:00:00.000000Z - 2010-04-13T00:00:00.000000Z | 1.0 Hz, 86401 samples\n",
      "1 Trace(s) in Stream:\n",
      "YL.B02..BHZ | 2010-11-24T00:00:00.000000Z - 2010-11-25T00:00:00.000000Z | 1.0 Hz, 86401 samples\n",
      "1 Trace(s) in Stream:\n",
      "YL.B02..BHZ | 2010-10-27T00:00:00.008000Z - 2010-10-27T23:59:59.008000Z | 1.0 Hz, 86400 samples\n",
      "1 Trace(s) in Stream:\n",
      "YL.B02..BHZ | 2010-10-02T00:00:00.005000Z - 2010-10-02T23:59:59.005000Z | 1.0 Hz, 86400 samples\n",
      "1 Trace(s) in Stream:\n",
      "YL.B02..BHZ | 2009-12-26T00:00:00.014000Z - 2009-12-26T23:59:59.014000Z | 1.0 Hz, 86400 samples\n",
      "1 Trace(s) in Stream:\n",
      "YL.B02..BHZ | 2010-08-03T00:00:00.012000Z - 2010-08-03T23:59:59.012000Z | 1.0 Hz, 86400 samples\n",
      "1 Trace(s) in Stream:\n",
      "YL.B02..BHZ | 2010-09-18T00:00:00.009000Z - 2010-09-18T23:59:59.009000Z | 1.0 Hz, 86400 samples\n",
      "1 Trace(s) in Stream:\n",
      "YL.B02..BHZ | 2010-11-03T00:00:00.006000Z - 2010-11-03T23:59:59.006000Z | 1.0 Hz, 86400 samples\n",
      "1 Trace(s) in Stream:\n",
      "YL.B02..BHZ | 2010-08-29T00:00:00.011000Z - 2010-08-29T23:59:59.011000Z | 1.0 Hz, 86400 samples\n",
      "1 Trace(s) in Stream:\n",
      "YL.B02..BHZ | 2010-09-25T00:00:00.007000Z - 2010-09-25T23:59:59.007000Z | 1.0 Hz, 86400 samples\n",
      "1 Trace(s) in Stream:\n",
      "YL.B02..BHZ | 2010-06-25T00:00:00.013000Z - 2010-06-25T23:59:59.013000Z | 1.0 Hz, 86400 samples\n",
      "1 Trace(s) in Stream:\n",
      "YL.B02..BHZ | 2010-10-06T00:00:00.014000Z - 2010-10-06T23:59:59.014000Z | 1.0 Hz, 86400 samples\n",
      "1 Trace(s) in Stream:\n",
      "YL.B02..BHZ | 2010-03-16T00:00:00.004000Z - 2010-03-16T23:59:59.004000Z | 1.0 Hz, 86400 samples\n",
      "1 Trace(s) in Stream:\n",
      "YL.B02..BHZ | 2010-10-30T00:00:00.021000Z - 2010-10-30T23:59:59.021000Z | 1.0 Hz, 86400 samples\n",
      "1 Trace(s) in Stream:\n",
      "YL.B02..BHZ | 2010-06-05T00:00:00.015000Z - 2010-06-05T23:59:59.015000Z | 1.0 Hz, 86400 samples\n",
      "1 Trace(s) in Stream:\n",
      "YL.B02..BHZ | 2010-09-03T00:00:00.017000Z - 2010-09-03T23:59:59.017000Z | 1.0 Hz, 86400 samples\n",
      "1 Trace(s) in Stream:\n",
      "YL.B02..BHZ | 2010-03-17T00:00:00.000000Z - 2010-03-18T00:00:00.000000Z | 1.0 Hz, 86401 samples\n",
      "1 Trace(s) in Stream:\n",
      "YL.B02..BHZ | 2010-08-27T00:00:00.019000Z - 2010-08-27T23:59:59.019000Z | 1.0 Hz, 86400 samples\n",
      "1 Trace(s) in Stream:\n",
      "YL.B02..BHZ | 2010-02-06T00:00:00.001000Z - 2010-02-06T23:59:59.001000Z | 1.0 Hz, 86400 samples\n",
      "1 Trace(s) in Stream:\n",
      "YL.B02..BHZ | 2010-05-02T00:00:00.022000Z - 2010-05-02T23:59:59.022000Z | 1.0 Hz, 86400 samples\n",
      "1 Trace(s) in Stream:\n",
      "YL.B02..BHZ | 2010-03-01T00:00:00.012000Z - 2010-03-01T23:59:59.012000Z | 1.0 Hz, 86400 samples\n",
      "1 Trace(s) in Stream:\n",
      "YL.B02..BHZ | 2010-05-09T00:00:00.020000Z - 2010-05-09T23:59:59.020000Z | 1.0 Hz, 86400 samples\n",
      "1 Trace(s) in Stream:\n",
      "YL.B02..BHZ | 2010-03-23T00:00:00.002000Z - 2010-03-23T23:59:59.002000Z | 1.0 Hz, 86400 samples\n",
      "1 Trace(s) in Stream:\n",
      "YL.B02..BHZ | 2010-08-06T00:00:00.000000Z - 2010-08-07T00:00:00.000000Z | 1.0 Hz, 86401 samples\n",
      "1 Trace(s) in Stream:\n",
      "YL.B02..BHZ | 2010-01-01T00:00:00.016000Z - 2010-01-01T23:59:59.016000Z | 1.0 Hz, 86400 samples\n",
      "1 Trace(s) in Stream:\n",
      "YL.B02..BHZ | 2010-05-06T00:00:00.007000Z - 2010-05-06T23:59:59.007000Z | 1.0 Hz, 86400 samples\n",
      "1 Trace(s) in Stream:\n",
      "YL.B02..BHZ | 2010-05-25T00:00:00.008000Z - 2010-05-25T23:59:59.008000Z | 1.0 Hz, 86400 samples\n",
      "1 Trace(s) in Stream:\n",
      "YL.B02..BHZ | 2010-03-07T00:00:00.014000Z - 2010-03-07T23:59:59.014000Z | 1.0 Hz, 86400 samples\n",
      "1 Trace(s) in Stream:\n",
      "YL.B02..BHZ | 2010-04-28T00:00:00.013000Z - 2010-04-28T23:59:59.013000Z | 1.0 Hz, 86400 samples\n",
      "1 Trace(s) in Stream:\n",
      "YL.B02..BHZ | 2010-03-19T00:00:00.017000Z - 2010-03-19T23:59:59.017000Z | 1.0 Hz, 86400 samples\n",
      "1 Trace(s) in Stream:\n",
      "YL.B02..BHZ | 2009-12-14T00:00:00.010000Z - 2009-12-14T23:59:59.010000Z | 1.0 Hz, 86400 samples\n",
      "1 Trace(s) in Stream:\n",
      "YL.B02..BHZ | 2010-01-15T00:00:00.011000Z - 2010-01-15T23:59:59.011000Z | 1.0 Hz, 86400 samples\n",
      "1 Trace(s) in Stream:\n",
      "YL.B02..BHZ | 2010-11-12T00:00:00.021000Z - 2010-11-12T23:59:59.021000Z | 1.0 Hz, 86400 samples\n",
      "1 Trace(s) in Stream:\n",
      "YL.B02..BHZ | 2010-02-13T00:00:00.024000Z - 2010-02-13T23:59:59.024000Z | 1.0 Hz, 86400 samples\n",
      "1 Trace(s) in Stream:\n",
      "YL.B02..BHZ | 2010-11-05T00:00:00.023000Z - 2010-11-05T23:59:59.023000Z | 1.0 Hz, 86400 samples\n",
      "1 Trace(s) in Stream:\n",
      "YL.B02..BHZ | 2010-03-15T00:00:00.008000Z - 2010-03-15T23:59:59.008000Z | 1.0 Hz, 86400 samples\n",
      "1 Trace(s) in Stream:\n",
      "YL.B02..BHZ | 2010-04-23T00:00:00.007000Z - 2010-04-23T23:59:59.007000Z | 1.0 Hz, 86400 samples\n",
      "1 Trace(s) in Stream:\n",
      "YL.B02..BHZ | 2010-01-05T00:00:00.000000Z - 2010-01-06T00:00:00.000000Z | 1.0 Hz, 86401 samples\n",
      "1 Trace(s) in Stream:\n",
      "YL.B02..BHZ | 2010-11-02T00:00:00.010000Z - 2010-11-02T23:59:59.010000Z | 1.0 Hz, 86400 samples\n",
      "1 Trace(s) in Stream:\n",
      "YL.B02..BHZ | 2010-10-08T00:00:00.007000Z - 2010-10-08T23:59:59.007000Z | 1.0 Hz, 86400 samples\n",
      "1 Trace(s) in Stream:\n",
      "YL.B02..BHZ | 2010-07-30T00:00:00.003000Z - 2010-07-30T23:59:59.003000Z | 1.0 Hz, 86400 samples\n",
      "1 Trace(s) in Stream:\n",
      "YL.B02..BHZ | 2010-10-18T00:00:00.018000Z - 2010-10-18T23:59:59.018000Z | 1.0 Hz, 86400 samples\n",
      "1 Trace(s) in Stream:\n",
      "YL.B02..BHZ | 2010-03-30T00:00:00.000000Z - 2010-03-31T00:00:00.000000Z | 1.0 Hz, 86401 samples\n",
      "1 Trace(s) in Stream:\n",
      "YL.B02..BHZ | 2010-02-01T00:00:00.021000Z - 2010-02-01T23:59:59.021000Z | 1.0 Hz, 86400 samples\n",
      "1 Trace(s) in Stream:\n",
      "YL.B02..BHZ | 2010-06-24T00:00:00.017000Z - 2010-06-24T23:59:59.017000Z | 1.0 Hz, 86400 samples\n",
      "1 Trace(s) in Stream:\n",
      "YL.B02..BHZ | 2010-08-19T00:00:00.000000Z - 2010-08-20T00:00:00.000000Z | 1.0 Hz, 86401 samples\n",
      "1 Trace(s) in Stream:\n",
      "YL.B02..BHZ | 2010-09-07T00:00:00.002000Z - 2010-09-07T23:59:59.002000Z | 1.0 Hz, 86400 samples\n",
      "1 Trace(s) in Stream:\n",
      "YL.B02..BHZ | 2010-02-17T00:00:00.009000Z - 2010-02-17T23:59:59.009000Z | 1.0 Hz, 86400 samples\n",
      "1 Trace(s) in Stream:\n",
      "YL.B02..BHZ | 2010-10-31T00:00:00.017000Z - 2010-10-31T23:59:59.017000Z | 1.0 Hz, 86400 samples\n",
      "1 Trace(s) in Stream:\n",
      "YL.B02..BHZ | 2010-10-13T00:00:00.012000Z - 2010-10-13T23:59:59.012000Z | 1.0 Hz, 86400 samples\n",
      "1 Trace(s) in Stream:\n",
      "YL.B02..BHZ | 2010-09-15T00:00:00.021000Z - 2010-09-15T23:59:59.021000Z | 1.0 Hz, 86400 samples\n",
      "1 Trace(s) in Stream:\n",
      "YL.B02..BHZ | 2010-11-07T00:00:00.015000Z - 2010-11-07T23:59:59.015000Z | 1.0 Hz, 86400 samples\n",
      "1 Trace(s) in Stream:\n",
      "YL.B02..BHZ | 2009-12-30T00:00:00.023000Z - 2009-12-30T23:59:59.023000Z | 1.0 Hz, 86400 samples\n",
      "1 Trace(s) in Stream:\n",
      "YL.B02..BHZ | 2010-04-17T00:00:00.005000Z - 2010-04-17T23:59:59.005000Z | 1.0 Hz, 86400 samples\n",
      "1 Trace(s) in Stream:\n",
      "YL.B02..BHZ | 2010-10-20T00:00:00.010000Z - 2010-10-20T23:59:59.010000Z | 1.0 Hz, 86400 samples\n",
      "1 Trace(s) in Stream:\n",
      "YL.B02..BHZ | 2010-01-12T00:00:00.023000Z - 2010-01-12T23:59:59.023000Z | 1.0 Hz, 86400 samples\n",
      "1 Trace(s) in Stream:\n",
      "YL.B02..BHZ | 2009-12-07T00:00:00.012000Z - 2009-12-07T23:59:59.012000Z | 1.0 Hz, 86400 samples\n"
     ]
    },
    {
     "name": "stdout",
     "output_type": "stream",
     "text": [
      "1 Trace(s) in Stream:\n",
      "YL.B02..BHZ | 2010-05-24T00:00:00.012000Z - 2010-05-24T23:59:59.012000Z | 1.0 Hz, 86400 samples\n",
      "1 Trace(s) in Stream:\n",
      "YL.B02..BHZ | 2010-03-13T00:00:00.016000Z - 2010-03-13T23:59:59.016000Z | 1.0 Hz, 86400 samples\n",
      "1 Trace(s) in Stream:\n",
      "YL.B02..BHZ | 2010-01-02T00:00:00.012000Z - 2010-01-02T23:59:59.012000Z | 1.0 Hz, 86400 samples\n",
      "1 Trace(s) in Stream:\n",
      "YL.B02..BHZ | 2010-02-21T00:00:00.018000Z - 2010-02-21T23:59:59.018000Z | 1.0 Hz, 86400 samples\n",
      "1 Trace(s) in Stream:\n",
      "YL.B02..BHZ | 2010-05-16T00:00:00.018000Z - 2010-05-16T23:59:59.018000Z | 1.0 Hz, 86400 samples\n",
      "1 Trace(s) in Stream:\n",
      "YL.B02..BHZ | 2010-03-09T00:00:00.006000Z - 2010-03-09T23:59:59.006000Z | 1.0 Hz, 86400 samples\n",
      "1 Trace(s) in Stream:\n",
      "YL.B02..BHZ | 2010-09-23T00:00:00.015000Z - 2010-09-23T23:59:59.015000Z | 1.0 Hz, 86400 samples\n",
      "1 Trace(s) in Stream:\n",
      "YL.B02..BHZ | 2010-03-04T00:00:00.001000Z - 2010-03-04T23:59:59.001000Z | 1.0 Hz, 86400 samples\n",
      "1 Trace(s) in Stream:\n",
      "YL.B02..BHZ | 2010-07-15T00:00:00.011000Z - 2010-07-15T23:59:59.011000Z | 1.0 Hz, 86400 samples\n",
      "1 Trace(s) in Stream:\n",
      "YL.B02..BHZ | 2010-07-27T00:00:00.014000Z - 2010-07-27T23:59:59.014000Z | 1.0 Hz, 86400 samples\n",
      "1 Trace(s) in Stream:\n",
      "YL.B02..BHZ | 2010-08-11T00:00:00.006000Z - 2010-08-11T23:59:59.006000Z | 1.0 Hz, 86400 samples\n",
      "1 Trace(s) in Stream:\n",
      "YL.B02..BHZ | 2010-05-22T00:00:00.020000Z - 2010-05-22T23:59:59.020000Z | 1.0 Hz, 86400 samples\n",
      "1 Trace(s) in Stream:\n",
      "YL.B02..BHZ | 2010-05-29T00:00:00.018000Z - 2010-05-29T23:59:59.018000Z | 1.0 Hz, 86400 samples\n",
      "1 Trace(s) in Stream:\n",
      "YL.B02..BHZ | 2010-07-28T00:00:00.010000Z - 2010-07-28T23:59:59.010000Z | 1.0 Hz, 86400 samples\n",
      "1 Trace(s) in Stream:\n",
      "YL.B02..BHZ | 2009-12-13T00:00:00.014000Z - 2009-12-13T23:59:59.014000Z | 1.0 Hz, 86400 samples\n",
      "1 Trace(s) in Stream:\n",
      "YL.B02..BHZ | 2010-01-20T00:00:00.016000Z - 2010-01-20T23:59:59.016000Z | 1.0 Hz, 86400 samples\n",
      "1 Trace(s) in Stream:\n",
      "YL.B02..BHZ | 2010-07-23T00:00:00.005000Z - 2010-07-23T23:59:59.005000Z | 1.0 Hz, 86400 samples\n",
      "1 Trace(s) in Stream:\n",
      "YL.B02..BHZ | 2010-04-18T00:00:00.001000Z - 2010-04-18T23:59:59.001000Z | 1.0 Hz, 86400 samples\n",
      "1 Trace(s) in Stream:\n",
      "YL.B02..BHZ | 2010-02-05T00:00:00.005000Z - 2010-02-05T23:59:59.005000Z | 1.0 Hz, 86400 samples\n",
      "1 Trace(s) in Stream:\n",
      "YL.B02..BHZ | 2010-10-05T00:00:00.018000Z - 2010-10-05T23:59:59.018000Z | 1.0 Hz, 86400 samples\n",
      "1 Trace(s) in Stream:\n",
      "YL.B02..BHZ | 2010-08-25T00:00:00.002000Z - 2010-08-25T23:59:59.002000Z | 1.0 Hz, 86400 samples\n",
      "1 Trace(s) in Stream:\n",
      "YL.B02..BHZ | 2010-07-29T00:00:00.006000Z - 2010-07-29T23:59:59.006000Z | 1.0 Hz, 86400 samples\n",
      "1 Trace(s) in Stream:\n",
      "YL.B02..BHZ | 2010-08-24T00:00:00.006000Z - 2010-08-24T23:59:59.006000Z | 1.0 Hz, 86400 samples\n",
      "1 Trace(s) in Stream:\n",
      "YL.B02..BHZ | 2010-06-07T00:00:00.008000Z - 2010-06-07T23:59:59.008000Z | 1.0 Hz, 86400 samples\n",
      "1 Trace(s) in Stream:\n",
      "YL.B02..BHZ | 2010-08-31T00:00:00.004000Z - 2010-08-31T23:59:59.004000Z | 1.0 Hz, 86400 samples\n",
      "1 Trace(s) in Stream:\n",
      "YL.B02..BHZ | 2010-08-16T00:00:00.012000Z - 2010-08-16T23:59:59.012000Z | 1.0 Hz, 86400 samples\n",
      "1 Trace(s) in Stream:\n",
      "YL.B02..BHZ | 2010-03-11T00:00:00.021000Z - 2010-03-11T23:59:59.021000Z | 1.0 Hz, 86400 samples\n",
      "1 Trace(s) in Stream:\n",
      "YL.B02..BHZ | 2010-11-16T00:00:00.006000Z - 2010-11-16T23:59:59.006000Z | 1.0 Hz, 86400 samples\n",
      "1 Trace(s) in Stream:\n",
      "YL.B02..BHZ | 2010-07-07T00:00:00.017000Z - 2010-07-07T23:59:59.017000Z | 1.0 Hz, 86400 samples\n",
      "1 Trace(s) in Stream:\n",
      "YL.B02..BHZ | 2010-05-17T00:00:00.014000Z - 2010-05-17T23:59:59.014000Z | 1.0 Hz, 86400 samples\n",
      "1 Trace(s) in Stream:\n",
      "YL.B02..BHZ | 2010-04-19T00:00:00.022000Z - 2010-04-19T23:59:59.022000Z | 1.0 Hz, 86400 samples\n",
      "1 Trace(s) in Stream:\n",
      "YL.B02..BHZ | 2010-07-19T00:00:00.020000Z - 2010-07-19T23:59:59.020000Z | 1.0 Hz, 86400 samples\n",
      "1 Trace(s) in Stream:\n",
      "YL.B02..BHZ | 2010-07-12T00:00:00.022000Z - 2010-07-12T23:59:59.022000Z | 1.0 Hz, 86400 samples\n",
      "1 Trace(s) in Stream:\n",
      "YL.B02..BHZ | 2010-06-03T00:00:00.023000Z - 2010-06-03T23:59:59.023000Z | 1.0 Hz, 86400 samples\n",
      "1 Trace(s) in Stream:\n",
      "YL.B02..BHZ | 2010-04-26T00:00:00.020000Z - 2010-04-26T23:59:59.020000Z | 1.0 Hz, 86400 samples\n",
      "1 Trace(s) in Stream:\n",
      "YL.B02..BHZ | 2010-07-10T00:00:00.005000Z - 2010-07-10T23:59:59.005000Z | 1.0 Hz, 86400 samples\n",
      "1 Trace(s) in Stream:\n",
      "YL.B02..BHZ | 2010-06-10T00:00:00.021000Z - 2010-06-10T23:59:59.021000Z | 1.0 Hz, 86400 samples\n",
      "1 Trace(s) in Stream:\n",
      "YL.B02..BHZ | 2010-08-02T00:00:00.016000Z - 2010-08-02T23:59:59.016000Z | 1.0 Hz, 86400 samples\n",
      "1 Trace(s) in Stream:\n",
      "YL.B02..BHZ | 2010-09-27T00:00:00.024000Z - 2010-09-27T23:59:59.024000Z | 1.0 Hz, 86400 samples\n",
      "1 Trace(s) in Stream:\n",
      "YL.B02..BHZ | 2010-02-10T00:00:00.011000Z - 2010-02-10T23:59:59.011000Z | 1.0 Hz, 86400 samples\n",
      "1 Trace(s) in Stream:\n",
      "YL.B02..BHZ | 2010-07-08T00:00:00.013000Z - 2010-07-08T23:59:59.013000Z | 1.0 Hz, 86400 samples\n",
      "1 Trace(s) in Stream:\n",
      "YL.B02..BHZ | 2010-08-26T00:00:00.023000Z - 2010-08-26T23:59:59.023000Z | 1.0 Hz, 86400 samples\n",
      "1 Trace(s) in Stream:\n",
      "YL.B02..BHZ | 2010-04-25T00:00:00.024000Z - 2010-04-25T23:59:59.024000Z | 1.0 Hz, 86400 samples\n",
      "1 Trace(s) in Stream:\n",
      "YL.B02..BHZ | 2010-04-24T00:00:00.003000Z - 2010-04-24T23:59:59.003000Z | 1.0 Hz, 86400 samples\n",
      "1 Trace(s) in Stream:\n",
      "YL.B02..BHZ | 2010-04-14T00:00:00.017000Z - 2010-04-14T23:59:59.017000Z | 1.0 Hz, 86400 samples\n",
      "1 Trace(s) in Stream:\n",
      "YL.B02..BHZ | 2010-04-06T00:00:00.023000Z - 2010-04-06T23:59:59.023000Z | 1.0 Hz, 86400 samples\n",
      "1 Trace(s) in Stream:\n",
      "YL.B02..BHZ | 2010-03-06T00:00:00.018000Z - 2010-03-06T23:59:59.018000Z | 1.0 Hz, 86400 samples\n",
      "1 Trace(s) in Stream:\n",
      "YL.B02..BHZ | 2010-07-25T00:00:00.022000Z - 2010-07-25T23:59:59.022000Z | 1.0 Hz, 86400 samples\n",
      "1 Trace(s) in Stream:\n",
      "YL.B02..BHZ | 2009-12-25T00:00:00.018000Z - 2009-12-25T23:59:59.018000Z | 1.0 Hz, 86400 samples\n",
      "1 Trace(s) in Stream:\n",
      "YL.B02..BHZ | 2009-12-12T00:00:00.018000Z - 2009-12-12T23:59:59.018000Z | 1.0 Hz, 86400 samples\n",
      "1 Trace(s) in Stream:\n",
      "YL.B02..BHZ | 2010-01-09T00:00:00.010000Z - 2010-01-09T23:59:59.010000Z | 1.0 Hz, 86400 samples\n",
      "1 Trace(s) in Stream:\n",
      "YL.B02..BHZ | 2010-07-14T00:00:00.014000Z - 2010-07-14T23:59:59.014000Z | 1.0 Hz, 86400 samples\n",
      "1 Trace(s) in Stream:\n",
      "YL.B02..BHZ | 2010-10-28T00:00:00.004000Z - 2010-10-28T23:59:59.004000Z | 1.0 Hz, 86400 samples\n",
      "1 Trace(s) in Stream:\n",
      "YL.B02..BHZ | 2010-07-13T00:00:00.018000Z - 2010-07-13T23:59:59.018000Z | 1.0 Hz, 86400 samples\n",
      "1 Trace(s) in Stream:\n",
      "YL.B02..BHZ | 2010-05-18T00:00:00.010000Z - 2010-05-18T23:59:59.010000Z | 1.0 Hz, 86400 samples\n",
      "1 Trace(s) in Stream:\n",
      "YL.B02..BHZ | 2010-09-13T00:00:00.003000Z - 2010-09-13T23:59:59.003000Z | 1.0 Hz, 86400 samples\n",
      "1 Trace(s) in Stream:\n",
      "YL.B02..BHZ | 2010-01-07T00:00:00.017000Z - 2010-01-07T23:59:59.017000Z | 1.0 Hz, 86400 samples\n",
      "1 Trace(s) in Stream:\n",
      "YL.B02..BHZ | 2010-07-11T00:00:00.001000Z - 2010-07-11T23:59:59.001000Z | 1.0 Hz, 86400 samples\n",
      "1 Trace(s) in Stream:\n",
      "YL.B02..BHZ | 2010-09-01T00:00:00.000000Z - 2010-09-02T00:00:00.000000Z | 1.0 Hz, 86401 samples\n",
      "1 Trace(s) in Stream:\n",
      "YL.B02..BHZ | 2010-11-26T00:00:00.017000Z - 2010-11-26T23:59:59.017000Z | 1.0 Hz, 86400 samples\n",
      "1 Trace(s) in Stream:\n",
      "YL.B02..BHZ | 2010-01-19T00:00:00.021000Z - 2010-01-19T23:59:59.021000Z | 1.0 Hz, 86400 samples\n",
      "1 Trace(s) in Stream:\n",
      "YL.B02..BHZ | 2010-10-19T00:00:00.014000Z - 2010-10-19T23:59:59.014000Z | 1.0 Hz, 86400 samples\n",
      "1 Trace(s) in Stream:\n",
      "YL.B02..BHZ | 2010-10-15T00:00:00.004000Z - 2010-10-15T23:59:59.004000Z | 1.0 Hz, 86400 samples\n",
      "1 Trace(s) in Stream:\n",
      "YL.B02..BHZ | 2010-10-22T00:00:00.002000Z - 2010-10-22T23:59:59.002000Z | 1.0 Hz, 86400 samples\n",
      "1 Trace(s) in Stream:\n",
      "YL.B02..BHZ | 2010-04-16T00:00:00.009000Z - 2010-04-16T23:59:59.009000Z | 1.0 Hz, 86400 samples\n",
      "1 Trace(s) in Stream:\n",
      "YL.B02..BHZ | 2009-12-21T00:00:00.008000Z - 2009-12-21T23:59:59.008000Z | 1.0 Hz, 86400 samples\n",
      "1 Trace(s) in Stream:\n",
      "YL.B02..BHZ | 2010-10-12T00:00:00.016000Z - 2010-10-12T23:59:59.016000Z | 1.0 Hz, 86400 samples\n",
      "1 Trace(s) in Stream:\n",
      "YL.B02..BHZ | 2009-12-24T00:00:00.022000Z - 2009-12-24T23:59:59.022000Z | 1.0 Hz, 86400 samples\n",
      "1 Trace(s) in Stream:\n",
      "YL.B02..BHZ | 2010-10-24T00:00:00.020000Z - 2010-10-24T23:59:59.020000Z | 1.0 Hz, 86400 samples\n",
      "1 Trace(s) in Stream:\n",
      "YL.B02..BHZ | 2010-09-21T00:00:00.022000Z - 2010-09-21T23:59:59.022000Z | 1.0 Hz, 86400 samples\n",
      "1 Trace(s) in Stream:\n",
      "YL.B02..BHZ | 2010-02-20T00:00:00.022000Z - 2010-02-20T23:59:59.022000Z | 1.0 Hz, 86400 samples\n",
      "1 Trace(s) in Stream:\n",
      "YL.B02..BHZ | 2010-06-12T00:00:00.013000Z - 2010-06-12T23:59:59.013000Z | 1.0 Hz, 86400 samples\n",
      "1 Trace(s) in Stream:\n",
      "YL.B02..BHZ | 2010-02-12T00:00:00.003000Z - 2010-02-12T23:59:59.003000Z | 1.0 Hz, 86400 samples\n",
      "1 Trace(s) in Stream:\n",
      "YL.B02..BHZ | 2009-12-28T00:00:00.006000Z - 2009-12-28T23:59:59.006000Z | 1.0 Hz, 86400 samples\n",
      "1 Trace(s) in Stream:\n",
      "YL.B02..BHZ | 2010-02-09T00:00:00.015000Z - 2010-02-09T23:59:59.015000Z | 1.0 Hz, 86400 samples\n",
      "1 Trace(s) in Stream:\n",
      "YL.B02..BHZ | 2010-07-16T00:00:00.007000Z - 2010-07-16T23:59:59.007000Z | 1.0 Hz, 86400 samples\n",
      "1 Trace(s) in Stream:\n",
      "YL.B02..BHZ | 2010-08-18T00:00:00.004000Z - 2010-08-18T23:59:59.004000Z | 1.0 Hz, 86400 samples\n",
      "1 Trace(s) in Stream:\n",
      "YL.B02..BHZ | 2010-03-25T00:00:00.019000Z - 2010-03-25T23:59:59.019000Z | 1.0 Hz, 86400 samples\n"
     ]
    },
    {
     "name": "stdout",
     "output_type": "stream",
     "text": [
      "1 Trace(s) in Stream:\n",
      "YL.B02..BHZ | 2010-02-25T00:00:00.003000Z - 2010-02-25T23:59:59.003000Z | 1.0 Hz, 86400 samples\n",
      "1 Trace(s) in Stream:\n",
      "YL.B02..BHZ | 2010-01-14T00:00:00.015000Z - 2010-01-14T23:59:59.015000Z | 1.0 Hz, 86400 samples\n",
      "1 Trace(s) in Stream:\n",
      "YL.B02..BHZ | 2010-04-08T00:00:00.015000Z - 2010-04-08T23:59:59.015000Z | 1.0 Hz, 86400 samples\n",
      "1 Trace(s) in Stream:\n",
      "YL.B02..BHZ | 2010-06-27T00:00:00.005000Z - 2010-06-27T23:59:59.005000Z | 1.0 Hz, 86400 samples\n",
      "1 Trace(s) in Stream:\n",
      "YL.B02..BHZ | 2010-01-28T00:00:00.011000Z - 2010-01-28T23:59:59.011000Z | 1.0 Hz, 86400 samples\n",
      "1 Trace(s) in Stream:\n",
      "YL.B02..BHZ | 2010-03-29T00:00:00.004000Z - 2010-03-29T23:59:59.004000Z | 1.0 Hz, 86400 samples\n",
      "1 Trace(s) in Stream:\n",
      "YL.B02..BHZ | 2010-09-17T00:00:00.013000Z - 2010-09-17T23:59:59.013000Z | 1.0 Hz, 86400 samples\n",
      "1 Trace(s) in Stream:\n",
      "YL.B02..BHZ | 2010-04-15T00:00:00.013000Z - 2010-04-15T23:59:59.013000Z | 1.0 Hz, 86400 samples\n",
      "1 Trace(s) in Stream:\n",
      "YL.B02..BHZ | 2010-03-03T00:00:00.004000Z - 2010-03-03T23:59:59.004000Z | 1.0 Hz, 86400 samples\n",
      "1 Trace(s) in Stream:\n",
      "YL.B02..BHZ | 2010-02-18T00:00:00.005000Z - 2010-02-18T23:59:59.005000Z | 1.0 Hz, 86400 samples\n",
      "1 Trace(s) in Stream:\n",
      "YL.B02..BHZ | 2010-01-17T00:00:00.004000Z - 2010-01-17T23:59:59.004000Z | 1.0 Hz, 86400 samples\n",
      "1 Trace(s) in Stream:\n",
      "YL.B02..BHZ | 2010-05-15T00:00:00.022000Z - 2010-05-15T23:59:59.022000Z | 1.0 Hz, 86400 samples\n",
      "1 Trace(s) in Stream:\n",
      "YL.B02..BHZ | 2010-05-23T00:00:00.016000Z - 2010-05-23T23:59:59.016000Z | 1.0 Hz, 86400 samples\n",
      "1 Trace(s) in Stream:\n",
      "YL.B02..BHZ | 2010-11-17T00:00:00.002000Z - 2010-11-17T23:59:59.002000Z | 1.0 Hz, 86400 samples\n",
      "1 Trace(s) in Stream:\n",
      "YL.B02..BHZ | 2010-03-28T00:00:00.008000Z - 2010-03-28T23:59:59.008000Z | 1.0 Hz, 86400 samples\n",
      "1 Trace(s) in Stream:\n",
      "YL.B02..BHZ | 2010-08-05T00:00:00.004000Z - 2010-08-05T23:59:59.004000Z | 1.0 Hz, 86400 samples\n",
      "1 Trace(s) in Stream:\n",
      "YL.B02..BHZ | 2010-05-26T00:00:00.004000Z - 2010-05-26T23:59:59.004000Z | 1.0 Hz, 86400 samples\n",
      "1 Trace(s) in Stream:\n",
      "YL.B02..BHZ | 2010-03-14T00:00:00.012000Z - 2010-03-14T23:59:59.012000Z | 1.0 Hz, 86400 samples\n",
      "1 Trace(s) in Stream:\n",
      "YL.B02..BHZ | 2010-06-13T00:00:00.009000Z - 2010-06-13T23:59:59.009000Z | 1.0 Hz, 86400 samples\n",
      "1 Trace(s) in Stream:\n",
      "YL.B02..BHZ | 2010-05-12T00:00:00.008000Z - 2010-05-12T23:59:59.008000Z | 1.0 Hz, 86400 samples\n",
      "1 Trace(s) in Stream:\n",
      "YL.B02..BHZ | 2010-10-04T00:00:00.022000Z - 2010-10-04T23:59:59.022000Z | 1.0 Hz, 86400 samples\n"
     ]
    },
    {
     "ename": "KeyboardInterrupt",
     "evalue": "",
     "output_type": "error",
     "traceback": [
      "\u001b[0;31m---------------------------------------------------------------------------\u001b[0m",
      "\u001b[0;31mKeyboardInterrupt\u001b[0m                         Traceback (most recent call last)",
      "\u001b[0;32m/local_scratch/17753807/ipykernel_14735/1480783882.py\u001b[0m in \u001b[0;36m<module>\u001b[0;34m\u001b[0m\n\u001b[1;32m     29\u001b[0m \u001b[0;31m# Load all SAC files in sac_files list using ObsPy\u001b[0m\u001b[0;34m\u001b[0m\u001b[0;34m\u001b[0m\u001b[0m\n\u001b[1;32m     30\u001b[0m \u001b[0;32mfor\u001b[0m \u001b[0msac_file\u001b[0m \u001b[0;32min\u001b[0m \u001b[0msac_files\u001b[0m\u001b[0;34m:\u001b[0m\u001b[0;34m\u001b[0m\u001b[0;34m\u001b[0m\u001b[0m\n\u001b[0;32m---> 31\u001b[0;31m     \u001b[0mst\u001b[0m \u001b[0;34m=\u001b[0m \u001b[0mread\u001b[0m\u001b[0;34m(\u001b[0m\u001b[0msac_file\u001b[0m\u001b[0;34m)\u001b[0m\u001b[0;34m\u001b[0m\u001b[0;34m\u001b[0m\u001b[0m\n\u001b[0m\u001b[1;32m     32\u001b[0m     \u001b[0mprint\u001b[0m\u001b[0;34m(\u001b[0m\u001b[0mst\u001b[0m\u001b[0;34m)\u001b[0m\u001b[0;34m\u001b[0m\u001b[0;34m\u001b[0m\u001b[0m\n",
      "\u001b[0;32m/software/anaconda3/2021.11/lib/python3.9/site-packages/decorator.py\u001b[0m in \u001b[0;36mfun\u001b[0;34m(*args, **kw)\u001b[0m\n\u001b[1;32m    230\u001b[0m             \u001b[0;32mif\u001b[0m \u001b[0;32mnot\u001b[0m \u001b[0mkwsyntax\u001b[0m\u001b[0;34m:\u001b[0m\u001b[0;34m\u001b[0m\u001b[0;34m\u001b[0m\u001b[0m\n\u001b[1;32m    231\u001b[0m                 \u001b[0margs\u001b[0m\u001b[0;34m,\u001b[0m \u001b[0mkw\u001b[0m \u001b[0;34m=\u001b[0m \u001b[0mfix\u001b[0m\u001b[0;34m(\u001b[0m\u001b[0margs\u001b[0m\u001b[0;34m,\u001b[0m \u001b[0mkw\u001b[0m\u001b[0;34m,\u001b[0m \u001b[0msig\u001b[0m\u001b[0;34m)\u001b[0m\u001b[0;34m\u001b[0m\u001b[0;34m\u001b[0m\u001b[0m\n\u001b[0;32m--> 232\u001b[0;31m             \u001b[0;32mreturn\u001b[0m \u001b[0mcaller\u001b[0m\u001b[0;34m(\u001b[0m\u001b[0mfunc\u001b[0m\u001b[0;34m,\u001b[0m \u001b[0;34m*\u001b[0m\u001b[0;34m(\u001b[0m\u001b[0mextras\u001b[0m \u001b[0;34m+\u001b[0m \u001b[0margs\u001b[0m\u001b[0;34m)\u001b[0m\u001b[0;34m,\u001b[0m \u001b[0;34m**\u001b[0m\u001b[0mkw\u001b[0m\u001b[0;34m)\u001b[0m\u001b[0;34m\u001b[0m\u001b[0;34m\u001b[0m\u001b[0m\n\u001b[0m\u001b[1;32m    233\u001b[0m     \u001b[0mfun\u001b[0m\u001b[0;34m.\u001b[0m\u001b[0m__name__\u001b[0m \u001b[0;34m=\u001b[0m \u001b[0mfunc\u001b[0m\u001b[0;34m.\u001b[0m\u001b[0m__name__\u001b[0m\u001b[0;34m\u001b[0m\u001b[0;34m\u001b[0m\u001b[0m\n\u001b[1;32m    234\u001b[0m     \u001b[0mfun\u001b[0m\u001b[0;34m.\u001b[0m\u001b[0m__doc__\u001b[0m \u001b[0;34m=\u001b[0m \u001b[0mfunc\u001b[0m\u001b[0;34m.\u001b[0m\u001b[0m__doc__\u001b[0m\u001b[0;34m\u001b[0m\u001b[0;34m\u001b[0m\u001b[0m\n",
      "\u001b[0;32m~/.local/lib/python3.9/site-packages/obspy/core/util/decorator.py\u001b[0m in \u001b[0;36m_map_example_filename\u001b[0;34m(func, *args, **kwargs)\u001b[0m\n\u001b[1;32m    295\u001b[0m                         \u001b[0;32mexcept\u001b[0m \u001b[0mIOError\u001b[0m\u001b[0;34m:\u001b[0m\u001b[0;34m\u001b[0m\u001b[0;34m\u001b[0m\u001b[0m\n\u001b[1;32m    296\u001b[0m                             \u001b[0;32mpass\u001b[0m\u001b[0;34m\u001b[0m\u001b[0;34m\u001b[0m\u001b[0m\n\u001b[0;32m--> 297\u001b[0;31m         \u001b[0;32mreturn\u001b[0m \u001b[0mfunc\u001b[0m\u001b[0;34m(\u001b[0m\u001b[0;34m*\u001b[0m\u001b[0margs\u001b[0m\u001b[0;34m,\u001b[0m \u001b[0;34m**\u001b[0m\u001b[0mkwargs\u001b[0m\u001b[0;34m)\u001b[0m\u001b[0;34m\u001b[0m\u001b[0;34m\u001b[0m\u001b[0m\n\u001b[0m\u001b[1;32m    298\u001b[0m     \u001b[0;32mreturn\u001b[0m \u001b[0m_map_example_filename\u001b[0m\u001b[0;34m\u001b[0m\u001b[0;34m\u001b[0m\u001b[0m\n\u001b[1;32m    299\u001b[0m \u001b[0;34m\u001b[0m\u001b[0m\n",
      "\u001b[0;32m~/.local/lib/python3.9/site-packages/obspy/core/stream.py\u001b[0m in \u001b[0;36mread\u001b[0;34m(pathname_or_url, format, headonly, starttime, endtime, nearest_sample, dtype, apply_calib, check_compression, **kwargs)\u001b[0m\n\u001b[1;32m    206\u001b[0m         \u001b[0mst\u001b[0m \u001b[0;34m=\u001b[0m \u001b[0m_create_example_stream\u001b[0m\u001b[0;34m(\u001b[0m\u001b[0mheadonly\u001b[0m\u001b[0;34m=\u001b[0m\u001b[0mheadonly\u001b[0m\u001b[0;34m)\u001b[0m\u001b[0;34m\u001b[0m\u001b[0;34m\u001b[0m\u001b[0m\n\u001b[1;32m    207\u001b[0m     \u001b[0;32melse\u001b[0m\u001b[0;34m:\u001b[0m\u001b[0;34m\u001b[0m\u001b[0;34m\u001b[0m\u001b[0m\n\u001b[0;32m--> 208\u001b[0;31m         \u001b[0mst\u001b[0m \u001b[0;34m=\u001b[0m \u001b[0m_generic_reader\u001b[0m\u001b[0;34m(\u001b[0m\u001b[0mpathname_or_url\u001b[0m\u001b[0;34m,\u001b[0m \u001b[0m_read\u001b[0m\u001b[0;34m,\u001b[0m \u001b[0;34m**\u001b[0m\u001b[0mkwargs\u001b[0m\u001b[0;34m)\u001b[0m\u001b[0;34m\u001b[0m\u001b[0;34m\u001b[0m\u001b[0m\n\u001b[0m\u001b[1;32m    209\u001b[0m \u001b[0;34m\u001b[0m\u001b[0m\n\u001b[1;32m    210\u001b[0m     \u001b[0;32mif\u001b[0m \u001b[0mlen\u001b[0m\u001b[0;34m(\u001b[0m\u001b[0mst\u001b[0m\u001b[0;34m)\u001b[0m \u001b[0;34m==\u001b[0m \u001b[0;36m0\u001b[0m\u001b[0;34m:\u001b[0m\u001b[0;34m\u001b[0m\u001b[0;34m\u001b[0m\u001b[0m\n",
      "\u001b[0;32m~/.local/lib/python3.9/site-packages/obspy/core/util/base.py\u001b[0m in \u001b[0;36m_generic_reader\u001b[0;34m(pathname_or_url, callback_func, **kwargs)\u001b[0m\n\u001b[1;32m    656\u001b[0m                 \u001b[0;32mraise\u001b[0m \u001b[0mIOError\u001b[0m\u001b[0;34m(\u001b[0m\u001b[0;36m2\u001b[0m\u001b[0;34m,\u001b[0m \u001b[0;34m\"No such file or directory\"\u001b[0m\u001b[0;34m,\u001b[0m \u001b[0mpathname\u001b[0m\u001b[0;34m)\u001b[0m\u001b[0;34m\u001b[0m\u001b[0;34m\u001b[0m\u001b[0m\n\u001b[1;32m    657\u001b[0m \u001b[0;34m\u001b[0m\u001b[0m\n\u001b[0;32m--> 658\u001b[0;31m         \u001b[0mgeneric\u001b[0m \u001b[0;34m=\u001b[0m \u001b[0mcallback_func\u001b[0m\u001b[0;34m(\u001b[0m\u001b[0mpathnames\u001b[0m\u001b[0;34m[\u001b[0m\u001b[0;36m0\u001b[0m\u001b[0;34m]\u001b[0m\u001b[0;34m,\u001b[0m \u001b[0;34m**\u001b[0m\u001b[0mkwargs\u001b[0m\u001b[0;34m)\u001b[0m\u001b[0;34m\u001b[0m\u001b[0;34m\u001b[0m\u001b[0m\n\u001b[0m\u001b[1;32m    659\u001b[0m         \u001b[0;32mif\u001b[0m \u001b[0mlen\u001b[0m\u001b[0;34m(\u001b[0m\u001b[0mpathnames\u001b[0m\u001b[0;34m)\u001b[0m \u001b[0;34m>\u001b[0m \u001b[0;36m1\u001b[0m\u001b[0;34m:\u001b[0m\u001b[0;34m\u001b[0m\u001b[0;34m\u001b[0m\u001b[0m\n\u001b[1;32m    660\u001b[0m             \u001b[0;32mfor\u001b[0m \u001b[0mfilename\u001b[0m \u001b[0;32min\u001b[0m \u001b[0mpathnames\u001b[0m\u001b[0;34m[\u001b[0m\u001b[0;36m1\u001b[0m\u001b[0;34m:\u001b[0m\u001b[0;34m]\u001b[0m\u001b[0;34m:\u001b[0m\u001b[0;34m\u001b[0m\u001b[0;34m\u001b[0m\u001b[0m\n",
      "\u001b[0;32m/software/anaconda3/2021.11/lib/python3.9/site-packages/decorator.py\u001b[0m in \u001b[0;36mfun\u001b[0;34m(*args, **kw)\u001b[0m\n\u001b[1;32m    230\u001b[0m             \u001b[0;32mif\u001b[0m \u001b[0;32mnot\u001b[0m \u001b[0mkwsyntax\u001b[0m\u001b[0;34m:\u001b[0m\u001b[0;34m\u001b[0m\u001b[0;34m\u001b[0m\u001b[0m\n\u001b[1;32m    231\u001b[0m                 \u001b[0margs\u001b[0m\u001b[0;34m,\u001b[0m \u001b[0mkw\u001b[0m \u001b[0;34m=\u001b[0m \u001b[0mfix\u001b[0m\u001b[0;34m(\u001b[0m\u001b[0margs\u001b[0m\u001b[0;34m,\u001b[0m \u001b[0mkw\u001b[0m\u001b[0;34m,\u001b[0m \u001b[0msig\u001b[0m\u001b[0;34m)\u001b[0m\u001b[0;34m\u001b[0m\u001b[0;34m\u001b[0m\u001b[0m\n\u001b[0;32m--> 232\u001b[0;31m             \u001b[0;32mreturn\u001b[0m \u001b[0mcaller\u001b[0m\u001b[0;34m(\u001b[0m\u001b[0mfunc\u001b[0m\u001b[0;34m,\u001b[0m \u001b[0;34m*\u001b[0m\u001b[0;34m(\u001b[0m\u001b[0mextras\u001b[0m \u001b[0;34m+\u001b[0m \u001b[0margs\u001b[0m\u001b[0;34m)\u001b[0m\u001b[0;34m,\u001b[0m \u001b[0;34m**\u001b[0m\u001b[0mkw\u001b[0m\u001b[0;34m)\u001b[0m\u001b[0;34m\u001b[0m\u001b[0;34m\u001b[0m\u001b[0m\n\u001b[0m\u001b[1;32m    233\u001b[0m     \u001b[0mfun\u001b[0m\u001b[0;34m.\u001b[0m\u001b[0m__name__\u001b[0m \u001b[0;34m=\u001b[0m \u001b[0mfunc\u001b[0m\u001b[0;34m.\u001b[0m\u001b[0m__name__\u001b[0m\u001b[0;34m\u001b[0m\u001b[0;34m\u001b[0m\u001b[0m\n\u001b[1;32m    234\u001b[0m     \u001b[0mfun\u001b[0m\u001b[0;34m.\u001b[0m\u001b[0m__doc__\u001b[0m \u001b[0;34m=\u001b[0m \u001b[0mfunc\u001b[0m\u001b[0;34m.\u001b[0m\u001b[0m__doc__\u001b[0m\u001b[0;34m\u001b[0m\u001b[0;34m\u001b[0m\u001b[0m\n",
      "\u001b[0;32m~/.local/lib/python3.9/site-packages/obspy/core/util/decorator.py\u001b[0m in \u001b[0;36muncompress_file\u001b[0;34m(func, filename, *args, **kwargs)\u001b[0m\n\u001b[1;32m    146\u001b[0m     \u001b[0;31m# check if we got a compressed file or archive\u001b[0m\u001b[0;34m\u001b[0m\u001b[0;34m\u001b[0m\u001b[0m\n\u001b[1;32m    147\u001b[0m     \u001b[0mobj_list\u001b[0m \u001b[0;34m=\u001b[0m \u001b[0;34m[\u001b[0m\u001b[0;34m]\u001b[0m\u001b[0;34m\u001b[0m\u001b[0;34m\u001b[0m\u001b[0m\n\u001b[0;32m--> 148\u001b[0;31m     \u001b[0;32mif\u001b[0m \u001b[0mtarfile\u001b[0m\u001b[0;34m.\u001b[0m\u001b[0mis_tarfile\u001b[0m\u001b[0;34m(\u001b[0m\u001b[0mfilename\u001b[0m\u001b[0;34m)\u001b[0m\u001b[0;34m:\u001b[0m\u001b[0;34m\u001b[0m\u001b[0;34m\u001b[0m\u001b[0m\n\u001b[0m\u001b[1;32m    149\u001b[0m         \u001b[0;32mtry\u001b[0m\u001b[0;34m:\u001b[0m\u001b[0;34m\u001b[0m\u001b[0;34m\u001b[0m\u001b[0m\n\u001b[1;32m    150\u001b[0m             \u001b[0;31m# reading with transparent compression\u001b[0m\u001b[0;34m\u001b[0m\u001b[0;34m\u001b[0m\u001b[0m\n",
      "\u001b[0;32m/software/anaconda3/2021.11/lib/python3.9/tarfile.py\u001b[0m in \u001b[0;36mis_tarfile\u001b[0;34m(name)\u001b[0m\n\u001b[1;32m   2483\u001b[0m             \u001b[0mt\u001b[0m \u001b[0;34m=\u001b[0m \u001b[0mopen\u001b[0m\u001b[0;34m(\u001b[0m\u001b[0mfileobj\u001b[0m\u001b[0;34m=\u001b[0m\u001b[0mname\u001b[0m\u001b[0;34m)\u001b[0m\u001b[0;34m\u001b[0m\u001b[0;34m\u001b[0m\u001b[0m\n\u001b[1;32m   2484\u001b[0m         \u001b[0;32melse\u001b[0m\u001b[0;34m:\u001b[0m\u001b[0;34m\u001b[0m\u001b[0;34m\u001b[0m\u001b[0m\n\u001b[0;32m-> 2485\u001b[0;31m             \u001b[0mt\u001b[0m \u001b[0;34m=\u001b[0m \u001b[0mopen\u001b[0m\u001b[0;34m(\u001b[0m\u001b[0mname\u001b[0m\u001b[0;34m)\u001b[0m\u001b[0;34m\u001b[0m\u001b[0;34m\u001b[0m\u001b[0m\n\u001b[0m\u001b[1;32m   2486\u001b[0m         \u001b[0mt\u001b[0m\u001b[0;34m.\u001b[0m\u001b[0mclose\u001b[0m\u001b[0;34m(\u001b[0m\u001b[0;34m)\u001b[0m\u001b[0;34m\u001b[0m\u001b[0;34m\u001b[0m\u001b[0m\n\u001b[1;32m   2487\u001b[0m         \u001b[0;32mreturn\u001b[0m \u001b[0;32mTrue\u001b[0m\u001b[0;34m\u001b[0m\u001b[0;34m\u001b[0m\u001b[0m\n",
      "\u001b[0;32m/software/anaconda3/2021.11/lib/python3.9/tarfile.py\u001b[0m in \u001b[0;36mopen\u001b[0;34m(cls, name, mode, fileobj, bufsize, **kwargs)\u001b[0m\n\u001b[1;32m   1609\u001b[0m                     \u001b[0msaved_pos\u001b[0m \u001b[0;34m=\u001b[0m \u001b[0mfileobj\u001b[0m\u001b[0;34m.\u001b[0m\u001b[0mtell\u001b[0m\u001b[0;34m(\u001b[0m\u001b[0;34m)\u001b[0m\u001b[0;34m\u001b[0m\u001b[0;34m\u001b[0m\u001b[0m\n\u001b[1;32m   1610\u001b[0m                 \u001b[0;32mtry\u001b[0m\u001b[0;34m:\u001b[0m\u001b[0;34m\u001b[0m\u001b[0;34m\u001b[0m\u001b[0m\n\u001b[0;32m-> 1611\u001b[0;31m                     \u001b[0;32mreturn\u001b[0m \u001b[0mfunc\u001b[0m\u001b[0;34m(\u001b[0m\u001b[0mname\u001b[0m\u001b[0;34m,\u001b[0m \u001b[0;34m\"r\"\u001b[0m\u001b[0;34m,\u001b[0m \u001b[0mfileobj\u001b[0m\u001b[0;34m,\u001b[0m \u001b[0;34m**\u001b[0m\u001b[0mkwargs\u001b[0m\u001b[0;34m)\u001b[0m\u001b[0;34m\u001b[0m\u001b[0;34m\u001b[0m\u001b[0m\n\u001b[0m\u001b[1;32m   1612\u001b[0m                 \u001b[0;32mexcept\u001b[0m \u001b[0;34m(\u001b[0m\u001b[0mReadError\u001b[0m\u001b[0;34m,\u001b[0m \u001b[0mCompressionError\u001b[0m\u001b[0;34m)\u001b[0m\u001b[0;34m:\u001b[0m\u001b[0;34m\u001b[0m\u001b[0;34m\u001b[0m\u001b[0m\n\u001b[1;32m   1613\u001b[0m                     \u001b[0;32mif\u001b[0m \u001b[0mfileobj\u001b[0m \u001b[0;32mis\u001b[0m \u001b[0;32mnot\u001b[0m \u001b[0;32mNone\u001b[0m\u001b[0;34m:\u001b[0m\u001b[0;34m\u001b[0m\u001b[0;34m\u001b[0m\u001b[0m\n",
      "\u001b[0;32m/software/anaconda3/2021.11/lib/python3.9/tarfile.py\u001b[0m in \u001b[0;36mgzopen\u001b[0;34m(cls, name, mode, fileobj, compresslevel, **kwargs)\u001b[0m\n\u001b[1;32m   1680\u001b[0m \u001b[0;34m\u001b[0m\u001b[0m\n\u001b[1;32m   1681\u001b[0m         \u001b[0;32mtry\u001b[0m\u001b[0;34m:\u001b[0m\u001b[0;34m\u001b[0m\u001b[0;34m\u001b[0m\u001b[0m\n\u001b[0;32m-> 1682\u001b[0;31m             \u001b[0mt\u001b[0m \u001b[0;34m=\u001b[0m \u001b[0mcls\u001b[0m\u001b[0;34m.\u001b[0m\u001b[0mtaropen\u001b[0m\u001b[0;34m(\u001b[0m\u001b[0mname\u001b[0m\u001b[0;34m,\u001b[0m \u001b[0mmode\u001b[0m\u001b[0;34m,\u001b[0m \u001b[0mfileobj\u001b[0m\u001b[0;34m,\u001b[0m \u001b[0;34m**\u001b[0m\u001b[0mkwargs\u001b[0m\u001b[0;34m)\u001b[0m\u001b[0;34m\u001b[0m\u001b[0;34m\u001b[0m\u001b[0m\n\u001b[0m\u001b[1;32m   1683\u001b[0m         \u001b[0;32mexcept\u001b[0m \u001b[0mOSError\u001b[0m\u001b[0;34m:\u001b[0m\u001b[0;34m\u001b[0m\u001b[0;34m\u001b[0m\u001b[0m\n\u001b[1;32m   1684\u001b[0m             \u001b[0mfileobj\u001b[0m\u001b[0;34m.\u001b[0m\u001b[0mclose\u001b[0m\u001b[0;34m(\u001b[0m\u001b[0;34m)\u001b[0m\u001b[0;34m\u001b[0m\u001b[0;34m\u001b[0m\u001b[0m\n",
      "\u001b[0;32m/software/anaconda3/2021.11/lib/python3.9/tarfile.py\u001b[0m in \u001b[0;36mtaropen\u001b[0;34m(cls, name, mode, fileobj, **kwargs)\u001b[0m\n\u001b[1;32m   1657\u001b[0m         \u001b[0;32mif\u001b[0m \u001b[0mmode\u001b[0m \u001b[0;32mnot\u001b[0m \u001b[0;32min\u001b[0m \u001b[0;34m(\u001b[0m\u001b[0;34m\"r\"\u001b[0m\u001b[0;34m,\u001b[0m \u001b[0;34m\"a\"\u001b[0m\u001b[0;34m,\u001b[0m \u001b[0;34m\"w\"\u001b[0m\u001b[0;34m,\u001b[0m \u001b[0;34m\"x\"\u001b[0m\u001b[0;34m)\u001b[0m\u001b[0;34m:\u001b[0m\u001b[0;34m\u001b[0m\u001b[0;34m\u001b[0m\u001b[0m\n\u001b[1;32m   1658\u001b[0m             \u001b[0;32mraise\u001b[0m \u001b[0mValueError\u001b[0m\u001b[0;34m(\u001b[0m\u001b[0;34m\"mode must be 'r', 'a', 'w' or 'x'\"\u001b[0m\u001b[0;34m)\u001b[0m\u001b[0;34m\u001b[0m\u001b[0;34m\u001b[0m\u001b[0m\n\u001b[0;32m-> 1659\u001b[0;31m         \u001b[0;32mreturn\u001b[0m \u001b[0mcls\u001b[0m\u001b[0;34m(\u001b[0m\u001b[0mname\u001b[0m\u001b[0;34m,\u001b[0m \u001b[0mmode\u001b[0m\u001b[0;34m,\u001b[0m \u001b[0mfileobj\u001b[0m\u001b[0;34m,\u001b[0m \u001b[0;34m**\u001b[0m\u001b[0mkwargs\u001b[0m\u001b[0;34m)\u001b[0m\u001b[0;34m\u001b[0m\u001b[0;34m\u001b[0m\u001b[0m\n\u001b[0m\u001b[1;32m   1660\u001b[0m \u001b[0;34m\u001b[0m\u001b[0m\n\u001b[1;32m   1661\u001b[0m     \u001b[0;34m@\u001b[0m\u001b[0mclassmethod\u001b[0m\u001b[0;34m\u001b[0m\u001b[0;34m\u001b[0m\u001b[0m\n",
      "\u001b[0;32m/software/anaconda3/2021.11/lib/python3.9/tarfile.py\u001b[0m in \u001b[0;36m__init__\u001b[0;34m(self, name, mode, fileobj, format, tarinfo, dereference, ignore_zeros, encoding, errors, pax_headers, debug, errorlevel, copybufsize)\u001b[0m\n\u001b[1;32m   1520\u001b[0m             \u001b[0;32mif\u001b[0m \u001b[0mself\u001b[0m\u001b[0;34m.\u001b[0m\u001b[0mmode\u001b[0m \u001b[0;34m==\u001b[0m \u001b[0;34m\"r\"\u001b[0m\u001b[0;34m:\u001b[0m\u001b[0;34m\u001b[0m\u001b[0;34m\u001b[0m\u001b[0m\n\u001b[1;32m   1521\u001b[0m                 \u001b[0mself\u001b[0m\u001b[0;34m.\u001b[0m\u001b[0mfirstmember\u001b[0m \u001b[0;34m=\u001b[0m \u001b[0;32mNone\u001b[0m\u001b[0;34m\u001b[0m\u001b[0;34m\u001b[0m\u001b[0m\n\u001b[0;32m-> 1522\u001b[0;31m                 \u001b[0mself\u001b[0m\u001b[0;34m.\u001b[0m\u001b[0mfirstmember\u001b[0m \u001b[0;34m=\u001b[0m \u001b[0mself\u001b[0m\u001b[0;34m.\u001b[0m\u001b[0mnext\u001b[0m\u001b[0;34m(\u001b[0m\u001b[0;34m)\u001b[0m\u001b[0;34m\u001b[0m\u001b[0;34m\u001b[0m\u001b[0m\n\u001b[0m\u001b[1;32m   1523\u001b[0m \u001b[0;34m\u001b[0m\u001b[0m\n\u001b[1;32m   1524\u001b[0m             \u001b[0;32mif\u001b[0m \u001b[0mself\u001b[0m\u001b[0;34m.\u001b[0m\u001b[0mmode\u001b[0m \u001b[0;34m==\u001b[0m \u001b[0;34m\"a\"\u001b[0m\u001b[0;34m:\u001b[0m\u001b[0;34m\u001b[0m\u001b[0;34m\u001b[0m\u001b[0m\n",
      "\u001b[0;32m/software/anaconda3/2021.11/lib/python3.9/tarfile.py\u001b[0m in \u001b[0;36mnext\u001b[0;34m(self)\u001b[0m\n\u001b[1;32m   2325\u001b[0m         \u001b[0;32mwhile\u001b[0m \u001b[0;32mTrue\u001b[0m\u001b[0;34m:\u001b[0m\u001b[0;34m\u001b[0m\u001b[0;34m\u001b[0m\u001b[0m\n\u001b[1;32m   2326\u001b[0m             \u001b[0;32mtry\u001b[0m\u001b[0;34m:\u001b[0m\u001b[0;34m\u001b[0m\u001b[0;34m\u001b[0m\u001b[0m\n\u001b[0;32m-> 2327\u001b[0;31m                 \u001b[0mtarinfo\u001b[0m \u001b[0;34m=\u001b[0m \u001b[0mself\u001b[0m\u001b[0;34m.\u001b[0m\u001b[0mtarinfo\u001b[0m\u001b[0;34m.\u001b[0m\u001b[0mfromtarfile\u001b[0m\u001b[0;34m(\u001b[0m\u001b[0mself\u001b[0m\u001b[0;34m)\u001b[0m\u001b[0;34m\u001b[0m\u001b[0;34m\u001b[0m\u001b[0m\n\u001b[0m\u001b[1;32m   2328\u001b[0m             \u001b[0;32mexcept\u001b[0m \u001b[0mEOFHeaderError\u001b[0m \u001b[0;32mas\u001b[0m \u001b[0me\u001b[0m\u001b[0;34m:\u001b[0m\u001b[0;34m\u001b[0m\u001b[0;34m\u001b[0m\u001b[0m\n\u001b[1;32m   2329\u001b[0m                 \u001b[0;32mif\u001b[0m \u001b[0mself\u001b[0m\u001b[0;34m.\u001b[0m\u001b[0mignore_zeros\u001b[0m\u001b[0;34m:\u001b[0m\u001b[0;34m\u001b[0m\u001b[0;34m\u001b[0m\u001b[0m\n",
      "\u001b[0;32m/software/anaconda3/2021.11/lib/python3.9/tarfile.py\u001b[0m in \u001b[0;36mfromtarfile\u001b[0;34m(cls, tarfile)\u001b[0m\n\u001b[1;32m   1110\u001b[0m            \u001b[0mtarfile\u001b[0m\u001b[0;34m.\u001b[0m\u001b[0;34m\u001b[0m\u001b[0;34m\u001b[0m\u001b[0m\n\u001b[1;32m   1111\u001b[0m         \"\"\"\n\u001b[0;32m-> 1112\u001b[0;31m         \u001b[0mbuf\u001b[0m \u001b[0;34m=\u001b[0m \u001b[0mtarfile\u001b[0m\u001b[0;34m.\u001b[0m\u001b[0mfileobj\u001b[0m\u001b[0;34m.\u001b[0m\u001b[0mread\u001b[0m\u001b[0;34m(\u001b[0m\u001b[0mBLOCKSIZE\u001b[0m\u001b[0;34m)\u001b[0m\u001b[0;34m\u001b[0m\u001b[0;34m\u001b[0m\u001b[0m\n\u001b[0m\u001b[1;32m   1113\u001b[0m         \u001b[0mobj\u001b[0m \u001b[0;34m=\u001b[0m \u001b[0mcls\u001b[0m\u001b[0;34m.\u001b[0m\u001b[0mfrombuf\u001b[0m\u001b[0;34m(\u001b[0m\u001b[0mbuf\u001b[0m\u001b[0;34m,\u001b[0m \u001b[0mtarfile\u001b[0m\u001b[0;34m.\u001b[0m\u001b[0mencoding\u001b[0m\u001b[0;34m,\u001b[0m \u001b[0mtarfile\u001b[0m\u001b[0;34m.\u001b[0m\u001b[0merrors\u001b[0m\u001b[0;34m)\u001b[0m\u001b[0;34m\u001b[0m\u001b[0;34m\u001b[0m\u001b[0m\n\u001b[1;32m   1114\u001b[0m         \u001b[0mobj\u001b[0m\u001b[0;34m.\u001b[0m\u001b[0moffset\u001b[0m \u001b[0;34m=\u001b[0m \u001b[0mtarfile\u001b[0m\u001b[0;34m.\u001b[0m\u001b[0mfileobj\u001b[0m\u001b[0;34m.\u001b[0m\u001b[0mtell\u001b[0m\u001b[0;34m(\u001b[0m\u001b[0;34m)\u001b[0m \u001b[0;34m-\u001b[0m \u001b[0mBLOCKSIZE\u001b[0m\u001b[0;34m\u001b[0m\u001b[0;34m\u001b[0m\u001b[0m\n",
      "\u001b[0;32m/software/anaconda3/2021.11/lib/python3.9/gzip.py\u001b[0m in \u001b[0;36mread\u001b[0;34m(self, size)\u001b[0m\n\u001b[1;32m    298\u001b[0m             \u001b[0;32mimport\u001b[0m \u001b[0merrno\u001b[0m\u001b[0;34m\u001b[0m\u001b[0;34m\u001b[0m\u001b[0m\n\u001b[1;32m    299\u001b[0m             \u001b[0;32mraise\u001b[0m \u001b[0mOSError\u001b[0m\u001b[0;34m(\u001b[0m\u001b[0merrno\u001b[0m\u001b[0;34m.\u001b[0m\u001b[0mEBADF\u001b[0m\u001b[0;34m,\u001b[0m \u001b[0;34m\"read() on write-only GzipFile object\"\u001b[0m\u001b[0;34m)\u001b[0m\u001b[0;34m\u001b[0m\u001b[0;34m\u001b[0m\u001b[0m\n\u001b[0;32m--> 300\u001b[0;31m         \u001b[0;32mreturn\u001b[0m \u001b[0mself\u001b[0m\u001b[0;34m.\u001b[0m\u001b[0m_buffer\u001b[0m\u001b[0;34m.\u001b[0m\u001b[0mread\u001b[0m\u001b[0;34m(\u001b[0m\u001b[0msize\u001b[0m\u001b[0;34m)\u001b[0m\u001b[0;34m\u001b[0m\u001b[0;34m\u001b[0m\u001b[0m\n\u001b[0m\u001b[1;32m    301\u001b[0m \u001b[0;34m\u001b[0m\u001b[0m\n\u001b[1;32m    302\u001b[0m     \u001b[0;32mdef\u001b[0m \u001b[0mread1\u001b[0m\u001b[0;34m(\u001b[0m\u001b[0mself\u001b[0m\u001b[0;34m,\u001b[0m \u001b[0msize\u001b[0m\u001b[0;34m=\u001b[0m\u001b[0;34m-\u001b[0m\u001b[0;36m1\u001b[0m\u001b[0;34m)\u001b[0m\u001b[0;34m:\u001b[0m\u001b[0;34m\u001b[0m\u001b[0;34m\u001b[0m\u001b[0m\n",
      "\u001b[0;32m/software/anaconda3/2021.11/lib/python3.9/_compression.py\u001b[0m in \u001b[0;36mreadinto\u001b[0;34m(self, b)\u001b[0m\n\u001b[1;32m     66\u001b[0m     \u001b[0;32mdef\u001b[0m \u001b[0mreadinto\u001b[0m\u001b[0;34m(\u001b[0m\u001b[0mself\u001b[0m\u001b[0;34m,\u001b[0m \u001b[0mb\u001b[0m\u001b[0;34m)\u001b[0m\u001b[0;34m:\u001b[0m\u001b[0;34m\u001b[0m\u001b[0;34m\u001b[0m\u001b[0m\n\u001b[1;32m     67\u001b[0m         \u001b[0;32mwith\u001b[0m \u001b[0mmemoryview\u001b[0m\u001b[0;34m(\u001b[0m\u001b[0mb\u001b[0m\u001b[0;34m)\u001b[0m \u001b[0;32mas\u001b[0m \u001b[0mview\u001b[0m\u001b[0;34m,\u001b[0m \u001b[0mview\u001b[0m\u001b[0;34m.\u001b[0m\u001b[0mcast\u001b[0m\u001b[0;34m(\u001b[0m\u001b[0;34m\"B\"\u001b[0m\u001b[0;34m)\u001b[0m \u001b[0;32mas\u001b[0m \u001b[0mbyte_view\u001b[0m\u001b[0;34m:\u001b[0m\u001b[0;34m\u001b[0m\u001b[0;34m\u001b[0m\u001b[0m\n\u001b[0;32m---> 68\u001b[0;31m             \u001b[0mdata\u001b[0m \u001b[0;34m=\u001b[0m \u001b[0mself\u001b[0m\u001b[0;34m.\u001b[0m\u001b[0mread\u001b[0m\u001b[0;34m(\u001b[0m\u001b[0mlen\u001b[0m\u001b[0;34m(\u001b[0m\u001b[0mbyte_view\u001b[0m\u001b[0;34m)\u001b[0m\u001b[0;34m)\u001b[0m\u001b[0;34m\u001b[0m\u001b[0;34m\u001b[0m\u001b[0m\n\u001b[0m\u001b[1;32m     69\u001b[0m             \u001b[0mbyte_view\u001b[0m\u001b[0;34m[\u001b[0m\u001b[0;34m:\u001b[0m\u001b[0mlen\u001b[0m\u001b[0;34m(\u001b[0m\u001b[0mdata\u001b[0m\u001b[0;34m)\u001b[0m\u001b[0;34m]\u001b[0m \u001b[0;34m=\u001b[0m \u001b[0mdata\u001b[0m\u001b[0;34m\u001b[0m\u001b[0;34m\u001b[0m\u001b[0m\n\u001b[1;32m     70\u001b[0m         \u001b[0;32mreturn\u001b[0m \u001b[0mlen\u001b[0m\u001b[0;34m(\u001b[0m\u001b[0mdata\u001b[0m\u001b[0;34m)\u001b[0m\u001b[0;34m\u001b[0m\u001b[0;34m\u001b[0m\u001b[0m\n",
      "\u001b[0;32m/software/anaconda3/2021.11/lib/python3.9/gzip.py\u001b[0m in \u001b[0;36mread\u001b[0;34m(self, size)\u001b[0m\n\u001b[1;32m    485\u001b[0m                 \u001b[0;31m# jump to the next member, if there is one.\u001b[0m\u001b[0;34m\u001b[0m\u001b[0;34m\u001b[0m\u001b[0m\n\u001b[1;32m    486\u001b[0m                 \u001b[0mself\u001b[0m\u001b[0;34m.\u001b[0m\u001b[0m_init_read\u001b[0m\u001b[0;34m(\u001b[0m\u001b[0;34m)\u001b[0m\u001b[0;34m\u001b[0m\u001b[0;34m\u001b[0m\u001b[0m\n\u001b[0;32m--> 487\u001b[0;31m                 \u001b[0;32mif\u001b[0m \u001b[0;32mnot\u001b[0m \u001b[0mself\u001b[0m\u001b[0;34m.\u001b[0m\u001b[0m_read_gzip_header\u001b[0m\u001b[0;34m(\u001b[0m\u001b[0;34m)\u001b[0m\u001b[0;34m:\u001b[0m\u001b[0;34m\u001b[0m\u001b[0;34m\u001b[0m\u001b[0m\n\u001b[0m\u001b[1;32m    488\u001b[0m                     \u001b[0mself\u001b[0m\u001b[0;34m.\u001b[0m\u001b[0m_size\u001b[0m \u001b[0;34m=\u001b[0m \u001b[0mself\u001b[0m\u001b[0;34m.\u001b[0m\u001b[0m_pos\u001b[0m\u001b[0;34m\u001b[0m\u001b[0;34m\u001b[0m\u001b[0m\n\u001b[1;32m    489\u001b[0m                     \u001b[0;32mreturn\u001b[0m \u001b[0;34mb\"\"\u001b[0m\u001b[0;34m\u001b[0m\u001b[0;34m\u001b[0m\u001b[0m\n",
      "\u001b[0;32m/software/anaconda3/2021.11/lib/python3.9/gzip.py\u001b[0m in \u001b[0;36m_read_gzip_header\u001b[0;34m(self)\u001b[0m\n\u001b[1;32m    428\u001b[0m \u001b[0;34m\u001b[0m\u001b[0m\n\u001b[1;32m    429\u001b[0m     \u001b[0;32mdef\u001b[0m \u001b[0m_read_gzip_header\u001b[0m\u001b[0;34m(\u001b[0m\u001b[0mself\u001b[0m\u001b[0;34m)\u001b[0m\u001b[0;34m:\u001b[0m\u001b[0;34m\u001b[0m\u001b[0;34m\u001b[0m\u001b[0m\n\u001b[0;32m--> 430\u001b[0;31m         \u001b[0mmagic\u001b[0m \u001b[0;34m=\u001b[0m \u001b[0mself\u001b[0m\u001b[0;34m.\u001b[0m\u001b[0m_fp\u001b[0m\u001b[0;34m.\u001b[0m\u001b[0mread\u001b[0m\u001b[0;34m(\u001b[0m\u001b[0;36m2\u001b[0m\u001b[0;34m)\u001b[0m\u001b[0;34m\u001b[0m\u001b[0;34m\u001b[0m\u001b[0m\n\u001b[0m\u001b[1;32m    431\u001b[0m         \u001b[0;32mif\u001b[0m \u001b[0mmagic\u001b[0m \u001b[0;34m==\u001b[0m \u001b[0;34mb''\u001b[0m\u001b[0;34m:\u001b[0m\u001b[0;34m\u001b[0m\u001b[0;34m\u001b[0m\u001b[0m\n\u001b[1;32m    432\u001b[0m             \u001b[0;32mreturn\u001b[0m \u001b[0;32mFalse\u001b[0m\u001b[0;34m\u001b[0m\u001b[0;34m\u001b[0m\u001b[0m\n",
      "\u001b[0;32m/software/anaconda3/2021.11/lib/python3.9/gzip.py\u001b[0m in \u001b[0;36mread\u001b[0;34m(self, size)\u001b[0m\n\u001b[1;32m     94\u001b[0m             \u001b[0mself\u001b[0m\u001b[0;34m.\u001b[0m\u001b[0m_read\u001b[0m \u001b[0;34m=\u001b[0m \u001b[0;32mNone\u001b[0m\u001b[0;34m\u001b[0m\u001b[0;34m\u001b[0m\u001b[0m\n\u001b[1;32m     95\u001b[0m             \u001b[0;32mreturn\u001b[0m \u001b[0mself\u001b[0m\u001b[0;34m.\u001b[0m\u001b[0m_buffer\u001b[0m\u001b[0;34m[\u001b[0m\u001b[0mread\u001b[0m\u001b[0;34m:\u001b[0m\u001b[0;34m]\u001b[0m \u001b[0;34m+\u001b[0m\u001b[0;31m \u001b[0m\u001b[0;31m\\\u001b[0m\u001b[0;34m\u001b[0m\u001b[0;34m\u001b[0m\u001b[0m\n\u001b[0;32m---> 96\u001b[0;31m                    \u001b[0mself\u001b[0m\u001b[0;34m.\u001b[0m\u001b[0mfile\u001b[0m\u001b[0;34m.\u001b[0m\u001b[0mread\u001b[0m\u001b[0;34m(\u001b[0m\u001b[0msize\u001b[0m\u001b[0;34m-\u001b[0m\u001b[0mself\u001b[0m\u001b[0;34m.\u001b[0m\u001b[0m_length\u001b[0m\u001b[0;34m+\u001b[0m\u001b[0mread\u001b[0m\u001b[0;34m)\u001b[0m\u001b[0;34m\u001b[0m\u001b[0;34m\u001b[0m\u001b[0m\n\u001b[0m\u001b[1;32m     97\u001b[0m \u001b[0;34m\u001b[0m\u001b[0m\n\u001b[1;32m     98\u001b[0m     \u001b[0;32mdef\u001b[0m \u001b[0mprepend\u001b[0m\u001b[0;34m(\u001b[0m\u001b[0mself\u001b[0m\u001b[0;34m,\u001b[0m \u001b[0mprepend\u001b[0m\u001b[0;34m=\u001b[0m\u001b[0;34mb''\u001b[0m\u001b[0;34m)\u001b[0m\u001b[0;34m:\u001b[0m\u001b[0;34m\u001b[0m\u001b[0;34m\u001b[0m\u001b[0m\n",
      "\u001b[0;31mKeyboardInterrupt\u001b[0m: "
     ]
    }
   ],
   "source": [
    "#the folder where all downloaded files in a network located\n",
    "folder_path = '/gpfs/fs2/scratch/tolugboj_lab/Prj4c_OJP/2_Data/OJ/fetch_NOISE-master/removed_response_output/YL'\n",
    "\n",
    "#the folder that store all files in a network after removing response. You need to create this folder first.\n",
    "output_folder = '/gpfs/fs2/scratch/tolugboj_lab/Prj4c_OJP/2_Data/OJ/fetch_NOISE-master/removed_response_output/IU'\n",
    "\n",
    "sac_files = []\n",
    "\n",
    "# loop through all station folders in the network folder\n",
    "for station_folder in os.listdir(folder_path):\n",
    "    station_folder_path = os.path.join(folder_path, station_folder)\n",
    "    for root, dirs, files in os.walk(station_folder_path):\n",
    "        # loop through all files in the station folder\n",
    "        for file in files:\n",
    "            if file.endswith(\".sac\"):\n",
    "                # add file to sac_files list\n",
    "                sac_files.append(os.path.join(root, file))\n",
    "\n",
    "# count files that need to remove response\n",
    "count = len(sac_files)\n",
    "print(count)\n",
    "\n",
    "#progress bar\n",
    "pbar = tqdm(total=len(sac_files))\n",
    "\n",
    "# list to store files with errors\n",
    "abnormal_sac_files = []\n",
    "\n",
    "# Load all SAC files in sac_files list using ObsPy\n",
    "for sac_file in sac_files:\n",
    "    st = read(sac_file)\n",
    "    print(st)"
   ]
  },
  {
   "cell_type": "code",
   "execution_count": null,
   "metadata": {},
   "outputs": [],
   "source": []
  }
 ],
 "metadata": {
  "kernelspec": {
   "display_name": "Python 3 (anaconda3 2021.11)",
   "language": "python",
   "name": "anaconda3-2021.11"
  },
  "language_info": {
   "codemirror_mode": {
    "name": "ipython",
    "version": 3
   },
   "file_extension": ".py",
   "mimetype": "text/x-python",
   "name": "python",
   "nbconvert_exporter": "python",
   "pygments_lexer": "ipython3",
   "version": "3.9.7"
  }
 },
 "nbformat": 4,
 "nbformat_minor": 2
}
